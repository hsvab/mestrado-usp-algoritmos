{
 "cells": [
  {
   "cell_type": "code",
   "execution_count": 31,
   "metadata": {
    "collapsed": false
   },
   "outputs": [],
   "source": [
    "from IPython.display import display #from IPython.core.display import HTML\n",
    "\n",
    "import pandas as pd\n",
    "pd.set_option('display.mpl_style', 'default') #Make the graphs a bit prettier\n",
    "\n",
    "#Variable to avoid log prints when generating pdf file\n",
    "impressao = False #True = to not print logs | False = to print logs"
   ]
  },
  {
   "cell_type": "markdown",
   "metadata": {},
   "source": [
    "--------\n",
    "##Funções gerais"
   ]
  },
  {
   "cell_type": "code",
   "execution_count": 32,
   "metadata": {
    "collapsed": true
   },
   "outputs": [],
   "source": [
    "def consulta_refext(row, name_file, name_col_ref, name_col_filt, name_col_search):\n",
    "    \"\"\"\n",
    "    Traz valor de referência externa (em arquivo csv) baseado em valor de referência do arquivo de origem.\n",
    "    O primeiro argumento passado é a \"linha\".\n",
    "    O segundo argumento é o nome do arquivo csv que será consultado (indicar o nome com a extensão .csv)\n",
    "    O terceiro argumento é o nome da coluna no dataframe (.csv) consultado que servirá de refência para a localização \n",
    "    O quarto argumento é o nome da coluna de filtro do dataframe atual\n",
    "    O quinto argumento é o nome da coluna no dataframe (.csv) consultado que contém o valor a ser retornado.\n",
    "        Uso:\n",
    "        od2007_ex['coluna a receber o valor'] = od2007_ex.apply(lambda row: consulta_refext(row, 'filename.csv', 'reference column', 'filter column', 'searched column'), axis=1)\n",
    "    \"\"\"\n",
    "    if row [name_col_filt]==0:\n",
    "        return row[name_col_filt]\n",
    "    data_frame = pd.read_csv(name_file,sep=';')\n",
    "    return int(data_frame[data_frame[name_col_ref]==row[name_col_filt]][name_col_search])"
   ]
  },
  {
   "cell_type": "code",
   "execution_count": 33,
   "metadata": {
    "collapsed": false
   },
   "outputs": [],
   "source": [
    "def verifica_DUMMY(data_frame, nome_variavel):\n",
    "    \"\"\"\n",
    "    Verifica se uma variável, dummy, contém algum valor diferente de 0 ou de 1.\n",
    "        Uso:\n",
    "        verifica_DUMMY(nome_do_dataframe, 'coluna a ser verificada')\n",
    "    \"\"\"\n",
    "    contador_de_erros = 0\n",
    "    for index, value in data_frame.iterrows():\n",
    "        if int(value[nome_variavel]) != 1 and int(value[nome_variavel]) != 0:\n",
    "            if not impressao:\n",
    "                print(\"Erro encontrado no registro \" + str(index+1) + \".\")\n",
    "                print(\"    Valor encontrado: \" + str(value[nome_variavel]))\n",
    "            contador_de_erros += 1\n",
    "    print(\"Total de erros encontrados: \" + str(contador_de_erros))"
   ]
  },
  {
   "cell_type": "code",
   "execution_count": 34,
   "metadata": {
    "collapsed": true
   },
   "outputs": [],
   "source": [
    "def verifica_RANGE(df, variavel, valor_menor, valor_maior):\n",
    "    \"\"\"\n",
    "    Verifica se uma variável, do tipo número inteiro, contém algum valor menor que \"valor_menor\" ou maior que \"valor_maior\"\n",
    "        Uso:\n",
    "        verifica_RANGE(nome_do_dataframe, 'coluna a ser verificada', 'valor_menor', 'valor_maior')\n",
    "    \"\"\"\n",
    "    df_filtrado = df[(df[variavel]<valor_menor) | (df[variavel]>valor_maior)]\n",
    "    #Printing a summary of the values that not fit in the Range\n",
    "    result = df_filtrado[variavel].value_counts()\n",
    "    print(result)\n",
    "    #If 'impressao = False', the output contains the values of dataframe that do not fit in the filter\n",
    "    if not impressao:\n",
    "        df_filtrado"
   ]
  },
  {
   "cell_type": "code",
   "execution_count": 35,
   "metadata": {
    "collapsed": true
   },
   "outputs": [],
   "source": [
    "def gera_ID_DOM(row):\n",
    "    \"\"\"\n",
    "    Gera o ID_DOM baseado no 'ANO', na 'ZONA_DOM' e no 'NO_DOM'\n",
    "    O argumento passado é a \"linha\".\n",
    "        Uso:\n",
    "        od2007_ex['ID_DOM'] = od2007_ex.apply(lambda row: gera_ID_DOM(row), axis=1)\n",
    "    \"\"\"\n",
    "    ano = int(row['ANO'])\n",
    "    zona = int(row['ZONA_DOM'])\n",
    "    no_dom = int(row['NO_DOM'])\n",
    "    return int(str(ano)+str('%03d'%(zona)) + str('%04d'%(no_dom)))"
   ]
  },
  {
   "cell_type": "code",
   "execution_count": 36,
   "metadata": {
    "collapsed": true
   },
   "outputs": [],
   "source": [
    "def gera_ID_FAM(row):\n",
    "    \"\"\"\n",
    "    Gera o ID_FAM baseado no 'ID_DOM' e no 'NO_FAM'\n",
    "    O argumento passado é a \"linha\".\n",
    "        Uso:\n",
    "        od2007_ex['ID_FAM'] = od2007_ex.apply(lambda row: gera_ID_FAM(row), axis=1)\n",
    "    \"\"\"\n",
    "    id_dom = int(row['ID_DOM'])\n",
    "    no_fam = int(row['NO_FAM'])\n",
    "    return int(str(id_dom) + str('%02d'%(no_fam)))"
   ]
  },
  {
   "cell_type": "code",
   "execution_count": 37,
   "metadata": {
    "collapsed": true
   },
   "outputs": [],
   "source": [
    "def gera_ID_PESS(row):\n",
    "    \"\"\"\n",
    "    Gera o ID_PESS baseado no 'ID_FAM' e no 'NO_PESS'\n",
    "    O argumento passado é a \"linha\".\n",
    "        Uso:\n",
    "        od2007_ex['ID_PESS'] = od2007_ex.apply(lambda row: gera_ID_PESS(row), axis=1)\n",
    "    \"\"\"\n",
    "    id_fam = int(row['ID_FAM'])\n",
    "    no_pess = int(row['NO_PESS'])\n",
    "    return int(str(id_fam) + str('%02d'%(no_pess)))"
   ]
  },
  {
   "cell_type": "code",
   "execution_count": 38,
   "metadata": {
    "collapsed": true
   },
   "outputs": [],
   "source": [
    "def gera_ID_VIAG(row):\n",
    "    \"\"\"\n",
    "    Gera o ID_VIAG baseado no 'ID_PESS' e no 'NO_VIAG'\n",
    "    O argumento passado é a \"linha\".\n",
    "        Uso:\n",
    "        od2007_ex['ID_VIAG'] = od2007_ex.apply(lambda row: gera_ID_VIAG(row), axis=1)\n",
    "    \"\"\"\n",
    "    id_pess = int(row['ID_PESS'])\n",
    "    no_viag = int(row['NO_VIAG'])\n",
    "    return int(str(id_pess) + str('%02d'%(no_viag)))"
   ]
  },
  {
   "cell_type": "markdown",
   "metadata": {},
   "source": [
    "----"
   ]
  },
  {
   "cell_type": "code",
   "execution_count": 39,
   "metadata": {
    "collapsed": false
   },
   "outputs": [],
   "source": [
    "#Reading csv file and store its contend in an intern dataframe\n",
    "od2007 = pd.read_csv('OD_2007_v2d.csv', sep=';', decimal=',')"
   ]
  },
  {
   "cell_type": "code",
   "execution_count": 40,
   "metadata": {
    "collapsed": false
   },
   "outputs": [],
   "source": [
    "#Reading csv file and store its contend in an intern dataframe\n",
    "addcol_2007 = pd.read_csv('OD_2007_addcol.csv', sep=';', decimal=',')"
   ]
  },
  {
   "cell_type": "code",
   "execution_count": 41,
   "metadata": {
    "collapsed": true
   },
   "outputs": [],
   "source": [
    "#Replacing a column from a dataframe to another\n",
    "od2007['OCUP'] = addcol_2007['CD_ATIV']"
   ]
  },
  {
   "cell_type": "code",
   "execution_count": 42,
   "metadata": {
    "collapsed": false
   },
   "outputs": [],
   "source": [
    "#Renaming the column UCOD to UCOD_DOM\n",
    "od2007.rename(columns={'UCOD':'UCOD_DOM'}, inplace=True)"
   ]
  },
  {
   "cell_type": "code",
   "execution_count": 43,
   "metadata": {
    "collapsed": true
   },
   "outputs": [],
   "source": [
    "#Creating the column UCOD_ESC (it will go to the end of dataframe)\n",
    "od2007['UCOD_ESC']=None"
   ]
  },
  {
   "cell_type": "code",
   "execution_count": 44,
   "metadata": {
    "collapsed": true
   },
   "outputs": [],
   "source": [
    "#Creating the column UCOD_TRAB1 (it will go to the end of dataframe)\n",
    "od2007['UCOD_TRAB1']=None"
   ]
  },
  {
   "cell_type": "code",
   "execution_count": 45,
   "metadata": {
    "collapsed": true
   },
   "outputs": [],
   "source": [
    "#Creating the column UCOD_TRAB2 (it will go to the end of dataframe)\n",
    "od2007['UCOD_TRAB2']=None"
   ]
  },
  {
   "cell_type": "code",
   "execution_count": 46,
   "metadata": {
    "collapsed": true
   },
   "outputs": [],
   "source": [
    "#Creating the column UCOD_ORIG (it will go to the end of dataframe)\n",
    "od2007['UCOD_ORIG']=None"
   ]
  },
  {
   "cell_type": "code",
   "execution_count": 47,
   "metadata": {
    "collapsed": false
   },
   "outputs": [],
   "source": [
    "#Creating the column UCOD_DEST (it will go to the end of dataframe)\n",
    "od2007['UCOD_DEST']=None"
   ]
  },
  {
   "cell_type": "code",
   "execution_count": 48,
   "metadata": {
    "collapsed": true
   },
   "outputs": [],
   "source": [
    "od2007 = od2007[:5000]"
   ]
  },
  {
   "cell_type": "code",
   "execution_count": 49,
   "metadata": {
    "collapsed": false
   },
   "outputs": [],
   "source": [
    "#Reordering the columns, precisely, these that were just created (at the end of dataframe) near to other contend related variables\n",
    "od2007 = od2007[['ANO',\n",
    " 'CD_ENTRE',\n",
    " 'DIA_SEM',\n",
    " 'UCOD_DOM',\n",
    " 'ZONA_DOM',\n",
    " 'SUBZONA_DOM',\n",
    " 'MUN_DOM',\n",
    " 'CO_DOM_X',\n",
    " 'CO_DOM_Y',\n",
    " 'ID_DOM',\n",
    " 'F_DOM',\n",
    " 'FE_DOM',\n",
    " 'NO_DOM',\n",
    " 'TIPO_DOM',\n",
    " 'TOT_FAM',\n",
    " 'ID_FAM',\n",
    " 'F_FAM',\n",
    " 'FE_FAM',\n",
    " 'NO_FAM',\n",
    " 'COND_MORA',\n",
    " 'QT_AUTO',\n",
    " 'QT_BICI',\n",
    " 'QT_MOTO',\n",
    " 'CD_RENFAM',\n",
    " 'REN_FAM',\n",
    " 'ID_PESS',\n",
    " 'F_PESS',\n",
    " 'FE_PESS',\n",
    " 'NO_PESS',\n",
    " 'SIT_FAM',\n",
    " 'IDADE',\n",
    " 'SEXO',\n",
    " 'ESTUDA',\n",
    " 'GRAU_INSTR',\n",
    " 'OCUP',\n",
    " 'SETOR_ATIV',\n",
    " 'CD_RENIND',\n",
    " 'REN_IND',\n",
    " 'UCOD_ESC',\n",
    " 'ZONA_ESC',\n",
    " 'SUBZONA_ESC',\n",
    " 'MUN_ESC',\n",
    " 'CO_ESC_X',\n",
    " 'CO_ESC_Y',\n",
    " 'UCOD_TRAB1',                      \n",
    " 'ZONA_TRAB1',\n",
    " 'SUBZONA_TRAB1',\n",
    " 'MUN_TRAB1',\n",
    " 'CO_TRAB1_X',\n",
    " 'CO_TRAB1_Y',\n",
    " 'UCOD_TRAB2',\n",
    " 'ZONA_TRAB2',\n",
    " 'SUBZONA_TRAB2',\n",
    " 'MUN_TRAB2',\n",
    " 'CO_TRAB2_X',\n",
    " 'CO_TRAB2_Y',\n",
    " 'ID_VIAG',\n",
    " 'F_VIAG',\n",
    " 'FE_VIAG',\n",
    " 'NO_VIAG',\n",
    " 'TOT_VIAG',\n",
    " 'UCOD_ORIG',\n",
    " 'ZONA_ORIG',\n",
    " 'SUBZONA_ORIG',\n",
    " 'MUN_ORIG',\n",
    " 'CO_ORIG_X',\n",
    " 'CO_ORIG_Y',\n",
    " 'UCOD_DEST',\n",
    " 'ZONA_DEST',\n",
    " 'SUBZONA_DEST',\n",
    " 'MUN_DEST',\n",
    " 'CO_DEST_X',\n",
    " 'CO_DEST_Y',\n",
    " 'DIST_VIAG',\n",
    " 'MOTIVO_ORIG',\n",
    " 'MOTIVO_DEST',\n",
    " 'MODO1',\n",
    " 'MODO2',\n",
    " 'MODO3',\n",
    " 'MODO4',\n",
    " 'MODO_PRIN',\n",
    " 'TIPO_VIAG',\n",
    " 'H_SAIDA',\n",
    " 'MIN_SAIDA',\n",
    " 'ANDA_ORIG',\n",
    " 'H_CHEG',\n",
    " 'MIN_CHEG',\n",
    " 'ANDA_DEST',\n",
    " 'DURACAO',\n",
    " 'TIPO_EST_AUTO',\n",
    " 'VALOR_EST_AUTO']]"
   ]
  },
  {
   "cell_type": "code",
   "execution_count": 50,
   "metadata": {
    "collapsed": false
   },
   "outputs": [
    {
     "data": {
      "text/plain": [
       "['ANO',\n",
       " 'CD_ENTRE',\n",
       " 'DIA_SEM',\n",
       " 'UCOD_DOM',\n",
       " 'ZONA_DOM',\n",
       " 'SUBZONA_DOM',\n",
       " 'MUN_DOM',\n",
       " 'CO_DOM_X',\n",
       " 'CO_DOM_Y',\n",
       " 'ID_DOM',\n",
       " 'F_DOM',\n",
       " 'FE_DOM',\n",
       " 'NO_DOM',\n",
       " 'TIPO_DOM',\n",
       " 'TOT_FAM',\n",
       " 'ID_FAM',\n",
       " 'F_FAM',\n",
       " 'FE_FAM',\n",
       " 'NO_FAM',\n",
       " 'COND_MORA',\n",
       " 'QT_AUTO',\n",
       " 'QT_BICI',\n",
       " 'QT_MOTO',\n",
       " 'CD_RENFAM',\n",
       " 'REN_FAM',\n",
       " 'ID_PESS',\n",
       " 'F_PESS',\n",
       " 'FE_PESS',\n",
       " 'NO_PESS',\n",
       " 'SIT_FAM',\n",
       " 'IDADE',\n",
       " 'SEXO',\n",
       " 'ESTUDA',\n",
       " 'GRAU_INSTR',\n",
       " 'OCUP',\n",
       " 'SETOR_ATIV',\n",
       " 'CD_RENIND',\n",
       " 'REN_IND',\n",
       " 'UCOD_ESC',\n",
       " 'ZONA_ESC',\n",
       " 'SUBZONA_ESC',\n",
       " 'MUN_ESC',\n",
       " 'CO_ESC_X',\n",
       " 'CO_ESC_Y',\n",
       " 'UCOD_TRAB1',\n",
       " 'ZONA_TRAB1',\n",
       " 'SUBZONA_TRAB1',\n",
       " 'MUN_TRAB1',\n",
       " 'CO_TRAB1_X',\n",
       " 'CO_TRAB1_Y',\n",
       " 'UCOD_TRAB2',\n",
       " 'ZONA_TRAB2',\n",
       " 'SUBZONA_TRAB2',\n",
       " 'MUN_TRAB2',\n",
       " 'CO_TRAB2_X',\n",
       " 'CO_TRAB2_Y',\n",
       " 'ID_VIAG',\n",
       " 'F_VIAG',\n",
       " 'FE_VIAG',\n",
       " 'NO_VIAG',\n",
       " 'TOT_VIAG',\n",
       " 'UCOD_ORIG',\n",
       " 'ZONA_ORIG',\n",
       " 'SUBZONA_ORIG',\n",
       " 'MUN_ORIG',\n",
       " 'CO_ORIG_X',\n",
       " 'CO_ORIG_Y',\n",
       " 'UCOD_DEST',\n",
       " 'ZONA_DEST',\n",
       " 'SUBZONA_DEST',\n",
       " 'MUN_DEST',\n",
       " 'CO_DEST_X',\n",
       " 'CO_DEST_Y',\n",
       " 'DIST_VIAG',\n",
       " 'MOTIVO_ORIG',\n",
       " 'MOTIVO_DEST',\n",
       " 'MODO1',\n",
       " 'MODO2',\n",
       " 'MODO3',\n",
       " 'MODO4',\n",
       " 'MODO_PRIN',\n",
       " 'TIPO_VIAG',\n",
       " 'H_SAIDA',\n",
       " 'MIN_SAIDA',\n",
       " 'ANDA_ORIG',\n",
       " 'H_CHEG',\n",
       " 'MIN_CHEG',\n",
       " 'ANDA_DEST',\n",
       " 'DURACAO',\n",
       " 'TIPO_EST_AUTO',\n",
       " 'VALOR_EST_AUTO']"
      ]
     },
     "metadata": {},
     "output_type": "display_data"
    }
   ],
   "source": [
    "#Storing the variables list in the \"cols\" variable\n",
    "cols = od2007.columns.tolist()\n",
    "if not impressao:\n",
    "    #printing \"cols\" variable to check if the reorder operation was effective\n",
    "    display(cols)"
   ]
  },
  {
   "cell_type": "code",
   "execution_count": 51,
   "metadata": {
    "collapsed": false
   },
   "outputs": [
    {
     "data": {
      "text/html": [
       "<div style=\"max-height:1000px;max-width:1500px;overflow:auto;\">\n",
       "<table border=\"1\" class=\"dataframe\">\n",
       "  <thead>\n",
       "    <tr style=\"text-align: right;\">\n",
       "      <th></th>\n",
       "      <th>ANO</th>\n",
       "      <th>CD_ENTRE</th>\n",
       "      <th>DIA_SEM</th>\n",
       "      <th>UCOD_DOM</th>\n",
       "      <th>ZONA_DOM</th>\n",
       "      <th>SUBZONA_DOM</th>\n",
       "      <th>MUN_DOM</th>\n",
       "      <th>CO_DOM_X</th>\n",
       "      <th>CO_DOM_Y</th>\n",
       "      <th>ID_DOM</th>\n",
       "      <th>...</th>\n",
       "      <th>TIPO_VIAG</th>\n",
       "      <th>H_SAIDA</th>\n",
       "      <th>MIN_SAIDA</th>\n",
       "      <th>ANDA_ORIG</th>\n",
       "      <th>H_CHEG</th>\n",
       "      <th>MIN_CHEG</th>\n",
       "      <th>ANDA_DEST</th>\n",
       "      <th>DURACAO</th>\n",
       "      <th>TIPO_EST_AUTO</th>\n",
       "      <th>VALOR_EST_AUTO</th>\n",
       "    </tr>\n",
       "  </thead>\n",
       "  <tbody>\n",
       "    <tr>\n",
       "      <th>count</th>\n",
       "      <td>0</td>\n",
       "      <td>5000.000000</td>\n",
       "      <td>5000.000000</td>\n",
       "      <td>0</td>\n",
       "      <td>5000.000000</td>\n",
       "      <td>0</td>\n",
       "      <td>5000</td>\n",
       "      <td>5000.000000</td>\n",
       "      <td>5000.000000</td>\n",
       "      <td>5000.000000</td>\n",
       "      <td>...</td>\n",
       "      <td>5000.000000</td>\n",
       "      <td>5000.000000</td>\n",
       "      <td>5000.000000</td>\n",
       "      <td>5000.000000</td>\n",
       "      <td>5000.000000</td>\n",
       "      <td>5000.00000</td>\n",
       "      <td>5000.000000</td>\n",
       "      <td>5000.000000</td>\n",
       "      <td>5000.000000</td>\n",
       "      <td>5000.000000</td>\n",
       "    </tr>\n",
       "    <tr>\n",
       "      <th>mean</th>\n",
       "      <td>NaN</td>\n",
       "      <td>5.955000</td>\n",
       "      <td>3.505800</td>\n",
       "      <td>NaN</td>\n",
       "      <td>6.196600</td>\n",
       "      <td>NaN</td>\n",
       "      <td>36</td>\n",
       "      <td>333194.919400</td>\n",
       "      <td>7396076.016600</td>\n",
       "      <td>63683.969000</td>\n",
       "      <td>...</td>\n",
       "      <td>1.944200</td>\n",
       "      <td>11.159000</td>\n",
       "      <td>15.863200</td>\n",
       "      <td>1.708400</td>\n",
       "      <td>11.415000</td>\n",
       "      <td>18.36280</td>\n",
       "      <td>1.680600</td>\n",
       "      <td>24.195600</td>\n",
       "      <td>0.329800</td>\n",
       "      <td>0.961800</td>\n",
       "    </tr>\n",
       "    <tr>\n",
       "      <th>std</th>\n",
       "      <td>NaN</td>\n",
       "      <td>0.207325</td>\n",
       "      <td>2.022074</td>\n",
       "      <td>NaN</td>\n",
       "      <td>2.768299</td>\n",
       "      <td>NaN</td>\n",
       "      <td>0</td>\n",
       "      <td>1054.619144</td>\n",
       "      <td>1254.622705</td>\n",
       "      <td>27216.197166</td>\n",
       "      <td>...</td>\n",
       "      <td>1.152281</td>\n",
       "      <td>6.536778</td>\n",
       "      <td>18.340681</td>\n",
       "      <td>3.703473</td>\n",
       "      <td>6.613919</td>\n",
       "      <td>18.10171</td>\n",
       "      <td>3.592654</td>\n",
       "      <td>25.497462</td>\n",
       "      <td>1.212488</td>\n",
       "      <td>12.430287</td>\n",
       "    </tr>\n",
       "    <tr>\n",
       "      <th>min</th>\n",
       "      <td>NaN</td>\n",
       "      <td>5.000000</td>\n",
       "      <td>0.000000</td>\n",
       "      <td>NaN</td>\n",
       "      <td>1.000000</td>\n",
       "      <td>NaN</td>\n",
       "      <td>36</td>\n",
       "      <td>331372.000000</td>\n",
       "      <td>7393989.000000</td>\n",
       "      <td>10001.000000</td>\n",
       "      <td>...</td>\n",
       "      <td>0.000000</td>\n",
       "      <td>0.000000</td>\n",
       "      <td>0.000000</td>\n",
       "      <td>0.000000</td>\n",
       "      <td>0.000000</td>\n",
       "      <td>0.00000</td>\n",
       "      <td>0.000000</td>\n",
       "      <td>0.000000</td>\n",
       "      <td>0.000000</td>\n",
       "      <td>0.000000</td>\n",
       "    </tr>\n",
       "    <tr>\n",
       "      <th>25%</th>\n",
       "      <td>NaN</td>\n",
       "      <td>6.000000</td>\n",
       "      <td>2.000000</td>\n",
       "      <td>NaN</td>\n",
       "      <td>4.000000</td>\n",
       "      <td>NaN</td>\n",
       "      <td>36</td>\n",
       "      <td>332308.000000</td>\n",
       "      <td>7394890.000000</td>\n",
       "      <td>41447.000000</td>\n",
       "      <td>...</td>\n",
       "      <td>1.000000</td>\n",
       "      <td>7.000000</td>\n",
       "      <td>0.000000</td>\n",
       "      <td>0.000000</td>\n",
       "      <td>7.000000</td>\n",
       "      <td>0.00000</td>\n",
       "      <td>0.000000</td>\n",
       "      <td>7.000000</td>\n",
       "      <td>0.000000</td>\n",
       "      <td>0.000000</td>\n",
       "    </tr>\n",
       "    <tr>\n",
       "      <th>50%</th>\n",
       "      <td>NaN</td>\n",
       "      <td>6.000000</td>\n",
       "      <td>4.000000</td>\n",
       "      <td>NaN</td>\n",
       "      <td>6.000000</td>\n",
       "      <td>NaN</td>\n",
       "      <td>36</td>\n",
       "      <td>332999.500000</td>\n",
       "      <td>7396106.000000</td>\n",
       "      <td>67044.000000</td>\n",
       "      <td>...</td>\n",
       "      <td>2.000000</td>\n",
       "      <td>12.000000</td>\n",
       "      <td>0.000000</td>\n",
       "      <td>0.000000</td>\n",
       "      <td>12.000000</td>\n",
       "      <td>15.00000</td>\n",
       "      <td>0.000000</td>\n",
       "      <td>15.000000</td>\n",
       "      <td>0.000000</td>\n",
       "      <td>0.000000</td>\n",
       "    </tr>\n",
       "    <tr>\n",
       "      <th>75%</th>\n",
       "      <td>NaN</td>\n",
       "      <td>6.000000</td>\n",
       "      <td>5.000000</td>\n",
       "      <td>NaN</td>\n",
       "      <td>8.000000</td>\n",
       "      <td>NaN</td>\n",
       "      <td>36</td>\n",
       "      <td>333780.000000</td>\n",
       "      <td>7397231.000000</td>\n",
       "      <td>81210.000000</td>\n",
       "      <td>...</td>\n",
       "      <td>3.000000</td>\n",
       "      <td>17.000000</td>\n",
       "      <td>30.000000</td>\n",
       "      <td>1.000000</td>\n",
       "      <td>17.000000</td>\n",
       "      <td>30.00000</td>\n",
       "      <td>1.000000</td>\n",
       "      <td>30.000000</td>\n",
       "      <td>0.000000</td>\n",
       "      <td>0.000000</td>\n",
       "    </tr>\n",
       "    <tr>\n",
       "      <th>max</th>\n",
       "      <td>NaN</td>\n",
       "      <td>6.000000</td>\n",
       "      <td>6.000000</td>\n",
       "      <td>NaN</td>\n",
       "      <td>11.000000</td>\n",
       "      <td>NaN</td>\n",
       "      <td>36</td>\n",
       "      <td>336071.000000</td>\n",
       "      <td>7398071.000000</td>\n",
       "      <td>111201.000000</td>\n",
       "      <td>...</td>\n",
       "      <td>4.000000</td>\n",
       "      <td>23.000000</td>\n",
       "      <td>59.000000</td>\n",
       "      <td>40.000000</td>\n",
       "      <td>23.000000</td>\n",
       "      <td>58.00000</td>\n",
       "      <td>40.000000</td>\n",
       "      <td>210.000000</td>\n",
       "      <td>8.000000</td>\n",
       "      <td>500.000000</td>\n",
       "    </tr>\n",
       "  </tbody>\n",
       "</table>\n",
       "<p>8 rows × 86 columns</p>\n",
       "</div>"
      ],
      "text/plain": [
       "       ANO     CD_ENTRE      DIA_SEM  UCOD_DOM     ZONA_DOM  SUBZONA_DOM  \\\n",
       "count    0  5000.000000  5000.000000         0  5000.000000            0   \n",
       "mean   NaN     5.955000     3.505800       NaN     6.196600          NaN   \n",
       "std    NaN     0.207325     2.022074       NaN     2.768299          NaN   \n",
       "min    NaN     5.000000     0.000000       NaN     1.000000          NaN   \n",
       "25%    NaN     6.000000     2.000000       NaN     4.000000          NaN   \n",
       "50%    NaN     6.000000     4.000000       NaN     6.000000          NaN   \n",
       "75%    NaN     6.000000     5.000000       NaN     8.000000          NaN   \n",
       "max    NaN     6.000000     6.000000       NaN    11.000000          NaN   \n",
       "\n",
       "       MUN_DOM       CO_DOM_X        CO_DOM_Y         ID_DOM       ...        \\\n",
       "count     5000    5000.000000     5000.000000    5000.000000       ...         \n",
       "mean        36  333194.919400  7396076.016600   63683.969000       ...         \n",
       "std          0    1054.619144     1254.622705   27216.197166       ...         \n",
       "min         36  331372.000000  7393989.000000   10001.000000       ...         \n",
       "25%         36  332308.000000  7394890.000000   41447.000000       ...         \n",
       "50%         36  332999.500000  7396106.000000   67044.000000       ...         \n",
       "75%         36  333780.000000  7397231.000000   81210.000000       ...         \n",
       "max         36  336071.000000  7398071.000000  111201.000000       ...         \n",
       "\n",
       "         TIPO_VIAG      H_SAIDA    MIN_SAIDA    ANDA_ORIG       H_CHEG  \\\n",
       "count  5000.000000  5000.000000  5000.000000  5000.000000  5000.000000   \n",
       "mean      1.944200    11.159000    15.863200     1.708400    11.415000   \n",
       "std       1.152281     6.536778    18.340681     3.703473     6.613919   \n",
       "min       0.000000     0.000000     0.000000     0.000000     0.000000   \n",
       "25%       1.000000     7.000000     0.000000     0.000000     7.000000   \n",
       "50%       2.000000    12.000000     0.000000     0.000000    12.000000   \n",
       "75%       3.000000    17.000000    30.000000     1.000000    17.000000   \n",
       "max       4.000000    23.000000    59.000000    40.000000    23.000000   \n",
       "\n",
       "         MIN_CHEG    ANDA_DEST      DURACAO  TIPO_EST_AUTO  VALOR_EST_AUTO  \n",
       "count  5000.00000  5000.000000  5000.000000    5000.000000     5000.000000  \n",
       "mean     18.36280     1.680600    24.195600       0.329800        0.961800  \n",
       "std      18.10171     3.592654    25.497462       1.212488       12.430287  \n",
       "min       0.00000     0.000000     0.000000       0.000000        0.000000  \n",
       "25%       0.00000     0.000000     7.000000       0.000000        0.000000  \n",
       "50%      15.00000     0.000000    15.000000       0.000000        0.000000  \n",
       "75%      30.00000     1.000000    30.000000       0.000000        0.000000  \n",
       "max      58.00000    40.000000   210.000000       8.000000      500.000000  \n",
       "\n",
       "[8 rows x 86 columns]"
      ]
     },
     "metadata": {},
     "output_type": "display_data"
    }
   ],
   "source": [
    "if not impressao:\n",
    "    #Describing data (whole dataframe)- count, mean, std, min and max\n",
    "    display(od2007.describe())"
   ]
  },
  {
   "cell_type": "markdown",
   "metadata": {},
   "source": [
    "-----\n",
    "##Passo 1: UCOD_DOM\n",
    "Na coluna \"UCOD_DOM\", linha i, ler o valor da linha i da coluna \"ZONA_DOM\", daí, buscar o mesmo valor na coluna \"Zona 2007\" do arquivo UCOD-2007.csv. Ao achar, retornar o valor da mesma linha, só que da coluna \"UCOD_DOM\"\n",
    "\n",
    "[Teste: no banco completo, checar se o min == 1 e o max == 67]"
   ]
  },
  {
   "cell_type": "code",
   "execution_count": 52,
   "metadata": {
    "collapsed": false
   },
   "outputs": [],
   "source": [
    "#Getting from the csv file the \"UCOD\" code correspondent to the \"ZONA_DOM\" code\n",
    "od2007['UCOD_DOM'] = od2007.apply(lambda row: consulta_refext(row, 'UCOD-2007.csv', 'Zona 2007', 'ZONA_DOM', 'UCOD'), axis=1)"
   ]
  },
  {
   "cell_type": "code",
   "execution_count": 53,
   "metadata": {
    "collapsed": false
   },
   "outputs": [
    {
     "data": {
      "text/plain": [
       "count    5000.000000\n",
       "mean        2.559400\n",
       "std         1.673748\n",
       "min         1.000000\n",
       "25%         1.000000\n",
       "50%         1.000000\n",
       "75%         4.000000\n",
       "max         5.000000\n",
       "Name: UCOD_DOM, dtype: float64"
      ]
     },
     "metadata": {},
     "output_type": "display_data"
    }
   ],
   "source": [
    "if not impressao:\n",
    "    #Describing data (\"UCOD_DOM\" column) - count, mean, std, min and max\n",
    "    display(od2007['UCOD_DOM'].describe())"
   ]
  },
  {
   "cell_type": "code",
   "execution_count": 54,
   "metadata": {
    "collapsed": false
   },
   "outputs": [
    {
     "data": {
      "text/plain": [
       "1    2632\n",
       "4    1675\n",
       "5     693\n",
       "dtype: int64"
      ]
     },
     "metadata": {},
     "output_type": "display_data"
    }
   ],
   "source": [
    "if not impressao:\n",
    "    #Count for check \"UCOD_DOM\"\n",
    "    display(od2007['UCOD_DOM'].value_counts())"
   ]
  },
  {
   "cell_type": "code",
   "execution_count": 55,
   "metadata": {
    "collapsed": false
   },
   "outputs": [
    {
     "name": "stdout",
     "output_type": "stream",
     "text": [
      "Series([], dtype: int64)\n"
     ]
    }
   ],
   "source": [
    "#Verifying value interval for check - conditions: \"UCOD_DOM < 1\" and \"UCOD_DOM > 67\"\n",
    "verifica_RANGE(od2007, 'UCOD_DOM', 1, 67)\n",
    "#od2007_ex[(od2007['UCOD_DOM']<1) | (od2007['UCOD_DOM']>67)]"
   ]
  },
  {
   "cell_type": "markdown",
   "metadata": {
    "collapsed": true
   },
   "source": [
    "-----\n",
    "##Passo 2: \"ANO\"\n",
    "Preencher a coluna \"ANO\" com  valor 4 em todas células\n",
    "####Categorias:\n",
    "|valor|ano_correspondente|\n",
    "|-------|-----|\n",
    "|1|1977|\n",
    "|2|1987|\n",
    "|3|1997|\n",
    "|4|2007|"
   ]
  },
  {
   "cell_type": "code",
   "execution_count": 56,
   "metadata": {
    "collapsed": true
   },
   "outputs": [],
   "source": [
    "#Assigning value '4' to all cels of the \"ANO\" column\n",
    "od2007[\"ANO\"]=4"
   ]
  },
  {
   "cell_type": "code",
   "execution_count": 57,
   "metadata": {
    "collapsed": false
   },
   "outputs": [
    {
     "data": {
      "text/plain": [
       "count    5000\n",
       "mean        4\n",
       "std         0\n",
       "min         4\n",
       "25%         4\n",
       "50%         4\n",
       "75%         4\n",
       "max         4\n",
       "Name: ANO, dtype: float64"
      ]
     },
     "metadata": {},
     "output_type": "display_data"
    }
   ],
   "source": [
    "if not impressao:\n",
    "    #Describing data (\"ANO\" column) - count, mean, std, min and max\n",
    "    display(od2007['ANO'].describe())"
   ]
  },
  {
   "cell_type": "markdown",
   "metadata": {},
   "source": [
    "-----\n",
    "##Passo 3: \"CD_ENTRE\"\n",
    "* Substituir todos valores **5** por **0**.\n",
    "* Substituir todos valores **6** por **1**.\n",
    "\n",
    "####Categorias:\n",
    "| Valor | Descricao |\n",
    "| -------- | -------- |\n",
    "| 0 | Completa sem viagem |\n",
    "| 1 | Completa com Viagem |"
   ]
  },
  {
   "cell_type": "code",
   "execution_count": 62,
   "metadata": {
    "collapsed": false
   },
   "outputs": [
    {
     "data": {
      "text/plain": [
       "6    4775\n",
       "5     225\n",
       "dtype: int64"
      ]
     },
     "metadata": {},
     "output_type": "display_data"
    }
   ],
   "source": [
    "if not impressao:\n",
    "    #Counting for check \"CD_ENTRE\"\n",
    "    display(od2007['CD_ENTRE'].value_counts())"
   ]
  },
  {
   "cell_type": "code",
   "execution_count": 63,
   "metadata": {
    "collapsed": false
   },
   "outputs": [],
   "source": [
    "#Replacing the values 5 for 0\n",
    "od2007.loc[od2007['CD_ENTRE']==5,'CD_ENTRE'] = 0\n",
    "#Replacing the values 6 for 1\n",
    "od2007.loc[od2007['CD_ENTRE']==6,'CD_ENTRE'] = 1"
   ]
  },
  {
   "cell_type": "code",
   "execution_count": 64,
   "metadata": {
    "collapsed": false
   },
   "outputs": [
    {
     "data": {
      "text/plain": [
       "1    4775\n",
       "0     225\n",
       "dtype: int64"
      ]
     },
     "metadata": {},
     "output_type": "display_data"
    }
   ],
   "source": [
    "if not impressao:\n",
    "    #Counting \"CD_ENTRE\" in order to compare the values before and after the replacement\n",
    "    display(od2007['CD_ENTRE'].value_counts())"
   ]
  },
  {
   "cell_type": "code",
   "execution_count": 65,
   "metadata": {
    "collapsed": false
   },
   "outputs": [
    {
     "name": "stdout",
     "output_type": "stream",
     "text": [
      "Total de erros encontrados: 0\n"
     ]
    }
   ],
   "source": [
    "#Verifying if there was left some value other than 0 or 1\n",
    "verifica_DUMMY(od2007, 'CD_ENTRE')"
   ]
  },
  {
   "cell_type": "markdown",
   "metadata": {},
   "source": [
    "----\n",
    "##Passo 4: \"DIA_SEM\"\n",
    "Checar se existe algum erro na coluna\n",
    "####Categorias:\n",
    "Valor|Descrição\n",
    "-----|-----\n",
    "0|Não respondeu\n",
    "2|Segunda-Feira\n",
    "3|Terça-Feira\n",
    "4|Quarta-Feira\n",
    "5|Quinta-Feira\n",
    "6|Sexta-Feira\n",
    "\n",
    "[Teste: Checar se existe algum número < 2 ou > 6. Se encontrar, retornar erro indicando em qual linha.]"
   ]
  },
  {
   "cell_type": "code",
   "execution_count": 68,
   "metadata": {
    "collapsed": false
   },
   "outputs": [
    {
     "data": {
      "text/plain": [
       "6    1246\n",
       "2    1078\n",
       "4     886\n",
       "0     705\n",
       "5     549\n",
       "3     536\n",
       "dtype: int64"
      ]
     },
     "metadata": {},
     "output_type": "display_data"
    }
   ],
   "source": [
    "if not impressao:\n",
    "    #Counting for check \"DIA_SEM\"\n",
    "    display(od2007['DIA_SEM'].value_counts())"
   ]
  },
  {
   "cell_type": "code",
   "execution_count": 69,
   "metadata": {
    "collapsed": false,
    "scrolled": true
   },
   "outputs": [
    {
     "name": "stdout",
     "output_type": "stream",
     "text": [
      "0    705\n",
      "dtype: int64\n"
     ]
    }
   ],
   "source": [
    "#Verifying value interval for check - conditions: \"DIA_SEM < 1\" and \"DIA_SEM > 67\"\n",
    "verifica_RANGE(od2007, 'DIA_SEM', 2, 6)\n",
    "#od2007[(od2007['DIA_SEM']<2) | (od2007['DIA_SEM']>6)]['DIA_SEM'].value_counts()"
   ]
  },
  {
   "cell_type": "markdown",
   "metadata": {},
   "source": [
    "-----\n",
    "##Passo 5: \"ZONA_DOM\"\n",
    "Checar se existe algum erro\n",
    "\n",
    "####Categorias:\n",
    "> 1 a 460\n",
    "\n",
    "[Teste: Checar se existe algum número < 1 ou > 460. Se encontrar, retornar erro indicando em qual linha.]"
   ]
  },
  {
   "cell_type": "code",
   "execution_count": 70,
   "metadata": {
    "collapsed": false
   },
   "outputs": [
    {
     "name": "stdout",
     "output_type": "stream",
     "text": [
      "Series([], dtype: int64)\n"
     ]
    }
   ],
   "source": [
    "#Verifying value interval for check - conditions: \"ZONA_DOM < 1\" and \"ZONA_DOM > 460\"\n",
    "#od2007_ex[(od2007['ZONA_DOM']<1) | (od2007['ZONA_DOM']>460)]\n",
    "verifica_RANGE(od2007, 'ZONA_DOM', 1, 460)"
   ]
  },
  {
   "cell_type": "markdown",
   "metadata": {},
   "source": [
    "-----\n",
    "##Passo 6: \"SUBZONA_DOM\"\n",
    "A coluna \"SUBZONA_DOM\" ficará vazia (missing values) em 2007 porque este ano já contém os dados de coordenadas.\n",
    "\n",
    "Para os anos em que esse input não existe originalmente, esse campo é critério para inserção de coordenadas."
   ]
  },
  {
   "cell_type": "markdown",
   "metadata": {},
   "source": [
    "-----\n",
    "##Passo 7: \"MUN_DOM\"\n",
    "Checar se existe algum erro\n",
    "\n",
    "####Categorias\n",
    "> 1 a 39\n",
    "\n",
    "[Teste: Checar se existe algum número < 1 ou > 39. Se encontrar, retornar erro indicando em qual linha.]"
   ]
  },
  {
   "cell_type": "code",
   "execution_count": 71,
   "metadata": {
    "collapsed": false
   },
   "outputs": [
    {
     "name": "stdout",
     "output_type": "stream",
     "text": [
      "Series([], dtype: int64)\n"
     ]
    }
   ],
   "source": [
    "#Verifying value interval for check - conditions: \"MUN_DOM < 1\" and \"MUN_DOM > 39\"\n",
    "#od2007[(od2007['MUN_DOM']<1) | (od2007['MUN_DOM']>39)]\n",
    "verifica_RANGE(od2007, 'MUN_DOM', 1, 39)"
   ]
  },
  {
   "cell_type": "markdown",
   "metadata": {},
   "source": [
    "-----\n",
    "##Passo 8: \"CO_DOM_X\"\n",
    "Em 2007 já existe a informação de \"CO_DOM_X\"\n",
    "\n",
    "Para os demais anos:\n",
    "\n",
    "[Na coluna \"CO_DOM_X\", linha i, ler o valor da linha i da coluna \"SUBZONA_DOM\", daí, buscar o mesmo valor na coluna \"Subzonas_XXXX\" do arquivo CO-SUBZONAS-XXXX.csv. Ao achar, retornar o valor da mesma linha, só que da coluna \"CO_X\"]\n",
    "\n",
    "[Obs.: ainda preciso construir esses csv, ou seja, determinar os centroides das subzonas a partir do MapInfo]"
   ]
  },
  {
   "cell_type": "markdown",
   "metadata": {},
   "source": [
    "-----\n",
    "##Passo 9: \"CO_DOM_Y\"\n",
    "Em 2007 já existe a informação de \"CO_DOM_Y\"\n",
    "\n",
    "Para os demais anos:\n",
    "\n",
    "[Na coluna \"CO_DOM_Y\", linha i, ler o valor da linha i da coluna \"SUBZONA_DOM\", daí, buscar o mesmo valor na coluna \"Subzonas_XXXX\" do arquivo CO-SUBZONAS-XXXX.csv. Ao achar, retornar o valor da mesma linha, só que da coluna \"CO_Y\"]\n",
    "\n",
    "[Obs.: ainda preciso construir esses csv, ou seja, determinar os centroides das subzonas a partir do MapInfo]"
   ]
  },
  {
   "cell_type": "markdown",
   "metadata": {},
   "source": [
    "-----\n",
    "##Passo 10: \"ID_DOM\"\n",
    "construir o \"ID_DOM\"\n",
    "\n",
    "[Na coluna \"ID_DOM\", linha i, ler o valor da linha i da coluna \"ZONA_DOM\", e concatenar esse valor (com 3 dígitos) com o número do domicílio , que é o valor da linha i da coluna \"NO_DOM\" (com 4 dígitos). Resultado será um ID_DOM, que pode se repetir nas linhas, de 7 dígitos. Isso deve ser concateado com o \"Ano\". Resultado = 8 dígitos]\n",
    "\n",
    "Outra possibilidade, concatenar com a UCOD ao invés da zona..."
   ]
  },
  {
   "cell_type": "code",
   "execution_count": 72,
   "metadata": {
    "collapsed": false
   },
   "outputs": [],
   "source": [
    "#Generating \"ID_DOM\" from the concatenation of \"ANO\", \"ZONA_DOM\" and \"NO_DOM\" variables\n",
    "od2007['ID_DOM'] = od2007.apply(lambda row: gera_ID_DOM(row), axis=1)"
   ]
  },
  {
   "cell_type": "markdown",
   "metadata": {},
   "source": [
    "-----\n",
    "##Passo 11: \"F_DOM\"\n",
    "Checar se existe algum erro na coluna \"F_DOM\"\n",
    "\n",
    "####Categorias\n",
    "Valor|Descrição\n",
    "----|----\n",
    "0|Demais registros\n",
    "1|Primeiro Registro do Domicílio\n",
    "\n",
    "[Teste: Checar se existe algum número diferente de 0 ou 1. Se encontrar, retornar erro indicando em qual linha.]"
   ]
  },
  {
   "cell_type": "code",
   "execution_count": 73,
   "metadata": {
    "collapsed": false
   },
   "outputs": [
    {
     "name": "stdout",
     "output_type": "stream",
     "text": [
      "Total de erros encontrados: 0\n"
     ]
    }
   ],
   "source": [
    "#Verifying if there was left some value other than 0 or 1\n",
    "verifica_DUMMY(od2007, 'F_DOM')"
   ]
  },
  {
   "cell_type": "markdown",
   "metadata": {},
   "source": [
    "-----\n",
    "##\"FE_DOM\" e \"NO_DOM\"\n",
    "Nada há que se fazer em relação aos dados das colunas \"FE_DOM\" e \"NO_DOM\""
   ]
  },
  {
   "cell_type": "markdown",
   "metadata": {},
   "source": [
    "-----\n",
    "##Passo 12: \"TIPO_DOM\"\n",
    "Substituir valores da coluna \"TIPO_DOM\"\n",
    "\n",
    "* Substituir todos valores **1** por **0**.\n",
    "* Substituir e todos valores **2** por **1**.\n",
    "* Substituir e todos valores **3** por **1**.\n",
    "\n",
    "####Categorias anteriores\n",
    "Valor | Descrição\n",
    "----|----\n",
    "1 | Particular\n",
    "2 | Coletivo\n",
    "3 | Favela\n",
    "\n",
    "####Categorias novas\n",
    "Valor | Descrição\n",
    "----|----\n",
    "0|Particular\n",
    "1|Coletivo\n",
    "\n",
    "[Teste: Checar se existe algum número diferente de 0 ou 1. Se encontrar, retornar erro indicando em qual linha.]"
   ]
  },
  {
   "cell_type": "code",
   "execution_count": 74,
   "metadata": {
    "collapsed": false
   },
   "outputs": [
    {
     "data": {
      "text/plain": [
       "1    4444\n",
       "2     556\n",
       "dtype: int64"
      ]
     },
     "metadata": {},
     "output_type": "display_data"
    }
   ],
   "source": [
    "if not impressao:\n",
    "    #Counting for check \"TIPO_DOM\"\n",
    "    display(od2007['TIPO_DOM'].value_counts())"
   ]
  },
  {
   "cell_type": "code",
   "execution_count": 75,
   "metadata": {
    "collapsed": true
   },
   "outputs": [],
   "source": [
    "#Replacing the values 1 for 0\n",
    "od2007.loc[od2007['TIPO_DOM']==1,'TIPO_DOM'] = 0\n",
    "#Replacing the values 2 for 1\n",
    "od2007.loc[od2007['TIPO_DOM']==2,'TIPO_DOM'] = 1\n",
    "#Replacing the values 3 for 1\n",
    "od2007.loc[od2007['TIPO_DOM']==3,'TIPO_DOM'] = 1"
   ]
  },
  {
   "cell_type": "code",
   "execution_count": 76,
   "metadata": {
    "collapsed": false
   },
   "outputs": [
    {
     "data": {
      "text/plain": [
       "0    4444\n",
       "1     556\n",
       "dtype: int64"
      ]
     },
     "metadata": {},
     "output_type": "display_data"
    }
   ],
   "source": [
    "if not impressao:\n",
    "    #Counting \"TIPO_DOM\" in order to compare the values before and after the replacement\n",
    "    display(od2007['TIPO_DOM'].value_counts())"
   ]
  },
  {
   "cell_type": "code",
   "execution_count": 77,
   "metadata": {
    "collapsed": false
   },
   "outputs": [
    {
     "name": "stdout",
     "output_type": "stream",
     "text": [
      "Total de erros encontrados: 0\n"
     ]
    }
   ],
   "source": [
    "#Verifying if there was left some value other than 0 or 1\n",
    "verifica_DUMMY(od2007, 'TIPO_DOM')"
   ]
  },
  {
   "cell_type": "markdown",
   "metadata": {},
   "source": [
    "-----\n",
    "##\"TOT_FAM\"\n",
    "Nada há que se fazer em relação aos dados da coluna \"TOT_FAM\""
   ]
  },
  {
   "cell_type": "markdown",
   "metadata": {},
   "source": [
    "-----\n",
    "##Passo 13: \"ID_FAM\"\n",
    "Construir o \"ID_FAM\"\n",
    "\n",
    "Na coluna \"ID_FAM\", linha i, ler o valor da linha i da coluna \"ID_DOM\", e concatenar esse valor (com 8 dígitos) com o número da família, que é o valor da linha i da coluna \"NO_FAM\" (com 2 dígitos).\n",
    "\n",
    "Resultado será um ID_FAM, que pode se repetir nas linhas, de 10 dígitos."
   ]
  },
  {
   "cell_type": "code",
   "execution_count": 78,
   "metadata": {
    "collapsed": false
   },
   "outputs": [],
   "source": [
    "#Generating \"ID_FAM\" from the concatenation of \"ID_DOM\" and \"NO_FAM\" variables\n",
    "od2007['ID_FAM'] = od2007.apply(lambda row: gera_ID_FAM(row), axis=1)"
   ]
  },
  {
   "cell_type": "markdown",
   "metadata": {},
   "source": [
    "-----\n",
    "##Passo 14: \"F_FAM\"\n",
    "Checar se existe algum erro na coluna \"F_FAM\"\n",
    "\n",
    "####Categorias\n",
    "Valor|Descrição\n",
    "----|----\n",
    "0|Demais registros\n",
    "1|Primeiro Registro da Família\n",
    "\n",
    "[Teste: Checar se existe algum número diferente de 0 ou 1. Se encontrar, retornar erro indicando em qual linha.]"
   ]
  },
  {
   "cell_type": "code",
   "execution_count": 79,
   "metadata": {
    "collapsed": false
   },
   "outputs": [
    {
     "name": "stdout",
     "output_type": "stream",
     "text": [
      "Total de erros encontrados: 0\n"
     ]
    }
   ],
   "source": [
    "#Verifying if there was left some value other than 0 or 1\n",
    "verifica_DUMMY(od2007, 'F_FAM')"
   ]
  },
  {
   "cell_type": "markdown",
   "metadata": {},
   "source": [
    "-----\n",
    "##\"FE_FAM\" e \"NO_FAM\"\n",
    "Nada há que se fazer em relação aos dados das colunas \"FE_FAM\" e \"NO_FAM\""
   ]
  },
  {
   "cell_type": "markdown",
   "metadata": {},
   "source": [
    "-----\n",
    "##Passo 15: \"COND_MORA\"\n",
    "Substituir valores da coluna \"COND_MORA\"\n",
    "\n",
    "* Substituir todos valores **4** por **3**\n",
    "* Substituir todos valores **5** por **4**\n",
    "\n",
    "####Categorias anteriores\n",
    "Valor|Descrição\n",
    "----|----\n",
    "1|Alugada\n",
    "2|Própria\n",
    "3|Cedida\n",
    "4|Outros\n",
    "5|Não respondeu\n",
    "\n",
    "####Categorias novas\n",
    "Valor|Descrição\n",
    "----|----\n",
    "1|Alugada\n",
    "2|Própria\n",
    "3|Outros\n",
    "4|Não respondeu\n",
    "\n",
    "[Teste: Checar se existe algum número < 1 ou > 4. Se encontrar, retornar erro indicando em qual linha.]"
   ]
  },
  {
   "cell_type": "code",
   "execution_count": 80,
   "metadata": {
    "collapsed": false
   },
   "outputs": [
    {
     "data": {
      "text/plain": [
       "1    2489\n",
       "2    2113\n",
       "3     320\n",
       "4      42\n",
       "5      36\n",
       "dtype: int64"
      ]
     },
     "metadata": {},
     "output_type": "display_data"
    }
   ],
   "source": [
    "if not impressao:\n",
    "    #Counting for check \"COND_MORA\"\n",
    "    display(od2007['COND_MORA'].value_counts())"
   ]
  },
  {
   "cell_type": "code",
   "execution_count": 81,
   "metadata": {
    "collapsed": true
   },
   "outputs": [],
   "source": [
    "#Replacing the values 4 for 3\n",
    "od2007.loc[od2007['COND_MORA']==4,'COND_MORA'] = 3\n",
    "#Replacing the values 5 for 4\n",
    "od2007.loc[od2007['COND_MORA']==5,'COND_MORA'] = 4"
   ]
  },
  {
   "cell_type": "code",
   "execution_count": 82,
   "metadata": {
    "collapsed": false
   },
   "outputs": [
    {
     "data": {
      "text/plain": [
       "1    2489\n",
       "2    2113\n",
       "3     362\n",
       "4      36\n",
       "dtype: int64"
      ]
     },
     "metadata": {},
     "output_type": "display_data"
    }
   ],
   "source": [
    "if not impressao:\n",
    "    #Counting \"COND_MORA\" in order to compare the values before and after the replacement\n",
    "    display(od2007['COND_MORA'].value_counts())"
   ]
  },
  {
   "cell_type": "code",
   "execution_count": 83,
   "metadata": {
    "collapsed": false
   },
   "outputs": [
    {
     "name": "stdout",
     "output_type": "stream",
     "text": [
      "Series([], dtype: int64)\n"
     ]
    }
   ],
   "source": [
    "#Verifying value interval for check - conditions: \"COND_MORA < 1\" and \"COND_MORA > 4\"\n",
    "#od2007[(od2007['COND_MORA']<1) | (od2007['COND_MORA']>4)]\n",
    "verifica_RANGE(od2007, 'COND_MORA', 1, 4)"
   ]
  },
  {
   "cell_type": "markdown",
   "metadata": {},
   "source": [
    "-----\n",
    "##\"QT_AUTO\", \"QT_BICI\" e QT_MOTO\"\n",
    "Nada há que se fazer em relação aos dados das colunas \"QT_AUTO\", \"QT_BICI\" e QT_MOTO\""
   ]
  },
  {
   "cell_type": "markdown",
   "metadata": {},
   "source": [
    "-----\n",
    "##Passo 16: \"CD_RENFAM\"\n",
    "Substituir valores da coluna \"CD_RENFAM\"\n",
    "\n",
    "* Substituir todos valores **2** por **0**\n",
    "* Substituir todos valores **3** por **2**\n",
    "* Substituir todos valores **4** por **2**\n",
    "\n",
    "####Categorias anteriores\n",
    "Valor|Descrição\n",
    "----|----\n",
    "1|Renda Familiar Declarada e Maior que Zero\n",
    "2|Renda Familiar Declarada como Zero\n",
    "3|Renda Atribuída pelo Critério Brasil\n",
    "4|Renda Atribuída pela Média da Zona\n",
    "\n",
    "####Categorias novas\n",
    "Valor|Descrição\n",
    "----|----\n",
    "0|Renda Familiar Declarada como Zero\n",
    "1|Renda Familiar Declarada e Maior que Zero\n",
    "2|Renda Atribuída\n",
    "\n",
    "[Teste: Checar se existe algum número < 0 ou > 2. Se encontrar, retornar erro indicando em qual linha.]"
   ]
  },
  {
   "cell_type": "code",
   "execution_count": 84,
   "metadata": {
    "collapsed": false
   },
   "outputs": [
    {
     "data": {
      "text/plain": [
       "1    3304\n",
       "3    1644\n",
       "2      38\n",
       "4      14\n",
       "dtype: int64"
      ]
     },
     "metadata": {},
     "output_type": "display_data"
    }
   ],
   "source": [
    "if not impressao:\n",
    "    #Counting for check \"CD_RENFAM\"\n",
    "    display(od2007['CD_RENFAM'].value_counts())"
   ]
  },
  {
   "cell_type": "code",
   "execution_count": 85,
   "metadata": {
    "collapsed": true
   },
   "outputs": [],
   "source": [
    "#Replacing the values 2 for 0\n",
    "od2007.loc[od2007['CD_RENFAM']==2,'CD_RENFAM'] = 0\n",
    "#Replacing the values 3 for 2\n",
    "od2007.loc[od2007['CD_RENFAM']==3,'CD_RENFAM'] = 2\n",
    "#Replacing the values 4 for 2\n",
    "od2007.loc[od2007['CD_RENFAM']==4,'CD_RENFAM'] = 2"
   ]
  },
  {
   "cell_type": "code",
   "execution_count": 86,
   "metadata": {
    "collapsed": false
   },
   "outputs": [
    {
     "data": {
      "text/plain": [
       "1    3304\n",
       "2    1658\n",
       "0      38\n",
       "dtype: int64"
      ]
     },
     "metadata": {},
     "output_type": "display_data"
    }
   ],
   "source": [
    "if not impressao:\n",
    "    #Counting \"CD_RENFAM\" in order to compare the values before and after the replacement\n",
    "    display(od2007['CD_RENFAM'].value_counts())"
   ]
  },
  {
   "cell_type": "code",
   "execution_count": 87,
   "metadata": {
    "collapsed": false
   },
   "outputs": [
    {
     "name": "stdout",
     "output_type": "stream",
     "text": [
      "Series([], dtype: int64)\n"
     ]
    }
   ],
   "source": [
    "#Verifying value interval for check - conditions: \"CD_RENFAM < 0\" and \"CD_RENFAM > 2\"\n",
    "#od2007[(od2007['CD_RENFAM']<0) | (od2007['CD_RENFAM']>2)]\n",
    "verifica_RANGE(od2007, 'CD_RENFAM', 0, 2)"
   ]
  },
  {
   "cell_type": "markdown",
   "metadata": {},
   "source": [
    "-----\n",
    "##\"REN_FAM\"\n",
    "Nada há que se fazer em relação aos dados da coluna \"REN_FAM\""
   ]
  },
  {
   "cell_type": "markdown",
   "metadata": {},
   "source": [
    "-----\n",
    "##Passo 17: \"ID_PESS\"\n",
    "Construir o \"ID_PESS\"\n",
    "\n",
    "Na coluna \"ID_PESS\", linha i, ler o valor da linha i da coluna \"ID_FAM\", e concatenar esse valor (10 dígitos) com o número da pessoa, que é o valor da linha i da coluna \"NO_PESS\" (com 2 dígitos).\n",
    "\n",
    "Resultado será um ID_PESS, que pode se repetir nas linhas, de 12 dígitos."
   ]
  },
  {
   "cell_type": "code",
   "execution_count": 88,
   "metadata": {
    "collapsed": false
   },
   "outputs": [],
   "source": [
    "#Generating \"ID_PESS\" from the concatenation of \"ID_FAM\" and \"NO_PESS\" variables\n",
    "od2007['ID_PESS'] = od2007.apply(lambda row: gera_ID_PESS(row), axis=1)"
   ]
  },
  {
   "cell_type": "markdown",
   "metadata": {},
   "source": [
    "-----\n",
    "##Passo 18: \"F_PESS\"\n",
    "Checar se existe algum erro na coluna \"F_PESS\"\n",
    "\n",
    "####Categorias\n",
    "Valor|Descrição\n",
    "----|----\n",
    "0|Demais registros\n",
    "1|Primeiro Registro da Pessoa\n",
    "\n",
    "[Teste: Checar se existe algum número diferente de 0 ou 1. Se encontrar, retornar erro indicando em qual linha.]"
   ]
  },
  {
   "cell_type": "code",
   "execution_count": 89,
   "metadata": {
    "collapsed": false
   },
   "outputs": [
    {
     "name": "stdout",
     "output_type": "stream",
     "text": [
      "Total de erros encontrados: 0\n"
     ]
    }
   ],
   "source": [
    "#Verifying if there was left some value other than 0 or 1\n",
    "verifica_DUMMY(od2007, 'F_PESS')"
   ]
  },
  {
   "cell_type": "markdown",
   "metadata": {},
   "source": [
    "-----\n",
    "##\"FE_PESS\" e \"NO_PESS\"\n",
    "Nada há que se fazer em relação aos dados das colunas \"FE_PESS\" e \"NO_PESS\""
   ]
  },
  {
   "cell_type": "markdown",
   "metadata": {},
   "source": [
    "-----\n",
    "##Passo 19: \"SIT_FAM\"\n",
    "Substituir valores da coluna \"SIT_FAM\"\n",
    "\n",
    "* Substituir todos valores **5** por **4**\n",
    "* Substituir todos valores **6** por **5**\n",
    "* Substituir todos valores **7** por **6**\n",
    "\n",
    "####Categorias anteriores\n",
    "Valor|Descrição\n",
    "----|----\n",
    "1|Pessoa Responsável\n",
    "2|Cônjuge/Companheiro(a)\n",
    "3|Filho(a)/Enteado(a)\n",
    "4|Outro Parente\n",
    "5|Agregado\n",
    "6|Empregado Residente\n",
    "7|Parente do empregado\n",
    "\n",
    "####Categorias novas:\n",
    "Valor|Descrição\n",
    "----|----\n",
    "1| Pessoa Responsável\n",
    "2| Cônjuge/Companheiro(a)\n",
    "3| Filho(a)/Enteado(a)\n",
    "4| Outro Parente / Agregado\n",
    "5| Empregado Residente\n",
    "6| Outros (visitante não residente / parente do empregado)\n",
    "\n",
    "[Teste: Checar se existe algum número < 1 ou > 6. Se encontrar, retornar erro indicando em qual linha.]"
   ]
  },
  {
   "cell_type": "code",
   "execution_count": 90,
   "metadata": {
    "collapsed": false
   },
   "outputs": [
    {
     "data": {
      "text/plain": [
       "1    2052\n",
       "3    1397\n",
       "2     907\n",
       "4     476\n",
       "5     131\n",
       "6      33\n",
       "7       4\n",
       "dtype: int64"
      ]
     },
     "metadata": {},
     "output_type": "display_data"
    }
   ],
   "source": [
    "if not impressao:\n",
    "    #Counting for check \"SIT_FAM\"\n",
    "    display(od2007['SIT_FAM'].value_counts())"
   ]
  },
  {
   "cell_type": "code",
   "execution_count": 91,
   "metadata": {
    "collapsed": true
   },
   "outputs": [],
   "source": [
    "#Replacing the values 5 for 4\n",
    "od2007.loc[od2007['SIT_FAM']==5,'SIT_FAM'] = 4\n",
    "#Replacing the values 6 for 5\n",
    "od2007.loc[od2007['SIT_FAM']==6,'SIT_FAM'] = 5\n",
    "#Replacing the values 7 for 6\n",
    "od2007.loc[od2007['SIT_FAM']==7,'SIT_FAM'] = 6"
   ]
  },
  {
   "cell_type": "code",
   "execution_count": 92,
   "metadata": {
    "collapsed": false
   },
   "outputs": [
    {
     "data": {
      "text/plain": [
       "1    2052\n",
       "3    1397\n",
       "2     907\n",
       "4     607\n",
       "5      33\n",
       "6       4\n",
       "dtype: int64"
      ]
     },
     "metadata": {},
     "output_type": "display_data"
    }
   ],
   "source": [
    "if not impressao:\n",
    "    #Counting \"SIT_FAM\" in order to compare the values before and after the replacement\n",
    "    display(od2007['SIT_FAM'].value_counts())"
   ]
  },
  {
   "cell_type": "code",
   "execution_count": 93,
   "metadata": {
    "collapsed": false
   },
   "outputs": [
    {
     "name": "stdout",
     "output_type": "stream",
     "text": [
      "Series([], dtype: int64)\n"
     ]
    }
   ],
   "source": [
    "#Verifying value interval for check - conditions: \"SIT_FAM < 1\" and \"SIT_FAM > 6\"\n",
    "#od2007[(od2007['SIT_FAM']<0) | (od2007['SIT_FAM']>6)]\n",
    "verifica_RANGE(od2007, 'SIT_FAM', 0, 6)"
   ]
  },
  {
   "cell_type": "markdown",
   "metadata": {},
   "source": [
    "-----\n",
    "##\"IDADE\"\n",
    "Nada há que se fazer em relação aos dados da coluna \"IDADE\""
   ]
  },
  {
   "cell_type": "markdown",
   "metadata": {},
   "source": [
    "-----\n",
    "##Passo 20: \"SEXO\"\n",
    "Substituir valores da coluna \"SEXO\"\n",
    "\n",
    "* Substituir todos valores **2** por **0**\n",
    "\n",
    "####Categorias anteriores\n",
    "Valor|Descrição\n",
    "----|----\n",
    "1|Masculino\n",
    "2|Feminino\n",
    "\n",
    "####Categorias novas\n",
    "Valor|Descrição\n",
    "----|----\n",
    "0|Feminino\n",
    "1|Masculino\n",
    "\n",
    "[Teste: Checar se existe algum número diferente de 0 ou 1. Se encontrar, retornar erro indicando em qual linha.]"
   ]
  },
  {
   "cell_type": "code",
   "execution_count": 94,
   "metadata": {
    "collapsed": false
   },
   "outputs": [
    {
     "data": {
      "text/plain": [
       "2    2580\n",
       "1    2420\n",
       "dtype: int64"
      ]
     },
     "metadata": {},
     "output_type": "display_data"
    }
   ],
   "source": [
    "if not impressao:\n",
    "    #Counting for check \"SEXO\"\n",
    "    display(od2007['SEXO'].value_counts())"
   ]
  },
  {
   "cell_type": "code",
   "execution_count": 95,
   "metadata": {
    "collapsed": true
   },
   "outputs": [],
   "source": [
    "#Replacing the values 2 for 0\n",
    "od2007.loc[od2007['SEXO']==2,'SEXO'] = 0"
   ]
  },
  {
   "cell_type": "code",
   "execution_count": 96,
   "metadata": {
    "collapsed": false
   },
   "outputs": [
    {
     "data": {
      "text/plain": [
       "0    2580\n",
       "1    2420\n",
       "dtype: int64"
      ]
     },
     "metadata": {},
     "output_type": "display_data"
    }
   ],
   "source": [
    "if not impressao:\n",
    "    #Counting \"SEXO\" in order to compare the values before and after the replacement\n",
    "    display(od2007['SEXO'].value_counts())"
   ]
  },
  {
   "cell_type": "code",
   "execution_count": 97,
   "metadata": {
    "collapsed": false
   },
   "outputs": [
    {
     "name": "stdout",
     "output_type": "stream",
     "text": [
      "Total de erros encontrados: 0\n"
     ]
    }
   ],
   "source": [
    "#Verifying if there was left some value other than 0 or 1\n",
    "verifica_DUMMY(od2007, 'SEXO')"
   ]
  },
  {
   "cell_type": "markdown",
   "metadata": {
    "collapsed": true
   },
   "source": [
    "-----\n",
    "##Passo 21: \"ESTUDA\"\n",
    "Substituir valores da coluna \"ESTUDA\"\n",
    "\n",
    "* Substituir todos valores **1** por **0**\n",
    "* Substituir todos valores **2, 3, 4, 5, 6 e 7** por 1\n",
    "\n",
    "####Categorias anteriores\n",
    "Valor|Descrição\n",
    "----|----\n",
    "1|Não\n",
    "2|Creche/Pré-Escola\n",
    "3|1º Grau/Fundamental\n",
    "4|2º Grau/Médio\n",
    "5|Superior/Universitário\n",
    "6|Outros\n",
    "####Categorias novas\n",
    "Valor|Descrição\n",
    "----|----\n",
    "0|Não estuda\n",
    "1|Estuda\n",
    "\n",
    "[Teste: Checar se existe algum número diferente de 0 ou 1. Se encontrar, retornar erro indicando em qual linha.]"
   ]
  },
  {
   "cell_type": "code",
   "execution_count": 98,
   "metadata": {
    "collapsed": false
   },
   "outputs": [
    {
     "data": {
      "text/plain": [
       "1    3721\n",
       "3     493\n",
       "5     258\n",
       "2     240\n",
       "4     170\n",
       "6     118\n",
       "dtype: int64"
      ]
     },
     "metadata": {},
     "output_type": "display_data"
    }
   ],
   "source": [
    "if not impressao:\n",
    "    #Counting for check \"ESTUDA\"\n",
    "    display(od2007['ESTUDA'].value_counts())"
   ]
  },
  {
   "cell_type": "code",
   "execution_count": 99,
   "metadata": {
    "collapsed": true
   },
   "outputs": [],
   "source": [
    "#Replacing the values 1 for 0\n",
    "od2007.loc[od2007['ESTUDA']==1,'ESTUDA'] = 0\n",
    "#Replacing the values 2 for 1\n",
    "od2007.loc[od2007['ESTUDA']==2,'ESTUDA'] = 1\n",
    "#Replacing the values 3 for 1\n",
    "od2007.loc[od2007['ESTUDA']==3,'ESTUDA'] = 1\n",
    "#Replacing the values 4 for 1\n",
    "od2007.loc[od2007['ESTUDA']==4,'ESTUDA'] = 1\n",
    "#Replacing the values 5 for 1\n",
    "od2007.loc[od2007['ESTUDA']==5,'ESTUDA'] = 1\n",
    "#Replacing the values 6 for 1\n",
    "od2007.loc[od2007['ESTUDA']==6,'ESTUDA'] = 1"
   ]
  },
  {
   "cell_type": "code",
   "execution_count": 100,
   "metadata": {
    "collapsed": false
   },
   "outputs": [
    {
     "data": {
      "text/plain": [
       "0    3721\n",
       "1    1279\n",
       "dtype: int64"
      ]
     },
     "metadata": {},
     "output_type": "display_data"
    }
   ],
   "source": [
    "if not impressao:\n",
    "    #Counting \"ESTUDA\" in order to compare the values before and after the replacement\n",
    "    display(od2007['ESTUDA'].value_counts())"
   ]
  },
  {
   "cell_type": "code",
   "execution_count": 101,
   "metadata": {
    "collapsed": false
   },
   "outputs": [
    {
     "name": "stdout",
     "output_type": "stream",
     "text": [
      "Total de erros encontrados: 0\n"
     ]
    }
   ],
   "source": [
    "#Verifying if there was left some value other than 0 or 1\n",
    "verifica_DUMMY(od2007, 'ESTUDA')"
   ]
  },
  {
   "cell_type": "markdown",
   "metadata": {},
   "source": [
    "-----\n",
    "##Passo 22: \"GRAU_INSTR\"\n",
    "Substituir valores da coluna \"GRAU_INSTR\"\n",
    "\n",
    "* Substituir todos valores **2** por **1**\n",
    "* Substituir todos valores **3** por **2**\n",
    "* Substituir todos valores **4** por **3**\n",
    "* Substituir todos valores **5** por **4**\n",
    "\n",
    "####Categorias anteriores:\n",
    "Valor|Descrição\n",
    "----|----\n",
    "1|Não-alfabetizado/Primário Incompleto\n",
    "2|Primário Completo/Ginásio Incompleto\n",
    "3|Ginásio Completo/Colegial Incompleto\n",
    "4|Colegial Completo/Superior Incompleto\n",
    "5|Superior Completo\n",
    "\n",
    "####Categorias novas\n",
    "Valor|Descrição\n",
    "----|----\n",
    "1|Não-Alfabetizado/Fundamental Incompleto\n",
    "2|Fundamental Completo/Médio Incompleto\n",
    "3|Médio Completo/Superior Incompleto\n",
    "4|Superior completo\n",
    "\n",
    "[Teste: Checar se existe algum número < 1 ou > 4. Se encontrar, retornar erro indicando em qual linha.]"
   ]
  },
  {
   "cell_type": "code",
   "execution_count": 102,
   "metadata": {
    "collapsed": false
   },
   "outputs": [
    {
     "data": {
      "text/plain": [
       "4    1622\n",
       "2     988\n",
       "3     817\n",
       "1     805\n",
       "5     768\n",
       "dtype: int64"
      ]
     },
     "metadata": {},
     "output_type": "display_data"
    }
   ],
   "source": [
    "if not impressao:\n",
    "    #Counting for check \"GRAU_INSTR\"\n",
    "    display(od2007['GRAU_INSTR'].value_counts())"
   ]
  },
  {
   "cell_type": "code",
   "execution_count": 103,
   "metadata": {
    "collapsed": true
   },
   "outputs": [],
   "source": [
    "#Replacing the values 2 for 1\n",
    "od2007.loc[od2007['GRAU_INSTR']==2,'GRAU_INSTR'] = 1\n",
    "#Replacing the values 3 for 2\n",
    "od2007.loc[od2007['GRAU_INSTR']==3,'GRAU_INSTR'] = 2\n",
    "#Replacing the values 4 for 3\n",
    "od2007.loc[od2007['GRAU_INSTR']==4,'GRAU_INSTR'] = 3\n",
    "#Replacing the values 5 for 4\n",
    "od2007.loc[od2007['GRAU_INSTR']==5,'GRAU_INSTR'] = 4"
   ]
  },
  {
   "cell_type": "code",
   "execution_count": 104,
   "metadata": {
    "collapsed": false
   },
   "outputs": [
    {
     "data": {
      "text/plain": [
       "1    1793\n",
       "3    1622\n",
       "2     817\n",
       "4     768\n",
       "dtype: int64"
      ]
     },
     "metadata": {},
     "output_type": "display_data"
    }
   ],
   "source": [
    "if not impressao:\n",
    "    #Counting \"GRAU_INSTR\" in order to compare the values before and after the replacement\n",
    "    display(od2007['GRAU_INSTR'].value_counts())"
   ]
  },
  {
   "cell_type": "code",
   "execution_count": 105,
   "metadata": {
    "collapsed": false
   },
   "outputs": [
    {
     "name": "stdout",
     "output_type": "stream",
     "text": [
      "Series([], dtype: int64)\n"
     ]
    }
   ],
   "source": [
    "#Verifying value interval for check - conditions: \"GRAU_INSTR < 1\" and \"GRAU_INSTR > 4\"\n",
    "#od2007[(od2007['GRAU_INSTR']<1) | (od2007['GRAU_INSTR']>4)]\n",
    "verifica_RANGE(od2007, 'GRAU_INSTR', 1, 4)"
   ]
  },
  {
   "cell_type": "markdown",
   "metadata": {},
   "source": [
    "-----\n",
    "##Passo 23: \"OCUP\"\n",
    "Substituir valores da coluna \"OCUP\"\n",
    "\n",
    "* Substituir todos valores **2** por **1**\n",
    "* Substituir todos valores **3** por **2**\n",
    "* Substituir todos valores **4** por **3**\n",
    "* Substituir todos valores **5** por **4**\n",
    "* Substituir todos valores **6** por **5**\n",
    "* Substituir todos valores **7** por **6**\n",
    "* Substituir todos valores **8** por **7**\n",
    "\n",
    "####Categorias anteriores\n",
    "Valor|Descrição\n",
    "----|----\n",
    "1|Tem trabalho\n",
    "2|Faz bico\n",
    "3|Em licença médica\n",
    "4|Aposentado / pensionista\n",
    "5|Sem trabalho\n",
    "6|Nunca trabalhou\n",
    "7|Dona de casa\n",
    "8|Estudante\n",
    "\n",
    "####Categorias novas\n",
    "Valor|Descrição\n",
    "----|----\n",
    "1|Tem trabalho\n",
    "2|Em licença médica\n",
    "3|Aposentado / pensionista\n",
    "4|Desempregado\n",
    "5|Sem ocupação\n",
    "6|Dona de casa\n",
    "7|Estudante\n",
    "\n",
    "[Teste: Checar se existe algum número < 0 ou > 7. Se encontrar, retornar erro indicando em qual linha.]"
   ]
  },
  {
   "cell_type": "code",
   "execution_count": 106,
   "metadata": {
    "collapsed": false
   },
   "outputs": [
    {
     "data": {
      "text/plain": [
       "1    2980\n",
       "8     652\n",
       "4     475\n",
       "6     283\n",
       "7     237\n",
       "5     216\n",
       "2     136\n",
       "3      21\n",
       "dtype: int64"
      ]
     },
     "metadata": {},
     "output_type": "display_data"
    }
   ],
   "source": [
    "if not impressao:\n",
    "    #Counting for check \"OCUP\"\n",
    "    display(od2007['OCUP'].value_counts())"
   ]
  },
  {
   "cell_type": "code",
   "execution_count": 107,
   "metadata": {
    "collapsed": false
   },
   "outputs": [],
   "source": [
    "#Replacing the values 2 for 1\n",
    "od2007.loc[od2007['OCUP']==2,'OCUP'] = 1\n",
    "#Replacing the values 3 for 2\n",
    "od2007.loc[od2007['OCUP']==3,'OCUP'] = 2\n",
    "#Replacing the values 4 for 3\n",
    "od2007.loc[od2007['OCUP']==4,'OCUP'] = 3\n",
    "#Replacing the values 5 for 4\n",
    "od2007.loc[od2007['OCUP']==5,'OCUP'] = 4\n",
    "#Replacing the values 6 for 5\n",
    "od2007.loc[od2007['OCUP']==6,'OCUP'] = 5\n",
    "#Replacing the values 7 for 6\n",
    "od2007.loc[od2007['OCUP']==7,'OCUP'] = 6\n",
    "#Replacing the values 8 for 7\n",
    "od2007.loc[od2007['OCUP']==8,'OCUP'] = 7"
   ]
  },
  {
   "cell_type": "code",
   "execution_count": 108,
   "metadata": {
    "collapsed": false
   },
   "outputs": [
    {
     "data": {
      "text/plain": [
       "1    3116\n",
       "7     652\n",
       "3     475\n",
       "5     283\n",
       "6     237\n",
       "4     216\n",
       "2      21\n",
       "dtype: int64"
      ]
     },
     "metadata": {},
     "output_type": "display_data"
    }
   ],
   "source": [
    "if not impressao:\n",
    "    #Counting \"OCUP\" in order to compare the values before and after the replacement\n",
    "    display(od2007['OCUP'].value_counts())"
   ]
  },
  {
   "cell_type": "code",
   "execution_count": 109,
   "metadata": {
    "collapsed": false
   },
   "outputs": [
    {
     "name": "stdout",
     "output_type": "stream",
     "text": [
      "Series([], dtype: int64)\n"
     ]
    }
   ],
   "source": [
    "#Verifying value interval for check - conditions: \"OCUP < 1\" and \"OCUP > 7\"\n",
    "#od2007[(od2007['OCUP']<1) | (od2007['OCUP']>7)]\n",
    "verifica_RANGE(od2007, 'OCUP', 1, 7)"
   ]
  },
  {
   "cell_type": "markdown",
   "metadata": {},
   "source": [
    "-----\n",
    "##Passo 24: \"SETOR_ATIV\"\n",
    "Substituir valores da coluna \"SETOR_ATIV\"\n",
    "\n",
    "Na coluna \"SETOR_ATIV\", linha i, ler o valor da linha i da coluna \"SETOR_ATIV\", daí, buscar o mesmo valor na coluna \"COD\" do arquivo setor_ativ-2007.csv. Ao achar, retornar o valor da mesma linha, só que da coluna \"COD_UNIF\"\n",
    "\n",
    "####Categorias anteriores\n",
    "> ver arquivo .csv\n",
    "\n",
    "####Categorias novas\n",
    "Valor|Descrição\n",
    "----|----\n",
    "1|Agrícola\n",
    "2|Construção Civil\n",
    "3|Indústria\n",
    "4|Comércio\n",
    "5|Administração Pública\n",
    "6|Serviços de Transporte\n",
    "7|Serviços\n",
    "8|Serviços Autônomos\n",
    "9|Outros\n",
    "10|Não se aplica\n",
    "\n",
    "[Teste: Checar se existe algum número < 1 ou > 10. Se encontrar, retornar erro indicando em qual linha.]"
   ]
  },
  {
   "cell_type": "code",
   "execution_count": 110,
   "metadata": {
    "collapsed": false
   },
   "outputs": [
    {
     "data": {
      "text/plain": [
       "0     1832\n",
       "14     823\n",
       "4      813\n",
       "12     442\n",
       "3      241\n",
       "9      174\n",
       "10     142\n",
       "11     133\n",
       "13     121\n",
       "7       95\n",
       "8       74\n",
       "2       43\n",
       "5       39\n",
       "6       25\n",
       "1        3\n",
       "dtype: int64"
      ]
     },
     "metadata": {},
     "output_type": "display_data"
    }
   ],
   "source": [
    "if not impressao:\n",
    "    #Counting for check \"SETOR_ATIV\"\n",
    "    display(od2007['SETOR_ATIV'].value_counts())"
   ]
  },
  {
   "cell_type": "code",
   "execution_count": 111,
   "metadata": {
    "collapsed": false
   },
   "outputs": [],
   "source": [
    "#Getting from the csv file the \"CD_UNIF\" (unified code for activity sector) correspondent to the \"SETOR_ATIV\" code\n",
    "od2007['SETOR_ATIV'] = od2007.apply(lambda row: consulta_refext(row, 'setor_ativ-2007.csv', 'COD', 'SETOR_ATIV', 'COD_UNIF'), axis=1)"
   ]
  },
  {
   "cell_type": "code",
   "execution_count": 112,
   "metadata": {
    "collapsed": false
   },
   "outputs": [
    {
     "data": {
      "text/plain": [
       "0    1832\n",
       "7    1060\n",
       "9     823\n",
       "4     813\n",
       "3     241\n",
       "5     121\n",
       "6      64\n",
       "2      43\n",
       "1       3\n",
       "dtype: int64"
      ]
     },
     "metadata": {},
     "output_type": "display_data"
    }
   ],
   "source": [
    "if not impressao:\n",
    "    #Counting \"SETOR_ATIV\" in order to compare the values before and after the replacement\n",
    "    display(od2007['SETOR_ATIV'].value_counts())"
   ]
  },
  {
   "cell_type": "markdown",
   "metadata": {
    "collapsed": false
   },
   "source": [
    "##Passo 25: \"CD_RENIND\"\n",
    "\n",
    "Nada há que se fazer em relação aos dados da coluna \"CD_RENIND\"\n",
    "\n",
    "####Categorias anteriores\n",
    "Valor|Descrição\n",
    "----|----\n",
    "1|Tem renda\n",
    "2|Não tem renda\n",
    "3|Não declarou\n",
    "\n",
    "####Categorias novas\n",
    "Valor|Descrição\n",
    "----|----\n",
    "1|Tem renda\n",
    "2|Não tem renda\n",
    "3|Não declarou\n",
    "\n",
    "[Teste: Checar se existe algum número < 1 ou > 3. Se encontrar, retornar erro indicando em qual linha.]"
   ]
  },
  {
   "cell_type": "code",
   "execution_count": 113,
   "metadata": {
    "collapsed": false
   },
   "outputs": [
    {
     "name": "stdout",
     "output_type": "stream",
     "text": [
      "Series([], dtype: int64)\n"
     ]
    }
   ],
   "source": [
    "#Verifying value interval for check - conditions: \"CD_RENIND < 1\" and \"CD_RENIND > 3\"\n",
    "#od2007[(od2007['CD_RENIND']<1) | (od2007['CD_RENIND']>3)]\n",
    "verifica_RANGE(od2007, 'CD_RENIND', 1, 3)"
   ]
  },
  {
   "cell_type": "markdown",
   "metadata": {
    "collapsed": true
   },
   "source": [
    "-----\n",
    "##\"REN_IND\"\n",
    "Nada há que se fazer em relação aos dados da coluna \"REN_IND\""
   ]
  },
  {
   "cell_type": "markdown",
   "metadata": {},
   "source": [
    "-----\n",
    "##Passo 26: \"UCOD_ESC\"\n",
    "Na coluna \"UCOD_ESC\", linha i, ler o valor da linha i da coluna \"ZONA_ESC\", daí, buscar o mesmo valor na coluna \"Zona 2007\" do arquivo UCOD-2007.csv. Ao achar, retornar o valor da mesma linha, só que da coluna \"UCOD_ESC\"\n",
    "\n",
    "[Teste: no banco completo, checar se o min == 1 e o max == 67]"
   ]
  },
  {
   "cell_type": "code",
   "execution_count": 114,
   "metadata": {
    "collapsed": false
   },
   "outputs": [],
   "source": [
    "#Getting from the csv file the \"UCOD\" code correspondent to the \"ZONA_ESC\" code\n",
    "od2007['UCOD_ESC'] = od2007.apply(lambda row: consulta_refext(row, 'UCOD-2007.csv', 'Zona 2007', 'ZONA_ESC', 'UCOD'), axis=1)"
   ]
  },
  {
   "cell_type": "code",
   "execution_count": 115,
   "metadata": {
    "collapsed": false
   },
   "outputs": [
    {
     "data": {
      "text/plain": [
       "count    5000.000000\n",
       "mean        2.083200\n",
       "std         6.545598\n",
       "min         0.000000\n",
       "25%         0.000000\n",
       "50%         0.000000\n",
       "75%         1.000000\n",
       "max        65.000000\n",
       "Name: UCOD_ESC, dtype: float64"
      ]
     },
     "metadata": {},
     "output_type": "display_data"
    }
   ],
   "source": [
    "if not impressao:\n",
    "    #Describing data (\"UCOD_ESC\" column) - count, mean, std, min and max\n",
    "    display(od2007['UCOD_ESC'].describe())"
   ]
  },
  {
   "cell_type": "code",
   "execution_count": 116,
   "metadata": {
    "collapsed": false
   },
   "outputs": [
    {
     "data": {
      "text/plain": [
       "0     3695\n",
       "4      380\n",
       "5      226\n",
       "2      133\n",
       "1      125\n",
       "3      111\n",
       "19      50\n",
       "7       46\n",
       "23      36\n",
       "8       25\n",
       "13      21\n",
       "6       15\n",
       "43      15\n",
       "24      13\n",
       "9        9\n",
       "35       8\n",
       "15       8\n",
       "20       8\n",
       "58       7\n",
       "21       6\n",
       "39       6\n",
       "53       6\n",
       "14       6\n",
       "10       5\n",
       "11       5\n",
       "60       4\n",
       "26       4\n",
       "50       4\n",
       "25       4\n",
       "30       4\n",
       "65       4\n",
       "42       3\n",
       "33       2\n",
       "44       2\n",
       "41       2\n",
       "61       2\n",
       "dtype: int64"
      ]
     },
     "metadata": {},
     "output_type": "display_data"
    }
   ],
   "source": [
    "if not impressao:\n",
    "    #Count for check \"UCOD_ESC\"\n",
    "    display(od2007['UCOD_ESC'].value_counts())"
   ]
  },
  {
   "cell_type": "code",
   "execution_count": 117,
   "metadata": {
    "collapsed": false,
    "scrolled": true
   },
   "outputs": [
    {
     "name": "stdout",
     "output_type": "stream",
     "text": [
      "0    3695\n",
      "dtype: int64\n"
     ]
    }
   ],
   "source": [
    "#Verifying value interval for check - conditions: \"UCOD_ESC < 1\" and \"UCOD_ESC > 67\"\n",
    "#The 'error' returns must be related to \"UCOD_ESC\" == 0, that is, trips that are not school purposed\n",
    "#od2007[(od2007['UCOD_ESC']<1) | (od2007['UCOD_ESC']>67)]\n",
    "verifica_RANGE(od2007, 'UCOD_ESC', 1, 67)"
   ]
  },
  {
   "cell_type": "markdown",
   "metadata": {},
   "source": [
    "-----\n",
    "##Passo 27: \"ZONA_ESC\"\n",
    "Checar se existe algum erro\n",
    "\n",
    "####Categorias:\n",
    "> 1 a 460\n",
    "\n",
    "[Teste: Checar se existe algum número < 1 ou > 460. Se encontrar, retornar erro indicando em qual linha.]"
   ]
  },
  {
   "cell_type": "code",
   "execution_count": 118,
   "metadata": {
    "collapsed": false
   },
   "outputs": [
    {
     "name": "stdout",
     "output_type": "stream",
     "text": [
      "0    3695\n",
      "dtype: int64\n"
     ]
    }
   ],
   "source": [
    "#Verifying value interval for check - conditions: \"ZONA_ESC < 1\" and \"ZONA_ESC > 460\"\n",
    "#The 'error' returns must be related to \"ZONA_ESC\" == 0, that is, trips that are not school purposed\n",
    "#od2007[(od2007['ZONA_ESC']<1) | (od2007['ZONA_ESC']>460)]\n",
    "verifica_RANGE(od2007, 'ZONA_ESC', 1, 460)"
   ]
  },
  {
   "cell_type": "markdown",
   "metadata": {},
   "source": [
    "-----\n",
    "##Passo 28: \"SUBZONA_ESC\"\n",
    "A coluna \"SUBZONA_ESC\" ficará vazia (missing values) em 2007 porque este ano já contém os dados de coordenadas.\n",
    "\n",
    "Para os anos em que esse input não existe originalmente, esse campo é critério para inserção de coordenadas."
   ]
  },
  {
   "cell_type": "markdown",
   "metadata": {},
   "source": [
    "-----\n",
    "##Passo 29: \"MUN_ESC\"\n",
    "Checar se existe algum erro\n",
    "\n",
    "####Categorias\n",
    "> 1 a 39\n",
    "\n",
    "[Teste: Checar se existe algum número < 1 ou > 39. Se encontrar, retornar erro indicando em qual linha.]"
   ]
  },
  {
   "cell_type": "code",
   "execution_count": 119,
   "metadata": {
    "collapsed": false
   },
   "outputs": [
    {
     "name": "stdout",
     "output_type": "stream",
     "text": [
      "0     3693\n",
      "99       2\n",
      "dtype: int64\n"
     ]
    }
   ],
   "source": [
    "#Verifying value interval for check - conditions: \"MUN_ESC < 1\" and \"MUN_ESC > 39\"\n",
    "#The 'error' returns must be related to \"MUN_ESC\" == 0, that is, trips that are not school purposed\n",
    "#od2007[(od2007['MUN_ESC']<1) | (od2007['MUN_ESC']>39)]\n",
    "verifica_RANGE(od2007, 'MUN_ESC', 1, 39)"
   ]
  },
  {
   "cell_type": "markdown",
   "metadata": {},
   "source": [
    "\n",
    "-----\n",
    "##Passo 30: \"CO_ESC_X\"\n",
    "Em 2007 já existe a informação de \"CO_ESC_X\"\n",
    "\n",
    "Para os demais anos:\n",
    "\n",
    "[Na coluna \"CO_ESC_X\", linha i, ler o valor da linha i da coluna \"SUBZONA_ESC\", daí, buscar o mesmo valor na coluna \"Subzonas_XXXX\" do arquivo CO-SUBZONAS-XXXX.csv. Ao achar, retornar o valor da mesma linha, só que da coluna \"CO_X\"]\n",
    "\n",
    "[Obs.: ainda preciso construir esses csv, ou seja, determinar os centroides das subzonas a partir do MapInfo]\n"
   ]
  },
  {
   "cell_type": "markdown",
   "metadata": {},
   "source": [
    "-----\n",
    "##Passo 31: \"CO_ESC_Y\"\n",
    "Em 2007 já existe a informação de \"CO_ESC_Y\"\n",
    "\n",
    "Para os demais anos:\n",
    "\n",
    "[Na coluna \"CO_ESC_Y\", linha i, ler o valor da linha i da coluna \"SUBZONA_ESC\", daí, buscar o mesmo valor na coluna \"Subzonas_XXXX\" do arquivo CO-SUBZONAS-XXXX.csv. Ao achar, retornar o valor da mesma linha, só que da coluna \"CO_Y\"]\n",
    "\n",
    "[Obs.: ainda preciso construir esses csv, ou seja, determinar os centroides das subzonas a partir do MapInfo]\n"
   ]
  },
  {
   "cell_type": "markdown",
   "metadata": {},
   "source": [
    "-----\n",
    "##Passo 32: \"UCOD_TRAB1\"\n",
    "Na coluna \"UCOD_TRAB1\", linha i, ler o valor da linha i da coluna \"ZONA_TRAB1\", daí, buscar o mesmo valor na coluna \"Zona 2007\" do arquivo UCOD-2007.csv. Ao achar, retornar o valor da mesma linha, só que da coluna \"UCOD_TRAB1\"\n",
    "\n",
    "[Teste: no banco completo, checar se o min == 1 e o max == 67]"
   ]
  },
  {
   "cell_type": "code",
   "execution_count": 120,
   "metadata": {
    "collapsed": false
   },
   "outputs": [],
   "source": [
    "#Getting from the csv file the \"UCOD\" code correspondent to the \"ZONA_TRAB1\" code\n",
    "od2007['UCOD_TRAB1'] = od2007.apply(lambda row: consulta_refext(row, 'UCOD-2007.csv', 'Zona 2007', 'ZONA_TRAB1', 'UCOD'), axis=1)"
   ]
  },
  {
   "cell_type": "code",
   "execution_count": 121,
   "metadata": {
    "collapsed": false
   },
   "outputs": [
    {
     "data": {
      "text/plain": [
       "count    5000.00000\n",
       "mean        4.61520\n",
       "std         9.27465\n",
       "min         0.00000\n",
       "25%         0.00000\n",
       "50%         1.00000\n",
       "75%         4.00000\n",
       "max        65.00000\n",
       "Name: UCOD_TRAB1, dtype: float64"
      ]
     },
     "metadata": {},
     "output_type": "display_data"
    }
   ],
   "source": [
    "if not impressao:\n",
    "    #Describing data (\"UCOD_TRAB1\" column) - count, mean, std, min and max\n",
    "    display(od2007['UCOD_TRAB1'].describe())"
   ]
  },
  {
   "cell_type": "code",
   "execution_count": 122,
   "metadata": {
    "collapsed": false
   },
   "outputs": [
    {
     "data": {
      "text/plain": [
       "0     1844\n",
       "1     1005\n",
       "4      730\n",
       "5      311\n",
       "2      183\n",
       "3      120\n",
       "13     105\n",
       "19      73\n",
       "14      70\n",
       "8       57\n",
       "10      49\n",
       "12      42\n",
       "23      37\n",
       "24      32\n",
       "15      28\n",
       "6       27\n",
       "11      27\n",
       "41      19\n",
       "7       19\n",
       "43      19\n",
       "9       17\n",
       "39      15\n",
       "17      12\n",
       "30      11\n",
       "32      10\n",
       "44       9\n",
       "38       8\n",
       "21       8\n",
       "58       8\n",
       "57       7\n",
       "46       7\n",
       "26       7\n",
       "37       7\n",
       "29       6\n",
       "61       6\n",
       "16       6\n",
       "34       6\n",
       "48       5\n",
       "40       5\n",
       "63       5\n",
       "25       4\n",
       "60       4\n",
       "42       4\n",
       "54       4\n",
       "59       3\n",
       "50       3\n",
       "62       3\n",
       "49       2\n",
       "53       2\n",
       "22       2\n",
       "28       2\n",
       "27       2\n",
       "65       2\n",
       "55       1\n",
       "dtype: int64"
      ]
     },
     "metadata": {},
     "output_type": "display_data"
    }
   ],
   "source": [
    "if not impressao:\n",
    "    #Count for check \"UCOD_TRAB1\"\n",
    "    display(od2007['UCOD_TRAB1'].value_counts())"
   ]
  },
  {
   "cell_type": "code",
   "execution_count": 123,
   "metadata": {
    "collapsed": false
   },
   "outputs": [
    {
     "name": "stdout",
     "output_type": "stream",
     "text": [
      "0    1844\n",
      "dtype: int64\n"
     ]
    }
   ],
   "source": [
    "#Verifying value interval for check - conditions: \"UCOD_TRAB1 < 1\" and \"UCOD_TRAB1 > 67\"\n",
    "#The 'error' returns must be related to \"UCOD_TRAB1\" == 0, that is, trips that are not school purposed\n",
    "#od2007[(od2007['UCOD_TRAB1']<1) | (od2007['UCOD_TRAB1']>67)]\n",
    "verifica_RANGE(od2007, 'UCOD_TRAB1', 1, 67)"
   ]
  },
  {
   "cell_type": "markdown",
   "metadata": {},
   "source": [
    "\n",
    "-----\n",
    "##Passo 33: \"ZONA_TRAB1\"\n",
    "Checar se existe algum erro\n",
    "\n",
    "####Categorias:\n",
    "> 1 a 460\n",
    "\n",
    "[Teste: Checar se existe algum número < 1 ou > 460. Se encontrar, retornar erro indicando em qual linha.]\n"
   ]
  },
  {
   "cell_type": "code",
   "execution_count": 124,
   "metadata": {
    "collapsed": false
   },
   "outputs": [
    {
     "name": "stdout",
     "output_type": "stream",
     "text": [
      "0    1844\n",
      "dtype: int64\n"
     ]
    }
   ],
   "source": [
    "#Verifying value interval for check - conditions: \"ZONA_TRAB1 < 1\" and \"ZONA_TRAB1 > 460\"\n",
    "#The 'error' returns must be related to \"ZONA_TRAB1\"==0, that is, trips that are not school purposed\n",
    "#od2007[(od2007['ZONA_TRAB1']<1) | (od2007['ZONA_TRAB1']>460)]\n",
    "verifica_RANGE(od2007, 'ZONA_TRAB1', 1, 460)"
   ]
  },
  {
   "cell_type": "markdown",
   "metadata": {},
   "source": [
    "-----\n",
    "##Passo 34: \"SUBZONA_TRAB1\"\n",
    "A coluna \"SUBZONA_TRAB1\" ficará vazia (missing values) em 2007 porque este ano já contém os dados de coordenadas.\n",
    "\n",
    "Para os anos em que esse input não existe originalmente, esse campo é critério para inserção de coordenadas."
   ]
  },
  {
   "cell_type": "markdown",
   "metadata": {},
   "source": [
    "-----\n",
    "##Passo 35: \"MUN_TRAB1\"\n",
    "Checar se existe algum erro\n",
    "\n",
    "####Categorias\n",
    "> 1 a 39\n",
    "\n",
    "[Teste: Checar se existe algum número < 1 ou > 39. Se encontrar, retornar erro indicando em qual linha.]"
   ]
  },
  {
   "cell_type": "code",
   "execution_count": 125,
   "metadata": {
    "collapsed": false
   },
   "outputs": [
    {
     "name": "stdout",
     "output_type": "stream",
     "text": [
      "0     1832\n",
      "99      12\n",
      "dtype: int64\n"
     ]
    }
   ],
   "source": [
    "#Verifying value interval for check - conditions: \"MUN_TRAB1 < 1\" ou de \"MUN_TRAB1 > 39\"\n",
    "#The 'error' returns must be related to \"MUN_TRAB1\" == 0, that is, trips that are not school purposed\n",
    "#od2007[(od2007['MUN_TRAB1']<1) | (od2007['MUN_TRAB1']>39)]\n",
    "verifica_RANGE(od2007, 'MUN_TRAB1', 1, 39)"
   ]
  },
  {
   "cell_type": "markdown",
   "metadata": {},
   "source": [
    "-----\n",
    "##Passo 36: \"CO_TRAB1_X\"\n",
    "Em 2007 já existe a informação de \"CO_TRAB1_X\"\n",
    "\n",
    "Para os demais anos:\n",
    "\n",
    "[Na coluna \"CO_TRAB1_X\", linha i, ler o valor da linha i da coluna \"SUBZONA_TRAB1\", daí, buscar o mesmo valor na coluna \"Subzonas_XXXX\" do arquivo CO-SUBZONAS-XXXX.csv. Ao achar, retornar o valor da mesma linha, só que da coluna \"CO_X\"]\n",
    "\n",
    "[Obs.: ainda preciso construir esses csv, ou seja, determinar os centroides das subzonas a partir do MapInfo]"
   ]
  },
  {
   "cell_type": "markdown",
   "metadata": {},
   "source": [
    "-----\n",
    "##Passo 37: \"CO_TRAB1_Y\"\n",
    "Em 2007 já existe a informação de \"CO_TRAB1_Y\"\n",
    "\n",
    "Para os demais anos:\n",
    "\n",
    "[Na coluna \"CO_TRAB1_Y\", linha i, ler o valor da linha i da coluna \"SUBZONA_TRAB1\", daí, buscar o mesmo valor na coluna \"Subzonas_XXXX\" do arquivo CO-SUBZONAS-XXXX.csv. Ao achar, retornar o valor da mesma linha, só que da coluna \"CO_Y\"]\n",
    "\n",
    "[Obs.: ainda preciso construir esses csv, ou seja, determinar os centroides das subzonas a partir do MapInfo]"
   ]
  },
  {
   "cell_type": "markdown",
   "metadata": {},
   "source": [
    "-----\n",
    "##Passo 38: \"UCOD_TRAB2\"\n",
    "Na coluna \"UCOD_TRAB2\", linha i, ler o valor da linha i da coluna \"ZONA_TRAB1\", daí, buscar o mesmo valor na coluna \"Zona 2007\" do arquivo UCOD-2007.csv. Ao achar, retornar o valor da mesma linha, só que da coluna \"UCOD_TRAB2\"\n",
    "\n",
    "[Teste: no banco completo, checar se o min == 1 e o max == 67]"
   ]
  },
  {
   "cell_type": "code",
   "execution_count": 126,
   "metadata": {
    "collapsed": true
   },
   "outputs": [],
   "source": [
    "#Getting from the csv file the \"UCOD\" code correspondent to the \"ZONA_TRAB2\" code\n",
    "od2007['UCOD_TRAB2'] = od2007.apply(lambda row: consulta_refext(row, 'UCOD-2007.csv', 'Zona 2007', 'ZONA_TRAB2', 'UCOD'), axis=1)"
   ]
  },
  {
   "cell_type": "code",
   "execution_count": 127,
   "metadata": {
    "collapsed": false
   },
   "outputs": [
    {
     "data": {
      "text/plain": [
       "count    5000.000000\n",
       "mean        0.276400\n",
       "std         2.330212\n",
       "min         0.000000\n",
       "25%         0.000000\n",
       "50%         0.000000\n",
       "75%         0.000000\n",
       "max        50.000000\n",
       "Name: UCOD_TRAB2, dtype: float64"
      ]
     },
     "metadata": {},
     "output_type": "display_data"
    }
   ],
   "source": [
    "if not impressao:\n",
    "    #Describing data (\"UCOD_TRAB2\" column) - count, mean, std, min and max\n",
    "    display(od2007['UCOD_TRAB2'].describe())"
   ]
  },
  {
   "cell_type": "code",
   "execution_count": 128,
   "metadata": {
    "collapsed": false
   },
   "outputs": [
    {
     "data": {
      "text/plain": [
       "0     4875\n",
       "1       24\n",
       "4       18\n",
       "19      18\n",
       "13      12\n",
       "21       8\n",
       "3        6\n",
       "12       6\n",
       "2        5\n",
       "38       4\n",
       "30       4\n",
       "10       4\n",
       "15       4\n",
       "5        4\n",
       "8        3\n",
       "16       2\n",
       "11       2\n",
       "50       1\n",
       "dtype: int64"
      ]
     },
     "metadata": {},
     "output_type": "display_data"
    }
   ],
   "source": [
    "if not impressao:\n",
    "    #Count for check \"UCOD_TRAB2\"\n",
    "    display(od2007['UCOD_TRAB2'].value_counts())"
   ]
  },
  {
   "cell_type": "code",
   "execution_count": 129,
   "metadata": {
    "collapsed": false
   },
   "outputs": [
    {
     "name": "stdout",
     "output_type": "stream",
     "text": [
      "0    4875\n",
      "dtype: int64\n"
     ]
    }
   ],
   "source": [
    "#Verifying value interval for check - conditions: \"UCOD_TRAB2 < 1\" and \"UCOD_TRAB2 > 67\"\n",
    "#The 'error' returns must be related to \"UCOD_TRAB2\" == 0, that is, trips that are not school purposed\n",
    "#od2007[(od2007['UCOD_TRAB2']<1) | (od2007['UCOD_TRAB2']>67)]\n",
    "verifica_RANGE(od2007, 'UCOD_TRAB2', 1, 67)"
   ]
  },
  {
   "cell_type": "markdown",
   "metadata": {},
   "source": [
    "-----\n",
    "##Passo 39: \"ZONA_TRAB2\"\n",
    "Checar se existe algum erro\n",
    "\n",
    "####Categorias:\n",
    "> 1 a 460\n",
    "\n",
    "[Teste: Checar se existe algum número < 1 ou > 460. Se encontrar, retornar erro indicando em qual linha.]"
   ]
  },
  {
   "cell_type": "code",
   "execution_count": 130,
   "metadata": {
    "collapsed": false
   },
   "outputs": [
    {
     "name": "stdout",
     "output_type": "stream",
     "text": [
      "0    4875\n",
      "dtype: int64\n"
     ]
    }
   ],
   "source": [
    "#Verifying value interval for check - conditions: \"ZONA_TRAB2 < 1\" and \"ZONA_TRAB2 > 460\"\n",
    "#The 'error' returns must be related to \"ZONA_TRAB2\"==0, that is, trips that are not school purposed\n",
    "#od2007[(od2007['ZONA_TRAB2']<1) | (od2007['ZONA_TRAB2']>460)]\n",
    "verifica_RANGE(od2007, 'ZONA_TRAB2', 1, 460)"
   ]
  },
  {
   "cell_type": "markdown",
   "metadata": {},
   "source": [
    "-----\n",
    "##Passo 40: \"SUBZONA_TRAB2\"\n",
    "A coluna \"SUBZONA_TRAB2\" ficará vazia (missing values) em 2007 porque este ano já contém os dados de coordenadas.\n",
    "\n",
    "Para os anos em que esse input não existe originalmente, esse campo é critério para inserção de coordenadas."
   ]
  },
  {
   "cell_type": "markdown",
   "metadata": {},
   "source": [
    "-----\n",
    "##Passo 41: \"MUN_TRAB2\"\n",
    "Checar se existe algum erro\n",
    "\n",
    "####Categorias\n",
    "> 1 a 39\n",
    "\n",
    "[Teste: Checar se existe algum número < 1 ou > 39. Se encontrar, retornar erro indicando em qual linha.]"
   ]
  },
  {
   "cell_type": "code",
   "execution_count": 131,
   "metadata": {
    "collapsed": false
   },
   "outputs": [
    {
     "name": "stdout",
     "output_type": "stream",
     "text": [
      "0    4875\n",
      "dtype: int64\n"
     ]
    }
   ],
   "source": [
    "#Verifying value interval for check - conditions: \"MUN_TRAB2 < 1\" ou de \"MUN_TRAB2 > 39\"\n",
    "#The 'error' returns must be related to \"MUN_TRAB2\" == 0, that is, trips that are not school purposed\n",
    "#od2007[(od2007['MUN_TRAB2']<1) | (od2007['MUN_TRAB2']>39)]\n",
    "verifica_RANGE(od2007, 'MUN_TRAB2', 1, 39)"
   ]
  },
  {
   "cell_type": "markdown",
   "metadata": {},
   "source": [
    "-----\n",
    "##Passo 42: \"CO_TRAB2_X\"\n",
    "Em 2007 já existe a informação de \"CO_TRAB2_X\"\n",
    "\n",
    "Para os demais anos:\n",
    "\n",
    "[Na coluna \"CO_TRAB2_X\", linha i, ler o valor da linha i da coluna \"SUBZONA_TRAB2\", daí, buscar o mesmo valor na coluna \"Subzonas_XXXX\" do arquivo CO-SUBZONAS-XXXX.csv. Ao achar, retornar o valor da mesma linha, só que da coluna \"CO_X\"]\n",
    "\n",
    "[Obs.: ainda preciso construir esses csv, ou seja, determinar os centroides das subzonas a partir do MapInfo]\n"
   ]
  },
  {
   "cell_type": "markdown",
   "metadata": {},
   "source": [
    "-----\n",
    "##Passo 43: \"CO_TRAB2_Y\"\n",
    "Em 2007 já existe a informação de \"CO_TRAB2_Y\"\n",
    "\n",
    "Para os demais anos:\n",
    "\n",
    "[Na coluna \"CO_TRAB2_Y\", linha i, ler o valor da linha i da coluna \"SUBZONA_TRAB2\", daí, buscar o mesmo valor na coluna \"Subzonas_XXXX\" do arquivo CO-SUBZONAS-XXXX.csv. Ao achar, retornar o valor da mesma linha, só que da coluna \"CO_Y\"]\n",
    "\n",
    "[Obs.: ainda preciso construir esses csv, ou seja, determinar os centroides das subzonas a partir do MapInfo]\n"
   ]
  },
  {
   "cell_type": "markdown",
   "metadata": {
    "collapsed": true
   },
   "source": [
    "----\n",
    "##Passo 44: \"ID_VIAG\"\n",
    "Construir o \"ID_VIAG\"\n",
    "\n",
    "Na coluna \"ID_VIAG\", linha i, ler o valor da linha i da coluna \"ID_PESS\", e concatenar esse valor (12 dígitos) com o número da pessoa, que é o valor da linha i da coluna \"NO_VIAG\" (com 2 dígitos).\n",
    "\n",
    "Resultado será um ID_VIAG, que pode se repetir nas linhas, 14 dígitos."
   ]
  },
  {
   "cell_type": "code",
   "execution_count": 132,
   "metadata": {
    "collapsed": false
   },
   "outputs": [],
   "source": [
    "#Generating \"ID_VIAG\" from the concatenation of \"ID_PESS\" and \"NO_VIAG\" variables\n",
    "od2007['ID_VIAG'] = od2007.apply(lambda row: gera_ID_VIAG(row), axis=1)"
   ]
  },
  {
   "cell_type": "markdown",
   "metadata": {},
   "source": [
    "-----\n",
    "##Passo 45: \"F_VIAG\"\n",
    "Excluir a coluna \"F_VIAG\", porque as viagens são numeradas, então já se saber pelo NO_VIAG qual é a primeira do indivíduo."
   ]
  },
  {
   "cell_type": "code",
   "execution_count": 133,
   "metadata": {
    "collapsed": false
   },
   "outputs": [],
   "source": [
    "od2007 = od2007.drop('F_VIAG', 1)"
   ]
  },
  {
   "cell_type": "code",
   "execution_count": 134,
   "metadata": {
    "collapsed": false
   },
   "outputs": [
    {
     "data": {
      "text/plain": [
       "['ANO',\n",
       " 'CD_ENTRE',\n",
       " 'DIA_SEM',\n",
       " 'UCOD_DOM',\n",
       " 'ZONA_DOM',\n",
       " 'SUBZONA_DOM',\n",
       " 'MUN_DOM',\n",
       " 'CO_DOM_X',\n",
       " 'CO_DOM_Y',\n",
       " 'ID_DOM',\n",
       " 'F_DOM',\n",
       " 'FE_DOM',\n",
       " 'NO_DOM',\n",
       " 'TIPO_DOM',\n",
       " 'TOT_FAM',\n",
       " 'ID_FAM',\n",
       " 'F_FAM',\n",
       " 'FE_FAM',\n",
       " 'NO_FAM',\n",
       " 'COND_MORA',\n",
       " 'QT_AUTO',\n",
       " 'QT_BICI',\n",
       " 'QT_MOTO',\n",
       " 'CD_RENFAM',\n",
       " 'REN_FAM',\n",
       " 'ID_PESS',\n",
       " 'F_PESS',\n",
       " 'FE_PESS',\n",
       " 'NO_PESS',\n",
       " 'SIT_FAM',\n",
       " 'IDADE',\n",
       " 'SEXO',\n",
       " 'ESTUDA',\n",
       " 'GRAU_INSTR',\n",
       " 'OCUP',\n",
       " 'SETOR_ATIV',\n",
       " 'CD_RENIND',\n",
       " 'REN_IND',\n",
       " 'UCOD_ESC',\n",
       " 'ZONA_ESC',\n",
       " 'SUBZONA_ESC',\n",
       " 'MUN_ESC',\n",
       " 'CO_ESC_X',\n",
       " 'CO_ESC_Y',\n",
       " 'UCOD_TRAB1',\n",
       " 'ZONA_TRAB1',\n",
       " 'SUBZONA_TRAB1',\n",
       " 'MUN_TRAB1',\n",
       " 'CO_TRAB1_X',\n",
       " 'CO_TRAB1_Y',\n",
       " 'UCOD_TRAB2',\n",
       " 'ZONA_TRAB2',\n",
       " 'SUBZONA_TRAB2',\n",
       " 'MUN_TRAB2',\n",
       " 'CO_TRAB2_X',\n",
       " 'CO_TRAB2_Y',\n",
       " 'ID_VIAG',\n",
       " 'FE_VIAG',\n",
       " 'NO_VIAG',\n",
       " 'TOT_VIAG',\n",
       " 'UCOD_ORIG',\n",
       " 'ZONA_ORIG',\n",
       " 'SUBZONA_ORIG',\n",
       " 'MUN_ORIG',\n",
       " 'CO_ORIG_X',\n",
       " 'CO_ORIG_Y',\n",
       " 'UCOD_DEST',\n",
       " 'ZONA_DEST',\n",
       " 'SUBZONA_DEST',\n",
       " 'MUN_DEST',\n",
       " 'CO_DEST_X',\n",
       " 'CO_DEST_Y',\n",
       " 'DIST_VIAG',\n",
       " 'MOTIVO_ORIG',\n",
       " 'MOTIVO_DEST',\n",
       " 'MODO1',\n",
       " 'MODO2',\n",
       " 'MODO3',\n",
       " 'MODO4',\n",
       " 'MODO_PRIN',\n",
       " 'TIPO_VIAG',\n",
       " 'H_SAIDA',\n",
       " 'MIN_SAIDA',\n",
       " 'ANDA_ORIG',\n",
       " 'H_CHEG',\n",
       " 'MIN_CHEG',\n",
       " 'ANDA_DEST',\n",
       " 'DURACAO',\n",
       " 'TIPO_EST_AUTO',\n",
       " 'VALOR_EST_AUTO']"
      ]
     },
     "metadata": {},
     "output_type": "display_data"
    }
   ],
   "source": [
    "#Storing the variables list in the \"cols\" variable\n",
    "cols = od2007.columns.tolist()\n",
    "if not impressao:\n",
    "    #printing \"cols\" variable to check if the reorder operation was effective\n",
    "    display(cols)"
   ]
  },
  {
   "cell_type": "markdown",
   "metadata": {},
   "source": [
    "-----\n",
    "##\"FE_VIAG\" e \"NO_VIAG\"\n",
    "Nada há que se fazer em relação aos dados das colunas \"FE_VIAG\" e \"NO_VIAG\""
   ]
  },
  {
   "cell_type": "markdown",
   "metadata": {},
   "source": [
    "-----\n",
    "##\"TOT_VIAG\"\n",
    "Nada há que se fazer em relação aos dados das colunas \"TOT_VIAG\""
   ]
  },
  {
   "cell_type": "markdown",
   "metadata": {},
   "source": [
    "-----\n",
    "##Passo 46: \"UCOD_ORIG\"\n",
    "Na coluna \"UCOD_ORIG\", linha i, ler o valor da linha i da coluna \"ZONA_ORIG\", daí, buscar o mesmo valor na coluna \"Zona 2007\" do arquivo UCOD-2007.csv. Ao achar, retornar o valor da mesma linha, só que da coluna \"UCOD_ORIG\"\n",
    "\n",
    "[Teste: no banco completo, checar se o min == 1 e o max == 67]"
   ]
  },
  {
   "cell_type": "code",
   "execution_count": 135,
   "metadata": {
    "collapsed": false
   },
   "outputs": [],
   "source": [
    "#Getting from the csv file the \"UCOD\" code correspondent to the \"ZONA_ORIG\" code\n",
    "od2007['UCOD_ORIG'] = od2007.apply(lambda row: consulta_refext(row, 'UCOD-2007.csv', 'Zona 2007', 'ZONA_ORIG', 'UCOD'), axis=1)"
   ]
  },
  {
   "cell_type": "code",
   "execution_count": 136,
   "metadata": {
    "collapsed": false
   },
   "outputs": [
    {
     "data": {
      "text/plain": [
       "count    5000.000000\n",
       "mean        4.641600\n",
       "std         8.208814\n",
       "min         0.000000\n",
       "25%         1.000000\n",
       "50%         3.000000\n",
       "75%         4.000000\n",
       "max        65.000000\n",
       "Name: UCOD_ORIG, dtype: float64"
      ]
     },
     "metadata": {},
     "output_type": "display_data"
    }
   ],
   "source": [
    "if not impressao:\n",
    "    #Describing data (\"UCOD_ORIG\" column) - count, mean, std, min and max\n",
    "    display(od2007['UCOD_ORIG'].describe())"
   ]
  },
  {
   "cell_type": "code",
   "execution_count": 137,
   "metadata": {
    "collapsed": false
   },
   "outputs": [
    {
     "data": {
      "text/plain": [
       "1     1585\n",
       "4     1212\n",
       "0      705\n",
       "5      584\n",
       "2      157\n",
       "3      131\n",
       "19      71\n",
       "13      65\n",
       "8       54\n",
       "14      31\n",
       "23      31\n",
       "10      30\n",
       "7       29\n",
       "6       25\n",
       "12      25\n",
       "24      22\n",
       "15      18\n",
       "11      17\n",
       "9       17\n",
       "30      13\n",
       "43      13\n",
       "21      12\n",
       "60      10\n",
       "29      10\n",
       "41       9\n",
       "39       9\n",
       "17       8\n",
       "26       7\n",
       "16       6\n",
       "63       6\n",
       "58       6\n",
       "44       5\n",
       "38       5\n",
       "34       4\n",
       "42       4\n",
       "35       4\n",
       "37       4\n",
       "61       4\n",
       "22       4\n",
       "50       4\n",
       "46       4\n",
       "20       3\n",
       "59       3\n",
       "25       3\n",
       "33       3\n",
       "27       3\n",
       "32       2\n",
       "31       2\n",
       "55       2\n",
       "62       2\n",
       "28       2\n",
       "54       2\n",
       "40       2\n",
       "18       2\n",
       "53       2\n",
       "57       2\n",
       "65       2\n",
       "36       1\n",
       "48       1\n",
       "49       1\n",
       "dtype: int64"
      ]
     },
     "metadata": {},
     "output_type": "display_data"
    }
   ],
   "source": [
    "if not impressao:\n",
    "    #Count for check \"UCOD_ORIG\"\n",
    "    display(od2007['UCOD_ORIG'].value_counts())"
   ]
  },
  {
   "cell_type": "code",
   "execution_count": 138,
   "metadata": {
    "collapsed": false
   },
   "outputs": [
    {
     "name": "stdout",
     "output_type": "stream",
     "text": [
      "0    705\n",
      "dtype: int64\n"
     ]
    }
   ],
   "source": [
    "#Verifying value interval for check - conditions: \"UCOD_ORIG < 1\" and \"UCOD_ORIG > 67\"\n",
    "#The 'error' returns must be related to \"UCOD_ORIG\" == 0, that is, trips that are not school purposed\n",
    "#od2007[(od2007['UCOD_ORIG']<1) | (od2007['UCOD_ORIG']>67)]\n",
    "verifica_RANGE(od2007, 'UCOD_ORIG', 1, 67)"
   ]
  },
  {
   "cell_type": "markdown",
   "metadata": {},
   "source": [
    "-----\n",
    "##Passo 47: \"ZONA_ORIG\"\n",
    "Checar se existe algum erro\n",
    "\n",
    "####Categorias:\n",
    "> 1 a 460\n",
    "\n",
    "[Teste: Checar se existe algum número < 1 ou > 460. Se encontrar, retornar erro indicando em qual linha.]"
   ]
  },
  {
   "cell_type": "code",
   "execution_count": 139,
   "metadata": {
    "collapsed": false
   },
   "outputs": [
    {
     "name": "stdout",
     "output_type": "stream",
     "text": [
      "0    705\n",
      "dtype: int64\n"
     ]
    }
   ],
   "source": [
    "#Verifying value interval for check - conditions: \"ZONA_ORIG < 1\" and \"ZONA_ORIG > 460\"\n",
    "#The 'error' returns must be related to \"ZONA_ORIG\"==0, that is, trips that are not school purposed\n",
    "#od2007[(od2007['ZONA_ORIG']<1) | (od2007['ZONA_ORIG']>460)]\n",
    "verifica_RANGE(od2007, 'ZONA_ORIG', 1, 460)"
   ]
  },
  {
   "cell_type": "markdown",
   "metadata": {},
   "source": [
    "-----\n",
    "##Passo 48: \"SUBZONA_ORIG\"\n",
    "A coluna \"SUBZONA_ORIG\" ficará vazia (missing values) em 2007 porque este ano já contém os dados de coordenadas.\n",
    "\n",
    "Para os anos em que esse input não existe originalmente, esse campo é critério para inserção de coordenadas."
   ]
  },
  {
   "cell_type": "markdown",
   "metadata": {},
   "source": [
    "-----\n",
    "##Passo 49: \"MUN_ORIG\"\n",
    "Checar se existe algum erro\n",
    "\n",
    "####Categorias\n",
    "> 1 a 39\n",
    "\n",
    "[Teste: Checar se existe algum número < 1 ou > 39. Se encontrar, retornar erro indicando em qual linha.]"
   ]
  },
  {
   "cell_type": "code",
   "execution_count": 140,
   "metadata": {
    "collapsed": false
   },
   "outputs": [
    {
     "name": "stdout",
     "output_type": "stream",
     "text": [
      "0    705\n",
      "dtype: int64\n"
     ]
    }
   ],
   "source": [
    "#Verifying value interval for check - conditions: \"MUN_ORIG < 1\" ou de \"MUN_ORIG > 39\"\n",
    "#The 'error' returns must be related to \"MUN_ORIG\" == 0, that is, trips that are not school purposed\n",
    "#od2007[(od2007['MUN_ORIG']<1) | (od2007['MUN_ORIG']>39)]\n",
    "verifica_RANGE(od2007, 'MUN_ORIG', 1, 39)"
   ]
  },
  {
   "cell_type": "markdown",
   "metadata": {},
   "source": [
    "-----\n",
    "##Passo 50: \"CO_ORIG_X\"\n",
    "Em 2007 já existe a informação de \"CO_ORIG_X\"\n",
    "\n",
    "Para os demais anos:\n",
    "\n",
    "[Na coluna \"CO_ORIG_X\", linha i, ler o valor da linha i da coluna \"SUBZONA_ORIG\", daí, buscar o mesmo valor na coluna \"Subzonas_XXXX\" do arquivo CO-SUBZONAS-XXXX.csv. Ao achar, retornar o valor da mesma linha, só que da coluna \"CO_X\"]\n",
    "\n",
    "[Obs.: ainda preciso construir esses csv, ou seja, determinar os centroides das subzonas a partir do MapInfo]"
   ]
  },
  {
   "cell_type": "markdown",
   "metadata": {},
   "source": [
    "-----\n",
    "##Passo 51: \"CO_ORIG_Y\"\n",
    "Em 2007 já existe a informação de \"CO_ORIG_Y\"\n",
    "\n",
    "Para os demais anos:\n",
    "\n",
    "[Na coluna \"CO_ORIG_Y\", linha i, ler o valor da linha i da coluna \"SUBZONA_ORIG\", daí, buscar o mesmo valor na coluna \"Subzonas_XXXX\" do arquivo CO-SUBZONAS-XXXX.csv. Ao achar, retornar o valor da mesma linha, só que da coluna \"CO_Y\"]\n",
    "\n",
    "[Obs.: ainda preciso construir esses csv, ou seja, determinar os centroides das subzonas a partir do MapInfo]"
   ]
  },
  {
   "cell_type": "markdown",
   "metadata": {},
   "source": [
    "-----\n",
    "##Passo 52: \"UCOD_DEST\"\n",
    "Na coluna \"UCOD_DEST\", linha i, ler o valor da linha i da coluna \"ZONA_DEST\", daí, buscar o mesmo valor na coluna \"Zona 2007\" do arquivo UCOD-2007.csv. Ao achar, retornar o valor da mesma linha, só que da coluna \"UCOD_DEST\"\n",
    "\n",
    "[Teste: no banco completo, checar se o min == 1 e o max == 67]"
   ]
  },
  {
   "cell_type": "code",
   "execution_count": 141,
   "metadata": {
    "collapsed": false
   },
   "outputs": [],
   "source": [
    "#Getting from the csv file the \"UCOD\" code correspondent to the \"ZONA_DEST\" code\n",
    "od2007['UCOD_DEST'] = od2007.apply(lambda row: consulta_refext(row, 'UCOD-2007.csv', 'Zona 2007', 'ZONA_DEST', 'UCOD'), axis=1)"
   ]
  },
  {
   "cell_type": "code",
   "execution_count": 142,
   "metadata": {
    "collapsed": false
   },
   "outputs": [
    {
     "data": {
      "text/plain": [
       "count    5000.000000\n",
       "mean        4.736800\n",
       "std         8.478626\n",
       "min         0.000000\n",
       "25%         1.000000\n",
       "50%         3.000000\n",
       "75%         4.000000\n",
       "max        66.000000\n",
       "Name: UCOD_DEST, dtype: float64"
      ]
     },
     "metadata": {},
     "output_type": "display_data"
    }
   ],
   "source": [
    "if not impressao:\n",
    "    #Describing data (\"UCOD_DEST\" column) - count, mean, std, min and max\n",
    "    display(od2007['UCOD_DEST'].describe())"
   ]
  },
  {
   "cell_type": "code",
   "execution_count": 143,
   "metadata": {
    "collapsed": false
   },
   "outputs": [
    {
     "data": {
      "text/plain": [
       "1     1578\n",
       "4     1202\n",
       "0      705\n",
       "5      584\n",
       "2      160\n",
       "3      132\n",
       "19      73\n",
       "13      66\n",
       "8       56\n",
       "10      30\n",
       "7       30\n",
       "14      30\n",
       "23      29\n",
       "6       25\n",
       "12      25\n",
       "24      21\n",
       "15      19\n",
       "9       18\n",
       "11      17\n",
       "30      14\n",
       "60      13\n",
       "21      12\n",
       "41      12\n",
       "43      12\n",
       "29       9\n",
       "39       9\n",
       "17       8\n",
       "63       8\n",
       "26       7\n",
       "58       6\n",
       "      ... \n",
       "16       5\n",
       "46       4\n",
       "61       4\n",
       "35       4\n",
       "20       4\n",
       "34       4\n",
       "37       4\n",
       "22       4\n",
       "50       4\n",
       "42       4\n",
       "27       3\n",
       "54       3\n",
       "25       3\n",
       "59       3\n",
       "33       3\n",
       "36       2\n",
       "31       2\n",
       "28       2\n",
       "32       2\n",
       "65       2\n",
       "40       2\n",
       "62       2\n",
       "53       2\n",
       "48       1\n",
       "66       1\n",
       "45       1\n",
       "49       1\n",
       "57       1\n",
       "55       1\n",
       "18       1\n",
       "dtype: int64"
      ]
     },
     "metadata": {},
     "output_type": "display_data"
    }
   ],
   "source": [
    "if not impressao:\n",
    "    #Count for check \"UCOD_DEST\"\n",
    "    display(od2007['UCOD_DEST'].value_counts())"
   ]
  },
  {
   "cell_type": "code",
   "execution_count": 144,
   "metadata": {
    "collapsed": false
   },
   "outputs": [
    {
     "name": "stdout",
     "output_type": "stream",
     "text": [
      "0    705\n",
      "dtype: int64\n"
     ]
    }
   ],
   "source": [
    "#Verifying value interval for check - conditions: \"UCOD_DEST < 1\" and \"UCOD_DEST > 67\"\n",
    "#The 'error' returns must be related to \"UCOD_DEST\" == 0, that is, trips that are not school purposed\n",
    "#od2007[(od2007['UCOD_DEST']<1) | (od2007['UCOD_DEST']>67)]\n",
    "verifica_RANGE(od2007, 'UCOD_DEST', 1, 67)"
   ]
  },
  {
   "cell_type": "markdown",
   "metadata": {},
   "source": [
    "-----\n",
    "##Passo 53: \"ZONA_DEST\"\n",
    "Checar se existe algum erro\n",
    "\n",
    "####Categorias:\n",
    "> 1 a 460\n",
    "\n",
    "[Teste: Checar se existe algum número < 1 ou > 460. Se encontrar, retornar erro indicando em qual linha.]"
   ]
  },
  {
   "cell_type": "code",
   "execution_count": 145,
   "metadata": {
    "collapsed": false
   },
   "outputs": [
    {
     "name": "stdout",
     "output_type": "stream",
     "text": [
      "0    705\n",
      "dtype: int64\n"
     ]
    }
   ],
   "source": [
    "#Verifying value interval for check - conditions: \"ZONA_DEST < 1\" and \"ZONA_DEST > 460\"\n",
    "#The 'error' returns must be related to \"ZONA_DEST\"==0, that is, trips that are not school purposed\n",
    "#od2007[(od2007['ZONA_DEST']<1) | (od2007['ZONA_DEST']>460)]\n",
    "verifica_RANGE(od2007, 'ZONA_DEST', 1, 460)"
   ]
  },
  {
   "cell_type": "markdown",
   "metadata": {},
   "source": [
    "-----\n",
    "##Passo 54: \"SUBZONA_DEST\"\n",
    "A coluna \"SUBZONA_DEST\" ficará vazia (missing values) em 2007 porque este ano já contém os dados de coordenadas.\n",
    "\n",
    "Para os anos em que esse input não existe originalmente, esse campo é critério para inserção de coordenadas."
   ]
  },
  {
   "cell_type": "markdown",
   "metadata": {},
   "source": [
    "-----\n",
    "##Passo 55: \"MUN_DEST\"\n",
    "Checar se existe algum erro\n",
    "\n",
    "####Categorias\n",
    "> 1 a 39\n",
    "\n",
    "[Teste: Checar se existe algum número < 1 ou > 39. Se encontrar, retornar erro indicando em qual linha.]"
   ]
  },
  {
   "cell_type": "code",
   "execution_count": 146,
   "metadata": {
    "collapsed": false
   },
   "outputs": [
    {
     "name": "stdout",
     "output_type": "stream",
     "text": [
      "0    705\n",
      "dtype: int64\n"
     ]
    }
   ],
   "source": [
    "#Verifying value interval for check - conditions: \"MUN_DEST < 1\" ou de \"MUN_DEST > 39\"\n",
    "#The 'error' returns must be related to \"MUN_DEST\" == 0, that is, trips that are not school purposed\n",
    "#od2007[(od2007['MUN_DEST']<1) | (od2007['MUN_DEST']>39)]\n",
    "verifica_RANGE(od2007, 'MUN_DEST', 1, 39)"
   ]
  },
  {
   "cell_type": "markdown",
   "metadata": {},
   "source": [
    "-----\n",
    "##Passo 56: \"CO_DEST_X\"\n",
    "Em 2007 já existe a informação de \"CO_DEST_X\"\n",
    "\n",
    "Para os demais anos:\n",
    "\n",
    "[Na coluna \"CO_DEST_X\", linha i, ler o valor da linha i da coluna \"SUBZONA_DEST\", daí, buscar o mesmo valor na coluna \"Subzonas_XXXX\" do arquivo CO-SUBZONAS-XXXX.csv. Ao achar, retornar o valor da mesma linha, só que da coluna \"CO_X\"]\n",
    "\n",
    "[Obs.: ainda preciso construir esses csv, ou seja, determinar os centroides das subzonas a partir do MapInfo]"
   ]
  },
  {
   "cell_type": "markdown",
   "metadata": {
    "collapsed": false
   },
   "source": [
    "-----\n",
    "##Passo 57: \"CO_DEST_Y\"\n",
    "Em 2007 já existe a informação de \"CO_DEST_Y\"\n",
    "\n",
    "Para os demais anos:\n",
    "\n",
    "[Na coluna \"CO_DEST_Y\", linha i, ler o valor da linha i da coluna \"SUBZONA_DEST\", daí, buscar o mesmo valor na coluna \"Subzonas_XXXX\" do arquivo CO-SUBZONAS-XXXX.csv. Ao achar, retornar o valor da mesma linha, só que da coluna \"CO_Y\"]\n",
    "\n",
    "[Obs.: ainda preciso construir esses csv, ou seja, determinar os centroides das subzonas a partir do MapInfo]"
   ]
  },
  {
   "cell_type": "markdown",
   "metadata": {
    "collapsed": true
   },
   "source": [
    "-----\n",
    "##Passo 58: \"DIST_VIAG\"\n",
    "Em 2007 já existe a informação de \"DIST_VIAG\"\n",
    "\n",
    "Nos demais anos é preciso calcular a distância euclidiana (a partir da CO_ORIG_X;CO_ORIG_Y e CO_DEST_X;CO_DEST_Y)"
   ]
  },
  {
   "cell_type": "markdown",
   "metadata": {},
   "source": [
    "-----\n",
    "##Passo 59: \"MOTIVO_ORIG\"\n",
    "Substituir valores da coluna \"MOTIVO_ORIG\"\n",
    "\n",
    "* Substituir todos valores **10** por **9**\n",
    "\n",
    "####Categorias anteriores\n",
    "Valor|Descrição\n",
    "----|----\n",
    "1|Trabalho/Indústria\n",
    "2|Trabalho/Comércio\n",
    "3|Trabalho/Serviços\n",
    "4|Educação\n",
    "5|Compras\n",
    "6|Saúde\n",
    "7|Lazer\n",
    "8|Residência\n",
    "9|Procurar Emprego\n",
    "10|Assuntos Pessoais\n",
    "\n",
    "####Categorias novas\n",
    "Valor|Descrição\n",
    "----|----\n",
    "1|Trabalho/Indústria\n",
    "2|Trabalho/Comércio\n",
    "3|Trabalho/Serviços\n",
    "4|Educação\n",
    "5|Compras\n",
    "6|Saúde\n",
    "7|Lazer\n",
    "8|Residência\n",
    "9|Outros\n",
    "\n",
    "[Teste: Checar se existe algum número < 1 ou > 9. Se encontrar, retornar erro indicando em qual linha.]"
   ]
  },
  {
   "cell_type": "code",
   "execution_count": 147,
   "metadata": {
    "collapsed": false
   },
   "outputs": [
    {
     "data": {
      "text/plain": [
       "8     1998\n",
       "4      726\n",
       "3      714\n",
       "0      705\n",
       "2      344\n",
       "10     151\n",
       "7      112\n",
       "5      101\n",
       "1       74\n",
       "6       71\n",
       "9        4\n",
       "dtype: int64"
      ]
     },
     "metadata": {},
     "output_type": "display_data"
    }
   ],
   "source": [
    "if not impressao:\n",
    "    #Counting for check \"MOTIVO_ORIG\"\n",
    "    display(od2007['MOTIVO_ORIG'].value_counts())"
   ]
  },
  {
   "cell_type": "code",
   "execution_count": 148,
   "metadata": {
    "collapsed": false
   },
   "outputs": [],
   "source": [
    "#Replacing the values 10 for 9\n",
    "od2007.loc[od2007['MOTIVO_ORIG']==10,'MOTIVO_ORIG'] = 9"
   ]
  },
  {
   "cell_type": "code",
   "execution_count": 149,
   "metadata": {
    "collapsed": false
   },
   "outputs": [
    {
     "data": {
      "text/plain": [
       "8    1998\n",
       "4     726\n",
       "3     714\n",
       "0     705\n",
       "2     344\n",
       "9     155\n",
       "7     112\n",
       "5     101\n",
       "1      74\n",
       "6      71\n",
       "dtype: int64"
      ]
     },
     "metadata": {},
     "output_type": "display_data"
    }
   ],
   "source": [
    "if not impressao:\n",
    "    #Counting \"MOTIVO_ORIG\" in order to compare the values before and after the replacement\n",
    "    display(od2007['MOTIVO_ORIG'].value_counts())"
   ]
  },
  {
   "cell_type": "code",
   "execution_count": 150,
   "metadata": {
    "collapsed": false
   },
   "outputs": [
    {
     "name": "stdout",
     "output_type": "stream",
     "text": [
      "0    705\n",
      "dtype: int64\n"
     ]
    }
   ],
   "source": [
    "#Verifying value interval for check - conditions: \"MOTIVO_ORIG < 1\" and \"MOTIVO_ORIG > 9\"\n",
    "#od2007[(od2007['MOTIVO_ORIG']<1) | (od2007['MOTIVO_ORIG']>9)]\n",
    "verifica_RANGE(od2007, 'MOTIVO_ORIG', 1, 9)"
   ]
  },
  {
   "cell_type": "markdown",
   "metadata": {},
   "source": [
    "-----\n",
    "##Passo 60: \"MOTIVO_DEST\"\n",
    "Substituir valores da coluna \"MOTIVO_DEST\"\n",
    "\n",
    "* Substituir todos valores **10** por **9**\n",
    "\n",
    "####Categorias anteriores\n",
    "Valor|Descrição\n",
    "----|----\n",
    "1|Trabalho/Indústria\n",
    "2|Trabalho/Comércio\n",
    "3|Trabalho/Serviços\n",
    "4|Educação\n",
    "5|Compras\n",
    "6|Saúde\n",
    "7|Lazer\n",
    "8|Residência\n",
    "9|Procurar Emprego\n",
    "10|Assuntos Pessoais\n",
    "\n",
    "####Categorias novas\n",
    "Valor|Descrição\n",
    "----|----\n",
    "1|Trabalho/Indústria\n",
    "2|Trabalho/Comércio\n",
    "3|Trabalho/Serviços\n",
    "4|Educação\n",
    "5|Compras\n",
    "6|Saúde\n",
    "7|Lazer\n",
    "8|Residência\n",
    "9|Outros\n",
    "\n",
    "[Teste: Checar se existe algum número < 1 ou > 9. Se encontrar, retornar erro indicando em qual linha.]"
   ]
  },
  {
   "cell_type": "code",
   "execution_count": 151,
   "metadata": {
    "collapsed": false
   },
   "outputs": [
    {
     "data": {
      "text/plain": [
       "8     1959\n",
       "4      731\n",
       "3      727\n",
       "0      705\n",
       "2      355\n",
       "10     147\n",
       "7      127\n",
       "5      102\n",
       "1       72\n",
       "6       71\n",
       "9        4\n",
       "dtype: int64"
      ]
     },
     "metadata": {},
     "output_type": "display_data"
    }
   ],
   "source": [
    "if not impressao:\n",
    "    #Counting for check \"MOTIVO_DEST\"\n",
    "    display(od2007['MOTIVO_DEST'].value_counts())"
   ]
  },
  {
   "cell_type": "code",
   "execution_count": 152,
   "metadata": {
    "collapsed": true
   },
   "outputs": [],
   "source": [
    "#Replacing the values 10 for 9\n",
    "od2007.loc[od2007['MOTIVO_DEST']==10,'MOTIVO_DEST'] = 9"
   ]
  },
  {
   "cell_type": "code",
   "execution_count": 153,
   "metadata": {
    "collapsed": false
   },
   "outputs": [
    {
     "data": {
      "text/plain": [
       "8    1959\n",
       "4     731\n",
       "3     727\n",
       "0     705\n",
       "2     355\n",
       "9     151\n",
       "7     127\n",
       "5     102\n",
       "1      72\n",
       "6      71\n",
       "dtype: int64"
      ]
     },
     "metadata": {},
     "output_type": "display_data"
    }
   ],
   "source": [
    "if not impressao:\n",
    "    #Counting \"MOTIVO_DEST in order to compare the values before and after the replacement\n",
    "    display(od2007['MOTIVO_DEST'].value_counts())"
   ]
  },
  {
   "cell_type": "code",
   "execution_count": 154,
   "metadata": {
    "collapsed": false
   },
   "outputs": [
    {
     "name": "stdout",
     "output_type": "stream",
     "text": [
      "0    705\n",
      "dtype: int64\n"
     ]
    }
   ],
   "source": [
    "#Verifying value interval for check - conditions: \"MOTIVO_DEST < 1\" and \"MOTIVO_DEST > 9\"\n",
    "#od2007[(od2007['MOTIVO_DEST']<1) | (od2007['MOTIVO_DEST']>9)]\n",
    "verifica_RANGE(od2007, 'MOTIVO_DEST', 1, 9)"
   ]
  },
  {
   "cell_type": "markdown",
   "metadata": {
    "collapsed": true
   },
   "source": [
    "-----\n",
    "##Passo 61: \"MODO1\"\n",
    "Substituir valores da coluna \"MODO1\"\n",
    "\n",
    "* Substituir todos valores **2** por **1**\n",
    "* Substituir todos valores **3** por **1**\n",
    "* Substituir todos valores **4** por **2**\n",
    "* Substituir todos valores **5** por **2**\n",
    "* Substituir todos valores **6** por **3**\n",
    "* Substituir todos valores **7** por **4**\n",
    "* Substituir todos valores **8** por **5**\n",
    "* Substituir todos valores **9** por **6**\n",
    "* Substituir todos valores **10** por **6**\n",
    "* Substituir todos valores **11** por **6**\n",
    "* Substituir todos valores **12** por **7**\n",
    "* Substituir todos valores **13** por **8**\n",
    "* Substituir todos valores **14** por **9**\n",
    "* Substituir todos valores **15** por **10**\n",
    "* Substituir todos valores **16** por **11**\n",
    "* Substituir todos valores **17** por **12**\n",
    "\n",
    "####Categorias anteriores\n",
    "Valor|Descrição\n",
    "----|----\n",
    "1|Ônibus Município S.Paulo\n",
    "2|Ônibus Outros Municípios\n",
    "3|Ônibus Metropolitano\n",
    "4|Ônibus Fretado\n",
    "5|Escolar\n",
    "6|Dirigindo Automóvel\n",
    "7|Passageiro de Automóvel\n",
    "8|Táxi\n",
    "9|Microônibus/Van Município de S.Paulo\n",
    "10|Microônibus/Van Outros Municípios\n",
    "11|Microônibus/Van Metropolitano\n",
    "12|Metrô\n",
    "13|Trem\n",
    "14|Moto\n",
    "15|Bicicleta\n",
    "16|A Pé\n",
    "17|Outros\n",
    "\n",
    "####Categorias novas\n",
    "Valor|Descrição\n",
    "----|----\n",
    "1|Ônibus\n",
    "2|Ônibus Escolar / Empresa\n",
    "3|Dirigindo Automóvel\n",
    "4|Passageiro de Automóvel\n",
    "5|Táxi\n",
    "6|Lotação / Perua / Van / Microônibus\n",
    "7|Metrô\n",
    "8|Trem\n",
    "9|Moto\n",
    "10|Bicicleta\n",
    "11|A Pé\n",
    "12|Outros\n",
    "\n",
    "[Teste: Checar se existe algum número < 1 ou > 12. Se encontrar, retornar erro indicando em qual linha.]"
   ]
  },
  {
   "cell_type": "code",
   "execution_count": 155,
   "metadata": {
    "collapsed": false
   },
   "outputs": [
    {
     "data": {
      "text/plain": [
       "16    2299\n",
       "0      705\n",
       "1      693\n",
       "12     479\n",
       "6      402\n",
       "7      197\n",
       "15      61\n",
       "5       50\n",
       "14      31\n",
       "13      28\n",
       "8       24\n",
       "4       13\n",
       "9       12\n",
       "2        4\n",
       "3        1\n",
       "10       1\n",
       "dtype: int64"
      ]
     },
     "metadata": {},
     "output_type": "display_data"
    }
   ],
   "source": [
    "if not impressao:\n",
    "    #Counting for check \"MODO1\"\n",
    "    display(od2007['MODO1'].value_counts())"
   ]
  },
  {
   "cell_type": "code",
   "execution_count": 156,
   "metadata": {
    "collapsed": true
   },
   "outputs": [],
   "source": [
    "#Replacing the values 2 for 1\n",
    "od2007.loc[od2007['MODO1']==2,'MODO1'] = 1\n",
    "#Replacing the values 3 for 1\n",
    "od2007.loc[od2007['MODO1']==3,'MODO1'] = 1\n",
    "#Replacing the values 4 for 2\n",
    "od2007.loc[od2007['MODO1']==4,'MODO1'] = 2\n",
    "#Replacing the values 5 for 2\n",
    "od2007.loc[od2007['MODO1']==5,'MODO1'] = 2\n",
    "#Replacing the values 6 for 3\n",
    "od2007.loc[od2007['MODO1']==6,'MODO1'] = 3\n",
    "#Replacing the values 7 for 4\n",
    "od2007.loc[od2007['MODO1']==7,'MODO1'] = 4\n",
    "#Replacing the values 8 for 5\n",
    "od2007.loc[od2007['MODO1']==8,'MODO1'] = 5\n",
    "#Replacing the values 9 for 6\n",
    "od2007.loc[od2007['MODO1']==9,'MODO1'] = 6\n",
    "#Replacing the values 10 for 6\n",
    "od2007.loc[od2007['MODO1']==10,'MODO1'] = 6\n",
    "#Replacing the values 11 for 6\n",
    "od2007.loc[od2007['MODO1']==11,'MODO1'] = 6\n",
    "#Replacing the values 12 for 7\n",
    "od2007.loc[od2007['MODO1']==12,'MODO1'] = 7\n",
    "#Replacing the values 13 for 8\n",
    "od2007.loc[od2007['MODO1']==13,'MODO1'] = 8\n",
    "#Replacing the values 14 for 9\n",
    "od2007.loc[od2007['MODO1']==14,'MODO1'] = 9\n",
    "#Replacing the values 15 for 10\n",
    "od2007.loc[od2007['MODO1']==15,'MODO1'] = 10\n",
    "#Replacing the values 16 for 11\n",
    "od2007.loc[od2007['MODO1']==16,'MODO1'] = 11\n",
    "#Replacing the values 17 for 11\n",
    "od2007.loc[od2007['MODO1']==17,'MODO1'] = 12"
   ]
  },
  {
   "cell_type": "code",
   "execution_count": 157,
   "metadata": {
    "collapsed": false
   },
   "outputs": [
    {
     "data": {
      "text/plain": [
       "11    2299\n",
       "0      705\n",
       "1      698\n",
       "7      479\n",
       "3      402\n",
       "4      197\n",
       "2       63\n",
       "10      61\n",
       "9       31\n",
       "8       28\n",
       "5       24\n",
       "6       13\n",
       "dtype: int64"
      ]
     },
     "metadata": {},
     "output_type": "display_data"
    }
   ],
   "source": [
    "if not impressao:\n",
    "    #Counting \"MODO1 in order to compare the values before and after the replacement\n",
    "    display(od2007['MODO1'].value_counts())"
   ]
  },
  {
   "cell_type": "code",
   "execution_count": 158,
   "metadata": {
    "collapsed": false
   },
   "outputs": [
    {
     "name": "stdout",
     "output_type": "stream",
     "text": [
      "0    705\n",
      "dtype: int64\n"
     ]
    }
   ],
   "source": [
    "#Verifying value interval for check - conditions: \"MODO1 < 1\" and \"MODO1 > 12\"\n",
    "#od2007[(od2007['MODO1']<1) | (od2007['MODO1']>12)]\n",
    "verifica_RANGE(od2007, 'MODO1', 1, 12)"
   ]
  },
  {
   "cell_type": "markdown",
   "metadata": {},
   "source": [
    "##Passo 62: \"MODO2\"\n",
    "Substituir valores da coluna \"MODO2\"\n",
    "\n",
    "~ mesmas categorias utilizadas no MODO1 ~"
   ]
  },
  {
   "cell_type": "code",
   "execution_count": 159,
   "metadata": {
    "collapsed": false
   },
   "outputs": [
    {
     "data": {
      "text/plain": [
       "0     4732\n",
       "1      145\n",
       "12      87\n",
       "13      19\n",
       "9        8\n",
       "4        3\n",
       "6        2\n",
       "2        2\n",
       "11       1\n",
       "7        1\n",
       "dtype: int64"
      ]
     },
     "metadata": {},
     "output_type": "display_data"
    }
   ],
   "source": [
    "if not impressao:\n",
    "    #Counting for check \"MODO2\"\n",
    "    display(od2007['MODO2'].value_counts())"
   ]
  },
  {
   "cell_type": "code",
   "execution_count": 160,
   "metadata": {
    "collapsed": true
   },
   "outputs": [],
   "source": [
    "#Replacing the values 2 for 1\n",
    "od2007.loc[od2007['MODO2']==2,'MODO2'] = 1\n",
    "#Replacing the values 3 for 1\n",
    "od2007.loc[od2007['MODO2']==3,'MODO2'] = 1\n",
    "#Replacing the values 4 for 2\n",
    "od2007.loc[od2007['MODO2']==4,'MODO2'] = 2\n",
    "#Replacing the values 5 for 2\n",
    "od2007.loc[od2007['MODO2']==5,'MODO2'] = 2\n",
    "#Replacing the values 6 for 3\n",
    "od2007.loc[od2007['MODO2']==6,'MODO2'] = 3\n",
    "#Replacing the values 7 for 4\n",
    "od2007.loc[od2007['MODO2']==7,'MODO2'] = 4\n",
    "#Replacing the values 8 for 5\n",
    "od2007.loc[od2007['MODO2']==8,'MODO2'] = 5\n",
    "#Replacing the values 9 for 6\n",
    "od2007.loc[od2007['MODO2']==9,'MODO2'] = 6\n",
    "#Replacing the values 10 for 6\n",
    "od2007.loc[od2007['MODO2']==10,'MODO2'] = 6\n",
    "#Replacing the values 11 for 6\n",
    "od2007.loc[od2007['MODO2']==11,'MODO2'] = 6\n",
    "#Replacing the values 12 for 7\n",
    "od2007.loc[od2007['MODO2']==12,'MODO2'] = 7\n",
    "#Replacing the values 13 for 8\n",
    "od2007.loc[od2007['MODO2']==13,'MODO2'] = 8\n",
    "#Replacing the values 14 for 9\n",
    "od2007.loc[od2007['MODO2']==14,'MODO2'] = 9\n",
    "#Replacing the values 15 for 10\n",
    "od2007.loc[od2007['MODO2']==15,'MODO2'] = 10\n",
    "#Replacing the values 16 for 11\n",
    "od2007.loc[od2007['MODO2']==16,'MODO2'] = 11\n",
    "#Replacing the values 17 for 11\n",
    "od2007.loc[od2007['MODO2']==17,'MODO2'] = 12"
   ]
  },
  {
   "cell_type": "code",
   "execution_count": 161,
   "metadata": {
    "collapsed": false
   },
   "outputs": [
    {
     "data": {
      "text/plain": [
       "0    4732\n",
       "1     147\n",
       "7      87\n",
       "8      19\n",
       "6       9\n",
       "2       3\n",
       "3       2\n",
       "4       1\n",
       "dtype: int64"
      ]
     },
     "metadata": {},
     "output_type": "display_data"
    }
   ],
   "source": [
    "if not impressao:\n",
    "    #Counting \"MODO2 in order to compare the values before and after the replacement\n",
    "    display(od2007['MODO2'].value_counts())"
   ]
  },
  {
   "cell_type": "code",
   "execution_count": 162,
   "metadata": {
    "collapsed": false
   },
   "outputs": [
    {
     "name": "stdout",
     "output_type": "stream",
     "text": [
      "0    4732\n",
      "dtype: int64\n"
     ]
    }
   ],
   "source": [
    "#Verifying value interval for check - conditions: \"MODO2 < 1\" and \"MODO2 > 12\"\n",
    "#od2007[(od2007['MODO2']<1) | (od2007['MODO2']>12)]\n",
    "verifica_RANGE(od2007, 'MODO2', 1, 12)"
   ]
  },
  {
   "cell_type": "markdown",
   "metadata": {},
   "source": [
    "##Passo 63: \"MODO3\"\n",
    "Substituir valores da coluna \"MODO3\"\n",
    "\n",
    "~ mesmas categorias utilizadas no MODO1 ~"
   ]
  },
  {
   "cell_type": "code",
   "execution_count": 163,
   "metadata": {
    "collapsed": false
   },
   "outputs": [
    {
     "data": {
      "text/plain": [
       "0     4976\n",
       "1       16\n",
       "12       3\n",
       "4        2\n",
       "7        1\n",
       "2        1\n",
       "9        1\n",
       "dtype: int64"
      ]
     },
     "metadata": {},
     "output_type": "display_data"
    }
   ],
   "source": [
    "if not impressao:\n",
    "    #Counting for check \"MODO3\"\n",
    "    display(od2007['MODO3'].value_counts())"
   ]
  },
  {
   "cell_type": "code",
   "execution_count": 164,
   "metadata": {
    "collapsed": true
   },
   "outputs": [],
   "source": [
    "#Replacing the values 2 for 1\n",
    "od2007.loc[od2007['MODO3']==2,'MODO3'] = 1\n",
    "#Replacing the values 3 for 1\n",
    "od2007.loc[od2007['MODO3']==3,'MODO3'] = 1\n",
    "#Replacing the values 4 for 2\n",
    "od2007.loc[od2007['MODO3']==4,'MODO3'] = 2\n",
    "#Replacing the values 5 for 2\n",
    "od2007.loc[od2007['MODO3']==5,'MODO3'] = 2\n",
    "#Replacing the values 6 for 3\n",
    "od2007.loc[od2007['MODO3']==6,'MODO3'] = 3\n",
    "#Replacing the values 7 for 4\n",
    "od2007.loc[od2007['MODO3']==7,'MODO3'] = 4\n",
    "#Replacing the values 8 for 5\n",
    "od2007.loc[od2007['MODO3']==8,'MODO3'] = 5\n",
    "#Replacing the values 9 for 6\n",
    "od2007.loc[od2007['MODO3']==9,'MODO3'] = 6\n",
    "#Replacing the values 10 for 6\n",
    "od2007.loc[od2007['MODO3']==10,'MODO3'] = 6\n",
    "#Replacing the values 11 for 6\n",
    "od2007.loc[od2007['MODO3']==11,'MODO3'] = 6\n",
    "#Replacing the values 12 for 7\n",
    "od2007.loc[od2007['MODO3']==12,'MODO3'] = 7\n",
    "#Replacing the values 13 for 8\n",
    "od2007.loc[od2007['MODO3']==13,'MODO3'] = 8\n",
    "#Replacing the values 14 for 9\n",
    "od2007.loc[od2007['MODO3']==14,'MODO3'] = 9\n",
    "#Replacing the values 15 for 10\n",
    "od2007.loc[od2007['MODO3']==15,'MODO3'] = 10\n",
    "#Replacing the values 16 for 11\n",
    "od2007.loc[od2007['MODO3']==16,'MODO3'] = 11\n",
    "#Replacing the values 17 for 11\n",
    "od2007.loc[od2007['MODO3']==17,'MODO3'] = 12"
   ]
  },
  {
   "cell_type": "code",
   "execution_count": 165,
   "metadata": {
    "collapsed": false
   },
   "outputs": [
    {
     "data": {
      "text/plain": [
       "0    4976\n",
       "1      17\n",
       "7       3\n",
       "2       2\n",
       "6       1\n",
       "4       1\n",
       "dtype: int64"
      ]
     },
     "metadata": {},
     "output_type": "display_data"
    }
   ],
   "source": [
    "if not impressao:\n",
    "    #Counting \"MODO3 in order to compare the values before and after the replacement\n",
    "    display(od2007['MODO3'].value_counts())"
   ]
  },
  {
   "cell_type": "code",
   "execution_count": 166,
   "metadata": {
    "collapsed": false
   },
   "outputs": [
    {
     "name": "stdout",
     "output_type": "stream",
     "text": [
      "0    4976\n",
      "dtype: int64\n"
     ]
    }
   ],
   "source": [
    "#Verifying value interval for check - conditions: \"MODO3 < 1\" and \"MODO3 > 12\"\n",
    "#od2007[(od2007['MODO3']<1) | (od2007['MODO3']>12)]\n",
    "verifica_RANGE(od2007, 'MODO3', 1, 12)"
   ]
  },
  {
   "cell_type": "markdown",
   "metadata": {},
   "source": [
    "##Passo 64: \"MODO4\"\n",
    "Substituir valores da coluna \"MODO4\"\n",
    "\n",
    "~ mesmas categorias utilizadas no MODO1 ~"
   ]
  },
  {
   "cell_type": "code",
   "execution_count": 167,
   "metadata": {
    "collapsed": false
   },
   "outputs": [
    {
     "data": {
      "text/plain": [
       "0    5000\n",
       "dtype: int64"
      ]
     },
     "metadata": {},
     "output_type": "display_data"
    }
   ],
   "source": [
    "if not impressao:\n",
    "    #Counting for check \"MODO4\"\n",
    "    display(od2007['MODO4'].value_counts())"
   ]
  },
  {
   "cell_type": "code",
   "execution_count": 168,
   "metadata": {
    "collapsed": true
   },
   "outputs": [],
   "source": [
    "#Replacing the values 2 for 1\n",
    "od2007.loc[od2007['MODO4']==2,'MODO4'] = 1\n",
    "#Replacing the values 3 for 1\n",
    "od2007.loc[od2007['MODO4']==3,'MODO4'] = 1\n",
    "#Replacing the values 4 for 2\n",
    "od2007.loc[od2007['MODO4']==4,'MODO4'] = 2\n",
    "#Replacing the values 5 for 2\n",
    "od2007.loc[od2007['MODO4']==5,'MODO4'] = 2\n",
    "#Replacing the values 6 for 3\n",
    "od2007.loc[od2007['MODO4']==6,'MODO4'] = 3\n",
    "#Replacing the values 7 for 4\n",
    "od2007.loc[od2007['MODO4']==7,'MODO4'] = 4\n",
    "#Replacing the values 8 for 5\n",
    "od2007.loc[od2007['MODO4']==8,'MODO4'] = 5\n",
    "#Replacing the values 9 for 6\n",
    "od2007.loc[od2007['MODO4']==9,'MODO4'] = 6\n",
    "#Replacing the values 10 for 6\n",
    "od2007.loc[od2007['MODO4']==10,'MODO4'] = 6\n",
    "#Replacing the values 11 for 6\n",
    "od2007.loc[od2007['MODO4']==11,'MODO4'] = 6\n",
    "#Replacing the values 12 for 7\n",
    "od2007.loc[od2007['MODO4']==12,'MODO4'] = 7\n",
    "#Replacing the values 13 for 8\n",
    "od2007.loc[od2007['MODO4']==13,'MODO4'] = 8\n",
    "#Replacing the values 14 for 9\n",
    "od2007.loc[od2007['MODO4']==14,'MODO4'] = 9\n",
    "#Replacing the values 15 for 10\n",
    "od2007.loc[od2007['MODO4']==15,'MODO4'] = 10\n",
    "#Replacing the values 16 for 11\n",
    "od2007.loc[od2007['MODO4']==16,'MODO4'] = 11\n",
    "#Replacing the values 17 for 11\n",
    "od2007.loc[od2007['MODO4']==17,'MODO4'] = 12"
   ]
  },
  {
   "cell_type": "code",
   "execution_count": 169,
   "metadata": {
    "collapsed": false
   },
   "outputs": [
    {
     "data": {
      "text/plain": [
       "0    5000\n",
       "dtype: int64"
      ]
     },
     "metadata": {},
     "output_type": "display_data"
    }
   ],
   "source": [
    "if not impressao:\n",
    "    #Counting \"MODO4 in order to compare the values before and after the replacement\n",
    "    display(od2007['MODO4'].value_counts())"
   ]
  },
  {
   "cell_type": "code",
   "execution_count": 170,
   "metadata": {
    "collapsed": false
   },
   "outputs": [
    {
     "name": "stdout",
     "output_type": "stream",
     "text": [
      "0    5000\n",
      "dtype: int64\n"
     ]
    }
   ],
   "source": [
    "#Verifying value interval for check - conditions: \"MODO4 < 1\" and \"MODO4 > 12\"\n",
    "#od2007[(od2007['MODO4']<1) | (od2007['MODO4']>12)]\n",
    "verifica_RANGE(od2007, 'MODO4', 1, 12)"
   ]
  },
  {
   "cell_type": "markdown",
   "metadata": {},
   "source": [
    "##Passo 65: \"MODO_PRIN\"\n",
    "Substituir valores da coluna \"MODO_PRIN\"\n",
    "\n",
    "~ mesmas categorias utilizadas no MODO_1 ~"
   ]
  },
  {
   "cell_type": "code",
   "execution_count": 171,
   "metadata": {
    "collapsed": false
   },
   "outputs": [
    {
     "data": {
      "text/plain": [
       "16    2299\n",
       "0      705\n",
       "1      636\n",
       "12     569\n",
       "6      400\n",
       "7      192\n",
       "15      61\n",
       "5       50\n",
       "14      31\n",
       "8       22\n",
       "13      17\n",
       "4       10\n",
       "9        5\n",
       "2        2\n",
       "10       1\n",
       "dtype: int64"
      ]
     },
     "metadata": {},
     "output_type": "display_data"
    }
   ],
   "source": [
    "if not impressao:\n",
    "    #Counting for check \"MODO_PRIN\"\n",
    "    display(od2007['MODO_PRIN'].value_counts())"
   ]
  },
  {
   "cell_type": "code",
   "execution_count": 172,
   "metadata": {
    "collapsed": true
   },
   "outputs": [],
   "source": [
    "#Replacing the values 2 for 1\n",
    "od2007.loc[od2007['MODO_PRIN']==2,'MODO_PRIN'] = 1\n",
    "#Replacing the values 3 for 1\n",
    "od2007.loc[od2007['MODO_PRIN']==3,'MODO_PRIN'] = 1\n",
    "#Replacing the values 4 for 2\n",
    "od2007.loc[od2007['MODO_PRIN']==4,'MODO_PRIN'] = 2\n",
    "#Replacing the values 5 for 2\n",
    "od2007.loc[od2007['MODO_PRIN']==5,'MODO_PRIN'] = 2\n",
    "#Replacing the values 6 for 3\n",
    "od2007.loc[od2007['MODO_PRIN']==6,'MODO_PRIN'] = 3\n",
    "#Replacing the values 7 for 4\n",
    "od2007.loc[od2007['MODO_PRIN']==7,'MODO_PRIN'] = 4\n",
    "#Replacing the values 8 for 5\n",
    "od2007.loc[od2007['MODO_PRIN']==8,'MODO_PRIN'] = 5\n",
    "#Replacing the values 9 for 6\n",
    "od2007.loc[od2007['MODO_PRIN']==9,'MODO_PRIN'] = 6\n",
    "#Replacing the values 10 for 6\n",
    "od2007.loc[od2007['MODO_PRIN']==10,'MODO_PRIN'] = 6\n",
    "#Replacing the values 11 for 6\n",
    "od2007.loc[od2007['MODO_PRIN']==11,'MODO_PRIN'] = 6\n",
    "#Replacing the values 12 for 7\n",
    "od2007.loc[od2007['MODO_PRIN']==12,'MODO_PRIN'] = 7\n",
    "#Replacing the values 13 for 8\n",
    "od2007.loc[od2007['MODO_PRIN']==13,'MODO_PRIN'] = 8\n",
    "#Replacing the values 14 for 9\n",
    "od2007.loc[od2007['MODO_PRIN']==14,'MODO_PRIN'] = 9\n",
    "#Replacing the values 15 for 10\n",
    "od2007.loc[od2007['MODO_PRIN']==15,'MODO_PRIN'] = 10\n",
    "#Replacing the values 16 for 11\n",
    "od2007.loc[od2007['MODO_PRIN']==16,'MODO_PRIN'] = 11\n",
    "#Replacing the values 17 for 11\n",
    "od2007.loc[od2007['MODO_PRIN']==17,'MODO_PRIN'] = 12"
   ]
  },
  {
   "cell_type": "code",
   "execution_count": 173,
   "metadata": {
    "collapsed": false
   },
   "outputs": [
    {
     "data": {
      "text/plain": [
       "11    2299\n",
       "0      705\n",
       "1      638\n",
       "7      569\n",
       "3      400\n",
       "4      192\n",
       "10      61\n",
       "2       60\n",
       "9       31\n",
       "5       22\n",
       "8       17\n",
       "6        6\n",
       "dtype: int64"
      ]
     },
     "metadata": {},
     "output_type": "display_data"
    }
   ],
   "source": [
    "if not impressao:\n",
    "    #Counting \"MODO_PRIN in order to compare the values before and after the replacement\n",
    "    display(od2007['MODO_PRIN'].value_counts())"
   ]
  },
  {
   "cell_type": "code",
   "execution_count": 174,
   "metadata": {
    "collapsed": false
   },
   "outputs": [
    {
     "name": "stdout",
     "output_type": "stream",
     "text": [
      "0    705\n",
      "dtype: int64\n"
     ]
    }
   ],
   "source": [
    "#Verifying value interval for check - conditions: \"MODO_PRIN < 1\" and \"MODO_PRIN > 12\"\n",
    "#od2007[(od2007['MODO_PRIN']<1) | (od2007['MODO_PRIN']>12)]\n",
    "verifica_RANGE(od2007, 'MODO_PRIN', 1, 12)"
   ]
  },
  {
   "cell_type": "markdown",
   "metadata": {},
   "source": [
    "-----\n",
    "##\"TIPO_VIAG\"; \"H_SAIDA\"; \"MIN_SAIDA\"; \"ANDA_ORIG\"; \"H_CHEG\"; \"MIN_CHEG\"; \"ANDA_DEST\" e \"DURACAO\"\n",
    "Nada há que se fazer em relação aos dados das colunas \"TIPO_VIAG\"; \"H_SAIDA\"; \"MIN_SAIDA\"; \"ANDA_ORIG\"; \"H_CHEG\"; \"MIN_CHEG\"; \"ANDA_DEST\" e \"DURACAO\""
   ]
  },
  {
   "cell_type": "markdown",
   "metadata": {},
   "source": [
    "##Passo 66: \"TIPO_EST_AUTO\"\n",
    "Substituir valores da coluna \"TIPO_EST_AUTO\"\n",
    "\n",
    "* Substituir todos valores **2** por **5**\n",
    "* Substituir todos valores **3** por **4**\n",
    "* Substituir todos valores **4** por **3**\n",
    "* Substituir todos valores **6** por **2**\n",
    "* Substituir todos valores **7** por **2**\n",
    "* Substituir todos valores **8** por **0**\n",
    "\n",
    "####Categorias anteriores\n",
    "Valor|Descrição\n",
    "----|----\n",
    "1|Não Estacionou\n",
    "2|Zona Azul / Zona Marrom\n",
    "3|Estacionamento Patrocinado\n",
    "4|Estacionamento Próprio\n",
    "5|Meio-Fio\n",
    "6|Avulso\n",
    "7|Mensal\n",
    "8|Não Respondeu\n",
    "\n",
    "####Categorias novas\n",
    "Valor|Descrição\n",
    "----|----\n",
    "0|Não Respondeu\n",
    "1|Não Estacionou\n",
    "2|Estacionamento Particular (Avulso / Mensal)\n",
    "3|Estacionamento Próprio\n",
    "4|Estacionamento Patrocinado\n",
    "5|Rua (meio fio / zona azul / zona marrom / parquímetro)\n",
    "\n",
    "[Teste: Checar se existe algum número < 0 ou > 5. Se encontrar, retornar erro indicando em qual linha.]"
   ]
  },
  {
   "cell_type": "code",
   "execution_count": 175,
   "metadata": {
    "collapsed": false
   },
   "outputs": [
    {
     "data": {
      "text/plain": [
       "0    4596\n",
       "4     142\n",
       "5      82\n",
       "3      72\n",
       "1      48\n",
       "7      39\n",
       "8      12\n",
       "6       5\n",
       "2       4\n",
       "dtype: int64"
      ]
     },
     "metadata": {},
     "output_type": "display_data"
    }
   ],
   "source": [
    "if not impressao:\n",
    "    #Counting for check \"TIPO_EST_AUTO\"\n",
    "    display(od2007['TIPO_EST_AUTO'].value_counts())"
   ]
  },
  {
   "cell_type": "code",
   "execution_count": 176,
   "metadata": {
    "collapsed": false
   },
   "outputs": [],
   "source": [
    "#Replacing the values 2 for 5\n",
    "od2007.loc[od2007['TIPO_EST_AUTO']==2,'TIPO_EST_AUTO'] = 5\n",
    "#Replacing the values 3 for 4\n",
    "od2007.loc[od2007['TIPO_EST_AUTO']==3,'TIPO_EST_AUTO'] = 4\n",
    "#Replacing the values 4 for 3\n",
    "od2007.loc[od2007['TIPO_EST_AUTO']==4,'TIPO_EST_AUTO'] = 3\n",
    "#Replacing the values 6 for 2\n",
    "od2007.loc[od2007['TIPO_EST_AUTO']==6,'TIPO_EST_AUTO'] = 2\n",
    "#Replacing the values 7 for 2\n",
    "od2007.loc[od2007['TIPO_EST_AUTO']==7,'TIPO_EST_AUTO'] = 2\n",
    "#Replacing the values 8 for 0\n",
    "od2007.loc[od2007['TIPO_EST_AUTO']==8,'TIPO_EST_AUTO'] = 0"
   ]
  },
  {
   "cell_type": "code",
   "execution_count": 177,
   "metadata": {
    "collapsed": false
   },
   "outputs": [
    {
     "data": {
      "text/plain": [
       "0    4608\n",
       "3     214\n",
       "5      86\n",
       "1      48\n",
       "2      44\n",
       "dtype: int64"
      ]
     },
     "metadata": {},
     "output_type": "display_data"
    }
   ],
   "source": [
    "if not impressao:\n",
    "    #Counting \"TIPO_EST_AUTO in order to compare the values before and after the replacement\n",
    "    display(od2007['TIPO_EST_AUTO'].value_counts())"
   ]
  },
  {
   "cell_type": "code",
   "execution_count": 178,
   "metadata": {
    "collapsed": false
   },
   "outputs": [
    {
     "name": "stdout",
     "output_type": "stream",
     "text": [
      "Series([], dtype: int64)\n"
     ]
    }
   ],
   "source": [
    "#Verifying value interval for check - conditions: \"TIPO_EST_AUTO < 0\" and \"TIPO_EST_AUTO > 5\"\n",
    "#od2007[(od2007['TIPO_EST_AUTO']<0) | (od2007['TIPO_EST_AUTO']>5)]\n",
    "verifica_RANGE(od2007, 'TIPO_EST_AUTO', 0, 5)"
   ]
  },
  {
   "cell_type": "markdown",
   "metadata": {},
   "source": [
    "-----\n",
    "##\"VALOR_EST_AUTO\"\n",
    "Nada há que se fazer em relação aos dados da coluna \"VALOR_EST_AUTO\""
   ]
  },
  {
   "cell_type": "code",
   "execution_count": null,
   "metadata": {
    "collapsed": true
   },
   "outputs": [],
   "source": []
  }
 ],
 "metadata": {
  "kernelspec": {
   "display_name": "Python 3",
   "language": "python",
   "name": "python3"
  },
  "language_info": {
   "codemirror_mode": {
    "name": "ipython",
    "version": 3
   },
   "file_extension": ".py",
   "mimetype": "text/x-python",
   "name": "python",
   "nbconvert_exporter": "python",
   "pygments_lexer": "ipython3",
   "version": "3.4.2"
  }
 },
 "nbformat": 4,
 "nbformat_minor": 0
}
