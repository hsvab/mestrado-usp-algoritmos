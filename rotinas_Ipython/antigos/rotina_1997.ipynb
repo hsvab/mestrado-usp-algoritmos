{
 "cells": [
  {
   "cell_type": "code",
   "execution_count": 2,
   "metadata": {
    "collapsed": false
   },
   "outputs": [],
   "source": [
    "from IPython.display import display #from IPython.core.display import HTML\n",
    "\n",
    "import pandas as pd\n",
    "pd.set_option('display.mpl_style', 'default') #Make the graphs a bit prettier\n",
    "\n",
    "#Variable to avoid log prints when generating pdf file\n",
    "impressao = False #True = to not print logs | False = to print logs"
   ]
  },
  {
   "cell_type": "markdown",
   "metadata": {},
   "source": [
    "--------\n",
    "##Funções gerais"
   ]
  },
  {
   "cell_type": "code",
   "execution_count": 3,
   "metadata": {
    "collapsed": true
   },
   "outputs": [],
   "source": [
    "def consulta_refext(row, name_file, name_col_ref, name_col_filt, name_col_search):\n",
    "    \"\"\"\n",
    "    Traz valor de referência externa (em arquivo csv) baseado em valor de referência do arquivo de origem.\n",
    "    O primeiro argumento passado é a \"linha\".\n",
    "    O segundo argumento é o nome do arquivo csv que será consultado (indicar o nome com a extensão .csv)\n",
    "    O terceiro argumento é o nome da coluna no dataframe (.csv) consultado que servirá de refência para a localização \n",
    "    O quarto argumento é o nome da coluna de filtro do dataframe atual\n",
    "    O quinto argumento é o nome da coluna no dataframe (.csv) consultado que contém o valor a ser retornado.\n",
    "        Uso:\n",
    "        od1997['coluna a receber o valor'] = od1997.apply(lambda row: consulta_refext(row, 'filename.csv', 'reference column', 'filter column', 'searched column'), axis=1)\n",
    "    \"\"\"\n",
    "    if row [name_col_filt]==0:\n",
    "        return row[name_col_filt]\n",
    "    data_frame = pd.read_csv(name_file,sep=';')\n",
    "    return int(data_frame[data_frame[name_col_ref]==row[name_col_filt]][name_col_search])"
   ]
  },
  {
   "cell_type": "code",
   "execution_count": 4,
   "metadata": {
    "collapsed": false
   },
   "outputs": [],
   "source": [
    "def verifica_DUMMY(data_frame, nome_variavel):\n",
    "    \"\"\"\n",
    "    Verifica se uma variável, dummy, contém algum valor diferente de 0 ou de 1.\n",
    "        Uso:\n",
    "        verifica_DUMMY(nome_do_dataframe, 'coluna a ser verificada')\n",
    "    \"\"\"\n",
    "    contador_de_erros = 0\n",
    "    for index, value in data_frame.iterrows():\n",
    "        if int(value[nome_variavel]) != 1 and int(value[nome_variavel]) != 0:\n",
    "            if not impressao:\n",
    "                print(\"Erro encontrado no registro \" + str(index+1) + \".\")\n",
    "                print(\"    Valor encontrado: \" + str(value[nome_variavel]))\n",
    "            contador_de_erros += 1\n",
    "    print(\"Total de erros encontrados: \" + str(contador_de_erros))"
   ]
  },
  {
   "cell_type": "code",
   "execution_count": 5,
   "metadata": {
    "collapsed": true
   },
   "outputs": [],
   "source": [
    "def verifica_RANGE(df, variavel, valor_menor, valor_maior):\n",
    "    \"\"\"\n",
    "    Verifica se uma variável, do tipo número inteiro, contém algum valor menor que \"valor_menor\" ou maior que \"valor_maior\"\n",
    "        Uso:\n",
    "        verifica_RANGE(nome_do_dataframe, 'coluna a ser verificada', 'valor_menor', 'valor_maior')\n",
    "    \"\"\"\n",
    "    df_filtrado = df[(df[variavel]<valor_menor) | (df[variavel]>valor_maior)]\n",
    "    #Printing a summary of the values that not fit in the Range\n",
    "    result = df_filtrado[variavel].value_counts()\n",
    "    print(result)\n",
    "    #If 'impressao = False', the output contains the values of dataframe that do not fit in the filter\n",
    "    if not impressao:\n",
    "        df_filtrado"
   ]
  },
  {
   "cell_type": "code",
   "execution_count": 6,
   "metadata": {
    "collapsed": true
   },
   "outputs": [],
   "source": [
    "def gera_ID_DOM(row):\n",
    "    \"\"\"\n",
    "    Gera o ID_DOM baseado no 'ANO', na 'ZONA_DOM' e no 'NO_DOM'\n",
    "    O argumento passado é a \"linha\".\n",
    "        Uso:\n",
    "        od1997['ID_DOM'] = od1997.apply(lambda row: gera_ID_DOM(row), axis=1)\n",
    "    \"\"\"\n",
    "    ano = int(row['ANO'])\n",
    "    zona = int(row['ZONA_DOM'])\n",
    "    no_dom = int(row['NO_DOM'])\n",
    "    return int(str(ano)+str('%03d'%(zona)) + str('%04d'%(no_dom)))"
   ]
  },
  {
   "cell_type": "code",
   "execution_count": 7,
   "metadata": {
    "collapsed": true
   },
   "outputs": [],
   "source": [
    "def gera_ID_FAM(row):\n",
    "    \"\"\"\n",
    "    Gera o ID_FAM baseado no 'ID_DOM' e no 'NO_FAM'\n",
    "    O argumento passado é a \"linha\".\n",
    "        Uso:\n",
    "        od1997['ID_FAM'] = od1997.apply(lambda row: gera_ID_FAM(row), axis=1)\n",
    "    \"\"\"\n",
    "    id_dom = int(row['ID_DOM'])\n",
    "    no_fam = int(row['NO_FAM'])\n",
    "    return int(str(id_dom) + str('%02d'%(no_fam)))"
   ]
  },
  {
   "cell_type": "code",
   "execution_count": 8,
   "metadata": {
    "collapsed": true
   },
   "outputs": [],
   "source": [
    "def gera_ID_PESS(row):\n",
    "    \"\"\"\n",
    "    Gera o ID_PESS baseado no 'ID_FAM' e no 'NO_PESS'\n",
    "    O argumento passado é a \"linha\".\n",
    "        Uso:\n",
    "        od1997['ID_PESS'] = od1997.apply(lambda row: gera_ID_PESS(row), axis=1)\n",
    "    \"\"\"\n",
    "    id_fam = int(row['ID_FAM'])\n",
    "    no_pess = int(row['NO_PESS'])\n",
    "    return int(str(id_fam) + str('%02d'%(no_pess)))"
   ]
  },
  {
   "cell_type": "code",
   "execution_count": 9,
   "metadata": {
    "collapsed": true
   },
   "outputs": [],
   "source": [
    "def gera_ID_VIAG(row):\n",
    "    \"\"\"\n",
    "    Gera o ID_VIAG baseado no 'ID_PESS' e no 'NO_VIAG'\n",
    "    O argumento passado é a \"linha\".\n",
    "        Uso:\n",
    "        od1997['ID_VIAG'] = od1997.apply(lambda row: gera_ID_VIAG(row), axis=1)\n",
    "    \"\"\"\n",
    "    id_pess = int(row['ID_PESS'])\n",
    "    no_viag = int(row['NO_VIAG'])\n",
    "    return int(str(id_pess) + str('%02d'%(no_viag)))"
   ]
  },
  {
   "cell_type": "markdown",
   "metadata": {},
   "source": [
    "----"
   ]
  },
  {
   "cell_type": "code",
   "execution_count": 10,
   "metadata": {
    "collapsed": false
   },
   "outputs": [],
   "source": [
    "#Reading csv file and store its contend in an intern dataframe\n",
    "od1997 = pd.read_csv('OD_1997.csv', sep=';', decimal=',')"
   ]
  },
  {
   "cell_type": "code",
   "execution_count": 11,
   "metadata": {
    "collapsed": false
   },
   "outputs": [
    {
     "ename": "OSError",
     "evalue": "File b'OD_1997_addcol.csv' does not exist",
     "output_type": "error",
     "traceback": [
      "\u001b[1;31m---------------------------------------------------------------------------\u001b[0m",
      "\u001b[1;31mOSError\u001b[0m                                   Traceback (most recent call last)",
      "\u001b[1;32m<ipython-input-11-80b66fc8358a>\u001b[0m in \u001b[0;36m<module>\u001b[1;34m()\u001b[0m\n\u001b[0;32m      1\u001b[0m \u001b[1;31m#Reading csv file and store its contend in an intern dataframe\u001b[0m\u001b[1;33m\u001b[0m\u001b[1;33m\u001b[0m\u001b[0m\n\u001b[1;32m----> 2\u001b[1;33m \u001b[0maddcol_1997\u001b[0m \u001b[1;33m=\u001b[0m \u001b[0mpd\u001b[0m\u001b[1;33m.\u001b[0m\u001b[0mread_csv\u001b[0m\u001b[1;33m(\u001b[0m\u001b[1;34m'OD_1997_addcol.csv'\u001b[0m\u001b[1;33m,\u001b[0m \u001b[0msep\u001b[0m\u001b[1;33m=\u001b[0m\u001b[1;34m';'\u001b[0m\u001b[1;33m,\u001b[0m \u001b[0mdecimal\u001b[0m\u001b[1;33m=\u001b[0m\u001b[1;34m','\u001b[0m\u001b[1;33m)\u001b[0m\u001b[1;33m\u001b[0m\u001b[0m\n\u001b[0m",
      "\u001b[1;32m/usr/local/lib/python3.4/dist-packages/pandas/io/parsers.py\u001b[0m in \u001b[0;36mparser_f\u001b[1;34m(filepath_or_buffer, sep, dialect, compression, doublequote, escapechar, quotechar, quoting, skipinitialspace, lineterminator, header, index_col, names, prefix, skiprows, skipfooter, skip_footer, na_values, na_fvalues, true_values, false_values, delimiter, converters, dtype, usecols, engine, delim_whitespace, as_recarray, na_filter, compact_ints, use_unsigned, low_memory, buffer_lines, warn_bad_lines, error_bad_lines, keep_default_na, thousands, comment, decimal, parse_dates, keep_date_col, dayfirst, date_parser, memory_map, float_precision, nrows, iterator, chunksize, verbose, encoding, squeeze, mangle_dupe_cols, tupleize_cols, infer_datetime_format, skip_blank_lines)\u001b[0m\n\u001b[0;32m    468\u001b[0m                     skip_blank_lines=skip_blank_lines)\n\u001b[0;32m    469\u001b[0m \u001b[1;33m\u001b[0m\u001b[0m\n\u001b[1;32m--> 470\u001b[1;33m         \u001b[1;32mreturn\u001b[0m \u001b[0m_read\u001b[0m\u001b[1;33m(\u001b[0m\u001b[0mfilepath_or_buffer\u001b[0m\u001b[1;33m,\u001b[0m \u001b[0mkwds\u001b[0m\u001b[1;33m)\u001b[0m\u001b[1;33m\u001b[0m\u001b[0m\n\u001b[0m\u001b[0;32m    471\u001b[0m \u001b[1;33m\u001b[0m\u001b[0m\n\u001b[0;32m    472\u001b[0m     \u001b[0mparser_f\u001b[0m\u001b[1;33m.\u001b[0m\u001b[0m__name__\u001b[0m \u001b[1;33m=\u001b[0m \u001b[0mname\u001b[0m\u001b[1;33m\u001b[0m\u001b[0m\n",
      "\u001b[1;32m/usr/local/lib/python3.4/dist-packages/pandas/io/parsers.py\u001b[0m in \u001b[0;36m_read\u001b[1;34m(filepath_or_buffer, kwds)\u001b[0m\n\u001b[0;32m    244\u001b[0m \u001b[1;33m\u001b[0m\u001b[0m\n\u001b[0;32m    245\u001b[0m     \u001b[1;31m# Create the parser.\u001b[0m\u001b[1;33m\u001b[0m\u001b[1;33m\u001b[0m\u001b[0m\n\u001b[1;32m--> 246\u001b[1;33m     \u001b[0mparser\u001b[0m \u001b[1;33m=\u001b[0m \u001b[0mTextFileReader\u001b[0m\u001b[1;33m(\u001b[0m\u001b[0mfilepath_or_buffer\u001b[0m\u001b[1;33m,\u001b[0m \u001b[1;33m**\u001b[0m\u001b[0mkwds\u001b[0m\u001b[1;33m)\u001b[0m\u001b[1;33m\u001b[0m\u001b[0m\n\u001b[0m\u001b[0;32m    247\u001b[0m \u001b[1;33m\u001b[0m\u001b[0m\n\u001b[0;32m    248\u001b[0m     \u001b[1;32mif\u001b[0m \u001b[1;33m(\u001b[0m\u001b[0mnrows\u001b[0m \u001b[1;32mis\u001b[0m \u001b[1;32mnot\u001b[0m \u001b[1;32mNone\u001b[0m\u001b[1;33m)\u001b[0m \u001b[1;32mand\u001b[0m \u001b[1;33m(\u001b[0m\u001b[0mchunksize\u001b[0m \u001b[1;32mis\u001b[0m \u001b[1;32mnot\u001b[0m \u001b[1;32mNone\u001b[0m\u001b[1;33m)\u001b[0m\u001b[1;33m:\u001b[0m\u001b[1;33m\u001b[0m\u001b[0m\n",
      "\u001b[1;32m/usr/local/lib/python3.4/dist-packages/pandas/io/parsers.py\u001b[0m in \u001b[0;36m__init__\u001b[1;34m(self, f, engine, **kwds)\u001b[0m\n\u001b[0;32m    560\u001b[0m             \u001b[0mself\u001b[0m\u001b[1;33m.\u001b[0m\u001b[0moptions\u001b[0m\u001b[1;33m[\u001b[0m\u001b[1;34m'has_index_names'\u001b[0m\u001b[1;33m]\u001b[0m \u001b[1;33m=\u001b[0m \u001b[0mkwds\u001b[0m\u001b[1;33m[\u001b[0m\u001b[1;34m'has_index_names'\u001b[0m\u001b[1;33m]\u001b[0m\u001b[1;33m\u001b[0m\u001b[0m\n\u001b[0;32m    561\u001b[0m \u001b[1;33m\u001b[0m\u001b[0m\n\u001b[1;32m--> 562\u001b[1;33m         \u001b[0mself\u001b[0m\u001b[1;33m.\u001b[0m\u001b[0m_make_engine\u001b[0m\u001b[1;33m(\u001b[0m\u001b[0mself\u001b[0m\u001b[1;33m.\u001b[0m\u001b[0mengine\u001b[0m\u001b[1;33m)\u001b[0m\u001b[1;33m\u001b[0m\u001b[0m\n\u001b[0m\u001b[0;32m    563\u001b[0m \u001b[1;33m\u001b[0m\u001b[0m\n\u001b[0;32m    564\u001b[0m     \u001b[1;32mdef\u001b[0m \u001b[0m_get_options_with_defaults\u001b[0m\u001b[1;33m(\u001b[0m\u001b[0mself\u001b[0m\u001b[1;33m,\u001b[0m \u001b[0mengine\u001b[0m\u001b[1;33m)\u001b[0m\u001b[1;33m:\u001b[0m\u001b[1;33m\u001b[0m\u001b[0m\n",
      "\u001b[1;32m/usr/local/lib/python3.4/dist-packages/pandas/io/parsers.py\u001b[0m in \u001b[0;36m_make_engine\u001b[1;34m(self, engine)\u001b[0m\n\u001b[0;32m    697\u001b[0m     \u001b[1;32mdef\u001b[0m \u001b[0m_make_engine\u001b[0m\u001b[1;33m(\u001b[0m\u001b[0mself\u001b[0m\u001b[1;33m,\u001b[0m \u001b[0mengine\u001b[0m\u001b[1;33m=\u001b[0m\u001b[1;34m'c'\u001b[0m\u001b[1;33m)\u001b[0m\u001b[1;33m:\u001b[0m\u001b[1;33m\u001b[0m\u001b[0m\n\u001b[0;32m    698\u001b[0m         \u001b[1;32mif\u001b[0m \u001b[0mengine\u001b[0m \u001b[1;33m==\u001b[0m \u001b[1;34m'c'\u001b[0m\u001b[1;33m:\u001b[0m\u001b[1;33m\u001b[0m\u001b[0m\n\u001b[1;32m--> 699\u001b[1;33m             \u001b[0mself\u001b[0m\u001b[1;33m.\u001b[0m\u001b[0m_engine\u001b[0m \u001b[1;33m=\u001b[0m \u001b[0mCParserWrapper\u001b[0m\u001b[1;33m(\u001b[0m\u001b[0mself\u001b[0m\u001b[1;33m.\u001b[0m\u001b[0mf\u001b[0m\u001b[1;33m,\u001b[0m \u001b[1;33m**\u001b[0m\u001b[0mself\u001b[0m\u001b[1;33m.\u001b[0m\u001b[0moptions\u001b[0m\u001b[1;33m)\u001b[0m\u001b[1;33m\u001b[0m\u001b[0m\n\u001b[0m\u001b[0;32m    700\u001b[0m         \u001b[1;32melse\u001b[0m\u001b[1;33m:\u001b[0m\u001b[1;33m\u001b[0m\u001b[0m\n\u001b[0;32m    701\u001b[0m             \u001b[1;32mif\u001b[0m \u001b[0mengine\u001b[0m \u001b[1;33m==\u001b[0m \u001b[1;34m'python'\u001b[0m\u001b[1;33m:\u001b[0m\u001b[1;33m\u001b[0m\u001b[0m\n",
      "\u001b[1;32m/usr/local/lib/python3.4/dist-packages/pandas/io/parsers.py\u001b[0m in \u001b[0;36m__init__\u001b[1;34m(self, src, **kwds)\u001b[0m\n\u001b[0;32m   1064\u001b[0m         \u001b[0mkwds\u001b[0m\u001b[1;33m[\u001b[0m\u001b[1;34m'allow_leading_cols'\u001b[0m\u001b[1;33m]\u001b[0m \u001b[1;33m=\u001b[0m \u001b[0mself\u001b[0m\u001b[1;33m.\u001b[0m\u001b[0mindex_col\u001b[0m \u001b[1;32mis\u001b[0m \u001b[1;32mnot\u001b[0m \u001b[1;32mFalse\u001b[0m\u001b[1;33m\u001b[0m\u001b[0m\n\u001b[0;32m   1065\u001b[0m \u001b[1;33m\u001b[0m\u001b[0m\n\u001b[1;32m-> 1066\u001b[1;33m         \u001b[0mself\u001b[0m\u001b[1;33m.\u001b[0m\u001b[0m_reader\u001b[0m \u001b[1;33m=\u001b[0m \u001b[0m_parser\u001b[0m\u001b[1;33m.\u001b[0m\u001b[0mTextReader\u001b[0m\u001b[1;33m(\u001b[0m\u001b[0msrc\u001b[0m\u001b[1;33m,\u001b[0m \u001b[1;33m**\u001b[0m\u001b[0mkwds\u001b[0m\u001b[1;33m)\u001b[0m\u001b[1;33m\u001b[0m\u001b[0m\n\u001b[0m\u001b[0;32m   1067\u001b[0m \u001b[1;33m\u001b[0m\u001b[0m\n\u001b[0;32m   1068\u001b[0m         \u001b[1;31m# XXX\u001b[0m\u001b[1;33m\u001b[0m\u001b[1;33m\u001b[0m\u001b[0m\n",
      "\u001b[1;32mpandas/parser.pyx\u001b[0m in \u001b[0;36mpandas.parser.TextReader.__cinit__ (pandas/parser.c:3163)\u001b[1;34m()\u001b[0m\n",
      "\u001b[1;32mpandas/parser.pyx\u001b[0m in \u001b[0;36mpandas.parser.TextReader._setup_parser_source (pandas/parser.c:5779)\u001b[1;34m()\u001b[0m\n",
      "\u001b[1;31mOSError\u001b[0m: File b'OD_1997_addcol.csv' does not exist"
     ]
    }
   ],
   "source": [
    "#Reading csv file and store its contend in an intern dataframe\n",
    "addcol_1997 = pd.read_csv('OD_1997_addcol.csv', sep=';', decimal=',')"
   ]
  },
  {
   "cell_type": "code",
   "execution_count": null,
   "metadata": {
    "collapsed": false
   },
   "outputs": [],
   "source": [
    "#Replacing a column from a dataframe to another\n",
    "od1997['CD_ENTRE'] = addcol_1997['RESUL_DOM']"
   ]
  },
  {
   "cell_type": "code",
   "execution_count": 12,
   "metadata": {
    "collapsed": false
   },
   "outputs": [],
   "source": [
    "#Renaming the column UCOD to UCOD_DOM\n",
    "od1997.rename(columns={'UCOD':'UCOD_DOM'}, inplace=True)"
   ]
  },
  {
   "cell_type": "code",
   "execution_count": 13,
   "metadata": {
    "collapsed": true
   },
   "outputs": [],
   "source": [
    "#Creating the column UCOD_ESC (it will go to the end of dataframe)\n",
    "od1997['UCOD_ESC']=None"
   ]
  },
  {
   "cell_type": "code",
   "execution_count": 14,
   "metadata": {
    "collapsed": true
   },
   "outputs": [],
   "source": [
    "#Creating the column UCOD_TRAB1 (it will go to the end of dataframe)\n",
    "od1997['UCOD_TRAB1']=None"
   ]
  },
  {
   "cell_type": "code",
   "execution_count": 15,
   "metadata": {
    "collapsed": true
   },
   "outputs": [],
   "source": [
    "#Creating the column UCOD_TRAB2 (it will go to the end of dataframe)\n",
    "od1997['UCOD_TRAB2']=None"
   ]
  },
  {
   "cell_type": "code",
   "execution_count": 16,
   "metadata": {
    "collapsed": true
   },
   "outputs": [],
   "source": [
    "#Creating the column UCOD_ORIG (it will go to the end of dataframe)\n",
    "od1997['UCOD_ORIG']=None"
   ]
  },
  {
   "cell_type": "code",
   "execution_count": 17,
   "metadata": {
    "collapsed": false
   },
   "outputs": [],
   "source": [
    "#Creating the column UCOD_DEST (it will go to the end of dataframe)\n",
    "od1997['UCOD_DEST']=None"
   ]
  },
  {
   "cell_type": "code",
   "execution_count": 18,
   "metadata": {
    "collapsed": true
   },
   "outputs": [],
   "source": [
    "od1997 = od1997[:5000]"
   ]
  },
  {
   "cell_type": "code",
   "execution_count": 19,
   "metadata": {
    "collapsed": false
   },
   "outputs": [],
   "source": [
    "#Reordering the columns, precisely, these that were just created (at the end of dataframe) near to other contend related variables\n",
    "od1997 = od1997[['ANO',\n",
    " 'CD_ENTRE',\n",
    " 'DIA_SEM',\n",
    " 'UCOD_DOM',\n",
    " 'ZONA_DOM',\n",
    " 'SUBZONA_DOM',\n",
    " 'MUN_DOM',\n",
    " 'CO_DOM_X',\n",
    " 'CO_DOM_Y',\n",
    " 'ID_DOM',\n",
    " 'F_DOM',\n",
    " 'FE_DOM',\n",
    " 'NO_DOM',\n",
    " 'TIPO_DOM',\n",
    " 'TOT_FAM',\n",
    " 'ID_FAM',\n",
    " 'F_FAM',\n",
    " 'FE_FAM',\n",
    " 'NO_FAM',\n",
    " 'COND_MORA',\n",
    " 'QT_AUTO',\n",
    " 'QT_BICI',\n",
    " 'QT_MOTO',\n",
    " 'CD_RENFAM',\n",
    " 'REN_FAM',\n",
    " 'ID_PESS',\n",
    " 'F_PESS',\n",
    " 'FE_PESS',\n",
    " 'NO_PESS',\n",
    " 'SIT_FAM',\n",
    " 'IDADE',\n",
    " 'SEXO',\n",
    " 'ESTUDA',\n",
    " 'GRAU_INSTR',\n",
    " 'OCUP',\n",
    " 'SETOR_ATIV',\n",
    " 'CD_RENIND',\n",
    " 'REN_IND',\n",
    " 'UCOD_ESC',\n",
    " 'ZONA_ESC',\n",
    " 'SUBZONA_ESC',\n",
    " 'MUN_ESC',\n",
    " 'CO_ESC_X',\n",
    " 'CO_ESC_Y',\n",
    " 'UCOD_TRAB1',                      \n",
    " 'ZONA_TRAB1',\n",
    " 'SUBZONA_TRAB1',\n",
    " 'MUN_TRAB1',\n",
    " 'CO_TRAB1_X',\n",
    " 'CO_TRAB1_Y',\n",
    " 'UCOD_TRAB2',\n",
    " 'ZONA_TRAB2',\n",
    " 'SUBZONA_TRAB2',\n",
    " 'MUN_TRAB2',\n",
    " 'CO_TRAB2_X',\n",
    " 'CO_TRAB2_Y',\n",
    " 'ID_VIAG',\n",
    " 'F_VIAG',\n",
    " 'FE_VIAG',\n",
    " 'NO_VIAG',\n",
    " 'TOT_VIAG',\n",
    " 'UCOD_ORIG',\n",
    " 'ZONA_ORIG',\n",
    " 'SUBZONA_ORIG',\n",
    " 'MUN_ORIG',\n",
    " 'CO_ORIG_X',\n",
    " 'CO_ORIG_Y',\n",
    " 'UCOD_DEST',\n",
    " 'ZONA_DEST',\n",
    " 'SUBZONA_DEST',\n",
    " 'MUN_DEST',\n",
    " 'CO_DEST_X',\n",
    " 'CO_DEST_Y',\n",
    " 'DIST_VIAG',\n",
    " 'MOTIVO_ORIG',\n",
    " 'MOTIVO_DEST',\n",
    " 'MODO1',\n",
    " 'MODO2',\n",
    " 'MODO3',\n",
    " 'MODO4',\n",
    " 'MODO_PRIN',\n",
    " 'TIPO_VIAG',\n",
    " 'H_SAIDA',\n",
    " 'MIN_SAIDA',\n",
    " 'ANDA_ORIG',\n",
    " 'H_CHEG',\n",
    " 'MIN_CHEG',\n",
    " 'ANDA_DEST',\n",
    " 'DURACAO',\n",
    " 'TIPO_EST_AUTO',\n",
    " 'VALOR_EST_AUTO']]"
   ]
  },
  {
   "cell_type": "code",
   "execution_count": 20,
   "metadata": {
    "collapsed": false
   },
   "outputs": [
    {
     "data": {
      "text/plain": [
       "['ANO',\n",
       " 'CD_ENTRE',\n",
       " 'DIA_SEM',\n",
       " 'UCOD_DOM',\n",
       " 'ZONA_DOM',\n",
       " 'SUBZONA_DOM',\n",
       " 'MUN_DOM',\n",
       " 'CO_DOM_X',\n",
       " 'CO_DOM_Y',\n",
       " 'ID_DOM',\n",
       " 'F_DOM',\n",
       " 'FE_DOM',\n",
       " 'NO_DOM',\n",
       " 'TIPO_DOM',\n",
       " 'TOT_FAM',\n",
       " 'ID_FAM',\n",
       " 'F_FAM',\n",
       " 'FE_FAM',\n",
       " 'NO_FAM',\n",
       " 'COND_MORA',\n",
       " 'QT_AUTO',\n",
       " 'QT_BICI',\n",
       " 'QT_MOTO',\n",
       " 'CD_RENFAM',\n",
       " 'REN_FAM',\n",
       " 'ID_PESS',\n",
       " 'F_PESS',\n",
       " 'FE_PESS',\n",
       " 'NO_PESS',\n",
       " 'SIT_FAM',\n",
       " 'IDADE',\n",
       " 'SEXO',\n",
       " 'ESTUDA',\n",
       " 'GRAU_INSTR',\n",
       " 'OCUP',\n",
       " 'SETOR_ATIV',\n",
       " 'CD_RENIND',\n",
       " 'REN_IND',\n",
       " 'UCOD_ESC',\n",
       " 'ZONA_ESC',\n",
       " 'SUBZONA_ESC',\n",
       " 'MUN_ESC',\n",
       " 'CO_ESC_X',\n",
       " 'CO_ESC_Y',\n",
       " 'UCOD_TRAB1',\n",
       " 'ZONA_TRAB1',\n",
       " 'SUBZONA_TRAB1',\n",
       " 'MUN_TRAB1',\n",
       " 'CO_TRAB1_X',\n",
       " 'CO_TRAB1_Y',\n",
       " 'UCOD_TRAB2',\n",
       " 'ZONA_TRAB2',\n",
       " 'SUBZONA_TRAB2',\n",
       " 'MUN_TRAB2',\n",
       " 'CO_TRAB2_X',\n",
       " 'CO_TRAB2_Y',\n",
       " 'ID_VIAG',\n",
       " 'F_VIAG',\n",
       " 'FE_VIAG',\n",
       " 'NO_VIAG',\n",
       " 'TOT_VIAG',\n",
       " 'UCOD_ORIG',\n",
       " 'ZONA_ORIG',\n",
       " 'SUBZONA_ORIG',\n",
       " 'MUN_ORIG',\n",
       " 'CO_ORIG_X',\n",
       " 'CO_ORIG_Y',\n",
       " 'UCOD_DEST',\n",
       " 'ZONA_DEST',\n",
       " 'SUBZONA_DEST',\n",
       " 'MUN_DEST',\n",
       " 'CO_DEST_X',\n",
       " 'CO_DEST_Y',\n",
       " 'DIST_VIAG',\n",
       " 'MOTIVO_ORIG',\n",
       " 'MOTIVO_DEST',\n",
       " 'MODO1',\n",
       " 'MODO2',\n",
       " 'MODO3',\n",
       " 'MODO4',\n",
       " 'MODO_PRIN',\n",
       " 'TIPO_VIAG',\n",
       " 'H_SAIDA',\n",
       " 'MIN_SAIDA',\n",
       " 'ANDA_ORIG',\n",
       " 'H_CHEG',\n",
       " 'MIN_CHEG',\n",
       " 'ANDA_DEST',\n",
       " 'DURACAO',\n",
       " 'TIPO_EST_AUTO',\n",
       " 'VALOR_EST_AUTO']"
      ]
     },
     "metadata": {},
     "output_type": "display_data"
    }
   ],
   "source": [
    "#Storing the variables list in the \"cols\" variable\n",
    "cols = od1997.columns.tolist()\n",
    "if not impressao:\n",
    "    #printing \"cols\" variable to check if the reorder operation was effective\n",
    "    display(cols)"
   ]
  },
  {
   "cell_type": "code",
   "execution_count": 21,
   "metadata": {
    "collapsed": false
   },
   "outputs": [
    {
     "data": {
      "text/html": [
       "<div style=\"max-height:1000px;max-width:1500px;overflow:auto;\">\n",
       "<table border=\"1\" class=\"dataframe\">\n",
       "  <thead>\n",
       "    <tr style=\"text-align: right;\">\n",
       "      <th></th>\n",
       "      <th>ANO</th>\n",
       "      <th>CD_ENTRE</th>\n",
       "      <th>DIA_SEM</th>\n",
       "      <th>UCOD_DOM</th>\n",
       "      <th>ZONA_DOM</th>\n",
       "      <th>SUBZONA_DOM</th>\n",
       "      <th>MUN_DOM</th>\n",
       "      <th>CO_DOM_X</th>\n",
       "      <th>CO_DOM_Y</th>\n",
       "      <th>ID_DOM</th>\n",
       "      <th>...</th>\n",
       "      <th>TIPO_VIAG</th>\n",
       "      <th>H_SAIDA</th>\n",
       "      <th>MIN_SAIDA</th>\n",
       "      <th>ANDA_ORIG</th>\n",
       "      <th>H_CHEG</th>\n",
       "      <th>MIN_CHEG</th>\n",
       "      <th>ANDA_DEST</th>\n",
       "      <th>DURACAO</th>\n",
       "      <th>TIPO_EST_AUTO</th>\n",
       "      <th>VALOR_EST_AUTO</th>\n",
       "    </tr>\n",
       "  </thead>\n",
       "  <tbody>\n",
       "    <tr>\n",
       "      <th>count</th>\n",
       "      <td>0</td>\n",
       "      <td>0</td>\n",
       "      <td>5000.000000</td>\n",
       "      <td>0</td>\n",
       "      <td>5000.000000</td>\n",
       "      <td>5000.000000</td>\n",
       "      <td>5000</td>\n",
       "      <td>0</td>\n",
       "      <td>0</td>\n",
       "      <td>5000.000000</td>\n",
       "      <td>...</td>\n",
       "      <td>5000.000000</td>\n",
       "      <td>5000.000000</td>\n",
       "      <td>5000.000000</td>\n",
       "      <td>5000.000000</td>\n",
       "      <td>5000.000000</td>\n",
       "      <td>5000.000000</td>\n",
       "      <td>5000.000000</td>\n",
       "      <td>5000.000000</td>\n",
       "      <td>0</td>\n",
       "      <td>0</td>\n",
       "    </tr>\n",
       "    <tr>\n",
       "      <th>mean</th>\n",
       "      <td>NaN</td>\n",
       "      <td>NaN</td>\n",
       "      <td>4.232600</td>\n",
       "      <td>NaN</td>\n",
       "      <td>8.027800</td>\n",
       "      <td>30.841200</td>\n",
       "      <td>36</td>\n",
       "      <td>NaN</td>\n",
       "      <td>NaN</td>\n",
       "      <td>832887.448600</td>\n",
       "      <td>...</td>\n",
       "      <td>1.815000</td>\n",
       "      <td>11.443800</td>\n",
       "      <td>15.748800</td>\n",
       "      <td>1.992800</td>\n",
       "      <td>11.682400</td>\n",
       "      <td>19.471800</td>\n",
       "      <td>2.011000</td>\n",
       "      <td>22.647000</td>\n",
       "      <td>NaN</td>\n",
       "      <td>NaN</td>\n",
       "    </tr>\n",
       "    <tr>\n",
       "      <th>std</th>\n",
       "      <td>NaN</td>\n",
       "      <td>NaN</td>\n",
       "      <td>1.552346</td>\n",
       "      <td>NaN</td>\n",
       "      <td>4.047012</td>\n",
       "      <td>16.602684</td>\n",
       "      <td>0</td>\n",
       "      <td>NaN</td>\n",
       "      <td>NaN</td>\n",
       "      <td>405509.413453</td>\n",
       "      <td>...</td>\n",
       "      <td>1.068178</td>\n",
       "      <td>6.467921</td>\n",
       "      <td>17.814252</td>\n",
       "      <td>3.663473</td>\n",
       "      <td>6.555404</td>\n",
       "      <td>17.841728</td>\n",
       "      <td>3.698705</td>\n",
       "      <td>22.384347</td>\n",
       "      <td>NaN</td>\n",
       "      <td>NaN</td>\n",
       "    </tr>\n",
       "    <tr>\n",
       "      <th>min</th>\n",
       "      <td>NaN</td>\n",
       "      <td>NaN</td>\n",
       "      <td>2.000000</td>\n",
       "      <td>NaN</td>\n",
       "      <td>1.000000</td>\n",
       "      <td>2.000000</td>\n",
       "      <td>36</td>\n",
       "      <td>NaN</td>\n",
       "      <td>NaN</td>\n",
       "      <td>121002.000000</td>\n",
       "      <td>...</td>\n",
       "      <td>0.000000</td>\n",
       "      <td>0.000000</td>\n",
       "      <td>0.000000</td>\n",
       "      <td>0.000000</td>\n",
       "      <td>0.000000</td>\n",
       "      <td>0.000000</td>\n",
       "      <td>0.000000</td>\n",
       "      <td>0.000000</td>\n",
       "      <td>NaN</td>\n",
       "      <td>NaN</td>\n",
       "    </tr>\n",
       "    <tr>\n",
       "      <th>25%</th>\n",
       "      <td>NaN</td>\n",
       "      <td>NaN</td>\n",
       "      <td>3.000000</td>\n",
       "      <td>NaN</td>\n",
       "      <td>5.000000</td>\n",
       "      <td>16.000000</td>\n",
       "      <td>36</td>\n",
       "      <td>NaN</td>\n",
       "      <td>NaN</td>\n",
       "      <td>514002.000000</td>\n",
       "      <td>...</td>\n",
       "      <td>1.000000</td>\n",
       "      <td>7.000000</td>\n",
       "      <td>0.000000</td>\n",
       "      <td>0.000000</td>\n",
       "      <td>7.000000</td>\n",
       "      <td>0.000000</td>\n",
       "      <td>0.000000</td>\n",
       "      <td>6.000000</td>\n",
       "      <td>NaN</td>\n",
       "      <td>NaN</td>\n",
       "    </tr>\n",
       "    <tr>\n",
       "      <th>50%</th>\n",
       "      <td>NaN</td>\n",
       "      <td>NaN</td>\n",
       "      <td>4.000000</td>\n",
       "      <td>NaN</td>\n",
       "      <td>9.000000</td>\n",
       "      <td>33.000000</td>\n",
       "      <td>36</td>\n",
       "      <td>NaN</td>\n",
       "      <td>NaN</td>\n",
       "      <td>911017.000000</td>\n",
       "      <td>...</td>\n",
       "      <td>2.000000</td>\n",
       "      <td>12.000000</td>\n",
       "      <td>5.000000</td>\n",
       "      <td>0.000000</td>\n",
       "      <td>12.000000</td>\n",
       "      <td>15.000000</td>\n",
       "      <td>0.000000</td>\n",
       "      <td>15.000000</td>\n",
       "      <td>NaN</td>\n",
       "      <td>NaN</td>\n",
       "    </tr>\n",
       "    <tr>\n",
       "      <th>75%</th>\n",
       "      <td>NaN</td>\n",
       "      <td>NaN</td>\n",
       "      <td>6.000000</td>\n",
       "      <td>NaN</td>\n",
       "      <td>11.000000</td>\n",
       "      <td>44.000000</td>\n",
       "      <td>36</td>\n",
       "      <td>NaN</td>\n",
       "      <td>NaN</td>\n",
       "      <td>1146031.000000</td>\n",
       "      <td>...</td>\n",
       "      <td>3.000000</td>\n",
       "      <td>17.000000</td>\n",
       "      <td>30.000000</td>\n",
       "      <td>2.000000</td>\n",
       "      <td>17.000000</td>\n",
       "      <td>30.000000</td>\n",
       "      <td>2.000000</td>\n",
       "      <td>30.000000</td>\n",
       "      <td>NaN</td>\n",
       "      <td>NaN</td>\n",
       "    </tr>\n",
       "    <tr>\n",
       "      <th>max</th>\n",
       "      <td>NaN</td>\n",
       "      <td>NaN</td>\n",
       "      <td>6.000000</td>\n",
       "      <td>NaN</td>\n",
       "      <td>14.000000</td>\n",
       "      <td>55.000000</td>\n",
       "      <td>36</td>\n",
       "      <td>NaN</td>\n",
       "      <td>NaN</td>\n",
       "      <td>1426037.000000</td>\n",
       "      <td>...</td>\n",
       "      <td>3.000000</td>\n",
       "      <td>23.000000</td>\n",
       "      <td>58.000000</td>\n",
       "      <td>40.000000</td>\n",
       "      <td>23.000000</td>\n",
       "      <td>59.000000</td>\n",
       "      <td>40.000000</td>\n",
       "      <td>180.000000</td>\n",
       "      <td>NaN</td>\n",
       "      <td>NaN</td>\n",
       "    </tr>\n",
       "  </tbody>\n",
       "</table>\n",
       "<p>8 rows × 86 columns</p>\n",
       "</div>"
      ],
      "text/plain": [
       "       ANO  CD_ENTRE      DIA_SEM  UCOD_DOM     ZONA_DOM  SUBZONA_DOM  \\\n",
       "count    0         0  5000.000000         0  5000.000000  5000.000000   \n",
       "mean   NaN       NaN     4.232600       NaN     8.027800    30.841200   \n",
       "std    NaN       NaN     1.552346       NaN     4.047012    16.602684   \n",
       "min    NaN       NaN     2.000000       NaN     1.000000     2.000000   \n",
       "25%    NaN       NaN     3.000000       NaN     5.000000    16.000000   \n",
       "50%    NaN       NaN     4.000000       NaN     9.000000    33.000000   \n",
       "75%    NaN       NaN     6.000000       NaN    11.000000    44.000000   \n",
       "max    NaN       NaN     6.000000       NaN    14.000000    55.000000   \n",
       "\n",
       "       MUN_DOM  CO_DOM_X  CO_DOM_Y          ID_DOM       ...        \\\n",
       "count     5000         0         0     5000.000000       ...         \n",
       "mean        36       NaN       NaN   832887.448600       ...         \n",
       "std          0       NaN       NaN   405509.413453       ...         \n",
       "min         36       NaN       NaN   121002.000000       ...         \n",
       "25%         36       NaN       NaN   514002.000000       ...         \n",
       "50%         36       NaN       NaN   911017.000000       ...         \n",
       "75%         36       NaN       NaN  1146031.000000       ...         \n",
       "max         36       NaN       NaN  1426037.000000       ...         \n",
       "\n",
       "         TIPO_VIAG      H_SAIDA    MIN_SAIDA    ANDA_ORIG       H_CHEG  \\\n",
       "count  5000.000000  5000.000000  5000.000000  5000.000000  5000.000000   \n",
       "mean      1.815000    11.443800    15.748800     1.992800    11.682400   \n",
       "std       1.068178     6.467921    17.814252     3.663473     6.555404   \n",
       "min       0.000000     0.000000     0.000000     0.000000     0.000000   \n",
       "25%       1.000000     7.000000     0.000000     0.000000     7.000000   \n",
       "50%       2.000000    12.000000     5.000000     0.000000    12.000000   \n",
       "75%       3.000000    17.000000    30.000000     2.000000    17.000000   \n",
       "max       3.000000    23.000000    58.000000    40.000000    23.000000   \n",
       "\n",
       "          MIN_CHEG    ANDA_DEST      DURACAO  TIPO_EST_AUTO  VALOR_EST_AUTO  \n",
       "count  5000.000000  5000.000000  5000.000000              0               0  \n",
       "mean     19.471800     2.011000    22.647000            NaN             NaN  \n",
       "std      17.841728     3.698705    22.384347            NaN             NaN  \n",
       "min       0.000000     0.000000     0.000000            NaN             NaN  \n",
       "25%       0.000000     0.000000     6.000000            NaN             NaN  \n",
       "50%      15.000000     0.000000    15.000000            NaN             NaN  \n",
       "75%      30.000000     2.000000    30.000000            NaN             NaN  \n",
       "max      59.000000    40.000000   180.000000            NaN             NaN  \n",
       "\n",
       "[8 rows x 86 columns]"
      ]
     },
     "metadata": {},
     "output_type": "display_data"
    }
   ],
   "source": [
    "if not impressao:\n",
    "    #Describing data (whole dataframe)- count, mean, std, min and max\n",
    "    display(od1997.describe())"
   ]
  },
  {
   "cell_type": "markdown",
   "metadata": {},
   "source": [
    "-----\n",
    "##Passo 1: UCOD_DOM\n",
    "Na coluna \"UCOD_DOM\", linha i, ler o valor da linha i da coluna \"ZONA_DOM\", daí, buscar o mesmo valor na coluna \"Zona 1997\" do arquivo UCOD-1997.csv. Ao achar, retornar o valor da mesma linha, só que da coluna \"UCOD_DOM\"\n",
    "\n",
    "[Teste: no banco completo, checar se o min == 1 e o max == 67]"
   ]
  },
  {
   "cell_type": "code",
   "execution_count": 22,
   "metadata": {
    "collapsed": false
   },
   "outputs": [],
   "source": [
    "#Getting from the csv file the \"UCOD\" code correspondent to the \"ZONA_DOM\" code\n",
    "od1997['UCOD_DOM'] = od1997.apply(lambda row: consulta_refext(row, 'UCOD-1997.csv', 'Zona 1997', 'ZONA_DOM', 'UCOD'), axis=1)"
   ]
  },
  {
   "cell_type": "code",
   "execution_count": 23,
   "metadata": {
    "collapsed": false
   },
   "outputs": [
    {
     "data": {
      "text/plain": [
       "count    5000.000000\n",
       "mean        2.594000\n",
       "std         1.952723\n",
       "min         1.000000\n",
       "25%         1.000000\n",
       "50%         2.000000\n",
       "75%         4.000000\n",
       "max         7.000000\n",
       "Name: UCOD_DOM, dtype: float64"
      ]
     },
     "metadata": {},
     "output_type": "display_data"
    }
   ],
   "source": [
    "if not impressao:\n",
    "    #Describing data (\"UCOD_DOM\" column) - count, mean, std, min and max\n",
    "    display(od1997['UCOD_DOM'].describe())"
   ]
  },
  {
   "cell_type": "code",
   "execution_count": 24,
   "metadata": {
    "collapsed": false
   },
   "outputs": [
    {
     "data": {
      "text/plain": [
       "2    1936\n",
       "1    1747\n",
       "7     566\n",
       "5     385\n",
       "4     366\n",
       "dtype: int64"
      ]
     },
     "metadata": {},
     "output_type": "display_data"
    }
   ],
   "source": [
    "if not impressao:\n",
    "    #Count for check \"UCOD_DOM\"\n",
    "    display(od1997['UCOD_DOM'].value_counts())"
   ]
  },
  {
   "cell_type": "code",
   "execution_count": 1,
   "metadata": {
    "collapsed": false
   },
   "outputs": [
    {
     "ename": "NameError",
     "evalue": "name 'verifica_RANGE' is not defined",
     "output_type": "error",
     "traceback": [
      "\u001b[1;31m---------------------------------------------------------------------------\u001b[0m",
      "\u001b[1;31mNameError\u001b[0m                                 Traceback (most recent call last)",
      "\u001b[1;32m<ipython-input-1-6be5735e706e>\u001b[0m in \u001b[0;36m<module>\u001b[1;34m()\u001b[0m\n\u001b[0;32m      1\u001b[0m \u001b[1;31m#Verifying value interval for check - conditions: \"UCOD_DOM < 1\" and \"UCOD_DOM > 67\"\u001b[0m\u001b[1;33m\u001b[0m\u001b[1;33m\u001b[0m\u001b[0m\n\u001b[1;32m----> 2\u001b[1;33m \u001b[0mverifica_RANGE\u001b[0m\u001b[1;33m(\u001b[0m\u001b[0mod1997\u001b[0m\u001b[1;33m,\u001b[0m \u001b[1;34m'UCOD_DOM'\u001b[0m\u001b[1;33m,\u001b[0m \u001b[1;36m1\u001b[0m\u001b[1;33m,\u001b[0m \u001b[1;36m67\u001b[0m\u001b[1;33m)\u001b[0m\u001b[1;33m\u001b[0m\u001b[0m\n\u001b[0m\u001b[0;32m      3\u001b[0m \u001b[1;31m#od1997_ex[(od1997['UCOD_DOM']<1) | (od1997['UCOD_DOM']>67)]\u001b[0m\u001b[1;33m\u001b[0m\u001b[1;33m\u001b[0m\u001b[0m\n",
      "\u001b[1;31mNameError\u001b[0m: name 'verifica_RANGE' is not defined"
     ]
    }
   ],
   "source": [
    "#Verifying value interval for check - conditions: \"UCOD_DOM < 1\" and \"UCOD_DOM > 67\"\n",
    "verifica_RANGE(od1997, 'UCOD_DOM', 1, 67)\n",
    "#od1997_ex[(od1997['UCOD_DOM']<1) | (od1997['UCOD_DOM']>67)]"
   ]
  },
  {
   "cell_type": "markdown",
   "metadata": {
    "collapsed": true
   },
   "source": [
    "-----\n",
    "##Passo 2: \"ANO\"\n",
    "Preencher a coluna \"ANO\" com  valor 4 em todas células\n",
    "####Categorias:\n",
    "|valor|ano_correspondente|\n",
    "|-------|-----|\n",
    "|1|1977|\n",
    "|2|1987|\n",
    "|3|1997|\n",
    "|4|2007|"
   ]
  },
  {
   "cell_type": "code",
   "execution_count": 26,
   "metadata": {
    "collapsed": true
   },
   "outputs": [],
   "source": [
    "#Assigning value '3' to all cels of the \"ANO\" column\n",
    "od1997[\"ANO\"]=3"
   ]
  },
  {
   "cell_type": "code",
   "execution_count": 27,
   "metadata": {
    "collapsed": false
   },
   "outputs": [
    {
     "data": {
      "text/plain": [
       "count    5000\n",
       "mean        3\n",
       "std         0\n",
       "min         3\n",
       "25%         3\n",
       "50%         3\n",
       "75%         3\n",
       "max         3\n",
       "Name: ANO, dtype: float64"
      ]
     },
     "metadata": {},
     "output_type": "display_data"
    }
   ],
   "source": [
    "if not impressao:\n",
    "    #Describing data (\"ANO\" column) - count, mean, std, min and max\n",
    "    display(od1997['ANO'].describe())"
   ]
  },
  {
   "cell_type": "markdown",
   "metadata": {},
   "source": [
    "-----\n",
    "##Passo 3: \"CD_ENTRE\"\n",
    "* Substituir todos valores **6** por **0**\n",
    "* Substituir todos valores **7** por **1**\n",
    "\n",
    "####Categorias:\n",
    "| Valor | Descricao |\n",
    "| -------- | -------- |\n",
    "| 0 | Completa sem viagem |\n",
    "| 1 | Completa com Viagem |"
   ]
  },
  {
   "cell_type": "code",
   "execution_count": 28,
   "metadata": {
    "collapsed": false
   },
   "outputs": [
    {
     "data": {
      "text/plain": [
       "Series([], dtype: int64)"
      ]
     },
     "metadata": {},
     "output_type": "display_data"
    }
   ],
   "source": [
    "if not impressao:\n",
    "    #Counting for check \"CD_ENTRE\"\n",
    "    display(od1997['CD_ENTRE'].value_counts())"
   ]
  },
  {
   "cell_type": "code",
   "execution_count": 29,
   "metadata": {
    "collapsed": true
   },
   "outputs": [],
   "source": [
    "#Replacing the values 6 for 0\n",
    "od1997.loc[od1997['CD_ENTRE']==6,'CD_ENTRE'] = 0\n",
    "#Replacing the values 7 for 1\n",
    "od1997.loc[od1997['CD_ENTRE']==7,'CD_ENTRE'] = 1"
   ]
  },
  {
   "cell_type": "code",
   "execution_count": 30,
   "metadata": {
    "collapsed": false
   },
   "outputs": [
    {
     "data": {
      "text/plain": [
       "Series([], dtype: int64)"
      ]
     },
     "metadata": {},
     "output_type": "display_data"
    }
   ],
   "source": [
    "if not impressao:\n",
    "    #Counting \"CD_ENTRE\" in order to compare the values before and after the replacement\n",
    "    display(od1997['CD_ENTRE'].value_counts())"
   ]
  },
  {
   "cell_type": "code",
   "execution_count": 31,
   "metadata": {
    "collapsed": false
   },
   "outputs": [
    {
     "ename": "ValueError",
     "evalue": "cannot convert float NaN to integer",
     "output_type": "error",
     "traceback": [
      "\u001b[1;31m---------------------------------------------------------------------------\u001b[0m",
      "\u001b[1;31mValueError\u001b[0m                                Traceback (most recent call last)",
      "\u001b[1;32m<ipython-input-31-be8a481685b2>\u001b[0m in \u001b[0;36m<module>\u001b[1;34m()\u001b[0m\n\u001b[0;32m      1\u001b[0m \u001b[1;31m#Verifying if there was left some value other than 0 or 1\u001b[0m\u001b[1;33m\u001b[0m\u001b[1;33m\u001b[0m\u001b[0m\n\u001b[1;32m----> 2\u001b[1;33m \u001b[0mverifica_DUMMY\u001b[0m\u001b[1;33m(\u001b[0m\u001b[0mod1997\u001b[0m\u001b[1;33m,\u001b[0m \u001b[1;34m'CD_ENTRE'\u001b[0m\u001b[1;33m)\u001b[0m\u001b[1;33m\u001b[0m\u001b[0m\n\u001b[0m",
      "\u001b[1;32m<ipython-input-4-bdf264bbc98a>\u001b[0m in \u001b[0;36mverifica_DUMMY\u001b[1;34m(data_frame, nome_variavel)\u001b[0m\n\u001b[0;32m      7\u001b[0m     \u001b[0mcontador_de_erros\u001b[0m \u001b[1;33m=\u001b[0m \u001b[1;36m0\u001b[0m\u001b[1;33m\u001b[0m\u001b[0m\n\u001b[0;32m      8\u001b[0m     \u001b[1;32mfor\u001b[0m \u001b[0mindex\u001b[0m\u001b[1;33m,\u001b[0m \u001b[0mvalue\u001b[0m \u001b[1;32min\u001b[0m \u001b[0mdata_frame\u001b[0m\u001b[1;33m.\u001b[0m\u001b[0miterrows\u001b[0m\u001b[1;33m(\u001b[0m\u001b[1;33m)\u001b[0m\u001b[1;33m:\u001b[0m\u001b[1;33m\u001b[0m\u001b[0m\n\u001b[1;32m----> 9\u001b[1;33m         \u001b[1;32mif\u001b[0m \u001b[0mint\u001b[0m\u001b[1;33m(\u001b[0m\u001b[0mvalue\u001b[0m\u001b[1;33m[\u001b[0m\u001b[0mnome_variavel\u001b[0m\u001b[1;33m]\u001b[0m\u001b[1;33m)\u001b[0m \u001b[1;33m!=\u001b[0m \u001b[1;36m1\u001b[0m \u001b[1;32mand\u001b[0m \u001b[0mint\u001b[0m\u001b[1;33m(\u001b[0m\u001b[0mvalue\u001b[0m\u001b[1;33m[\u001b[0m\u001b[0mnome_variavel\u001b[0m\u001b[1;33m]\u001b[0m\u001b[1;33m)\u001b[0m \u001b[1;33m!=\u001b[0m \u001b[1;36m0\u001b[0m\u001b[1;33m:\u001b[0m\u001b[1;33m\u001b[0m\u001b[0m\n\u001b[0m\u001b[0;32m     10\u001b[0m             \u001b[1;32mif\u001b[0m \u001b[1;32mnot\u001b[0m \u001b[0mimpressao\u001b[0m\u001b[1;33m:\u001b[0m\u001b[1;33m\u001b[0m\u001b[0m\n\u001b[0;32m     11\u001b[0m                 \u001b[0mprint\u001b[0m\u001b[1;33m(\u001b[0m\u001b[1;34m\"Erro encontrado no registro \"\u001b[0m \u001b[1;33m+\u001b[0m \u001b[0mstr\u001b[0m\u001b[1;33m(\u001b[0m\u001b[0mindex\u001b[0m\u001b[1;33m+\u001b[0m\u001b[1;36m1\u001b[0m\u001b[1;33m)\u001b[0m \u001b[1;33m+\u001b[0m \u001b[1;34m\".\"\u001b[0m\u001b[1;33m)\u001b[0m\u001b[1;33m\u001b[0m\u001b[0m\n",
      "\u001b[1;31mValueError\u001b[0m: cannot convert float NaN to integer"
     ]
    }
   ],
   "source": [
    "#Verifying if there was left some value other than 0 or 1\n",
    "verifica_DUMMY(od1997, 'CD_ENTRE')"
   ]
  },
  {
   "cell_type": "markdown",
   "metadata": {},
   "source": [
    "----\n",
    "##Passo 4: \"DIA_SEM\"\n",
    "Checar se existe algum erro na coluna\n",
    "####Categorias:\n",
    "Valor|Descrição\n",
    "-----|-----\n",
    "2|Segunda-Feira\n",
    "3|Terça-Feira\n",
    "4|Quarta-Feira\n",
    "5|Quinta-Feira\n",
    "6|Sexta-Feira\n",
    "\n",
    "[Teste: Checar se existe algum número < 2 ou > 6. Se encontrar, retornar erro indicando em qual linha.]"
   ]
  },
  {
   "cell_type": "code",
   "execution_count": null,
   "metadata": {
    "collapsed": false
   },
   "outputs": [],
   "source": [
    "if not impressao:\n",
    "    #Counting for check \"DIA_SEM\"\n",
    "    display(od1997['DIA_SEM'].value_counts())"
   ]
  },
  {
   "cell_type": "code",
   "execution_count": null,
   "metadata": {
    "collapsed": false,
    "scrolled": true
   },
   "outputs": [],
   "source": [
    "#Verifying value interval for check - conditions: \"DIA_SEM < 2\" and \"DIA_SEM > 6\"\n",
    "verifica_RANGE(od1997, 'DIA_SEM', 2, 6)\n",
    "#od1997[(od1997['DIA_SEM']<2) | (od1997['DIA_SEM']>6)]['DIA_SEM'].value_counts()"
   ]
  },
  {
   "cell_type": "markdown",
   "metadata": {},
   "source": [
    "-----\n",
    "##Passo 5: \"ZONA_DOM\"\n",
    "Checar se existe algum erro\n",
    "\n",
    "####Categorias:\n",
    "> 1 a 389\n",
    "\n",
    "[Teste: Checar se existe algum número < 1 ou > 389. Se encontrar, retornar erro indicando em qual linha.]"
   ]
  },
  {
   "cell_type": "code",
   "execution_count": null,
   "metadata": {
    "collapsed": false
   },
   "outputs": [],
   "source": [
    "#Verifying value interval for check - conditions: \"ZONA_DOM < 1\" and \"ZONA_DOM > 389\"\n",
    "#od1997[(od1997['ZONA_DOM']<1) | (od1997['ZONA_DOM']>389)]\n",
    "verifica_RANGE(od1997, 'ZONA_DOM', 1, 389)"
   ]
  },
  {
   "cell_type": "markdown",
   "metadata": {},
   "source": [
    "-----\n",
    "##Passo 6: \"SUBZONA_DOM\"\n",
    ">>> FAZER!!!"
   ]
  },
  {
   "cell_type": "markdown",
   "metadata": {},
   "source": [
    "-----\n",
    "##Passo 7: \"MUN_DOM\"\n",
    "Checar se existe algum erro\n",
    "\n",
    "####Categorias\n",
    "> 1 a 39\n",
    "\n",
    "[Teste: Checar se existe algum número < 1 ou > 39. Se encontrar, retornar erro indicando em qual linha.]"
   ]
  },
  {
   "cell_type": "code",
   "execution_count": null,
   "metadata": {
    "collapsed": false
   },
   "outputs": [],
   "source": [
    "#Verifying value interval for check - conditions: \"MUN_DOM < 1\" and \"MUN_DOM > 39\"\n",
    "#od1997[(od1997['MUN_DOM']<1) | (od1997['MUN_DOM']>39)]\n",
    "verifica_RANGE(od1997, 'MUN_DOM', 1, 39)"
   ]
  },
  {
   "cell_type": "markdown",
   "metadata": {},
   "source": [
    "-----\n",
    "##Passo 8: \"CO_DOM_X\"\n",
    "\n",
    ">>> FAZER!!!\n",
    "\n",
    "Para os demais anos:\n",
    "\n",
    "[Na coluna \"CO_DOM_X\", linha i, ler o valor da linha i da coluna \"SUBZONA_DOM\", daí, buscar o mesmo valor na coluna \"Subzonas_XXXX\" do arquivo CO-SUBZONAS-XXXX.csv. Ao achar, retornar o valor da mesma linha, só que da coluna \"CO_X\"]\n",
    "\n",
    "[Obs.: ainda preciso construir esses csv, ou seja, determinar os centroides das subzonas a partir do MapInfo]"
   ]
  },
  {
   "cell_type": "markdown",
   "metadata": {},
   "source": [
    "-----\n",
    "##Passo 9: \"CO_DOM_Y\"\n",
    "\n",
    ">>> FAZER!!!\n",
    "\n",
    "Para os demais anos:\n",
    "\n",
    "[Na coluna \"CO_DOM_Y\", linha i, ler o valor da linha i da coluna \"SUBZONA_DOM\", daí, buscar o mesmo valor na coluna \"Subzonas_XXXX\" do arquivo CO-SUBZONAS-XXXX.csv. Ao achar, retornar o valor da mesma linha, só que da coluna \"CO_Y\"]\n",
    "\n",
    "[Obs.: ainda preciso construir esses csv, ou seja, determinar os centroides das subzonas a partir do MapInfo]"
   ]
  },
  {
   "cell_type": "markdown",
   "metadata": {},
   "source": [
    "-----\n",
    "##Passo 10: \"ID_DOM\"\n",
    "construir o \"ID_DOM\"\n",
    "\n",
    "[Na coluna \"ID_DOM\", linha i, ler o valor da linha i da coluna \"ZONA_DOM\", e concatenar esse valor (com 3 dígitos) com o número do domicílio , que é o valor da linha i da coluna \"NO_DOM\" (com 4 dígitos). Resultado será um ID_DOM, que pode se repetir nas linhas, de 7 dígitos. Isso deve ser concateado com o \"Ano\". Resultado = 8 dígitos]\n",
    "\n",
    "Outra possibilidade, concatenar com a UCOD ao invés da zona..."
   ]
  },
  {
   "cell_type": "code",
   "execution_count": null,
   "metadata": {
    "collapsed": false
   },
   "outputs": [],
   "source": [
    "#Generating \"ID_DOM\" from the concatenation of \"ANO\", \"ZONA_DOM\" and \"NO_DOM\" variables\n",
    "od1997['ID_DOM'] = od1997.apply(lambda row: gera_ID_DOM(row), axis=1)"
   ]
  },
  {
   "cell_type": "markdown",
   "metadata": {},
   "source": [
    "-----\n",
    "##Passo 11: \"F_DOM\"\n",
    "Checar se existe algum erro na coluna \"F_DOM\"\n",
    "\n",
    "####Categorias\n",
    "Valor|Descrição\n",
    "----|----\n",
    "0|Demais registros\n",
    "1|Primeiro Registro do Domicílio\n",
    "\n",
    "[Teste: Checar se existe algum número diferente de 0 ou 1. Se encontrar, retornar erro indicando em qual linha.]"
   ]
  },
  {
   "cell_type": "code",
   "execution_count": null,
   "metadata": {
    "collapsed": false
   },
   "outputs": [],
   "source": [
    "#Verifying if there was left some value other than 0 or 1\n",
    "verifica_DUMMY(od1997, 'F_DOM')"
   ]
  },
  {
   "cell_type": "markdown",
   "metadata": {},
   "source": [
    "-----\n",
    "##\"FE_DOM\" e \"NO_DOM\"\n",
    "Nada há que se fazer em relação aos dados das colunas \"FE_DOM\" e \"NO_DOM\""
   ]
  },
  {
   "cell_type": "markdown",
   "metadata": {},
   "source": [
    "-----\n",
    "##Passo 12: \"TIPO_DOM\"\n",
    "Substituir valores da coluna \"TIPO_DOM\"\n",
    "\n",
    "* Substituir todos valores **1** por **0**.\n",
    "* Substituir e todos valores **2** por **1**.\n",
    "* Substituir e todos valores **3** por **1**.\n",
    "\n",
    "####Categorias anteriores\n",
    "Valor | Descrição\n",
    "----|----\n",
    "1 | Particular\n",
    "2 | Coletivo\n",
    "3 | Favela\n",
    "\n",
    "####Categorias novas\n",
    "Valor | Descrição\n",
    "----|----\n",
    "0|Particular\n",
    "1|Coletivo\n",
    "\n",
    "[Teste: Checar se existe algum número diferente de 0 ou 1. Se encontrar, retornar erro indicando em qual linha.]"
   ]
  },
  {
   "cell_type": "code",
   "execution_count": null,
   "metadata": {
    "collapsed": false
   },
   "outputs": [],
   "source": [
    "if not impressao:\n",
    "    #Counting for check \"TIPO_DOM\"\n",
    "    display(od1997['TIPO_DOM'].value_counts())"
   ]
  },
  {
   "cell_type": "code",
   "execution_count": null,
   "metadata": {
    "collapsed": false
   },
   "outputs": [],
   "source": [
    "#Replacing the values 1 for 0\n",
    "od1997.loc[od1997['TIPO_DOM']==1,'TIPO_DOM'] = 0\n",
    "#Replacing the values 2 for 1\n",
    "od1997.loc[od1997['TIPO_DOM']==2,'TIPO_DOM'] = 1\n",
    "#Replacing the values 3 for 1\n",
    "od1997.loc[od1997['TIPO_DOM']==3,'TIPO_DOM'] = 1"
   ]
  },
  {
   "cell_type": "code",
   "execution_count": null,
   "metadata": {
    "collapsed": false
   },
   "outputs": [],
   "source": [
    "if not impressao:\n",
    "    #Counting \"TIPO_DOM\" in order to compare the values before and after the replacement\n",
    "    display(od1997['TIPO_DOM'].value_counts())"
   ]
  },
  {
   "cell_type": "code",
   "execution_count": null,
   "metadata": {
    "collapsed": false
   },
   "outputs": [],
   "source": [
    "#Verifying if there was left some value other than 0 or 1\n",
    "verifica_DUMMY(od1997, 'TIPO_DOM')"
   ]
  },
  {
   "cell_type": "markdown",
   "metadata": {},
   "source": [
    "-----\n",
    "##\"TOT_FAM\"\n",
    "Nada há que se fazer em relação aos dados da coluna \"TOT_FAM\""
   ]
  },
  {
   "cell_type": "markdown",
   "metadata": {},
   "source": [
    "-----\n",
    "##Passo 13: \"ID_FAM\"\n",
    "Construir o \"ID_FAM\"\n",
    "\n",
    "Na coluna \"ID_FAM\", linha i, ler o valor da linha i da coluna \"ID_DOM\", e concatenar esse valor (com 8 dígitos) com o número da família, que é o valor da linha i da coluna \"NO_FAM\" (com 2 dígitos).\n",
    "\n",
    "Resultado será um ID_FAM, que pode se repetir nas linhas, de 10 dígitos."
   ]
  },
  {
   "cell_type": "code",
   "execution_count": null,
   "metadata": {
    "collapsed": false
   },
   "outputs": [],
   "source": [
    "#Generating \"ID_FAM\" from the concatenation of \"ID_DOM\" and \"NO_FAM\" variables\n",
    "od1997['ID_FAM'] = od1997.apply(lambda row: gera_ID_FAM(row), axis=1)"
   ]
  },
  {
   "cell_type": "markdown",
   "metadata": {},
   "source": [
    "-----\n",
    "##Passo 14: \"F_FAM\"\n",
    "Checar se existe algum erro na coluna \"F_FAM\"\n",
    "\n",
    "####Categorias\n",
    "Valor|Descrição\n",
    "----|----\n",
    "0|Demais registros\n",
    "1|Primeiro Registro da Família\n",
    "\n",
    "[Teste: Checar se existe algum número diferente de 0 ou 1. Se encontrar, retornar erro indicando em qual linha.]"
   ]
  },
  {
   "cell_type": "code",
   "execution_count": null,
   "metadata": {
    "collapsed": false
   },
   "outputs": [],
   "source": [
    "#Verifying if there was left some value other than 0 or 1\n",
    "verifica_DUMMY(od1997, 'F_FAM')"
   ]
  },
  {
   "cell_type": "markdown",
   "metadata": {},
   "source": [
    "-----\n",
    "##\"FE_FAM\" e \"NO_FAM\"\n",
    "Nada há que se fazer em relação aos dados das colunas \"FE_FAM\" e \"NO_FAM\""
   ]
  },
  {
   "cell_type": "markdown",
   "metadata": {},
   "source": [
    "-----\n",
    "##Passo 15: \"COND_MORA\"\n",
    "Substituir valores da coluna \"COND_MORA\"\n",
    "\n",
    "* Substituir todos valores **4** por **3**\n",
    "* Substituir todos valores **5** por **4**\n",
    "\n",
    "####Categorias anteriores\n",
    "Valor|Descrição\n",
    "----|----\n",
    "1|Alugada\n",
    "2|Própria\n",
    "3|Cedida\n",
    "4|Outros\n",
    "5|Não respondeu\n",
    "\n",
    "####Categorias novas\n",
    "Valor|Descrição\n",
    "----|----\n",
    "1|Alugada\n",
    "2|Própria\n",
    "3|Outros\n",
    "4|Não respondeu\n",
    "\n",
    "[Teste: Checar se existe algum número < 1 ou > 4. Se encontrar, retornar erro indicando em qual linha.]"
   ]
  },
  {
   "cell_type": "code",
   "execution_count": null,
   "metadata": {
    "collapsed": false
   },
   "outputs": [],
   "source": [
    "if not impressao:\n",
    "    #Counting for check \"COND_MORA\"\n",
    "    display(od1997['COND_MORA'].value_counts())"
   ]
  },
  {
   "cell_type": "code",
   "execution_count": null,
   "metadata": {
    "collapsed": true
   },
   "outputs": [],
   "source": [
    "#Replacing the values 4 for 3\n",
    "od1997.loc[od1997['COND_MORA']==4,'COND_MORA'] = 3\n",
    "#Replacing the values 5 for 4\n",
    "od1997.loc[od1997['COND_MORA']==5,'COND_MORA'] = 4"
   ]
  },
  {
   "cell_type": "code",
   "execution_count": null,
   "metadata": {
    "collapsed": false
   },
   "outputs": [],
   "source": [
    "if not impressao:\n",
    "    #Counting \"COND_MORA\" in order to compare the values before and after the replacement\n",
    "    display(od1997['COND_MORA'].value_counts())"
   ]
  },
  {
   "cell_type": "code",
   "execution_count": null,
   "metadata": {
    "collapsed": false
   },
   "outputs": [],
   "source": [
    "#Verifying value interval for check - conditions: \"COND_MORA < 1\" and \"COND_MORA > 4\"\n",
    "#od1997[(od1997['COND_MORA']<1) | (od1997['COND_MORA']>4)]\n",
    "verifica_RANGE(od1997, 'COND_MORA', 1, 4)"
   ]
  },
  {
   "cell_type": "markdown",
   "metadata": {},
   "source": [
    "-----\n",
    "##\"QT_AUTO\", \"QT_BICI\" e QT_MOTO\"\n",
    "Nada há que se fazer em relação aos dados das colunas \"QT_AUTO\", \"QT_BICI\" e QT_MOTO\"\n",
    "\n",
    "Lembrando que quantidade de motos e de bicicletas não foram levantadas.\n",
    "\n",
    ">>Substituir por 0??"
   ]
  },
  {
   "cell_type": "markdown",
   "metadata": {},
   "source": [
    "-----\n",
    "##Passo 16: \"CD_RENFAM\"\n",
    "Substituir valores da coluna \"CD_RENFAM\"\n",
    "\n",
    "* Substituir todos valores **2** por **0**\n",
    "* Substituir todos valores **3** por **2**\n",
    "\n",
    "####Categorias anteriores\n",
    "Valor|Descrição\n",
    "----|----\n",
    "1|Renda Familiar Completa\n",
    "2|Não Tem Renda\n",
    "3|Renda Familiar Incompleta\n",
    "\n",
    "####Categorias novas\n",
    "Valor|Descrição\n",
    "----|----\n",
    "0|Renda Familiar Declarada como Zero\n",
    "1|Renda Familiar Declarada e Maior que Zero\n",
    "2|Renda Atribuída\n",
    "\n",
    "[Teste: Checar se existe algum número < 0 ou > 2. Se encontrar, retornar erro indicando em qual linha.]"
   ]
  },
  {
   "cell_type": "code",
   "execution_count": null,
   "metadata": {
    "collapsed": false
   },
   "outputs": [],
   "source": [
    "#Replacing a column from a dataframe to another\n",
    "od1997['CD_RENFAM'] = addcol_1997['RENDATRI']"
   ]
  },
  {
   "cell_type": "code",
   "execution_count": null,
   "metadata": {
    "collapsed": false
   },
   "outputs": [],
   "source": [
    "if not impressao:\n",
    "    #Counting for check \"CD_RENFAM\"\n",
    "    display(od1997['CD_RENFAM'].value_counts())"
   ]
  },
  {
   "cell_type": "code",
   "execution_count": null,
   "metadata": {
    "collapsed": true
   },
   "outputs": [],
   "source": [
    "#Replacing the values 2 for 0\n",
    "od1997.loc[od1997['CD_RENFAM']==2,'CD_RENFAM'] = 0\n",
    "#Replacing the values 3 for 2\n",
    "od1997.loc[od1997['CD_RENFAM']==3,'CD_RENFAM'] = 2\n",
    "#Replacing the values 4 for 2\n",
    "od1997.loc[od1997['CD_RENFAM']==4,'CD_RENFAM'] = 2"
   ]
  },
  {
   "cell_type": "code",
   "execution_count": null,
   "metadata": {
    "collapsed": false
   },
   "outputs": [],
   "source": [
    "if not impressao:\n",
    "    #Counting \"CD_RENFAM\" in order to compare the values before and after the replacement\n",
    "    display(od1997['CD_RENFAM'].value_counts())"
   ]
  },
  {
   "cell_type": "code",
   "execution_count": null,
   "metadata": {
    "collapsed": false
   },
   "outputs": [],
   "source": [
    "#Verifying value interval for check - conditions: \"CD_RENFAM < 0\" and \"CD_RENFAM > 2\"\n",
    "#od1997[(od1997['CD_RENFAM']<0) | (od1997['CD_RENFAM']>2)]\n",
    "verifica_RANGE(od1997, 'CD_RENFAM', 0, 2)"
   ]
  },
  {
   "cell_type": "markdown",
   "metadata": {},
   "source": [
    "-----\n",
    "##\"REN_FAM\"\n",
    "Fazer uma correção: Substituir os valores atuais (vindos da coluna 37 \"RENDA_FA\") pelos valores do arquivo OD_1997_addcol.csv (valores da coluna 39 \"RENDATRI\")\n",
    ">>> Preparar o csv das colunas a serem inseridas"
   ]
  },
  {
   "cell_type": "code",
   "execution_count": null,
   "metadata": {
    "collapsed": false
   },
   "outputs": [],
   "source": [
    "#Replacing a column from a dataframe to another\n",
    "od1997['REN_FAM'] = addcol_1997['RENDATRI']"
   ]
  },
  {
   "cell_type": "markdown",
   "metadata": {},
   "source": [
    "-----\n",
    "##Passo 17: \"ID_PESS\"\n",
    "Construir o \"ID_PESS\"\n",
    "\n",
    "Na coluna \"ID_PESS\", linha i, ler o valor da linha i da coluna \"ID_FAM\", e concatenar esse valor (10 dígitos) com o número da pessoa, que é o valor da linha i da coluna \"NO_PESS\" (com 2 dígitos).\n",
    "\n",
    "Resultado será um ID_PESS, que pode se repetir nas linhas, de 12 dígitos."
   ]
  },
  {
   "cell_type": "code",
   "execution_count": null,
   "metadata": {
    "collapsed": false
   },
   "outputs": [],
   "source": [
    "#Generating \"ID_PESS\" from the concatenation of \"ID_FAM\" and \"NO_PESS\" variables\n",
    "od1997['ID_PESS'] = od1997.apply(lambda row: gera_ID_PESS(row), axis=1)"
   ]
  },
  {
   "cell_type": "markdown",
   "metadata": {},
   "source": [
    "-----\n",
    "##Passo 18: \"F_PESS\"\n",
    "Checar se existe algum erro na coluna \"F_PESS\"\n",
    "\n",
    "####Categorias\n",
    "Valor|Descrição\n",
    "----|----\n",
    "0|Demais registros\n",
    "1|Primeiro Registro da Pessoa\n",
    "\n",
    "[Teste: Checar se existe algum número diferente de 0 ou 1. Se encontrar, retornar erro indicando em qual linha.]"
   ]
  },
  {
   "cell_type": "code",
   "execution_count": null,
   "metadata": {
    "collapsed": false
   },
   "outputs": [],
   "source": [
    "#Verifying if there was left some value other than 0 or 1\n",
    "verifica_DUMMY(od1997, 'F_PESS')"
   ]
  },
  {
   "cell_type": "markdown",
   "metadata": {},
   "source": [
    "-----\n",
    "##\"FE_PESS\" e \"NO_PESS\"\n",
    "Nada há que se fazer em relação aos dados das colunas \"FE_PESS\" e \"NO_PESS\""
   ]
  },
  {
   "cell_type": "markdown",
   "metadata": {},
   "source": [
    "-----\n",
    "##Passo 19: \"SIT_FAM\"\n",
    "Não é preciso substituir valores da coluna \"SIT_FAM\"\n",
    "\n",
    "\n",
    "####Categorias anteriores\n",
    "Valor|Descrição\n",
    "----|----\n",
    "1|Chefe\n",
    "2|Cônjuge\n",
    "3|Filho(a)\n",
    "4|Parente / Agregado\n",
    "5|Empregado Residente\n",
    "6|Visitante não residente na RMSP\n",
    "\n",
    "####Categorias novas:\n",
    "Valor|Descrição\n",
    "----|----\n",
    "1| Pessoa Responsável\n",
    "2| Cônjuge/Companheiro(a)\n",
    "3| Filho(a)/Enteado(a)\n",
    "4| Outro Parente / Agregado\n",
    "5| Empregado Residente\n",
    "6| Outros (visitante não residente / parente do empregado)\n",
    "\n",
    "[Teste: Checar se existe algum número < 1 ou > 6. Se encontrar, retornar erro indicando em qual linha.]"
   ]
  },
  {
   "cell_type": "code",
   "execution_count": null,
   "metadata": {
    "collapsed": false
   },
   "outputs": [],
   "source": [
    "if not impressao:\n",
    "    #Counting for check \"SIT_FAM\"\n",
    "    display(od1997['SIT_FAM'].value_counts())"
   ]
  },
  {
   "cell_type": "code",
   "execution_count": null,
   "metadata": {
    "collapsed": false
   },
   "outputs": [],
   "source": [
    "#Verifying value interval for check - conditions: \"SIT_FAM < 1\" and \"SIT_FAM > 6\"\n",
    "#od1997[(od1997['SIT_FAM']<0) | (od1997['SIT_FAM']>6)]\n",
    "verifica_RANGE(od1997, 'SIT_FAM', 0, 6)"
   ]
  },
  {
   "cell_type": "markdown",
   "metadata": {},
   "source": [
    "-----\n",
    "##\"IDADE\"\n",
    "Nada há que se fazer em relação aos dados da coluna \"IDADE\""
   ]
  },
  {
   "cell_type": "markdown",
   "metadata": {},
   "source": [
    "-----\n",
    "##Passo 20: \"SEXO\"\n",
    "Substituir valores da coluna \"SEXO\"\n",
    "\n",
    "* Substituir todos valores **2** por **0**\n",
    "\n",
    "####Categorias anteriores\n",
    "Valor|Descrição\n",
    "----|----\n",
    "1|Masculino\n",
    "2|Feminino\n",
    "\n",
    "####Categorias novas\n",
    "Valor|Descrição\n",
    "----|----\n",
    "0|Feminino\n",
    "1|Masculino\n",
    "\n",
    "[Teste: Checar se existe algum número diferente de 0 ou 1. Se encontrar, retornar erro indicando em qual linha.]"
   ]
  },
  {
   "cell_type": "code",
   "execution_count": null,
   "metadata": {
    "collapsed": false
   },
   "outputs": [],
   "source": [
    "if not impressao:\n",
    "    #Counting for check \"SEXO\"\n",
    "    display(od1997['SEXO'].value_counts())"
   ]
  },
  {
   "cell_type": "code",
   "execution_count": null,
   "metadata": {
    "collapsed": true
   },
   "outputs": [],
   "source": [
    "#Replacing the values 2 for 0\n",
    "od1997.loc[od1997['SEXO']==2,'SEXO'] = 0"
   ]
  },
  {
   "cell_type": "code",
   "execution_count": null,
   "metadata": {
    "collapsed": false
   },
   "outputs": [],
   "source": [
    "if not impressao:\n",
    "    #Counting \"SEXO\" in order to compare the values before and after the replacement\n",
    "    display(od1997['SEXO'].value_counts())"
   ]
  },
  {
   "cell_type": "code",
   "execution_count": null,
   "metadata": {
    "collapsed": false
   },
   "outputs": [],
   "source": [
    "#Verifying if there was left some value other than 0 or 1\n",
    "verifica_DUMMY(od1997, 'SEXO')"
   ]
  },
  {
   "cell_type": "markdown",
   "metadata": {
    "collapsed": true
   },
   "source": [
    "-----\n",
    "##Passo 21: \"ESTUDA\"\n",
    "Substituir valores da coluna \"ESTUDA\"\n",
    "\n",
    "* Substituir todos valores **1** por **0**\n",
    "* Substituir todos valores **2, 3 e 4** por 1\n",
    "\n",
    "####Categorias anteriores\n",
    "Valor|Descrição\n",
    "----|----\n",
    "1|Não\n",
    "2|Creche/Pré-Escola\n",
    "3|1º Grau/2º Grau/3º Graus\n",
    "4|Outros\n",
    "####Categorias novas\n",
    "Valor|Descrição\n",
    "----|----\n",
    "0|Não estuda\n",
    "1|Estuda\n",
    "\n",
    "[Teste: Checar se existe algum número diferente de 0 ou 1. Se encontrar, retornar erro indicando em qual linha.]"
   ]
  },
  {
   "cell_type": "code",
   "execution_count": null,
   "metadata": {
    "collapsed": false
   },
   "outputs": [],
   "source": [
    "if not impressao:\n",
    "    #Counting for check \"ESTUDA\"\n",
    "    display(od1997['ESTUDA'].value_counts())"
   ]
  },
  {
   "cell_type": "code",
   "execution_count": null,
   "metadata": {
    "collapsed": true
   },
   "outputs": [],
   "source": [
    "#Replacing the values 1 for 0\n",
    "od1997.loc[od1997['ESTUDA']==1,'ESTUDA'] = 0\n",
    "#Replacing the values 2 for 1\n",
    "od1997.loc[od1997['ESTUDA']==2,'ESTUDA'] = 1\n",
    "#Replacing the values 3 for 1\n",
    "od1997.loc[od1997['ESTUDA']==3,'ESTUDA'] = 1\n",
    "#Replacing the values 4 for 1\n",
    "od1997.loc[od1997['ESTUDA']==4,'ESTUDA'] = 1"
   ]
  },
  {
   "cell_type": "code",
   "execution_count": null,
   "metadata": {
    "collapsed": false
   },
   "outputs": [],
   "source": [
    "if not impressao:\n",
    "    #Counting \"ESTUDA\" in order to compare the values before and after the replacement\n",
    "    display(od1997['ESTUDA'].value_counts())"
   ]
  },
  {
   "cell_type": "code",
   "execution_count": null,
   "metadata": {
    "collapsed": false
   },
   "outputs": [],
   "source": [
    "#Verifying if there was left some value other than 0 or 1\n",
    "verifica_DUMMY(od1997, 'ESTUDA')"
   ]
  },
  {
   "cell_type": "markdown",
   "metadata": {},
   "source": [
    "-----\n",
    "##Passo 22: \"GRAU_INSTR\"\n",
    "Substituir valores da coluna \"GRAU_INSTR\"\n",
    "\n",
    "* Substituir todos valores **2** por **1**\n",
    "* Substituir todos valores **3** por **1**\n",
    "* Substituir todos valores **4** por **2**\n",
    "* Substituir todos valores **5** por **2**\n",
    "* Substituir todos valores **6** por **3**\n",
    "* Substituir todos valores **7** por **3**\n",
    "* Substituir todos valores **8** por **4**\n",
    "\n",
    "####Categorias anteriores:\n",
    "Valor|Descrição\n",
    "----|----\n",
    "1|Não-alfabetizado\n",
    "2|Pré-escola\n",
    "3|1º Grau incompleto\n",
    "4|1º Grau completo\n",
    "5|2º Grau incompleto\n",
    "6|2º Grau completo\n",
    "7|Superior Incompleto\n",
    "8|Superior Completo\n",
    "\n",
    "####Categorias novas\n",
    "Valor|Descrição\n",
    "----|----\n",
    "1|Não-Alfabetizado/Fundamental Incompleto\n",
    "2|Fundamental Completo/Médio Incompleto\n",
    "3|Médio Completo/Superior Incompleto\n",
    "4|Superior completo\n",
    "\n",
    "[Teste: Checar se existe algum número < 1 ou > 4. Se encontrar, retornar erro indicando em qual linha.]"
   ]
  },
  {
   "cell_type": "code",
   "execution_count": null,
   "metadata": {
    "collapsed": false
   },
   "outputs": [],
   "source": [
    "if not impressao:\n",
    "    #Counting for check \"GRAU_INSTR\"\n",
    "    display(od1997['GRAU_INSTR'].value_counts())"
   ]
  },
  {
   "cell_type": "code",
   "execution_count": null,
   "metadata": {
    "collapsed": true
   },
   "outputs": [],
   "source": [
    "#Replacing the values 2 for 1\n",
    "od1997.loc[od1997['GRAU_INSTR']==2,'GRAU_INSTR'] = 1\n",
    "#Replacing the values 3 for 1\n",
    "od1997.loc[od1997['GRAU_INSTR']==3,'GRAU_INSTR'] = 1\n",
    "#Replacing the values 4 for 2\n",
    "od1997.loc[od1997['GRAU_INSTR']==4,'GRAU_INSTR'] = 2\n",
    "#Replacing the values 5 for 2\n",
    "od1997.loc[od1997['GRAU_INSTR']==5,'GRAU_INSTR'] = 2\n",
    "#Replacing the values 6 for 3\n",
    "od1997.loc[od1997['GRAU_INSTR']==6,'GRAU_INSTR'] = 3\n",
    "#Replacing the values 7 for 3\n",
    "od1997.loc[od1997['GRAU_INSTR']==7,'GRAU_INSTR'] = 3\n",
    "#Replacing the values 8 for 4\n",
    "od1997.loc[od1997['GRAU_INSTR']==8,'GRAU_INSTR'] = 4"
   ]
  },
  {
   "cell_type": "code",
   "execution_count": null,
   "metadata": {
    "collapsed": false
   },
   "outputs": [],
   "source": [
    "if not impressao:\n",
    "    #Counting \"GRAU_INSTR\" in order to compare the values before and after the replacement\n",
    "    display(od1997['GRAU_INSTR'].value_counts())"
   ]
  },
  {
   "cell_type": "code",
   "execution_count": null,
   "metadata": {
    "collapsed": false
   },
   "outputs": [],
   "source": [
    "#Verifying value interval for check - conditions: \"GRAU_INSTR < 1\" and \"GRAU_INSTR > 4\"\n",
    "#od1997[(od1997['GRAU_INSTR']<1) | (od1997['GRAU_INSTR']>4)]\n",
    "verifica_RANGE(od1997, 'GRAU_INSTR', 1, 4)"
   ]
  },
  {
   "cell_type": "markdown",
   "metadata": {},
   "source": [
    "-----\n",
    "##Passo 23: \"OCUP\"\n",
    "Substituir valores da coluna \"OCUP\"\n",
    "\n",
    "* Substituir todos valores **2** por **1**\n",
    "* Substituir todos valores **3** por **2**\n",
    "* Substituir todos valores **5** por **3**\n",
    "* Substituir todos valores **6** por **5**\n",
    "* Substituir todos valores **7** por **6**\n",
    "* Substituir todos valores **8** por **7**\n",
    "\n",
    "####Categorias anteriores\n",
    "Valor|Descrição\n",
    "----|----\n",
    "1|Ocupado\n",
    "2|Ocupado eventualmente\n",
    "3|Em licença\n",
    "4|Não ocupado\n",
    "5|Aposentado / Pensionista\n",
    "6|Nunca trabalhou\n",
    "7|Dona de casa\n",
    "8|Estudante\n",
    "\n",
    "####Categorias novas\n",
    "Valor|Descrição\n",
    "----|----\n",
    "1|Tem trabalho\n",
    "2|Em licença médica\n",
    "3|Aposentado / pensionista\n",
    "4|Desempregado\n",
    "5|Sem ocupação\n",
    "6|Dona de casa\n",
    "7|Estudante\n",
    "\n",
    "[Teste: Checar se existe algum número < 0 ou > 7. Se encontrar, retornar erro indicando em qual linha.]"
   ]
  },
  {
   "cell_type": "code",
   "execution_count": null,
   "metadata": {
    "collapsed": false
   },
   "outputs": [],
   "source": [
    "#Replacing a column from a dataframe to another\n",
    "od1997['OCUP'] = addcol_1997['CD_ATIVI']"
   ]
  },
  {
   "cell_type": "code",
   "execution_count": null,
   "metadata": {
    "collapsed": false
   },
   "outputs": [],
   "source": [
    "if not impressao:\n",
    "    #Counting for check \"OCUP\"\n",
    "    display(od1997['OCUP'].value_counts())"
   ]
  },
  {
   "cell_type": "code",
   "execution_count": null,
   "metadata": {
    "collapsed": false
   },
   "outputs": [],
   "source": [
    "#Replacing the values 2 for 1\n",
    "od1997.loc[od1997['OCUP']==2,'OCUP'] = 1\n",
    "#Replacing the values 3 for 2\n",
    "od1997.loc[od1997['OCUP']==3,'OCUP'] = 2\n",
    "#Replacing the values 5 for 3\n",
    "od1997.loc[od1997['OCUP']==5,'OCUP'] = 3\n",
    "#Replacing the values 6 for 5\n",
    "od1997.loc[od1997['OCUP']==6,'OCUP'] = 5\n",
    "#Replacing the values 7 for 6\n",
    "od1997.loc[od1997['OCUP']==7,'OCUP'] = 6\n",
    "#Replacing the values 8 for 7\n",
    "od1997.loc[od1997['OCUP']==8,'OCUP'] = 7"
   ]
  },
  {
   "cell_type": "code",
   "execution_count": null,
   "metadata": {
    "collapsed": false
   },
   "outputs": [],
   "source": [
    "if not impressao:\n",
    "    #Counting \"OCUP\" in order to compare the values before and after the replacement\n",
    "    display(od1997['OCUP'].value_counts())"
   ]
  },
  {
   "cell_type": "code",
   "execution_count": null,
   "metadata": {
    "collapsed": false
   },
   "outputs": [],
   "source": [
    "#Verifying value interval for check - conditions: \"OCUP < 1\" and \"OCUP > 7\"\n",
    "#od1997[(od1997['OCUP']<1) | (od1997['OCUP']>7)]\n",
    "verifica_RANGE(od1997, 'OCUP', 1, 7)"
   ]
  },
  {
   "cell_type": "markdown",
   "metadata": {},
   "source": [
    "-----\n",
    "##Passo 24: \"SETOR_ATIV\"\n",
    "Substituir valores da coluna \"SETOR_ATIV\"\n",
    "\n",
    "Na coluna \"SETOR_ATIV\", linha i, ler o valor da linha i da coluna \"SETOR_ATIV\", daí, buscar o mesmo valor na coluna \"COD\" do arquivo setor_ativ-1997.csv. Ao achar, retornar o valor da mesma linha, só que da coluna \"COD_UNIF\"\n",
    "\n",
    "####Categorias anteriores\n",
    "> ver arquivo .csv\n",
    "\n",
    "####Categorias novas\n",
    "Valor|Descrição\n",
    "----|----\n",
    "1|Agrícola\n",
    "2|Construção Civil\n",
    "3|Indústria\n",
    "4|Comércio\n",
    "5|Administração Pública\n",
    "6|Serviços de Transporte\n",
    "7|Serviços\n",
    "8|Serviços Autônomos\n",
    "9|Outros\n",
    "10|Não se aplica\n",
    "\n",
    "[Teste: Checar se existe algum número < 1 ou > 10. Se encontrar, retornar erro indicando em qual linha.]"
   ]
  },
  {
   "cell_type": "code",
   "execution_count": null,
   "metadata": {
    "collapsed": false
   },
   "outputs": [],
   "source": [
    "if not impressao:\n",
    "    #Counting for check \"SETOR_ATIV\"\n",
    "    display(od1997['SETOR_ATIV'].value_counts())"
   ]
  },
  {
   "cell_type": "code",
   "execution_count": null,
   "metadata": {
    "collapsed": false
   },
   "outputs": [],
   "source": [
    "#Getting from the csv file the \"CD_UNIF\" (unified code for activity sector) correspondent to the \"SETOR_ATIV\" code\n",
    "od1997['SETOR_ATIV'] = od1997.apply(lambda row: consulta_refext(row, 'setor_ativ-1997.csv', 'COD', 'SETOR_ATIV', 'COD_UNIF'), axis=1)"
   ]
  },
  {
   "cell_type": "code",
   "execution_count": null,
   "metadata": {
    "collapsed": false
   },
   "outputs": [],
   "source": [
    "if not impressao:\n",
    "    #Counting \"SETOR_ATIV\" in order to compare the values before and after the replacement\n",
    "    display(od1997['SETOR_ATIV'].value_counts())"
   ]
  },
  {
   "cell_type": "code",
   "execution_count": null,
   "metadata": {
    "collapsed": false
   },
   "outputs": [],
   "source": [
    "#Verifying value interval for check - conditions: \"SETOR_ATIV < 1\" and \"SETOR_ATIV > 10\"\n",
    "#od1997[(od1997['SETOR_ATIV']<1) | (od1997['SETOR_ATIV']>10)]\n",
    "verifica_RANGE(od1997, 'SETOR_ATIV', 1, 10)"
   ]
  },
  {
   "cell_type": "markdown",
   "metadata": {
    "collapsed": false
   },
   "source": [
    "##Passo 25: \"CD_RENIND\"\n",
    "\n",
    "Nada há que se fazer em relação aos dados da coluna \"CD_RENIND\"\n",
    "\n",
    "####Categorias anteriores\n",
    "Valor|Descrição\n",
    "----|----\n",
    "1|Tem renda\n",
    "2|Não tem renda\n",
    "3|Não respondeu\n",
    "\n",
    "####Categorias novas\n",
    "Valor|Descrição\n",
    "----|----\n",
    "1|Tem renda\n",
    "2|Não tem renda\n",
    "3|Não declarou\n",
    "\n",
    "[Teste: Checar se existe algum número < 1 ou > 3. Se encontrar, retornar erro indicando em qual linha.]"
   ]
  },
  {
   "cell_type": "code",
   "execution_count": null,
   "metadata": {
    "collapsed": false
   },
   "outputs": [],
   "source": [
    "#Verifying value interval for check - conditions: \"CD_RENIND < 1\" and \"CD_RENIND > 3\"\n",
    "#od1997[(od1997['CD_RENIND']<1) | (od1997['CD_RENIND']>3)]\n",
    "verifica_RANGE(od1997, 'CD_RENIND', 1, 3)"
   ]
  },
  {
   "cell_type": "markdown",
   "metadata": {
    "collapsed": true
   },
   "source": [
    "-----\n",
    "##\"REN_IND\"\n",
    "Nada há que se fazer em relação aos dados da coluna \"REN_IND\""
   ]
  },
  {
   "cell_type": "markdown",
   "metadata": {},
   "source": [
    "-----\n",
    "##Passo 26: \"UCOD_ESC\"\n",
    "Na coluna \"UCOD_ESC\", linha i, ler o valor da linha i da coluna \"ZONA_ESC\", daí, buscar o mesmo valor na coluna \"Zona 1997\" do arquivo UCOD-1997.csv. Ao achar, retornar o valor da mesma linha, só que da coluna \"UCOD_ESC\"\n",
    "\n",
    "[Teste: no banco completo, checar se o min == 1 e o max == 67]"
   ]
  },
  {
   "cell_type": "code",
   "execution_count": null,
   "metadata": {
    "collapsed": false
   },
   "outputs": [],
   "source": [
    "#Getting from the csv file the \"UCOD\" code correspondent to the \"ZONA_ESC\" code\n",
    "od1997['UCOD_ESC'] = od1997.apply(lambda row: consulta_refext(row, 'UCOD-1997.csv', 'Zona 1997', 'ZONA_ESC', 'UCOD'), axis=1)"
   ]
  },
  {
   "cell_type": "code",
   "execution_count": null,
   "metadata": {
    "collapsed": false
   },
   "outputs": [],
   "source": [
    "if not impressao:\n",
    "    #Describing data (\"UCOD_ESC\" column) - count, mean, std, min and max\n",
    "    display(od1997['UCOD_ESC'].describe())"
   ]
  },
  {
   "cell_type": "code",
   "execution_count": null,
   "metadata": {
    "collapsed": false
   },
   "outputs": [],
   "source": [
    "if not impressao:\n",
    "    #Count for check \"UCOD_ESC\"\n",
    "    display(od1997['UCOD_ESC'].value_counts())"
   ]
  },
  {
   "cell_type": "code",
   "execution_count": null,
   "metadata": {
    "collapsed": false,
    "scrolled": true
   },
   "outputs": [],
   "source": [
    "#Verifying value interval for check - conditions: \"UCOD_ESC < 1\" and \"UCOD_ESC > 67\"\n",
    "#The 'error' returns must be related to \"UCOD_ESC\" == 0, that is, trips that are not school purposed\n",
    "#od1997[(od1997['UCOD_ESC']<1) | (od1997['UCOD_ESC']>67)]\n",
    "verifica_RANGE(od1997, 'UCOD_ESC', 1, 67)"
   ]
  },
  {
   "cell_type": "markdown",
   "metadata": {},
   "source": [
    "-----\n",
    "##Passo 27: \"ZONA_ESC\"\n",
    "Checar se existe algum erro\n",
    "\n",
    "####Categorias:\n",
    "> 1 a 460\n",
    "\n",
    "[Teste: Checar se existe algum número < 1 ou > 460. Se encontrar, retornar erro indicando em qual linha.]"
   ]
  },
  {
   "cell_type": "code",
   "execution_count": null,
   "metadata": {
    "collapsed": false
   },
   "outputs": [],
   "source": [
    "#Verifying value interval for check - conditions: \"ZONA_ESC < 1\" and \"ZONA_ESC > 460\"\n",
    "#The 'error' returns must be related to \"ZONA_ESC\" == 0, that is, trips that are not school purposed\n",
    "#od1997[(od1997['ZONA_ESC']<1) | (od1997['ZONA_ESC']>460)]\n",
    "verifica_RANGE(od1997, 'ZONA_ESC', 1, 460)"
   ]
  },
  {
   "cell_type": "markdown",
   "metadata": {},
   "source": [
    "-----\n",
    "##Passo 28: \"SUBZONA_ESC\"\n",
    "\n",
    "Para os anos em que esse input não existe originalmente, esse campo é critério para inserção de coordenadas.\n",
    ">>> FAZER!!!"
   ]
  },
  {
   "cell_type": "markdown",
   "metadata": {},
   "source": [
    "-----\n",
    "##Passo 29: \"MUN_ESC\"\n",
    "Checar se existe algum erro\n",
    "\n",
    "####Categorias\n",
    "> 1 a 39\n",
    "\n",
    "[Teste: Checar se existe algum número < 1 ou > 39. Se encontrar, retornar erro indicando em qual linha.]"
   ]
  },
  {
   "cell_type": "code",
   "execution_count": null,
   "metadata": {
    "collapsed": false
   },
   "outputs": [],
   "source": [
    "#Verifying value interval for check - conditions: \"MUN_ESC < 1\" and \"MUN_ESC > 39\"\n",
    "#The 'error' returns must be related to \"MUN_ESC\" == 0, that is, trips that are not school purposed\n",
    "#od1997[(od1997['MUN_ESC']<1) | (od1997['MUN_ESC']>39)]\n",
    "verifica_RANGE(od1997, 'MUN_ESC', 1, 39)"
   ]
  },
  {
   "cell_type": "markdown",
   "metadata": {},
   "source": [
    "\n",
    "-----\n",
    "##Passo 30: \"CO_ESC_X\"\n",
    "\n",
    ">>> FAZER!!!\n",
    "\n",
    "[Na coluna \"CO_ESC_X\", linha i, ler o valor da linha i da coluna \"SUBZONA_ESC\", daí, buscar o mesmo valor na coluna \"Subzonas_XXXX\" do arquivo CO-SUBZONAS-XXXX.csv. Ao achar, retornar o valor da mesma linha, só que da coluna \"CO_X\"]\n",
    "\n",
    "[Obs.: ainda preciso construir esses csv, ou seja, determinar os centroides das subzonas a partir do MapInfo]\n"
   ]
  },
  {
   "cell_type": "markdown",
   "metadata": {},
   "source": [
    "-----\n",
    "##Passo 31: \"CO_ESC_Y\"\n",
    "\n",
    ">>> FAZER!!!\n",
    "\n",
    "[Na coluna \"CO_ESC_Y\", linha i, ler o valor da linha i da coluna \"SUBZONA_ESC\", daí, buscar o mesmo valor na coluna \"Subzonas_XXXX\" do arquivo CO-SUBZONAS-XXXX.csv. Ao achar, retornar o valor da mesma linha, só que da coluna \"CO_Y\"]\n",
    "\n",
    "[Obs.: ainda preciso construir esses csv, ou seja, determinar os centroides das subzonas a partir do MapInfo]\n"
   ]
  },
  {
   "cell_type": "markdown",
   "metadata": {},
   "source": [
    "-----\n",
    "##Passo 32: \"UCOD_TRAB1\"\n",
    "Na coluna \"UCOD_TRAB1\", linha i, ler o valor da linha i da coluna \"ZONA_TRAB1\", daí, buscar o mesmo valor na coluna \"Zona 1997\" do arquivo UCOD-1997.csv. Ao achar, retornar o valor da mesma linha, só que da coluna \"UCOD_TRAB1\"\n",
    "\n",
    "[Teste: no banco completo, checar se o min == 1 e o max == 67]"
   ]
  },
  {
   "cell_type": "code",
   "execution_count": null,
   "metadata": {
    "collapsed": false
   },
   "outputs": [],
   "source": [
    "#Getting from the csv file the \"UCOD\" code correspondent to the \"ZONA_TRAB1\" code\n",
    "od1997['UCOD_TRAB1'] = od1997.apply(lambda row: consulta_refext(row, 'UCOD-1997.csv', 'Zona 1997', 'ZONA_TRAB1', 'UCOD'), axis=1)"
   ]
  },
  {
   "cell_type": "code",
   "execution_count": null,
   "metadata": {
    "collapsed": false
   },
   "outputs": [],
   "source": [
    "if not impressao:\n",
    "    #Describing data (\"UCOD_TRAB1\" column) - count, mean, std, min and max\n",
    "    display(od1997['UCOD_TRAB1'].describe())"
   ]
  },
  {
   "cell_type": "code",
   "execution_count": null,
   "metadata": {
    "collapsed": false
   },
   "outputs": [],
   "source": [
    "if not impressao:\n",
    "    #Count for check \"UCOD_TRAB1\"\n",
    "    display(od1997['UCOD_TRAB1'].value_counts())"
   ]
  },
  {
   "cell_type": "code",
   "execution_count": null,
   "metadata": {
    "collapsed": false
   },
   "outputs": [],
   "source": [
    "#Verifying value interval for check - conditions: \"UCOD_TRAB1 < 1\" and \"UCOD_TRAB1 > 67\"\n",
    "#The 'error' returns must be related to \"UCOD_TRAB1\" == 0, that is, trips that are not school purposed\n",
    "#od1997[(od1997['UCOD_TRAB1']<1) | (od1997['UCOD_TRAB1']>67)]\n",
    "verifica_RANGE(od1997, 'UCOD_TRAB1', 1, 67)"
   ]
  },
  {
   "cell_type": "markdown",
   "metadata": {},
   "source": [
    "\n",
    "-----\n",
    "##Passo 33: \"ZONA_TRAB1\"\n",
    "Checar se existe algum erro\n",
    "\n",
    "####Categorias:\n",
    "> 1 a 460\n",
    "\n",
    "[Teste: Checar se existe algum número < 1 ou > 460. Se encontrar, retornar erro indicando em qual linha.]\n"
   ]
  },
  {
   "cell_type": "code",
   "execution_count": null,
   "metadata": {
    "collapsed": false
   },
   "outputs": [],
   "source": [
    "#Verifying value interval for check - conditions: \"ZONA_TRAB1 < 1\" and \"ZONA_TRAB1 > 460\"\n",
    "#The 'error' returns must be related to \"ZONA_TRAB1\"==0, that is, trips that are not school purposed\n",
    "#od1997[(od1997['ZONA_TRAB1']<1) | (od1997['ZONA_TRAB1']>460)]\n",
    "verifica_RANGE(od1997, 'ZONA_TRAB1', 1, 460)"
   ]
  },
  {
   "cell_type": "markdown",
   "metadata": {},
   "source": [
    "-----\n",
    "##Passo 34: \"SUBZONA_TRAB1\"\n",
    "\n",
    ">>> FAZER!!!\n",
    "\n",
    "Para os anos em que esse input não existe originalmente, esse campo é critério para inserção de coordenadas."
   ]
  },
  {
   "cell_type": "markdown",
   "metadata": {},
   "source": [
    "-----\n",
    "##Passo 35: \"MUN_TRAB1\"\n",
    "Checar se existe algum erro\n",
    "\n",
    "####Categorias\n",
    "> 1 a 39\n",
    "\n",
    "[Teste: Checar se existe algum número < 1 ou > 39. Se encontrar, retornar erro indicando em qual linha.]"
   ]
  },
  {
   "cell_type": "code",
   "execution_count": null,
   "metadata": {
    "collapsed": false
   },
   "outputs": [],
   "source": [
    "#Verifying value interval for check - conditions: \"MUN_TRAB1 < 1\" ou de \"MUN_TRAB1 > 39\"\n",
    "#The 'error' returns must be related to \"MUN_TRAB1\" == 0, that is, trips that are not school purposed\n",
    "#od1997[(od1997['MUN_TRAB1']<1) | (od1997['MUN_TRAB1']>39)]\n",
    "verifica_RANGE(od1997, 'MUN_TRAB1', 1, 39)"
   ]
  },
  {
   "cell_type": "markdown",
   "metadata": {},
   "source": [
    "-----\n",
    "##Passo 36: \"CO_TRAB1_X\"\n",
    "\n",
    ">>> FAZER!!!\n",
    "\n",
    "[Na coluna \"CO_TRAB1_X\", linha i, ler o valor da linha i da coluna \"SUBZONA_TRAB1\", daí, buscar o mesmo valor na coluna \"Subzonas_XXXX\" do arquivo CO-SUBZONAS-XXXX.csv. Ao achar, retornar o valor da mesma linha, só que da coluna \"CO_X\"]\n",
    "\n",
    "[Obs.: ainda preciso construir esses csv, ou seja, determinar os centroides das subzonas a partir do MapInfo]"
   ]
  },
  {
   "cell_type": "markdown",
   "metadata": {},
   "source": [
    "-----\n",
    "##Passo 37: \"CO_TRAB1_Y\"\n",
    "\n",
    ">>> FAZER!!!\n",
    "\n",
    "[Na coluna \"CO_TRAB1_Y\", linha i, ler o valor da linha i da coluna \"SUBZONA_TRAB1\", daí, buscar o mesmo valor na coluna \"Subzonas_XXXX\" do arquivo CO-SUBZONAS-XXXX.csv. Ao achar, retornar o valor da mesma linha, só que da coluna \"CO_Y\"]\n",
    "\n",
    "[Obs.: ainda preciso construir esses csv, ou seja, determinar os centroides das subzonas a partir do MapInfo]"
   ]
  },
  {
   "cell_type": "markdown",
   "metadata": {},
   "source": [
    "-----\n",
    "##Passo 38: \"UCOD_TRAB2\"\n",
    "Na coluna \"UCOD_TRAB2\", linha i, ler o valor da linha i da coluna \"ZONA_TRAB1\", daí, buscar o mesmo valor na coluna \"Zona 1997\" do arquivo UCOD-1997.csv. Ao achar, retornar o valor da mesma linha, só que da coluna \"UCOD_TRAB2\"\n",
    "\n",
    "[Teste: no banco completo, checar se o min == 1 e o max == 67]"
   ]
  },
  {
   "cell_type": "code",
   "execution_count": null,
   "metadata": {
    "collapsed": true
   },
   "outputs": [],
   "source": [
    "#Getting from the csv file the \"UCOD\" code correspondent to the \"ZONA_TRAB2\" code\n",
    "od1997['UCOD_TRAB2'] = od1997.apply(lambda row: consulta_refext(row, 'UCOD-1997.csv', 'Zona 1997', 'ZONA_TRAB2', 'UCOD'), axis=1)"
   ]
  },
  {
   "cell_type": "code",
   "execution_count": null,
   "metadata": {
    "collapsed": false
   },
   "outputs": [],
   "source": [
    "if not impressao:\n",
    "    #Describing data (\"UCOD_TRAB2\" column) - count, mean, std, min and max\n",
    "    display(od1997['UCOD_TRAB2'].describe())"
   ]
  },
  {
   "cell_type": "code",
   "execution_count": null,
   "metadata": {
    "collapsed": false
   },
   "outputs": [],
   "source": [
    "if not impressao:\n",
    "    #Count for check \"UCOD_TRAB2\"\n",
    "    display(od1997['UCOD_TRAB2'].value_counts())"
   ]
  },
  {
   "cell_type": "code",
   "execution_count": null,
   "metadata": {
    "collapsed": false
   },
   "outputs": [],
   "source": [
    "#Verifying value interval for check - conditions: \"UCOD_TRAB2 < 1\" and \"UCOD_TRAB2 > 67\"\n",
    "#The 'error' returns must be related to \"UCOD_TRAB2\" == 0, that is, trips that are not school purposed\n",
    "#od1997[(od1997['UCOD_TRAB2']<1) | (od1997['UCOD_TRAB2']>67)]\n",
    "verifica_RANGE(od1997, 'UCOD_TRAB2', 1, 67)"
   ]
  },
  {
   "cell_type": "markdown",
   "metadata": {},
   "source": [
    "-----\n",
    "##Passo 39: \"ZONA_TRAB2\"\n",
    "Checar se existe algum erro\n",
    "\n",
    "####Categorias:\n",
    "> 1 a 460\n",
    "\n",
    "[Teste: Checar se existe algum número < 1 ou > 460. Se encontrar, retornar erro indicando em qual linha.]"
   ]
  },
  {
   "cell_type": "code",
   "execution_count": null,
   "metadata": {
    "collapsed": false
   },
   "outputs": [],
   "source": [
    "#Verifying value interval for check - conditions: \"ZONA_TRAB2 < 1\" and \"ZONA_TRAB2 > 460\"\n",
    "#The 'error' returns must be related to \"ZONA_TRAB2\"==0, that is, trips that are not school purposed\n",
    "#od1997[(od1997['ZONA_TRAB2']<1) | (od1997['ZONA_TRAB2']>460)]\n",
    "verifica_RANGE(od1997, 'ZONA_TRAB2', 1, 460)"
   ]
  },
  {
   "cell_type": "markdown",
   "metadata": {},
   "source": [
    "-----\n",
    "##Passo 40: \"SUBZONA_TRAB2\"\n",
    "\n",
    ">>> FAZER!!!\n",
    "\n",
    "Para os anos em que esse input não existe originalmente, esse campo é critério para inserção de coordenadas."
   ]
  },
  {
   "cell_type": "markdown",
   "metadata": {},
   "source": [
    "-----\n",
    "##Passo 41: \"MUN_TRAB2\"\n",
    "Checar se existe algum erro\n",
    "\n",
    "####Categorias\n",
    "> 1 a 39\n",
    "\n",
    "[Teste: Checar se existe algum número < 1 ou > 39. Se encontrar, retornar erro indicando em qual linha.]"
   ]
  },
  {
   "cell_type": "code",
   "execution_count": null,
   "metadata": {
    "collapsed": false
   },
   "outputs": [],
   "source": [
    "#Verifying value interval for check - conditions: \"MUN_TRAB2 < 1\" ou de \"MUN_TRAB2 > 39\"\n",
    "#The 'error' returns must be related to \"MUN_TRAB2\" == 0, that is, trips that are not school purposed\n",
    "#od1997[(od1997['MUN_TRAB2']<1) | (od1997['MUN_TRAB2']>39)]\n",
    "verifica_RANGE(od1997, 'MUN_TRAB2', 1, 39)"
   ]
  },
  {
   "cell_type": "markdown",
   "metadata": {},
   "source": [
    "-----\n",
    "##Passo 42: \"CO_TRAB2_X\"\n",
    "\n",
    ">>> FAZER!!!\n",
    "\n",
    "[Na coluna \"CO_TRAB2_X\", linha i, ler o valor da linha i da coluna \"SUBZONA_TRAB2\", daí, buscar o mesmo valor na coluna \"Subzonas_XXXX\" do arquivo CO-SUBZONAS-XXXX.csv. Ao achar, retornar o valor da mesma linha, só que da coluna \"CO_X\"]\n",
    "\n",
    "[Obs.: ainda preciso construir esses csv, ou seja, determinar os centroides das subzonas a partir do MapInfo]\n"
   ]
  },
  {
   "cell_type": "markdown",
   "metadata": {},
   "source": [
    "-----\n",
    "##Passo 43: \"CO_TRAB2_Y\"\n",
    "\n",
    ">>> FAZER!!!\n",
    "\n",
    "[Na coluna \"CO_TRAB2_Y\", linha i, ler o valor da linha i da coluna \"SUBZONA_TRAB2\", daí, buscar o mesmo valor na coluna \"Subzonas_XXXX\" do arquivo CO-SUBZONAS-XXXX.csv. Ao achar, retornar o valor da mesma linha, só que da coluna \"CO_Y\"]\n",
    "\n",
    "[Obs.: ainda preciso construir esses csv, ou seja, determinar os centroides das subzonas a partir do MapInfo]\n"
   ]
  },
  {
   "cell_type": "markdown",
   "metadata": {
    "collapsed": true
   },
   "source": [
    "----\n",
    "##Passo 44: \"ID_VIAG\"\n",
    "Construir o \"ID_VIAG\"\n",
    "\n",
    "Na coluna \"ID_VIAG\", linha i, ler o valor da linha i da coluna \"ID_PESS\", e concatenar esse valor (12 dígitos) com o número da pessoa, que é o valor da linha i da coluna \"NO_VIAG\" (com 2 dígitos).\n",
    "\n",
    "Resultado será um ID_VIAG, que pode se repetir nas linhas, 14 dígitos."
   ]
  },
  {
   "cell_type": "code",
   "execution_count": null,
   "metadata": {
    "collapsed": false
   },
   "outputs": [],
   "source": [
    "#Generating \"ID_VIAG\" from the concatenation of \"ID_PESS\" and \"NO_VIAG\" variables\n",
    "od1997['ID_VIAG'] = od1997.apply(lambda row: gera_ID_VIAG(row), axis=1)"
   ]
  },
  {
   "cell_type": "markdown",
   "metadata": {},
   "source": [
    "-----\n",
    "##Passo 45: \"F_VIAG\"\n",
    "Excluir a coluna \"F_VIAG\", porque as viagens são numeradas, então já se saber pelo NO_VIAG qual é a primeira do indivíduo."
   ]
  },
  {
   "cell_type": "code",
   "execution_count": null,
   "metadata": {
    "collapsed": false
   },
   "outputs": [],
   "source": [
    "od1997 = od1997.drop('F_VIAG', 1)"
   ]
  },
  {
   "cell_type": "code",
   "execution_count": null,
   "metadata": {
    "collapsed": false
   },
   "outputs": [],
   "source": [
    "#Storing the variables list in the \"cols\" variable\n",
    "cols = od1997.columns.tolist()\n",
    "if not impressao:\n",
    "    #printing \"cols\" variable to check if the reorder operation was effective\n",
    "    display(cols)"
   ]
  },
  {
   "cell_type": "markdown",
   "metadata": {},
   "source": [
    "-----\n",
    "##\"FE_VIAG\" e \"NO_VIAG\"\n",
    "Nada há que se fazer em relação aos dados das colunas \"FE_VIAG\" e \"NO_VIAG\""
   ]
  },
  {
   "cell_type": "markdown",
   "metadata": {},
   "source": [
    "-----\n",
    "##\"TOT_VIAG\"\n",
    "Nada há que se fazer em relação aos dados das colunas \"TOT_VIAG\""
   ]
  },
  {
   "cell_type": "markdown",
   "metadata": {},
   "source": [
    "-----\n",
    "##Passo 46: \"UCOD_ORIG\"\n",
    "Na coluna \"UCOD_ORIG\", linha i, ler o valor da linha i da coluna \"ZONA_ORIG\", daí, buscar o mesmo valor na coluna \"Zona 1997\" do arquivo UCOD-1997.csv. Ao achar, retornar o valor da mesma linha, só que da coluna \"UCOD_ORIG\"\n",
    "\n",
    "[Teste: no banco completo, checar se o min == 1 e o max == 67]"
   ]
  },
  {
   "cell_type": "code",
   "execution_count": null,
   "metadata": {
    "collapsed": false
   },
   "outputs": [],
   "source": [
    "#Getting from the csv file the \"UCOD\" code correspondent to the \"ZONA_ORIG\" code\n",
    "od1997['UCOD_ORIG'] = od1997.apply(lambda row: consulta_refext(row, 'UCOD-1997.csv', 'Zona 1997', 'ZONA_ORIG', 'UCOD'), axis=1)"
   ]
  },
  {
   "cell_type": "code",
   "execution_count": null,
   "metadata": {
    "collapsed": false
   },
   "outputs": [],
   "source": [
    "if not impressao:\n",
    "    #Describing data (\"UCOD_ORIG\" column) - count, mean, std, min and max\n",
    "    display(od1997['UCOD_ORIG'].describe())"
   ]
  },
  {
   "cell_type": "code",
   "execution_count": null,
   "metadata": {
    "collapsed": false
   },
   "outputs": [],
   "source": [
    "if not impressao:\n",
    "    #Count for check \"UCOD_ORIG\"\n",
    "    display(od1997['UCOD_ORIG'].value_counts())"
   ]
  },
  {
   "cell_type": "code",
   "execution_count": null,
   "metadata": {
    "collapsed": false
   },
   "outputs": [],
   "source": [
    "#Verifying value interval for check - conditions: \"UCOD_ORIG < 1\" and \"UCOD_ORIG > 67\"\n",
    "#The 'error' returns must be related to \"UCOD_ORIG\" == 0, that is, trips that are not school purposed\n",
    "#od1997[(od1997['UCOD_ORIG']<1) | (od1997['UCOD_ORIG']>67)]\n",
    "verifica_RANGE(od1997, 'UCOD_ORIG', 1, 67)"
   ]
  },
  {
   "cell_type": "markdown",
   "metadata": {},
   "source": [
    "-----\n",
    "##Passo 47: \"ZONA_ORIG\"\n",
    "Checar se existe algum erro\n",
    "\n",
    "####Categorias:\n",
    "> 1 a 460\n",
    "\n",
    "[Teste: Checar se existe algum número < 1 ou > 460. Se encontrar, retornar erro indicando em qual linha.]"
   ]
  },
  {
   "cell_type": "code",
   "execution_count": null,
   "metadata": {
    "collapsed": false
   },
   "outputs": [],
   "source": [
    "#Verifying value interval for check - conditions: \"ZONA_ORIG < 1\" and \"ZONA_ORIG > 460\"\n",
    "#The 'error' returns must be related to \"ZONA_ORIG\"==0, that is, trips that are not school purposed\n",
    "#od1997[(od1997['ZONA_ORIG']<1) | (od1997['ZONA_ORIG']>460)]\n",
    "verifica_RANGE(od1997, 'ZONA_ORIG', 1, 460)"
   ]
  },
  {
   "cell_type": "markdown",
   "metadata": {},
   "source": [
    "-----\n",
    "##Passo 48: \"SUBZONA_ORIG\"\n",
    "\n",
    ">>> FAZER!!!\n",
    "\n",
    "Para os anos em que esse input não existe originalmente, esse campo é critério para inserção de coordenadas."
   ]
  },
  {
   "cell_type": "markdown",
   "metadata": {},
   "source": [
    "-----\n",
    "##Passo 49: \"MUN_ORIG\"\n",
    "Checar se existe algum erro\n",
    "\n",
    "####Categorias\n",
    "> 1 a 39\n",
    "\n",
    "[Teste: Checar se existe algum número < 1 ou > 39. Se encontrar, retornar erro indicando em qual linha.]"
   ]
  },
  {
   "cell_type": "code",
   "execution_count": null,
   "metadata": {
    "collapsed": false
   },
   "outputs": [],
   "source": [
    "#Verifying value interval for check - conditions: \"MUN_ORIG < 1\" ou de \"MUN_ORIG > 39\"\n",
    "#The 'error' returns must be related to \"MUN_ORIG\" == 0, that is, trips that are not school purposed\n",
    "#od1997[(od1997['MUN_ORIG']<1) | (od1997['MUN_ORIG']>39)]\n",
    "verifica_RANGE(od1997, 'MUN_ORIG', 1, 39)"
   ]
  },
  {
   "cell_type": "markdown",
   "metadata": {},
   "source": [
    "-----\n",
    "##Passo 50: \"CO_ORIG_X\"\n",
    "\n",
    ">>> FAZER!!!\n",
    "\n",
    "[Na coluna \"CO_ORIG_X\", linha i, ler o valor da linha i da coluna \"SUBZONA_ORIG\", daí, buscar o mesmo valor na coluna \"Subzonas_XXXX\" do arquivo CO-SUBZONAS-XXXX.csv. Ao achar, retornar o valor da mesma linha, só que da coluna \"CO_X\"]\n",
    "\n",
    "[Obs.: ainda preciso construir esses csv, ou seja, determinar os centroides das subzonas a partir do MapInfo]"
   ]
  },
  {
   "cell_type": "markdown",
   "metadata": {},
   "source": [
    "-----\n",
    "##Passo 51: \"CO_ORIG_Y\"\n",
    "\n",
    ">>> FAZER!!!\n",
    "\n",
    "[Na coluna \"CO_ORIG_Y\", linha i, ler o valor da linha i da coluna \"SUBZONA_ORIG\", daí, buscar o mesmo valor na coluna \"Subzonas_XXXX\" do arquivo CO-SUBZONAS-XXXX.csv. Ao achar, retornar o valor da mesma linha, só que da coluna \"CO_Y\"]\n",
    "\n",
    "[Obs.: ainda preciso construir esses csv, ou seja, determinar os centroides das subzonas a partir do MapInfo]"
   ]
  },
  {
   "cell_type": "markdown",
   "metadata": {},
   "source": [
    "-----\n",
    "##Passo 52: \"UCOD_DEST\"\n",
    "Na coluna \"UCOD_DEST\", linha i, ler o valor da linha i da coluna \"ZONA_DEST\", daí, buscar o mesmo valor na coluna \"Zona 1997\" do arquivo UCOD-1997.csv. Ao achar, retornar o valor da mesma linha, só que da coluna \"UCOD_DEST\"\n",
    "\n",
    "[Teste: no banco completo, checar se o min == 1 e o max == 67]"
   ]
  },
  {
   "cell_type": "code",
   "execution_count": null,
   "metadata": {
    "collapsed": false
   },
   "outputs": [],
   "source": [
    "#Getting from the csv file the \"UCOD\" code correspondent to the \"ZONA_DEST\" code\n",
    "od1997['UCOD_DEST'] = od1997.apply(lambda row: consulta_refext(row, 'UCOD-1997.csv', 'Zona 1997', 'ZONA_DEST', 'UCOD'), axis=1)"
   ]
  },
  {
   "cell_type": "code",
   "execution_count": null,
   "metadata": {
    "collapsed": false
   },
   "outputs": [],
   "source": [
    "if not impressao:\n",
    "    #Describing data (\"UCOD_DEST\" column) - count, mean, std, min and max\n",
    "    display(od1997['UCOD_DEST'].describe())"
   ]
  },
  {
   "cell_type": "code",
   "execution_count": null,
   "metadata": {
    "collapsed": false
   },
   "outputs": [],
   "source": [
    "if not impressao:\n",
    "    #Count for check \"UCOD_DEST\"\n",
    "    display(od1997['UCOD_DEST'].value_counts())"
   ]
  },
  {
   "cell_type": "code",
   "execution_count": null,
   "metadata": {
    "collapsed": false
   },
   "outputs": [],
   "source": [
    "#Verifying value interval for check - conditions: \"UCOD_DEST < 1\" and \"UCOD_DEST > 67\"\n",
    "#The 'error' returns must be related to \"UCOD_DEST\" == 0, that is, trips that are not school purposed\n",
    "#od1997[(od1997['UCOD_DEST']<1) | (od1997['UCOD_DEST']>67)]\n",
    "verifica_RANGE(od1997, 'UCOD_DEST', 1, 67)"
   ]
  },
  {
   "cell_type": "markdown",
   "metadata": {},
   "source": [
    "-----\n",
    "##Passo 53: \"ZONA_DEST\"\n",
    "Checar se existe algum erro\n",
    "\n",
    "####Categorias:\n",
    "> 1 a 460\n",
    "\n",
    "[Teste: Checar se existe algum número < 1 ou > 460. Se encontrar, retornar erro indicando em qual linha.]"
   ]
  },
  {
   "cell_type": "code",
   "execution_count": null,
   "metadata": {
    "collapsed": false
   },
   "outputs": [],
   "source": [
    "#Verifying value interval for check - conditions: \"ZONA_DEST < 1\" and \"ZONA_DEST > 460\"\n",
    "#The 'error' returns must be related to \"ZONA_DEST\"==0, that is, trips that are not school purposed\n",
    "#od1997[(od1997['ZONA_DEST']<1) | (od1997['ZONA_DEST']>460)]\n",
    "verifica_RANGE(od1997, 'ZONA_DEST', 1, 460)"
   ]
  },
  {
   "cell_type": "markdown",
   "metadata": {},
   "source": [
    "-----\n",
    "##Passo 54: \"SUBZONA_DEST\"\n",
    "\n",
    ">>> FAZER!!!\n",
    "\n",
    "Para os anos em que esse input não existe originalmente, esse campo é critério para inserção de coordenadas."
   ]
  },
  {
   "cell_type": "markdown",
   "metadata": {},
   "source": [
    "-----\n",
    "##Passo 55: \"MUN_DEST\"\n",
    "Checar se existe algum erro\n",
    "\n",
    "####Categorias\n",
    "> 1 a 39\n",
    "\n",
    "[Teste: Checar se existe algum número < 1 ou > 39. Se encontrar, retornar erro indicando em qual linha.]"
   ]
  },
  {
   "cell_type": "code",
   "execution_count": null,
   "metadata": {
    "collapsed": false
   },
   "outputs": [],
   "source": [
    "#Verifying value interval for check - conditions: \"MUN_DEST < 1\" ou de \"MUN_DEST > 39\"\n",
    "#The 'error' returns must be related to \"MUN_DEST\" == 0, that is, trips that are not school purposed\n",
    "#od1997[(od1997['MUN_DEST']<1) | (od1997['MUN_DEST']>39)]\n",
    "verifica_RANGE(od1997, 'MUN_DEST', 1, 39)"
   ]
  },
  {
   "cell_type": "markdown",
   "metadata": {},
   "source": [
    "-----\n",
    "##Passo 56: \"CO_DEST_X\"\n",
    "\n",
    ">>> FAZER!!!\n",
    "\n",
    "[Na coluna \"CO_DEST_X\", linha i, ler o valor da linha i da coluna \"SUBZONA_DEST\", daí, buscar o mesmo valor na coluna \"Subzonas_XXXX\" do arquivo CO-SUBZONAS-XXXX.csv. Ao achar, retornar o valor da mesma linha, só que da coluna \"CO_X\"]\n",
    "\n",
    "[Obs.: ainda preciso construir esses csv, ou seja, determinar os centroides das subzonas a partir do MapInfo]"
   ]
  },
  {
   "cell_type": "markdown",
   "metadata": {
    "collapsed": false
   },
   "source": [
    "-----\n",
    "##Passo 57: \"CO_DEST_Y\"\n",
    "\n",
    ">>> FAZER!!!\n",
    "\n",
    "[Na coluna \"CO_DEST_Y\", linha i, ler o valor da linha i da coluna \"SUBZONA_DEST\", daí, buscar o mesmo valor na coluna \"Subzonas_XXXX\" do arquivo CO-SUBZONAS-XXXX.csv. Ao achar, retornar o valor da mesma linha, só que da coluna \"CO_Y\"]\n",
    "\n",
    "[Obs.: ainda preciso construir esses csv, ou seja, determinar os centroides das subzonas a partir do MapInfo]"
   ]
  },
  {
   "cell_type": "markdown",
   "metadata": {
    "collapsed": true
   },
   "source": [
    "-----\n",
    "##Passo 58: \"DIST_VIAG\"\n",
    "\n",
    ">>> FAZER!!!\n",
    "\n",
    "É preciso calcular a distância euclidiana (a partir da CO_ORIG_X;CO_ORIG_Y e CO_DEST_X;CO_DEST_Y)"
   ]
  },
  {
   "cell_type": "markdown",
   "metadata": {},
   "source": [
    "-----\n",
    "##Passo 59: \"MOTIVO_ORIG\"\n",
    "Nada há que se fazer em relação aos dados da coluna \"MOTIVO_ORIG\"\n",
    "\n",
    "####Categorias anteriores\n",
    "Valor|Descrição\n",
    "----|----\n",
    "1|Trabalho/Indústria\n",
    "2|Trabalho/Comércio\n",
    "3|Trabalho/Serviços\n",
    "4|Escola/Educação\n",
    "5|Compras\n",
    "6|Médico/Dentista/Saúde\n",
    "7|Recreação/Visitas\n",
    "8|Residência\n",
    "9|Outros\n",
    "\n",
    "####Categorias novas\n",
    "Valor|Descrição\n",
    "----|----\n",
    "1|Trabalho/Indústria\n",
    "2|Trabalho/Comércio\n",
    "3|Trabalho/Serviços\n",
    "4|Educação\n",
    "5|Compras\n",
    "6|Saúde\n",
    "7|Lazer\n",
    "8|Residência\n",
    "9|Outros\n",
    "\n",
    "[Teste: Checar se existe algum número < 1 ou > 9. Se encontrar, retornar erro indicando em qual linha.]"
   ]
  },
  {
   "cell_type": "code",
   "execution_count": null,
   "metadata": {
    "collapsed": false
   },
   "outputs": [],
   "source": [
    "if not impressao:\n",
    "    #Counting \"MOTIVO_ORIG\" in order to compare the values before and after the replacement\n",
    "    display(od1997['MOTIVO_ORIG'].value_counts())"
   ]
  },
  {
   "cell_type": "code",
   "execution_count": null,
   "metadata": {
    "collapsed": false
   },
   "outputs": [],
   "source": [
    "#Verifying value interval for check - conditions: \"MOTIVO_ORIG < 1\" and \"MOTIVO_ORIG > 9\"\n",
    "#od1997[(od1997['MOTIVO_ORIG']<1) | (od1997['MOTIVO_ORIG']>9)]\n",
    "verifica_RANGE(od1997, 'MOTIVO_ORIG', 1, 9)"
   ]
  },
  {
   "cell_type": "markdown",
   "metadata": {},
   "source": [
    "-----\n",
    "##Passo 60: \"MOTIVO_DEST\"\n",
    "Nada há que se fazer em relação aos dados da coluna \"MOTIVO_DEST\"\n",
    "\n",
    "####Categorias anteriores\n",
    "Valor|Descrição\n",
    "----|----\n",
    "1|Trabalho/Indústria\n",
    "2|Trabalho/Comércio\n",
    "3|Trabalho/Serviços\n",
    "4|Escola/Educação\n",
    "5|Compras\n",
    "6|Médico/Dentista/Saúde\n",
    "7|Recreação/Visitas\n",
    "8|Residência\n",
    "9|Outros\n",
    "\n",
    "####Categorias novas\n",
    "Valor|Descrição\n",
    "----|----\n",
    "1|Trabalho/Indústria\n",
    "2|Trabalho/Comércio\n",
    "3|Trabalho/Serviços\n",
    "4|Educação\n",
    "5|Compras\n",
    "6|Saúde\n",
    "7|Lazer\n",
    "8|Residência\n",
    "9|Outros\n",
    "\n",
    "[Teste: Checar se existe algum número < 1 ou > 9. Se encontrar, retornar erro indicando em qual linha.]"
   ]
  },
  {
   "cell_type": "code",
   "execution_count": null,
   "metadata": {
    "collapsed": false
   },
   "outputs": [],
   "source": [
    "if not impressao:\n",
    "    #Counting \"MOTIVO_DEST in order to compare the values before and after the replacement\n",
    "    display(od1997['MOTIVO_DEST'].value_counts())"
   ]
  },
  {
   "cell_type": "code",
   "execution_count": null,
   "metadata": {
    "collapsed": false
   },
   "outputs": [],
   "source": [
    "#Verifying value interval for check - conditions: \"MOTIVO_DEST < 1\" and \"MOTIVO_DEST > 9\"\n",
    "#od1997[(od1997['MOTIVO_DEST']<1) | (od1997['MOTIVO_DEST']>9)]\n",
    "verifica_RANGE(od1997, 'MOTIVO_DEST', 1, 9)"
   ]
  },
  {
   "cell_type": "markdown",
   "metadata": {
    "collapsed": true
   },
   "source": [
    "-----\n",
    "##Passo 61: \"MODO1\"\n",
    "Substituir valores da coluna \"MODO1\"\n",
    "\n",
    "* Substituir todos valores **2** por **1**\n",
    "* Substituir todos valores **3** por **2**\n",
    "* Substituir todos valores **4** por **3**\n",
    "* Substituir todos valores **5** por **4**\n",
    "* Substituir todos valores **6** por **5**\n",
    "* Substituir todos valores **7** por **6**\n",
    "* Substituir todos valores **8** por **7**\n",
    "* Substituir todos valores **9** por **8**\n",
    "* Substituir todos valores **10** por **9**\n",
    "* Substituir todos valores **11** por **10**\n",
    "* Substituir todos valores **12** por **11**\n",
    "* Substituir todos valores **13** por **12**\n",
    "\n",
    "\n",
    "####Categorias anteriores\n",
    "Valor|Descrição\n",
    "----|----\n",
    "1|Ônibus \n",
    "2|Ônibus Fretado\n",
    "3|Transporte Escolar\n",
    "4|Dirigindo Automóvel\n",
    "5|Passageiro de Automóvel\n",
    "6|Táxi\n",
    "7|Lotação/Perua\n",
    "8|Metrô\n",
    "9|Trem\n",
    "10|Moto\n",
    "11|Bicicleta\n",
    "12|A Pé\n",
    "13|Outros\n",
    "\n",
    "####Categorias novas\n",
    "Valor|Descrição\n",
    "----|----\n",
    "1|Ônibus\n",
    "2|Ônibus Escolar / Empresa\n",
    "3|Dirigindo Automóvel\n",
    "4|Passageiro de Automóvel\n",
    "5|Táxi\n",
    "6|Lotação / Perua / Van / Microônibus\n",
    "7|Metrô\n",
    "8|Trem\n",
    "9|Moto\n",
    "10|Bicicleta\n",
    "11|A Pé\n",
    "12|Outros\n",
    "\n",
    "[Teste: Checar se existe algum número < 1 ou > 12. Se encontrar, retornar erro indicando em qual linha.]"
   ]
  },
  {
   "cell_type": "code",
   "execution_count": null,
   "metadata": {
    "collapsed": false
   },
   "outputs": [],
   "source": [
    "if not impressao:\n",
    "    #Counting for check \"MODO1\"\n",
    "    display(od1997['MODO1'].value_counts())"
   ]
  },
  {
   "cell_type": "code",
   "execution_count": null,
   "metadata": {
    "collapsed": true
   },
   "outputs": [],
   "source": [
    "#Replacing the values 2 for 1\n",
    "od1997.loc[od1997['MODO1']==2,'MODO1'] = 1\n",
    "#Replacing the values 3 for 2\n",
    "od1997.loc[od1997['MODO1']==3,'MODO1'] = 2\n",
    "#Replacing the values 4 for 3\n",
    "od1997.loc[od1997['MODO1']==4,'MODO1'] = 3\n",
    "#Replacing the values 5 for 4\n",
    "od1997.loc[od1997['MODO1']==5,'MODO1'] = 4\n",
    "#Replacing the values 6 for 5\n",
    "od1997.loc[od1997['MODO1']==6,'MODO1'] = 5\n",
    "#Replacing the values 7 for 6\n",
    "od1997.loc[od1997['MODO1']==7,'MODO1'] = 6\n",
    "#Replacing the values 8 for 7\n",
    "od1997.loc[od1997['MODO1']==8,'MODO1'] = 7\n",
    "#Replacing the values 9 for 8\n",
    "od1997.loc[od1997['MODO1']==9,'MODO1'] = 8\n",
    "#Replacing the values 10 for 9\n",
    "od1997.loc[od1997['MODO1']==10,'MODO1'] = 9\n",
    "#Replacing the values 11 for 10\n",
    "od1997.loc[od1997['MODO1']==11,'MODO1'] = 10\n",
    "#Replacing the values 12 for 11\n",
    "od1997.loc[od1997['MODO1']==12,'MODO1'] = 11\n",
    "#Replacing the values 13 for 12\n",
    "od1997.loc[od1997['MODO1']==13,'MODO1'] = 12"
   ]
  },
  {
   "cell_type": "code",
   "execution_count": null,
   "metadata": {
    "collapsed": false
   },
   "outputs": [],
   "source": [
    "if not impressao:\n",
    "    #Counting \"MODO1 in order to compare the values before and after the replacement\n",
    "    display(od1997['MODO1'].value_counts())"
   ]
  },
  {
   "cell_type": "code",
   "execution_count": null,
   "metadata": {
    "collapsed": false
   },
   "outputs": [],
   "source": [
    "#Verifying value interval for check - conditions: \"MODO1 < 1\" and \"MODO1 > 12\"\n",
    "#od1997[(od1997['MODO1']<1) | (od21997['MODO1']>12)]\n",
    "verifica_RANGE(od1997, 'MODO1', 1, 12)"
   ]
  },
  {
   "cell_type": "markdown",
   "metadata": {},
   "source": [
    "##Passo 62: \"MODO2\"\n",
    "Substituir valores da coluna \"MODO2\"\n",
    "\n",
    "~ mesmas categorias utilizadas no MODO1 ~"
   ]
  },
  {
   "cell_type": "code",
   "execution_count": null,
   "metadata": {
    "collapsed": false
   },
   "outputs": [],
   "source": [
    "if not impressao:\n",
    "    #Counting for check \"MODO2\"\n",
    "    display(od1997['MODO2'].value_counts())"
   ]
  },
  {
   "cell_type": "code",
   "execution_count": null,
   "metadata": {
    "collapsed": true
   },
   "outputs": [],
   "source": [
    "#Replacing the values 2 for 1\n",
    "od1997.loc[od1997['MODO2']==2,'MODO2'] = 1\n",
    "#Replacing the values 3 for 2\n",
    "od1997.loc[od1997['MODO2']==3,'MODO2'] = 2\n",
    "#Replacing the values 4 for 3\n",
    "od1997.loc[od1997['MODO2']==4,'MODO2'] = 3\n",
    "#Replacing the values 5 for 4\n",
    "od1997.loc[od1997['MODO2']==5,'MODO2'] = 4\n",
    "#Replacing the values 6 for 5\n",
    "od1997.loc[od1997['MODO2']==6,'MODO2'] = 5\n",
    "#Replacing the values 7 for 6\n",
    "od1997.loc[od1997['MODO2']==7,'MODO2'] = 6\n",
    "#Replacing the values 8 for 7\n",
    "od1997.loc[od1997['MODO2']==8,'MODO2'] = 7\n",
    "#Replacing the values 9 for 8\n",
    "od1997.loc[od1997['MODO2']==9,'MODO2'] = 8\n",
    "#Replacing the values 10 for 9\n",
    "od1997.loc[od1997['MODO2']==10,'MODO2'] = 9\n",
    "#Replacing the values 11 for 10\n",
    "od1997.loc[od1997['MODO2']==11,'MODO2'] = 10\n",
    "#Replacing the values 12 for 11\n",
    "od1997.loc[od1997['MODO2']==12,'MODO2'] = 11\n",
    "#Replacing the values 13 for 12\n",
    "od1997.loc[od1997['MODO2']==13,'MODO2'] = 12"
   ]
  },
  {
   "cell_type": "code",
   "execution_count": null,
   "metadata": {
    "collapsed": false
   },
   "outputs": [],
   "source": [
    "if not impressao:\n",
    "    #Counting \"MODO2 in order to compare the values before and after the replacement\n",
    "    display(od1997['MODO2'].value_counts())"
   ]
  },
  {
   "cell_type": "code",
   "execution_count": null,
   "metadata": {
    "collapsed": false
   },
   "outputs": [],
   "source": [
    "#Verifying value interval for check - conditions: \"MODO2 < 1\" and \"MODO2 > 12\"\n",
    "#od1997[(od1997['MODO2']<1) | (od1997['MODO2']>12)]\n",
    "verifica_RANGE(od1997, 'MODO2', 1, 12)"
   ]
  },
  {
   "cell_type": "markdown",
   "metadata": {},
   "source": [
    "##Passo 63: \"MODO3\"\n",
    "Substituir valores da coluna \"MODO3\"\n",
    "\n",
    "~ mesmas categorias utilizadas no MODO1 ~"
   ]
  },
  {
   "cell_type": "code",
   "execution_count": 32,
   "metadata": {
    "collapsed": false
   },
   "outputs": [
    {
     "data": {
      "text/plain": [
       "0    4984\n",
       "1      13\n",
       "8       3\n",
       "dtype: int64"
      ]
     },
     "metadata": {},
     "output_type": "display_data"
    }
   ],
   "source": [
    "if not impressao:\n",
    "    #Counting for check \"MODO3\"\n",
    "    display(od1997['MODO3'].value_counts())"
   ]
  },
  {
   "cell_type": "code",
   "execution_count": 33,
   "metadata": {
    "collapsed": true
   },
   "outputs": [],
   "source": [
    "#Replacing the values 2 for 1\n",
    "od1997.loc[od1997['MODO3']==2,'MODO3'] = 1\n",
    "#Replacing the values 3 for 2\n",
    "od1997.loc[od1997['MODO3']==3,'MODO3'] = 2\n",
    "#Replacing the values 4 for 3\n",
    "od1997.loc[od1997['MODO3']==4,'MODO3'] = 3\n",
    "#Replacing the values 5 for 4\n",
    "od1997.loc[od1997['MODO3']==5,'MODO3'] = 4\n",
    "#Replacing the values 6 for 5\n",
    "od1997.loc[od1997['MODO3']==6,'MODO3'] = 5\n",
    "#Replacing the values 7 for 6\n",
    "od1997.loc[od1997['MODO3']==7,'MODO3'] = 6\n",
    "#Replacing the values 8 for 7\n",
    "od1997.loc[od1997['MODO3']==8,'MODO3'] = 7\n",
    "#Replacing the values 9 for 8\n",
    "od1997.loc[od1997['MODO3']==9,'MODO3'] = 8\n",
    "#Replacing the values 10 for 9\n",
    "od1997.loc[od1997['MODO3']==10,'MODO3'] = 9\n",
    "#Replacing the values 11 for 10\n",
    "od1997.loc[od1997['MODO3']==11,'MODO3'] = 10\n",
    "#Replacing the values 12 for 11\n",
    "od1997.loc[od1997['MODO3']==12,'MODO3'] = 11\n",
    "#Replacing the values 13 for 12\n",
    "od1997.loc[od1997['MODO3']==13,'MODO3'] = 12"
   ]
  },
  {
   "cell_type": "code",
   "execution_count": 34,
   "metadata": {
    "collapsed": false
   },
   "outputs": [
    {
     "data": {
      "text/plain": [
       "0    4984\n",
       "1      13\n",
       "7       3\n",
       "dtype: int64"
      ]
     },
     "metadata": {},
     "output_type": "display_data"
    }
   ],
   "source": [
    "if not impressao:\n",
    "    #Counting \"MODO3 in order to compare the values before and after the replacement\n",
    "    display(od1997['MODO3'].value_counts())"
   ]
  },
  {
   "cell_type": "code",
   "execution_count": 35,
   "metadata": {
    "collapsed": false
   },
   "outputs": [
    {
     "name": "stdout",
     "output_type": "stream",
     "text": [
      "0    4984\n",
      "dtype: int64\n"
     ]
    }
   ],
   "source": [
    "#Verifying value interval for check - conditions: \"MODO3 < 1\" and \"MODO3 > 12\"\n",
    "#od1997[(od1997['MODO3']<1) | (od1997['MODO3']>12)]\n",
    "verifica_RANGE(od1997, 'MODO3', 1, 12)"
   ]
  },
  {
   "cell_type": "markdown",
   "metadata": {},
   "source": [
    "##Passo 64: \"MODO4\"\n",
    "Substituir valores da coluna \"MODO4\"\n",
    "\n",
    "~ mesmas categorias utilizadas no MODO1 ~"
   ]
  },
  {
   "cell_type": "code",
   "execution_count": 36,
   "metadata": {
    "collapsed": false
   },
   "outputs": [
    {
     "data": {
      "text/plain": [
       "0    5000\n",
       "dtype: int64"
      ]
     },
     "metadata": {},
     "output_type": "display_data"
    }
   ],
   "source": [
    "if not impressao:\n",
    "    #Counting for check \"MODO4\"\n",
    "    display(od1997['MODO4'].value_counts())"
   ]
  },
  {
   "cell_type": "code",
   "execution_count": 37,
   "metadata": {
    "collapsed": true
   },
   "outputs": [],
   "source": [
    "#Replacing the values 2 for 1\n",
    "od1997.loc[od1997['MODO4']==2,'MODO4'] = 1\n",
    "#Replacing the values 3 for 2\n",
    "od1997.loc[od1997['MODO4']==3,'MODO4'] = 2\n",
    "#Replacing the values 4 for 3\n",
    "od1997.loc[od1997['MODO4']==4,'MODO4'] = 3\n",
    "#Replacing the values 5 for 4\n",
    "od1997.loc[od1997['MODO4']==5,'MODO4'] = 4\n",
    "#Replacing the values 6 for 5\n",
    "od1997.loc[od1997['MODO4']==6,'MODO4'] = 5\n",
    "#Replacing the values 7 for 6\n",
    "od1997.loc[od1997['MODO4']==7,'MODO4'] = 6\n",
    "#Replacing the values 8 for 7\n",
    "od1997.loc[od1997['MODO4']==8,'MODO4'] = 7\n",
    "#Replacing the values 9 for 8\n",
    "od1997.loc[od1997['MODO4']==9,'MODO4'] = 8\n",
    "#Replacing the values 10 for 9\n",
    "od1997.loc[od1997['MODO4']==10,'MODO4'] = 9\n",
    "#Replacing the values 11 for 10\n",
    "od1997.loc[od1997['MODO4']==11,'MODO4'] = 10\n",
    "#Replacing the values 12 for 11\n",
    "od1997.loc[od1997['MODO4']==12,'MODO4'] = 11\n",
    "#Replacing the values 13 for 12\n",
    "od1997.loc[od1997['MODO4']==13,'MODO4'] = 12"
   ]
  },
  {
   "cell_type": "code",
   "execution_count": 38,
   "metadata": {
    "collapsed": false
   },
   "outputs": [
    {
     "data": {
      "text/plain": [
       "0    5000\n",
       "dtype: int64"
      ]
     },
     "metadata": {},
     "output_type": "display_data"
    }
   ],
   "source": [
    "if not impressao:\n",
    "    #Counting \"MODO4 in order to compare the values before and after the replacement\n",
    "    display(od1997['MODO4'].value_counts())"
   ]
  },
  {
   "cell_type": "code",
   "execution_count": 39,
   "metadata": {
    "collapsed": false
   },
   "outputs": [
    {
     "name": "stdout",
     "output_type": "stream",
     "text": [
      "0    5000\n",
      "dtype: int64\n"
     ]
    }
   ],
   "source": [
    "#Verifying value interval for check - conditions: \"MODO4 < 1\" and \"MODO4 > 12\"\n",
    "#od1997[(od1997['MODO4']<1) | (od1997['MODO4']>12)]\n",
    "verifica_RANGE(od1997, 'MODO4', 1, 12)"
   ]
  },
  {
   "cell_type": "markdown",
   "metadata": {},
   "source": [
    "##Passo 65: \"MODO_PRIN\"\n",
    "Substituir valores da coluna \"MODO_PRIN\"\n",
    "\n",
    "~ mesmas categorias utilizadas no MODO_1 ~"
   ]
  },
  {
   "cell_type": "code",
   "execution_count": 40,
   "metadata": {
    "collapsed": false
   },
   "outputs": [
    {
     "data": {
      "text/plain": [
       "12    1800\n",
       "1      754\n",
       "4      701\n",
       "0      675\n",
       "8      563\n",
       "5      370\n",
       "6       42\n",
       "3       35\n",
       "10      26\n",
       "2       15\n",
       "11       6\n",
       "7        5\n",
       "13       5\n",
       "9        3\n",
       "dtype: int64"
      ]
     },
     "metadata": {},
     "output_type": "display_data"
    }
   ],
   "source": [
    "if not impressao:\n",
    "    #Counting for check \"MODO_PRIN\"\n",
    "    display(od1997['MODO_PRIN'].value_counts())"
   ]
  },
  {
   "cell_type": "code",
   "execution_count": 41,
   "metadata": {
    "collapsed": true
   },
   "outputs": [],
   "source": [
    "#Replacing the values 2 for 1\n",
    "od1997.loc[od1997['MODO_PRIN']==2,'MODO_PRIN'] = 1\n",
    "#Replacing the values 3 for 2\n",
    "od1997.loc[od1997['MODO_PRIN']==3,'MODO_PRIN'] = 2\n",
    "#Replacing the values 4 for 3\n",
    "od1997.loc[od1997['MODO_PRIN']==4,'MODO_PRIN'] = 3\n",
    "#Replacing the values 5 for 4\n",
    "od1997.loc[od1997['MODO_PRIN']==5,'MODO_PRIN'] = 4\n",
    "#Replacing the values 6 for 5\n",
    "od1997.loc[od1997['MODO_PRIN']==6,'MODO_PRIN'] = 5\n",
    "#Replacing the values 7 for 6\n",
    "od1997.loc[od1997['MODO_PRIN']==7,'MODO_PRIN'] = 6\n",
    "#Replacing the values 8 for 7\n",
    "od1997.loc[od1997['MODO_PRIN']==8,'MODO_PRIN'] = 7\n",
    "#Replacing the values 9 for 8\n",
    "od1997.loc[od1997['MODO_PRIN']==9,'MODO_PRIN'] = 8\n",
    "#Replacing the values 10 for 9\n",
    "od1997.loc[od1997['MODO_PRIN']==10,'MODO_PRIN'] = 9\n",
    "#Replacing the values 11 for 10\n",
    "od1997.loc[od1997['MODO_PRIN']==11,'MODO_PRIN'] = 10\n",
    "#Replacing the values 12 for 11\n",
    "od1997.loc[od1997['MODO_PRIN']==12,'MODO_PRIN'] = 11\n",
    "#Replacing the values 13 for 12\n",
    "od1997.loc[od1997['MODO_PRIN']==13,'MODO_PRIN'] = 12"
   ]
  },
  {
   "cell_type": "code",
   "execution_count": 42,
   "metadata": {
    "collapsed": false
   },
   "outputs": [
    {
     "data": {
      "text/plain": [
       "11    1800\n",
       "1      769\n",
       "3      701\n",
       "0      675\n",
       "7      563\n",
       "4      370\n",
       "5       42\n",
       "2       35\n",
       "9       26\n",
       "10       6\n",
       "6        5\n",
       "12       5\n",
       "8        3\n",
       "dtype: int64"
      ]
     },
     "metadata": {},
     "output_type": "display_data"
    }
   ],
   "source": [
    "if not impressao:\n",
    "    #Counting \"MODO_PRIN in order to compare the values before and after the replacement\n",
    "    display(od1997['MODO_PRIN'].value_counts())"
   ]
  },
  {
   "cell_type": "code",
   "execution_count": 43,
   "metadata": {
    "collapsed": false
   },
   "outputs": [
    {
     "name": "stdout",
     "output_type": "stream",
     "text": [
      "0    675\n",
      "dtype: int64\n"
     ]
    }
   ],
   "source": [
    "#Verifying value interval for check - conditions: \"MODO_PRIN < 1\" and \"MODO_PRIN > 12\"\n",
    "#od1997[(od1997['MODO_PRIN']<1) | (od1997['MODO_PRIN']>12)]\n",
    "verifica_RANGE(od1997, 'MODO_PRIN', 1, 12)"
   ]
  },
  {
   "cell_type": "markdown",
   "metadata": {},
   "source": [
    "-----\n",
    "##\"TIPO_VIAG\"; \"H_SAIDA\"; \"MIN_SAIDA\"; \"ANDA_ORIG\"; \"H_CHEG\"; \"MIN_CHEG\"; \"ANDA_DEST\" e \"DURACAO\"\n",
    "Nada há que se fazer em relação aos dados das colunas \"TIPO_VIAG\"; \"H_SAIDA\"; \"MIN_SAIDA\"; \"ANDA_ORIG\"; \"H_CHEG\"; \"MIN_CHEG\"; \"ANDA_DEST\" e \"DURACAO\""
   ]
  },
  {
   "cell_type": "markdown",
   "metadata": {},
   "source": [
    "##\"TIPO_EST_AUTO\"\n",
    "Nada há que se fazer em relação à coluna \"TIPO_EST_AUTO\" - não há dados, coluna permanecerá vazia"
   ]
  },
  {
   "cell_type": "markdown",
   "metadata": {},
   "source": [
    "-----\n",
    "##\"VALOR_EST_AUTO\"\n",
    "Nada há que se fazer em relação à coluna \"VALOR_EST_AUTO\" - não há dados, coluna permanecerá vazia"
   ]
  },
  {
   "cell_type": "code",
   "execution_count": null,
   "metadata": {
    "collapsed": true
   },
   "outputs": [],
   "source": []
  }
 ],
 "metadata": {
  "kernelspec": {
   "display_name": "Python 3",
   "language": "python",
   "name": "python3"
  },
  "language_info": {
   "codemirror_mode": {
    "name": "ipython",
    "version": 3
   },
   "file_extension": ".py",
   "mimetype": "text/x-python",
   "name": "python",
   "nbconvert_exporter": "python",
   "pygments_lexer": "ipython3",
   "version": "3.4.2"
  }
 },
 "nbformat": 4,
 "nbformat_minor": 0
}
