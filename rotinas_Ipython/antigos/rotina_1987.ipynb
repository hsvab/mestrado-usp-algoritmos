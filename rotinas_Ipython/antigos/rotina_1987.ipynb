{
 "cells": [
  {
   "cell_type": "code",
   "execution_count": null,
   "metadata": {
    "collapsed": false
   },
   "outputs": [],
   "source": [
    "from IPython.display import display #from IPython.core.display import HTML\n",
    "\n",
    "import pandas as pd\n",
    "pd.set_option('display.mpl_style', 'default') #Make the graphs a bit prettier\n",
    "\n",
    "#Variable to avoid log prints when generating pdf file\n",
    "impressao = True #True = to not print logs | False = to print logs"
   ]
  },
  {
   "cell_type": "markdown",
   "metadata": {},
   "source": [
    "--------\n",
    "##Funções gerais"
   ]
  },
  {
   "cell_type": "code",
   "execution_count": null,
   "metadata": {
    "collapsed": true
   },
   "outputs": [],
   "source": [
    "def consulta_refext(row, name_file, name_col_ref, name_col_filt, name_col_search):\n",
    "    \"\"\"\n",
    "    Traz valor de referência externa (em arquivo csv) baseado em valor de referência do arquivo de origem.\n",
    "    O primeiro argumento passado é a \"linha\".\n",
    "    O segundo argumento é o nome do arquivo csv que será consultado (indicar o nome com a extensão .csv)\n",
    "    O terceiro argumento é o nome da coluna no dataframe (.csv) consultado que servirá de refência para a localização \n",
    "    O quarto argumento é o nome da coluna de filtro do dataframe atual\n",
    "    O quinto argumento é o nome da coluna no dataframe (.csv) consultado que contém o valor a ser retornado.\n",
    "        Uso:\n",
    "        od1987['coluna a receber o valor'] = od1987.apply(lambda row: consulta_refext(row, 'filename.csv', 'reference column', 'filter column', 'searched column'), axis=1)\n",
    "    \"\"\"\n",
    "    if row [name_col_filt]==0:\n",
    "        return row[name_col_filt]\n",
    "    data_frame = pd.read_csv(name_file,sep=';')\n",
    "    return int(data_frame[data_frame[name_col_ref]==row[name_col_filt]][name_col_search])"
   ]
  },
  {
   "cell_type": "code",
   "execution_count": null,
   "metadata": {
    "collapsed": false
   },
   "outputs": [],
   "source": [
    "def verifica_DUMMY(data_frame, nome_variavel):\n",
    "    \"\"\"\n",
    "    Verifica se uma variável, dummy, contém algum valor diferente de 0 ou de 1.\n",
    "        Uso:\n",
    "        verifica_DUMMY(nome_do_dataframe, 'coluna a ser verificada')\n",
    "    \"\"\"\n",
    "    contador_de_erros = 0\n",
    "    for index, value in data_frame.iterrows():\n",
    "        if int(value[nome_variavel]) != 1 and int(value[nome_variavel]) != 0:\n",
    "            if not impressao:\n",
    "                print(\"Erro encontrado no registro \" + str(index+1) + \".\")\n",
    "                print(\"    Valor encontrado: \" + str(value[nome_variavel]))\n",
    "            contador_de_erros += 1\n",
    "    print(\"Total de erros encontrados: \" + str(contador_de_erros))"
   ]
  },
  {
   "cell_type": "code",
   "execution_count": null,
   "metadata": {
    "collapsed": true
   },
   "outputs": [],
   "source": [
    "def verifica_RANGE(df, variavel, valor_menor, valor_maior):\n",
    "    \"\"\"\n",
    "    Verifica se uma variável, do tipo número inteiro, contém algum valor menor que \"valor_menor\" ou maior que \"valor_maior\"\n",
    "        Uso:\n",
    "        verifica_RANGE(nome_do_dataframe, 'coluna a ser verificada', 'valor_menor', 'valor_maior')\n",
    "    \"\"\"\n",
    "    df_filtrado = df[(df[variavel]<valor_menor) | (df[variavel]>valor_maior)]\n",
    "    #Printing a summary of the values that not fit in the Range\n",
    "    result = df_filtrado[variavel].value_counts()\n",
    "    print(result)\n",
    "    #If 'impressao = False', the output contains the values of dataframe that do not fit in the filter\n",
    "    if not impressao:\n",
    "        df_filtrado"
   ]
  },
  {
   "cell_type": "code",
   "execution_count": null,
   "metadata": {
    "collapsed": true
   },
   "outputs": [],
   "source": [
    "def gera_ID_DOM(row):\n",
    "    \"\"\"\n",
    "    Gera o ID_DOM baseado no 'ANO', na 'ZONA_DOM' e no 'NO_DOM'\n",
    "    O argumento passado é a \"linha\".\n",
    "        Uso:\n",
    "        od1987['ID_DOM'] = od1987.apply(lambda row: gera_ID_DOM(row), axis=1)\n",
    "    \"\"\"\n",
    "    ano = int(row['ANO'])\n",
    "    zona = int(row['ZONA_DOM'])\n",
    "    no_dom = int(row['NO_DOM'])\n",
    "    return int(str(ano)+str('%03d'%(zona)) + str('%04d'%(no_dom)))"
   ]
  },
  {
   "cell_type": "code",
   "execution_count": null,
   "metadata": {
    "collapsed": true
   },
   "outputs": [],
   "source": [
    "def gera_ID_FAM(row):\n",
    "    \"\"\"\n",
    "    Gera o ID_FAM baseado no 'ID_DOM' e no 'NO_FAM'\n",
    "    O argumento passado é a \"linha\".\n",
    "        Uso:\n",
    "        od1987['ID_FAM'] = od1987.apply(lambda row: gera_ID_FAM(row), axis=1)\n",
    "    \"\"\"\n",
    "    id_dom = int(row['ID_DOM'])\n",
    "    no_fam = int(row['NO_FAM'])\n",
    "    return int(str(id_dom) + str('%02d'%(no_fam)))"
   ]
  },
  {
   "cell_type": "code",
   "execution_count": null,
   "metadata": {
    "collapsed": true
   },
   "outputs": [],
   "source": [
    "def gera_ID_PESS(row):\n",
    "    \"\"\"\n",
    "    Gera o ID_PESS baseado no 'ID_FAM' e no 'NO_PESS'\n",
    "    O argumento passado é a \"linha\".\n",
    "        Uso:\n",
    "        od1987['ID_PESS'] = od1987.apply(lambda row: gera_ID_PESS(row), axis=1)\n",
    "    \"\"\"\n",
    "    id_fam = int(row['ID_FAM'])\n",
    "    no_pess = int(row['NO_PESS'])\n",
    "    return int(str(id_fam) + str('%02d'%(no_pess)))"
   ]
  },
  {
   "cell_type": "code",
   "execution_count": null,
   "metadata": {
    "collapsed": true
   },
   "outputs": [],
   "source": [
    "def gera_ID_VIAG(row):\n",
    "    \"\"\"\n",
    "    Gera o ID_VIAG baseado no 'ID_PESS' e no 'NO_VIAG'\n",
    "    O argumento passado é a \"linha\".\n",
    "        Uso:\n",
    "        od1987['ID_VIAG'] = od1987.apply(lambda row: gera_ID_VIAG(row), axis=1)\n",
    "    \"\"\"\n",
    "    id_pess = int(row['ID_PESS'])\n",
    "    no_viag = int(row['NO_VIAG'])\n",
    "    return int(str(id_pess) + str('%02d'%(no_viag)))"
   ]
  },
  {
   "cell_type": "code",
   "execution_count": null,
   "metadata": {
    "collapsed": true
   },
   "outputs": [],
   "source": [
    "def calcula_DIST_VIAG(row):\n",
    "    \"\"\"\n",
    "    Calcula a distância euclidiana dadas as coordenadas (x,y) de origem e coordenadas (x,y) de destino da viagem.\n",
    "    O argumento passado é a \"linha\".\n",
    "        Uso:\n",
    "        od1987['DIST_VIAG'] = od1987.apply(lambda row: calcula_DIST_VIAG(row), axis=1)\n",
    "    \"\"\"\n",
    "    co_orig_x = row['CO_ORIG_X']\n",
    "    co_orig_y = row['CO_ORIG_Y']\n",
    "    co_dest_x = row['CO_DEST_X']\n",
    "    co_dest_y = row['CO_DEST_Y']\n",
    "    return math.sqrt(math.pow((co_orig_x - co_dest_x), 2) + math.pow((co_orig_y - co_dest_y), 2))"
   ]
  },
  {
   "cell_type": "markdown",
   "metadata": {},
   "source": [
    "----"
   ]
  },
  {
   "cell_type": "code",
   "execution_count": null,
   "metadata": {
    "collapsed": false
   },
   "outputs": [],
   "source": [
    "#Reading csv file and store its contend in an intern dataframe\n",
    "od1987 = pd.read_csv('OD_1987.csv', sep=';', decimal=',')"
   ]
  },
  {
   "cell_type": "code",
   "execution_count": null,
   "metadata": {
    "collapsed": false
   },
   "outputs": [],
   "source": [
    "#Reading csv file and store its contend in an intern dataframe\n",
    "#addcol_1897 = pd.read_csv('OD_1987_addcol.csv', sep=';', decimal=',')"
   ]
  },
  {
   "cell_type": "code",
   "execution_count": null,
   "metadata": {
    "collapsed": false
   },
   "outputs": [],
   "source": [
    "#Replacing a column from a dataframe to another\n",
    "#od1987['CD_ENTRE'] = addcol_1987['RESUL_DOM']"
   ]
  },
  {
   "cell_type": "code",
   "execution_count": null,
   "metadata": {
    "collapsed": false
   },
   "outputs": [],
   "source": [
    "#Renaming the column UCOD to UCOD_DOM\n",
    "od1987.rename(columns={'UCOD':'UCOD_DOM'}, inplace=True)"
   ]
  },
  {
   "cell_type": "code",
   "execution_count": null,
   "metadata": {
    "collapsed": true
   },
   "outputs": [],
   "source": [
    "#Creating the column UCOD_ESC (it will go to the end of dataframe)\n",
    "od1987['UCOD_ESC']=None"
   ]
  },
  {
   "cell_type": "code",
   "execution_count": null,
   "metadata": {
    "collapsed": true
   },
   "outputs": [],
   "source": [
    "#Creating the column UCOD_TRAB1 (it will go to the end of dataframe)\n",
    "od1987['UCOD_TRAB1']=None"
   ]
  },
  {
   "cell_type": "code",
   "execution_count": null,
   "metadata": {
    "collapsed": true
   },
   "outputs": [],
   "source": [
    "#Creating the column UCOD_TRAB2 (it will go to the end of dataframe)\n",
    "od1987['UCOD_TRAB2']=None"
   ]
  },
  {
   "cell_type": "code",
   "execution_count": null,
   "metadata": {
    "collapsed": true
   },
   "outputs": [],
   "source": [
    "#Creating the column UCOD_ORIG (it will go to the end of dataframe)\n",
    "od1987['UCOD_ORIG']=None"
   ]
  },
  {
   "cell_type": "code",
   "execution_count": null,
   "metadata": {
    "collapsed": false
   },
   "outputs": [],
   "source": [
    "#Creating the column UCOD_DEST (it will go to the end of dataframe)\n",
    "od1987['UCOD_DEST']=None"
   ]
  },
  {
   "cell_type": "code",
   "execution_count": null,
   "metadata": {
    "collapsed": true
   },
   "outputs": [],
   "source": [
    "od1987 = od1987[:5000]"
   ]
  },
  {
   "cell_type": "code",
   "execution_count": null,
   "metadata": {
    "collapsed": false
   },
   "outputs": [],
   "source": [
    "#Reordering the columns, precisely, these that were just created (at the end of dataframe) near to other contend related variables\n",
    "od1987 = od1987[['ANO',\n",
    " 'CD_ENTRE',\n",
    " 'DIA_SEM',\n",
    " 'UCOD_DOM',\n",
    " 'ZONA_DOM',\n",
    " 'SUBZONA_DOM',\n",
    " 'MUN_DOM',\n",
    " 'CO_DOM_X',\n",
    " 'CO_DOM_Y',\n",
    " 'ID_DOM',\n",
    " 'F_DOM',\n",
    " 'FE_DOM',\n",
    " 'NO_DOM',\n",
    " 'TIPO_DOM',\n",
    " 'TOT_FAM',\n",
    " 'ID_FAM',\n",
    " 'F_FAM',\n",
    " 'FE_FAM',\n",
    " 'NO_FAM',\n",
    " 'COND_MORA',\n",
    " 'QT_AUTO',\n",
    " 'QT_BICI',\n",
    " 'QT_MOTO',\n",
    " 'CD_RENFAM',\n",
    " 'REN_FAM',\n",
    " 'ID_PESS',\n",
    " 'F_PESS',\n",
    " 'FE_PESS',\n",
    " 'NO_PESS',\n",
    " 'SIT_FAM',\n",
    " 'IDADE',\n",
    " 'SEXO',\n",
    " 'ESTUDA',\n",
    " 'GRAU_INSTR',\n",
    " 'OCUP',\n",
    " 'SETOR_ATIV',\n",
    " 'CD_RENIND',\n",
    " 'REN_IND',\n",
    " 'UCOD_ESC',\n",
    " 'ZONA_ESC',\n",
    " 'SUBZONA_ESC',\n",
    " 'MUN_ESC',\n",
    " 'CO_ESC_X',\n",
    " 'CO_ESC_Y',\n",
    " 'UCOD_TRAB1',                      \n",
    " 'ZONA_TRAB1',\n",
    " 'SUBZONA_TRAB1',\n",
    " 'MUN_TRAB1',\n",
    " 'CO_TRAB1_X',\n",
    " 'CO_TRAB1_Y',\n",
    " 'UCOD_TRAB2',\n",
    " 'ZONA_TRAB2',\n",
    " 'SUBZONA_TRAB2',\n",
    " 'MUN_TRAB2',\n",
    " 'CO_TRAB2_X',\n",
    " 'CO_TRAB2_Y',\n",
    " 'ID_VIAG',\n",
    " 'F_VIAG',\n",
    " 'FE_VIAG',\n",
    " 'NO_VIAG',\n",
    " 'TOT_VIAG',\n",
    " 'UCOD_ORIG',\n",
    " 'ZONA_ORIG',\n",
    " 'SUBZONA_ORIG',\n",
    " 'MUN_ORIG',\n",
    " 'CO_ORIG_X',\n",
    " 'CO_ORIG_Y',\n",
    " 'UCOD_DEST',\n",
    " 'ZONA_DEST',\n",
    " 'SUBZONA_DEST',\n",
    " 'MUN_DEST',\n",
    " 'CO_DEST_X',\n",
    " 'CO_DEST_Y',\n",
    " 'DIST_VIAG',\n",
    " 'MOTIVO_ORIG',\n",
    " 'MOTIVO_DEST',\n",
    " 'MODO1',\n",
    " 'MODO2',\n",
    " 'MODO3',\n",
    " 'MODO4',\n",
    " 'MODO_PRIN',\n",
    " 'TIPO_VIAG',\n",
    " 'H_SAIDA',\n",
    " 'MIN_SAIDA',\n",
    " 'ANDA_ORIG',\n",
    " 'H_CHEG',\n",
    " 'MIN_CHEG',\n",
    " 'ANDA_DEST',\n",
    " 'DURACAO',\n",
    " 'TIPO_EST_AUTO',\n",
    " 'VALOR_EST_AUTO']]"
   ]
  },
  {
   "cell_type": "code",
   "execution_count": null,
   "metadata": {
    "collapsed": false
   },
   "outputs": [],
   "source": [
    "#Storing the variables list in the \"cols\" variable\n",
    "cols = od1987.columns.tolist()\n",
    "if not impressao:\n",
    "    #printing \"cols\" variable to check if the reorder operation was effective\n",
    "    display(cols)"
   ]
  },
  {
   "cell_type": "code",
   "execution_count": null,
   "metadata": {
    "collapsed": false
   },
   "outputs": [],
   "source": [
    "if not impressao:\n",
    "    #Describing data (whole dataframe)- count, mean, std, min and max\n",
    "    display(od1987.describe())"
   ]
  },
  {
   "cell_type": "markdown",
   "metadata": {},
   "source": [
    "-----\n",
    "##Passo 1: UCOD_DOM\n",
    "Na coluna \"UCOD_DOM\", linha i, ler o valor da linha i da coluna \"ZONA_DOM\", daí, buscar o mesmo valor na coluna \"Zona 1987\" do arquivo UCOD-1987.csv. Ao achar, retornar o valor da mesma linha, só que da coluna \"UCOD_DOM\"\n",
    "\n",
    "[Teste: no banco completo, checar se o min == 1 e o max == 67]"
   ]
  },
  {
   "cell_type": "code",
   "execution_count": null,
   "metadata": {
    "collapsed": false
   },
   "outputs": [],
   "source": [
    "#Getting from the csv file the \"UCOD\" code correspondent to the \"ZONA_DOM\" code\n",
    "od1987['UCOD_DOM'] = od1987.apply(lambda row: consulta_refext(row, 'UCOD-1987.csv', 'Zona 1987', 'ZONA_DOM', 'UCOD'), axis=1)"
   ]
  },
  {
   "cell_type": "code",
   "execution_count": null,
   "metadata": {
    "collapsed": false
   },
   "outputs": [],
   "source": [
    "if not impressao:\n",
    "    #Describing data (\"UCOD_DOM\" column) - count, mean, std, min and max\n",
    "    display(od1987['UCOD_DOM'].describe())"
   ]
  },
  {
   "cell_type": "code",
   "execution_count": null,
   "metadata": {
    "collapsed": false
   },
   "outputs": [],
   "source": [
    "if not impressao:\n",
    "    #Count for check \"UCOD_DOM\"\n",
    "    display(od1987['UCOD_DOM'].value_counts())"
   ]
  },
  {
   "cell_type": "code",
   "execution_count": null,
   "metadata": {
    "collapsed": false
   },
   "outputs": [],
   "source": [
    "#Verifying value interval for check - conditions: \"UCOD_DOM < 1\" and \"UCOD_DOM > 67\"\n",
    "verifica_RANGE(od1987, 'UCOD_DOM', 1, 67)\n",
    "#od1987_ex[(od1987['UCOD_DOM']<1) | (od1987['UCOD_DOM']>67)]"
   ]
  },
  {
   "cell_type": "markdown",
   "metadata": {
    "collapsed": true
   },
   "source": [
    "-----\n",
    "##Passo 2: \"ANO\"\n",
    "Preencher a coluna \"ANO\" com  valor 4 em todas células\n",
    "####Categorias:\n",
    "|valor|ano_correspondente|\n",
    "|-------|-----|\n",
    "|1|1977|\n",
    "|2|1987|\n",
    "|3|1997|\n",
    "|4|2007|"
   ]
  },
  {
   "cell_type": "code",
   "execution_count": null,
   "metadata": {
    "collapsed": true
   },
   "outputs": [],
   "source": [
    "#Assigning value '2' to all cels of the \"ANO\" column\n",
    "od1987[\"ANO\"]=2"
   ]
  },
  {
   "cell_type": "code",
   "execution_count": null,
   "metadata": {
    "collapsed": false
   },
   "outputs": [],
   "source": [
    "if not impressao:\n",
    "    #Describing data (\"ANO\" column) - count, mean, std, min and max\n",
    "    display(od1987['ANO'].describe())"
   ]
  },
  {
   "cell_type": "markdown",
   "metadata": {},
   "source": [
    "-----\n",
    "##Passo 3: \"CD_ENTRE\"\n",
    "Substituir valores da coluna \"CD_ENTRE\"\n",
    "\n",
    "* Substituir todos valores **5** por **0**\n",
    "* Substituir todos valores **6** por **1**\n",
    "\n",
    "####Categorias anteriores\n",
    "Valor | Descrição\n",
    "----|----\n",
    "1 | Recusa Total\n",
    "2 | Moradores Ausentes\n",
    "3 | Domicílio Vago\n",
    "4 | Incompleta\n",
    "5 | Completa sem viagem\n",
    "6 | Completa com viagem\n",
    "\n",
    "####Categorias novas\n",
    "| Valor | Descrição |\n",
    "| -------- | -------- |\n",
    "| 0 | Completa sem viagem |\n",
    "| 1 | Completa com viagem |\n",
    "\n",
    "[Teste: Checar se existe algum número diferente de 0 ou 1. Se encontrar, retornar erro indicando em qual linha.]"
   ]
  },
  {
   "cell_type": "code",
   "execution_count": null,
   "metadata": {
    "collapsed": false
   },
   "outputs": [],
   "source": [
    "if not impressao:\n",
    "    #Counting for check \"CD_ENTRE\"\n",
    "    display(od1987['CD_ENTRE'].value_counts())"
   ]
  },
  {
   "cell_type": "code",
   "execution_count": null,
   "metadata": {
    "collapsed": true
   },
   "outputs": [],
   "source": [
    "#Replacing the values 5 for 0\n",
    "od1987.loc[od1987['CD_ENTRE']==5,'CD_ENTRE'] = 0\n",
    "#Replacing the values 6 for 1\n",
    "od1987.loc[od1987['CD_ENTRE']==6,'CD_ENTRE'] = 1"
   ]
  },
  {
   "cell_type": "code",
   "execution_count": null,
   "metadata": {
    "collapsed": false
   },
   "outputs": [],
   "source": [
    "if not impressao:\n",
    "    #Counting \"CD_ENTRE\" in order to compare the values before and after the replacement\n",
    "    display(od1987['CD_ENTRE'].value_counts())"
   ]
  },
  {
   "cell_type": "code",
   "execution_count": null,
   "metadata": {
    "collapsed": false
   },
   "outputs": [],
   "source": [
    "#Verifying if there was left some value other than 0 or 1\n",
    "verifica_DUMMY(od1987, 'CD_ENTRE')"
   ]
  },
  {
   "cell_type": "markdown",
   "metadata": {},
   "source": [
    "----\n",
    "##Passo 4: \"DIA_SEM\"\n",
    "Checar se existe algum erro na coluna\n",
    "####Categorias:\n",
    "Valor|Descrição\n",
    "-----|-----\n",
    "0|Não disponível\n",
    "2|Segunda-Feira\n",
    "3|Terça-Feira\n",
    "4|Quarta-Feira\n",
    "5|Quinta-Feira\n",
    "6|Sexta-Feira\n",
    "\n",
    "[Teste: Checar se existe algum número < 2 ou > 6. Se encontrar, retornar erro indicando em qual linha.]"
   ]
  },
  {
   "cell_type": "code",
   "execution_count": null,
   "metadata": {
    "collapsed": false
   },
   "outputs": [],
   "source": [
    "if not impressao:\n",
    "    #Counting for check \"DIA_SEM\"\n",
    "    display(od1987['DIA_SEM'].value_counts())"
   ]
  },
  {
   "cell_type": "code",
   "execution_count": null,
   "metadata": {
    "collapsed": false,
    "scrolled": true
   },
   "outputs": [],
   "source": [
    "#Verifying value interval for check - conditions: \"DIA_SEM < 2\" and \"DIA_SEM > 6\"\n",
    "verifica_RANGE(od1987, 'DIA_SEM', 2, 6)\n",
    "#od1987[(od1987['DIA_SEM']<2) | (od1987['DIA_SEM']>6)]['DIA_SEM'].value_counts()"
   ]
  },
  {
   "cell_type": "markdown",
   "metadata": {},
   "source": [
    "-----\n",
    "##Passo 5: \"ZONA_DOM\"\n",
    "Checar se existe algum erro\n",
    "\n",
    "####Categorias:\n",
    "> 1 a 254\n",
    "\n",
    "[Teste: Checar se existe algum número < 1 ou > 254. Se encontrar, retornar erro indicando em qual linha.]"
   ]
  },
  {
   "cell_type": "code",
   "execution_count": null,
   "metadata": {
    "collapsed": false
   },
   "outputs": [],
   "source": [
    "#Verifying value interval for check - conditions: \"ZONA_DOM < 1\" and \"ZONA_DOM > 254\"\n",
    "#od1987[(od1987['ZONA_DOM']<1) | (od1987['ZONA_DOM']>254)]\n",
    "verifica_RANGE(od1987, 'ZONA_DOM', 1, 254)"
   ]
  },
  {
   "cell_type": "markdown",
   "metadata": {},
   "source": [
    "-----\n",
    "##Passo 6: \"SUBZONA_DOM\"\n",
    ">>> FAZER!!!"
   ]
  },
  {
   "cell_type": "markdown",
   "metadata": {},
   "source": [
    "-----\n",
    "##Passo 7: \"MUN_DOM\"\n",
    "Checar se existe algum erro\n",
    "\n",
    "####Categorias\n",
    "> 1 a 38\n",
    "\n",
    "[Teste: Checar se existe algum número < 1 ou > 38. Se encontrar, retornar erro indicando em qual linha.]"
   ]
  },
  {
   "cell_type": "code",
   "execution_count": null,
   "metadata": {
    "collapsed": false
   },
   "outputs": [],
   "source": [
    "#Verifying value interval for check - conditions: \"MUN_DOM < 1\" and \"MUN_DOM > 38\"\n",
    "#od1987[(od1987['MUN_DOM']<1) | (od1987['MUN_DOM']>38)]\n",
    "verifica_RANGE(od1987, 'MUN_DOM', 1, 38)"
   ]
  },
  {
   "cell_type": "markdown",
   "metadata": {},
   "source": [
    "-----\n",
    "##Passo 8: \"CO_DOM_X\"\n",
    "\n",
    "Na coluna \"CO_DOM_X\", linha i, ler o valor da linha i da coluna \"SUBZONA_DOM\", daí, buscar o mesmo valor na coluna \"SUBZONA\" do arquivo COORD-SUBZONA-1987.csv. Ao achar, retornar o valor da mesma linha, só que da coluna \"CO_X\""
   ]
  },
  {
   "cell_type": "code",
   "execution_count": null,
   "metadata": {
    "collapsed": false
   },
   "outputs": [],
   "source": [
    "#Getting from the csv file the \"CO_X\" code correspondent to the \"SUBZONA_DOM\" code\n",
    "od1987['CO_DOM_X'] = od1987.apply(lambda row: consulta_refext(row, 'COORD-SUBZONA-1987.csv', 'SUBZONA', 'SUBZONA_DOM', 'CO_X'), axis=1)"
   ]
  },
  {
   "cell_type": "markdown",
   "metadata": {},
   "source": [
    "-----\n",
    "##Passo 9: \"CO_DOM_Y\"\n",
    "\n",
    "Na coluna \"CO_DOM_Y\", linha i, ler o valor da linha i da coluna \"SUBZONA_DOM\", daí, buscar o mesmo valor na coluna \"SUBZONA\" do arquivo COORD-SUBZONA-1987.csv. Ao achar, retornar o valor da mesma linha, só que da coluna \"CO_Y\""
   ]
  },
  {
   "cell_type": "code",
   "execution_count": null,
   "metadata": {
    "collapsed": false
   },
   "outputs": [],
   "source": [
    "#Getting from the csv file the \"CO_Y\" code correspondent to the \"SUBZONA_DOM\" code\n",
    "od1987['CO_DOM_Y'] = od1987.apply(lambda row: consulta_refext(row, 'COORD-SUBZONA-1987.csv', 'SUBZONA', 'SUBZONA_DOM', 'CO_Y'), axis=1)"
   ]
  },
  {
   "cell_type": "markdown",
   "metadata": {},
   "source": [
    "-----\n",
    "##Passo 10: \"ID_DOM\"\n",
    "construir o \"ID_DOM\"\n",
    "\n",
    "[Na coluna \"ID_DOM\", linha i, ler o valor da linha i da coluna \"ZONA_DOM\", e concatenar esse valor (com 3 dígitos) com o número do domicílio , que é o valor da linha i da coluna \"NO_DOM\" (com 4 dígitos). Resultado será um ID_DOM, que pode se repetir nas linhas, de 7 dígitos. Isso deve ser concateado com o \"Ano\". Resultado = 8 dígitos]\n",
    "\n",
    "Outra possibilidade, concatenar com a UCOD ao invés da zona..."
   ]
  },
  {
   "cell_type": "code",
   "execution_count": null,
   "metadata": {
    "collapsed": false
   },
   "outputs": [],
   "source": [
    "#Generating \"ID_DOM\" from the concatenation of \"ANO\", \"ZONA_DOM\" and \"NO_DOM\" variables\n",
    "od1987['ID_DOM'] = od1987.apply(lambda row: gera_ID_DOM(row), axis=1)"
   ]
  },
  {
   "cell_type": "markdown",
   "metadata": {},
   "source": [
    "-----\n",
    "##Passo 11: \"F_DOM\"\n",
    "Checar se existe algum erro na coluna \"F_DOM\"\n",
    "\n",
    "####Categorias\n",
    "Valor|Descrição\n",
    "----|----\n",
    "0|Demais registros\n",
    "1|Primeiro Registro do Domicílio\n",
    "\n",
    "[Teste: Checar se existe algum número diferente de 0 ou 1. Se encontrar, retornar erro indicando em qual linha.]"
   ]
  },
  {
   "cell_type": "code",
   "execution_count": null,
   "metadata": {
    "collapsed": false
   },
   "outputs": [],
   "source": [
    "#Verifying if there was left some value other than 0 or 1\n",
    "verifica_DUMMY(od1987, 'F_DOM')"
   ]
  },
  {
   "cell_type": "markdown",
   "metadata": {},
   "source": [
    "-----\n",
    "##\"FE_DOM\" e \"NO_DOM\"\n",
    "Nada há que se fazer em relação aos dados das colunas \"FE_DOM\" e \"NO_DOM\""
   ]
  },
  {
   "cell_type": "markdown",
   "metadata": {},
   "source": [
    "-----\n",
    "##Passo 12: \"TIPO_DOM\"\n",
    "Substituir valores da coluna \"TIPO_DOM\"\n",
    "\n",
    "* Substituir todos valores **1** por **0**.\n",
    "* Substituir e todos valores **2** por **1**.\n",
    "\n",
    "####Categorias anteriores\n",
    "Valor | Descrição\n",
    "----|----\n",
    "1 | Individual \n",
    "2 | Coletivo\n",
    "\n",
    "####Categorias novas\n",
    "Valor | Descrição\n",
    "----|----\n",
    "0|Particular\n",
    "1|Coletivo\n",
    "\n",
    "[Teste: Checar se existe algum número diferente de 0 ou 1. Se encontrar, retornar erro indicando em qual linha.]"
   ]
  },
  {
   "cell_type": "code",
   "execution_count": null,
   "metadata": {
    "collapsed": false
   },
   "outputs": [],
   "source": [
    "if not impressao:\n",
    "    #Counting for check \"TIPO_DOM\"\n",
    "    display(od1987['TIPO_DOM'].value_counts())"
   ]
  },
  {
   "cell_type": "code",
   "execution_count": null,
   "metadata": {
    "collapsed": false
   },
   "outputs": [],
   "source": [
    "#Replacing the values 1 for 0\n",
    "od1987.loc[od1987['TIPO_DOM']==1,'TIPO_DOM'] = 0\n",
    "#Replacing the values 2 for 1\n",
    "od1987.loc[od1987['TIPO_DOM']==2,'TIPO_DOM'] = 1"
   ]
  },
  {
   "cell_type": "code",
   "execution_count": null,
   "metadata": {
    "collapsed": false
   },
   "outputs": [],
   "source": [
    "if not impressao:\n",
    "    #Counting \"TIPO_DOM\" in order to compare the values before and after the replacement\n",
    "    display(od1987['TIPO_DOM'].value_counts())"
   ]
  },
  {
   "cell_type": "code",
   "execution_count": null,
   "metadata": {
    "collapsed": false
   },
   "outputs": [],
   "source": [
    "#Verifying if there was left some value other than 0 or 1\n",
    "verifica_DUMMY(od1987, 'TIPO_DOM')"
   ]
  },
  {
   "cell_type": "markdown",
   "metadata": {},
   "source": [
    "-----\n",
    "##\"TOT_FAM\"\n",
    "Nada há que se fazer em relação aos dados da coluna \"TOT_FAM\""
   ]
  },
  {
   "cell_type": "markdown",
   "metadata": {},
   "source": [
    "-----\n",
    "##Passo 13: \"ID_FAM\"\n",
    "Construir o \"ID_FAM\"\n",
    "\n",
    "Na coluna \"ID_FAM\", linha i, ler o valor da linha i da coluna \"ID_DOM\", e concatenar esse valor (com 8 dígitos) com o número da família, que é o valor da linha i da coluna \"NO_FAM\" (com 2 dígitos).\n",
    "\n",
    "Resultado será um ID_FAM, que pode se repetir nas linhas, de 10 dígitos."
   ]
  },
  {
   "cell_type": "code",
   "execution_count": null,
   "metadata": {
    "collapsed": false
   },
   "outputs": [],
   "source": [
    "#Generating \"ID_FAM\" from the concatenation of \"ID_DOM\" and \"NO_FAM\" variables\n",
    "od1987['ID_FAM'] = od1987.apply(lambda row: gera_ID_FAM(row), axis=1)"
   ]
  },
  {
   "cell_type": "markdown",
   "metadata": {},
   "source": [
    "-----\n",
    "##Passo 14: \"F_FAM\"\n",
    "Checar se existe algum erro na coluna \"F_FAM\"\n",
    "\n",
    "####Categorias\n",
    "Valor|Descrição\n",
    "----|----\n",
    "0|Demais registros\n",
    "1|Primeiro Registro da Família\n",
    "\n",
    "[Teste: Checar se existe algum número diferente de 0 ou 1. Se encontrar, retornar erro indicando em qual linha.]"
   ]
  },
  {
   "cell_type": "code",
   "execution_count": null,
   "metadata": {
    "collapsed": false
   },
   "outputs": [],
   "source": [
    "#Verifying if there was left some value other than 0 or 1\n",
    "verifica_DUMMY(od1987, 'F_FAM')"
   ]
  },
  {
   "cell_type": "markdown",
   "metadata": {},
   "source": [
    "-----\n",
    "##\"FE_FAM\" e \"NO_FAM\"\n",
    "Nada há que se fazer em relação aos dados das colunas \"FE_FAM\" e \"NO_FAM\""
   ]
  },
  {
   "cell_type": "markdown",
   "metadata": {},
   "source": [
    "-----\n",
    "##Passo 15: \"COND_MORA\"\n",
    "Substituir valores da coluna \"COND_MORA\"\n",
    "\n",
    "* Substituir todos valores **3** por **5**\n",
    "* Substituir todos valores **1** por **3**\n",
    "* Substituir todos valores **5** por **1**\n",
    "* Substituir todos valores **4** por **5**\n",
    "* Substituir todos valores **2** por **4**\n",
    "* Substituir todos valores **5** por **2**\n",
    "\n",
    "####Categorias anteriores\n",
    "Valor|Descrição\n",
    "----|----\n",
    "1|Não se aplica\n",
    "2|Não respondeu\n",
    "3|Alugada\n",
    "4|Casa Própria\n",
    "\n",
    "####Categorias novas\n",
    "Valor|Descrição\n",
    "----|----\n",
    "1|Alugada\n",
    "2|Própria\n",
    "3|Outros\n",
    "4|Não respondeu\n",
    "\n",
    "[Teste: Checar se existe algum número < 1 ou > 4. Se encontrar, retornar erro indicando em qual linha.]"
   ]
  },
  {
   "cell_type": "code",
   "execution_count": null,
   "metadata": {
    "collapsed": false
   },
   "outputs": [],
   "source": [
    "if not impressao:\n",
    "    #Counting for check \"COND_MORA\"\n",
    "    display(od1987['COND_MORA'].value_counts())"
   ]
  },
  {
   "cell_type": "code",
   "execution_count": null,
   "metadata": {
    "collapsed": true
   },
   "outputs": [],
   "source": [
    "#Replacing the values 3 for 5\n",
    "od1987.loc[od1987['COND_MORA']==3,'COND_MORA'] = 5\n",
    "#Replacing the values 1 for 3\n",
    "od1987.loc[od1987['COND_MORA']==1,'COND_MORA'] = 3\n",
    "#Replacing the values 5 for 1\n",
    "od1987.loc[od1987['COND_MORA']==5,'COND_MORA'] = 1\n",
    "#Replacing the values 4 for 5\n",
    "od1987.loc[od1987['COND_MORA']==4,'COND_MORA'] = 5\n",
    "#Replacing the values 2 for 4\n",
    "od1987.loc[od1987['COND_MORA']==2,'COND_MORA'] = 4\n",
    "#Replacing the values 5 for 2\n",
    "od1987.loc[od1987['COND_MORA']==5,'COND_MORA'] = 2"
   ]
  },
  {
   "cell_type": "code",
   "execution_count": null,
   "metadata": {
    "collapsed": false
   },
   "outputs": [],
   "source": [
    "if not impressao:\n",
    "    #Counting \"COND_MORA\" in order to compare the values before and after the replacement\n",
    "    display(od1987['COND_MORA'].value_counts())"
   ]
  },
  {
   "cell_type": "code",
   "execution_count": null,
   "metadata": {
    "collapsed": false
   },
   "outputs": [],
   "source": [
    "#Verifying value interval for check - conditions: \"COND_MORA < 1\" and \"COND_MORA > 4\"\n",
    "#od1987[(od1987['COND_MORA']<1) | (od1987['COND_MORA']>4)]\n",
    "verifica_RANGE(od1987, 'COND_MORA', 1, 4)"
   ]
  },
  {
   "cell_type": "markdown",
   "metadata": {},
   "source": [
    "-----\n",
    "##\"QT_AUTO\", \"QT_BICI\" e QT_MOTO\"\n",
    "Nada há que se fazer em relação aos dados das colunas \"QT_AUTO\", \"QT_BICI\" e QT_MOTO\"\n",
    "\n",
    "Lembrando que quantidade de motos e de bicicletas não foram levantadas.\n",
    "\n",
    ">>Substituir por 0??"
   ]
  },
  {
   "cell_type": "markdown",
   "metadata": {},
   "source": [
    "-----\n",
    "##Passo 16: \"CD_RENFAM\"\n",
    "Substituir valores da coluna \"CD_RENFAM\"\n",
    "\n",
    "* Substituir todos valores **1** por **0**\n",
    "* Substituir todos valores **3** por **1**\n",
    "\n",
    "####Categorias anteriores\n",
    "Valor|Descrição\n",
    "----|----\n",
    "1|Não Tem Renda\n",
    "2|Renda Familiar Incompleta\n",
    "3|Renda Familiar Completa\n",
    "\n",
    "####Categorias novas\n",
    "Valor|Descrição\n",
    "----|----\n",
    "0|Renda Familiar Declarada como Zero\n",
    "1|Renda Familiar Declarada e Maior que Zero\n",
    "2|Renda Atribuída\n",
    "\n",
    "[Teste: Checar se existe algum número < 0 ou > 2. Se encontrar, retornar erro indicando em qual linha.]"
   ]
  },
  {
   "cell_type": "code",
   "execution_count": null,
   "metadata": {
    "collapsed": false
   },
   "outputs": [],
   "source": [
    "if not impressao:\n",
    "    #Counting for check \"CD_RENFAM\"\n",
    "    display(od1987['CD_RENFAM'].value_counts())"
   ]
  },
  {
   "cell_type": "code",
   "execution_count": null,
   "metadata": {
    "collapsed": true
   },
   "outputs": [],
   "source": [
    "#Replacing the values 1 for 0\n",
    "od1987.loc[od1987['CD_RENFAM']==1,'CD_RENFAM'] = 0\n",
    "#Replacing the values 3 for 1\n",
    "od1987.loc[od1987['CD_RENFAM']==3,'CD_RENFAM'] = 1"
   ]
  },
  {
   "cell_type": "code",
   "execution_count": null,
   "metadata": {
    "collapsed": false
   },
   "outputs": [],
   "source": [
    "if not impressao:\n",
    "    #Counting \"CD_RENFAM\" in order to compare the values before and after the replacement\n",
    "    display(od1987['CD_RENFAM'].value_counts())"
   ]
  },
  {
   "cell_type": "code",
   "execution_count": null,
   "metadata": {
    "collapsed": false
   },
   "outputs": [],
   "source": [
    "#Verifying value interval for check - conditions: \"CD_RENFAM < 0\" and \"CD_RENFAM > 2\"\n",
    "#od1987[(od1987['CD_RENFAM']<0) | (od1987['CD_RENFAM']>2)]\n",
    "verifica_RANGE(od1987, 'CD_RENFAM', 0, 2)"
   ]
  },
  {
   "cell_type": "markdown",
   "metadata": {},
   "source": [
    "-----\n",
    "##\"REN_FAM\"\n",
    "Nada há que se fazer em relação aos dados da colunas \"REN_FAM\""
   ]
  },
  {
   "cell_type": "markdown",
   "metadata": {},
   "source": [
    "-----\n",
    "##Passo 17: \"ID_PESS\"\n",
    "Construir o \"ID_PESS\"\n",
    "\n",
    "Na coluna \"ID_PESS\", linha i, ler o valor da linha i da coluna \"ID_FAM\", e concatenar esse valor (10 dígitos) com o número da pessoa, que é o valor da linha i da coluna \"NO_PESS\" (com 2 dígitos).\n",
    "\n",
    "Resultado será um ID_PESS, que pode se repetir nas linhas, de 12 dígitos."
   ]
  },
  {
   "cell_type": "code",
   "execution_count": null,
   "metadata": {
    "collapsed": false
   },
   "outputs": [],
   "source": [
    "#Generating \"ID_PESS\" from the concatenation of \"ID_FAM\" and \"NO_PESS\" variables\n",
    "od1987['ID_PESS'] = od1987.apply(lambda row: gera_ID_PESS(row), axis=1)"
   ]
  },
  {
   "cell_type": "markdown",
   "metadata": {},
   "source": [
    "-----\n",
    "##Passo 18: \"F_PESS\"\n",
    "Checar se existe algum erro na coluna \"F_PESS\"\n",
    "\n",
    "####Categorias\n",
    "Valor|Descrição\n",
    "----|----\n",
    "0|Demais registros\n",
    "1|Primeiro Registro da Pessoa\n",
    "\n",
    "[Teste: Checar se existe algum número diferente de 0 ou 1. Se encontrar, retornar erro indicando em qual linha.]"
   ]
  },
  {
   "cell_type": "code",
   "execution_count": null,
   "metadata": {
    "collapsed": false
   },
   "outputs": [],
   "source": [
    "#Verifying if there was left some value other than 0 or 1\n",
    "verifica_DUMMY(od1987, 'F_PESS')"
   ]
  },
  {
   "cell_type": "markdown",
   "metadata": {},
   "source": [
    "-----\n",
    "##\"FE_PESS\" e \"NO_PESS\"\n",
    "Nada há que se fazer em relação aos dados das colunas \"FE_PESS\" e \"NO_PESS\""
   ]
  },
  {
   "cell_type": "markdown",
   "metadata": {},
   "source": [
    "-----\n",
    "##Passo 19: \"SIT_FAM\"\n",
    "\n",
    "* Substituir todos valores **5** por **4**\n",
    "* Substituir todos valores **6** por **5**\n",
    "* Substituir todos valores **7** por **6**\n",
    "\n",
    "####Categorias anteriores\n",
    "Valor|Descrição\n",
    "----|----\n",
    "1|Chefe\n",
    "2|Cônjuge\n",
    "3|Filho(a)\n",
    "4|Parente\n",
    "5|Agregado\n",
    "6|Empregado Residente\n",
    "7|Visitante\n",
    "\n",
    "####Categorias novas:\n",
    "Valor|Descrição\n",
    "----|----\n",
    "1| Pessoa Responsável\n",
    "2| Cônjuge/Companheiro(a)\n",
    "3| Filho(a)/Enteado(a)\n",
    "4| Outro Parente / Agregado\n",
    "5| Empregado Residente\n",
    "6| Outros (visitante não residente / parente do empregado)\n",
    "\n",
    "[Teste: Checar se existe algum número < 1 ou > 6. Se encontrar, retornar erro indicando em qual linha.]"
   ]
  },
  {
   "cell_type": "code",
   "execution_count": null,
   "metadata": {
    "collapsed": false
   },
   "outputs": [],
   "source": [
    "if not impressao:\n",
    "    #Counting for check \"SIT_FAM\"\n",
    "    display(od1987['SIT_FAM'].value_counts())"
   ]
  },
  {
   "cell_type": "code",
   "execution_count": null,
   "metadata": {
    "collapsed": true
   },
   "outputs": [],
   "source": [
    "#Replacing the values 5 for 4\n",
    "od1987.loc[od1987['SIT_FAM']==5,'SIT_FAM'] = 4\n",
    "#Replacing the values 6 for 5\n",
    "od1987.loc[od1987['SIT_FAM']==6,'SIT_FAM'] = 5\n",
    "#Replacing the values 7 for 6\n",
    "od1987.loc[od1987['SIT_FAM']==7,'SIT_FAM'] = 6"
   ]
  },
  {
   "cell_type": "code",
   "execution_count": null,
   "metadata": {
    "collapsed": false
   },
   "outputs": [],
   "source": [
    "if not impressao:\n",
    "    #Counting \"CD_RENFAM\" in order to compare the values before and after the replacement\n",
    "    display(od1987['SIT_FAM'].value_counts())"
   ]
  },
  {
   "cell_type": "code",
   "execution_count": null,
   "metadata": {
    "collapsed": false
   },
   "outputs": [],
   "source": [
    "#Verifying value interval for check - conditions: \"SIT_FAM < 1\" and \"SIT_FAM > 6\"\n",
    "#od1987[(od1987['SIT_FAM']<1) | (od1987['SIT_FAM']>6)]\n",
    "verifica_RANGE(od1987, 'SIT_FAM', 1, 6)"
   ]
  },
  {
   "cell_type": "markdown",
   "metadata": {},
   "source": [
    "-----\n",
    "##\"IDADE\"\n",
    "Nada há que se fazer em relação aos dados da coluna \"IDADE\""
   ]
  },
  {
   "cell_type": "markdown",
   "metadata": {},
   "source": [
    "-----\n",
    "##Passo 20: \"SEXO\"\n",
    "Substituir valores da coluna \"SEXO\"\n",
    "\n",
    "* Substituir todos valores **2** por **0**\n",
    "\n",
    "####Categorias anteriores\n",
    "Valor|Descrição\n",
    "----|----\n",
    "1|Masculino\n",
    "2|Feminino\n",
    "\n",
    "####Categorias novas\n",
    "Valor|Descrição\n",
    "----|----\n",
    "0|Feminino\n",
    "1|Masculino\n",
    "\n",
    "[Teste: Checar se existe algum número diferente de 0 ou 1. Se encontrar, retornar erro indicando em qual linha.]"
   ]
  },
  {
   "cell_type": "code",
   "execution_count": null,
   "metadata": {
    "collapsed": false
   },
   "outputs": [],
   "source": [
    "if not impressao:\n",
    "    #Counting for check \"SEXO\"\n",
    "    display(od1987['SEXO'].value_counts())"
   ]
  },
  {
   "cell_type": "code",
   "execution_count": null,
   "metadata": {
    "collapsed": true
   },
   "outputs": [],
   "source": [
    "#Replacing the values 2 for 0\n",
    "od1987.loc[od1987['SEXO']==2,'SEXO'] = 0"
   ]
  },
  {
   "cell_type": "code",
   "execution_count": null,
   "metadata": {
    "collapsed": false
   },
   "outputs": [],
   "source": [
    "if not impressao:\n",
    "    #Counting \"SEXO\" in order to compare the values before and after the replacement\n",
    "    display(od1987['SEXO'].value_counts())"
   ]
  },
  {
   "cell_type": "code",
   "execution_count": null,
   "metadata": {
    "collapsed": false
   },
   "outputs": [],
   "source": [
    "#Verifying if there was left some value other than 0 or 1\n",
    "verifica_DUMMY(od1987, 'SEXO')"
   ]
  },
  {
   "cell_type": "markdown",
   "metadata": {
    "collapsed": true
   },
   "source": [
    "-----\n",
    "##Passo 21: \"ESTUDA\"\n",
    "Substituir valores da coluna \"ESTUDA\"\n",
    "\n",
    "* Substituir todos valores **2** por **0**\n",
    "\n",
    "####Categorias anteriores\n",
    "Valor|Descrição\n",
    "----|----\n",
    "1|Sim\n",
    "2|Não\n",
    "\n",
    "####Categorias novas\n",
    "Valor|Descrição\n",
    "----|----\n",
    "0|Não estuda\n",
    "1|Estuda\n",
    "\n",
    "[Teste: Checar se existe algum número diferente de 0 ou 1. Se encontrar, retornar erro indicando em qual linha.]"
   ]
  },
  {
   "cell_type": "code",
   "execution_count": null,
   "metadata": {
    "collapsed": false
   },
   "outputs": [],
   "source": [
    "if not impressao:\n",
    "    #Counting for check \"ESTUDA\"\n",
    "    display(od1987['ESTUDA'].value_counts())"
   ]
  },
  {
   "cell_type": "code",
   "execution_count": null,
   "metadata": {
    "collapsed": true
   },
   "outputs": [],
   "source": [
    "#Replacing the values 2 for 0\n",
    "od1987.loc[od1987['ESTUDA']==2,'ESTUDA'] = 0"
   ]
  },
  {
   "cell_type": "code",
   "execution_count": null,
   "metadata": {
    "collapsed": false
   },
   "outputs": [],
   "source": [
    "if not impressao:\n",
    "    #Counting \"ESTUDA\" in order to compare the values before and after the replacement\n",
    "    display(od1987['ESTUDA'].value_counts())"
   ]
  },
  {
   "cell_type": "code",
   "execution_count": null,
   "metadata": {
    "collapsed": false
   },
   "outputs": [],
   "source": [
    "#Verifying if there was left some value other than 0 or 1\n",
    "verifica_DUMMY(od1987, 'ESTUDA')"
   ]
  },
  {
   "cell_type": "markdown",
   "metadata": {},
   "source": [
    "-----\n",
    "##Passo 22: \"GRAU_INSTR\"\n",
    "Substituir valores da coluna \"GRAU_INSTR\"\n",
    "\n",
    "* Substituir todos valores **2** por **1**\n",
    "* Substituir todos valores **3** por **2**\n",
    "* Substituir todos valores **4** por **3**\n",
    "* Substituir todos valores **5** por **4**\n",
    "\n",
    "####Categorias anteriores:\n",
    "Valor|Descrição\n",
    "----|----\n",
    "0|Não declarou\n",
    "1|Não-alfabetizado/4ª série Incompleta\n",
    "2|4ª Série Completa\n",
    "3|1º Grau completo\n",
    "4|Colegial completo\n",
    "5|Superior Completo\n",
    "\n",
    "####Categorias novas\n",
    "Valor|Descrição\n",
    "----|----\n",
    "0|Não declarou\n",
    "1|Não-Alfabetizado/Fundamental Incompleto\n",
    "2|Fundamental Completo/Médio Incompleto\n",
    "3|Médio Completo/Superior Incompleto\n",
    "4|Superior completo\n",
    "\n",
    "[Teste: Checar se existe algum número < 1 ou > 4. Se encontrar, retornar erro indicando em qual linha.]"
   ]
  },
  {
   "cell_type": "code",
   "execution_count": null,
   "metadata": {
    "collapsed": false
   },
   "outputs": [],
   "source": [
    "if not impressao:\n",
    "    #Counting for check \"GRAU_INSTR\"\n",
    "    display(od1987['GRAU_INSTR'].value_counts())"
   ]
  },
  {
   "cell_type": "code",
   "execution_count": null,
   "metadata": {
    "collapsed": true
   },
   "outputs": [],
   "source": [
    "#Replacing the values 2 for 1\n",
    "od1987.loc[od1987['GRAU_INSTR']==2,'GRAU_INSTR'] = 1\n",
    "#Replacing the values 3 for 2\n",
    "od1987.loc[od1987['GRAU_INSTR']==3,'GRAU_INSTR'] = 2\n",
    "#Replacing the values 4 for 3\n",
    "od1987.loc[od1987['GRAU_INSTR']==4,'GRAU_INSTR'] = 3\n",
    "#Replacing the values 5 for 4\n",
    "od1987.loc[od1987['GRAU_INSTR']==5,'GRAU_INSTR'] = 4"
   ]
  },
  {
   "cell_type": "code",
   "execution_count": null,
   "metadata": {
    "collapsed": false
   },
   "outputs": [],
   "source": [
    "if not impressao:\n",
    "    #Counting \"GRAU_INSTR\" in order to compare the values before and after the replacement\n",
    "    display(od1987['GRAU_INSTR'].value_counts())"
   ]
  },
  {
   "cell_type": "code",
   "execution_count": null,
   "metadata": {
    "collapsed": false
   },
   "outputs": [],
   "source": [
    "#Verifying value interval for check - conditions: \"GRAU_INSTR < 1\" and \"GRAU_INSTR > 4\"\n",
    "#od1987[(od1987['GRAU_INSTR']<1) | (od1987['GRAU_INSTR']>4)]\n",
    "verifica_RANGE(od1987, 'GRAU_INSTR', 1, 4)"
   ]
  },
  {
   "cell_type": "markdown",
   "metadata": {},
   "source": [
    "-----\n",
    "##Passo 23: \"OCUP\"\n",
    "Substituir valores da coluna \"OCUP\"\n",
    "\n",
    ">>??\n",
    "\n",
    "####Categorias anteriores\n",
    "Valor|Descrição\n",
    "----|----\n",
    "\n",
    "\n",
    "####Categorias novas\n",
    "Valor|Descrição\n",
    "----|----\n",
    "1|Tem trabalho\n",
    "2|Em licença médica\n",
    "3|Aposentado / pensionista\n",
    "4|Desempregado\n",
    "5|Sem ocupação\n",
    "6|Dona de casa\n",
    "7|Estudante\n",
    "\n",
    "[Teste: Checar se existe algum número < 0 ou > 7. Se encontrar, retornar erro indicando em qual linha.]"
   ]
  },
  {
   "cell_type": "code",
   "execution_count": null,
   "metadata": {
    "collapsed": false
   },
   "outputs": [],
   "source": [
    "if not impressao:\n",
    "    #Counting for check \"OCUP\"\n",
    "    display(od1987['OCUP'].value_counts())"
   ]
  },
  {
   "cell_type": "code",
   "execution_count": null,
   "metadata": {
    "collapsed": false
   },
   "outputs": [],
   "source": [
    "#Replacing the values 2 for 1\n",
    "#od1987.loc[od1987['OCUP']==2,'OCUP'] = 1"
   ]
  },
  {
   "cell_type": "code",
   "execution_count": null,
   "metadata": {
    "collapsed": false
   },
   "outputs": [],
   "source": [
    "if not impressao:\n",
    "    #Counting \"OCUP\" in order to compare the values before and after the replacement\n",
    "    display(od1987['OCUP'].value_counts())"
   ]
  },
  {
   "cell_type": "code",
   "execution_count": null,
   "metadata": {
    "collapsed": false
   },
   "outputs": [],
   "source": [
    "#Verifying value interval for check - conditions: \"OCUP < 1\" and \"OCUP > 7\"\n",
    "#od1987[(od1987['OCUP']<1) | (od1987['OCUP']>7)]\n",
    "verifica_RANGE(od1987, 'OCUP', 1, 7)"
   ]
  },
  {
   "cell_type": "markdown",
   "metadata": {},
   "source": [
    "-----\n",
    "##Passo 24: \"SETOR_ATIV\"\n",
    "Substituir valores da coluna \"SETOR_ATIV\"\n",
    "\n",
    "Na coluna \"SETOR_ATIV\", linha i, ler o valor da linha i da coluna \"SETOR_ATIV\", daí, buscar o mesmo valor na coluna \"COD\" do arquivo setor_ativ-1987.csv. Ao achar, retornar o valor da mesma linha, só que da coluna \"COD_UNIF\"\n",
    "\n",
    "####Categorias anteriores\n",
    "> ver arquivo .csv\n",
    "\n",
    "####Categorias novas\n",
    "Valor|Descrição\n",
    "----|----\n",
    "0|Não respondeu\n",
    "1|Agrícola\n",
    "2|Construção Civil\n",
    "3|Indústria\n",
    "4|Comércio\n",
    "5|Administração Pública\n",
    "6|Serviços de Transporte\n",
    "7|Serviços\n",
    "8|Serviços Autônomos\n",
    "9|Outros\n",
    "10|Não se aplica\n",
    "\n",
    "[Teste: Checar se existe algum número < 1 ou > 10. Se encontrar, retornar erro indicando em qual linha.]"
   ]
  },
  {
   "cell_type": "code",
   "execution_count": null,
   "metadata": {
    "collapsed": false
   },
   "outputs": [],
   "source": [
    "if not impressao:\n",
    "    #Counting for check \"SETOR_ATIV\"\n",
    "    display(od1987['SETOR_ATIV'].value_counts())"
   ]
  },
  {
   "cell_type": "code",
   "execution_count": null,
   "metadata": {
    "collapsed": false
   },
   "outputs": [],
   "source": [
    "#Getting from the csv file the \"CD_UNIF\" (unified code for activity sector) correspondent to the \"SETOR_ATIV\" code\n",
    "od1987['SETOR_ATIV'] = od1987.apply(lambda row: consulta_refext(row, 'setor_ativ-1987.csv', 'COD', 'SETOR_ATIV', 'COD_UNIF'), axis=1)"
   ]
  },
  {
   "cell_type": "code",
   "execution_count": null,
   "metadata": {
    "collapsed": false
   },
   "outputs": [],
   "source": [
    "if not impressao:\n",
    "    #Counting \"SETOR_ATIV\" in order to compare the values before and after the replacement\n",
    "    display(od1987['SETOR_ATIV'].value_counts())"
   ]
  },
  {
   "cell_type": "code",
   "execution_count": null,
   "metadata": {
    "collapsed": false
   },
   "outputs": [],
   "source": [
    "#Verifying value interval for check - conditions: \"SETOR_ATIV < 0\" and \"SETOR_ATIV > 10\"\n",
    "#od1987[(od1987['SETOR_ATIV']<0) | (od1987['SETOR_ATIV']>10)]\n",
    "verifica_RANGE(od1987, 'SETOR_ATIV', 0, 10)"
   ]
  },
  {
   "cell_type": "markdown",
   "metadata": {
    "collapsed": false
   },
   "source": [
    "##Passo 25: \"CD_RENIND\"\n",
    "\n",
    "Substituir valores da coluna \"CD_RENIND\"\n",
    "\n",
    "* Substituir todos valores **3** por **4**\n",
    "* Substituir todos valores **2** por **3**\n",
    "* Substituir todos valores **1** por **2**\n",
    "* Substituir todos valores **4** por **1**\n",
    "\n",
    "####Categorias anteriores\n",
    "Valor|Descrição\n",
    "----|----\n",
    "1|Não tem renda\n",
    "2|Não Declarou\n",
    "3|Declarou\n",
    "\n",
    "####Categorias novas\n",
    "Valor|Descrição\n",
    "----|----\n",
    "1|Tem renda\n",
    "2|Não tem renda\n",
    "3|Não declarou\n",
    "\n",
    "[Teste: Checar se existe algum número < 1 ou > 3. Se encontrar, retornar erro indicando em qual linha.]"
   ]
  },
  {
   "cell_type": "code",
   "execution_count": null,
   "metadata": {
    "collapsed": false
   },
   "outputs": [],
   "source": [
    "if not impressao:\n",
    "    #Counting for check \"CD_RENIND\"\n",
    "    display(od1987['CD_RENIND'].value_counts())"
   ]
  },
  {
   "cell_type": "code",
   "execution_count": null,
   "metadata": {
    "collapsed": true
   },
   "outputs": [],
   "source": [
    "#Replacing the values 3 for 4\n",
    "od1987.loc[od1987['CD_RENIND']==3,'CD_RENIND'] = 4\n",
    "#Replacing the values 2 for 3\n",
    "od1987.loc[od1987['CD_RENIND']==2,'CD_RENIND'] = 3\n",
    "#Replacing the values 1 for 2\n",
    "od1987.loc[od1987['CD_RENIND']==1,'CD_RENIND'] = 2\n",
    "#Replacing the values 4 for 1\n",
    "od1987.loc[od1987['CD_RENIND']==4,'CD_RENIND'] = 1"
   ]
  },
  {
   "cell_type": "code",
   "execution_count": null,
   "metadata": {
    "collapsed": false
   },
   "outputs": [],
   "source": [
    "if not impressao:\n",
    "    #Counting \"GRAU_INSTR\" in order to compare the values before and after the replacement\n",
    "    display(od1987['CD_RENIND'].value_counts())"
   ]
  },
  {
   "cell_type": "code",
   "execution_count": null,
   "metadata": {
    "collapsed": false
   },
   "outputs": [],
   "source": [
    "#Verifying value interval for check - conditions: \"CD_RENIND < 1\" and \"CD_RENIND > 3\"\n",
    "#od1987[(od1987['CD_RENIND']<1) | (od1987['CD_RENIND']>3)]\n",
    "verifica_RANGE(od1987, 'CD_RENIND', 1, 3)"
   ]
  },
  {
   "cell_type": "markdown",
   "metadata": {
    "collapsed": true
   },
   "source": [
    "-----\n",
    "##\"REN_IND\"\n",
    "Nada há que se fazer em relação aos dados da coluna \"REN_IND\""
   ]
  },
  {
   "cell_type": "markdown",
   "metadata": {},
   "source": [
    "-----\n",
    "##Passo 26: \"UCOD_ESC\"\n",
    "Na coluna \"UCOD_ESC\", linha i, ler o valor da linha i da coluna \"ZONA_ESC\", daí, buscar o mesmo valor na coluna \"Zona 1987\" do arquivo UCOD-1987.csv. Ao achar, retornar o valor da mesma linha, só que da coluna \"UCOD_ESC\"\n",
    "\n",
    "[Teste: no banco completo, checar se o min == 1 e o max == 67]"
   ]
  },
  {
   "cell_type": "code",
   "execution_count": null,
   "metadata": {
    "collapsed": false
   },
   "outputs": [],
   "source": [
    "#Getting from the csv file the \"UCOD\" code correspondent to the \"ZONA_ESC\" code\n",
    "od1987['UCOD_ESC'] = od1987.apply(lambda row: consulta_refext(row, 'UCOD-1987.csv', 'Zona 1987', 'ZONA_ESC', 'UCOD'), axis=1)"
   ]
  },
  {
   "cell_type": "code",
   "execution_count": null,
   "metadata": {
    "collapsed": false
   },
   "outputs": [],
   "source": [
    "if not impressao:\n",
    "    #Describing data (\"UCOD_ESC\" column) - count, mean, std, min and max\n",
    "    display(od1987['UCOD_ESC'].describe())"
   ]
  },
  {
   "cell_type": "code",
   "execution_count": null,
   "metadata": {
    "collapsed": false
   },
   "outputs": [],
   "source": [
    "if not impressao:\n",
    "    #Count for check \"UCOD_ESC\"\n",
    "    display(od1987['UCOD_ESC'].value_counts())"
   ]
  },
  {
   "cell_type": "code",
   "execution_count": null,
   "metadata": {
    "collapsed": false,
    "scrolled": true
   },
   "outputs": [],
   "source": [
    "#Verifying value interval for check - conditions: \"UCOD_ESC < 1\" and \"UCOD_ESC > 67\"\n",
    "#The 'error' returns must be related to \"UCOD_ESC\" == 0, that is, trips that are not school purposed\n",
    "#od1987[(od1987['UCOD_ESC']<1) | (od1987['UCOD_ESC']>67)]\n",
    "verifica_RANGE(od1987, 'UCOD_ESC', 1, 67)"
   ]
  },
  {
   "cell_type": "markdown",
   "metadata": {},
   "source": [
    "-----\n",
    "##Passo 27: \"ZONA_ESC\"\n",
    "Checar se existe algum erro\n",
    "\n",
    "####Categorias:\n",
    "> 1 a 254\n",
    "\n",
    "[Teste: Checar se existe algum número < 1 ou > 254. Se encontrar, retornar erro indicando em qual linha.]"
   ]
  },
  {
   "cell_type": "code",
   "execution_count": null,
   "metadata": {
    "collapsed": false
   },
   "outputs": [],
   "source": [
    "#Verifying value interval for check - conditions: \"ZONA_ESC < 1\" and \"ZONA_ESC > 460\"\n",
    "#The 'error' returns must be related to \"ZONA_ESC\" == 0, that is, trips that are not school purposed\n",
    "#od1987[(od1987['ZONA_ESC']<1) | (od1987['ZONA_ESC']>254)]\n",
    "verifica_RANGE(od1987, 'ZONA_ESC', 1, 254)"
   ]
  },
  {
   "cell_type": "markdown",
   "metadata": {},
   "source": [
    "-----\n",
    "##Passo 28: \"SUBZONA_ESC\"\n",
    "\n",
    "Para os anos em que esse input não existe originalmente, esse campo é critério para inserção de coordenadas.\n",
    ">>> FAZER!!!"
   ]
  },
  {
   "cell_type": "markdown",
   "metadata": {},
   "source": [
    "-----\n",
    "##Passo 29: \"MUN_ESC\"\n",
    "Checar se existe algum erro\n",
    "\n",
    "####Categorias\n",
    "> 1 a 38\n",
    "\n",
    "[Teste: Checar se existe algum número < 1 ou > 38. Se encontrar, retornar erro indicando em qual linha.]"
   ]
  },
  {
   "cell_type": "code",
   "execution_count": null,
   "metadata": {
    "collapsed": false
   },
   "outputs": [],
   "source": [
    "#Verifying value interval for check - conditions: \"MUN_ESC < 1\" and \"MUN_ESC > 38\"\n",
    "#The 'error' returns must be related to \"MUN_ESC\" == 0, that is, trips that are not school purposed\n",
    "#od1987[(od1987['MUN_ESC']<1) | (od1987['MUN_ESC']>38)]\n",
    "verifica_RANGE(od1987, 'MUN_ESC', 1, 38)"
   ]
  },
  {
   "cell_type": "markdown",
   "metadata": {},
   "source": [
    "\n",
    "-----\n",
    "##Passo 30: \"CO_ESC_X\"\n",
    "\n",
    "Na coluna \"CO_ESC_X\", linha i, ler o valor da linha i da coluna \"SUBZONA_ESC\", daí, buscar o mesmo valor na coluna \"SUBZONA\" do arquivo COORD-SUBZONA-1987.csv. Ao achar, retornar o valor da mesma linha, só que da coluna \"CO_X\"\n"
   ]
  },
  {
   "cell_type": "code",
   "execution_count": null,
   "metadata": {
    "collapsed": false
   },
   "outputs": [],
   "source": [
    "#Getting from the csv file the \"CO_X\" code correspondent to the \"SUBZONA_ESC\" code\n",
    "od1987['CO_ESC_X'] = od1987.apply(lambda row: consulta_refext(row, 'COORD-SUBZONA-1987.csv', 'SUBZONA', 'SUBZONA_ESC', 'CO_X'), axis=1)"
   ]
  },
  {
   "cell_type": "markdown",
   "metadata": {},
   "source": [
    "-----\n",
    "##Passo 31: \"CO_ESC_Y\"\n",
    "\n",
    "Na coluna \"CO_ESC_Y\", linha i, ler o valor da linha i da coluna \"SUBZONA_ESC\", daí, buscar o mesmo valor na coluna \"SUBZONA\" do arquivo COORD-SUBZONA-1987.csv. Ao achar, retornar o valor da mesma linha, só que da coluna \"CO_Y\"\n"
   ]
  },
  {
   "cell_type": "code",
   "execution_count": null,
   "metadata": {
    "collapsed": false
   },
   "outputs": [],
   "source": [
    "#Getting from the csv file the \"CO_Y\" code correspondent to the \"SUBZONA_ESC\" code\n",
    "od1987['CO_DOM_Y'] = od1987.apply(lambda row: consulta_refext(row, 'COORD-SUBZONA-1987.csv', 'SUBZONA', 'SUBZONA_ESC', 'CO_Y'), axis=1)"
   ]
  },
  {
   "cell_type": "markdown",
   "metadata": {},
   "source": [
    "-----\n",
    "##Passo 32: \"UCOD_TRAB1\"\n",
    "Na coluna \"UCOD_TRAB1\", linha i, ler o valor da linha i da coluna \"ZONA_TRAB1\", daí, buscar o mesmo valor na coluna \"Zona 1987\" do arquivo UCOD-1987.csv. Ao achar, retornar o valor da mesma linha, só que da coluna \"UCOD_TRAB1\"\n",
    "\n",
    "[Teste: no banco completo, checar se o min == 1 e o max == 67]"
   ]
  },
  {
   "cell_type": "code",
   "execution_count": null,
   "metadata": {
    "collapsed": false
   },
   "outputs": [],
   "source": [
    "#Getting from the csv file the \"UCOD\" code correspondent to the \"ZONA_TRAB1\" code\n",
    "od1987['UCOD_TRAB1'] = od1987.apply(lambda row: consulta_refext(row, 'UCOD-1987.csv', 'Zona 1987', 'ZONA_TRAB1', 'UCOD'), axis=1)"
   ]
  },
  {
   "cell_type": "code",
   "execution_count": null,
   "metadata": {
    "collapsed": false
   },
   "outputs": [],
   "source": [
    "if not impressao:\n",
    "    #Describing data (\"UCOD_TRAB1\" column) - count, mean, std, min and max\n",
    "    display(od1987['UCOD_TRAB1'].describe())"
   ]
  },
  {
   "cell_type": "code",
   "execution_count": null,
   "metadata": {
    "collapsed": false
   },
   "outputs": [],
   "source": [
    "if not impressao:\n",
    "    #Count for check \"UCOD_TRAB1\"\n",
    "    display(od1987['UCOD_TRAB1'].value_counts())"
   ]
  },
  {
   "cell_type": "code",
   "execution_count": null,
   "metadata": {
    "collapsed": false
   },
   "outputs": [],
   "source": [
    "#Verifying value interval for check - conditions: \"UCOD_TRAB1 < 1\" and \"UCOD_TRAB1 > 67\"\n",
    "#The 'error' returns must be related to \"UCOD_TRAB1\" == 0, that is, trips that are not work purposed\n",
    "#od1987[(od1987['UCOD_TRAB1']<1) | (od1987['UCOD_TRAB1']>67)]\n",
    "verifica_RANGE(od1987, 'UCOD_TRAB1', 1, 67)"
   ]
  },
  {
   "cell_type": "markdown",
   "metadata": {},
   "source": [
    "\n",
    "-----\n",
    "##Passo 33: \"ZONA_TRAB1\"\n",
    "Checar se existe algum erro\n",
    "\n",
    "####Categorias:\n",
    "> 1 a 254\n",
    "\n",
    "[Teste: Checar se existe algum número < 1 ou > 254. Se encontrar, retornar erro indicando em qual linha.]\n"
   ]
  },
  {
   "cell_type": "code",
   "execution_count": null,
   "metadata": {
    "collapsed": false
   },
   "outputs": [],
   "source": [
    "#Verifying value interval for check - conditions: \"ZONA_TRAB1 < 1\" and \"ZONA_TRAB1 > 254\"\n",
    "#The 'error' returns must be related to \"ZONA_TRAB1\"==0, that is, trips that are not work purposed\n",
    "#od1987[(od1987['ZONA_TRAB1']<1) | (od1987['ZONA_TRAB1']>254)]\n",
    "verifica_RANGE(od1987, 'ZONA_TRAB1', 1, 254)"
   ]
  },
  {
   "cell_type": "markdown",
   "metadata": {},
   "source": [
    "-----\n",
    "##Passo 34: \"SUBZONA_TRAB1\"\n",
    "\n",
    ">>> FAZER!!!\n",
    "\n",
    "Para os anos em que esse input não existe originalmente, esse campo é critério para inserção de coordenadas."
   ]
  },
  {
   "cell_type": "markdown",
   "metadata": {},
   "source": [
    "-----\n",
    "##Passo 35: \"MUN_TRAB1\"\n",
    "Checar se existe algum erro\n",
    "\n",
    "####Categorias\n",
    "> 1 a 38\n",
    "\n",
    "[Teste: Checar se existe algum número < 1 ou > 38. Se encontrar, retornar erro indicando em qual linha.]"
   ]
  },
  {
   "cell_type": "code",
   "execution_count": null,
   "metadata": {
    "collapsed": false
   },
   "outputs": [],
   "source": [
    "#Verifying value interval for check - conditions: \"MUN_TRAB1 < 1\" ou de \"MUN_TRAB1 > 38\"\n",
    "#The 'error' returns must be related to \"MUN_TRAB1\" == 0, that is, trips that are not work purposed\n",
    "#od1987[(od1987['MUN_TRAB1']<1) | (od1987['MUN_TRAB1']>38)]\n",
    "verifica_RANGE(od1987, 'MUN_TRAB1', 1, 38)"
   ]
  },
  {
   "cell_type": "markdown",
   "metadata": {},
   "source": [
    "-----\n",
    "##Passo 36: \"CO_TRAB1_X\"\n",
    "\n",
    "Na coluna \"CO_TRAB1_X\", linha i, ler o valor da linha i da coluna \"SUBZONA_TRAB1\", daí, buscar o mesmo valor na coluna \"SUBZONA\" do arquivo COORD-SUBZONA-1987.csv. Ao achar, retornar o valor da mesma linha, só que da coluna \"CO_X\""
   ]
  },
  {
   "cell_type": "code",
   "execution_count": null,
   "metadata": {
    "collapsed": false
   },
   "outputs": [],
   "source": [
    "#Getting from the csv file the \"CO_X\" code correspondent to the \"SUBZONA_TRAB1\" code\n",
    "od1987['CO_TRAB1_X'] = od1987.apply(lambda row: consulta_refext(row, 'COORD-SUBZONA-1987.csv', 'SUBZONA', 'SUBZONA_TRAB1', 'CO_X'), axis=1)"
   ]
  },
  {
   "cell_type": "markdown",
   "metadata": {},
   "source": [
    "-----\n",
    "##Passo 37: \"CO_TRAB1_Y\"\n",
    "\n",
    "Na coluna \"CO_TRAB1_Y\", linha i, ler o valor da linha i da coluna \"SUBZONA_TRAB1\", daí, buscar o mesmo valor na coluna \"SUBZONA\" do arquivo COORD-SUBZONA-1987.csv. Ao achar, retornar o valor da mesma linha, só que da coluna \"CO_Y\""
   ]
  },
  {
   "cell_type": "code",
   "execution_count": null,
   "metadata": {
    "collapsed": false
   },
   "outputs": [],
   "source": [
    "#Getting from the csv file the \"CO_Y\" code correspondent to the \"SUBZONA_TRAB1\" code\n",
    "od1987['CO_TRAB1_Y'] = od1987.apply(lambda row: consulta_refext(row, 'COORD-SUBZONA-1987.csv', 'SUBZONA', 'SUBZONA_TRAB1', 'CO_Y'), axis=1)"
   ]
  },
  {
   "cell_type": "markdown",
   "metadata": {},
   "source": [
    "-----\n",
    "##Passo 38: \"UCOD_TRAB2\"\n",
    "Na coluna \"UCOD_TRAB2\", linha i, ler o valor da linha i da coluna \"ZONA_TRAB1\", daí, buscar o mesmo valor na coluna \"Zona 1987\" do arquivo UCOD-1987.csv. Ao achar, retornar o valor da mesma linha, só que da coluna \"UCOD_TRAB2\"\n",
    "\n",
    "[Teste: no banco completo, checar se o min == 1 e o max == 67]"
   ]
  },
  {
   "cell_type": "code",
   "execution_count": null,
   "metadata": {
    "collapsed": true
   },
   "outputs": [],
   "source": [
    "#Getting from the csv file the \"UCOD\" code correspondent to the \"ZONA_TRAB2\" code\n",
    "od1987['UCOD_TRAB2'] = od1987.apply(lambda row: consulta_refext(row, 'UCOD-1987.csv', 'Zona 1987', 'ZONA_TRAB2', 'UCOD'), axis=1)"
   ]
  },
  {
   "cell_type": "code",
   "execution_count": null,
   "metadata": {
    "collapsed": false
   },
   "outputs": [],
   "source": [
    "if not impressao:\n",
    "    #Describing data (\"UCOD_TRAB2\" column) - count, mean, std, min and max\n",
    "    display(od1987['UCOD_TRAB2'].describe())"
   ]
  },
  {
   "cell_type": "code",
   "execution_count": null,
   "metadata": {
    "collapsed": false
   },
   "outputs": [],
   "source": [
    "if not impressao:\n",
    "    #Count for check \"UCOD_TRAB2\"\n",
    "    display(od1987['UCOD_TRAB2'].value_counts())"
   ]
  },
  {
   "cell_type": "code",
   "execution_count": null,
   "metadata": {
    "collapsed": false
   },
   "outputs": [],
   "source": [
    "#Verifying value interval for check - conditions: \"UCOD_TRAB2 < 1\" and \"UCOD_TRAB2 > 67\"\n",
    "#The 'error' returns must be related to \"UCOD_TRAB2\" == 0, that is, trips that are not work purposed\n",
    "#od1987[(od1987['UCOD_TRAB2']<1) | (od1987['UCOD_TRAB2']>67)]\n",
    "verifica_RANGE(od1987, 'UCOD_TRAB2', 1, 67)"
   ]
  },
  {
   "cell_type": "markdown",
   "metadata": {},
   "source": [
    "-----\n",
    "##Passo 39: \"ZONA_TRAB2\"\n",
    "Checar se existe algum erro\n",
    "\n",
    "####Categorias:\n",
    "> 1 a 254\n",
    "\n",
    "[Teste: Checar se existe algum número < 1 ou > 254. Se encontrar, retornar erro indicando em qual linha.]"
   ]
  },
  {
   "cell_type": "code",
   "execution_count": null,
   "metadata": {
    "collapsed": false
   },
   "outputs": [],
   "source": [
    "#Verifying value interval for check - conditions: \"ZONA_TRAB2 < 1\" and \"ZONA_TRAB2 > 254\n",
    "#The 'error' returns must be related to \"ZONA_TRAB2\"==0, that is, trips that are not work purposed\n",
    "#od1987[(od1987['ZONA_TRAB2']<1) | (od1987['ZONA_TRAB2']>254)]\n",
    "verifica_RANGE(od1987, 'ZONA_TRAB2', 1, 254)"
   ]
  },
  {
   "cell_type": "markdown",
   "metadata": {},
   "source": [
    "-----\n",
    "##Passo 40: \"SUBZONA_TRAB2\"\n",
    "\n",
    ">>> FAZER!!!\n",
    "\n",
    "Para os anos em que esse input não existe originalmente, esse campo é critério para inserção de coordenadas."
   ]
  },
  {
   "cell_type": "markdown",
   "metadata": {},
   "source": [
    "-----\n",
    "##Passo 41: \"MUN_TRAB2\"\n",
    "Checar se existe algum erro\n",
    "\n",
    "####Categorias\n",
    "> 1 a 39\n",
    "\n",
    "[Teste: Checar se existe algum número < 1 ou > 39. Se encontrar, retornar erro indicando em qual linha.]"
   ]
  },
  {
   "cell_type": "code",
   "execution_count": null,
   "metadata": {
    "collapsed": false
   },
   "outputs": [],
   "source": [
    "#Verifying value interval for check - conditions: \"MUN_TRAB2 < 1\" ou de \"MUN_TRAB2 > 39\"\n",
    "#The 'error' returns must be related to \"MUN_TRAB2\" == 0, that is, trips that are not work purposed\n",
    "#od1987[(od1987['MUN_TRAB2']<1) | (od1987['MUN_TRAB2']>39)]\n",
    "verifica_RANGE(od1987, 'MUN_TRAB2', 1, 39)"
   ]
  },
  {
   "cell_type": "markdown",
   "metadata": {},
   "source": [
    "-----\n",
    "##Passo 42: \"CO_TRAB2_X\"\n",
    "\n",
    "Na coluna \"CO_TRAB2_X\", linha i, ler o valor da linha i da coluna \"SUBZONA_TRAB2\", daí, buscar o mesmo valor na coluna \"SUBZONA\" do arquivo COORD-SUBZONA-1987.csv. Ao achar, retornar o valor da mesma linha, só que da coluna \"CO_X\"\n"
   ]
  },
  {
   "cell_type": "code",
   "execution_count": null,
   "metadata": {
    "collapsed": false
   },
   "outputs": [],
   "source": [
    "#Getting from the csv file the \"CO_X\" code correspondent to the \"SUBZONA_TRAB2\" code\n",
    "od1987['CO_TRAB2_X'] = od1987.apply(lambda row: consulta_refext(row, 'COORD-SUBZONA-1987.csv', 'SUBZONA', 'SUBZONA_TRAB2', 'CO_X'), axis=1)"
   ]
  },
  {
   "cell_type": "markdown",
   "metadata": {},
   "source": [
    "-----\n",
    "##Passo 43: \"CO_TRAB2_Y\"\n",
    "\n",
    "Na coluna \"CO_TRAB2_Y\", linha i, ler o valor da linha i da coluna \"SUBZONA_TRAB2\", daí, buscar o mesmo valor na coluna \"SUBZONA\" do arquivo COORD-SUBZONA-1987.csv. Ao achar, retornar o valor da mesma linha, só que da coluna \"CO_Y\"\n"
   ]
  },
  {
   "cell_type": "code",
   "execution_count": null,
   "metadata": {
    "collapsed": false
   },
   "outputs": [],
   "source": [
    "#Getting from the csv file the \"CO_Y\" code correspondent to the \"SUBZONA_TRAB2\" code\n",
    "od1987['CO_TRAB2_Y'] = od1987.apply(lambda row: consulta_refext(row, 'COORD-SUBZONA-1987.csv', 'SUBZONA', 'SUBZONA_TRAB2', 'CO_Y'), axis=1)"
   ]
  },
  {
   "cell_type": "markdown",
   "metadata": {
    "collapsed": true
   },
   "source": [
    "----\n",
    "##Passo 44: \"ID_VIAG\"\n",
    "Construir o \"ID_VIAG\"\n",
    "\n",
    "Na coluna \"ID_VIAG\", linha i, ler o valor da linha i da coluna \"ID_PESS\", e concatenar esse valor (12 dígitos) com o número da pessoa, que é o valor da linha i da coluna \"NO_VIAG\" (com 2 dígitos).\n",
    "\n",
    "Resultado será um ID_VIAG, que pode se repetir nas linhas, 14 dígitos."
   ]
  },
  {
   "cell_type": "code",
   "execution_count": null,
   "metadata": {
    "collapsed": false
   },
   "outputs": [],
   "source": [
    "#Generating \"ID_VIAG\" from the concatenation of \"ID_PESS\" and \"NO_VIAG\" variables\n",
    "od1987['ID_VIAG'] = od1987.apply(lambda row: gera_ID_VIAG(row), axis=1)"
   ]
  },
  {
   "cell_type": "markdown",
   "metadata": {},
   "source": [
    "-----\n",
    "##Passo 45: \"F_VIAG\"\n",
    "Excluir a coluna \"F_VIAG\", porque as viagens são numeradas, então já se saber pelo NO_VIAG qual é a primeira do indivíduo."
   ]
  },
  {
   "cell_type": "code",
   "execution_count": null,
   "metadata": {
    "collapsed": false
   },
   "outputs": [],
   "source": [
    "od1987 = od1987.drop('F_VIAG', 1)"
   ]
  },
  {
   "cell_type": "code",
   "execution_count": null,
   "metadata": {
    "collapsed": false
   },
   "outputs": [],
   "source": [
    "#Storing the variables list in the \"cols\" variable\n",
    "cols = od1987.columns.tolist()\n",
    "if not impressao:\n",
    "    #printing \"cols\" variable to check if the reorder operation was effective\n",
    "    display(cols)"
   ]
  },
  {
   "cell_type": "markdown",
   "metadata": {},
   "source": [
    "-----\n",
    "##\"FE_VIAG\"\n",
    "Nada há que se fazer em relação aos dados das colunas \"FE_VIAG\""
   ]
  },
  {
   "cell_type": "markdown",
   "metadata": {},
   "source": [
    "-----\n",
    "##\"NO_VIAG\"\n",
    "Gerar \"NO_VIAG\"\n",
    "\n",
    ">> FAZER!!!\n"
   ]
  },
  {
   "cell_type": "code",
   "execution_count": null,
   "metadata": {
    "collapsed": false
   },
   "outputs": [],
   "source": [
    "od1987['NO_VIAG'].value_counts(sort=False)"
   ]
  },
  {
   "cell_type": "code",
   "execution_count": null,
   "metadata": {
    "collapsed": false
   },
   "outputs": [],
   "source": [
    "#Desabilitando o Warning 'SettingWithCopyWarning' - neste caso não será problemático\n",
    "pd.options.mode.chained_assignment = None\n",
    "\n",
    "#Criando o subíndice 'NO_VIAG' baseado no ID_PESS\n",
    "od1987.loc[:,'NO_VIAG'] = od1987.groupby('ID_PESS').cumcount() + 1\n",
    "\n",
    "#Reabilitando o warning 'SettingWithCopyWarning' para futuros casos.\n",
    "pd.options.mode.chained_assignment = 'warn'\n",
    "\n",
    "#Atribuindo 0 à coluna NO_VIAG quando TOT_VIAG == 0\n",
    "od1987.loc[od1987.loc[:,'TOT_VIAG']==0,'NO_VIAG'] = 0"
   ]
  },
  {
   "cell_type": "code",
   "execution_count": null,
   "metadata": {
    "collapsed": false
   },
   "outputs": [],
   "source": [
    "od1987['NO_VIAG'].value_counts(sort=False)"
   ]
  },
  {
   "cell_type": "code",
   "execution_count": null,
   "metadata": {
    "collapsed": false
   },
   "outputs": [],
   "source": [
    "#Fazer agora uma função que irá verificar se para todo \"ID_PESS\" o \"TOT_VIAG\" é atingido.\n",
    "#TODO PAREI AQUI\n",
    "def verifica_no_viag_tot_viag(row):\n",
    "    if row['NO_VIAG'] != row['TOT_VIAG']:\n",
    "        print(row)\n",
    "od1987.loc[:,['ID_PESS','NO_VIAG','TOT_VIAG']].groupby('ID_PESS').agg({'NO_VIAG':'max','ID_PESS':'max','TOT_VIAG':'max'}).apply(lambda row: verifica_no_viag_tot_viag(row), axis=1)\n",
    "print(\"Verificando registros com erro\")\n",
    "print(od1987[od1987['ID_PESS']==200104100101][['ID_PESS','NO_VIAG','TOT_VIAG']])\n",
    "print(od1987[od1987['ID_PESS']==200910130104][['ID_PESS','NO_VIAG','TOT_VIAG']])"
   ]
  },
  {
   "cell_type": "markdown",
   "metadata": {},
   "source": [
    "-----\n",
    "##\"TOT_VIAG\"\n",
    "Nada há que se fazer em relação aos dados das colunas \"TOT_VIAG\""
   ]
  },
  {
   "cell_type": "markdown",
   "metadata": {},
   "source": [
    "-----\n",
    "##Passo 46: \"UCOD_ORIG\"\n",
    "Na coluna \"UCOD_ORIG\", linha i, ler o valor da linha i da coluna \"ZONA_ORIG\", daí, buscar o mesmo valor na coluna \"Zona 1987\" do arquivo UCOD-1987.csv. Ao achar, retornar o valor da mesma linha, só que da coluna \"UCOD_ORIG\"\n",
    "\n",
    "[Teste: no banco completo, checar se o min == 1 e o max == 67]"
   ]
  },
  {
   "cell_type": "code",
   "execution_count": null,
   "metadata": {
    "collapsed": false
   },
   "outputs": [],
   "source": [
    "#Getting from the csv file the \"UCOD\" code correspondent to the \"ZONA_ORIG\" code\n",
    "od1987['UCOD_ORIG'] = od1987.apply(lambda row: consulta_refext(row, 'UCOD-1987.csv', 'Zona 1987', 'ZONA_ORIG', 'UCOD'), axis=1)"
   ]
  },
  {
   "cell_type": "code",
   "execution_count": null,
   "metadata": {
    "collapsed": false
   },
   "outputs": [],
   "source": [
    "if not impressao:\n",
    "    #Describing data (\"UCOD_ORIG\" column) - count, mean, std, min and max\n",
    "    display(od1987['UCOD_ORIG'].describe())"
   ]
  },
  {
   "cell_type": "code",
   "execution_count": null,
   "metadata": {
    "collapsed": false
   },
   "outputs": [],
   "source": [
    "if not impressao:\n",
    "    #Count for check \"UCOD_ORIG\"\n",
    "    display(od1987['UCOD_ORIG'].value_counts())"
   ]
  },
  {
   "cell_type": "code",
   "execution_count": null,
   "metadata": {
    "collapsed": false
   },
   "outputs": [],
   "source": [
    "#Verifying value interval for check - conditions: \"UCOD_ORIG < 1\" and \"UCOD_ORIG > 67\"\n",
    "#The 'error' returns must be related to \"UCOD_ORIG\" == 0, that is, trips that were not made\n",
    "#od1987[(od1987['UCOD_ORIG']<1) | (od1987['UCOD_ORIG']>67)]\n",
    "verifica_RANGE(od1987, 'UCOD_ORIG', 1, 67)"
   ]
  },
  {
   "cell_type": "markdown",
   "metadata": {},
   "source": [
    "-----\n",
    "##Passo 47: \"ZONA_ORIG\"\n",
    "Checar se existe algum erro\n",
    "\n",
    "####Categorias:\n",
    "> 1 a 254\n",
    "\n",
    "[Teste: Checar se existe algum número < 1 ou > 254. Se encontrar, retornar erro indicando em qual linha.]"
   ]
  },
  {
   "cell_type": "code",
   "execution_count": null,
   "metadata": {
    "collapsed": false
   },
   "outputs": [],
   "source": [
    "#Verifying value interval for check - conditions: \"ZONA_ORIG < 1\" and \"ZONA_ORIG > 254\"\n",
    "#The 'error' returns must be related to \"ZONA_ORIG\"==0, that is, trips that were not made\n",
    "#od1987[(od1987['ZONA_ORIG']<1) | (od1987['ZONA_ORIG']>254)]\n",
    "verifica_RANGE(od1987, 'ZONA_ORIG', 1, 254)"
   ]
  },
  {
   "cell_type": "markdown",
   "metadata": {},
   "source": [
    "-----\n",
    "##Passo 48: \"SUBZONA_ORIG\"\n",
    "\n",
    ">>> FAZER!!!\n",
    "\n",
    "Para os anos em que esse input não existe originalmente, esse campo é critério para inserção de coordenadas."
   ]
  },
  {
   "cell_type": "markdown",
   "metadata": {},
   "source": [
    "-----\n",
    "##Passo 49: \"MUN_ORIG\"\n",
    "Checar se existe algum erro\n",
    "\n",
    "####Categorias\n",
    "> 1 a 38\n",
    "\n",
    "[Teste: Checar se existe algum número < 1 ou > 38. Se encontrar, retornar erro indicando em qual linha.]"
   ]
  },
  {
   "cell_type": "code",
   "execution_count": null,
   "metadata": {
    "collapsed": false
   },
   "outputs": [],
   "source": [
    "#Verifying value interval for check - conditions: \"MUN_ORIG < 1\" ou de \"MUN_ORIG > 38\"\n",
    "#The 'error' returns must be related to \"MUN_ORIG\" == 0, that is, trips that were not made\n",
    "#od1987[(od1987['MUN_ORIG']<1) | (od1987['MUN_ORIG']>38)]\n",
    "verifica_RANGE(od1987, 'MUN_ORIG', 1, 38)"
   ]
  },
  {
   "cell_type": "markdown",
   "metadata": {},
   "source": [
    "-----\n",
    "##Passo 50: \"CO_ORIG_X\"\n",
    "\n",
    "Na coluna \"CO_ORIG_X\", linha i, ler o valor da linha i da coluna \"SUBZONA_ORIG\", daí, buscar o mesmo valor na coluna \"SUBZONA\" do arquivo COORD-SUBZONA-1987.csv. Ao achar, retornar o valor da mesma linha, só que da coluna \"CO_X\""
   ]
  },
  {
   "cell_type": "code",
   "execution_count": null,
   "metadata": {
    "collapsed": false
   },
   "outputs": [],
   "source": [
    "#Getting from the csv file the \"CO_X\" code correspondent to the \"SUBZONA_ORIG\" code\n",
    "od1987['CO_ORIG_X'] = od1987.apply(lambda row: consulta_refext(row, 'COORD-SUBZONA-1987.csv', 'SUBZONA', 'SUBZONA_ORIG', 'CO_X'), axis=1)\n"
   ]
  },
  {
   "cell_type": "markdown",
   "metadata": {},
   "source": [
    "-----\n",
    "##Passo 51: \"CO_ORIG_Y\"\n",
    "\n",
    "Na coluna \"CO_ORIG_Y\", linha i, ler o valor da linha i da coluna \"SUBZONA_ORIG\", daí, buscar o mesmo valor na coluna \"SUBZONA\" do arquivo COORD-SUBZONA-1987.csv. Ao achar, retornar o valor da mesma linha, só que da coluna \"CO_Y\"\n"
   ]
  },
  {
   "cell_type": "code",
   "execution_count": null,
   "metadata": {
    "collapsed": false
   },
   "outputs": [],
   "source": [
    "#Getting from the csv file the \"CO_Y\" code correspondent to the \"SUBZONA_ORIG\" code\n",
    "od1987['CO_ORIG_Y'] = od1987.apply(lambda row: consulta_refext(row, 'COORD-SUBZONA-1987.csv', 'SUBZONA', 'SUBZONA_ORIG', 'CO_Y'), axis=1)"
   ]
  },
  {
   "cell_type": "markdown",
   "metadata": {},
   "source": [
    "-----\n",
    "##Passo 52: \"UCOD_DEST\"\n",
    "Na coluna \"UCOD_DEST\", linha i, ler o valor da linha i da coluna \"ZONA_DEST\", daí, buscar o mesmo valor na coluna \"Zona 1987\" do arquivo UCOD-1987.csv. Ao achar, retornar o valor da mesma linha, só que da coluna \"UCOD_DEST\"\n",
    "\n",
    "[Teste: no banco completo, checar se o min == 1 e o max == 67]"
   ]
  },
  {
   "cell_type": "code",
   "execution_count": null,
   "metadata": {
    "collapsed": false
   },
   "outputs": [],
   "source": [
    "#Getting from the csv file the \"UCOD\" code correspondent to the \"ZONA_DEST\" code\n",
    "od1987['UCOD_DEST'] = od1987.apply(lambda row: consulta_refext(row, 'UCOD-1987.csv', 'Zona 1987', 'ZONA_DEST', 'UCOD'), axis=1)"
   ]
  },
  {
   "cell_type": "code",
   "execution_count": null,
   "metadata": {
    "collapsed": false
   },
   "outputs": [],
   "source": [
    "if not impressao:\n",
    "    #Describing data (\"UCOD_DEST\" column) - count, mean, std, min and max\n",
    "    display(od1987['UCOD_DEST'].describe())"
   ]
  },
  {
   "cell_type": "code",
   "execution_count": null,
   "metadata": {
    "collapsed": false
   },
   "outputs": [],
   "source": [
    "if not impressao:\n",
    "    #Count for check \"UCOD_DEST\"\n",
    "    display(od1987['UCOD_DEST'].value_counts())"
   ]
  },
  {
   "cell_type": "code",
   "execution_count": null,
   "metadata": {
    "collapsed": false
   },
   "outputs": [],
   "source": [
    "#Verifying value interval for check - conditions: \"UCOD_DEST < 1\" and \"UCOD_DEST > 67\"\n",
    "#The 'error' returns must be related to \"UCOD_DEST\" == 0, that is, trips that were not made\n",
    "#od1987[(od1987['UCOD_DEST']<1) | (od1987['UCOD_DEST']>67)]\n",
    "verifica_RANGE(od1987, 'UCOD_DEST', 1, 67)"
   ]
  },
  {
   "cell_type": "markdown",
   "metadata": {},
   "source": [
    "-----\n",
    "##Passo 53: \"ZONA_DEST\"\n",
    "Checar se existe algum erro\n",
    "\n",
    "####Categorias:\n",
    "> 1 a 254\n",
    "\n",
    "[Teste: Checar se existe algum número < 1 ou > 254. Se encontrar, retornar erro indicando em qual linha.]"
   ]
  },
  {
   "cell_type": "code",
   "execution_count": null,
   "metadata": {
    "collapsed": false
   },
   "outputs": [],
   "source": [
    "#Verifying value interval for check - conditions: \"ZONA_DEST < 1\" and \"ZONA_DEST > 254\"\n",
    "#The 'error' returns must be related to \"ZONA_DEST\"==0, that is, trips that are not school purposed\n",
    "#od1987[(od1987['ZONA_DEST']<1) | (od1987['ZONA_DEST']>254)]\n",
    "verifica_RANGE(od1987, 'ZONA_DEST', 1, 254)"
   ]
  },
  {
   "cell_type": "markdown",
   "metadata": {},
   "source": [
    "-----\n",
    "##Passo 54: \"SUBZONA_DEST\"\n",
    "\n",
    ">>> FAZER!!!\n",
    "\n",
    "Para os anos em que esse input não existe originalmente, esse campo é critério para inserção de coordenadas."
   ]
  },
  {
   "cell_type": "markdown",
   "metadata": {},
   "source": [
    "-----\n",
    "##Passo 55: \"MUN_DEST\"\n",
    "Checar se existe algum erro\n",
    "\n",
    "####Categorias\n",
    "> 1 a 38\n",
    "\n",
    "[Teste: Checar se existe algum número < 1 ou > 38. Se encontrar, retornar erro indicando em qual linha.]"
   ]
  },
  {
   "cell_type": "code",
   "execution_count": null,
   "metadata": {
    "collapsed": false
   },
   "outputs": [],
   "source": [
    "#Verifying value interval for check - conditions: \"MUN_DEST < 1\" ou de \"MUN_DEST > 38\"\n",
    "#The 'error' returns must be related to \"MUN_DEST\" == 0, that is, trips that were not made\n",
    "#od1987[(od1987['MUN_DEST']<1) | (od1987['MUN_DEST']>38)]\n",
    "verifica_RANGE(od1987, 'MUN_DEST', 1, 38)"
   ]
  },
  {
   "cell_type": "markdown",
   "metadata": {},
   "source": [
    "-----\n",
    "##Passo 56: \"CO_DEST_X\"\n",
    "\n",
    "Na coluna \"CO_DEST_X\", linha i, ler o valor da linha i da coluna \"SUBZONA_DEST, daí, buscar o mesmo valor na coluna \"SUBZONA\" do arquivo COORD-SUBZONA-1987.csv. Ao achar, retornar o valor da mesma linha, só que da coluna \"CO_X\""
   ]
  },
  {
   "cell_type": "code",
   "execution_count": null,
   "metadata": {
    "collapsed": false
   },
   "outputs": [],
   "source": [
    "#Getting from the csv file the \"CO_X\" code correspondent to the \"SUBZONA_DEST\" code\n",
    "od1987['CO_DEST_X'] = od1987.apply(lambda row: consulta_refext(row, 'COORD-SUBZONA-1987.csv', 'SUBZONA', 'SUBZONA_DEST', 'CO_X'), axis=1)"
   ]
  },
  {
   "cell_type": "markdown",
   "metadata": {
    "collapsed": false
   },
   "source": [
    "-----\n",
    "##Passo 57: \"CO_DEST_Y\"\n",
    "\n",
    "Na coluna \"CO_DEST_Y\", linha i, ler o valor da linha i da coluna \"SUBZONA_DEST\", daí, buscar o mesmo valor na coluna \"SUBZONA\" do arquivo COORD-SUBZONA-1987.csv. Ao achar, retornar o valor da mesma linha, só que da coluna \"CO_Y\""
   ]
  },
  {
   "cell_type": "code",
   "execution_count": null,
   "metadata": {
    "collapsed": false
   },
   "outputs": [],
   "source": [
    "#Getting from the csv file the \"CO_Y\" code correspondent to the \"SUBZONA_DEST\" code\n",
    "od1987['CO_DOM_Y'] = od1987.apply(lambda row: consulta_refext(row, 'COORD-SUBZONA-1987.csv', 'SUBZONA', 'SUBZONA_DEST', 'CO_Y'), axis=1)"
   ]
  },
  {
   "cell_type": "markdown",
   "metadata": {
    "collapsed": true
   },
   "source": [
    "-----\n",
    "##Passo 58: \"DIST_VIAG\"\n",
    "\n",
    "Calcula-se a distância euclidiana (a partir da CO_ORIG_X;CO_ORIG_Y e CO_DEST_X;CO_DEST_Y)\n",
    "\n",
    ">> Falta um teste de verificação!!!"
   ]
  },
  {
   "cell_type": "code",
   "execution_count": null,
   "metadata": {
    "collapsed": false
   },
   "outputs": [],
   "source": [
    "#Calculating \"DIST_VIAG\" (euclidian distance) from the origin cordinates (CO_ORIG_X;CO_ORIG_Y)and destinations cordinates (CO_DEST_X;CO_DEST_Y)\n",
    "od1987['DIST_VIAG'] = od1987.apply(lambda row: calcula_DIST_VIAG(row), axis=1)"
   ]
  },
  {
   "cell_type": "markdown",
   "metadata": {},
   "source": [
    "-----\n",
    "##Passo 59: \"MOTIVO_ORIG\"\n",
    "* Substituir todos valores **6** por **10**\n",
    "* Substituir todos valores **7** por **6**\n",
    "* Substituir todos valores **9** por **8**\n",
    "* Substituir todos valores **10** por **9**\n",
    "\n",
    "####Categorias anteriores\n",
    "Valor|Descrição\n",
    "----|----\n",
    "1|Trabalho/Indústria\n",
    "2|Trabalho/Comércio\n",
    "3|Trabalho/Serviços\n",
    "4|Escola/Educação\n",
    "5|Compras\n",
    "6|Negócios\n",
    "7|Médico/Dentista/Saúde\n",
    "8|Recreação/Visitas\n",
    "9|Residência\n",
    "\n",
    "####Categorias novas\n",
    "Valor|Descrição\n",
    "----|----\n",
    "0|Não respondeu/não fez viagem\n",
    "1|Trabalho/Indústria\n",
    "2|Trabalho/Comércio\n",
    "3|Trabalho/Serviços\n",
    "4|Educação\n",
    "5|Compras\n",
    "6|Saúde\n",
    "7|Lazer\n",
    "8|Residência\n",
    "9|Outros\n",
    "\n",
    "[Teste: Checar se existe algum número < 0 ou > 9. Se encontrar, retornar erro indicando em qual linha.]"
   ]
  },
  {
   "cell_type": "code",
   "execution_count": null,
   "metadata": {
    "collapsed": false
   },
   "outputs": [],
   "source": [
    "if not impressao:\n",
    "    #Counting \"MOTIVO_ORIG\" in order to compare the values before and after the replacement\n",
    "    display(od1987['MOTIVO_ORIG'].value_counts())"
   ]
  },
  {
   "cell_type": "code",
   "execution_count": null,
   "metadata": {
    "collapsed": true
   },
   "outputs": [],
   "source": [
    "#Replacing the values 6 for 10\n",
    "od1987.loc[od1987['MOTIVO_ORIG']==6,'MOTIVO_ORIG'] = 10\n",
    "#Replacing the values 7 for 6\n",
    "od1987.loc[od1987['MOTIVO_ORIG']==7,'MOTIVO_ORIG'] = 6\n",
    "#Replacing the values 9 for 8\n",
    "od1987.loc[od1987['MOTIVO_ORIG']==9,'MOTIVO_ORIG'] = 8\n",
    "#Replacing the values 10 for 9\n",
    "od1987.loc[od1987['MOTIVO_ORIG']==10,'MOTIVO_ORIG'] = 9"
   ]
  },
  {
   "cell_type": "code",
   "execution_count": null,
   "metadata": {
    "collapsed": false
   },
   "outputs": [],
   "source": [
    "if not impressao:\n",
    "    #Counting \"MOTIVO_ORIG\" in order to compare the values before and after the replacement\n",
    "    display(od1987['MOTIVO_ORIG'].value_counts())"
   ]
  },
  {
   "cell_type": "code",
   "execution_count": null,
   "metadata": {
    "collapsed": false
   },
   "outputs": [],
   "source": [
    "#Verifying value interval for check - conditions: \"MOTIVO_ORIG < 0\" and \"MOTIVO_ORIG > 9\"\n",
    "#od1987[(od1987['MOTIVO_ORIG']<0) | (od1987['MOTIVO_ORIG']>9)]\n",
    "verifica_RANGE(od1987, 'MOTIVO_ORIG', 0, 9)"
   ]
  },
  {
   "cell_type": "markdown",
   "metadata": {},
   "source": [
    "-----\n",
    "##Passo 60: \"MOTIVO_DEST\"\n",
    "\n",
    "* Substituir todos valores **6** por **10**\n",
    "* Substituir todos valores **7** por **6**\n",
    "* Substituir todos valores **9** por **8**\n",
    "* Substituir todos valores **10** por **9**\n",
    "\n",
    "####Categorias anteriores\n",
    "Valor|Descrição\n",
    "----|----\n",
    "1|Trabalho/Indústria\n",
    "2|Trabalho/Comércio\n",
    "3|Trabalho/Serviços\n",
    "4|Escola/Educação\n",
    "5|Compras\n",
    "6|Negócios\n",
    "7|Médico/Dentista/Saúde\n",
    "8|Recreação/Visitas\n",
    "9|Residência\n",
    "\n",
    "####Categorias novas\n",
    "Valor|Descrição\n",
    "----|----\n",
    "0|Não respondeu/não fez viagem\n",
    "1|Trabalho/Indústria\n",
    "2|Trabalho/Comércio\n",
    "3|Trabalho/Serviços\n",
    "4|Educação\n",
    "5|Compras\n",
    "6|Saúde\n",
    "7|Lazer\n",
    "8|Residência\n",
    "9|Outros\n",
    "\n",
    "[Teste: Checar se existe algum número < 0 ou > 9. Se encontrar, retornar erro indicando em qual linha.]"
   ]
  },
  {
   "cell_type": "code",
   "execution_count": null,
   "metadata": {
    "collapsed": false
   },
   "outputs": [],
   "source": [
    "if not impressao:\n",
    "    #Counting \"MOTIVO_DEST in order to compare the values before and after the replacement\n",
    "    display(od1987['MOTIVO_DEST'].value_counts())"
   ]
  },
  {
   "cell_type": "code",
   "execution_count": null,
   "metadata": {
    "collapsed": true
   },
   "outputs": [],
   "source": [
    "#Replacing the values 6 for 10\n",
    "od1987.loc[od1987['MOTIVO_DEST']==6,'MOTIVO_DEST'] = 10\n",
    "#Replacing the values 7 for 6\n",
    "od1987.loc[od1987['MOTIVO_DEST']==7,'MOTIVO_DEST'] = 6\n",
    "#Replacing the values 9 for 8\n",
    "od1987.loc[od1987['MOTIVO_DEST']==9,'MOTIVO_DEST'] = 8\n",
    "#Replacing the values 10 for 9\n",
    "od1987.loc[od1987['MOTIVO_DEST']==10,'MOTIVO_DEST'] = 9"
   ]
  },
  {
   "cell_type": "code",
   "execution_count": null,
   "metadata": {
    "collapsed": false
   },
   "outputs": [],
   "source": [
    "if not impressao:\n",
    "    #Counting \"MOTIVO_DEST\" in order to compare the values before and after the replacement\n",
    "    display(od1987['MOTIVO_DEST'].value_counts())"
   ]
  },
  {
   "cell_type": "code",
   "execution_count": null,
   "metadata": {
    "collapsed": false
   },
   "outputs": [],
   "source": [
    "#Verifying value interval for check - conditions: \"MOTIVO_DEST < 0\" and \"MOTIVO_DEST > 9\"\n",
    "#od1987[(od1987['MOTIVO_DEST']<0) | (od1987['MOTIVO_DEST']>9)]\n",
    "verifica_RANGE(od1987, 'MOTIVO_DEST', 0, 9)"
   ]
  },
  {
   "cell_type": "markdown",
   "metadata": {
    "collapsed": true
   },
   "source": [
    "-----\n",
    "##Passo 61: \"MODO1\"\n",
    "Substituir valores da coluna \"MODO1\"\n",
    "\n",
    "* Substituir todos valores **2** por **1**\n",
    "* Substituir todos valores **3** por **2**\n",
    "* Substituir todos valores **4** por **2**\n",
    "* Substituir todos valores **5** por **3**\n",
    "* Substituir todos valores **6** por **4**\n",
    "* Substituir todos valores **7** por **5**\n",
    "* Substituir todos valores **8** por **6**\n",
    "* Substituir todos valores **9** por **7**\n",
    "* Substituir todos valores **10** por **8**\n",
    "* Substituir todos valores **11** por **9**\n",
    "* Substituir todos valores **12** por **10**\n",
    "* Substituir todos valores **13** por **11**\n",
    "* Substituir todos valores **14** por **12**\n",
    "* Substituir todos valores **15** por **12**\n",
    "\n",
    "####Categorias anteriores\n",
    "Valor|Descrição\n",
    "----|----\n",
    "1|Ônibus diesel\n",
    "2|Trólebus\n",
    "3|Ônibus Fretado\n",
    "4|Escolar\n",
    "5|Dirigindo Automóvel\n",
    "6|Passageiro de Automóvel\n",
    "7|Táxi\n",
    "8|Lotação/Perua\n",
    "9|Metrô\n",
    "10|Trem\n",
    "11|Moto\n",
    "12|Bicicleta\n",
    "13|A Pé\n",
    "14|Caminhão\n",
    "15|Outros\n",
    "\n",
    "####Categorias novas\n",
    "Valor|Descrição\n",
    "----|----\n",
    "0|Não respondeu/não fez viagem\n",
    "1|Ônibus\n",
    "2|Ônibus Escolar / Empresa\n",
    "3|Dirigindo Automóvel\n",
    "4|Passageiro de Automóvel\n",
    "5|Táxi\n",
    "6|Lotação / Perua / Van / Microônibus\n",
    "7|Metrô\n",
    "8|Trem\n",
    "9|Moto\n",
    "10|Bicicleta\n",
    "11|A Pé\n",
    "12|Outros\n",
    "\n",
    "[Teste: Checar se existe algum número < 0 ou > 12. Se encontrar, retornar erro indicando em qual linha.]"
   ]
  },
  {
   "cell_type": "code",
   "execution_count": null,
   "metadata": {
    "collapsed": false
   },
   "outputs": [],
   "source": [
    "if not impressao:\n",
    "    #Counting for check \"MODO1\"\n",
    "    display(od1987['MODO1'].value_counts())"
   ]
  },
  {
   "cell_type": "code",
   "execution_count": null,
   "metadata": {
    "collapsed": true
   },
   "outputs": [],
   "source": [
    "#Replacing the values 2 for 1\n",
    "od1987.loc[od1987['MODO1']==2,'MODO1'] = 1\n",
    "#Replacing the values 3 for 2\n",
    "od1987.loc[od1987['MODO1']==3,'MODO1'] = 2\n",
    "#Replacing the values 4 for 2\n",
    "od1987.loc[od1987['MODO1']==4,'MODO1'] = 2\n",
    "#Replacing the values 5 for 3\n",
    "od1987.loc[od1987['MODO1']==5,'MODO1'] = 3\n",
    "#Replacing the values 6 for 4\n",
    "od1987.loc[od1987['MODO1']==6,'MODO1'] = 4\n",
    "#Replacing the values 7 for 5\n",
    "od1987.loc[od1987['MODO1']==7,'MODO1'] = 5\n",
    "#Replacing the values 8 for 6\n",
    "od1987.loc[od1987['MODO1']==8,'MODO1'] = 6\n",
    "#Replacing the values 9 for 7\n",
    "od1987.loc[od1987['MODO1']==9,'MODO1'] = 7\n",
    "#Replacing the values 10 for 8\n",
    "od1987.loc[od1987['MODO1']==10,'MODO1'] = 8\n",
    "#Replacing the values 11 for 9\n",
    "od1987.loc[od1987['MODO1']==11,'MODO1'] = 9\n",
    "#Replacing the values 12 for 10\n",
    "od1987.loc[od1987['MODO1']==12,'MODO1'] = 10\n",
    "#Replacing the values 13 for 11\n",
    "od1987.loc[od1987['MODO1']==13,'MODO1'] = 11\n",
    "#Replacing the values 14 for 12\n",
    "od1987.loc[od1987['MODO1']==14,'MODO1'] = 12\n",
    "#Replacing the values 15 for 12\n",
    "od1987.loc[od1987['MODO1']==15,'MODO1'] = 12"
   ]
  },
  {
   "cell_type": "code",
   "execution_count": null,
   "metadata": {
    "collapsed": false
   },
   "outputs": [],
   "source": [
    "if not impressao:\n",
    "    #Counting \"MODO1 in order to compare the values before and after the replacement\n",
    "    display(od1987['MODO1'].value_counts())"
   ]
  },
  {
   "cell_type": "code",
   "execution_count": null,
   "metadata": {
    "collapsed": false
   },
   "outputs": [],
   "source": [
    "#Verifying value interval for check - conditions: \"MODO1 < 0\" and \"MODO1 > 12\"\n",
    "#od1987[(od1987['MODO1']<0) | (od21987['MODO1']>12)]\n",
    "verifica_RANGE(od1987, 'MODO1', 0, 12)"
   ]
  },
  {
   "cell_type": "markdown",
   "metadata": {},
   "source": [
    "##Passo 62: \"MODO2\"\n",
    "Substituir valores da coluna \"MODO2\"\n",
    "\n",
    "* Substituir todos valores **2** por **1**\n",
    "* Substituir todos valores **3** por **2**\n",
    "* Substituir todos valores **4** por **2**\n",
    "* Substituir todos valores **5** por **3**\n",
    "* Substituir todos valores **6** por **4**\n",
    "* Substituir todos valores **7** por **5**\n",
    "* Substituir todos valores **8** por **6**\n",
    "* Substituir todos valores **9** por **7**\n",
    "* Substituir todos valores **10** por **8**\n",
    "* Substituir todos valores **11** por **9**\n",
    "* Substituir todos valores **12** por **10**\n",
    "* Substituir todos valores **13** por **11**\n",
    "* Substituir todos valores **14** por **12**\n",
    "* Substituir todos valores **15** por **12**\n",
    "\n",
    "####Categorias anteriores\n",
    "Valor|Descrição\n",
    "----|----\n",
    "1|Ônibus diesel\n",
    "2|Trólebus\n",
    "3|Ônibus Fretado\n",
    "4|Escolar\n",
    "5|Dirigindo Automóvel\n",
    "6|Passageiro de Automóvel\n",
    "7|Táxi\n",
    "8|Lotação/Perua\n",
    "9|Metrô\n",
    "10|Trem\n",
    "11|Moto\n",
    "12|Bicicleta\n",
    "13|A Pé\n",
    "14|Caminhão\n",
    "15|Outros\n",
    "\n",
    "####Categorias novas\n",
    "Valor|Descrição\n",
    "----|----\n",
    "0|Não respondeu/não fez viagem/não utilizou 2º modo\n",
    "1|Ônibus\n",
    "2|Ônibus Escolar / Empresa\n",
    "3|Dirigindo Automóvel\n",
    "4|Passageiro de Automóvel\n",
    "5|Táxi\n",
    "6|Lotação / Perua / Van / Microônibus\n",
    "7|Metrô\n",
    "8|Trem\n",
    "9|Moto\n",
    "10|Bicicleta\n",
    "11|A Pé\n",
    "12|Outros\n",
    "\n",
    "[Teste: Checar se existe algum número < 0 ou > 12. Se encontrar, retornar erro indicando em qual linha.]"
   ]
  },
  {
   "cell_type": "code",
   "execution_count": null,
   "metadata": {
    "collapsed": false
   },
   "outputs": [],
   "source": [
    "if not impressao:\n",
    "    #Counting for check \"MODO2\"\n",
    "    display(od1987['MODO2'].value_counts())"
   ]
  },
  {
   "cell_type": "code",
   "execution_count": null,
   "metadata": {
    "collapsed": true
   },
   "outputs": [],
   "source": [
    "#Replacing the values 2 for 1\n",
    "od1987.loc[od1987['MODO2']==2,'MODO2'] = 1\n",
    "#Replacing the values 3 for 2\n",
    "od1987.loc[od1987['MODO2']==3,'MODO2'] = 2\n",
    "#Replacing the values 4 for 2\n",
    "od1987.loc[od1987['MODO2']==4,'MODO2'] = 2\n",
    "#Replacing the values 5 for 3\n",
    "od1987.loc[od1987['MODO2']==5,'MODO2'] = 3\n",
    "#Replacing the values 6 for 4\n",
    "od1987.loc[od1987['MODO2']==6,'MODO2'] = 4\n",
    "#Replacing the values 7 for 5\n",
    "od1987.loc[od1987['MODO2']==7,'MODO2'] = 5\n",
    "#Replacing the values 8 for 6\n",
    "od1987.loc[od1987['MODO2']==8,'MODO2'] = 6\n",
    "#Replacing the values 9 for 7\n",
    "od1987.loc[od1987['MODO2']==9,'MODO2'] = 7\n",
    "#Replacing the values 10 for 8\n",
    "od1987.loc[od1987['MODO2']==10,'MODO2'] = 8\n",
    "#Replacing the values 11 for 9\n",
    "od1987.loc[od1987['MODO2']==11,'MODO2'] = 9\n",
    "#Replacing the values 12 for 10\n",
    "od1987.loc[od1987['MODO2']==12,'MODO2'] = 10\n",
    "#Replacing the values 13 for 11\n",
    "od1987.loc[od1987['MODO2']==13,'MODO2'] = 11\n",
    "#Replacing the values 14 for 12\n",
    "od1987.loc[od1987['MODO2']==14,'MODO2'] = 12\n",
    "#Replacing the values 15 for 12\n",
    "od1987.loc[od1987['MODO2']==15,'MODO2'] = 12"
   ]
  },
  {
   "cell_type": "code",
   "execution_count": null,
   "metadata": {
    "collapsed": false
   },
   "outputs": [],
   "source": [
    "if not impressao:\n",
    "    #Counting \"MODO2 in order to compare the values before and after the replacement\n",
    "    display(od1987['MODO2'].value_counts())"
   ]
  },
  {
   "cell_type": "code",
   "execution_count": null,
   "metadata": {
    "collapsed": false
   },
   "outputs": [],
   "source": [
    "#Verifying value interval for check - conditions: \"MODO2 < 0\" and \"MODO2 > 12\"\n",
    "#od1987[(od1987['MODO2']<0) | (od1987['MODO2']>12)]\n",
    "verifica_RANGE(od1987, 'MODO2', 0, 12)"
   ]
  },
  {
   "cell_type": "markdown",
   "metadata": {},
   "source": [
    "##Passo 63: \"MODO3\"\n",
    "Substituir valores da coluna \"MODO3\"\n",
    "\n",
    "* Substituir todos valores **2** por **1**\n",
    "* Substituir todos valores **3** por **2**\n",
    "* Substituir todos valores **4** por **2**\n",
    "* Substituir todos valores **5** por **3**\n",
    "* Substituir todos valores **6** por **4**\n",
    "* Substituir todos valores **7** por **5**\n",
    "* Substituir todos valores **8** por **6**\n",
    "* Substituir todos valores **9** por **7**\n",
    "* Substituir todos valores **10** por **8**\n",
    "* Substituir todos valores **11** por **9**\n",
    "* Substituir todos valores **12** por **10**\n",
    "* Substituir todos valores **13** por **11**\n",
    "* Substituir todos valores **14** por **12**\n",
    "* Substituir todos valores **15** por **12**\n",
    "\n",
    "####Categorias anteriores\n",
    "Valor|Descrição\n",
    "----|----\n",
    "1|Ônibus diesel\n",
    "2|Trólebus\n",
    "3|Ônibus Fretado\n",
    "4|Escolar\n",
    "5|Dirigindo Automóvel\n",
    "6|Passageiro de Automóvel\n",
    "7|Táxi\n",
    "8|Lotação/Perua\n",
    "9|Metrô\n",
    "10|Trem\n",
    "11|Moto\n",
    "12|Bicicleta\n",
    "13|A Pé\n",
    "14|Caminhão\n",
    "15|Outros\n",
    "\n",
    "####Categorias novas\n",
    "Valor|Descrição\n",
    "----|----\n",
    "0|Não respondeu/não fez viagem/não utilizou 3º modo\n",
    "1|Ônibus\n",
    "2|Ônibus Escolar / Empresa\n",
    "3|Dirigindo Automóvel\n",
    "4|Passageiro de Automóvel\n",
    "5|Táxi\n",
    "6|Lotação / Perua / Van / Microônibus\n",
    "7|Metrô\n",
    "8|Trem\n",
    "9|Moto\n",
    "10|Bicicleta\n",
    "11|A Pé\n",
    "12|Outros\n",
    "\n",
    "[Teste: Checar se existe algum número < 0 ou > 12. Se encontrar, retornar erro indicando em qual linha.]"
   ]
  },
  {
   "cell_type": "code",
   "execution_count": null,
   "metadata": {
    "collapsed": false
   },
   "outputs": [],
   "source": [
    "if not impressao:\n",
    "    #Counting for check \"MODO3\"\n",
    "    display(od1987['MODO3'].value_counts())"
   ]
  },
  {
   "cell_type": "code",
   "execution_count": null,
   "metadata": {
    "collapsed": true
   },
   "outputs": [],
   "source": [
    "#Replacing the values 2 for 1\n",
    "od1987.loc[od1987['MODO3']==2,'MODO3'] = 1\n",
    "#Replacing the values 3 for 2\n",
    "od1987.loc[od1987['MODO3']==3,'MODO3'] = 2\n",
    "#Replacing the values 4 for 2\n",
    "od1987.loc[od1987['MODO3']==4,'MODO3'] = 2\n",
    "#Replacing the values 5 for 3\n",
    "od1987.loc[od1987['MODO3']==5,'MODO3'] = 3\n",
    "#Replacing the values 6 for 4\n",
    "od1987.loc[od1987['MODO3']==6,'MODO3'] = 4\n",
    "#Replacing the values 7 for 5\n",
    "od1987.loc[od1987['MODO3']==7,'MODO3'] = 5\n",
    "#Replacing the values 8 for 6\n",
    "od1987.loc[od1987['MODO3']==8,'MODO3'] = 6\n",
    "#Replacing the values 9 for 7\n",
    "od1987.loc[od1987['MODO3']==9,'MODO3'] = 7\n",
    "#Replacing the values 10 for 8\n",
    "od1987.loc[od1987['MODO3']==10,'MODO3'] = 8\n",
    "#Replacing the values 11 for 9\n",
    "od1987.loc[od1987['MODO3']==11,'MODO3'] = 9\n",
    "#Replacing the values 12 for 10\n",
    "od1987.loc[od1987['MODO3']==12,'MODO3'] = 10\n",
    "#Replacing the values 13 for 11\n",
    "od1987.loc[od1987['MODO3']==13,'MODO3'] = 11\n",
    "#Replacing the values 14 for 12\n",
    "od1987.loc[od1987['MODO3']==14,'MODO3'] = 12\n",
    "#Replacing the values 15 for 12\n",
    "od1987.loc[od1987['MODO3']==15,'MODO3'] = 12"
   ]
  },
  {
   "cell_type": "code",
   "execution_count": null,
   "metadata": {
    "collapsed": false
   },
   "outputs": [],
   "source": [
    "if not impressao:\n",
    "    #Counting \"MODO3 in order to compare the values before and after the replacement\n",
    "    display(od1987['MODO3'].value_counts())"
   ]
  },
  {
   "cell_type": "code",
   "execution_count": null,
   "metadata": {
    "collapsed": false
   },
   "outputs": [],
   "source": [
    "#Verifying value interval for check - conditions: \"MODO3 < 0\" and \"MODO3 > 12\"\n",
    "#od1987[(od1987['MODO3']<0) | (od1987['MODO3']>12)]\n",
    "verifica_RANGE(od1987, 'MODO3', 0, 12)"
   ]
  },
  {
   "cell_type": "markdown",
   "metadata": {},
   "source": [
    "##Passo 64: \"MODO4\"\n",
    "Nada há que se fazer em relação à coluna \"TIPO_EST_AUTO\" - não há dados de 1987, coluna permanecerá vazia"
   ]
  },
  {
   "cell_type": "code",
   "execution_count": null,
   "metadata": {
    "collapsed": false
   },
   "outputs": [],
   "source": [
    "if not impressao:\n",
    "    #Counting for check \"MODO4\"\n",
    "    display(od1987['MODO4'].value_counts())"
   ]
  },
  {
   "cell_type": "markdown",
   "metadata": {},
   "source": [
    "##Passo 65: \"MODO_PRIN\"\n",
    "Substituir valores da coluna \"MODO_PRIN\"\n",
    "\n",
    "* Substituir todos valores **2** por **1**\n",
    "* Substituir todos valores **3** por **2**\n",
    "* Substituir todos valores **4** por **2**\n",
    "* Substituir todos valores **5** por **3**\n",
    "* Substituir todos valores **6** por **4**\n",
    "* Substituir todos valores **7** por **5**\n",
    "* Substituir todos valores **8** por **6**\n",
    "* Substituir todos valores **9** por **7**\n",
    "* Substituir todos valores **10** por **8**\n",
    "* Substituir todos valores **11** por **9**\n",
    "* Substituir todos valores **12** por **10**\n",
    "* Substituir todos valores **13** por **11**\n",
    "* Substituir todos valores **14** por **12**\n",
    "* Substituir todos valores **15** por **12**\n",
    "\n",
    "####Categorias anteriores\n",
    "Valor|Descrição\n",
    "----|----\n",
    "1|Ônibus diesel\n",
    "2|Trólebus\n",
    "3|Ônibus Fretado\n",
    "4|Escolar\n",
    "5|Dirigindo Automóvel\n",
    "6|Passageiro de Automóvel\n",
    "7|Táxi\n",
    "8|Lotação/Perua\n",
    "9|Metrô\n",
    "10|Trem\n",
    "11|Moto\n",
    "12|Bicicleta\n",
    "13|A Pé\n",
    "14|Caminhão\n",
    "15|Outros\n",
    "\n",
    "####Categorias novas\n",
    "Valor|Descrição\n",
    "----|----\n",
    "0|Não respondeu/não fez viagem/não utilizou 3º modo\n",
    "1|Ônibus\n",
    "2|Ônibus Escolar / Empresa\n",
    "3|Dirigindo Automóvel\n",
    "4|Passageiro de Automóvel\n",
    "5|Táxi\n",
    "6|Lotação / Perua / Van / Microônibus\n",
    "7|Metrô\n",
    "8|Trem\n",
    "9|Moto\n",
    "10|Bicicleta\n",
    "11|A Pé\n",
    "12|Outros\n",
    "\n",
    "[Teste: Checar se existe algum número < 0 ou > 12. Se encontrar, retornar erro indicando em qual linha.]"
   ]
  },
  {
   "cell_type": "code",
   "execution_count": null,
   "metadata": {
    "collapsed": false
   },
   "outputs": [],
   "source": [
    "if not impressao:\n",
    "    #Counting for check \"MODO_PRIN\"\n",
    "    display(od1987['MODO_PRIN'].value_counts())"
   ]
  },
  {
   "cell_type": "code",
   "execution_count": null,
   "metadata": {
    "collapsed": true
   },
   "outputs": [],
   "source": [
    "#Replacing the values 2 for 1\n",
    "od1987.loc[od1987['MODO_PRIN']==2,'MODO_PRIN'] = 1\n",
    "#Replacing the values 3 for 2\n",
    "od1987.loc[od1987['MODO_PRIN']==3,'MODO_PRIN'] = 2\n",
    "#Replacing the values 4 for 2\n",
    "od1987.loc[od1987['MODO_PRIN']==4,'MODO_PRIN'] = 2\n",
    "#Replacing the values 5 for 3\n",
    "od1987.loc[od1987['MODO_PRIN']==5,'MODO_PRIN'] = 3\n",
    "#Replacing the values 6 for 4\n",
    "od1987.loc[od1987['MODO_PRIN']==6,'MODO_PRIN'] = 4\n",
    "#Replacing the values 7 for 5\n",
    "od1987.loc[od1987['MODO_PRIN']==7,'MODO_PRIN'] = 5\n",
    "#Replacing the values 8 for 6\n",
    "od1987.loc[od1987['MODO_PRIN']==8,'MODO_PRIN'] = 6\n",
    "#Replacing the values 9 for 7\n",
    "od1987.loc[od1987['MODO_PRIN']==9,'MODO_PRIN'] = 7\n",
    "#Replacing the values 10 for 8\n",
    "od1987.loc[od1987['MODO_PRIN']==10,'MODO_PRIN'] = 8\n",
    "#Replacing the values 11 for 9\n",
    "od1987.loc[od1987['MODO_PRIN']==11,'MODO_PRIN'] = 9\n",
    "#Replacing the values 12 for 10\n",
    "od1987.loc[od1987['MODO_PRIN']==12,'MODO_PRIN'] = 10\n",
    "#Replacing the values 13 for 11\n",
    "od1987.loc[od1987['MODO_PRIN']==13,'MODO_PRIN'] = 11\n",
    "#Replacing the values 14 for 12\n",
    "od1987.loc[od1987['MODO_PRIN']==14,'MODO_PRIN'] = 12\n",
    "#Replacing the values 15 for 12\n",
    "od1987.loc[od1987['MODO_PRIN']==15,'MODO_PRIN'] = 12"
   ]
  },
  {
   "cell_type": "code",
   "execution_count": null,
   "metadata": {
    "collapsed": false
   },
   "outputs": [],
   "source": [
    "if not impressao:\n",
    "    #Counting \"MODO_PRIN in order to compare the values before and after the replacement\n",
    "    display(od1987['MODO_PRIN'].value_counts())\n"
   ]
  },
  {
   "cell_type": "code",
   "execution_count": null,
   "metadata": {
    "collapsed": false
   },
   "outputs": [],
   "source": [
    "#Verifying value interval for check - conditions: \"MODO_PRIN < 0\" and \"MODO_PRIN > 12\"\n",
    "#od1987[(od1987['MODO_PRIN']<0) | (od1987['MODO_PRIN']>12)]\n",
    "verifica_RANGE(od1987, 'MODO_PRIN', 0, 12)"
   ]
  },
  {
   "cell_type": "markdown",
   "metadata": {},
   "source": [
    "-----\n",
    "##\"TIPO_VIAG\"; \"H_SAIDA\"; \"MIN_SAIDA\"; \"ANDA_ORIG\"; \"H_CHEG\"; \"MIN_CHEG\"; \"ANDA_DEST\" e \"DURACAO\"\n",
    "Nada há que se fazer em relação aos dados das colunas \"TIPO_VIAG\"; \"H_SAIDA\"; \"MIN_SAIDA\"; \"ANDA_ORIG\"; \"H_CHEG\"; \"MIN_CHEG\"; \"ANDA_DEST\" e \"DURACAO\""
   ]
  },
  {
   "cell_type": "markdown",
   "metadata": {},
   "source": [
    "##\"TIPO_EST_AUTO\"\n",
    "Substituir valores da coluna \"TIPO_EST_AUTO\"\n",
    "\n",
    "* Substituir todos valores **1** por **5**\n",
    "* Substituir todos valores **6** por **1**\n",
    "\n",
    "####Categorias anteriores\n",
    "Valor|Descrição\n",
    "----|----\n",
    "1|Zona Azul / Parqímetro\n",
    "2|Estacionamento Particular\n",
    "3|Estacionamento Próprio\n",
    "4|Estacionamento Patrocinado\n",
    "5|Meio-Fio\n",
    "6|Não estacionou\n",
    "\n",
    "####Categorias novas\n",
    "Valor|Descrição\n",
    "----|----\n",
    "0|Não Respondeu\n",
    "1|Não Estacionou\n",
    "2|Estacionamento Particular (Avulso / Mensal)\n",
    "3|Estacionamento Próprio\n",
    "4|Estacionamento Patrocinado\n",
    "5|Rua (meio fio / zona azul / zona marrom / parquímetro)\n",
    "\n",
    "[Teste: Checar se existe algum número < 0 ou > 5. Se encontrar, retornar erro indicando em qual linha.]"
   ]
  },
  {
   "cell_type": "code",
   "execution_count": null,
   "metadata": {
    "collapsed": false
   },
   "outputs": [],
   "source": [
    "if not impressao:\n",
    "    #Counting for check \"TIPO_EST_AUTO\"\n",
    "    display(od1987['TIPO_EST_AUTO'].value_counts())"
   ]
  },
  {
   "cell_type": "code",
   "execution_count": null,
   "metadata": {
    "collapsed": false
   },
   "outputs": [],
   "source": [
    "#Replacing the values 1 for 5\n",
    "od1987.loc[od1987['TIPO_EST_AUTO']==1,'TIPO_EST_AUTO'] = 5\n",
    "#Replacing the values 6 for 1\n",
    "od1987.loc[od1987['TIPO_EST_AUTO']==6,'TIPO_EST_AUTO'] = 1"
   ]
  },
  {
   "cell_type": "code",
   "execution_count": null,
   "metadata": {
    "collapsed": false
   },
   "outputs": [],
   "source": [
    "if not impressao:\n",
    "    #Counting \"TIPO_EST_AUTO in order to compare the values before and after the replacement\n",
    "    display(od1987['TIPO_EST_AUTO'].value_counts())"
   ]
  },
  {
   "cell_type": "code",
   "execution_count": null,
   "metadata": {
    "collapsed": false
   },
   "outputs": [],
   "source": [
    "#Verifying value interval for check - conditions: \"TIPO_EST_AUTO < 0\" and \"TIPO_EST_AUTO > 5\"\n",
    "#od1987[(od1987['TIPO_EST_AUTO']<0) | (od1987['TIPO_EST_AUTO']>5)]\n",
    "verifica_RANGE(od1987, 'TIPO_EST_AUTO', 0, 5)"
   ]
  },
  {
   "cell_type": "markdown",
   "metadata": {},
   "source": [
    "-----\n",
    "##\"VALOR_EST_AUTO\"\n",
    "Nada há que se fazer em relação à coluna \"VALOR_EST_AUTO\" - não há dados de 1987, coluna permanecerá vazia"
   ]
  }
 ],
 "metadata": {
  "kernelspec": {
   "display_name": "Python 3",
   "language": "python",
   "name": "python3"
  },
  "language_info": {
   "codemirror_mode": {
    "name": "ipython",
    "version": 3
   },
   "file_extension": ".py",
   "mimetype": "text/x-python",
   "name": "python",
   "nbconvert_exporter": "python",
   "pygments_lexer": "ipython3",
   "version": "3.4.2"
  }
 },
 "nbformat": 4,
 "nbformat_minor": 0
}
