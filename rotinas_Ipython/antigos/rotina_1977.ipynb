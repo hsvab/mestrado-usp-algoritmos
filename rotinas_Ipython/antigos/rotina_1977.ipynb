{
 "cells": [
  {
   "cell_type": "code",
   "execution_count": 1,
   "metadata": {
    "collapsed": true
   },
   "outputs": [],
   "source": [
    "from IPython.display import display #from IPython.core.display import HTML\n",
    "\n",
    "import pandas as pd\n",
    "pd.set_option('display.mpl_style', 'default') #Make the graphs a bit prettier\n",
    "\n",
    "#Variable to avoid log prints when generating pdf file\n",
    "impressao = False #True = to not print logs | False = to print logs"
   ]
  },
  {
   "cell_type": "markdown",
   "metadata": {},
   "source": [
    "--------\n",
    "##Funções gerais"
   ]
  },
  {
   "cell_type": "code",
   "execution_count": 2,
   "metadata": {
    "collapsed": false
   },
   "outputs": [],
   "source": [
    "def consulta_refext(row, name_file, name_col_ref, name_col_filt, name_col_search):\n",
    "    \"\"\"\n",
    "    Traz valor de referência externa (em arquivo csv) baseado em valor de referência do arquivo de origem.\n",
    "    O primeiro argumento passado é a \"linha\".\n",
    "    O segundo argumento é o nome do arquivo csv que será consultado (indicar o nome com a extensão .csv)\n",
    "    O terceiro argumento é o nome da coluna no dataframe (.csv) consultado que servirá de refência para a localização \n",
    "    O quarto argumento é o nome da coluna de filtro do dataframe atual\n",
    "    O quinto argumento é o nome da coluna no dataframe (.csv) consultado que contém o valor a ser retornado.\n",
    "        Uso:\n",
    "        od1977['coluna a receber o valor'] = od1977.apply(lambda row: consulta_refext(row, 'filename.csv', 'reference column', 'filter column', 'searched column'), axis=1)\n",
    "    \"\"\"\n",
    "    if row [name_col_filt]==0:\n",
    "        return row[name_col_filt]\n",
    "    data_frame = pd.read_csv(name_file,sep=';')\n",
    "    return int(data_frame[data_frame[name_col_ref]==row[name_col_filt]][name_col_search])"
   ]
  },
  {
   "cell_type": "code",
   "execution_count": 3,
   "metadata": {
    "collapsed": true
   },
   "outputs": [],
   "source": [
    "def verifica_DUMMY(data_frame, nome_variavel):\n",
    "    \"\"\"\n",
    "    Verifica se uma variável, dummy, contém algum valor diferente de 0 ou de 1.\n",
    "        Uso:\n",
    "        verifica_DUMMY(nome_do_dataframe, 'coluna a ser verificada')\n",
    "    \"\"\"\n",
    "    contador_de_erros = 0\n",
    "    for index, value in data_frame.iterrows():\n",
    "        if int(value[nome_variavel]) != 1 and int(value[nome_variavel]) != 0:\n",
    "            if not impressao:\n",
    "                print(\"Erro encontrado no registro \" + str(index+1) + \".\")\n",
    "                print(\"    Valor encontrado: \" + str(value[nome_variavel]))\n",
    "            contador_de_erros += 1\n",
    "    print(\"Total de erros encontrados: \" + str(contador_de_erros))"
   ]
  },
  {
   "cell_type": "code",
   "execution_count": 4,
   "metadata": {
    "collapsed": false
   },
   "outputs": [],
   "source": [
    "def verifica_RANGE(df, variavel, valor_menor, valor_maior):\n",
    "    \"\"\"\n",
    "    Verifica se uma variável, do tipo número inteiro, contém algum valor menor que \"valor_menor\" ou maior que \"valor_maior\"\n",
    "        Uso:\n",
    "        verifica_RANGE(nome_do_dataframe, 'coluna a ser verificada', 'valor_menor', 'valor_maior')\n",
    "    \"\"\"\n",
    "    df_filtrado = df[(df[variavel]<valor_menor) | (df[variavel]>valor_maior)]\n",
    "    #Printing a summary of the values that not fit in the Range\n",
    "    result = df_filtrado[variavel].value_counts()\n",
    "    print(result)\n",
    "    #If 'impressao = False', the output contains the values of dataframe that do not fit in the filter\n",
    "    if not impressao:\n",
    "        df_filtrado"
   ]
  },
  {
   "cell_type": "code",
   "execution_count": 5,
   "metadata": {
    "collapsed": false
   },
   "outputs": [],
   "source": [
    "def gera_ID_DOM(row):\n",
    "    \"\"\"\n",
    "    Gera o ID_DOM baseado no 'ANO', na 'ZONA_DOM' e no 'NO_DOM'\n",
    "    O argumento passado é a \"linha\".\n",
    "        Uso:\n",
    "        od1977['ID_DOM'] = od1977.apply(gera_ID_DOM, axis=1)\n",
    "    \"\"\"\n",
    "    ano = int(row['ANO'])\n",
    "    zona = int(row['ZONA_DOM'])\n",
    "    no_dom = int(row['NO_DOM'])\n",
    "    return int(str(ano)+str('%03d'%(zona)) + str('%04d'%(no_dom)))"
   ]
  },
  {
   "cell_type": "code",
   "execution_count": 6,
   "metadata": {
    "collapsed": false
   },
   "outputs": [],
   "source": [
    "def gera_ID_FAM(row):\n",
    "    \"\"\"\n",
    "    Gera o ID_FAM baseado no 'ID_DOM' e no 'NO_FAM'\n",
    "    O argumento passado é a \"linha\".\n",
    "        Uso:\n",
    "        od1977['ID_FAM'] = od1977.apply(gera_ID_FAM, axis=1)\n",
    "    \"\"\"\n",
    "    id_dom = int(row['ID_DOM'])\n",
    "    no_fam = int(row['NO_FAM'])\n",
    "    return int(str(id_dom) + str('%02d'%(no_fam)))"
   ]
  },
  {
   "cell_type": "code",
   "execution_count": 7,
   "metadata": {
    "collapsed": false
   },
   "outputs": [],
   "source": [
    "def gera_ID_PESS(row):\n",
    "    \"\"\"\n",
    "    Gera o ID_PESS baseado no 'ID_FAM' e no 'NO_PESS'\n",
    "    O argumento passado é a \"linha\".\n",
    "        Uso:\n",
    "        od1977['ID_PESS'] = od1977.apply(gera_ID_PESS, axis=1)\n",
    "    \"\"\"\n",
    "    id_fam = int(row['ID_FAM'])\n",
    "    no_pess = int(row['NO_PESS'])\n",
    "    return int(str(id_fam) + str('%02d'%(no_pess)))"
   ]
  },
  {
   "cell_type": "code",
   "execution_count": 8,
   "metadata": {
    "collapsed": false
   },
   "outputs": [],
   "source": [
    "def gera_ID_VIAG(row):\n",
    "    \"\"\"\n",
    "    Gera o ID_VIAG baseado no 'ID_PESS' e no 'NO_VIAG'\n",
    "    O argumento passado é a \"linha\".\n",
    "        Uso:\n",
    "        od1977['ID_VIAG'] = od1977.apply(gera_ID_VIAG, axis=1)\n",
    "    \"\"\"\n",
    "    id_pess = int(row['ID_PESS'])\n",
    "    no_viag = int(row['NO_VIAG'])\n",
    "    return int(str(id_pess) + str('%02d'%(no_viag)))"
   ]
  },
  {
   "cell_type": "code",
   "execution_count": 9,
   "metadata": {
    "collapsed": false
   },
   "outputs": [],
   "source": [
    "def calcula_DIST_VIAG(row):\n",
    "    \"\"\"\n",
    "    Calcula a distância euclidiana dadas as coordenadas (x,y) de origem e coordenadas (x,y) de destino da viagem.\n",
    "    O argumento passado é a \"linha\".\n",
    "        Uso:\n",
    "        od1977['DIST_VIAG'] = od1977.apply(calcula_DIST_VIAG, axis=1)\n",
    "    \"\"\"\n",
    "    co_orig_x = float(row['CO_ORIG_X'])\n",
    "    co_orig_y = float(row['CO_ORIG_Y'])\n",
    "    co_dest_x = float(row['CO_DEST_X'])\n",
    "    co_dest_y = float(row['CO_DEST_Y'])\n",
    "    return math.sqrt(math.pow((co_orig_x - co_dest_x), 2) + math.pow((co_orig_y - co_dest_y), 2))"
   ]
  },
  {
   "cell_type": "markdown",
   "metadata": {},
   "source": [
    "----"
   ]
  },
  {
   "cell_type": "code",
   "execution_count": 10,
   "metadata": {
    "collapsed": false
   },
   "outputs": [],
   "source": [
    "#Reading csv file and store its contend in an intern dataframe\n",
    "od1977 = pd.read_csv('OD_1977.csv', sep=';', decimal=',')"
   ]
  },
  {
   "cell_type": "code",
   "execution_count": 11,
   "metadata": {
    "collapsed": false
   },
   "outputs": [],
   "source": [
    "#Renaming the column UCOD to UCOD_DOM\n",
    "od1977.rename(columns={'UCOD':'UCOD_DOM'}, inplace=True)"
   ]
  },
  {
   "cell_type": "code",
   "execution_count": 12,
   "metadata": {
    "collapsed": false
   },
   "outputs": [],
   "source": [
    "#Creating the column UCOD_ESC (it will go to the end of dataframe)\n",
    "od1977['UCOD_ESC']=None"
   ]
  },
  {
   "cell_type": "code",
   "execution_count": 13,
   "metadata": {
    "collapsed": false
   },
   "outputs": [],
   "source": [
    "#Creating the column UCOD_TRAB1 (it will go to the end of dataframe)\n",
    "od1977['UCOD_TRAB1']=None"
   ]
  },
  {
   "cell_type": "code",
   "execution_count": 14,
   "metadata": {
    "collapsed": false
   },
   "outputs": [],
   "source": [
    "#Creating the column UCOD_TRAB2 (it will go to the end of dataframe)\n",
    "od1977['UCOD_TRAB2']=None"
   ]
  },
  {
   "cell_type": "code",
   "execution_count": 15,
   "metadata": {
    "collapsed": false
   },
   "outputs": [],
   "source": [
    "#Creating the column UCOD_ORIG (it will go to the end of dataframe)\n",
    "od1977['UCOD_ORIG']=None"
   ]
  },
  {
   "cell_type": "code",
   "execution_count": 16,
   "metadata": {
    "collapsed": false
   },
   "outputs": [],
   "source": [
    "#Creating the column UCOD_DEST (it will go to the end of dataframe)\n",
    "od1977['UCOD_DEST']=None"
   ]
  },
  {
   "cell_type": "code",
   "execution_count": 17,
   "metadata": {
    "collapsed": true
   },
   "outputs": [],
   "source": [
    "od1977 = od1977[:15000]"
   ]
  },
  {
   "cell_type": "code",
   "execution_count": 18,
   "metadata": {
    "collapsed": false
   },
   "outputs": [],
   "source": [
    "#Reordering the columns, precisely, these that were just created (at the end of dataframe) near to other contend related variables\n",
    "od1977 = od1977[['ANO',\n",
    " 'CD_ENTRE',\n",
    " 'DIA_SEM',\n",
    " 'UCOD_DOM',\n",
    " 'ZONA_DOM',\n",
    " 'SUBZONA_DOM',\n",
    " 'MUN_DOM',\n",
    " 'CO_DOM_X',\n",
    " 'CO_DOM_Y',\n",
    " 'ID_DOM',\n",
    " 'F_DOM',\n",
    " 'FE_DOM',\n",
    " 'NO_DOM',\n",
    " 'TIPO_DOM',\n",
    " 'TOT_FAM',\n",
    " 'ID_FAM',\n",
    " 'F_FAM',\n",
    " 'FE_FAM',\n",
    " 'NO_FAM',\n",
    " 'COND_MORA',\n",
    " 'QT_AUTO',\n",
    " 'QT_BICI',\n",
    " 'QT_MOTO',\n",
    " 'CD_RENFAM',\n",
    " 'REN_FAM',\n",
    " 'ID_PESS',\n",
    " 'F_PESS',\n",
    " 'FE_PESS',\n",
    " 'NO_PESS',\n",
    " 'SIT_FAM',\n",
    " 'IDADE',\n",
    " 'SEXO',\n",
    " 'ESTUDA',\n",
    " 'GRAU_INSTR',\n",
    " 'OCUP',\n",
    " 'SETOR_ATIV',\n",
    " 'CD_RENIND',\n",
    " 'REN_IND',\n",
    " 'UCOD_ESC',\n",
    " 'ZONA_ESC',\n",
    " 'SUBZONA_ESC',\n",
    " 'MUN_ESC',\n",
    " 'CO_ESC_X',\n",
    " 'CO_ESC_Y',\n",
    " 'UCOD_TRAB1',                      \n",
    " 'ZONA_TRAB1',\n",
    " 'SUBZONA_TRAB1',\n",
    " 'MUN_TRAB1',\n",
    " 'CO_TRAB1_X',\n",
    " 'CO_TRAB1_Y',\n",
    " 'UCOD_TRAB2',\n",
    " 'ZONA_TRAB2',\n",
    " 'SUBZONA_TRAB2',\n",
    " 'MUN_TRAB2',\n",
    " 'CO_TRAB2_X',\n",
    " 'CO_TRAB2_Y',\n",
    " 'ID_VIAG',\n",
    " 'F_VIAG',\n",
    " 'FE_VIAG',\n",
    " 'NO_VIAG',\n",
    " 'TOT_VIAG',\n",
    " 'UCOD_ORIG',\n",
    " 'ZONA_ORIG',\n",
    " 'SUBZONA_ORIG',\n",
    " 'MUN_ORIG',\n",
    " 'CO_ORIG_X',\n",
    " 'CO_ORIG_Y',\n",
    " 'UCOD_DEST',\n",
    " 'ZONA_DEST',\n",
    " 'SUBZONA_DEST',\n",
    " 'MUN_DEST',\n",
    " 'CO_DEST_X',\n",
    " 'CO_DEST_Y',\n",
    " 'DIST_VIAG',\n",
    " 'MOTIVO_ORIG',\n",
    " 'MOTIVO_DEST',\n",
    " 'MODO1',\n",
    " 'MODO2',\n",
    " 'MODO3',\n",
    " 'MODO4',\n",
    " 'MODO_PRIN',\n",
    " 'TIPO_VIAG',\n",
    " 'H_SAIDA',\n",
    " 'MIN_SAIDA',\n",
    " 'ANDA_ORIG',\n",
    " 'H_CHEG',\n",
    " 'MIN_CHEG',\n",
    " 'ANDA_DEST',\n",
    " 'DURACAO',\n",
    " 'TIPO_EST_AUTO',\n",
    " 'VALOR_EST_AUTO']]"
   ]
  },
  {
   "cell_type": "code",
   "execution_count": 19,
   "metadata": {
    "collapsed": false
   },
   "outputs": [
    {
     "data": {
      "text/plain": [
       "['ANO',\n",
       " 'CD_ENTRE',\n",
       " 'DIA_SEM',\n",
       " 'UCOD_DOM',\n",
       " 'ZONA_DOM',\n",
       " 'SUBZONA_DOM',\n",
       " 'MUN_DOM',\n",
       " 'CO_DOM_X',\n",
       " 'CO_DOM_Y',\n",
       " 'ID_DOM',\n",
       " 'F_DOM',\n",
       " 'FE_DOM',\n",
       " 'NO_DOM',\n",
       " 'TIPO_DOM',\n",
       " 'TOT_FAM',\n",
       " 'ID_FAM',\n",
       " 'F_FAM',\n",
       " 'FE_FAM',\n",
       " 'NO_FAM',\n",
       " 'COND_MORA',\n",
       " 'QT_AUTO',\n",
       " 'QT_BICI',\n",
       " 'QT_MOTO',\n",
       " 'CD_RENFAM',\n",
       " 'REN_FAM',\n",
       " 'ID_PESS',\n",
       " 'F_PESS',\n",
       " 'FE_PESS',\n",
       " 'NO_PESS',\n",
       " 'SIT_FAM',\n",
       " 'IDADE',\n",
       " 'SEXO',\n",
       " 'ESTUDA',\n",
       " 'GRAU_INSTR',\n",
       " 'OCUP',\n",
       " 'SETOR_ATIV',\n",
       " 'CD_RENIND',\n",
       " 'REN_IND',\n",
       " 'UCOD_ESC',\n",
       " 'ZONA_ESC',\n",
       " 'SUBZONA_ESC',\n",
       " 'MUN_ESC',\n",
       " 'CO_ESC_X',\n",
       " 'CO_ESC_Y',\n",
       " 'UCOD_TRAB1',\n",
       " 'ZONA_TRAB1',\n",
       " 'SUBZONA_TRAB1',\n",
       " 'MUN_TRAB1',\n",
       " 'CO_TRAB1_X',\n",
       " 'CO_TRAB1_Y',\n",
       " 'UCOD_TRAB2',\n",
       " 'ZONA_TRAB2',\n",
       " 'SUBZONA_TRAB2',\n",
       " 'MUN_TRAB2',\n",
       " 'CO_TRAB2_X',\n",
       " 'CO_TRAB2_Y',\n",
       " 'ID_VIAG',\n",
       " 'F_VIAG',\n",
       " 'FE_VIAG',\n",
       " 'NO_VIAG',\n",
       " 'TOT_VIAG',\n",
       " 'UCOD_ORIG',\n",
       " 'ZONA_ORIG',\n",
       " 'SUBZONA_ORIG',\n",
       " 'MUN_ORIG',\n",
       " 'CO_ORIG_X',\n",
       " 'CO_ORIG_Y',\n",
       " 'UCOD_DEST',\n",
       " 'ZONA_DEST',\n",
       " 'SUBZONA_DEST',\n",
       " 'MUN_DEST',\n",
       " 'CO_DEST_X',\n",
       " 'CO_DEST_Y',\n",
       " 'DIST_VIAG',\n",
       " 'MOTIVO_ORIG',\n",
       " 'MOTIVO_DEST',\n",
       " 'MODO1',\n",
       " 'MODO2',\n",
       " 'MODO3',\n",
       " 'MODO4',\n",
       " 'MODO_PRIN',\n",
       " 'TIPO_VIAG',\n",
       " 'H_SAIDA',\n",
       " 'MIN_SAIDA',\n",
       " 'ANDA_ORIG',\n",
       " 'H_CHEG',\n",
       " 'MIN_CHEG',\n",
       " 'ANDA_DEST',\n",
       " 'DURACAO',\n",
       " 'TIPO_EST_AUTO',\n",
       " 'VALOR_EST_AUTO']"
      ]
     },
     "metadata": {},
     "output_type": "display_data"
    }
   ],
   "source": [
    "#Storing the variables list in the \"cols\" variable\n",
    "cols = od1977.columns.tolist()\n",
    "if not impressao:\n",
    "    #printing \"cols\" variable to check if the reorder operation was effective\n",
    "    display(cols)"
   ]
  },
  {
   "cell_type": "code",
   "execution_count": 20,
   "metadata": {
    "collapsed": false
   },
   "outputs": [
    {
     "data": {
      "text/html": [
       "<div style=\"max-height:1000px;max-width:1500px;overflow:auto;\">\n",
       "<table border=\"1\" class=\"dataframe\">\n",
       "  <thead>\n",
       "    <tr style=\"text-align: right;\">\n",
       "      <th></th>\n",
       "      <th>ANO</th>\n",
       "      <th>CD_ENTRE</th>\n",
       "      <th>DIA_SEM</th>\n",
       "      <th>UCOD_DOM</th>\n",
       "      <th>ZONA_DOM</th>\n",
       "      <th>SUBZONA_DOM</th>\n",
       "      <th>MUN_DOM</th>\n",
       "      <th>CO_DOM_X</th>\n",
       "      <th>CO_DOM_Y</th>\n",
       "      <th>ID_DOM</th>\n",
       "      <th>...</th>\n",
       "      <th>TIPO_VIAG</th>\n",
       "      <th>H_SAIDA</th>\n",
       "      <th>MIN_SAIDA</th>\n",
       "      <th>ANDA_ORIG</th>\n",
       "      <th>H_CHEG</th>\n",
       "      <th>MIN_CHEG</th>\n",
       "      <th>ANDA_DEST</th>\n",
       "      <th>DURACAO</th>\n",
       "      <th>TIPO_EST_AUTO</th>\n",
       "      <th>VALOR_EST_AUTO</th>\n",
       "    </tr>\n",
       "  </thead>\n",
       "  <tbody>\n",
       "    <tr>\n",
       "      <th>count</th>\n",
       "      <td>0</td>\n",
       "      <td>0</td>\n",
       "      <td>0</td>\n",
       "      <td>0</td>\n",
       "      <td>15000.000000</td>\n",
       "      <td>15000.000000</td>\n",
       "      <td>15000</td>\n",
       "      <td>0</td>\n",
       "      <td>0</td>\n",
       "      <td>1.500000e+04</td>\n",
       "      <td>...</td>\n",
       "      <td>15000.000000</td>\n",
       "      <td>15000.000000</td>\n",
       "      <td>15000.000000</td>\n",
       "      <td>15000.000000</td>\n",
       "      <td>15000.000000</td>\n",
       "      <td>15000.000000</td>\n",
       "      <td>15000.000000</td>\n",
       "      <td>15000.000000</td>\n",
       "      <td>15000.000000</td>\n",
       "      <td>15000.000000</td>\n",
       "    </tr>\n",
       "    <tr>\n",
       "      <th>mean</th>\n",
       "      <td>NaN</td>\n",
       "      <td>NaN</td>\n",
       "      <td>NaN</td>\n",
       "      <td>NaN</td>\n",
       "      <td>9.747600</td>\n",
       "      <td>311.355267</td>\n",
       "      <td>1</td>\n",
       "      <td>NaN</td>\n",
       "      <td>NaN</td>\n",
       "      <td>1.002741e+12</td>\n",
       "      <td>...</td>\n",
       "      <td>2.246933</td>\n",
       "      <td>11.100400</td>\n",
       "      <td>15.790067</td>\n",
       "      <td>1.884267</td>\n",
       "      <td>11.275600</td>\n",
       "      <td>19.985267</td>\n",
       "      <td>1.876667</td>\n",
       "      <td>23.201667</td>\n",
       "      <td>0.711000</td>\n",
       "      <td>4.012733</td>\n",
       "    </tr>\n",
       "    <tr>\n",
       "      <th>std</th>\n",
       "      <td>NaN</td>\n",
       "      <td>NaN</td>\n",
       "      <td>NaN</td>\n",
       "      <td>NaN</td>\n",
       "      <td>5.207786</td>\n",
       "      <td>184.137085</td>\n",
       "      <td>0</td>\n",
       "      <td>NaN</td>\n",
       "      <td>NaN</td>\n",
       "      <td>5.203091e+11</td>\n",
       "      <td>...</td>\n",
       "      <td>0.827850</td>\n",
       "      <td>6.718382</td>\n",
       "      <td>17.492787</td>\n",
       "      <td>3.514100</td>\n",
       "      <td>6.826767</td>\n",
       "      <td>18.291798</td>\n",
       "      <td>3.702031</td>\n",
       "      <td>25.271876</td>\n",
       "      <td>1.759494</td>\n",
       "      <td>49.587124</td>\n",
       "    </tr>\n",
       "    <tr>\n",
       "      <th>min</th>\n",
       "      <td>NaN</td>\n",
       "      <td>NaN</td>\n",
       "      <td>NaN</td>\n",
       "      <td>NaN</td>\n",
       "      <td>1.000000</td>\n",
       "      <td>1.000000</td>\n",
       "      <td>1</td>\n",
       "      <td>NaN</td>\n",
       "      <td>NaN</td>\n",
       "      <td>1.200010e+11</td>\n",
       "      <td>...</td>\n",
       "      <td>1.000000</td>\n",
       "      <td>0.000000</td>\n",
       "      <td>0.000000</td>\n",
       "      <td>0.000000</td>\n",
       "      <td>0.000000</td>\n",
       "      <td>0.000000</td>\n",
       "      <td>0.000000</td>\n",
       "      <td>0.000000</td>\n",
       "      <td>0.000000</td>\n",
       "      <td>0.000000</td>\n",
       "    </tr>\n",
       "    <tr>\n",
       "      <th>25%</th>\n",
       "      <td>NaN</td>\n",
       "      <td>NaN</td>\n",
       "      <td>NaN</td>\n",
       "      <td>NaN</td>\n",
       "      <td>5.000000</td>\n",
       "      <td>276.000000</td>\n",
       "      <td>1</td>\n",
       "      <td>NaN</td>\n",
       "      <td>NaN</td>\n",
       "      <td>5.200071e+11</td>\n",
       "      <td>...</td>\n",
       "      <td>2.000000</td>\n",
       "      <td>7.000000</td>\n",
       "      <td>0.000000</td>\n",
       "      <td>0.000000</td>\n",
       "      <td>7.000000</td>\n",
       "      <td>0.000000</td>\n",
       "      <td>0.000000</td>\n",
       "      <td>5.000000</td>\n",
       "      <td>0.000000</td>\n",
       "      <td>0.000000</td>\n",
       "    </tr>\n",
       "    <tr>\n",
       "      <th>50%</th>\n",
       "      <td>NaN</td>\n",
       "      <td>NaN</td>\n",
       "      <td>NaN</td>\n",
       "      <td>NaN</td>\n",
       "      <td>10.000000</td>\n",
       "      <td>290.000000</td>\n",
       "      <td>1</td>\n",
       "      <td>NaN</td>\n",
       "      <td>NaN</td>\n",
       "      <td>1.030021e+12</td>\n",
       "      <td>...</td>\n",
       "      <td>2.000000</td>\n",
       "      <td>12.000000</td>\n",
       "      <td>10.000000</td>\n",
       "      <td>0.000000</td>\n",
       "      <td>12.000000</td>\n",
       "      <td>15.000000</td>\n",
       "      <td>0.000000</td>\n",
       "      <td>15.000000</td>\n",
       "      <td>0.000000</td>\n",
       "      <td>0.000000</td>\n",
       "    </tr>\n",
       "    <tr>\n",
       "      <th>75%</th>\n",
       "      <td>NaN</td>\n",
       "      <td>NaN</td>\n",
       "      <td>NaN</td>\n",
       "      <td>NaN</td>\n",
       "      <td>14.000000</td>\n",
       "      <td>519.000000</td>\n",
       "      <td>1</td>\n",
       "      <td>NaN</td>\n",
       "      <td>NaN</td>\n",
       "      <td>1.440003e+12</td>\n",
       "      <td>...</td>\n",
       "      <td>3.000000</td>\n",
       "      <td>17.000000</td>\n",
       "      <td>30.000000</td>\n",
       "      <td>2.000000</td>\n",
       "      <td>17.000000</td>\n",
       "      <td>35.000000</td>\n",
       "      <td>2.000000</td>\n",
       "      <td>30.000000</td>\n",
       "      <td>0.000000</td>\n",
       "      <td>0.000000</td>\n",
       "    </tr>\n",
       "    <tr>\n",
       "      <th>max</th>\n",
       "      <td>NaN</td>\n",
       "      <td>NaN</td>\n",
       "      <td>NaN</td>\n",
       "      <td>NaN</td>\n",
       "      <td>18.000000</td>\n",
       "      <td>633.000000</td>\n",
       "      <td>1</td>\n",
       "      <td>NaN</td>\n",
       "      <td>NaN</td>\n",
       "      <td>1.830004e+12</td>\n",
       "      <td>...</td>\n",
       "      <td>3.000000</td>\n",
       "      <td>23.000000</td>\n",
       "      <td>59.000000</td>\n",
       "      <td>50.000000</td>\n",
       "      <td>24.000000</td>\n",
       "      <td>59.000000</td>\n",
       "      <td>59.000000</td>\n",
       "      <td>240.000000</td>\n",
       "      <td>7.000000</td>\n",
       "      <td>3500.000000</td>\n",
       "    </tr>\n",
       "  </tbody>\n",
       "</table>\n",
       "<p>8 rows × 86 columns</p>\n",
       "</div>"
      ],
      "text/plain": [
       "       ANO  CD_ENTRE  DIA_SEM  UCOD_DOM      ZONA_DOM   SUBZONA_DOM  MUN_DOM  \\\n",
       "count    0         0        0         0  15000.000000  15000.000000    15000   \n",
       "mean   NaN       NaN      NaN       NaN      9.747600    311.355267        1   \n",
       "std    NaN       NaN      NaN       NaN      5.207786    184.137085        0   \n",
       "min    NaN       NaN      NaN       NaN      1.000000      1.000000        1   \n",
       "25%    NaN       NaN      NaN       NaN      5.000000    276.000000        1   \n",
       "50%    NaN       NaN      NaN       NaN     10.000000    290.000000        1   \n",
       "75%    NaN       NaN      NaN       NaN     14.000000    519.000000        1   \n",
       "max    NaN       NaN      NaN       NaN     18.000000    633.000000        1   \n",
       "\n",
       "       CO_DOM_X  CO_DOM_Y        ID_DOM       ...           TIPO_VIAG  \\\n",
       "count         0         0  1.500000e+04       ...        15000.000000   \n",
       "mean        NaN       NaN  1.002741e+12       ...            2.246933   \n",
       "std         NaN       NaN  5.203091e+11       ...            0.827850   \n",
       "min         NaN       NaN  1.200010e+11       ...            1.000000   \n",
       "25%         NaN       NaN  5.200071e+11       ...            2.000000   \n",
       "50%         NaN       NaN  1.030021e+12       ...            2.000000   \n",
       "75%         NaN       NaN  1.440003e+12       ...            3.000000   \n",
       "max         NaN       NaN  1.830004e+12       ...            3.000000   \n",
       "\n",
       "            H_SAIDA     MIN_SAIDA     ANDA_ORIG        H_CHEG      MIN_CHEG  \\\n",
       "count  15000.000000  15000.000000  15000.000000  15000.000000  15000.000000   \n",
       "mean      11.100400     15.790067      1.884267     11.275600     19.985267   \n",
       "std        6.718382     17.492787      3.514100      6.826767     18.291798   \n",
       "min        0.000000      0.000000      0.000000      0.000000      0.000000   \n",
       "25%        7.000000      0.000000      0.000000      7.000000      0.000000   \n",
       "50%       12.000000     10.000000      0.000000     12.000000     15.000000   \n",
       "75%       17.000000     30.000000      2.000000     17.000000     35.000000   \n",
       "max       23.000000     59.000000     50.000000     24.000000     59.000000   \n",
       "\n",
       "          ANDA_DEST       DURACAO  TIPO_EST_AUTO  VALOR_EST_AUTO  \n",
       "count  15000.000000  15000.000000   15000.000000    15000.000000  \n",
       "mean       1.876667     23.201667       0.711000        4.012733  \n",
       "std        3.702031     25.271876       1.759494       49.587124  \n",
       "min        0.000000      0.000000       0.000000        0.000000  \n",
       "25%        0.000000      5.000000       0.000000        0.000000  \n",
       "50%        0.000000     15.000000       0.000000        0.000000  \n",
       "75%        2.000000     30.000000       0.000000        0.000000  \n",
       "max       59.000000    240.000000       7.000000     3500.000000  \n",
       "\n",
       "[8 rows x 86 columns]"
      ]
     },
     "metadata": {},
     "output_type": "display_data"
    }
   ],
   "source": [
    "if not impressao:\n",
    "    #Describing data (whole dataframe)- count, mean, std, min and max\n",
    "    display(od1977.describe())"
   ]
  },
  {
   "cell_type": "markdown",
   "metadata": {},
   "source": [
    "-----\n",
    "##Passo 1: UCOD_DOM\n",
    "Na coluna \"UCOD_DOM\", linha i, ler o valor da linha i da coluna \"ZONA_DOM\", daí, buscar o mesmo valor na coluna \"Zona 1977\" do arquivo UCOD-1977.csv. Ao achar, retornar o valor da mesma linha, só que da coluna \"UCOD_DOM\"\n",
    "\n",
    "[Teste: no banco completo, checar se o min == 1 e o max == 67]"
   ]
  },
  {
   "cell_type": "code",
   "execution_count": 21,
   "metadata": {
    "collapsed": false
   },
   "outputs": [],
   "source": [
    "#Getting from the csv file the \"UCOD\" code correspondent to the \"ZONA_DOM\" code\n",
    "od1977['UCOD_DOM'] = od1977.apply(lambda row: consulta_refext(row, 'UCOD-1977.csv', 'Zona 1977', 'ZONA_DOM', 'UCOD'), axis=1)"
   ]
  },
  {
   "cell_type": "code",
   "execution_count": 22,
   "metadata": {
    "collapsed": false
   },
   "outputs": [
    {
     "data": {
      "text/plain": [
       "count    15000.000000\n",
       "mean         3.896667\n",
       "std          2.220852\n",
       "min          1.000000\n",
       "25%          2.000000\n",
       "50%          5.000000\n",
       "75%          6.000000\n",
       "max          7.000000\n",
       "Name: UCOD_DOM, dtype: float64"
      ]
     },
     "metadata": {},
     "output_type": "display_data"
    }
   ],
   "source": [
    "if not impressao:\n",
    "    #Describing data (\"UCOD_DOM\" column) - count, mean, std, min and max\n",
    "    display(od1977['UCOD_DOM'].describe())"
   ]
  },
  {
   "cell_type": "code",
   "execution_count": 23,
   "metadata": {
    "collapsed": false
   },
   "outputs": [
    {
     "data": {
      "text/plain": [
       "5    4094\n",
       "2    3481\n",
       "1    3136\n",
       "7    2148\n",
       "6    2141\n",
       "dtype: int64"
      ]
     },
     "metadata": {},
     "output_type": "display_data"
    }
   ],
   "source": [
    "if not impressao:\n",
    "    #Count for check \"UCOD_DOM\"\n",
    "    display(od1977['UCOD_DOM'].value_counts())"
   ]
  },
  {
   "cell_type": "code",
   "execution_count": 24,
   "metadata": {
    "collapsed": false
   },
   "outputs": [
    {
     "name": "stdout",
     "output_type": "stream",
     "text": [
      "Series([], dtype: int64)\n"
     ]
    }
   ],
   "source": [
    "#Verifying value interval for check - conditions: \"UCOD_DOM < 1\" and \"UCOD_DOM > 67\"\n",
    "verifica_RANGE(od1977, 'UCOD_DOM', 1, 67)\n",
    "#od1977_ex[(od1977['UCOD_DOM']<1) | (od1977['UCOD_DOM']>67)]"
   ]
  },
  {
   "cell_type": "markdown",
   "metadata": {
    "collapsed": true
   },
   "source": [
    "-----\n",
    "##Passo 2: \"ANO\"\n",
    "Preencher a coluna \"ANO\" com  valor 1 em todas células\n",
    "####Categorias:\n",
    "|valor|ano_correspondente|\n",
    "|-------|-----|\n",
    "|1|1977|\n",
    "|2|1987|\n",
    "|3|1997|\n",
    "|4|2007|"
   ]
  },
  {
   "cell_type": "code",
   "execution_count": 25,
   "metadata": {
    "collapsed": false
   },
   "outputs": [],
   "source": [
    "#Assigning value '1' to all cels of the \"ANO\" column\n",
    "od1977[\"ANO\"]=1"
   ]
  },
  {
   "cell_type": "code",
   "execution_count": 26,
   "metadata": {
    "collapsed": false
   },
   "outputs": [
    {
     "data": {
      "text/plain": [
       "count    15000\n",
       "mean         1\n",
       "std          0\n",
       "min          1\n",
       "25%          1\n",
       "50%          1\n",
       "75%          1\n",
       "max          1\n",
       "Name: ANO, dtype: float64"
      ]
     },
     "metadata": {},
     "output_type": "display_data"
    }
   ],
   "source": [
    "if not impressao:\n",
    "    #Describing data (\"ANO\" column) - count, mean, std, min and max\n",
    "    display(od1977['ANO'].describe())"
   ]
  },
  {
   "cell_type": "markdown",
   "metadata": {},
   "source": [
    "-----\n",
    "##Passo 3: \"CD_ENTRE\"\n",
    "Substituir valores da coluna \"CD_ENTRE\"\n",
    "Todas viagens são consideradas \"completas\", segundo informações do Metrô\n",
    "\n",
    "* sem viagem: se TOT_VIAG == 0\n",
    "* com viagem: se TOT_VIAG != 0\n",
    "\n",
    "####Categorias novas\n",
    "| Valor | Descrição |\n",
    "| -------- | -------- |\n",
    "| 0 | Completa sem viagem |\n",
    "| 1 | Completa com viagem |\n",
    "\n",
    "[Teste: Checar se existe algum número diferente de 0 ou 1. Se encontrar, retornar erro indicando em qual linha.]"
   ]
  },
  {
   "cell_type": "code",
   "execution_count": 27,
   "metadata": {
    "collapsed": false
   },
   "outputs": [
    {
     "data": {
      "text/plain": [
       "Series([], dtype: int64)"
      ]
     },
     "metadata": {},
     "output_type": "display_data"
    }
   ],
   "source": [
    "if not impressao:\n",
    "    #Counting for check \"CD_ENTRE\"\n",
    "    display(od1977['CD_ENTRE'].value_counts())"
   ]
  },
  {
   "cell_type": "code",
   "execution_count": 28,
   "metadata": {
    "collapsed": false
   },
   "outputs": [],
   "source": [
    "#Defining 'CD_ENTRE' based on 'TOT_VIAG' values\n",
    "od1977[od1977['TOT_VIAG']==0]['CD_ENTRE']=0\n",
    "od1977[od1977['TOT_VIAG']!=0]['CD_ENTRE']=1"
   ]
  },
  {
   "cell_type": "code",
   "execution_count": 29,
   "metadata": {
    "collapsed": false
   },
   "outputs": [
    {
     "data": {
      "text/plain": [
       "Series([], dtype: int64)"
      ]
     },
     "metadata": {},
     "output_type": "display_data"
    }
   ],
   "source": [
    "if not impressao:\n",
    "    #Counting \"CD_ENTRE\" in order to compare the values before and after the replacement\n",
    "    display(od1977['CD_ENTRE'].value_counts())"
   ]
  },
  {
   "cell_type": "code",
   "execution_count": 30,
   "metadata": {
    "collapsed": false
   },
   "outputs": [
    {
     "ename": "ValueError",
     "evalue": "cannot convert float NaN to integer",
     "output_type": "error",
     "traceback": [
      "\u001b[1;31m---------------------------------------------------------------------------\u001b[0m",
      "\u001b[1;31mValueError\u001b[0m                                Traceback (most recent call last)",
      "\u001b[1;32m<ipython-input-30-e651327ac353>\u001b[0m in \u001b[0;36m<module>\u001b[1;34m()\u001b[0m\n\u001b[0;32m      1\u001b[0m \u001b[1;31m#Verifying if there was left some value other than 0 or 1\u001b[0m\u001b[1;33m\u001b[0m\u001b[1;33m\u001b[0m\u001b[0m\n\u001b[1;32m----> 2\u001b[1;33m \u001b[0mverifica_DUMMY\u001b[0m\u001b[1;33m(\u001b[0m\u001b[0mod1977\u001b[0m\u001b[1;33m,\u001b[0m \u001b[1;34m'CD_ENTRE'\u001b[0m\u001b[1;33m)\u001b[0m\u001b[1;33m\u001b[0m\u001b[0m\n\u001b[0m",
      "\u001b[1;32m<ipython-input-3-bdf264bbc98a>\u001b[0m in \u001b[0;36mverifica_DUMMY\u001b[1;34m(data_frame, nome_variavel)\u001b[0m\n\u001b[0;32m      7\u001b[0m     \u001b[0mcontador_de_erros\u001b[0m \u001b[1;33m=\u001b[0m \u001b[1;36m0\u001b[0m\u001b[1;33m\u001b[0m\u001b[0m\n\u001b[0;32m      8\u001b[0m     \u001b[1;32mfor\u001b[0m \u001b[0mindex\u001b[0m\u001b[1;33m,\u001b[0m \u001b[0mvalue\u001b[0m \u001b[1;32min\u001b[0m \u001b[0mdata_frame\u001b[0m\u001b[1;33m.\u001b[0m\u001b[0miterrows\u001b[0m\u001b[1;33m(\u001b[0m\u001b[1;33m)\u001b[0m\u001b[1;33m:\u001b[0m\u001b[1;33m\u001b[0m\u001b[0m\n\u001b[1;32m----> 9\u001b[1;33m         \u001b[1;32mif\u001b[0m \u001b[0mint\u001b[0m\u001b[1;33m(\u001b[0m\u001b[0mvalue\u001b[0m\u001b[1;33m[\u001b[0m\u001b[0mnome_variavel\u001b[0m\u001b[1;33m]\u001b[0m\u001b[1;33m)\u001b[0m \u001b[1;33m!=\u001b[0m \u001b[1;36m1\u001b[0m \u001b[1;32mand\u001b[0m \u001b[0mint\u001b[0m\u001b[1;33m(\u001b[0m\u001b[0mvalue\u001b[0m\u001b[1;33m[\u001b[0m\u001b[0mnome_variavel\u001b[0m\u001b[1;33m]\u001b[0m\u001b[1;33m)\u001b[0m \u001b[1;33m!=\u001b[0m \u001b[1;36m0\u001b[0m\u001b[1;33m:\u001b[0m\u001b[1;33m\u001b[0m\u001b[0m\n\u001b[0m\u001b[0;32m     10\u001b[0m             \u001b[1;32mif\u001b[0m \u001b[1;32mnot\u001b[0m \u001b[0mimpressao\u001b[0m\u001b[1;33m:\u001b[0m\u001b[1;33m\u001b[0m\u001b[0m\n\u001b[0;32m     11\u001b[0m                 \u001b[0mprint\u001b[0m\u001b[1;33m(\u001b[0m\u001b[1;34m\"Erro encontrado no registro \"\u001b[0m \u001b[1;33m+\u001b[0m \u001b[0mstr\u001b[0m\u001b[1;33m(\u001b[0m\u001b[0mindex\u001b[0m\u001b[1;33m+\u001b[0m\u001b[1;36m1\u001b[0m\u001b[1;33m)\u001b[0m \u001b[1;33m+\u001b[0m \u001b[1;34m\".\"\u001b[0m\u001b[1;33m)\u001b[0m\u001b[1;33m\u001b[0m\u001b[0m\n",
      "\u001b[1;31mValueError\u001b[0m: cannot convert float NaN to integer"
     ]
    }
   ],
   "source": [
    "#Verifying if there was left some value other than 0 or 1\n",
    "verifica_DUMMY(od1977, 'CD_ENTRE')"
   ]
  },
  {
   "cell_type": "markdown",
   "metadata": {},
   "source": [
    "----\n",
    "##Passo 4: \"DIA_SEM\"\n",
    "Não existe essa informação no banco de dados de 1977, logo, este campo será preenchido com 0.\n",
    "\n",
    "####Categorias:\n",
    "Valor|Descrição\n",
    "-----|-----\n",
    "0|Não disponível\n",
    "2|Segunda-Feira\n",
    "3|Terça-Feira\n",
    "4|Quarta-Feira\n",
    "5|Quinta-Feira\n",
    "6|Sexta-Feira"
   ]
  },
  {
   "cell_type": "code",
   "execution_count": 31,
   "metadata": {
    "collapsed": false
   },
   "outputs": [],
   "source": [
    "#Assigning value '0' to all cels of the \"DIA_SEM\" column\n",
    "od1977['DIA_SEM']=0"
   ]
  },
  {
   "cell_type": "code",
   "execution_count": 32,
   "metadata": {
    "collapsed": false
   },
   "outputs": [
    {
     "data": {
      "text/plain": [
       "0    15000\n",
       "dtype: int64"
      ]
     },
     "metadata": {},
     "output_type": "display_data"
    }
   ],
   "source": [
    "if not impressao:\n",
    "    #Counting \"DIA_SEM\" in order to check the values after the procedure\n",
    "    display(od1977['DIA_SEM'].value_counts())"
   ]
  },
  {
   "cell_type": "markdown",
   "metadata": {},
   "source": [
    "-----\n",
    "##Passo 5: \"ZONA_DOM\"\n",
    "Checar se existe algum erro\n",
    "\n",
    "####Categorias:\n",
    "> 1 a 243\n",
    "\n",
    "[Teste: Checar se existe algum número < 1 ou > 243. Se encontrar, retornar erro indicando em qual linha.]"
   ]
  },
  {
   "cell_type": "code",
   "execution_count": 33,
   "metadata": {
    "collapsed": false
   },
   "outputs": [
    {
     "name": "stdout",
     "output_type": "stream",
     "text": [
      "Series([], dtype: int64)\n"
     ]
    }
   ],
   "source": [
    "#Verifying value interval for check - conditions: \"ZONA_DOM < 1\" and \"ZONA_DOM > 243\"\n",
    "#od1977[(od1977['ZONA_DOM']<1) | (od1977['ZONA_DOM']>243)]\n",
    "verifica_RANGE(od1977, 'ZONA_DOM', 1, 243)"
   ]
  },
  {
   "cell_type": "markdown",
   "metadata": {},
   "source": [
    "-----\n",
    "##Passo 6: \"SUBZONA_DOM\"\n",
    "Checar se existe algum erro\n",
    "\n",
    "####Categorias:\n",
    "> 1 a 633\n",
    "\n",
    "[Teste: Checar se existe algum número < 1 ou > 633. Se encontrar, retornar erro indicando em qual linha.]"
   ]
  },
  {
   "cell_type": "code",
   "execution_count": 34,
   "metadata": {
    "collapsed": false
   },
   "outputs": [
    {
     "name": "stdout",
     "output_type": "stream",
     "text": [
      "Series([], dtype: int64)\n"
     ]
    }
   ],
   "source": [
    "#Verifying value interval for check - conditions: \"SUBZONA_DOM < 1\" and \"SUBZONA_DOM > 633\"\n",
    "#od1977[(od1977['SUBZONA_DOM']<1) | (od1977['SUBZONA_DOM']>633)]\n",
    "verifica_RANGE(od1977, 'SUBZONA_DOM', 1, 633)"
   ]
  },
  {
   "cell_type": "markdown",
   "metadata": {},
   "source": [
    "-----\n",
    "##Passo 7: \"MUN_DOM\"\n",
    "Checar se existe algum erro\n",
    "\n",
    "####Categorias\n",
    "> 1 a 27\n",
    "\n",
    "[Teste: Checar se existe algum número < 1 ou > 27. Se encontrar, retornar erro indicando em qual linha.]"
   ]
  },
  {
   "cell_type": "code",
   "execution_count": 35,
   "metadata": {
    "collapsed": false
   },
   "outputs": [
    {
     "name": "stdout",
     "output_type": "stream",
     "text": [
      "Series([], dtype: int64)\n"
     ]
    }
   ],
   "source": [
    "#Verifying value interval for check - conditions: \"MUN_DOM < 1\" and \"MUN_DOM > 27\"\n",
    "#od1977[(od1977['MUN_DOM']<1) | (od1977['MUN_DOM']>27)]\n",
    "verifica_RANGE(od1977, 'MUN_DOM', 1, 27)"
   ]
  },
  {
   "cell_type": "markdown",
   "metadata": {},
   "source": [
    "-----\n",
    "##Passo 8: \"CO_DOM_X\"\n",
    "\n",
    "Na coluna \"CO_DOM_X\", linha i, ler o valor da linha i da coluna \"SUBZONA_DOM\", daí, buscar o mesmo valor na coluna \"SUBZONA\" do arquivo COORD-SUBZONA-1977.csv. Ao achar, retornar o valor da mesma linha, só que da coluna \"CO_X\"\n"
   ]
  },
  {
   "cell_type": "code",
   "execution_count": 38,
   "metadata": {
    "collapsed": false
   },
   "outputs": [
    {
     "ename": "OSError",
     "evalue": "(\"File b'coord_subzonas_1977.csv' does not exist\", 'occurred at index 0')",
     "output_type": "error",
     "traceback": [
      "\u001b[1;31m---------------------------------------------------------------------------\u001b[0m",
      "\u001b[1;31mOSError\u001b[0m                                   Traceback (most recent call last)",
      "\u001b[1;32m<ipython-input-38-941bb3407119>\u001b[0m in \u001b[0;36m<module>\u001b[1;34m()\u001b[0m\n\u001b[0;32m      1\u001b[0m \u001b[1;31m#Getting from the csv file the \"CO_X\" code correspondent to the \"SUBZONA_DOM\" code\u001b[0m\u001b[1;33m\u001b[0m\u001b[1;33m\u001b[0m\u001b[0m\n\u001b[1;32m----> 2\u001b[1;33m \u001b[0mod1977\u001b[0m\u001b[1;33m[\u001b[0m\u001b[1;34m'CO_DOM_X'\u001b[0m\u001b[1;33m]\u001b[0m \u001b[1;33m=\u001b[0m \u001b[0mod1977\u001b[0m\u001b[1;33m.\u001b[0m\u001b[0mapply\u001b[0m\u001b[1;33m(\u001b[0m\u001b[1;32mlambda\u001b[0m \u001b[0mrow\u001b[0m\u001b[1;33m:\u001b[0m \u001b[0mconsulta_refext\u001b[0m\u001b[1;33m(\u001b[0m\u001b[0mrow\u001b[0m\u001b[1;33m,\u001b[0m \u001b[1;34m'coord_subzonas_1977.csv'\u001b[0m\u001b[1;33m,\u001b[0m \u001b[1;34m'SUBZONA'\u001b[0m\u001b[1;33m,\u001b[0m \u001b[1;34m'SUBZONA_DOM'\u001b[0m\u001b[1;33m,\u001b[0m \u001b[1;34m'CO_X'\u001b[0m\u001b[1;33m)\u001b[0m\u001b[1;33m,\u001b[0m \u001b[0maxis\u001b[0m\u001b[1;33m=\u001b[0m\u001b[1;36m1\u001b[0m\u001b[1;33m)\u001b[0m\u001b[1;33m\u001b[0m\u001b[0m\n\u001b[0m",
      "\u001b[1;32m/usr/local/lib/python3.4/dist-packages/pandas/core/frame.py\u001b[0m in \u001b[0;36mapply\u001b[1;34m(self, func, axis, broadcast, raw, reduce, args, **kwds)\u001b[0m\n\u001b[0;32m   3687\u001b[0m                     \u001b[1;32mif\u001b[0m \u001b[0mreduce\u001b[0m \u001b[1;32mis\u001b[0m \u001b[1;32mNone\u001b[0m\u001b[1;33m:\u001b[0m\u001b[1;33m\u001b[0m\u001b[0m\n\u001b[0;32m   3688\u001b[0m                         \u001b[0mreduce\u001b[0m \u001b[1;33m=\u001b[0m \u001b[1;32mTrue\u001b[0m\u001b[1;33m\u001b[0m\u001b[0m\n\u001b[1;32m-> 3689\u001b[1;33m                     \u001b[1;32mreturn\u001b[0m \u001b[0mself\u001b[0m\u001b[1;33m.\u001b[0m\u001b[0m_apply_standard\u001b[0m\u001b[1;33m(\u001b[0m\u001b[0mf\u001b[0m\u001b[1;33m,\u001b[0m \u001b[0maxis\u001b[0m\u001b[1;33m,\u001b[0m \u001b[0mreduce\u001b[0m\u001b[1;33m=\u001b[0m\u001b[0mreduce\u001b[0m\u001b[1;33m)\u001b[0m\u001b[1;33m\u001b[0m\u001b[0m\n\u001b[0m\u001b[0;32m   3690\u001b[0m             \u001b[1;32melse\u001b[0m\u001b[1;33m:\u001b[0m\u001b[1;33m\u001b[0m\u001b[0m\n\u001b[0;32m   3691\u001b[0m                 \u001b[1;32mreturn\u001b[0m \u001b[0mself\u001b[0m\u001b[1;33m.\u001b[0m\u001b[0m_apply_broadcast\u001b[0m\u001b[1;33m(\u001b[0m\u001b[0mf\u001b[0m\u001b[1;33m,\u001b[0m \u001b[0maxis\u001b[0m\u001b[1;33m)\u001b[0m\u001b[1;33m\u001b[0m\u001b[0m\n",
      "\u001b[1;32m/usr/local/lib/python3.4/dist-packages/pandas/core/frame.py\u001b[0m in \u001b[0;36m_apply_standard\u001b[1;34m(self, func, axis, ignore_failures, reduce)\u001b[0m\n\u001b[0;32m   3777\u001b[0m             \u001b[1;32mtry\u001b[0m\u001b[1;33m:\u001b[0m\u001b[1;33m\u001b[0m\u001b[0m\n\u001b[0;32m   3778\u001b[0m                 \u001b[1;32mfor\u001b[0m \u001b[0mi\u001b[0m\u001b[1;33m,\u001b[0m \u001b[0mv\u001b[0m \u001b[1;32min\u001b[0m \u001b[0menumerate\u001b[0m\u001b[1;33m(\u001b[0m\u001b[0mseries_gen\u001b[0m\u001b[1;33m)\u001b[0m\u001b[1;33m:\u001b[0m\u001b[1;33m\u001b[0m\u001b[0m\n\u001b[1;32m-> 3779\u001b[1;33m                     \u001b[0mresults\u001b[0m\u001b[1;33m[\u001b[0m\u001b[0mi\u001b[0m\u001b[1;33m]\u001b[0m \u001b[1;33m=\u001b[0m \u001b[0mfunc\u001b[0m\u001b[1;33m(\u001b[0m\u001b[0mv\u001b[0m\u001b[1;33m)\u001b[0m\u001b[1;33m\u001b[0m\u001b[0m\n\u001b[0m\u001b[0;32m   3780\u001b[0m                     \u001b[0mkeys\u001b[0m\u001b[1;33m.\u001b[0m\u001b[0mappend\u001b[0m\u001b[1;33m(\u001b[0m\u001b[0mv\u001b[0m\u001b[1;33m.\u001b[0m\u001b[0mname\u001b[0m\u001b[1;33m)\u001b[0m\u001b[1;33m\u001b[0m\u001b[0m\n\u001b[0;32m   3781\u001b[0m             \u001b[1;32mexcept\u001b[0m \u001b[0mException\u001b[0m \u001b[1;32mas\u001b[0m \u001b[0me\u001b[0m\u001b[1;33m:\u001b[0m\u001b[1;33m\u001b[0m\u001b[0m\n",
      "\u001b[1;32m<ipython-input-38-941bb3407119>\u001b[0m in \u001b[0;36m<lambda>\u001b[1;34m(row)\u001b[0m\n\u001b[0;32m      1\u001b[0m \u001b[1;31m#Getting from the csv file the \"CO_X\" code correspondent to the \"SUBZONA_DOM\" code\u001b[0m\u001b[1;33m\u001b[0m\u001b[1;33m\u001b[0m\u001b[0m\n\u001b[1;32m----> 2\u001b[1;33m \u001b[0mod1977\u001b[0m\u001b[1;33m[\u001b[0m\u001b[1;34m'CO_DOM_X'\u001b[0m\u001b[1;33m]\u001b[0m \u001b[1;33m=\u001b[0m \u001b[0mod1977\u001b[0m\u001b[1;33m.\u001b[0m\u001b[0mapply\u001b[0m\u001b[1;33m(\u001b[0m\u001b[1;32mlambda\u001b[0m \u001b[0mrow\u001b[0m\u001b[1;33m:\u001b[0m \u001b[0mconsulta_refext\u001b[0m\u001b[1;33m(\u001b[0m\u001b[0mrow\u001b[0m\u001b[1;33m,\u001b[0m \u001b[1;34m'coord_subzonas_1977.csv'\u001b[0m\u001b[1;33m,\u001b[0m \u001b[1;34m'SUBZONA'\u001b[0m\u001b[1;33m,\u001b[0m \u001b[1;34m'SUBZONA_DOM'\u001b[0m\u001b[1;33m,\u001b[0m \u001b[1;34m'CO_X'\u001b[0m\u001b[1;33m)\u001b[0m\u001b[1;33m,\u001b[0m \u001b[0maxis\u001b[0m\u001b[1;33m=\u001b[0m\u001b[1;36m1\u001b[0m\u001b[1;33m)\u001b[0m\u001b[1;33m\u001b[0m\u001b[0m\n\u001b[0m",
      "\u001b[1;32m<ipython-input-2-e86902145311>\u001b[0m in \u001b[0;36mconsulta_refext\u001b[1;34m(row, name_file, name_col_ref, name_col_filt, name_col_search)\u001b[0m\n\u001b[0;32m     12\u001b[0m     \u001b[1;32mif\u001b[0m \u001b[0mrow\u001b[0m \u001b[1;33m[\u001b[0m\u001b[0mname_col_filt\u001b[0m\u001b[1;33m]\u001b[0m\u001b[1;33m==\u001b[0m\u001b[1;36m0\u001b[0m\u001b[1;33m:\u001b[0m\u001b[1;33m\u001b[0m\u001b[0m\n\u001b[0;32m     13\u001b[0m         \u001b[1;32mreturn\u001b[0m \u001b[0mrow\u001b[0m\u001b[1;33m[\u001b[0m\u001b[0mname_col_filt\u001b[0m\u001b[1;33m]\u001b[0m\u001b[1;33m\u001b[0m\u001b[0m\n\u001b[1;32m---> 14\u001b[1;33m     \u001b[0mdata_frame\u001b[0m \u001b[1;33m=\u001b[0m \u001b[0mpd\u001b[0m\u001b[1;33m.\u001b[0m\u001b[0mread_csv\u001b[0m\u001b[1;33m(\u001b[0m\u001b[0mname_file\u001b[0m\u001b[1;33m,\u001b[0m\u001b[0msep\u001b[0m\u001b[1;33m=\u001b[0m\u001b[1;34m';'\u001b[0m\u001b[1;33m)\u001b[0m\u001b[1;33m\u001b[0m\u001b[0m\n\u001b[0m\u001b[0;32m     15\u001b[0m     \u001b[1;32mreturn\u001b[0m \u001b[0mint\u001b[0m\u001b[1;33m(\u001b[0m\u001b[0mdata_frame\u001b[0m\u001b[1;33m[\u001b[0m\u001b[0mdata_frame\u001b[0m\u001b[1;33m[\u001b[0m\u001b[0mname_col_ref\u001b[0m\u001b[1;33m]\u001b[0m\u001b[1;33m==\u001b[0m\u001b[0mrow\u001b[0m\u001b[1;33m[\u001b[0m\u001b[0mname_col_filt\u001b[0m\u001b[1;33m]\u001b[0m\u001b[1;33m]\u001b[0m\u001b[1;33m[\u001b[0m\u001b[0mname_col_search\u001b[0m\u001b[1;33m]\u001b[0m\u001b[1;33m)\u001b[0m\u001b[1;33m\u001b[0m\u001b[0m\n",
      "\u001b[1;32m/usr/local/lib/python3.4/dist-packages/pandas/io/parsers.py\u001b[0m in \u001b[0;36mparser_f\u001b[1;34m(filepath_or_buffer, sep, dialect, compression, doublequote, escapechar, quotechar, quoting, skipinitialspace, lineterminator, header, index_col, names, prefix, skiprows, skipfooter, skip_footer, na_values, na_fvalues, true_values, false_values, delimiter, converters, dtype, usecols, engine, delim_whitespace, as_recarray, na_filter, compact_ints, use_unsigned, low_memory, buffer_lines, warn_bad_lines, error_bad_lines, keep_default_na, thousands, comment, decimal, parse_dates, keep_date_col, dayfirst, date_parser, memory_map, float_precision, nrows, iterator, chunksize, verbose, encoding, squeeze, mangle_dupe_cols, tupleize_cols, infer_datetime_format, skip_blank_lines)\u001b[0m\n\u001b[0;32m    468\u001b[0m                     skip_blank_lines=skip_blank_lines)\n\u001b[0;32m    469\u001b[0m \u001b[1;33m\u001b[0m\u001b[0m\n\u001b[1;32m--> 470\u001b[1;33m         \u001b[1;32mreturn\u001b[0m \u001b[0m_read\u001b[0m\u001b[1;33m(\u001b[0m\u001b[0mfilepath_or_buffer\u001b[0m\u001b[1;33m,\u001b[0m \u001b[0mkwds\u001b[0m\u001b[1;33m)\u001b[0m\u001b[1;33m\u001b[0m\u001b[0m\n\u001b[0m\u001b[0;32m    471\u001b[0m \u001b[1;33m\u001b[0m\u001b[0m\n\u001b[0;32m    472\u001b[0m     \u001b[0mparser_f\u001b[0m\u001b[1;33m.\u001b[0m\u001b[0m__name__\u001b[0m \u001b[1;33m=\u001b[0m \u001b[0mname\u001b[0m\u001b[1;33m\u001b[0m\u001b[0m\n",
      "\u001b[1;32m/usr/local/lib/python3.4/dist-packages/pandas/io/parsers.py\u001b[0m in \u001b[0;36m_read\u001b[1;34m(filepath_or_buffer, kwds)\u001b[0m\n\u001b[0;32m    244\u001b[0m \u001b[1;33m\u001b[0m\u001b[0m\n\u001b[0;32m    245\u001b[0m     \u001b[1;31m# Create the parser.\u001b[0m\u001b[1;33m\u001b[0m\u001b[1;33m\u001b[0m\u001b[0m\n\u001b[1;32m--> 246\u001b[1;33m     \u001b[0mparser\u001b[0m \u001b[1;33m=\u001b[0m \u001b[0mTextFileReader\u001b[0m\u001b[1;33m(\u001b[0m\u001b[0mfilepath_or_buffer\u001b[0m\u001b[1;33m,\u001b[0m \u001b[1;33m**\u001b[0m\u001b[0mkwds\u001b[0m\u001b[1;33m)\u001b[0m\u001b[1;33m\u001b[0m\u001b[0m\n\u001b[0m\u001b[0;32m    247\u001b[0m \u001b[1;33m\u001b[0m\u001b[0m\n\u001b[0;32m    248\u001b[0m     \u001b[1;32mif\u001b[0m \u001b[1;33m(\u001b[0m\u001b[0mnrows\u001b[0m \u001b[1;32mis\u001b[0m \u001b[1;32mnot\u001b[0m \u001b[1;32mNone\u001b[0m\u001b[1;33m)\u001b[0m \u001b[1;32mand\u001b[0m \u001b[1;33m(\u001b[0m\u001b[0mchunksize\u001b[0m \u001b[1;32mis\u001b[0m \u001b[1;32mnot\u001b[0m \u001b[1;32mNone\u001b[0m\u001b[1;33m)\u001b[0m\u001b[1;33m:\u001b[0m\u001b[1;33m\u001b[0m\u001b[0m\n",
      "\u001b[1;32m/usr/local/lib/python3.4/dist-packages/pandas/io/parsers.py\u001b[0m in \u001b[0;36m__init__\u001b[1;34m(self, f, engine, **kwds)\u001b[0m\n\u001b[0;32m    560\u001b[0m             \u001b[0mself\u001b[0m\u001b[1;33m.\u001b[0m\u001b[0moptions\u001b[0m\u001b[1;33m[\u001b[0m\u001b[1;34m'has_index_names'\u001b[0m\u001b[1;33m]\u001b[0m \u001b[1;33m=\u001b[0m \u001b[0mkwds\u001b[0m\u001b[1;33m[\u001b[0m\u001b[1;34m'has_index_names'\u001b[0m\u001b[1;33m]\u001b[0m\u001b[1;33m\u001b[0m\u001b[0m\n\u001b[0;32m    561\u001b[0m \u001b[1;33m\u001b[0m\u001b[0m\n\u001b[1;32m--> 562\u001b[1;33m         \u001b[0mself\u001b[0m\u001b[1;33m.\u001b[0m\u001b[0m_make_engine\u001b[0m\u001b[1;33m(\u001b[0m\u001b[0mself\u001b[0m\u001b[1;33m.\u001b[0m\u001b[0mengine\u001b[0m\u001b[1;33m)\u001b[0m\u001b[1;33m\u001b[0m\u001b[0m\n\u001b[0m\u001b[0;32m    563\u001b[0m \u001b[1;33m\u001b[0m\u001b[0m\n\u001b[0;32m    564\u001b[0m     \u001b[1;32mdef\u001b[0m \u001b[0m_get_options_with_defaults\u001b[0m\u001b[1;33m(\u001b[0m\u001b[0mself\u001b[0m\u001b[1;33m,\u001b[0m \u001b[0mengine\u001b[0m\u001b[1;33m)\u001b[0m\u001b[1;33m:\u001b[0m\u001b[1;33m\u001b[0m\u001b[0m\n",
      "\u001b[1;32m/usr/local/lib/python3.4/dist-packages/pandas/io/parsers.py\u001b[0m in \u001b[0;36m_make_engine\u001b[1;34m(self, engine)\u001b[0m\n\u001b[0;32m    697\u001b[0m     \u001b[1;32mdef\u001b[0m \u001b[0m_make_engine\u001b[0m\u001b[1;33m(\u001b[0m\u001b[0mself\u001b[0m\u001b[1;33m,\u001b[0m \u001b[0mengine\u001b[0m\u001b[1;33m=\u001b[0m\u001b[1;34m'c'\u001b[0m\u001b[1;33m)\u001b[0m\u001b[1;33m:\u001b[0m\u001b[1;33m\u001b[0m\u001b[0m\n\u001b[0;32m    698\u001b[0m         \u001b[1;32mif\u001b[0m \u001b[0mengine\u001b[0m \u001b[1;33m==\u001b[0m \u001b[1;34m'c'\u001b[0m\u001b[1;33m:\u001b[0m\u001b[1;33m\u001b[0m\u001b[0m\n\u001b[1;32m--> 699\u001b[1;33m             \u001b[0mself\u001b[0m\u001b[1;33m.\u001b[0m\u001b[0m_engine\u001b[0m \u001b[1;33m=\u001b[0m \u001b[0mCParserWrapper\u001b[0m\u001b[1;33m(\u001b[0m\u001b[0mself\u001b[0m\u001b[1;33m.\u001b[0m\u001b[0mf\u001b[0m\u001b[1;33m,\u001b[0m \u001b[1;33m**\u001b[0m\u001b[0mself\u001b[0m\u001b[1;33m.\u001b[0m\u001b[0moptions\u001b[0m\u001b[1;33m)\u001b[0m\u001b[1;33m\u001b[0m\u001b[0m\n\u001b[0m\u001b[0;32m    700\u001b[0m         \u001b[1;32melse\u001b[0m\u001b[1;33m:\u001b[0m\u001b[1;33m\u001b[0m\u001b[0m\n\u001b[0;32m    701\u001b[0m             \u001b[1;32mif\u001b[0m \u001b[0mengine\u001b[0m \u001b[1;33m==\u001b[0m \u001b[1;34m'python'\u001b[0m\u001b[1;33m:\u001b[0m\u001b[1;33m\u001b[0m\u001b[0m\n",
      "\u001b[1;32m/usr/local/lib/python3.4/dist-packages/pandas/io/parsers.py\u001b[0m in \u001b[0;36m__init__\u001b[1;34m(self, src, **kwds)\u001b[0m\n\u001b[0;32m   1064\u001b[0m         \u001b[0mkwds\u001b[0m\u001b[1;33m[\u001b[0m\u001b[1;34m'allow_leading_cols'\u001b[0m\u001b[1;33m]\u001b[0m \u001b[1;33m=\u001b[0m \u001b[0mself\u001b[0m\u001b[1;33m.\u001b[0m\u001b[0mindex_col\u001b[0m \u001b[1;32mis\u001b[0m \u001b[1;32mnot\u001b[0m \u001b[1;32mFalse\u001b[0m\u001b[1;33m\u001b[0m\u001b[0m\n\u001b[0;32m   1065\u001b[0m \u001b[1;33m\u001b[0m\u001b[0m\n\u001b[1;32m-> 1066\u001b[1;33m         \u001b[0mself\u001b[0m\u001b[1;33m.\u001b[0m\u001b[0m_reader\u001b[0m \u001b[1;33m=\u001b[0m \u001b[0m_parser\u001b[0m\u001b[1;33m.\u001b[0m\u001b[0mTextReader\u001b[0m\u001b[1;33m(\u001b[0m\u001b[0msrc\u001b[0m\u001b[1;33m,\u001b[0m \u001b[1;33m**\u001b[0m\u001b[0mkwds\u001b[0m\u001b[1;33m)\u001b[0m\u001b[1;33m\u001b[0m\u001b[0m\n\u001b[0m\u001b[0;32m   1067\u001b[0m \u001b[1;33m\u001b[0m\u001b[0m\n\u001b[0;32m   1068\u001b[0m         \u001b[1;31m# XXX\u001b[0m\u001b[1;33m\u001b[0m\u001b[1;33m\u001b[0m\u001b[0m\n",
      "\u001b[1;32mpandas/parser.pyx\u001b[0m in \u001b[0;36mpandas.parser.TextReader.__cinit__ (pandas/parser.c:3163)\u001b[1;34m()\u001b[0m\n",
      "\u001b[1;32mpandas/parser.pyx\u001b[0m in \u001b[0;36mpandas.parser.TextReader._setup_parser_source (pandas/parser.c:5779)\u001b[1;34m()\u001b[0m\n",
      "\u001b[1;31mOSError\u001b[0m: (\"File b'coord_subzonas_1977.csv' does not exist\", 'occurred at index 0')"
     ]
    }
   ],
   "source": [
    "#Getting from the csv file the \"CO_X\" code correspondent to the \"SUBZONA_DOM\" code\n",
    "od1977['CO_DOM_X'] = od1977.apply(lambda row: consulta_refext(row, 'coord_subzonas_1977.csv', 'SUBZONA', 'SUBZONA_DOM', 'CO_X'), axis=1)"
   ]
  },
  {
   "cell_type": "markdown",
   "metadata": {},
   "source": [
    "-----\n",
    "##Passo 9: \"CO_DOM_Y\"\n",
    "\n",
    "Na coluna \"CO_DOM_Y\", linha i, ler o valor da linha i da coluna \"SUBZONA_DOM\", daí, buscar o mesmo valor na coluna \"SUBZONA\" do arquivo COORD-SUBZONA-1977.csv. Ao achar, retornar o valor da mesma linha, só que da coluna \"CO_Y\""
   ]
  },
  {
   "cell_type": "code",
   "execution_count": 39,
   "metadata": {
    "collapsed": false
   },
   "outputs": [
    {
     "ename": "OSError",
     "evalue": "(\"File b'COORD-SUBZONA-1977.csv' does not exist\", 'occurred at index 0')",
     "output_type": "error",
     "traceback": [
      "\u001b[1;31m---------------------------------------------------------------------------\u001b[0m",
      "\u001b[1;31mOSError\u001b[0m                                   Traceback (most recent call last)",
      "\u001b[1;32m<ipython-input-39-402be06611e0>\u001b[0m in \u001b[0;36m<module>\u001b[1;34m()\u001b[0m\n\u001b[0;32m      1\u001b[0m \u001b[1;31m#Getting from the csv file the \"CO_Y\" code correspondent to the \"SUBZONA_DOM\" code\u001b[0m\u001b[1;33m\u001b[0m\u001b[1;33m\u001b[0m\u001b[0m\n\u001b[1;32m----> 2\u001b[1;33m \u001b[0mod1977\u001b[0m\u001b[1;33m[\u001b[0m\u001b[1;34m'CO_DOM_Y'\u001b[0m\u001b[1;33m]\u001b[0m \u001b[1;33m=\u001b[0m \u001b[0mod1977\u001b[0m\u001b[1;33m.\u001b[0m\u001b[0mapply\u001b[0m\u001b[1;33m(\u001b[0m\u001b[1;32mlambda\u001b[0m \u001b[0mrow\u001b[0m\u001b[1;33m:\u001b[0m \u001b[0mconsulta_refext\u001b[0m\u001b[1;33m(\u001b[0m\u001b[0mrow\u001b[0m\u001b[1;33m,\u001b[0m \u001b[1;34m'COORD-SUBZONA-1977.csv'\u001b[0m\u001b[1;33m,\u001b[0m \u001b[1;34m'SUBZONA'\u001b[0m\u001b[1;33m,\u001b[0m \u001b[1;34m'SUBZONA_DOM'\u001b[0m\u001b[1;33m,\u001b[0m \u001b[1;34m'CO_Y'\u001b[0m\u001b[1;33m)\u001b[0m\u001b[1;33m,\u001b[0m \u001b[0maxis\u001b[0m\u001b[1;33m=\u001b[0m\u001b[1;36m1\u001b[0m\u001b[1;33m)\u001b[0m\u001b[1;33m\u001b[0m\u001b[0m\n\u001b[0m",
      "\u001b[1;32m/usr/local/lib/python3.4/dist-packages/pandas/core/frame.py\u001b[0m in \u001b[0;36mapply\u001b[1;34m(self, func, axis, broadcast, raw, reduce, args, **kwds)\u001b[0m\n\u001b[0;32m   3687\u001b[0m                     \u001b[1;32mif\u001b[0m \u001b[0mreduce\u001b[0m \u001b[1;32mis\u001b[0m \u001b[1;32mNone\u001b[0m\u001b[1;33m:\u001b[0m\u001b[1;33m\u001b[0m\u001b[0m\n\u001b[0;32m   3688\u001b[0m                         \u001b[0mreduce\u001b[0m \u001b[1;33m=\u001b[0m \u001b[1;32mTrue\u001b[0m\u001b[1;33m\u001b[0m\u001b[0m\n\u001b[1;32m-> 3689\u001b[1;33m                     \u001b[1;32mreturn\u001b[0m \u001b[0mself\u001b[0m\u001b[1;33m.\u001b[0m\u001b[0m_apply_standard\u001b[0m\u001b[1;33m(\u001b[0m\u001b[0mf\u001b[0m\u001b[1;33m,\u001b[0m \u001b[0maxis\u001b[0m\u001b[1;33m,\u001b[0m \u001b[0mreduce\u001b[0m\u001b[1;33m=\u001b[0m\u001b[0mreduce\u001b[0m\u001b[1;33m)\u001b[0m\u001b[1;33m\u001b[0m\u001b[0m\n\u001b[0m\u001b[0;32m   3690\u001b[0m             \u001b[1;32melse\u001b[0m\u001b[1;33m:\u001b[0m\u001b[1;33m\u001b[0m\u001b[0m\n\u001b[0;32m   3691\u001b[0m                 \u001b[1;32mreturn\u001b[0m \u001b[0mself\u001b[0m\u001b[1;33m.\u001b[0m\u001b[0m_apply_broadcast\u001b[0m\u001b[1;33m(\u001b[0m\u001b[0mf\u001b[0m\u001b[1;33m,\u001b[0m \u001b[0maxis\u001b[0m\u001b[1;33m)\u001b[0m\u001b[1;33m\u001b[0m\u001b[0m\n",
      "\u001b[1;32m/usr/local/lib/python3.4/dist-packages/pandas/core/frame.py\u001b[0m in \u001b[0;36m_apply_standard\u001b[1;34m(self, func, axis, ignore_failures, reduce)\u001b[0m\n\u001b[0;32m   3777\u001b[0m             \u001b[1;32mtry\u001b[0m\u001b[1;33m:\u001b[0m\u001b[1;33m\u001b[0m\u001b[0m\n\u001b[0;32m   3778\u001b[0m                 \u001b[1;32mfor\u001b[0m \u001b[0mi\u001b[0m\u001b[1;33m,\u001b[0m \u001b[0mv\u001b[0m \u001b[1;32min\u001b[0m \u001b[0menumerate\u001b[0m\u001b[1;33m(\u001b[0m\u001b[0mseries_gen\u001b[0m\u001b[1;33m)\u001b[0m\u001b[1;33m:\u001b[0m\u001b[1;33m\u001b[0m\u001b[0m\n\u001b[1;32m-> 3779\u001b[1;33m                     \u001b[0mresults\u001b[0m\u001b[1;33m[\u001b[0m\u001b[0mi\u001b[0m\u001b[1;33m]\u001b[0m \u001b[1;33m=\u001b[0m \u001b[0mfunc\u001b[0m\u001b[1;33m(\u001b[0m\u001b[0mv\u001b[0m\u001b[1;33m)\u001b[0m\u001b[1;33m\u001b[0m\u001b[0m\n\u001b[0m\u001b[0;32m   3780\u001b[0m                     \u001b[0mkeys\u001b[0m\u001b[1;33m.\u001b[0m\u001b[0mappend\u001b[0m\u001b[1;33m(\u001b[0m\u001b[0mv\u001b[0m\u001b[1;33m.\u001b[0m\u001b[0mname\u001b[0m\u001b[1;33m)\u001b[0m\u001b[1;33m\u001b[0m\u001b[0m\n\u001b[0;32m   3781\u001b[0m             \u001b[1;32mexcept\u001b[0m \u001b[0mException\u001b[0m \u001b[1;32mas\u001b[0m \u001b[0me\u001b[0m\u001b[1;33m:\u001b[0m\u001b[1;33m\u001b[0m\u001b[0m\n",
      "\u001b[1;32m<ipython-input-39-402be06611e0>\u001b[0m in \u001b[0;36m<lambda>\u001b[1;34m(row)\u001b[0m\n\u001b[0;32m      1\u001b[0m \u001b[1;31m#Getting from the csv file the \"CO_Y\" code correspondent to the \"SUBZONA_DOM\" code\u001b[0m\u001b[1;33m\u001b[0m\u001b[1;33m\u001b[0m\u001b[0m\n\u001b[1;32m----> 2\u001b[1;33m \u001b[0mod1977\u001b[0m\u001b[1;33m[\u001b[0m\u001b[1;34m'CO_DOM_Y'\u001b[0m\u001b[1;33m]\u001b[0m \u001b[1;33m=\u001b[0m \u001b[0mod1977\u001b[0m\u001b[1;33m.\u001b[0m\u001b[0mapply\u001b[0m\u001b[1;33m(\u001b[0m\u001b[1;32mlambda\u001b[0m \u001b[0mrow\u001b[0m\u001b[1;33m:\u001b[0m \u001b[0mconsulta_refext\u001b[0m\u001b[1;33m(\u001b[0m\u001b[0mrow\u001b[0m\u001b[1;33m,\u001b[0m \u001b[1;34m'COORD-SUBZONA-1977.csv'\u001b[0m\u001b[1;33m,\u001b[0m \u001b[1;34m'SUBZONA'\u001b[0m\u001b[1;33m,\u001b[0m \u001b[1;34m'SUBZONA_DOM'\u001b[0m\u001b[1;33m,\u001b[0m \u001b[1;34m'CO_Y'\u001b[0m\u001b[1;33m)\u001b[0m\u001b[1;33m,\u001b[0m \u001b[0maxis\u001b[0m\u001b[1;33m=\u001b[0m\u001b[1;36m1\u001b[0m\u001b[1;33m)\u001b[0m\u001b[1;33m\u001b[0m\u001b[0m\n\u001b[0m",
      "\u001b[1;32m<ipython-input-2-e86902145311>\u001b[0m in \u001b[0;36mconsulta_refext\u001b[1;34m(row, name_file, name_col_ref, name_col_filt, name_col_search)\u001b[0m\n\u001b[0;32m     12\u001b[0m     \u001b[1;32mif\u001b[0m \u001b[0mrow\u001b[0m \u001b[1;33m[\u001b[0m\u001b[0mname_col_filt\u001b[0m\u001b[1;33m]\u001b[0m\u001b[1;33m==\u001b[0m\u001b[1;36m0\u001b[0m\u001b[1;33m:\u001b[0m\u001b[1;33m\u001b[0m\u001b[0m\n\u001b[0;32m     13\u001b[0m         \u001b[1;32mreturn\u001b[0m \u001b[0mrow\u001b[0m\u001b[1;33m[\u001b[0m\u001b[0mname_col_filt\u001b[0m\u001b[1;33m]\u001b[0m\u001b[1;33m\u001b[0m\u001b[0m\n\u001b[1;32m---> 14\u001b[1;33m     \u001b[0mdata_frame\u001b[0m \u001b[1;33m=\u001b[0m \u001b[0mpd\u001b[0m\u001b[1;33m.\u001b[0m\u001b[0mread_csv\u001b[0m\u001b[1;33m(\u001b[0m\u001b[0mname_file\u001b[0m\u001b[1;33m,\u001b[0m\u001b[0msep\u001b[0m\u001b[1;33m=\u001b[0m\u001b[1;34m';'\u001b[0m\u001b[1;33m)\u001b[0m\u001b[1;33m\u001b[0m\u001b[0m\n\u001b[0m\u001b[0;32m     15\u001b[0m     \u001b[1;32mreturn\u001b[0m \u001b[0mint\u001b[0m\u001b[1;33m(\u001b[0m\u001b[0mdata_frame\u001b[0m\u001b[1;33m[\u001b[0m\u001b[0mdata_frame\u001b[0m\u001b[1;33m[\u001b[0m\u001b[0mname_col_ref\u001b[0m\u001b[1;33m]\u001b[0m\u001b[1;33m==\u001b[0m\u001b[0mrow\u001b[0m\u001b[1;33m[\u001b[0m\u001b[0mname_col_filt\u001b[0m\u001b[1;33m]\u001b[0m\u001b[1;33m]\u001b[0m\u001b[1;33m[\u001b[0m\u001b[0mname_col_search\u001b[0m\u001b[1;33m]\u001b[0m\u001b[1;33m)\u001b[0m\u001b[1;33m\u001b[0m\u001b[0m\n",
      "\u001b[1;32m/usr/local/lib/python3.4/dist-packages/pandas/io/parsers.py\u001b[0m in \u001b[0;36mparser_f\u001b[1;34m(filepath_or_buffer, sep, dialect, compression, doublequote, escapechar, quotechar, quoting, skipinitialspace, lineterminator, header, index_col, names, prefix, skiprows, skipfooter, skip_footer, na_values, na_fvalues, true_values, false_values, delimiter, converters, dtype, usecols, engine, delim_whitespace, as_recarray, na_filter, compact_ints, use_unsigned, low_memory, buffer_lines, warn_bad_lines, error_bad_lines, keep_default_na, thousands, comment, decimal, parse_dates, keep_date_col, dayfirst, date_parser, memory_map, float_precision, nrows, iterator, chunksize, verbose, encoding, squeeze, mangle_dupe_cols, tupleize_cols, infer_datetime_format, skip_blank_lines)\u001b[0m\n\u001b[0;32m    468\u001b[0m                     skip_blank_lines=skip_blank_lines)\n\u001b[0;32m    469\u001b[0m \u001b[1;33m\u001b[0m\u001b[0m\n\u001b[1;32m--> 470\u001b[1;33m         \u001b[1;32mreturn\u001b[0m \u001b[0m_read\u001b[0m\u001b[1;33m(\u001b[0m\u001b[0mfilepath_or_buffer\u001b[0m\u001b[1;33m,\u001b[0m \u001b[0mkwds\u001b[0m\u001b[1;33m)\u001b[0m\u001b[1;33m\u001b[0m\u001b[0m\n\u001b[0m\u001b[0;32m    471\u001b[0m \u001b[1;33m\u001b[0m\u001b[0m\n\u001b[0;32m    472\u001b[0m     \u001b[0mparser_f\u001b[0m\u001b[1;33m.\u001b[0m\u001b[0m__name__\u001b[0m \u001b[1;33m=\u001b[0m \u001b[0mname\u001b[0m\u001b[1;33m\u001b[0m\u001b[0m\n",
      "\u001b[1;32m/usr/local/lib/python3.4/dist-packages/pandas/io/parsers.py\u001b[0m in \u001b[0;36m_read\u001b[1;34m(filepath_or_buffer, kwds)\u001b[0m\n\u001b[0;32m    244\u001b[0m \u001b[1;33m\u001b[0m\u001b[0m\n\u001b[0;32m    245\u001b[0m     \u001b[1;31m# Create the parser.\u001b[0m\u001b[1;33m\u001b[0m\u001b[1;33m\u001b[0m\u001b[0m\n\u001b[1;32m--> 246\u001b[1;33m     \u001b[0mparser\u001b[0m \u001b[1;33m=\u001b[0m \u001b[0mTextFileReader\u001b[0m\u001b[1;33m(\u001b[0m\u001b[0mfilepath_or_buffer\u001b[0m\u001b[1;33m,\u001b[0m \u001b[1;33m**\u001b[0m\u001b[0mkwds\u001b[0m\u001b[1;33m)\u001b[0m\u001b[1;33m\u001b[0m\u001b[0m\n\u001b[0m\u001b[0;32m    247\u001b[0m \u001b[1;33m\u001b[0m\u001b[0m\n\u001b[0;32m    248\u001b[0m     \u001b[1;32mif\u001b[0m \u001b[1;33m(\u001b[0m\u001b[0mnrows\u001b[0m \u001b[1;32mis\u001b[0m \u001b[1;32mnot\u001b[0m \u001b[1;32mNone\u001b[0m\u001b[1;33m)\u001b[0m \u001b[1;32mand\u001b[0m \u001b[1;33m(\u001b[0m\u001b[0mchunksize\u001b[0m \u001b[1;32mis\u001b[0m \u001b[1;32mnot\u001b[0m \u001b[1;32mNone\u001b[0m\u001b[1;33m)\u001b[0m\u001b[1;33m:\u001b[0m\u001b[1;33m\u001b[0m\u001b[0m\n",
      "\u001b[1;32m/usr/local/lib/python3.4/dist-packages/pandas/io/parsers.py\u001b[0m in \u001b[0;36m__init__\u001b[1;34m(self, f, engine, **kwds)\u001b[0m\n\u001b[0;32m    560\u001b[0m             \u001b[0mself\u001b[0m\u001b[1;33m.\u001b[0m\u001b[0moptions\u001b[0m\u001b[1;33m[\u001b[0m\u001b[1;34m'has_index_names'\u001b[0m\u001b[1;33m]\u001b[0m \u001b[1;33m=\u001b[0m \u001b[0mkwds\u001b[0m\u001b[1;33m[\u001b[0m\u001b[1;34m'has_index_names'\u001b[0m\u001b[1;33m]\u001b[0m\u001b[1;33m\u001b[0m\u001b[0m\n\u001b[0;32m    561\u001b[0m \u001b[1;33m\u001b[0m\u001b[0m\n\u001b[1;32m--> 562\u001b[1;33m         \u001b[0mself\u001b[0m\u001b[1;33m.\u001b[0m\u001b[0m_make_engine\u001b[0m\u001b[1;33m(\u001b[0m\u001b[0mself\u001b[0m\u001b[1;33m.\u001b[0m\u001b[0mengine\u001b[0m\u001b[1;33m)\u001b[0m\u001b[1;33m\u001b[0m\u001b[0m\n\u001b[0m\u001b[0;32m    563\u001b[0m \u001b[1;33m\u001b[0m\u001b[0m\n\u001b[0;32m    564\u001b[0m     \u001b[1;32mdef\u001b[0m \u001b[0m_get_options_with_defaults\u001b[0m\u001b[1;33m(\u001b[0m\u001b[0mself\u001b[0m\u001b[1;33m,\u001b[0m \u001b[0mengine\u001b[0m\u001b[1;33m)\u001b[0m\u001b[1;33m:\u001b[0m\u001b[1;33m\u001b[0m\u001b[0m\n",
      "\u001b[1;32m/usr/local/lib/python3.4/dist-packages/pandas/io/parsers.py\u001b[0m in \u001b[0;36m_make_engine\u001b[1;34m(self, engine)\u001b[0m\n\u001b[0;32m    697\u001b[0m     \u001b[1;32mdef\u001b[0m \u001b[0m_make_engine\u001b[0m\u001b[1;33m(\u001b[0m\u001b[0mself\u001b[0m\u001b[1;33m,\u001b[0m \u001b[0mengine\u001b[0m\u001b[1;33m=\u001b[0m\u001b[1;34m'c'\u001b[0m\u001b[1;33m)\u001b[0m\u001b[1;33m:\u001b[0m\u001b[1;33m\u001b[0m\u001b[0m\n\u001b[0;32m    698\u001b[0m         \u001b[1;32mif\u001b[0m \u001b[0mengine\u001b[0m \u001b[1;33m==\u001b[0m \u001b[1;34m'c'\u001b[0m\u001b[1;33m:\u001b[0m\u001b[1;33m\u001b[0m\u001b[0m\n\u001b[1;32m--> 699\u001b[1;33m             \u001b[0mself\u001b[0m\u001b[1;33m.\u001b[0m\u001b[0m_engine\u001b[0m \u001b[1;33m=\u001b[0m \u001b[0mCParserWrapper\u001b[0m\u001b[1;33m(\u001b[0m\u001b[0mself\u001b[0m\u001b[1;33m.\u001b[0m\u001b[0mf\u001b[0m\u001b[1;33m,\u001b[0m \u001b[1;33m**\u001b[0m\u001b[0mself\u001b[0m\u001b[1;33m.\u001b[0m\u001b[0moptions\u001b[0m\u001b[1;33m)\u001b[0m\u001b[1;33m\u001b[0m\u001b[0m\n\u001b[0m\u001b[0;32m    700\u001b[0m         \u001b[1;32melse\u001b[0m\u001b[1;33m:\u001b[0m\u001b[1;33m\u001b[0m\u001b[0m\n\u001b[0;32m    701\u001b[0m             \u001b[1;32mif\u001b[0m \u001b[0mengine\u001b[0m \u001b[1;33m==\u001b[0m \u001b[1;34m'python'\u001b[0m\u001b[1;33m:\u001b[0m\u001b[1;33m\u001b[0m\u001b[0m\n",
      "\u001b[1;32m/usr/local/lib/python3.4/dist-packages/pandas/io/parsers.py\u001b[0m in \u001b[0;36m__init__\u001b[1;34m(self, src, **kwds)\u001b[0m\n\u001b[0;32m   1064\u001b[0m         \u001b[0mkwds\u001b[0m\u001b[1;33m[\u001b[0m\u001b[1;34m'allow_leading_cols'\u001b[0m\u001b[1;33m]\u001b[0m \u001b[1;33m=\u001b[0m \u001b[0mself\u001b[0m\u001b[1;33m.\u001b[0m\u001b[0mindex_col\u001b[0m \u001b[1;32mis\u001b[0m \u001b[1;32mnot\u001b[0m \u001b[1;32mFalse\u001b[0m\u001b[1;33m\u001b[0m\u001b[0m\n\u001b[0;32m   1065\u001b[0m \u001b[1;33m\u001b[0m\u001b[0m\n\u001b[1;32m-> 1066\u001b[1;33m         \u001b[0mself\u001b[0m\u001b[1;33m.\u001b[0m\u001b[0m_reader\u001b[0m \u001b[1;33m=\u001b[0m \u001b[0m_parser\u001b[0m\u001b[1;33m.\u001b[0m\u001b[0mTextReader\u001b[0m\u001b[1;33m(\u001b[0m\u001b[0msrc\u001b[0m\u001b[1;33m,\u001b[0m \u001b[1;33m**\u001b[0m\u001b[0mkwds\u001b[0m\u001b[1;33m)\u001b[0m\u001b[1;33m\u001b[0m\u001b[0m\n\u001b[0m\u001b[0;32m   1067\u001b[0m \u001b[1;33m\u001b[0m\u001b[0m\n\u001b[0;32m   1068\u001b[0m         \u001b[1;31m# XXX\u001b[0m\u001b[1;33m\u001b[0m\u001b[1;33m\u001b[0m\u001b[0m\n",
      "\u001b[1;32mpandas/parser.pyx\u001b[0m in \u001b[0;36mpandas.parser.TextReader.__cinit__ (pandas/parser.c:3163)\u001b[1;34m()\u001b[0m\n",
      "\u001b[1;32mpandas/parser.pyx\u001b[0m in \u001b[0;36mpandas.parser.TextReader._setup_parser_source (pandas/parser.c:5779)\u001b[1;34m()\u001b[0m\n",
      "\u001b[1;31mOSError\u001b[0m: (\"File b'COORD-SUBZONA-1977.csv' does not exist\", 'occurred at index 0')"
     ]
    }
   ],
   "source": [
    "#Getting from the csv file the \"CO_Y\" code correspondent to the \"SUBZONA_DOM\" code\n",
    "od1977['CO_DOM_Y'] = od1977.apply(lambda row: consulta_refext(row, 'COORD-SUBZONA-1977.csv', 'SUBZONA', 'SUBZONA_DOM', 'CO_Y'), axis=1)"
   ]
  },
  {
   "cell_type": "markdown",
   "metadata": {},
   "source": [
    "-----\n",
    "##Passo 10: \"ID_DOM\"\n",
    "construir o \"ID_DOM\"\n",
    "\n",
    "[Na coluna \"ID_DOM\", linha i, ler o valor da linha i da coluna \"ZONA_DOM\", e concatenar esse valor (com 3 dígitos) com o número do domicílio , que é o valor da linha i da coluna \"NO_DOM\" (com 4 dígitos). Resultado será um ID_DOM, que pode se repetir nas linhas, de 7 dígitos. Isso deve ser concatenado com o \"Ano\". Resultado = 8 dígitos]\n",
    "\n",
    "Outra possibilidade, concatenar com a UCOD ao invés da zona..."
   ]
  },
  {
   "cell_type": "code",
   "execution_count": 41,
   "metadata": {
    "collapsed": true
   },
   "outputs": [],
   "source": [
    "# Generating \"NO_DOM\" as a subindex of each \"ZONA_DOM\"\n",
    "# For each 'ZONA_DOM' the 'NO_DOM' will be updated every time the 'F_DOM' is equal to 1.\n",
    "# Otherwise - if 'F_DOM' is equal to 0; then the 'NO_DOM' will be equal to the 'NO_DOM' from the previous row.\n",
    "\n",
    "def gera_NO_DOM(row):\n",
    "    # Use this function with:\n",
    "    #     dataframe.apply(gera_NO_DOM, axis=1)\n",
    "    #\n",
    "    # Return 1 if the 'NO_DOM' was applied and 0 if it was not.\n",
    "    #\n",
    "    # row.name is the index of the specific row.\n",
    "    \n",
    "    return_value = 1\n",
    "    if row.name == 0 or od1977.loc[row.name, 'ZONA_DOM'] != od1977.loc[row.name - 1, 'ZONA_DOM']:\n",
    "        # If first row of dataframe, then NO_DOM = 1. or\n",
    "        # If first row of a ZONA_DOM, then NO_DOM = 1 also.\n",
    "        # This considers that the dataframe is (also) ordered by ZONA_DOM.\n",
    "        # It is a strong requirement.\n",
    "        od1977.loc[row.name, 'NO_DOM'] = 1\n",
    "    elif row['F_DOM'] == 1:\n",
    "        od1977.loc[row.name, 'NO_DOM'] = od1977.loc[row.name - 1, 'NO_DOM'] + 1\n",
    "    elif row['F_DOM'] == 0:\n",
    "        od1977.loc[row.name, 'NO_DOM'] = od1977.loc[row.name - 1, 'NO_DOM']\n",
    "    else:\n",
    "        print(\"Something went wrong on the ID\" + str(row.name))\n",
    "        return 0\n",
    "    return 1"
   ]
  },
  {
   "cell_type": "code",
   "execution_count": 42,
   "metadata": {
    "collapsed": false
   },
   "outputs": [
    {
     "data": {
      "text/plain": [
       "15000"
      ]
     },
     "execution_count": 42,
     "metadata": {},
     "output_type": "execute_result"
    }
   ],
   "source": [
    "od1977.apply(gera_NO_DOM, axis=1).sum()"
   ]
  },
  {
   "cell_type": "code",
   "execution_count": 43,
   "metadata": {
    "collapsed": true
   },
   "outputs": [],
   "source": [
    "#Generating \"ID_DOM\" from the concatenation of \"ANO\", \"ZONA_DOM\" and \"NO_DOM\" variables\n",
    "od1977['ID_DOM'] = od1977.apply(gera_ID_DOM, axis=1)"
   ]
  },
  {
   "cell_type": "markdown",
   "metadata": {},
   "source": [
    "-----\n",
    "##Passo 11: \"F_DOM\"\n",
    "Checar se existe algum erro na coluna \"F_DOM\"\n",
    "\n",
    "####Categorias\n",
    "Valor|Descrição\n",
    "----|----\n",
    "0|Demais registros\n",
    "1|Primeiro Registro do Domicílio\n",
    "\n",
    "[Teste: Checar se existe algum número diferente de 0 ou 1. Se encontrar, retornar erro indicando em qual linha.]"
   ]
  },
  {
   "cell_type": "code",
   "execution_count": 44,
   "metadata": {
    "collapsed": false
   },
   "outputs": [
    {
     "name": "stdout",
     "output_type": "stream",
     "text": [
      "Total de erros encontrados: 0\n"
     ]
    }
   ],
   "source": [
    "#Verifying if there was left some value other than 0 or 1\n",
    "verifica_DUMMY(od1977, 'F_DOM')"
   ]
  },
  {
   "cell_type": "markdown",
   "metadata": {},
   "source": [
    "-----\n",
    "##\"FE_DOM\" e \"NO_DOM\"\n",
    "Nada há que se fazer em relação aos dados das colunas \"FE_DOM\" e \"NO_DOM\""
   ]
  },
  {
   "cell_type": "markdown",
   "metadata": {},
   "source": [
    "-----\n",
    "##Passo 12: \"TIPO_DOM\"\n",
    "Checar se existe algum erro\n",
    "\n",
    "####Categorias anteriores / novas\n",
    "Valor | Descrição\n",
    "----|----\n",
    "0|Não respondeu\n",
    "1|Particular\n",
    "2|Coletivo\n",
    "\n",
    "[Teste: Checar se existe algum número < 0 ou > 2. Se encontrar, retornar erro indicando em qual linha.]"
   ]
  },
  {
   "cell_type": "code",
   "execution_count": 45,
   "metadata": {
    "collapsed": false
   },
   "outputs": [
    {
     "data": {
      "text/plain": [
       "1    13590\n",
       "2     1274\n",
       "0      136\n",
       "dtype: int64"
      ]
     },
     "metadata": {},
     "output_type": "display_data"
    }
   ],
   "source": [
    "if not impressao:\n",
    "    #Counting for check \"TIPO_DOM\"\n",
    "    display(od1977['TIPO_DOM'].value_counts())"
   ]
  },
  {
   "cell_type": "code",
   "execution_count": 46,
   "metadata": {
    "collapsed": false
   },
   "outputs": [
    {
     "name": "stdout",
     "output_type": "stream",
     "text": [
      "Series([], dtype: int64)\n"
     ]
    }
   ],
   "source": [
    "#Verifying value interval for check - conditions: \"TIPO_DOM < 0\" and \"TIPO_DOM > 2\"\n",
    "#od1977[(od1977['TIPO_DOM']<0) | (od1977['TIPO_DOM']>2)]\n",
    "verifica_RANGE(od1977, 'TIPO_DOM', 0, 2)"
   ]
  },
  {
   "cell_type": "markdown",
   "metadata": {},
   "source": [
    "-----\n",
    "##\"TOT_FAM\"\n",
    "Nada há que se fazer em relação aos dados da coluna \"TOT_FAM\""
   ]
  },
  {
   "cell_type": "markdown",
   "metadata": {},
   "source": [
    "-----\n",
    "##Passo 13: \"ID_FAM\"\n",
    "Construir o \"ID_FAM\"\n",
    "\n",
    "Na coluna \"ID_FAM\", linha i, ler o valor da linha i da coluna \"ID_DOM\", e concatenar esse valor (com 8 dígitos) com o número da família, que é o valor da linha i da coluna \"NO_FAM\" (com 2 dígitos).\n",
    "\n",
    "Resultado será um ID_FAM, que pode se repetir nas linhas, de 10 dígitos."
   ]
  },
  {
   "cell_type": "code",
   "execution_count": 47,
   "metadata": {
    "collapsed": true
   },
   "outputs": [],
   "source": [
    "#Generating \"ID_FAM\" from the concatenation of \"ID_DOM\" and \"NO_FAM\" variables\n",
    "od1977['ID_FAM'] = od1977.apply(gera_ID_FAM, axis=1)"
   ]
  },
  {
   "cell_type": "markdown",
   "metadata": {},
   "source": [
    "-----\n",
    "##Passo 14: \"F_FAM\"\n",
    "Checar se existe algum erro na coluna \"F_FAM\"\n",
    "\n",
    "####Categorias\n",
    "Valor|Descrição\n",
    "----|----\n",
    "0|Demais registros\n",
    "1|Primeiro Registro da Família\n",
    "\n",
    "[Teste: Checar se existe algum número diferente de 0 ou 1. Se encontrar, retornar erro indicando em qual linha.]"
   ]
  },
  {
   "cell_type": "code",
   "execution_count": 48,
   "metadata": {
    "collapsed": false
   },
   "outputs": [
    {
     "name": "stdout",
     "output_type": "stream",
     "text": [
      "Total de erros encontrados: 0\n"
     ]
    }
   ],
   "source": [
    "#Verifying if there was left some value other than 0 or 1\n",
    "verifica_DUMMY(od1977, 'F_FAM')"
   ]
  },
  {
   "cell_type": "markdown",
   "metadata": {},
   "source": [
    "-----\n",
    "##\"FE_FAM\" e \"NO_FAM\"\n",
    "Nada há que se fazer em relação aos dados das colunas \"FE_FAM\" e \"NO_FAM\""
   ]
  },
  {
   "cell_type": "markdown",
   "metadata": {},
   "source": [
    "-----\n",
    "##Passo 15: \"COND_MORA\"\n",
    "Substituir valores da coluna \"COND_MORA\"\n",
    "\n",
    "* Substituir todos valores **1** por **2**\n",
    "* Substituir todos valores **3** por **1**\n",
    "* Substituir todos valores **4** por **3**\n",
    "* Substituir todos valores **5** por **3**\n",
    "* Substituir todos valores **0** por **4**\n",
    "\n",
    "####Categorias anteriores\n",
    "Valor|Descrição\n",
    "----|----\n",
    "1|Própria paga\n",
    "2|Própria em pagamento\n",
    "3|Alugada\n",
    "4|Cedida\n",
    "5|Outro\n",
    "\n",
    "####Categorias novas\n",
    "Valor|Descrição\n",
    "----|----\n",
    "1|Alugada\n",
    "2|Própria\n",
    "3|Outros\n",
    "4|Não respondeu\n",
    "\n",
    "[Teste: Checar se existe algum número < 1 ou > 4. Se encontrar, retornar erro indicando em qual linha.]"
   ]
  },
  {
   "cell_type": "code",
   "execution_count": 49,
   "metadata": {
    "collapsed": false
   },
   "outputs": [
    {
     "data": {
      "text/plain": [
       "3    9614\n",
       "1    3738\n",
       "2     836\n",
       "4     660\n",
       "0     145\n",
       "5       7\n",
       "dtype: int64"
      ]
     },
     "metadata": {},
     "output_type": "display_data"
    }
   ],
   "source": [
    "if not impressao:\n",
    "    #Counting for check \"COND_MORA\"\n",
    "    display(od1977['COND_MORA'].value_counts())"
   ]
  },
  {
   "cell_type": "code",
   "execution_count": 50,
   "metadata": {
    "collapsed": false
   },
   "outputs": [],
   "source": [
    "#Replacing the values 1 for 2\n",
    "od1977.loc[od1977['COND_MORA']==1,'COND_MORA'] = 2\n",
    "#Replacing the values 3 for 1\n",
    "od1977.loc[od1977['COND_MORA']==3,'COND_MORA'] = 1\n",
    "#Replacing the values 4 for 3\n",
    "od1977.loc[od1977['COND_MORA']==4,'COND_MORA'] = 3\n",
    "#Replacing the values 5 for 3\n",
    "od1977.loc[od1977['COND_MORA']==5,'COND_MORA'] = 3\n",
    "#Replacing the values 0 for 4\n",
    "od1977.loc[od1977['COND_MORA']==0,'COND_MORA'] = 4"
   ]
  },
  {
   "cell_type": "code",
   "execution_count": 51,
   "metadata": {
    "collapsed": false
   },
   "outputs": [
    {
     "data": {
      "text/plain": [
       "1    9614\n",
       "2    4574\n",
       "3     667\n",
       "4     145\n",
       "dtype: int64"
      ]
     },
     "metadata": {},
     "output_type": "display_data"
    }
   ],
   "source": [
    "if not impressao:\n",
    "    #Counting \"COND_MORA\" in order to compare the values before and after the replacement\n",
    "    display(od1977['COND_MORA'].value_counts())"
   ]
  },
  {
   "cell_type": "code",
   "execution_count": 52,
   "metadata": {
    "collapsed": false
   },
   "outputs": [
    {
     "name": "stdout",
     "output_type": "stream",
     "text": [
      "Series([], dtype: int64)\n"
     ]
    }
   ],
   "source": [
    "#Verifying value interval for check - conditions: \"COND_MORA < 1\" and \"COND_MORA > 4\"\n",
    "#od1977[(od1977['COND_MORA']<1) | (od1977['COND_MORA']>4)]\n",
    "verifica_RANGE(od1977, 'COND_MORA', 1, 4)"
   ]
  },
  {
   "cell_type": "markdown",
   "metadata": {},
   "source": [
    "-----\n",
    "##\"QT_AUTO\"\n",
    "Nada há que se fazer em relação aos dados da coluna \"QT_AUTO\""
   ]
  },
  {
   "cell_type": "markdown",
   "metadata": {},
   "source": [
    "-----\n",
    "##\"QT_BICI\" e QT_MOTO\"\n",
    "Não existe essa informação no banco de dados de 1977, logo, estes campos serão preenchidos com 0."
   ]
  },
  {
   "cell_type": "code",
   "execution_count": 53,
   "metadata": {
    "collapsed": false
   },
   "outputs": [],
   "source": [
    "#Assigning value '0' to all cels of the \"QT_BICI\" column\n",
    "od1977['QT_BICI']=0"
   ]
  },
  {
   "cell_type": "code",
   "execution_count": 54,
   "metadata": {
    "collapsed": false
   },
   "outputs": [
    {
     "data": {
      "text/plain": [
       "0    15000\n",
       "dtype: int64"
      ]
     },
     "metadata": {},
     "output_type": "display_data"
    }
   ],
   "source": [
    "if not impressao:\n",
    "    #Counting \"QT_BICI\" in order to check the values after the procedure\n",
    "    display(od1977['QT_BICI'].value_counts())"
   ]
  },
  {
   "cell_type": "code",
   "execution_count": 55,
   "metadata": {
    "collapsed": false
   },
   "outputs": [],
   "source": [
    "#Assigning value '0' to all cels of the \"QT_BICI\" column\n",
    "od1977['QT_MOTO']=0"
   ]
  },
  {
   "cell_type": "code",
   "execution_count": 56,
   "metadata": {
    "collapsed": false
   },
   "outputs": [
    {
     "data": {
      "text/plain": [
       "0    15000\n",
       "dtype: int64"
      ]
     },
     "metadata": {},
     "output_type": "display_data"
    }
   ],
   "source": [
    "if not impressao:\n",
    "    #Counting \"QT_MOTO\" in order to check the values after the procedure\n",
    "    display(od1977['QT_MOTO'].value_counts())"
   ]
  },
  {
   "cell_type": "markdown",
   "metadata": {},
   "source": [
    "-----\n",
    "##Passo 16: \"CD_RENFAM\"\n",
    "Substituir valores da coluna \"CD_RENFAM\"\n",
    "\n",
    "* Excluir único registro na categoria 3\n",
    "* Substituir todos valores **1** por **2**\n",
    "* Quando categoria original for 0 (respondeu) checar no campo REN_FAM se o valor é nulo. Se for nulo, manter na categoria 0 (Renda Familiar Declarada como Zero), senão, mover para a categoria 1 (Renda Familiar Declarada e Maior que Zero).\n",
    "\n",
    "\n",
    "####Categorias anteriores\n",
    "Valor|Descrição\n",
    "----|----\n",
    "0|Respondeu\n",
    "1|Não Sabe\n",
    "2|Não Respondeu\n",
    "3|Não se Aplica\n",
    "\n",
    "####Categorias novas\n",
    "Valor|Descrição\n",
    "----|----\n",
    "0|Renda Familiar Declarada como Zero\n",
    "1|Renda Familiar Declarada e Maior que Zero\n",
    "2|Renda Atribuída\n",
    "\n",
    "[Teste: Checar se existe algum número < 0 ou > 2. Se encontrar, retornar erro indicando em qual linha.]"
   ]
  },
  {
   "cell_type": "code",
   "execution_count": 57,
   "metadata": {
    "collapsed": false
   },
   "outputs": [
    {
     "data": {
      "text/plain": [
       "0    14324\n",
       "2      395\n",
       "1      245\n",
       "3       36\n",
       "dtype: int64"
      ]
     },
     "metadata": {},
     "output_type": "display_data"
    }
   ],
   "source": [
    "if not impressao:\n",
    "    #Counting for check \"CD_RENFAM\"\n",
    "    display(od1977['CD_RENFAM'].value_counts())"
   ]
  },
  {
   "cell_type": "code",
   "execution_count": 58,
   "metadata": {
    "collapsed": false
   },
   "outputs": [],
   "source": [
    "#Excluding the only row whose value is 3\n",
    "#######"
   ]
  },
  {
   "cell_type": "code",
   "execution_count": 59,
   "metadata": {
    "collapsed": false
   },
   "outputs": [],
   "source": [
    "#Replacing the values 1 for 2\n",
    "od1977.loc[od1977['CD_RENFAM']==1,'CD_RENFAM'] = 2"
   ]
  },
  {
   "cell_type": "code",
   "execution_count": 60,
   "metadata": {
    "collapsed": false
   },
   "outputs": [],
   "source": [
    "#Spliting the category 0 \"Respondeu\" into 0 \"Renda Familiar Declarada como Zero\" and 1 \"Renda Familiar Declarada e Maior que Zero\"\n",
    "#####"
   ]
  },
  {
   "cell_type": "code",
   "execution_count": 61,
   "metadata": {
    "collapsed": false
   },
   "outputs": [
    {
     "data": {
      "text/plain": [
       "0    14324\n",
       "2      640\n",
       "3       36\n",
       "dtype: int64"
      ]
     },
     "metadata": {},
     "output_type": "display_data"
    }
   ],
   "source": [
    "if not impressao:\n",
    "    #Counting \"CD_RENFAM\" in order to compare the values before and after the replacement\n",
    "    display(od1977['CD_RENFAM'].value_counts())"
   ]
  },
  {
   "cell_type": "code",
   "execution_count": 62,
   "metadata": {
    "collapsed": false
   },
   "outputs": [
    {
     "name": "stdout",
     "output_type": "stream",
     "text": [
      "3    36\n",
      "dtype: int64\n"
     ]
    }
   ],
   "source": [
    "#Verifying value interval for check - conditions: \"CD_RENFAM < 0\" and \"CD_RENFAM > 2\"\n",
    "#od1977[(od1977['CD_RENFAM']<0) | (od1977['CD_RENFAM']>2)]\n",
    "verifica_RANGE(od1977, 'CD_RENFAM', 0, 2)"
   ]
  },
  {
   "cell_type": "markdown",
   "metadata": {},
   "source": [
    "-----\n",
    "##\"REN_FAM\"\n",
    "Nada há que se fazer em relação aos dados da colunas \"REN_FAM\""
   ]
  },
  {
   "cell_type": "markdown",
   "metadata": {},
   "source": [
    "-----\n",
    "##Passo 17: \"ID_PESS\"\n",
    "Construir o \"ID_PESS\"\n",
    "\n",
    "Na coluna \"ID_PESS\", linha i, ler o valor da linha i da coluna \"ID_FAM\", e concatenar esse valor (10 dígitos) com o número da pessoa, que é o valor da linha i da coluna \"NO_PESS\" (com 2 dígitos).\n",
    "\n",
    "Resultado será um ID_PESS, que pode se repetir nas linhas, de 12 dígitos."
   ]
  },
  {
   "cell_type": "code",
   "execution_count": 63,
   "metadata": {
    "collapsed": true
   },
   "outputs": [],
   "source": [
    "#Generating \"ID_PESS\" from the concatenation of \"ID_FAM\" and \"NO_PESS\" variables\n",
    "od1977['ID_PESS'] = od1977.apply(gera_ID_PESS, axis=1)"
   ]
  },
  {
   "cell_type": "markdown",
   "metadata": {},
   "source": [
    "-----\n",
    "##Passo 18: \"F_PESS\"\n",
    "Checar se existe algum erro na coluna \"F_PESS\"\n",
    "\n",
    "####Categorias\n",
    "Valor|Descrição\n",
    "----|----\n",
    "0|Demais registros\n",
    "1|Primeiro Registro da Pessoa\n",
    "\n",
    "[Teste: Checar se existe algum número diferente de 0 ou 1. Se encontrar, retornar erro indicando em qual linha.]"
   ]
  },
  {
   "cell_type": "code",
   "execution_count": 64,
   "metadata": {
    "collapsed": false
   },
   "outputs": [
    {
     "name": "stdout",
     "output_type": "stream",
     "text": [
      "Total de erros encontrados: 0\n"
     ]
    }
   ],
   "source": [
    "#Verifying if there was left some value other than 0 or 1\n",
    "verifica_DUMMY(od1977, 'F_PESS')"
   ]
  },
  {
   "cell_type": "markdown",
   "metadata": {},
   "source": [
    "-----\n",
    "##\"FE_PESS\" e \"NO_PESS\"\n",
    "Nada há que se fazer em relação aos dados das colunas \"FE_PESS\" e \"NO_PESS\""
   ]
  },
  {
   "cell_type": "markdown",
   "metadata": {},
   "source": [
    "-----\n",
    "##Passo 19: \"SIT_FAM\"\n",
    "\n",
    "* Substituir todos valores **5** por **4**\n",
    "* Substituir todos valores **6** por **5**\n",
    "* Substituir todos valores **7** por **6**\n",
    "\n",
    "####Categorias anteriores\n",
    "Valor|Descrição\n",
    "----|----\n",
    "1|Chefe\n",
    "2|Cônjuge\n",
    "3|Filho(a)\n",
    "4|Parente\n",
    "5|Agregado\n",
    "6|Empregado Residente\n",
    "7|Visitante não Residente\n",
    "\n",
    "####Categorias novas:\n",
    "Valor|Descrição\n",
    "----|----\n",
    "1| Pessoa Responsável\n",
    "2| Cônjuge/Companheiro(a)\n",
    "3| Filho(a)/Enteado(a)\n",
    "4| Outro Parente / Agregado\n",
    "5| Empregado Residente\n",
    "6| Outros (visitante não residente / parente do empregado)\n",
    "\n",
    "[Teste: Checar se existe algum número < 1 ou > 6. Se encontrar, retornar erro indicando em qual linha.]"
   ]
  },
  {
   "cell_type": "code",
   "execution_count": 65,
   "metadata": {
    "collapsed": false
   },
   "outputs": [
    {
     "data": {
      "text/plain": [
       "1    5458\n",
       "3    5034\n",
       "2    2295\n",
       "4    1395\n",
       "5     465\n",
       "6     166\n",
       "0     140\n",
       "7      47\n",
       "dtype: int64"
      ]
     },
     "metadata": {},
     "output_type": "display_data"
    }
   ],
   "source": [
    "if not impressao:\n",
    "    #Counting for check \"SIT_FAM\"\n",
    "    display(od1977['SIT_FAM'].value_counts())"
   ]
  },
  {
   "cell_type": "code",
   "execution_count": 66,
   "metadata": {
    "collapsed": false
   },
   "outputs": [],
   "source": [
    "#Replacing the values 5 for 4\n",
    "od1977.loc[od1977['SIT_FAM']==5,'SIT_FAM'] = 4\n",
    "#Replacing the values 6 for 5\n",
    "od1977.loc[od1977['SIT_FAM']==6,'SIT_FAM'] = 5\n",
    "#Replacing the values 7 for 6\n",
    "od1977.loc[od1977['SIT_FAM']==7,'SIT_FAM'] = 6"
   ]
  },
  {
   "cell_type": "code",
   "execution_count": 67,
   "metadata": {
    "collapsed": false
   },
   "outputs": [
    {
     "data": {
      "text/plain": [
       "1    5458\n",
       "3    5034\n",
       "2    2295\n",
       "4    1860\n",
       "5     166\n",
       "0     140\n",
       "6      47\n",
       "dtype: int64"
      ]
     },
     "metadata": {},
     "output_type": "display_data"
    }
   ],
   "source": [
    "if not impressao:\n",
    "    #Counting \"CD_RENFAM\" in order to compare the values before and after the replacement\n",
    "    display(od1977['SIT_FAM'].value_counts())"
   ]
  },
  {
   "cell_type": "code",
   "execution_count": 68,
   "metadata": {
    "collapsed": false
   },
   "outputs": [
    {
     "name": "stdout",
     "output_type": "stream",
     "text": [
      "0    140\n",
      "dtype: int64\n"
     ]
    }
   ],
   "source": [
    "#Verifying value interval for check - conditions: \"SIT_FAM < 1\" and \"SIT_FAM > 6\"\n",
    "#od1977[(od1977['SIT_FAM']<1) | (od1977['SIT_FAM']>6)]\n",
    "verifica_RANGE(od1977, 'SIT_FAM', 1, 6)"
   ]
  },
  {
   "cell_type": "markdown",
   "metadata": {},
   "source": [
    "-----\n",
    "##\"IDADE\"\n",
    "Nada há que se fazer em relação aos dados da coluna \"IDADE\""
   ]
  },
  {
   "cell_type": "markdown",
   "metadata": {},
   "source": [
    "-----\n",
    "##Passo 20: \"SEXO\"\n",
    "Substituir valores da coluna \"SEXO\"\n",
    "\n",
    "* Substituir todos valores **2** por **0**\n",
    "\n",
    "####Categorias anteriores\n",
    "Valor|Descrição\n",
    "----|----\n",
    "1|Masculino\n",
    "2|Feminino\n",
    "\n",
    "####Categorias novas\n",
    "Valor|Descrição\n",
    "----|----\n",
    "0|Feminino\n",
    "1|Masculino\n",
    "\n",
    "[Teste: Checar se existe algum número diferente de 0 ou 1. Se encontrar, retornar erro indicando em qual linha.]"
   ]
  },
  {
   "cell_type": "code",
   "execution_count": 69,
   "metadata": {
    "collapsed": false
   },
   "outputs": [
    {
     "data": {
      "text/plain": [
       "1    8222\n",
       "2    6638\n",
       "0     140\n",
       "dtype: int64"
      ]
     },
     "metadata": {},
     "output_type": "display_data"
    }
   ],
   "source": [
    "if not impressao:\n",
    "    #Counting for check \"SEXO\"\n",
    "    display(od1977['SEXO'].value_counts())"
   ]
  },
  {
   "cell_type": "code",
   "execution_count": 70,
   "metadata": {
    "collapsed": false
   },
   "outputs": [],
   "source": [
    "#Replacing the values 2 for 0\n",
    "od1977.loc[od1977['SEXO']==2,'SEXO'] = 0"
   ]
  },
  {
   "cell_type": "code",
   "execution_count": 71,
   "metadata": {
    "collapsed": false
   },
   "outputs": [
    {
     "data": {
      "text/plain": [
       "1    8222\n",
       "0    6778\n",
       "dtype: int64"
      ]
     },
     "metadata": {},
     "output_type": "display_data"
    }
   ],
   "source": [
    "if not impressao:\n",
    "    #Counting \"SEXO\" in order to compare the values before and after the replacement\n",
    "    display(od1977['SEXO'].value_counts())"
   ]
  },
  {
   "cell_type": "code",
   "execution_count": 72,
   "metadata": {
    "collapsed": false
   },
   "outputs": [
    {
     "name": "stdout",
     "output_type": "stream",
     "text": [
      "Total de erros encontrados: 0\n"
     ]
    }
   ],
   "source": [
    "#Verifying if there was left some value other than 0 or 1\n",
    "verifica_DUMMY(od1977, 'SEXO')"
   ]
  },
  {
   "cell_type": "markdown",
   "metadata": {
    "collapsed": true
   },
   "source": [
    "-----\n",
    "##Passo 21: \"ESTUDA\"\n",
    ">>> CRIAR!\n",
    " \n",
    " Se zona da escola for zero (==0) então não estuda (0), senão, não estuda (1)\n",
    "\n",
    "####Categorias novas\n",
    "Valor|Descrição\n",
    "----|----\n",
    "0|Não estuda\n",
    "1|Estuda\n",
    "\n",
    "[Teste: Checar se existe algum número diferente de 0 ou 1. Se encontrar, retornar erro indicando em qual linha.]"
   ]
  },
  {
   "cell_type": "code",
   "execution_count": 73,
   "metadata": {
    "collapsed": false
   },
   "outputs": [
    {
     "data": {
      "text/plain": [
       "Series([], dtype: int64)"
      ]
     },
     "metadata": {},
     "output_type": "display_data"
    }
   ],
   "source": [
    "if not impressao:\n",
    "    #Counting for check \"ESTUDA\"\n",
    "    display(od1977['ESTUDA'].value_counts())"
   ]
  },
  {
   "cell_type": "code",
   "execution_count": 74,
   "metadata": {
    "collapsed": false
   },
   "outputs": [],
   "source": [
    "#Replacing the values 2 for 0\n",
    "### implementar rotina do estuda"
   ]
  },
  {
   "cell_type": "code",
   "execution_count": 75,
   "metadata": {
    "collapsed": false
   },
   "outputs": [
    {
     "data": {
      "text/plain": [
       "Series([], dtype: int64)"
      ]
     },
     "metadata": {},
     "output_type": "display_data"
    }
   ],
   "source": [
    "if not impressao:\n",
    "    #Counting \"ESTUDA\" in order to compare the values before and after the replacement\n",
    "    display(od1977['ESTUDA'].value_counts())"
   ]
  },
  {
   "cell_type": "code",
   "execution_count": 76,
   "metadata": {
    "collapsed": false
   },
   "outputs": [
    {
     "ename": "ValueError",
     "evalue": "cannot convert float NaN to integer",
     "output_type": "error",
     "traceback": [
      "\u001b[1;31m---------------------------------------------------------------------------\u001b[0m",
      "\u001b[1;31mValueError\u001b[0m                                Traceback (most recent call last)",
      "\u001b[1;32m<ipython-input-76-dd78a539b8bb>\u001b[0m in \u001b[0;36m<module>\u001b[1;34m()\u001b[0m\n\u001b[0;32m      1\u001b[0m \u001b[1;31m#Verifying if there was left some value other than 0 or 1\u001b[0m\u001b[1;33m\u001b[0m\u001b[1;33m\u001b[0m\u001b[0m\n\u001b[1;32m----> 2\u001b[1;33m \u001b[0mverifica_DUMMY\u001b[0m\u001b[1;33m(\u001b[0m\u001b[0mod1977\u001b[0m\u001b[1;33m,\u001b[0m \u001b[1;34m'ESTUDA'\u001b[0m\u001b[1;33m)\u001b[0m\u001b[1;33m\u001b[0m\u001b[0m\n\u001b[0m",
      "\u001b[1;32m<ipython-input-3-bdf264bbc98a>\u001b[0m in \u001b[0;36mverifica_DUMMY\u001b[1;34m(data_frame, nome_variavel)\u001b[0m\n\u001b[0;32m      7\u001b[0m     \u001b[0mcontador_de_erros\u001b[0m \u001b[1;33m=\u001b[0m \u001b[1;36m0\u001b[0m\u001b[1;33m\u001b[0m\u001b[0m\n\u001b[0;32m      8\u001b[0m     \u001b[1;32mfor\u001b[0m \u001b[0mindex\u001b[0m\u001b[1;33m,\u001b[0m \u001b[0mvalue\u001b[0m \u001b[1;32min\u001b[0m \u001b[0mdata_frame\u001b[0m\u001b[1;33m.\u001b[0m\u001b[0miterrows\u001b[0m\u001b[1;33m(\u001b[0m\u001b[1;33m)\u001b[0m\u001b[1;33m:\u001b[0m\u001b[1;33m\u001b[0m\u001b[0m\n\u001b[1;32m----> 9\u001b[1;33m         \u001b[1;32mif\u001b[0m \u001b[0mint\u001b[0m\u001b[1;33m(\u001b[0m\u001b[0mvalue\u001b[0m\u001b[1;33m[\u001b[0m\u001b[0mnome_variavel\u001b[0m\u001b[1;33m]\u001b[0m\u001b[1;33m)\u001b[0m \u001b[1;33m!=\u001b[0m \u001b[1;36m1\u001b[0m \u001b[1;32mand\u001b[0m \u001b[0mint\u001b[0m\u001b[1;33m(\u001b[0m\u001b[0mvalue\u001b[0m\u001b[1;33m[\u001b[0m\u001b[0mnome_variavel\u001b[0m\u001b[1;33m]\u001b[0m\u001b[1;33m)\u001b[0m \u001b[1;33m!=\u001b[0m \u001b[1;36m0\u001b[0m\u001b[1;33m:\u001b[0m\u001b[1;33m\u001b[0m\u001b[0m\n\u001b[0m\u001b[0;32m     10\u001b[0m             \u001b[1;32mif\u001b[0m \u001b[1;32mnot\u001b[0m \u001b[0mimpressao\u001b[0m\u001b[1;33m:\u001b[0m\u001b[1;33m\u001b[0m\u001b[0m\n\u001b[0;32m     11\u001b[0m                 \u001b[0mprint\u001b[0m\u001b[1;33m(\u001b[0m\u001b[1;34m\"Erro encontrado no registro \"\u001b[0m \u001b[1;33m+\u001b[0m \u001b[0mstr\u001b[0m\u001b[1;33m(\u001b[0m\u001b[0mindex\u001b[0m\u001b[1;33m+\u001b[0m\u001b[1;36m1\u001b[0m\u001b[1;33m)\u001b[0m \u001b[1;33m+\u001b[0m \u001b[1;34m\".\"\u001b[0m\u001b[1;33m)\u001b[0m\u001b[1;33m\u001b[0m\u001b[0m\n",
      "\u001b[1;31mValueError\u001b[0m: cannot convert float NaN to integer"
     ]
    }
   ],
   "source": [
    "#Verifying if there was left some value other than 0 or 1\n",
    "verifica_DUMMY(od1977, 'ESTUDA')"
   ]
  },
  {
   "cell_type": "markdown",
   "metadata": {},
   "source": [
    "-----\n",
    "##Passo 22: \"GRAU_INSTR\"\n",
    "Substituir valores da coluna \"GRAU_INSTR\"\n",
    "\n",
    "* Substituir todos valores **2** por **1**\n",
    "* Substituir todos valores **3** por **1**\n",
    "* Substituir todos valores **4** por **1**\n",
    "* Substituir todos valores **5** por **2**\n",
    "* Substituir todos valores **6** por **2**\n",
    "* Substituir todos valores **7** por **3**\n",
    "* Substituir todos valores **8** por **3**\n",
    "* Substituir todos valores **9** por **4**\n",
    "\n",
    "####Categorias anteriores:\n",
    "Valor|Descrição\n",
    "----|----\n",
    "1|Sem Instrução\n",
    "2|Primário Incompleto\n",
    "3|Primário Completo\n",
    "4|Ginasial Incompleto\n",
    "5|Ginasial Completo\n",
    "6|Colegial Incompleto\n",
    "7|Colegial Completo\n",
    "8|Universitário Incompleto\n",
    "9|Universitário Completo\n",
    "\n",
    "####Categorias novas\n",
    "Valor|Descrição\n",
    "----|----\n",
    "0|Não declarou\n",
    "1|Não-Alfabetizado/Fundamental Incompleto\n",
    "2|Fundamental Completo/Médio Incompleto\n",
    "3|Médio Completo/Superior Incompleto\n",
    "4|Superior completo\n",
    "\n",
    "[Teste: Checar se existe algum número < 1 ou > 4. Se encontrar, retornar erro indicando em qual linha.]"
   ]
  },
  {
   "cell_type": "code",
   "execution_count": 77,
   "metadata": {
    "collapsed": false
   },
   "outputs": [
    {
     "data": {
      "text/plain": [
       "3    2527\n",
       "4    2348\n",
       "2    2056\n",
       "7    1772\n",
       "5    1432\n",
       "1    1310\n",
       "6    1171\n",
       "9    1124\n",
       "8    1102\n",
       "0     158\n",
       "dtype: int64"
      ]
     },
     "metadata": {},
     "output_type": "display_data"
    }
   ],
   "source": [
    "if not impressao:\n",
    "    #Counting for check \"GRAU_INSTR\"\n",
    "    display(od1977['GRAU_INSTR'].value_counts())"
   ]
  },
  {
   "cell_type": "code",
   "execution_count": 78,
   "metadata": {
    "collapsed": true
   },
   "outputs": [],
   "source": [
    "#Replacing the values 2 for 1\n",
    "od1977.loc[od1977['GRAU_INSTR']==2,'GRAU_INSTR'] = 1\n",
    "#Replacing the values 3 for 1\n",
    "od1977.loc[od1977['GRAU_INSTR']==3,'GRAU_INSTR'] = 1\n",
    "#Replacing the values 4 for 1\n",
    "od1977.loc[od1977['GRAU_INSTR']==4,'GRAU_INSTR'] = 1\n",
    "#Replacing the values 5 for 2\n",
    "od1977.loc[od1977['GRAU_INSTR']==5,'GRAU_INSTR'] = 2\n",
    "#Replacing the values 6 for 2\n",
    "od1977.loc[od1977['GRAU_INSTR']==6,'GRAU_INSTR'] = 2\n",
    "#Replacing the values 7 for 3\n",
    "od1977.loc[od1977['GRAU_INSTR']==7,'GRAU_INSTR'] = 3\n",
    "#Replacing the values 8 for 3\n",
    "od1977.loc[od1977['GRAU_INSTR']==8,'GRAU_INSTR'] = 3\n",
    "#Replacing the values 9 for 4\n",
    "od1977.loc[od1977['GRAU_INSTR']==9,'GRAU_INSTR'] = 4"
   ]
  },
  {
   "cell_type": "code",
   "execution_count": 79,
   "metadata": {
    "collapsed": false
   },
   "outputs": [
    {
     "data": {
      "text/plain": [
       "1    8241\n",
       "3    2874\n",
       "2    2603\n",
       "4    1124\n",
       "0     158\n",
       "dtype: int64"
      ]
     },
     "metadata": {},
     "output_type": "display_data"
    }
   ],
   "source": [
    "if not impressao:\n",
    "    #Counting \"GRAU_INSTR\" in order to compare the values before and after the replacement\n",
    "    display(od1977['GRAU_INSTR'].value_counts())"
   ]
  },
  {
   "cell_type": "code",
   "execution_count": 80,
   "metadata": {
    "collapsed": false
   },
   "outputs": [
    {
     "name": "stdout",
     "output_type": "stream",
     "text": [
      "0    158\n",
      "dtype: int64\n"
     ]
    }
   ],
   "source": [
    "#Verifying value interval for check - conditions: \"GRAU_INSTR < 1\" and \"GRAU_INSTR > 4\"\n",
    "#od1977[(od1977['GRAU_INSTR']<1) | (od1977['GRAU_INSTR']>4)]\n",
    "verifica_RANGE(od1977, 'GRAU_INSTR', 1, 4)"
   ]
  },
  {
   "cell_type": "markdown",
   "metadata": {},
   "source": [
    "-----\n",
    "##Passo 23: \"OCUP\"\n",
    "Substituir valores da coluna \"OCUP\"\n",
    "\n",
    "* Substituir todos valores **1** por **7**\n",
    "* Substituir todos valores **2** por **6**\n",
    "* Substituir todos valores **4** por **5**\n",
    "* Substituir todos valores **5** por **4**\n",
    "* Substituir todos valores **6** por **2**\n",
    "* Substituir todos valores **7** em diante por **1**\n",
    "\n",
    "####Categorias anteriores:\n",
    "Valor|Descrição\n",
    "----|----\n",
    "1|Estudante\n",
    "2|Prendas Domésticas\n",
    "3|Aposentado\n",
    "4|Sem Ocupação (nunca trabalhou)\n",
    "5|Desempregado\n",
    "6|Em licença\n",
    "7 em diante|diversas profissões\n",
    "\n",
    "####Categorias novas\n",
    "Valor|Descrição\n",
    "----|----\n",
    "1|Tem trabalho\n",
    "2|Em licença médica\n",
    "3|Aposentado / pensionista\n",
    "4|Desempregado\n",
    "5|Sem ocupação\n",
    "6|Dona de casa\n",
    "7|Estudante\n",
    "\n",
    "[Teste: Checar se existe algum número < 0 ou > 7. Se encontrar, retornar erro indicando em qual linha.]"
   ]
  },
  {
   "cell_type": "code",
   "execution_count": 81,
   "metadata": {
    "collapsed": false
   },
   "outputs": [
    {
     "data": {
      "text/plain": [
       "2     2073\n",
       "1     2072\n",
       "13    1639\n",
       "4      889\n",
       "14     829\n",
       "12     802\n",
       "11     669\n",
       "3      561\n",
       "0      509\n",
       "31     375\n",
       "18     365\n",
       "51     344\n",
       "15     319\n",
       "16     303\n",
       "17     283\n",
       "5      280\n",
       "53     274\n",
       "43     253\n",
       "32     234\n",
       "44     214\n",
       "33     179\n",
       "34     167\n",
       "22     166\n",
       "36     161\n",
       "23     152\n",
       "55     132\n",
       "24     105\n",
       "52     104\n",
       "42      86\n",
       "54      79\n",
       "21      76\n",
       "6       71\n",
       "46      64\n",
       "35      57\n",
       "41      38\n",
       "45      30\n",
       "25      27\n",
       "56      12\n",
       "59       4\n",
       "26       2\n",
       "57       1\n",
       "dtype: int64"
      ]
     },
     "metadata": {},
     "output_type": "display_data"
    }
   ],
   "source": [
    "if not impressao:\n",
    "    #Counting for check \"OCUP\"\n",
    "    display(od1977['OCUP'].value_counts())"
   ]
  },
  {
   "cell_type": "code",
   "execution_count": 82,
   "metadata": {
    "collapsed": true
   },
   "outputs": [],
   "source": [
    "#Replacing the values 1 for 7\n",
    "od1977.loc[od1977['OCUP']==1,'OCUP'] = 7\n",
    "#Replacing the values 2 for 9\n",
    "od1977.loc[od1977['OCUP']==2,'OCUP'] = 9\n",
    "#Replacing the values 4 for 8\n",
    "od1977.loc[od1977['OCUP']==4,'OCUP'] = 8\n",
    "#Replacing the values 5 for 4\n",
    "od1977.loc[od1977['OCUP']==5,'OCUP'] = 4\n",
    "#Replacing the values 8 for 5\n",
    "od1977.loc[od1977['OCUP']==8,'OCUP'] = 5\n",
    "#Replacing the values 6 for 2\n",
    "od1977.loc[od1977['OCUP']==6,'OCUP'] = 2\n",
    "#Replacing the values 9 for 6\n",
    "od1977.loc[od1977['OCUP']==9,'OCUP'] = 6\n",
    "#Replacing the values > 6 for 7\n",
    "od1977.loc[od1977['OCUP']>7,'OCUP'] = 1"
   ]
  },
  {
   "cell_type": "code",
   "execution_count": 83,
   "metadata": {
    "collapsed": false
   },
   "outputs": [
    {
     "data": {
      "text/plain": [
       "1    8545\n",
       "6    2073\n",
       "7    2072\n",
       "5     889\n",
       "3     561\n",
       "0     509\n",
       "4     280\n",
       "2      71\n",
       "dtype: int64"
      ]
     },
     "metadata": {},
     "output_type": "display_data"
    }
   ],
   "source": [
    "if not impressao:\n",
    "    #Counting \"OCUP\" in order to compare the values before and after the replacement\n",
    "    display(od1977['OCUP'].value_counts())"
   ]
  },
  {
   "cell_type": "code",
   "execution_count": 84,
   "metadata": {
    "collapsed": false
   },
   "outputs": [
    {
     "name": "stdout",
     "output_type": "stream",
     "text": [
      "0    509\n",
      "dtype: int64\n"
     ]
    }
   ],
   "source": [
    "#Verifying value interval for check - conditions: \"OCUP < 1\" and \"OCUP > 7\"\n",
    "#od1977[(od1977['OCUP']<1) | (od1977['OCUP']>7)]\n",
    "verifica_RANGE(od1977, 'OCUP', 1, 7)"
   ]
  },
  {
   "cell_type": "markdown",
   "metadata": {},
   "source": [
    "-----\n",
    "##Passo 24: \"SETOR_ATIV\"\n",
    "Substituir valores da coluna \"SETOR_ATIV\"\n",
    "\n",
    "Na coluna \"SETOR_ATIV\", linha i, ler o valor da linha i da coluna \"SETOR_ATIV\", daí, buscar o mesmo valor na coluna \"COD\" do arquivo setor_ativ-1977.csv. Ao achar, retornar o valor da mesma linha, só que da coluna \"COD_UNIF\"\n",
    "\n",
    "####Categorias anteriores\n",
    "> ver arquivo .csv\n",
    "\n",
    "####Categorias novas\n",
    "Valor|Descrição\n",
    "----|----\n",
    "0|Não respondeu\n",
    "1|Agrícola\n",
    "2|Construção Civil\n",
    "3|Indústria\n",
    "4|Comércio\n",
    "5|Administração Pública\n",
    "6|Serviços de Transporte\n",
    "7|Serviços\n",
    "8|Serviços Autônomos\n",
    "9|Outros\n",
    "10|Não se aplica\n",
    "\n",
    "[Teste: Checar se existe algum número < 1 ou > 10. Se encontrar, retornar erro indicando em qual linha.]"
   ]
  },
  {
   "cell_type": "code",
   "execution_count": 85,
   "metadata": {
    "collapsed": false
   },
   "outputs": [
    {
     "data": {
      "text/plain": [
       "10    5695\n",
       "4     2591\n",
       "3     1956\n",
       "7     1929\n",
       "8     1095\n",
       "5      729\n",
       "0      509\n",
       "6      214\n",
       "2      198\n",
       "9       54\n",
       "1       30\n",
       "dtype: int64"
      ]
     },
     "metadata": {},
     "output_type": "display_data"
    }
   ],
   "source": [
    "if not impressao:\n",
    "    #Counting for check \"SETOR_ATIV\"\n",
    "    display(od1977['SETOR_ATIV'].value_counts())"
   ]
  },
  {
   "cell_type": "code",
   "execution_count": 86,
   "metadata": {
    "collapsed": true
   },
   "outputs": [],
   "source": [
    "#Getting from the csv file the \"CD_UNIF\" (unified code for activity sector) correspondent to the \"SETOR_ATIV\" code\n",
    "od1977['SETOR_ATIV'] = od1977.apply(lambda row: consulta_refext(row, 'setor_ativ-1977.csv', 'COD', 'SETOR_ATIV', 'COD_UNIF'), axis=1)"
   ]
  },
  {
   "cell_type": "code",
   "execution_count": 87,
   "metadata": {
    "collapsed": false
   },
   "outputs": [
    {
     "data": {
      "text/plain": [
       "10    5695\n",
       "4     2591\n",
       "3     1956\n",
       "7     1929\n",
       "8     1095\n",
       "5      729\n",
       "0      509\n",
       "6      214\n",
       "2      198\n",
       "9       54\n",
       "1       30\n",
       "dtype: int64"
      ]
     },
     "metadata": {},
     "output_type": "display_data"
    }
   ],
   "source": [
    "if not impressao:\n",
    "    #Counting \"SETOR_ATIV\" in order to compare the values before and after the replacement\n",
    "    display(od1977['SETOR_ATIV'].value_counts())"
   ]
  },
  {
   "cell_type": "code",
   "execution_count": 88,
   "metadata": {
    "collapsed": false
   },
   "outputs": [
    {
     "name": "stdout",
     "output_type": "stream",
     "text": [
      "Series([], dtype: int64)\n"
     ]
    }
   ],
   "source": [
    "#Verifying value interval for check - conditions: \"SETOR_ATIV < 0\" and \"SETOR_ATIV > 10\"\n",
    "#od1977[(od1977['SETOR_ATIV']<0) | (od1977['SETOR_ATIV']>10)]\n",
    "verifica_RANGE(od1977, 'SETOR_ATIV', 0, 10)"
   ]
  },
  {
   "cell_type": "markdown",
   "metadata": {
    "collapsed": false
   },
   "source": [
    "##Passo 25: \"CD_RENIND\"\n",
    "Checar se existe algum erro na coluna \"CD_RENIND\"\n",
    "\n",
    "####Categorias \n",
    "Valor|Descrição\n",
    "----|----\n",
    "1|Tem renda\n",
    "2|Não tem renda\n",
    "3|Não declarou\n",
    "\n",
    "[Teste: Checar se existe algum número < 1 ou > 3. Se encontrar, retornar erro indicando em qual linha.]"
   ]
  },
  {
   "cell_type": "code",
   "execution_count": 89,
   "metadata": {
    "collapsed": false
   },
   "outputs": [
    {
     "data": {
      "text/plain": [
       "0    9951\n",
       "1    4769\n",
       "2     280\n",
       "dtype: int64"
      ]
     },
     "metadata": {},
     "output_type": "display_data"
    }
   ],
   "source": [
    "if not impressao:\n",
    "    #Counting for check \"CD_RENIND\"\n",
    "    display(od1977['CD_RENIND'].value_counts())"
   ]
  },
  {
   "cell_type": "code",
   "execution_count": 90,
   "metadata": {
    "collapsed": false
   },
   "outputs": [
    {
     "name": "stdout",
     "output_type": "stream",
     "text": [
      "0    9951\n",
      "dtype: int64\n"
     ]
    }
   ],
   "source": [
    "#Verifying value interval for check - conditions: \"CD_RENIND < 1\" and \"CD_RENIND > 3\"\n",
    "#od1977[(od1977['CD_RENIND']<1) | (od1977['CD_RENIND']>3)]\n",
    "verifica_RANGE(od1977, 'CD_RENIND', 1, 3)"
   ]
  },
  {
   "cell_type": "markdown",
   "metadata": {
    "collapsed": true
   },
   "source": [
    "-----\n",
    "##\"REN_IND\"\n",
    "Nada há que se fazer em relação aos dados da coluna \"REN_IND\""
   ]
  },
  {
   "cell_type": "markdown",
   "metadata": {},
   "source": [
    "-----\n",
    "##Passo 26: \"UCOD_ESC\"\n",
    "Na coluna \"UCOD_ESC\", linha i, ler o valor da linha i da coluna \"ZONA_ESC\", daí, buscar o mesmo valor na coluna \"Zona 1977\" do arquivo UCOD-1977.csv. Ao achar, retornar o valor da mesma linha, só que da coluna \"UCOD_ESC\"\n",
    "\n",
    "[Teste: no banco completo, checar se o min == 1 e o max == 67]"
   ]
  },
  {
   "cell_type": "code",
   "execution_count": 91,
   "metadata": {
    "collapsed": false
   },
   "outputs": [
    {
     "ename": "TypeError",
     "evalue": "(\"cannot convert the series to <class 'int'>\", 'occurred at index 5459')",
     "output_type": "error",
     "traceback": [
      "\u001b[1;31m---------------------------------------------------------------------------\u001b[0m",
      "\u001b[1;31mTypeError\u001b[0m                                 Traceback (most recent call last)",
      "\u001b[1;32m<ipython-input-91-e718fcf85c06>\u001b[0m in \u001b[0;36m<module>\u001b[1;34m()\u001b[0m\n\u001b[0;32m      1\u001b[0m \u001b[1;31m#Getting from the csv file the \"UCOD\" code correspondent to the \"ZONA_ESC\" code\u001b[0m\u001b[1;33m\u001b[0m\u001b[1;33m\u001b[0m\u001b[0m\n\u001b[1;32m----> 2\u001b[1;33m \u001b[0mod1977\u001b[0m\u001b[1;33m[\u001b[0m\u001b[1;34m'UCOD_ESC'\u001b[0m\u001b[1;33m]\u001b[0m \u001b[1;33m=\u001b[0m \u001b[0mod1977\u001b[0m\u001b[1;33m.\u001b[0m\u001b[0mapply\u001b[0m\u001b[1;33m(\u001b[0m\u001b[1;32mlambda\u001b[0m \u001b[0mrow\u001b[0m\u001b[1;33m:\u001b[0m \u001b[0mconsulta_refext\u001b[0m\u001b[1;33m(\u001b[0m\u001b[0mrow\u001b[0m\u001b[1;33m,\u001b[0m \u001b[1;34m'UCOD-1977.csv'\u001b[0m\u001b[1;33m,\u001b[0m \u001b[1;34m'Zona 1977'\u001b[0m\u001b[1;33m,\u001b[0m \u001b[1;34m'ZONA_ESC'\u001b[0m\u001b[1;33m,\u001b[0m \u001b[1;34m'UCOD'\u001b[0m\u001b[1;33m)\u001b[0m\u001b[1;33m,\u001b[0m \u001b[0maxis\u001b[0m\u001b[1;33m=\u001b[0m\u001b[1;36m1\u001b[0m\u001b[1;33m)\u001b[0m\u001b[1;33m\u001b[0m\u001b[0m\n\u001b[0m",
      "\u001b[1;32m/usr/local/lib/python3.4/dist-packages/pandas/core/frame.py\u001b[0m in \u001b[0;36mapply\u001b[1;34m(self, func, axis, broadcast, raw, reduce, args, **kwds)\u001b[0m\n\u001b[0;32m   3687\u001b[0m                     \u001b[1;32mif\u001b[0m \u001b[0mreduce\u001b[0m \u001b[1;32mis\u001b[0m \u001b[1;32mNone\u001b[0m\u001b[1;33m:\u001b[0m\u001b[1;33m\u001b[0m\u001b[0m\n\u001b[0;32m   3688\u001b[0m                         \u001b[0mreduce\u001b[0m \u001b[1;33m=\u001b[0m \u001b[1;32mTrue\u001b[0m\u001b[1;33m\u001b[0m\u001b[0m\n\u001b[1;32m-> 3689\u001b[1;33m                     \u001b[1;32mreturn\u001b[0m \u001b[0mself\u001b[0m\u001b[1;33m.\u001b[0m\u001b[0m_apply_standard\u001b[0m\u001b[1;33m(\u001b[0m\u001b[0mf\u001b[0m\u001b[1;33m,\u001b[0m \u001b[0maxis\u001b[0m\u001b[1;33m,\u001b[0m \u001b[0mreduce\u001b[0m\u001b[1;33m=\u001b[0m\u001b[0mreduce\u001b[0m\u001b[1;33m)\u001b[0m\u001b[1;33m\u001b[0m\u001b[0m\n\u001b[0m\u001b[0;32m   3690\u001b[0m             \u001b[1;32melse\u001b[0m\u001b[1;33m:\u001b[0m\u001b[1;33m\u001b[0m\u001b[0m\n\u001b[0;32m   3691\u001b[0m                 \u001b[1;32mreturn\u001b[0m \u001b[0mself\u001b[0m\u001b[1;33m.\u001b[0m\u001b[0m_apply_broadcast\u001b[0m\u001b[1;33m(\u001b[0m\u001b[0mf\u001b[0m\u001b[1;33m,\u001b[0m \u001b[0maxis\u001b[0m\u001b[1;33m)\u001b[0m\u001b[1;33m\u001b[0m\u001b[0m\n",
      "\u001b[1;32m/usr/local/lib/python3.4/dist-packages/pandas/core/frame.py\u001b[0m in \u001b[0;36m_apply_standard\u001b[1;34m(self, func, axis, ignore_failures, reduce)\u001b[0m\n\u001b[0;32m   3777\u001b[0m             \u001b[1;32mtry\u001b[0m\u001b[1;33m:\u001b[0m\u001b[1;33m\u001b[0m\u001b[0m\n\u001b[0;32m   3778\u001b[0m                 \u001b[1;32mfor\u001b[0m \u001b[0mi\u001b[0m\u001b[1;33m,\u001b[0m \u001b[0mv\u001b[0m \u001b[1;32min\u001b[0m \u001b[0menumerate\u001b[0m\u001b[1;33m(\u001b[0m\u001b[0mseries_gen\u001b[0m\u001b[1;33m)\u001b[0m\u001b[1;33m:\u001b[0m\u001b[1;33m\u001b[0m\u001b[0m\n\u001b[1;32m-> 3779\u001b[1;33m                     \u001b[0mresults\u001b[0m\u001b[1;33m[\u001b[0m\u001b[0mi\u001b[0m\u001b[1;33m]\u001b[0m \u001b[1;33m=\u001b[0m \u001b[0mfunc\u001b[0m\u001b[1;33m(\u001b[0m\u001b[0mv\u001b[0m\u001b[1;33m)\u001b[0m\u001b[1;33m\u001b[0m\u001b[0m\n\u001b[0m\u001b[0;32m   3780\u001b[0m                     \u001b[0mkeys\u001b[0m\u001b[1;33m.\u001b[0m\u001b[0mappend\u001b[0m\u001b[1;33m(\u001b[0m\u001b[0mv\u001b[0m\u001b[1;33m.\u001b[0m\u001b[0mname\u001b[0m\u001b[1;33m)\u001b[0m\u001b[1;33m\u001b[0m\u001b[0m\n\u001b[0;32m   3781\u001b[0m             \u001b[1;32mexcept\u001b[0m \u001b[0mException\u001b[0m \u001b[1;32mas\u001b[0m \u001b[0me\u001b[0m\u001b[1;33m:\u001b[0m\u001b[1;33m\u001b[0m\u001b[0m\n",
      "\u001b[1;32m<ipython-input-91-e718fcf85c06>\u001b[0m in \u001b[0;36m<lambda>\u001b[1;34m(row)\u001b[0m\n\u001b[0;32m      1\u001b[0m \u001b[1;31m#Getting from the csv file the \"UCOD\" code correspondent to the \"ZONA_ESC\" code\u001b[0m\u001b[1;33m\u001b[0m\u001b[1;33m\u001b[0m\u001b[0m\n\u001b[1;32m----> 2\u001b[1;33m \u001b[0mod1977\u001b[0m\u001b[1;33m[\u001b[0m\u001b[1;34m'UCOD_ESC'\u001b[0m\u001b[1;33m]\u001b[0m \u001b[1;33m=\u001b[0m \u001b[0mod1977\u001b[0m\u001b[1;33m.\u001b[0m\u001b[0mapply\u001b[0m\u001b[1;33m(\u001b[0m\u001b[1;32mlambda\u001b[0m \u001b[0mrow\u001b[0m\u001b[1;33m:\u001b[0m \u001b[0mconsulta_refext\u001b[0m\u001b[1;33m(\u001b[0m\u001b[0mrow\u001b[0m\u001b[1;33m,\u001b[0m \u001b[1;34m'UCOD-1977.csv'\u001b[0m\u001b[1;33m,\u001b[0m \u001b[1;34m'Zona 1977'\u001b[0m\u001b[1;33m,\u001b[0m \u001b[1;34m'ZONA_ESC'\u001b[0m\u001b[1;33m,\u001b[0m \u001b[1;34m'UCOD'\u001b[0m\u001b[1;33m)\u001b[0m\u001b[1;33m,\u001b[0m \u001b[0maxis\u001b[0m\u001b[1;33m=\u001b[0m\u001b[1;36m1\u001b[0m\u001b[1;33m)\u001b[0m\u001b[1;33m\u001b[0m\u001b[0m\n\u001b[0m",
      "\u001b[1;32m<ipython-input-2-e86902145311>\u001b[0m in \u001b[0;36mconsulta_refext\u001b[1;34m(row, name_file, name_col_ref, name_col_filt, name_col_search)\u001b[0m\n\u001b[0;32m     13\u001b[0m         \u001b[1;32mreturn\u001b[0m \u001b[0mrow\u001b[0m\u001b[1;33m[\u001b[0m\u001b[0mname_col_filt\u001b[0m\u001b[1;33m]\u001b[0m\u001b[1;33m\u001b[0m\u001b[0m\n\u001b[0;32m     14\u001b[0m     \u001b[0mdata_frame\u001b[0m \u001b[1;33m=\u001b[0m \u001b[0mpd\u001b[0m\u001b[1;33m.\u001b[0m\u001b[0mread_csv\u001b[0m\u001b[1;33m(\u001b[0m\u001b[0mname_file\u001b[0m\u001b[1;33m,\u001b[0m\u001b[0msep\u001b[0m\u001b[1;33m=\u001b[0m\u001b[1;34m';'\u001b[0m\u001b[1;33m)\u001b[0m\u001b[1;33m\u001b[0m\u001b[0m\n\u001b[1;32m---> 15\u001b[1;33m     \u001b[1;32mreturn\u001b[0m \u001b[0mint\u001b[0m\u001b[1;33m(\u001b[0m\u001b[0mdata_frame\u001b[0m\u001b[1;33m[\u001b[0m\u001b[0mdata_frame\u001b[0m\u001b[1;33m[\u001b[0m\u001b[0mname_col_ref\u001b[0m\u001b[1;33m]\u001b[0m\u001b[1;33m==\u001b[0m\u001b[0mrow\u001b[0m\u001b[1;33m[\u001b[0m\u001b[0mname_col_filt\u001b[0m\u001b[1;33m]\u001b[0m\u001b[1;33m]\u001b[0m\u001b[1;33m[\u001b[0m\u001b[0mname_col_search\u001b[0m\u001b[1;33m]\u001b[0m\u001b[1;33m)\u001b[0m\u001b[1;33m\u001b[0m\u001b[0m\n\u001b[0m",
      "\u001b[1;32m/usr/local/lib/python3.4/dist-packages/pandas/core/series.py\u001b[0m in \u001b[0;36mwrapper\u001b[1;34m(self)\u001b[0m\n\u001b[0;32m     75\u001b[0m             \u001b[1;32mreturn\u001b[0m \u001b[0mconverter\u001b[0m\u001b[1;33m(\u001b[0m\u001b[0mself\u001b[0m\u001b[1;33m.\u001b[0m\u001b[0miloc\u001b[0m\u001b[1;33m[\u001b[0m\u001b[1;36m0\u001b[0m\u001b[1;33m]\u001b[0m\u001b[1;33m)\u001b[0m\u001b[1;33m\u001b[0m\u001b[0m\n\u001b[0;32m     76\u001b[0m         raise TypeError(\n\u001b[1;32m---> 77\u001b[1;33m             \"cannot convert the series to {0}\".format(str(converter)))\n\u001b[0m\u001b[0;32m     78\u001b[0m     \u001b[1;32mreturn\u001b[0m \u001b[0mwrapper\u001b[0m\u001b[1;33m\u001b[0m\u001b[0m\n\u001b[0;32m     79\u001b[0m \u001b[1;33m\u001b[0m\u001b[0m\n",
      "\u001b[1;31mTypeError\u001b[0m: (\"cannot convert the series to <class 'int'>\", 'occurred at index 5459')"
     ]
    }
   ],
   "source": [
    "#Getting from the csv file the \"UCOD\" code correspondent to the \"ZONA_ESC\" code\n",
    "od1977['UCOD_ESC'] = od1977.apply(lambda row: consulta_refext(row, 'UCOD-1977.csv', 'Zona 1977', 'ZONA_ESC', 'UCOD'), axis=1)"
   ]
  },
  {
   "cell_type": "code",
   "execution_count": null,
   "metadata": {
    "collapsed": true
   },
   "outputs": [],
   "source": [
    "if not impressao:\n",
    "    #Describing data (\"UCOD_ESC\" column) - count, mean, std, min and max\n",
    "    display(od1977['UCOD_ESC'].describe())"
   ]
  },
  {
   "cell_type": "code",
   "execution_count": null,
   "metadata": {
    "collapsed": true
   },
   "outputs": [],
   "source": [
    "if not impressao:\n",
    "    #Count for check \"UCOD_ESC\"\n",
    "    display(od1977['UCOD_ESC'].value_counts())"
   ]
  },
  {
   "cell_type": "code",
   "execution_count": null,
   "metadata": {
    "collapsed": true
   },
   "outputs": [],
   "source": [
    "#Verifying value interval for check - conditions: \"UCOD_ESC < 1\" and \"UCOD_ESC > 67\"\n",
    "#The 'error' returns must be related to \"UCOD_ESC\" == 0, that is, trips that are not school purposed\n",
    "#od1977[(od1977['UCOD_ESC']<1) | (od1977['UCOD_ESC']>67)]\n",
    "verifica_RANGE(od1977, 'UCOD_ESC', 1, 67)"
   ]
  },
  {
   "cell_type": "markdown",
   "metadata": {},
   "source": [
    "-----\n",
    "##Passo 27: \"ZONA_ESC\"\n",
    "Checar se existe algum erro\n",
    "\n",
    "####Categorias:\n",
    "> 1 a 243\n",
    "\n",
    "[Teste: Checar se existe algum número < 1 ou > 243. Se encontrar, retornar erro indicando em qual linha.]"
   ]
  },
  {
   "cell_type": "code",
   "execution_count": null,
   "metadata": {
    "collapsed": true
   },
   "outputs": [],
   "source": [
    "#Verifying value interval for check - conditions: \"ZONA_ESC < 1\" and \"ZONA_ESC > 243\"\n",
    "#The 'error' returns must be related to \"ZONA_ESC\" == 0, that is, trips that are not school purposed\n",
    "#od1977[(od1977['ZONA_ESC']<1) | (od1977['ZONA_ESC']>254)]\n",
    "verifica_RANGE(od1977, 'ZONA_ESC', 1, 243)"
   ]
  },
  {
   "cell_type": "markdown",
   "metadata": {},
   "source": [
    "-----\n",
    "##Passo 28: \"SUBZONA_ESC\"\n",
    "Checar se existe algum erro\n",
    "\n",
    "####Categorias:\n",
    "> 1 a 633\n",
    "\n",
    "[Teste: Checar se existe algum número < 1 ou > 633. Se encontrar, retornar erro indicando em qual linha.]"
   ]
  },
  {
   "cell_type": "code",
   "execution_count": 92,
   "metadata": {
    "collapsed": false
   },
   "outputs": [
    {
     "name": "stdout",
     "output_type": "stream",
     "text": [
      "0      11072\n",
      "999       21\n",
      "dtype: int64\n"
     ]
    }
   ],
   "source": [
    "#Verifying value interval for check - conditions: \"SUBZONA_ESC < 1\" and \"SUBZONA_ESC > 633\"\n",
    "#od1977[(od1977['SUBZONA_ESC']<1) | (od1977['SUBZONA_ESC']>633)]\n",
    "verifica_RANGE(od1977, 'SUBZONA_ESC', 1, 633)"
   ]
  },
  {
   "cell_type": "markdown",
   "metadata": {},
   "source": [
    "-----\n",
    "##Passo 29: \"MUN_ESC\"\n",
    "Checar se existe algum erro\n",
    "\n",
    "####Categorias\n",
    "> 1 a 27\n",
    "\n",
    "[Teste: Checar se existe algum número < 1 ou > 27. Se encontrar, retornar erro indicando em qual linha.]"
   ]
  },
  {
   "cell_type": "code",
   "execution_count": 93,
   "metadata": {
    "collapsed": false
   },
   "outputs": [
    {
     "name": "stdout",
     "output_type": "stream",
     "text": [
      "0    11093\n",
      "dtype: int64\n"
     ]
    }
   ],
   "source": [
    "#Verifying value interval for check - conditions: \"MUN_ESC < 1\" and \"MUN_ESC > 27\"\n",
    "#The 'error' returns must be related to \"MUN_ESC\" == 0, that is, trips that are not school purposed\n",
    "#od1977[(od1977['MUN_ESC']<1) | (od1977['MUN_ESC']>27)]\n",
    "verifica_RANGE(od1977, 'MUN_ESC', 1, 27)"
   ]
  },
  {
   "cell_type": "markdown",
   "metadata": {},
   "source": [
    "\n",
    "-----\n",
    "##Passo 30: \"CO_ESC_X\"\n",
    "\n",
    "Na coluna \"CO_ESC_X\", linha i, ler o valor da linha i da coluna \"SUBZONA_ESC\", daí, buscar o mesmo valor na coluna \"SUBZONA\" do arquivo COORD-SUBZONA-1977.csv. Ao achar, retornar o valor da mesma linha, só que da coluna \"CO_X\""
   ]
  },
  {
   "cell_type": "code",
   "execution_count": 94,
   "metadata": {
    "collapsed": false
   },
   "outputs": [
    {
     "ename": "OSError",
     "evalue": "(\"File b'COORD-SUBZONA-1977.csv' does not exist\", 'occurred at index 24')",
     "output_type": "error",
     "traceback": [
      "\u001b[1;31m---------------------------------------------------------------------------\u001b[0m",
      "\u001b[1;31mOSError\u001b[0m                                   Traceback (most recent call last)",
      "\u001b[1;32m<ipython-input-94-6c89f56be538>\u001b[0m in \u001b[0;36m<module>\u001b[1;34m()\u001b[0m\n\u001b[0;32m      1\u001b[0m \u001b[1;31m#Getting from the csv file the \"CO_X\" code correspondent to the \"SUBZONA_ESC\" code\u001b[0m\u001b[1;33m\u001b[0m\u001b[1;33m\u001b[0m\u001b[0m\n\u001b[1;32m----> 2\u001b[1;33m \u001b[0mod1977\u001b[0m\u001b[1;33m[\u001b[0m\u001b[1;34m'CO_ESC_X'\u001b[0m\u001b[1;33m]\u001b[0m \u001b[1;33m=\u001b[0m \u001b[0mod1977\u001b[0m\u001b[1;33m.\u001b[0m\u001b[0mapply\u001b[0m\u001b[1;33m(\u001b[0m\u001b[1;32mlambda\u001b[0m \u001b[0mrow\u001b[0m\u001b[1;33m:\u001b[0m \u001b[0mconsulta_refext\u001b[0m\u001b[1;33m(\u001b[0m\u001b[0mrow\u001b[0m\u001b[1;33m,\u001b[0m \u001b[1;34m'COORD-SUBZONA-1977.csv'\u001b[0m\u001b[1;33m,\u001b[0m \u001b[1;34m'SUBZONA'\u001b[0m\u001b[1;33m,\u001b[0m \u001b[1;34m'SUBZONA_ESC'\u001b[0m\u001b[1;33m,\u001b[0m \u001b[1;34m'CO_X'\u001b[0m\u001b[1;33m)\u001b[0m\u001b[1;33m,\u001b[0m \u001b[0maxis\u001b[0m\u001b[1;33m=\u001b[0m\u001b[1;36m1\u001b[0m\u001b[1;33m)\u001b[0m\u001b[1;33m\u001b[0m\u001b[0m\n\u001b[0m",
      "\u001b[1;32m/usr/local/lib/python3.4/dist-packages/pandas/core/frame.py\u001b[0m in \u001b[0;36mapply\u001b[1;34m(self, func, axis, broadcast, raw, reduce, args, **kwds)\u001b[0m\n\u001b[0;32m   3687\u001b[0m                     \u001b[1;32mif\u001b[0m \u001b[0mreduce\u001b[0m \u001b[1;32mis\u001b[0m \u001b[1;32mNone\u001b[0m\u001b[1;33m:\u001b[0m\u001b[1;33m\u001b[0m\u001b[0m\n\u001b[0;32m   3688\u001b[0m                         \u001b[0mreduce\u001b[0m \u001b[1;33m=\u001b[0m \u001b[1;32mTrue\u001b[0m\u001b[1;33m\u001b[0m\u001b[0m\n\u001b[1;32m-> 3689\u001b[1;33m                     \u001b[1;32mreturn\u001b[0m \u001b[0mself\u001b[0m\u001b[1;33m.\u001b[0m\u001b[0m_apply_standard\u001b[0m\u001b[1;33m(\u001b[0m\u001b[0mf\u001b[0m\u001b[1;33m,\u001b[0m \u001b[0maxis\u001b[0m\u001b[1;33m,\u001b[0m \u001b[0mreduce\u001b[0m\u001b[1;33m=\u001b[0m\u001b[0mreduce\u001b[0m\u001b[1;33m)\u001b[0m\u001b[1;33m\u001b[0m\u001b[0m\n\u001b[0m\u001b[0;32m   3690\u001b[0m             \u001b[1;32melse\u001b[0m\u001b[1;33m:\u001b[0m\u001b[1;33m\u001b[0m\u001b[0m\n\u001b[0;32m   3691\u001b[0m                 \u001b[1;32mreturn\u001b[0m \u001b[0mself\u001b[0m\u001b[1;33m.\u001b[0m\u001b[0m_apply_broadcast\u001b[0m\u001b[1;33m(\u001b[0m\u001b[0mf\u001b[0m\u001b[1;33m,\u001b[0m \u001b[0maxis\u001b[0m\u001b[1;33m)\u001b[0m\u001b[1;33m\u001b[0m\u001b[0m\n",
      "\u001b[1;32m/usr/local/lib/python3.4/dist-packages/pandas/core/frame.py\u001b[0m in \u001b[0;36m_apply_standard\u001b[1;34m(self, func, axis, ignore_failures, reduce)\u001b[0m\n\u001b[0;32m   3777\u001b[0m             \u001b[1;32mtry\u001b[0m\u001b[1;33m:\u001b[0m\u001b[1;33m\u001b[0m\u001b[0m\n\u001b[0;32m   3778\u001b[0m                 \u001b[1;32mfor\u001b[0m \u001b[0mi\u001b[0m\u001b[1;33m,\u001b[0m \u001b[0mv\u001b[0m \u001b[1;32min\u001b[0m \u001b[0menumerate\u001b[0m\u001b[1;33m(\u001b[0m\u001b[0mseries_gen\u001b[0m\u001b[1;33m)\u001b[0m\u001b[1;33m:\u001b[0m\u001b[1;33m\u001b[0m\u001b[0m\n\u001b[1;32m-> 3779\u001b[1;33m                     \u001b[0mresults\u001b[0m\u001b[1;33m[\u001b[0m\u001b[0mi\u001b[0m\u001b[1;33m]\u001b[0m \u001b[1;33m=\u001b[0m \u001b[0mfunc\u001b[0m\u001b[1;33m(\u001b[0m\u001b[0mv\u001b[0m\u001b[1;33m)\u001b[0m\u001b[1;33m\u001b[0m\u001b[0m\n\u001b[0m\u001b[0;32m   3780\u001b[0m                     \u001b[0mkeys\u001b[0m\u001b[1;33m.\u001b[0m\u001b[0mappend\u001b[0m\u001b[1;33m(\u001b[0m\u001b[0mv\u001b[0m\u001b[1;33m.\u001b[0m\u001b[0mname\u001b[0m\u001b[1;33m)\u001b[0m\u001b[1;33m\u001b[0m\u001b[0m\n\u001b[0;32m   3781\u001b[0m             \u001b[1;32mexcept\u001b[0m \u001b[0mException\u001b[0m \u001b[1;32mas\u001b[0m \u001b[0me\u001b[0m\u001b[1;33m:\u001b[0m\u001b[1;33m\u001b[0m\u001b[0m\n",
      "\u001b[1;32m<ipython-input-94-6c89f56be538>\u001b[0m in \u001b[0;36m<lambda>\u001b[1;34m(row)\u001b[0m\n\u001b[0;32m      1\u001b[0m \u001b[1;31m#Getting from the csv file the \"CO_X\" code correspondent to the \"SUBZONA_ESC\" code\u001b[0m\u001b[1;33m\u001b[0m\u001b[1;33m\u001b[0m\u001b[0m\n\u001b[1;32m----> 2\u001b[1;33m \u001b[0mod1977\u001b[0m\u001b[1;33m[\u001b[0m\u001b[1;34m'CO_ESC_X'\u001b[0m\u001b[1;33m]\u001b[0m \u001b[1;33m=\u001b[0m \u001b[0mod1977\u001b[0m\u001b[1;33m.\u001b[0m\u001b[0mapply\u001b[0m\u001b[1;33m(\u001b[0m\u001b[1;32mlambda\u001b[0m \u001b[0mrow\u001b[0m\u001b[1;33m:\u001b[0m \u001b[0mconsulta_refext\u001b[0m\u001b[1;33m(\u001b[0m\u001b[0mrow\u001b[0m\u001b[1;33m,\u001b[0m \u001b[1;34m'COORD-SUBZONA-1977.csv'\u001b[0m\u001b[1;33m,\u001b[0m \u001b[1;34m'SUBZONA'\u001b[0m\u001b[1;33m,\u001b[0m \u001b[1;34m'SUBZONA_ESC'\u001b[0m\u001b[1;33m,\u001b[0m \u001b[1;34m'CO_X'\u001b[0m\u001b[1;33m)\u001b[0m\u001b[1;33m,\u001b[0m \u001b[0maxis\u001b[0m\u001b[1;33m=\u001b[0m\u001b[1;36m1\u001b[0m\u001b[1;33m)\u001b[0m\u001b[1;33m\u001b[0m\u001b[0m\n\u001b[0m",
      "\u001b[1;32m<ipython-input-2-e86902145311>\u001b[0m in \u001b[0;36mconsulta_refext\u001b[1;34m(row, name_file, name_col_ref, name_col_filt, name_col_search)\u001b[0m\n\u001b[0;32m     12\u001b[0m     \u001b[1;32mif\u001b[0m \u001b[0mrow\u001b[0m \u001b[1;33m[\u001b[0m\u001b[0mname_col_filt\u001b[0m\u001b[1;33m]\u001b[0m\u001b[1;33m==\u001b[0m\u001b[1;36m0\u001b[0m\u001b[1;33m:\u001b[0m\u001b[1;33m\u001b[0m\u001b[0m\n\u001b[0;32m     13\u001b[0m         \u001b[1;32mreturn\u001b[0m \u001b[0mrow\u001b[0m\u001b[1;33m[\u001b[0m\u001b[0mname_col_filt\u001b[0m\u001b[1;33m]\u001b[0m\u001b[1;33m\u001b[0m\u001b[0m\n\u001b[1;32m---> 14\u001b[1;33m     \u001b[0mdata_frame\u001b[0m \u001b[1;33m=\u001b[0m \u001b[0mpd\u001b[0m\u001b[1;33m.\u001b[0m\u001b[0mread_csv\u001b[0m\u001b[1;33m(\u001b[0m\u001b[0mname_file\u001b[0m\u001b[1;33m,\u001b[0m\u001b[0msep\u001b[0m\u001b[1;33m=\u001b[0m\u001b[1;34m';'\u001b[0m\u001b[1;33m)\u001b[0m\u001b[1;33m\u001b[0m\u001b[0m\n\u001b[0m\u001b[0;32m     15\u001b[0m     \u001b[1;32mreturn\u001b[0m \u001b[0mint\u001b[0m\u001b[1;33m(\u001b[0m\u001b[0mdata_frame\u001b[0m\u001b[1;33m[\u001b[0m\u001b[0mdata_frame\u001b[0m\u001b[1;33m[\u001b[0m\u001b[0mname_col_ref\u001b[0m\u001b[1;33m]\u001b[0m\u001b[1;33m==\u001b[0m\u001b[0mrow\u001b[0m\u001b[1;33m[\u001b[0m\u001b[0mname_col_filt\u001b[0m\u001b[1;33m]\u001b[0m\u001b[1;33m]\u001b[0m\u001b[1;33m[\u001b[0m\u001b[0mname_col_search\u001b[0m\u001b[1;33m]\u001b[0m\u001b[1;33m)\u001b[0m\u001b[1;33m\u001b[0m\u001b[0m\n",
      "\u001b[1;32m/usr/local/lib/python3.4/dist-packages/pandas/io/parsers.py\u001b[0m in \u001b[0;36mparser_f\u001b[1;34m(filepath_or_buffer, sep, dialect, compression, doublequote, escapechar, quotechar, quoting, skipinitialspace, lineterminator, header, index_col, names, prefix, skiprows, skipfooter, skip_footer, na_values, na_fvalues, true_values, false_values, delimiter, converters, dtype, usecols, engine, delim_whitespace, as_recarray, na_filter, compact_ints, use_unsigned, low_memory, buffer_lines, warn_bad_lines, error_bad_lines, keep_default_na, thousands, comment, decimal, parse_dates, keep_date_col, dayfirst, date_parser, memory_map, float_precision, nrows, iterator, chunksize, verbose, encoding, squeeze, mangle_dupe_cols, tupleize_cols, infer_datetime_format, skip_blank_lines)\u001b[0m\n\u001b[0;32m    468\u001b[0m                     skip_blank_lines=skip_blank_lines)\n\u001b[0;32m    469\u001b[0m \u001b[1;33m\u001b[0m\u001b[0m\n\u001b[1;32m--> 470\u001b[1;33m         \u001b[1;32mreturn\u001b[0m \u001b[0m_read\u001b[0m\u001b[1;33m(\u001b[0m\u001b[0mfilepath_or_buffer\u001b[0m\u001b[1;33m,\u001b[0m \u001b[0mkwds\u001b[0m\u001b[1;33m)\u001b[0m\u001b[1;33m\u001b[0m\u001b[0m\n\u001b[0m\u001b[0;32m    471\u001b[0m \u001b[1;33m\u001b[0m\u001b[0m\n\u001b[0;32m    472\u001b[0m     \u001b[0mparser_f\u001b[0m\u001b[1;33m.\u001b[0m\u001b[0m__name__\u001b[0m \u001b[1;33m=\u001b[0m \u001b[0mname\u001b[0m\u001b[1;33m\u001b[0m\u001b[0m\n",
      "\u001b[1;32m/usr/local/lib/python3.4/dist-packages/pandas/io/parsers.py\u001b[0m in \u001b[0;36m_read\u001b[1;34m(filepath_or_buffer, kwds)\u001b[0m\n\u001b[0;32m    244\u001b[0m \u001b[1;33m\u001b[0m\u001b[0m\n\u001b[0;32m    245\u001b[0m     \u001b[1;31m# Create the parser.\u001b[0m\u001b[1;33m\u001b[0m\u001b[1;33m\u001b[0m\u001b[0m\n\u001b[1;32m--> 246\u001b[1;33m     \u001b[0mparser\u001b[0m \u001b[1;33m=\u001b[0m \u001b[0mTextFileReader\u001b[0m\u001b[1;33m(\u001b[0m\u001b[0mfilepath_or_buffer\u001b[0m\u001b[1;33m,\u001b[0m \u001b[1;33m**\u001b[0m\u001b[0mkwds\u001b[0m\u001b[1;33m)\u001b[0m\u001b[1;33m\u001b[0m\u001b[0m\n\u001b[0m\u001b[0;32m    247\u001b[0m \u001b[1;33m\u001b[0m\u001b[0m\n\u001b[0;32m    248\u001b[0m     \u001b[1;32mif\u001b[0m \u001b[1;33m(\u001b[0m\u001b[0mnrows\u001b[0m \u001b[1;32mis\u001b[0m \u001b[1;32mnot\u001b[0m \u001b[1;32mNone\u001b[0m\u001b[1;33m)\u001b[0m \u001b[1;32mand\u001b[0m \u001b[1;33m(\u001b[0m\u001b[0mchunksize\u001b[0m \u001b[1;32mis\u001b[0m \u001b[1;32mnot\u001b[0m \u001b[1;32mNone\u001b[0m\u001b[1;33m)\u001b[0m\u001b[1;33m:\u001b[0m\u001b[1;33m\u001b[0m\u001b[0m\n",
      "\u001b[1;32m/usr/local/lib/python3.4/dist-packages/pandas/io/parsers.py\u001b[0m in \u001b[0;36m__init__\u001b[1;34m(self, f, engine, **kwds)\u001b[0m\n\u001b[0;32m    560\u001b[0m             \u001b[0mself\u001b[0m\u001b[1;33m.\u001b[0m\u001b[0moptions\u001b[0m\u001b[1;33m[\u001b[0m\u001b[1;34m'has_index_names'\u001b[0m\u001b[1;33m]\u001b[0m \u001b[1;33m=\u001b[0m \u001b[0mkwds\u001b[0m\u001b[1;33m[\u001b[0m\u001b[1;34m'has_index_names'\u001b[0m\u001b[1;33m]\u001b[0m\u001b[1;33m\u001b[0m\u001b[0m\n\u001b[0;32m    561\u001b[0m \u001b[1;33m\u001b[0m\u001b[0m\n\u001b[1;32m--> 562\u001b[1;33m         \u001b[0mself\u001b[0m\u001b[1;33m.\u001b[0m\u001b[0m_make_engine\u001b[0m\u001b[1;33m(\u001b[0m\u001b[0mself\u001b[0m\u001b[1;33m.\u001b[0m\u001b[0mengine\u001b[0m\u001b[1;33m)\u001b[0m\u001b[1;33m\u001b[0m\u001b[0m\n\u001b[0m\u001b[0;32m    563\u001b[0m \u001b[1;33m\u001b[0m\u001b[0m\n\u001b[0;32m    564\u001b[0m     \u001b[1;32mdef\u001b[0m \u001b[0m_get_options_with_defaults\u001b[0m\u001b[1;33m(\u001b[0m\u001b[0mself\u001b[0m\u001b[1;33m,\u001b[0m \u001b[0mengine\u001b[0m\u001b[1;33m)\u001b[0m\u001b[1;33m:\u001b[0m\u001b[1;33m\u001b[0m\u001b[0m\n",
      "\u001b[1;32m/usr/local/lib/python3.4/dist-packages/pandas/io/parsers.py\u001b[0m in \u001b[0;36m_make_engine\u001b[1;34m(self, engine)\u001b[0m\n\u001b[0;32m    697\u001b[0m     \u001b[1;32mdef\u001b[0m \u001b[0m_make_engine\u001b[0m\u001b[1;33m(\u001b[0m\u001b[0mself\u001b[0m\u001b[1;33m,\u001b[0m \u001b[0mengine\u001b[0m\u001b[1;33m=\u001b[0m\u001b[1;34m'c'\u001b[0m\u001b[1;33m)\u001b[0m\u001b[1;33m:\u001b[0m\u001b[1;33m\u001b[0m\u001b[0m\n\u001b[0;32m    698\u001b[0m         \u001b[1;32mif\u001b[0m \u001b[0mengine\u001b[0m \u001b[1;33m==\u001b[0m \u001b[1;34m'c'\u001b[0m\u001b[1;33m:\u001b[0m\u001b[1;33m\u001b[0m\u001b[0m\n\u001b[1;32m--> 699\u001b[1;33m             \u001b[0mself\u001b[0m\u001b[1;33m.\u001b[0m\u001b[0m_engine\u001b[0m \u001b[1;33m=\u001b[0m \u001b[0mCParserWrapper\u001b[0m\u001b[1;33m(\u001b[0m\u001b[0mself\u001b[0m\u001b[1;33m.\u001b[0m\u001b[0mf\u001b[0m\u001b[1;33m,\u001b[0m \u001b[1;33m**\u001b[0m\u001b[0mself\u001b[0m\u001b[1;33m.\u001b[0m\u001b[0moptions\u001b[0m\u001b[1;33m)\u001b[0m\u001b[1;33m\u001b[0m\u001b[0m\n\u001b[0m\u001b[0;32m    700\u001b[0m         \u001b[1;32melse\u001b[0m\u001b[1;33m:\u001b[0m\u001b[1;33m\u001b[0m\u001b[0m\n\u001b[0;32m    701\u001b[0m             \u001b[1;32mif\u001b[0m \u001b[0mengine\u001b[0m \u001b[1;33m==\u001b[0m \u001b[1;34m'python'\u001b[0m\u001b[1;33m:\u001b[0m\u001b[1;33m\u001b[0m\u001b[0m\n",
      "\u001b[1;32m/usr/local/lib/python3.4/dist-packages/pandas/io/parsers.py\u001b[0m in \u001b[0;36m__init__\u001b[1;34m(self, src, **kwds)\u001b[0m\n\u001b[0;32m   1064\u001b[0m         \u001b[0mkwds\u001b[0m\u001b[1;33m[\u001b[0m\u001b[1;34m'allow_leading_cols'\u001b[0m\u001b[1;33m]\u001b[0m \u001b[1;33m=\u001b[0m \u001b[0mself\u001b[0m\u001b[1;33m.\u001b[0m\u001b[0mindex_col\u001b[0m \u001b[1;32mis\u001b[0m \u001b[1;32mnot\u001b[0m \u001b[1;32mFalse\u001b[0m\u001b[1;33m\u001b[0m\u001b[0m\n\u001b[0;32m   1065\u001b[0m \u001b[1;33m\u001b[0m\u001b[0m\n\u001b[1;32m-> 1066\u001b[1;33m         \u001b[0mself\u001b[0m\u001b[1;33m.\u001b[0m\u001b[0m_reader\u001b[0m \u001b[1;33m=\u001b[0m \u001b[0m_parser\u001b[0m\u001b[1;33m.\u001b[0m\u001b[0mTextReader\u001b[0m\u001b[1;33m(\u001b[0m\u001b[0msrc\u001b[0m\u001b[1;33m,\u001b[0m \u001b[1;33m**\u001b[0m\u001b[0mkwds\u001b[0m\u001b[1;33m)\u001b[0m\u001b[1;33m\u001b[0m\u001b[0m\n\u001b[0m\u001b[0;32m   1067\u001b[0m \u001b[1;33m\u001b[0m\u001b[0m\n\u001b[0;32m   1068\u001b[0m         \u001b[1;31m# XXX\u001b[0m\u001b[1;33m\u001b[0m\u001b[1;33m\u001b[0m\u001b[0m\n",
      "\u001b[1;32mpandas/parser.pyx\u001b[0m in \u001b[0;36mpandas.parser.TextReader.__cinit__ (pandas/parser.c:3163)\u001b[1;34m()\u001b[0m\n",
      "\u001b[1;32mpandas/parser.pyx\u001b[0m in \u001b[0;36mpandas.parser.TextReader._setup_parser_source (pandas/parser.c:5779)\u001b[1;34m()\u001b[0m\n",
      "\u001b[1;31mOSError\u001b[0m: (\"File b'COORD-SUBZONA-1977.csv' does not exist\", 'occurred at index 24')"
     ]
    }
   ],
   "source": [
    "#Getting from the csv file the \"CO_X\" code correspondent to the \"SUBZONA_ESC\" code\n",
    "od1977['CO_ESC_X'] = od1977.apply(lambda row: consulta_refext(row, 'COORD-SUBZONA-1977.csv', 'SUBZONA', 'SUBZONA_ESC', 'CO_X'), axis=1)"
   ]
  },
  {
   "cell_type": "markdown",
   "metadata": {},
   "source": [
    "-----\n",
    "##Passo 31: \"CO_ESC_Y\"\n",
    "\n",
    "Na coluna \"CO_ESC_Y\", linha i, ler o valor da linha i da coluna \"SUBZONA_ESC\", daí, buscar o mesmo valor na coluna \"SUBZONA\" do arquivo COORD-SUBZONA-1977.csv. Ao achar, retornar o valor da mesma linha, só que da coluna \"CO_Y\"\n"
   ]
  },
  {
   "cell_type": "code",
   "execution_count": 95,
   "metadata": {
    "collapsed": false
   },
   "outputs": [
    {
     "ename": "OSError",
     "evalue": "(\"File b'COORD-SUBZONA-1977.csv' does not exist\", 'occurred at index 24')",
     "output_type": "error",
     "traceback": [
      "\u001b[1;31m---------------------------------------------------------------------------\u001b[0m",
      "\u001b[1;31mOSError\u001b[0m                                   Traceback (most recent call last)",
      "\u001b[1;32m<ipython-input-95-deef12fbf0b9>\u001b[0m in \u001b[0;36m<module>\u001b[1;34m()\u001b[0m\n\u001b[0;32m      1\u001b[0m \u001b[1;31m#Getting from the csv file the \"CO_Y\" code correspondent to the \"SUBZONA_ESC\" code\u001b[0m\u001b[1;33m\u001b[0m\u001b[1;33m\u001b[0m\u001b[0m\n\u001b[1;32m----> 2\u001b[1;33m \u001b[0mod1977\u001b[0m\u001b[1;33m[\u001b[0m\u001b[1;34m'CO_ESC_Y'\u001b[0m\u001b[1;33m]\u001b[0m \u001b[1;33m=\u001b[0m \u001b[0mod1977\u001b[0m\u001b[1;33m.\u001b[0m\u001b[0mapply\u001b[0m\u001b[1;33m(\u001b[0m\u001b[1;32mlambda\u001b[0m \u001b[0mrow\u001b[0m\u001b[1;33m:\u001b[0m \u001b[0mconsulta_refext\u001b[0m\u001b[1;33m(\u001b[0m\u001b[0mrow\u001b[0m\u001b[1;33m,\u001b[0m \u001b[1;34m'COORD-SUBZONA-1977.csv'\u001b[0m\u001b[1;33m,\u001b[0m \u001b[1;34m'SUBZONA'\u001b[0m\u001b[1;33m,\u001b[0m \u001b[1;34m'SUBZONA_ESC'\u001b[0m\u001b[1;33m,\u001b[0m \u001b[1;34m'CO_Y'\u001b[0m\u001b[1;33m)\u001b[0m\u001b[1;33m,\u001b[0m \u001b[0maxis\u001b[0m\u001b[1;33m=\u001b[0m\u001b[1;36m1\u001b[0m\u001b[1;33m)\u001b[0m\u001b[1;33m\u001b[0m\u001b[0m\n\u001b[0m",
      "\u001b[1;32m/usr/local/lib/python3.4/dist-packages/pandas/core/frame.py\u001b[0m in \u001b[0;36mapply\u001b[1;34m(self, func, axis, broadcast, raw, reduce, args, **kwds)\u001b[0m\n\u001b[0;32m   3687\u001b[0m                     \u001b[1;32mif\u001b[0m \u001b[0mreduce\u001b[0m \u001b[1;32mis\u001b[0m \u001b[1;32mNone\u001b[0m\u001b[1;33m:\u001b[0m\u001b[1;33m\u001b[0m\u001b[0m\n\u001b[0;32m   3688\u001b[0m                         \u001b[0mreduce\u001b[0m \u001b[1;33m=\u001b[0m \u001b[1;32mTrue\u001b[0m\u001b[1;33m\u001b[0m\u001b[0m\n\u001b[1;32m-> 3689\u001b[1;33m                     \u001b[1;32mreturn\u001b[0m \u001b[0mself\u001b[0m\u001b[1;33m.\u001b[0m\u001b[0m_apply_standard\u001b[0m\u001b[1;33m(\u001b[0m\u001b[0mf\u001b[0m\u001b[1;33m,\u001b[0m \u001b[0maxis\u001b[0m\u001b[1;33m,\u001b[0m \u001b[0mreduce\u001b[0m\u001b[1;33m=\u001b[0m\u001b[0mreduce\u001b[0m\u001b[1;33m)\u001b[0m\u001b[1;33m\u001b[0m\u001b[0m\n\u001b[0m\u001b[0;32m   3690\u001b[0m             \u001b[1;32melse\u001b[0m\u001b[1;33m:\u001b[0m\u001b[1;33m\u001b[0m\u001b[0m\n\u001b[0;32m   3691\u001b[0m                 \u001b[1;32mreturn\u001b[0m \u001b[0mself\u001b[0m\u001b[1;33m.\u001b[0m\u001b[0m_apply_broadcast\u001b[0m\u001b[1;33m(\u001b[0m\u001b[0mf\u001b[0m\u001b[1;33m,\u001b[0m \u001b[0maxis\u001b[0m\u001b[1;33m)\u001b[0m\u001b[1;33m\u001b[0m\u001b[0m\n",
      "\u001b[1;32m/usr/local/lib/python3.4/dist-packages/pandas/core/frame.py\u001b[0m in \u001b[0;36m_apply_standard\u001b[1;34m(self, func, axis, ignore_failures, reduce)\u001b[0m\n\u001b[0;32m   3777\u001b[0m             \u001b[1;32mtry\u001b[0m\u001b[1;33m:\u001b[0m\u001b[1;33m\u001b[0m\u001b[0m\n\u001b[0;32m   3778\u001b[0m                 \u001b[1;32mfor\u001b[0m \u001b[0mi\u001b[0m\u001b[1;33m,\u001b[0m \u001b[0mv\u001b[0m \u001b[1;32min\u001b[0m \u001b[0menumerate\u001b[0m\u001b[1;33m(\u001b[0m\u001b[0mseries_gen\u001b[0m\u001b[1;33m)\u001b[0m\u001b[1;33m:\u001b[0m\u001b[1;33m\u001b[0m\u001b[0m\n\u001b[1;32m-> 3779\u001b[1;33m                     \u001b[0mresults\u001b[0m\u001b[1;33m[\u001b[0m\u001b[0mi\u001b[0m\u001b[1;33m]\u001b[0m \u001b[1;33m=\u001b[0m \u001b[0mfunc\u001b[0m\u001b[1;33m(\u001b[0m\u001b[0mv\u001b[0m\u001b[1;33m)\u001b[0m\u001b[1;33m\u001b[0m\u001b[0m\n\u001b[0m\u001b[0;32m   3780\u001b[0m                     \u001b[0mkeys\u001b[0m\u001b[1;33m.\u001b[0m\u001b[0mappend\u001b[0m\u001b[1;33m(\u001b[0m\u001b[0mv\u001b[0m\u001b[1;33m.\u001b[0m\u001b[0mname\u001b[0m\u001b[1;33m)\u001b[0m\u001b[1;33m\u001b[0m\u001b[0m\n\u001b[0;32m   3781\u001b[0m             \u001b[1;32mexcept\u001b[0m \u001b[0mException\u001b[0m \u001b[1;32mas\u001b[0m \u001b[0me\u001b[0m\u001b[1;33m:\u001b[0m\u001b[1;33m\u001b[0m\u001b[0m\n",
      "\u001b[1;32m<ipython-input-95-deef12fbf0b9>\u001b[0m in \u001b[0;36m<lambda>\u001b[1;34m(row)\u001b[0m\n\u001b[0;32m      1\u001b[0m \u001b[1;31m#Getting from the csv file the \"CO_Y\" code correspondent to the \"SUBZONA_ESC\" code\u001b[0m\u001b[1;33m\u001b[0m\u001b[1;33m\u001b[0m\u001b[0m\n\u001b[1;32m----> 2\u001b[1;33m \u001b[0mod1977\u001b[0m\u001b[1;33m[\u001b[0m\u001b[1;34m'CO_ESC_Y'\u001b[0m\u001b[1;33m]\u001b[0m \u001b[1;33m=\u001b[0m \u001b[0mod1977\u001b[0m\u001b[1;33m.\u001b[0m\u001b[0mapply\u001b[0m\u001b[1;33m(\u001b[0m\u001b[1;32mlambda\u001b[0m \u001b[0mrow\u001b[0m\u001b[1;33m:\u001b[0m \u001b[0mconsulta_refext\u001b[0m\u001b[1;33m(\u001b[0m\u001b[0mrow\u001b[0m\u001b[1;33m,\u001b[0m \u001b[1;34m'COORD-SUBZONA-1977.csv'\u001b[0m\u001b[1;33m,\u001b[0m \u001b[1;34m'SUBZONA'\u001b[0m\u001b[1;33m,\u001b[0m \u001b[1;34m'SUBZONA_ESC'\u001b[0m\u001b[1;33m,\u001b[0m \u001b[1;34m'CO_Y'\u001b[0m\u001b[1;33m)\u001b[0m\u001b[1;33m,\u001b[0m \u001b[0maxis\u001b[0m\u001b[1;33m=\u001b[0m\u001b[1;36m1\u001b[0m\u001b[1;33m)\u001b[0m\u001b[1;33m\u001b[0m\u001b[0m\n\u001b[0m",
      "\u001b[1;32m<ipython-input-2-e86902145311>\u001b[0m in \u001b[0;36mconsulta_refext\u001b[1;34m(row, name_file, name_col_ref, name_col_filt, name_col_search)\u001b[0m\n\u001b[0;32m     12\u001b[0m     \u001b[1;32mif\u001b[0m \u001b[0mrow\u001b[0m \u001b[1;33m[\u001b[0m\u001b[0mname_col_filt\u001b[0m\u001b[1;33m]\u001b[0m\u001b[1;33m==\u001b[0m\u001b[1;36m0\u001b[0m\u001b[1;33m:\u001b[0m\u001b[1;33m\u001b[0m\u001b[0m\n\u001b[0;32m     13\u001b[0m         \u001b[1;32mreturn\u001b[0m \u001b[0mrow\u001b[0m\u001b[1;33m[\u001b[0m\u001b[0mname_col_filt\u001b[0m\u001b[1;33m]\u001b[0m\u001b[1;33m\u001b[0m\u001b[0m\n\u001b[1;32m---> 14\u001b[1;33m     \u001b[0mdata_frame\u001b[0m \u001b[1;33m=\u001b[0m \u001b[0mpd\u001b[0m\u001b[1;33m.\u001b[0m\u001b[0mread_csv\u001b[0m\u001b[1;33m(\u001b[0m\u001b[0mname_file\u001b[0m\u001b[1;33m,\u001b[0m\u001b[0msep\u001b[0m\u001b[1;33m=\u001b[0m\u001b[1;34m';'\u001b[0m\u001b[1;33m)\u001b[0m\u001b[1;33m\u001b[0m\u001b[0m\n\u001b[0m\u001b[0;32m     15\u001b[0m     \u001b[1;32mreturn\u001b[0m \u001b[0mint\u001b[0m\u001b[1;33m(\u001b[0m\u001b[0mdata_frame\u001b[0m\u001b[1;33m[\u001b[0m\u001b[0mdata_frame\u001b[0m\u001b[1;33m[\u001b[0m\u001b[0mname_col_ref\u001b[0m\u001b[1;33m]\u001b[0m\u001b[1;33m==\u001b[0m\u001b[0mrow\u001b[0m\u001b[1;33m[\u001b[0m\u001b[0mname_col_filt\u001b[0m\u001b[1;33m]\u001b[0m\u001b[1;33m]\u001b[0m\u001b[1;33m[\u001b[0m\u001b[0mname_col_search\u001b[0m\u001b[1;33m]\u001b[0m\u001b[1;33m)\u001b[0m\u001b[1;33m\u001b[0m\u001b[0m\n",
      "\u001b[1;32m/usr/local/lib/python3.4/dist-packages/pandas/io/parsers.py\u001b[0m in \u001b[0;36mparser_f\u001b[1;34m(filepath_or_buffer, sep, dialect, compression, doublequote, escapechar, quotechar, quoting, skipinitialspace, lineterminator, header, index_col, names, prefix, skiprows, skipfooter, skip_footer, na_values, na_fvalues, true_values, false_values, delimiter, converters, dtype, usecols, engine, delim_whitespace, as_recarray, na_filter, compact_ints, use_unsigned, low_memory, buffer_lines, warn_bad_lines, error_bad_lines, keep_default_na, thousands, comment, decimal, parse_dates, keep_date_col, dayfirst, date_parser, memory_map, float_precision, nrows, iterator, chunksize, verbose, encoding, squeeze, mangle_dupe_cols, tupleize_cols, infer_datetime_format, skip_blank_lines)\u001b[0m\n\u001b[0;32m    468\u001b[0m                     skip_blank_lines=skip_blank_lines)\n\u001b[0;32m    469\u001b[0m \u001b[1;33m\u001b[0m\u001b[0m\n\u001b[1;32m--> 470\u001b[1;33m         \u001b[1;32mreturn\u001b[0m \u001b[0m_read\u001b[0m\u001b[1;33m(\u001b[0m\u001b[0mfilepath_or_buffer\u001b[0m\u001b[1;33m,\u001b[0m \u001b[0mkwds\u001b[0m\u001b[1;33m)\u001b[0m\u001b[1;33m\u001b[0m\u001b[0m\n\u001b[0m\u001b[0;32m    471\u001b[0m \u001b[1;33m\u001b[0m\u001b[0m\n\u001b[0;32m    472\u001b[0m     \u001b[0mparser_f\u001b[0m\u001b[1;33m.\u001b[0m\u001b[0m__name__\u001b[0m \u001b[1;33m=\u001b[0m \u001b[0mname\u001b[0m\u001b[1;33m\u001b[0m\u001b[0m\n",
      "\u001b[1;32m/usr/local/lib/python3.4/dist-packages/pandas/io/parsers.py\u001b[0m in \u001b[0;36m_read\u001b[1;34m(filepath_or_buffer, kwds)\u001b[0m\n\u001b[0;32m    244\u001b[0m \u001b[1;33m\u001b[0m\u001b[0m\n\u001b[0;32m    245\u001b[0m     \u001b[1;31m# Create the parser.\u001b[0m\u001b[1;33m\u001b[0m\u001b[1;33m\u001b[0m\u001b[0m\n\u001b[1;32m--> 246\u001b[1;33m     \u001b[0mparser\u001b[0m \u001b[1;33m=\u001b[0m \u001b[0mTextFileReader\u001b[0m\u001b[1;33m(\u001b[0m\u001b[0mfilepath_or_buffer\u001b[0m\u001b[1;33m,\u001b[0m \u001b[1;33m**\u001b[0m\u001b[0mkwds\u001b[0m\u001b[1;33m)\u001b[0m\u001b[1;33m\u001b[0m\u001b[0m\n\u001b[0m\u001b[0;32m    247\u001b[0m \u001b[1;33m\u001b[0m\u001b[0m\n\u001b[0;32m    248\u001b[0m     \u001b[1;32mif\u001b[0m \u001b[1;33m(\u001b[0m\u001b[0mnrows\u001b[0m \u001b[1;32mis\u001b[0m \u001b[1;32mnot\u001b[0m \u001b[1;32mNone\u001b[0m\u001b[1;33m)\u001b[0m \u001b[1;32mand\u001b[0m \u001b[1;33m(\u001b[0m\u001b[0mchunksize\u001b[0m \u001b[1;32mis\u001b[0m \u001b[1;32mnot\u001b[0m \u001b[1;32mNone\u001b[0m\u001b[1;33m)\u001b[0m\u001b[1;33m:\u001b[0m\u001b[1;33m\u001b[0m\u001b[0m\n",
      "\u001b[1;32m/usr/local/lib/python3.4/dist-packages/pandas/io/parsers.py\u001b[0m in \u001b[0;36m__init__\u001b[1;34m(self, f, engine, **kwds)\u001b[0m\n\u001b[0;32m    560\u001b[0m             \u001b[0mself\u001b[0m\u001b[1;33m.\u001b[0m\u001b[0moptions\u001b[0m\u001b[1;33m[\u001b[0m\u001b[1;34m'has_index_names'\u001b[0m\u001b[1;33m]\u001b[0m \u001b[1;33m=\u001b[0m \u001b[0mkwds\u001b[0m\u001b[1;33m[\u001b[0m\u001b[1;34m'has_index_names'\u001b[0m\u001b[1;33m]\u001b[0m\u001b[1;33m\u001b[0m\u001b[0m\n\u001b[0;32m    561\u001b[0m \u001b[1;33m\u001b[0m\u001b[0m\n\u001b[1;32m--> 562\u001b[1;33m         \u001b[0mself\u001b[0m\u001b[1;33m.\u001b[0m\u001b[0m_make_engine\u001b[0m\u001b[1;33m(\u001b[0m\u001b[0mself\u001b[0m\u001b[1;33m.\u001b[0m\u001b[0mengine\u001b[0m\u001b[1;33m)\u001b[0m\u001b[1;33m\u001b[0m\u001b[0m\n\u001b[0m\u001b[0;32m    563\u001b[0m \u001b[1;33m\u001b[0m\u001b[0m\n\u001b[0;32m    564\u001b[0m     \u001b[1;32mdef\u001b[0m \u001b[0m_get_options_with_defaults\u001b[0m\u001b[1;33m(\u001b[0m\u001b[0mself\u001b[0m\u001b[1;33m,\u001b[0m \u001b[0mengine\u001b[0m\u001b[1;33m)\u001b[0m\u001b[1;33m:\u001b[0m\u001b[1;33m\u001b[0m\u001b[0m\n",
      "\u001b[1;32m/usr/local/lib/python3.4/dist-packages/pandas/io/parsers.py\u001b[0m in \u001b[0;36m_make_engine\u001b[1;34m(self, engine)\u001b[0m\n\u001b[0;32m    697\u001b[0m     \u001b[1;32mdef\u001b[0m \u001b[0m_make_engine\u001b[0m\u001b[1;33m(\u001b[0m\u001b[0mself\u001b[0m\u001b[1;33m,\u001b[0m \u001b[0mengine\u001b[0m\u001b[1;33m=\u001b[0m\u001b[1;34m'c'\u001b[0m\u001b[1;33m)\u001b[0m\u001b[1;33m:\u001b[0m\u001b[1;33m\u001b[0m\u001b[0m\n\u001b[0;32m    698\u001b[0m         \u001b[1;32mif\u001b[0m \u001b[0mengine\u001b[0m \u001b[1;33m==\u001b[0m \u001b[1;34m'c'\u001b[0m\u001b[1;33m:\u001b[0m\u001b[1;33m\u001b[0m\u001b[0m\n\u001b[1;32m--> 699\u001b[1;33m             \u001b[0mself\u001b[0m\u001b[1;33m.\u001b[0m\u001b[0m_engine\u001b[0m \u001b[1;33m=\u001b[0m \u001b[0mCParserWrapper\u001b[0m\u001b[1;33m(\u001b[0m\u001b[0mself\u001b[0m\u001b[1;33m.\u001b[0m\u001b[0mf\u001b[0m\u001b[1;33m,\u001b[0m \u001b[1;33m**\u001b[0m\u001b[0mself\u001b[0m\u001b[1;33m.\u001b[0m\u001b[0moptions\u001b[0m\u001b[1;33m)\u001b[0m\u001b[1;33m\u001b[0m\u001b[0m\n\u001b[0m\u001b[0;32m    700\u001b[0m         \u001b[1;32melse\u001b[0m\u001b[1;33m:\u001b[0m\u001b[1;33m\u001b[0m\u001b[0m\n\u001b[0;32m    701\u001b[0m             \u001b[1;32mif\u001b[0m \u001b[0mengine\u001b[0m \u001b[1;33m==\u001b[0m \u001b[1;34m'python'\u001b[0m\u001b[1;33m:\u001b[0m\u001b[1;33m\u001b[0m\u001b[0m\n",
      "\u001b[1;32m/usr/local/lib/python3.4/dist-packages/pandas/io/parsers.py\u001b[0m in \u001b[0;36m__init__\u001b[1;34m(self, src, **kwds)\u001b[0m\n\u001b[0;32m   1064\u001b[0m         \u001b[0mkwds\u001b[0m\u001b[1;33m[\u001b[0m\u001b[1;34m'allow_leading_cols'\u001b[0m\u001b[1;33m]\u001b[0m \u001b[1;33m=\u001b[0m \u001b[0mself\u001b[0m\u001b[1;33m.\u001b[0m\u001b[0mindex_col\u001b[0m \u001b[1;32mis\u001b[0m \u001b[1;32mnot\u001b[0m \u001b[1;32mFalse\u001b[0m\u001b[1;33m\u001b[0m\u001b[0m\n\u001b[0;32m   1065\u001b[0m \u001b[1;33m\u001b[0m\u001b[0m\n\u001b[1;32m-> 1066\u001b[1;33m         \u001b[0mself\u001b[0m\u001b[1;33m.\u001b[0m\u001b[0m_reader\u001b[0m \u001b[1;33m=\u001b[0m \u001b[0m_parser\u001b[0m\u001b[1;33m.\u001b[0m\u001b[0mTextReader\u001b[0m\u001b[1;33m(\u001b[0m\u001b[0msrc\u001b[0m\u001b[1;33m,\u001b[0m \u001b[1;33m**\u001b[0m\u001b[0mkwds\u001b[0m\u001b[1;33m)\u001b[0m\u001b[1;33m\u001b[0m\u001b[0m\n\u001b[0m\u001b[0;32m   1067\u001b[0m \u001b[1;33m\u001b[0m\u001b[0m\n\u001b[0;32m   1068\u001b[0m         \u001b[1;31m# XXX\u001b[0m\u001b[1;33m\u001b[0m\u001b[1;33m\u001b[0m\u001b[0m\n",
      "\u001b[1;32mpandas/parser.pyx\u001b[0m in \u001b[0;36mpandas.parser.TextReader.__cinit__ (pandas/parser.c:3163)\u001b[1;34m()\u001b[0m\n",
      "\u001b[1;32mpandas/parser.pyx\u001b[0m in \u001b[0;36mpandas.parser.TextReader._setup_parser_source (pandas/parser.c:5779)\u001b[1;34m()\u001b[0m\n",
      "\u001b[1;31mOSError\u001b[0m: (\"File b'COORD-SUBZONA-1977.csv' does not exist\", 'occurred at index 24')"
     ]
    }
   ],
   "source": [
    "#Getting from the csv file the \"CO_Y\" code correspondent to the \"SUBZONA_ESC\" code\n",
    "od1977['CO_ESC_Y'] = od1977.apply(lambda row: consulta_refext(row, 'COORD-SUBZONA-1977.csv', 'SUBZONA', 'SUBZONA_ESC', 'CO_Y'), axis=1)"
   ]
  },
  {
   "cell_type": "markdown",
   "metadata": {},
   "source": [
    "-----\n",
    "##Passo 32: \"UCOD_TRAB1\"\n",
    "Na coluna \"UCOD_TRAB1\", linha i, ler o valor da linha i da coluna \"ZONA_TRAB1\", daí, buscar o mesmo valor na coluna \"Zona 1977\" do arquivo UCOD-1977.csv. Ao achar, retornar o valor da mesma linha, só que da coluna \"UCOD_TRAB1\"\n",
    "\n",
    "[Teste: no banco completo, checar se o min == 1 e o max == 67]"
   ]
  },
  {
   "cell_type": "code",
   "execution_count": 96,
   "metadata": {
    "collapsed": false
   },
   "outputs": [
    {
     "ename": "TypeError",
     "evalue": "(\"cannot convert the series to <class 'int'>\", 'occurred at index 459')",
     "output_type": "error",
     "traceback": [
      "\u001b[1;31m---------------------------------------------------------------------------\u001b[0m",
      "\u001b[1;31mTypeError\u001b[0m                                 Traceback (most recent call last)",
      "\u001b[1;32m<ipython-input-96-c9316b02efdf>\u001b[0m in \u001b[0;36m<module>\u001b[1;34m()\u001b[0m\n\u001b[0;32m      1\u001b[0m \u001b[1;31m#Getting from the csv file the \"UCOD\" code correspondent to the \"ZONA_TRAB1\" code\u001b[0m\u001b[1;33m\u001b[0m\u001b[1;33m\u001b[0m\u001b[0m\n\u001b[1;32m----> 2\u001b[1;33m \u001b[0mod1977\u001b[0m\u001b[1;33m[\u001b[0m\u001b[1;34m'UCOD_TRAB1'\u001b[0m\u001b[1;33m]\u001b[0m \u001b[1;33m=\u001b[0m \u001b[0mod1977\u001b[0m\u001b[1;33m.\u001b[0m\u001b[0mapply\u001b[0m\u001b[1;33m(\u001b[0m\u001b[1;32mlambda\u001b[0m \u001b[0mrow\u001b[0m\u001b[1;33m:\u001b[0m \u001b[0mconsulta_refext\u001b[0m\u001b[1;33m(\u001b[0m\u001b[0mrow\u001b[0m\u001b[1;33m,\u001b[0m \u001b[1;34m'UCOD-1977.csv'\u001b[0m\u001b[1;33m,\u001b[0m \u001b[1;34m'Zona 1977'\u001b[0m\u001b[1;33m,\u001b[0m \u001b[1;34m'ZONA_TRAB1'\u001b[0m\u001b[1;33m,\u001b[0m \u001b[1;34m'UCOD'\u001b[0m\u001b[1;33m)\u001b[0m\u001b[1;33m,\u001b[0m \u001b[0maxis\u001b[0m\u001b[1;33m=\u001b[0m\u001b[1;36m1\u001b[0m\u001b[1;33m)\u001b[0m\u001b[1;33m\u001b[0m\u001b[0m\n\u001b[0m",
      "\u001b[1;32m/usr/local/lib/python3.4/dist-packages/pandas/core/frame.py\u001b[0m in \u001b[0;36mapply\u001b[1;34m(self, func, axis, broadcast, raw, reduce, args, **kwds)\u001b[0m\n\u001b[0;32m   3687\u001b[0m                     \u001b[1;32mif\u001b[0m \u001b[0mreduce\u001b[0m \u001b[1;32mis\u001b[0m \u001b[1;32mNone\u001b[0m\u001b[1;33m:\u001b[0m\u001b[1;33m\u001b[0m\u001b[0m\n\u001b[0;32m   3688\u001b[0m                         \u001b[0mreduce\u001b[0m \u001b[1;33m=\u001b[0m \u001b[1;32mTrue\u001b[0m\u001b[1;33m\u001b[0m\u001b[0m\n\u001b[1;32m-> 3689\u001b[1;33m                     \u001b[1;32mreturn\u001b[0m \u001b[0mself\u001b[0m\u001b[1;33m.\u001b[0m\u001b[0m_apply_standard\u001b[0m\u001b[1;33m(\u001b[0m\u001b[0mf\u001b[0m\u001b[1;33m,\u001b[0m \u001b[0maxis\u001b[0m\u001b[1;33m,\u001b[0m \u001b[0mreduce\u001b[0m\u001b[1;33m=\u001b[0m\u001b[0mreduce\u001b[0m\u001b[1;33m)\u001b[0m\u001b[1;33m\u001b[0m\u001b[0m\n\u001b[0m\u001b[0;32m   3690\u001b[0m             \u001b[1;32melse\u001b[0m\u001b[1;33m:\u001b[0m\u001b[1;33m\u001b[0m\u001b[0m\n\u001b[0;32m   3691\u001b[0m                 \u001b[1;32mreturn\u001b[0m \u001b[0mself\u001b[0m\u001b[1;33m.\u001b[0m\u001b[0m_apply_broadcast\u001b[0m\u001b[1;33m(\u001b[0m\u001b[0mf\u001b[0m\u001b[1;33m,\u001b[0m \u001b[0maxis\u001b[0m\u001b[1;33m)\u001b[0m\u001b[1;33m\u001b[0m\u001b[0m\n",
      "\u001b[1;32m/usr/local/lib/python3.4/dist-packages/pandas/core/frame.py\u001b[0m in \u001b[0;36m_apply_standard\u001b[1;34m(self, func, axis, ignore_failures, reduce)\u001b[0m\n\u001b[0;32m   3777\u001b[0m             \u001b[1;32mtry\u001b[0m\u001b[1;33m:\u001b[0m\u001b[1;33m\u001b[0m\u001b[0m\n\u001b[0;32m   3778\u001b[0m                 \u001b[1;32mfor\u001b[0m \u001b[0mi\u001b[0m\u001b[1;33m,\u001b[0m \u001b[0mv\u001b[0m \u001b[1;32min\u001b[0m \u001b[0menumerate\u001b[0m\u001b[1;33m(\u001b[0m\u001b[0mseries_gen\u001b[0m\u001b[1;33m)\u001b[0m\u001b[1;33m:\u001b[0m\u001b[1;33m\u001b[0m\u001b[0m\n\u001b[1;32m-> 3779\u001b[1;33m                     \u001b[0mresults\u001b[0m\u001b[1;33m[\u001b[0m\u001b[0mi\u001b[0m\u001b[1;33m]\u001b[0m \u001b[1;33m=\u001b[0m \u001b[0mfunc\u001b[0m\u001b[1;33m(\u001b[0m\u001b[0mv\u001b[0m\u001b[1;33m)\u001b[0m\u001b[1;33m\u001b[0m\u001b[0m\n\u001b[0m\u001b[0;32m   3780\u001b[0m                     \u001b[0mkeys\u001b[0m\u001b[1;33m.\u001b[0m\u001b[0mappend\u001b[0m\u001b[1;33m(\u001b[0m\u001b[0mv\u001b[0m\u001b[1;33m.\u001b[0m\u001b[0mname\u001b[0m\u001b[1;33m)\u001b[0m\u001b[1;33m\u001b[0m\u001b[0m\n\u001b[0;32m   3781\u001b[0m             \u001b[1;32mexcept\u001b[0m \u001b[0mException\u001b[0m \u001b[1;32mas\u001b[0m \u001b[0me\u001b[0m\u001b[1;33m:\u001b[0m\u001b[1;33m\u001b[0m\u001b[0m\n",
      "\u001b[1;32m<ipython-input-96-c9316b02efdf>\u001b[0m in \u001b[0;36m<lambda>\u001b[1;34m(row)\u001b[0m\n\u001b[0;32m      1\u001b[0m \u001b[1;31m#Getting from the csv file the \"UCOD\" code correspondent to the \"ZONA_TRAB1\" code\u001b[0m\u001b[1;33m\u001b[0m\u001b[1;33m\u001b[0m\u001b[0m\n\u001b[1;32m----> 2\u001b[1;33m \u001b[0mod1977\u001b[0m\u001b[1;33m[\u001b[0m\u001b[1;34m'UCOD_TRAB1'\u001b[0m\u001b[1;33m]\u001b[0m \u001b[1;33m=\u001b[0m \u001b[0mod1977\u001b[0m\u001b[1;33m.\u001b[0m\u001b[0mapply\u001b[0m\u001b[1;33m(\u001b[0m\u001b[1;32mlambda\u001b[0m \u001b[0mrow\u001b[0m\u001b[1;33m:\u001b[0m \u001b[0mconsulta_refext\u001b[0m\u001b[1;33m(\u001b[0m\u001b[0mrow\u001b[0m\u001b[1;33m,\u001b[0m \u001b[1;34m'UCOD-1977.csv'\u001b[0m\u001b[1;33m,\u001b[0m \u001b[1;34m'Zona 1977'\u001b[0m\u001b[1;33m,\u001b[0m \u001b[1;34m'ZONA_TRAB1'\u001b[0m\u001b[1;33m,\u001b[0m \u001b[1;34m'UCOD'\u001b[0m\u001b[1;33m)\u001b[0m\u001b[1;33m,\u001b[0m \u001b[0maxis\u001b[0m\u001b[1;33m=\u001b[0m\u001b[1;36m1\u001b[0m\u001b[1;33m)\u001b[0m\u001b[1;33m\u001b[0m\u001b[0m\n\u001b[0m",
      "\u001b[1;32m<ipython-input-2-e86902145311>\u001b[0m in \u001b[0;36mconsulta_refext\u001b[1;34m(row, name_file, name_col_ref, name_col_filt, name_col_search)\u001b[0m\n\u001b[0;32m     13\u001b[0m         \u001b[1;32mreturn\u001b[0m \u001b[0mrow\u001b[0m\u001b[1;33m[\u001b[0m\u001b[0mname_col_filt\u001b[0m\u001b[1;33m]\u001b[0m\u001b[1;33m\u001b[0m\u001b[0m\n\u001b[0;32m     14\u001b[0m     \u001b[0mdata_frame\u001b[0m \u001b[1;33m=\u001b[0m \u001b[0mpd\u001b[0m\u001b[1;33m.\u001b[0m\u001b[0mread_csv\u001b[0m\u001b[1;33m(\u001b[0m\u001b[0mname_file\u001b[0m\u001b[1;33m,\u001b[0m\u001b[0msep\u001b[0m\u001b[1;33m=\u001b[0m\u001b[1;34m';'\u001b[0m\u001b[1;33m)\u001b[0m\u001b[1;33m\u001b[0m\u001b[0m\n\u001b[1;32m---> 15\u001b[1;33m     \u001b[1;32mreturn\u001b[0m \u001b[0mint\u001b[0m\u001b[1;33m(\u001b[0m\u001b[0mdata_frame\u001b[0m\u001b[1;33m[\u001b[0m\u001b[0mdata_frame\u001b[0m\u001b[1;33m[\u001b[0m\u001b[0mname_col_ref\u001b[0m\u001b[1;33m]\u001b[0m\u001b[1;33m==\u001b[0m\u001b[0mrow\u001b[0m\u001b[1;33m[\u001b[0m\u001b[0mname_col_filt\u001b[0m\u001b[1;33m]\u001b[0m\u001b[1;33m]\u001b[0m\u001b[1;33m[\u001b[0m\u001b[0mname_col_search\u001b[0m\u001b[1;33m]\u001b[0m\u001b[1;33m)\u001b[0m\u001b[1;33m\u001b[0m\u001b[0m\n\u001b[0m",
      "\u001b[1;32m/usr/local/lib/python3.4/dist-packages/pandas/core/series.py\u001b[0m in \u001b[0;36mwrapper\u001b[1;34m(self)\u001b[0m\n\u001b[0;32m     75\u001b[0m             \u001b[1;32mreturn\u001b[0m \u001b[0mconverter\u001b[0m\u001b[1;33m(\u001b[0m\u001b[0mself\u001b[0m\u001b[1;33m.\u001b[0m\u001b[0miloc\u001b[0m\u001b[1;33m[\u001b[0m\u001b[1;36m0\u001b[0m\u001b[1;33m]\u001b[0m\u001b[1;33m)\u001b[0m\u001b[1;33m\u001b[0m\u001b[0m\n\u001b[0;32m     76\u001b[0m         raise TypeError(\n\u001b[1;32m---> 77\u001b[1;33m             \"cannot convert the series to {0}\".format(str(converter)))\n\u001b[0m\u001b[0;32m     78\u001b[0m     \u001b[1;32mreturn\u001b[0m \u001b[0mwrapper\u001b[0m\u001b[1;33m\u001b[0m\u001b[0m\n\u001b[0;32m     79\u001b[0m \u001b[1;33m\u001b[0m\u001b[0m\n",
      "\u001b[1;31mTypeError\u001b[0m: (\"cannot convert the series to <class 'int'>\", 'occurred at index 459')"
     ]
    }
   ],
   "source": [
    "#Getting from the csv file the \"UCOD\" code correspondent to the \"ZONA_TRAB1\" code\n",
    "od1977['UCOD_TRAB1'] = od1977.apply(lambda row: consulta_refext(row, 'UCOD-1977.csv', 'Zona 1977', 'ZONA_TRAB1', 'UCOD'), axis=1)"
   ]
  },
  {
   "cell_type": "code",
   "execution_count": null,
   "metadata": {
    "collapsed": true
   },
   "outputs": [],
   "source": [
    "if not impressao:\n",
    "    #Describing data (\"UCOD_TRAB1\" column) - count, mean, std, min and max\n",
    "    display(od1977['UCOD_TRAB1'].describe())"
   ]
  },
  {
   "cell_type": "code",
   "execution_count": null,
   "metadata": {
    "collapsed": true
   },
   "outputs": [],
   "source": [
    "if not impressao:\n",
    "    #Count for check \"UCOD_TRAB1\"\n",
    "    display(od1977['UCOD_TRAB1'].value_counts())"
   ]
  },
  {
   "cell_type": "code",
   "execution_count": null,
   "metadata": {
    "collapsed": true
   },
   "outputs": [],
   "source": [
    "#Verifying value interval for check - conditions: \"UCOD_TRAB1 < 1\" and \"UCOD_TRAB1 > 67\"\n",
    "#The 'error' returns must be related to \"UCOD_TRAB1\" == 0, that is, trips that are not work purposed\n",
    "#od1977[(od1977['UCOD_TRAB1']<1) | (od1977['UCOD_TRAB1']>67)]\n",
    "verifica_RANGE(od1977, 'UCOD_TRAB1', 1, 67)"
   ]
  },
  {
   "cell_type": "markdown",
   "metadata": {},
   "source": [
    "\n",
    "-----\n",
    "##Passo 33: \"ZONA_TRAB1\"\n",
    "Checar se existe algum erro\n",
    "\n",
    "####Categorias:\n",
    "> 1 a 243\n",
    "\n",
    "[Teste: Checar se existe algum número < 1 ou > 243. Se encontrar, retornar erro indicando em qual linha.]\n"
   ]
  },
  {
   "cell_type": "code",
   "execution_count": 97,
   "metadata": {
    "collapsed": false
   },
   "outputs": [
    {
     "name": "stdout",
     "output_type": "stream",
     "text": [
      "0      6289\n",
      "999      59\n",
      "dtype: int64\n"
     ]
    }
   ],
   "source": [
    "#Verifying value interval for check - conditions: \"ZONA_TRAB1 < 1\" and \"ZONA_TRAB1 > 243\"\n",
    "#The 'error' returns must be related to \"ZONA_TRAB1\"==0, that is, trips that are not work purposed\n",
    "#od1977[(od1977['ZONA_TRAB1']<1) | (od1977['ZONA_TRAB1']>243)]\n",
    "verifica_RANGE(od1977, 'ZONA_TRAB1', 1, 243)"
   ]
  },
  {
   "cell_type": "markdown",
   "metadata": {},
   "source": [
    "-----\n",
    "##Passo 34: \"SUBZONA_TRAB1\"\n",
    "\n",
    "Checar se existe algum erro\n",
    "\n",
    "####Categorias:\n",
    "> 1 a 633\n",
    "\n",
    "[Teste: Checar se existe algum número < 1 ou > 633. Se encontrar, retornar erro indicando em qual linha.]"
   ]
  },
  {
   "cell_type": "code",
   "execution_count": 98,
   "metadata": {
    "collapsed": false
   },
   "outputs": [
    {
     "name": "stdout",
     "output_type": "stream",
     "text": [
      "0      6289\n",
      "999      59\n",
      "dtype: int64\n"
     ]
    }
   ],
   "source": [
    "#Verifying value interval for check - conditions: \"SUBZONA_TRAB1 < 1\" and \"SUBZONA_TRAB1 > 633\"\n",
    "#od1977[(od1977['SUBZONA_TRAB1']<1) | (od1977['SUBZONA_TRAB1']>633)]\n",
    "verifica_RANGE(od1977, 'SUBZONA_TRAB1', 1, 633)"
   ]
  },
  {
   "cell_type": "markdown",
   "metadata": {},
   "source": [
    "-----\n",
    "##Passo 35: \"MUN_TRAB1\"\n",
    "Checar se existe algum erro\n",
    "\n",
    "####Categorias\n",
    "> 1 a 27\n",
    "\n",
    "[Teste: Checar se existe algum número < 1 ou > 27. Se encontrar, retornar erro indicando em qual linha.]"
   ]
  },
  {
   "cell_type": "code",
   "execution_count": 99,
   "metadata": {
    "collapsed": false
   },
   "outputs": [
    {
     "name": "stdout",
     "output_type": "stream",
     "text": [
      "0    6348\n",
      "dtype: int64\n"
     ]
    }
   ],
   "source": [
    "#Verifying value interval for check - conditions: \"MUN_TRAB1 < 1\" ou de \"MUN_TRAB1 > 27\"\n",
    "#The 'error' returns must be related to \"MUN_TRAB1\" == 0, that is, trips that are not work purposed\n",
    "#od1977[(od1977['MUN_TRAB1']<1) | (od1977['MUN_TRAB1']>27)]\n",
    "verifica_RANGE(od1977, 'MUN_TRAB1', 1, 27)"
   ]
  },
  {
   "cell_type": "markdown",
   "metadata": {},
   "source": [
    "-----\n",
    "##Passo 36: \"CO_TRAB1_X\"\n",
    "\n",
    "Na coluna \"CO_TRAB1_X\", linha i, ler o valor da linha i da coluna \"SUBZONA_TRAB1\", daí, buscar o mesmo valor na coluna \"SUBZONA\" do arquivo COORD-SUBZONA-1977.csv. Ao achar, retornar o valor da mesma linha, só que da coluna \"CO_X\""
   ]
  },
  {
   "cell_type": "code",
   "execution_count": 100,
   "metadata": {
    "collapsed": false
   },
   "outputs": [
    {
     "ename": "OSError",
     "evalue": "(\"File b'COORD-SUBZONA-1977.csv' does not exist\", 'occurred at index 0')",
     "output_type": "error",
     "traceback": [
      "\u001b[1;31m---------------------------------------------------------------------------\u001b[0m",
      "\u001b[1;31mOSError\u001b[0m                                   Traceback (most recent call last)",
      "\u001b[1;32m<ipython-input-100-02680f5a7a98>\u001b[0m in \u001b[0;36m<module>\u001b[1;34m()\u001b[0m\n\u001b[0;32m      1\u001b[0m \u001b[1;31m#Getting from the csv file the \"CO_X\" code correspondent to the \"SUBZONA_TRAB1\" code\u001b[0m\u001b[1;33m\u001b[0m\u001b[1;33m\u001b[0m\u001b[0m\n\u001b[1;32m----> 2\u001b[1;33m \u001b[0mod1977\u001b[0m\u001b[1;33m[\u001b[0m\u001b[1;34m'CO_TRAB1_X'\u001b[0m\u001b[1;33m]\u001b[0m \u001b[1;33m=\u001b[0m \u001b[0mod1977\u001b[0m\u001b[1;33m.\u001b[0m\u001b[0mapply\u001b[0m\u001b[1;33m(\u001b[0m\u001b[1;32mlambda\u001b[0m \u001b[0mrow\u001b[0m\u001b[1;33m:\u001b[0m \u001b[0mconsulta_refext\u001b[0m\u001b[1;33m(\u001b[0m\u001b[0mrow\u001b[0m\u001b[1;33m,\u001b[0m \u001b[1;34m'COORD-SUBZONA-1977.csv'\u001b[0m\u001b[1;33m,\u001b[0m \u001b[1;34m'SUBZONA'\u001b[0m\u001b[1;33m,\u001b[0m \u001b[1;34m'SUBZONA_TRAB1'\u001b[0m\u001b[1;33m,\u001b[0m \u001b[1;34m'CO_X'\u001b[0m\u001b[1;33m)\u001b[0m\u001b[1;33m,\u001b[0m \u001b[0maxis\u001b[0m\u001b[1;33m=\u001b[0m\u001b[1;36m1\u001b[0m\u001b[1;33m)\u001b[0m\u001b[1;33m\u001b[0m\u001b[0m\n\u001b[0m",
      "\u001b[1;32m/usr/local/lib/python3.4/dist-packages/pandas/core/frame.py\u001b[0m in \u001b[0;36mapply\u001b[1;34m(self, func, axis, broadcast, raw, reduce, args, **kwds)\u001b[0m\n\u001b[0;32m   3687\u001b[0m                     \u001b[1;32mif\u001b[0m \u001b[0mreduce\u001b[0m \u001b[1;32mis\u001b[0m \u001b[1;32mNone\u001b[0m\u001b[1;33m:\u001b[0m\u001b[1;33m\u001b[0m\u001b[0m\n\u001b[0;32m   3688\u001b[0m                         \u001b[0mreduce\u001b[0m \u001b[1;33m=\u001b[0m \u001b[1;32mTrue\u001b[0m\u001b[1;33m\u001b[0m\u001b[0m\n\u001b[1;32m-> 3689\u001b[1;33m                     \u001b[1;32mreturn\u001b[0m \u001b[0mself\u001b[0m\u001b[1;33m.\u001b[0m\u001b[0m_apply_standard\u001b[0m\u001b[1;33m(\u001b[0m\u001b[0mf\u001b[0m\u001b[1;33m,\u001b[0m \u001b[0maxis\u001b[0m\u001b[1;33m,\u001b[0m \u001b[0mreduce\u001b[0m\u001b[1;33m=\u001b[0m\u001b[0mreduce\u001b[0m\u001b[1;33m)\u001b[0m\u001b[1;33m\u001b[0m\u001b[0m\n\u001b[0m\u001b[0;32m   3690\u001b[0m             \u001b[1;32melse\u001b[0m\u001b[1;33m:\u001b[0m\u001b[1;33m\u001b[0m\u001b[0m\n\u001b[0;32m   3691\u001b[0m                 \u001b[1;32mreturn\u001b[0m \u001b[0mself\u001b[0m\u001b[1;33m.\u001b[0m\u001b[0m_apply_broadcast\u001b[0m\u001b[1;33m(\u001b[0m\u001b[0mf\u001b[0m\u001b[1;33m,\u001b[0m \u001b[0maxis\u001b[0m\u001b[1;33m)\u001b[0m\u001b[1;33m\u001b[0m\u001b[0m\n",
      "\u001b[1;32m/usr/local/lib/python3.4/dist-packages/pandas/core/frame.py\u001b[0m in \u001b[0;36m_apply_standard\u001b[1;34m(self, func, axis, ignore_failures, reduce)\u001b[0m\n\u001b[0;32m   3777\u001b[0m             \u001b[1;32mtry\u001b[0m\u001b[1;33m:\u001b[0m\u001b[1;33m\u001b[0m\u001b[0m\n\u001b[0;32m   3778\u001b[0m                 \u001b[1;32mfor\u001b[0m \u001b[0mi\u001b[0m\u001b[1;33m,\u001b[0m \u001b[0mv\u001b[0m \u001b[1;32min\u001b[0m \u001b[0menumerate\u001b[0m\u001b[1;33m(\u001b[0m\u001b[0mseries_gen\u001b[0m\u001b[1;33m)\u001b[0m\u001b[1;33m:\u001b[0m\u001b[1;33m\u001b[0m\u001b[0m\n\u001b[1;32m-> 3779\u001b[1;33m                     \u001b[0mresults\u001b[0m\u001b[1;33m[\u001b[0m\u001b[0mi\u001b[0m\u001b[1;33m]\u001b[0m \u001b[1;33m=\u001b[0m \u001b[0mfunc\u001b[0m\u001b[1;33m(\u001b[0m\u001b[0mv\u001b[0m\u001b[1;33m)\u001b[0m\u001b[1;33m\u001b[0m\u001b[0m\n\u001b[0m\u001b[0;32m   3780\u001b[0m                     \u001b[0mkeys\u001b[0m\u001b[1;33m.\u001b[0m\u001b[0mappend\u001b[0m\u001b[1;33m(\u001b[0m\u001b[0mv\u001b[0m\u001b[1;33m.\u001b[0m\u001b[0mname\u001b[0m\u001b[1;33m)\u001b[0m\u001b[1;33m\u001b[0m\u001b[0m\n\u001b[0;32m   3781\u001b[0m             \u001b[1;32mexcept\u001b[0m \u001b[0mException\u001b[0m \u001b[1;32mas\u001b[0m \u001b[0me\u001b[0m\u001b[1;33m:\u001b[0m\u001b[1;33m\u001b[0m\u001b[0m\n",
      "\u001b[1;32m<ipython-input-100-02680f5a7a98>\u001b[0m in \u001b[0;36m<lambda>\u001b[1;34m(row)\u001b[0m\n\u001b[0;32m      1\u001b[0m \u001b[1;31m#Getting from the csv file the \"CO_X\" code correspondent to the \"SUBZONA_TRAB1\" code\u001b[0m\u001b[1;33m\u001b[0m\u001b[1;33m\u001b[0m\u001b[0m\n\u001b[1;32m----> 2\u001b[1;33m \u001b[0mod1977\u001b[0m\u001b[1;33m[\u001b[0m\u001b[1;34m'CO_TRAB1_X'\u001b[0m\u001b[1;33m]\u001b[0m \u001b[1;33m=\u001b[0m \u001b[0mod1977\u001b[0m\u001b[1;33m.\u001b[0m\u001b[0mapply\u001b[0m\u001b[1;33m(\u001b[0m\u001b[1;32mlambda\u001b[0m \u001b[0mrow\u001b[0m\u001b[1;33m:\u001b[0m \u001b[0mconsulta_refext\u001b[0m\u001b[1;33m(\u001b[0m\u001b[0mrow\u001b[0m\u001b[1;33m,\u001b[0m \u001b[1;34m'COORD-SUBZONA-1977.csv'\u001b[0m\u001b[1;33m,\u001b[0m \u001b[1;34m'SUBZONA'\u001b[0m\u001b[1;33m,\u001b[0m \u001b[1;34m'SUBZONA_TRAB1'\u001b[0m\u001b[1;33m,\u001b[0m \u001b[1;34m'CO_X'\u001b[0m\u001b[1;33m)\u001b[0m\u001b[1;33m,\u001b[0m \u001b[0maxis\u001b[0m\u001b[1;33m=\u001b[0m\u001b[1;36m1\u001b[0m\u001b[1;33m)\u001b[0m\u001b[1;33m\u001b[0m\u001b[0m\n\u001b[0m",
      "\u001b[1;32m<ipython-input-2-e86902145311>\u001b[0m in \u001b[0;36mconsulta_refext\u001b[1;34m(row, name_file, name_col_ref, name_col_filt, name_col_search)\u001b[0m\n\u001b[0;32m     12\u001b[0m     \u001b[1;32mif\u001b[0m \u001b[0mrow\u001b[0m \u001b[1;33m[\u001b[0m\u001b[0mname_col_filt\u001b[0m\u001b[1;33m]\u001b[0m\u001b[1;33m==\u001b[0m\u001b[1;36m0\u001b[0m\u001b[1;33m:\u001b[0m\u001b[1;33m\u001b[0m\u001b[0m\n\u001b[0;32m     13\u001b[0m         \u001b[1;32mreturn\u001b[0m \u001b[0mrow\u001b[0m\u001b[1;33m[\u001b[0m\u001b[0mname_col_filt\u001b[0m\u001b[1;33m]\u001b[0m\u001b[1;33m\u001b[0m\u001b[0m\n\u001b[1;32m---> 14\u001b[1;33m     \u001b[0mdata_frame\u001b[0m \u001b[1;33m=\u001b[0m \u001b[0mpd\u001b[0m\u001b[1;33m.\u001b[0m\u001b[0mread_csv\u001b[0m\u001b[1;33m(\u001b[0m\u001b[0mname_file\u001b[0m\u001b[1;33m,\u001b[0m\u001b[0msep\u001b[0m\u001b[1;33m=\u001b[0m\u001b[1;34m';'\u001b[0m\u001b[1;33m)\u001b[0m\u001b[1;33m\u001b[0m\u001b[0m\n\u001b[0m\u001b[0;32m     15\u001b[0m     \u001b[1;32mreturn\u001b[0m \u001b[0mint\u001b[0m\u001b[1;33m(\u001b[0m\u001b[0mdata_frame\u001b[0m\u001b[1;33m[\u001b[0m\u001b[0mdata_frame\u001b[0m\u001b[1;33m[\u001b[0m\u001b[0mname_col_ref\u001b[0m\u001b[1;33m]\u001b[0m\u001b[1;33m==\u001b[0m\u001b[0mrow\u001b[0m\u001b[1;33m[\u001b[0m\u001b[0mname_col_filt\u001b[0m\u001b[1;33m]\u001b[0m\u001b[1;33m]\u001b[0m\u001b[1;33m[\u001b[0m\u001b[0mname_col_search\u001b[0m\u001b[1;33m]\u001b[0m\u001b[1;33m)\u001b[0m\u001b[1;33m\u001b[0m\u001b[0m\n",
      "\u001b[1;32m/usr/local/lib/python3.4/dist-packages/pandas/io/parsers.py\u001b[0m in \u001b[0;36mparser_f\u001b[1;34m(filepath_or_buffer, sep, dialect, compression, doublequote, escapechar, quotechar, quoting, skipinitialspace, lineterminator, header, index_col, names, prefix, skiprows, skipfooter, skip_footer, na_values, na_fvalues, true_values, false_values, delimiter, converters, dtype, usecols, engine, delim_whitespace, as_recarray, na_filter, compact_ints, use_unsigned, low_memory, buffer_lines, warn_bad_lines, error_bad_lines, keep_default_na, thousands, comment, decimal, parse_dates, keep_date_col, dayfirst, date_parser, memory_map, float_precision, nrows, iterator, chunksize, verbose, encoding, squeeze, mangle_dupe_cols, tupleize_cols, infer_datetime_format, skip_blank_lines)\u001b[0m\n\u001b[0;32m    468\u001b[0m                     skip_blank_lines=skip_blank_lines)\n\u001b[0;32m    469\u001b[0m \u001b[1;33m\u001b[0m\u001b[0m\n\u001b[1;32m--> 470\u001b[1;33m         \u001b[1;32mreturn\u001b[0m \u001b[0m_read\u001b[0m\u001b[1;33m(\u001b[0m\u001b[0mfilepath_or_buffer\u001b[0m\u001b[1;33m,\u001b[0m \u001b[0mkwds\u001b[0m\u001b[1;33m)\u001b[0m\u001b[1;33m\u001b[0m\u001b[0m\n\u001b[0m\u001b[0;32m    471\u001b[0m \u001b[1;33m\u001b[0m\u001b[0m\n\u001b[0;32m    472\u001b[0m     \u001b[0mparser_f\u001b[0m\u001b[1;33m.\u001b[0m\u001b[0m__name__\u001b[0m \u001b[1;33m=\u001b[0m \u001b[0mname\u001b[0m\u001b[1;33m\u001b[0m\u001b[0m\n",
      "\u001b[1;32m/usr/local/lib/python3.4/dist-packages/pandas/io/parsers.py\u001b[0m in \u001b[0;36m_read\u001b[1;34m(filepath_or_buffer, kwds)\u001b[0m\n\u001b[0;32m    244\u001b[0m \u001b[1;33m\u001b[0m\u001b[0m\n\u001b[0;32m    245\u001b[0m     \u001b[1;31m# Create the parser.\u001b[0m\u001b[1;33m\u001b[0m\u001b[1;33m\u001b[0m\u001b[0m\n\u001b[1;32m--> 246\u001b[1;33m     \u001b[0mparser\u001b[0m \u001b[1;33m=\u001b[0m \u001b[0mTextFileReader\u001b[0m\u001b[1;33m(\u001b[0m\u001b[0mfilepath_or_buffer\u001b[0m\u001b[1;33m,\u001b[0m \u001b[1;33m**\u001b[0m\u001b[0mkwds\u001b[0m\u001b[1;33m)\u001b[0m\u001b[1;33m\u001b[0m\u001b[0m\n\u001b[0m\u001b[0;32m    247\u001b[0m \u001b[1;33m\u001b[0m\u001b[0m\n\u001b[0;32m    248\u001b[0m     \u001b[1;32mif\u001b[0m \u001b[1;33m(\u001b[0m\u001b[0mnrows\u001b[0m \u001b[1;32mis\u001b[0m \u001b[1;32mnot\u001b[0m \u001b[1;32mNone\u001b[0m\u001b[1;33m)\u001b[0m \u001b[1;32mand\u001b[0m \u001b[1;33m(\u001b[0m\u001b[0mchunksize\u001b[0m \u001b[1;32mis\u001b[0m \u001b[1;32mnot\u001b[0m \u001b[1;32mNone\u001b[0m\u001b[1;33m)\u001b[0m\u001b[1;33m:\u001b[0m\u001b[1;33m\u001b[0m\u001b[0m\n",
      "\u001b[1;32m/usr/local/lib/python3.4/dist-packages/pandas/io/parsers.py\u001b[0m in \u001b[0;36m__init__\u001b[1;34m(self, f, engine, **kwds)\u001b[0m\n\u001b[0;32m    560\u001b[0m             \u001b[0mself\u001b[0m\u001b[1;33m.\u001b[0m\u001b[0moptions\u001b[0m\u001b[1;33m[\u001b[0m\u001b[1;34m'has_index_names'\u001b[0m\u001b[1;33m]\u001b[0m \u001b[1;33m=\u001b[0m \u001b[0mkwds\u001b[0m\u001b[1;33m[\u001b[0m\u001b[1;34m'has_index_names'\u001b[0m\u001b[1;33m]\u001b[0m\u001b[1;33m\u001b[0m\u001b[0m\n\u001b[0;32m    561\u001b[0m \u001b[1;33m\u001b[0m\u001b[0m\n\u001b[1;32m--> 562\u001b[1;33m         \u001b[0mself\u001b[0m\u001b[1;33m.\u001b[0m\u001b[0m_make_engine\u001b[0m\u001b[1;33m(\u001b[0m\u001b[0mself\u001b[0m\u001b[1;33m.\u001b[0m\u001b[0mengine\u001b[0m\u001b[1;33m)\u001b[0m\u001b[1;33m\u001b[0m\u001b[0m\n\u001b[0m\u001b[0;32m    563\u001b[0m \u001b[1;33m\u001b[0m\u001b[0m\n\u001b[0;32m    564\u001b[0m     \u001b[1;32mdef\u001b[0m \u001b[0m_get_options_with_defaults\u001b[0m\u001b[1;33m(\u001b[0m\u001b[0mself\u001b[0m\u001b[1;33m,\u001b[0m \u001b[0mengine\u001b[0m\u001b[1;33m)\u001b[0m\u001b[1;33m:\u001b[0m\u001b[1;33m\u001b[0m\u001b[0m\n",
      "\u001b[1;32m/usr/local/lib/python3.4/dist-packages/pandas/io/parsers.py\u001b[0m in \u001b[0;36m_make_engine\u001b[1;34m(self, engine)\u001b[0m\n\u001b[0;32m    697\u001b[0m     \u001b[1;32mdef\u001b[0m \u001b[0m_make_engine\u001b[0m\u001b[1;33m(\u001b[0m\u001b[0mself\u001b[0m\u001b[1;33m,\u001b[0m \u001b[0mengine\u001b[0m\u001b[1;33m=\u001b[0m\u001b[1;34m'c'\u001b[0m\u001b[1;33m)\u001b[0m\u001b[1;33m:\u001b[0m\u001b[1;33m\u001b[0m\u001b[0m\n\u001b[0;32m    698\u001b[0m         \u001b[1;32mif\u001b[0m \u001b[0mengine\u001b[0m \u001b[1;33m==\u001b[0m \u001b[1;34m'c'\u001b[0m\u001b[1;33m:\u001b[0m\u001b[1;33m\u001b[0m\u001b[0m\n\u001b[1;32m--> 699\u001b[1;33m             \u001b[0mself\u001b[0m\u001b[1;33m.\u001b[0m\u001b[0m_engine\u001b[0m \u001b[1;33m=\u001b[0m \u001b[0mCParserWrapper\u001b[0m\u001b[1;33m(\u001b[0m\u001b[0mself\u001b[0m\u001b[1;33m.\u001b[0m\u001b[0mf\u001b[0m\u001b[1;33m,\u001b[0m \u001b[1;33m**\u001b[0m\u001b[0mself\u001b[0m\u001b[1;33m.\u001b[0m\u001b[0moptions\u001b[0m\u001b[1;33m)\u001b[0m\u001b[1;33m\u001b[0m\u001b[0m\n\u001b[0m\u001b[0;32m    700\u001b[0m         \u001b[1;32melse\u001b[0m\u001b[1;33m:\u001b[0m\u001b[1;33m\u001b[0m\u001b[0m\n\u001b[0;32m    701\u001b[0m             \u001b[1;32mif\u001b[0m \u001b[0mengine\u001b[0m \u001b[1;33m==\u001b[0m \u001b[1;34m'python'\u001b[0m\u001b[1;33m:\u001b[0m\u001b[1;33m\u001b[0m\u001b[0m\n",
      "\u001b[1;32m/usr/local/lib/python3.4/dist-packages/pandas/io/parsers.py\u001b[0m in \u001b[0;36m__init__\u001b[1;34m(self, src, **kwds)\u001b[0m\n\u001b[0;32m   1064\u001b[0m         \u001b[0mkwds\u001b[0m\u001b[1;33m[\u001b[0m\u001b[1;34m'allow_leading_cols'\u001b[0m\u001b[1;33m]\u001b[0m \u001b[1;33m=\u001b[0m \u001b[0mself\u001b[0m\u001b[1;33m.\u001b[0m\u001b[0mindex_col\u001b[0m \u001b[1;32mis\u001b[0m \u001b[1;32mnot\u001b[0m \u001b[1;32mFalse\u001b[0m\u001b[1;33m\u001b[0m\u001b[0m\n\u001b[0;32m   1065\u001b[0m \u001b[1;33m\u001b[0m\u001b[0m\n\u001b[1;32m-> 1066\u001b[1;33m         \u001b[0mself\u001b[0m\u001b[1;33m.\u001b[0m\u001b[0m_reader\u001b[0m \u001b[1;33m=\u001b[0m \u001b[0m_parser\u001b[0m\u001b[1;33m.\u001b[0m\u001b[0mTextReader\u001b[0m\u001b[1;33m(\u001b[0m\u001b[0msrc\u001b[0m\u001b[1;33m,\u001b[0m \u001b[1;33m**\u001b[0m\u001b[0mkwds\u001b[0m\u001b[1;33m)\u001b[0m\u001b[1;33m\u001b[0m\u001b[0m\n\u001b[0m\u001b[0;32m   1067\u001b[0m \u001b[1;33m\u001b[0m\u001b[0m\n\u001b[0;32m   1068\u001b[0m         \u001b[1;31m# XXX\u001b[0m\u001b[1;33m\u001b[0m\u001b[1;33m\u001b[0m\u001b[0m\n",
      "\u001b[1;32mpandas/parser.pyx\u001b[0m in \u001b[0;36mpandas.parser.TextReader.__cinit__ (pandas/parser.c:3163)\u001b[1;34m()\u001b[0m\n",
      "\u001b[1;32mpandas/parser.pyx\u001b[0m in \u001b[0;36mpandas.parser.TextReader._setup_parser_source (pandas/parser.c:5779)\u001b[1;34m()\u001b[0m\n",
      "\u001b[1;31mOSError\u001b[0m: (\"File b'COORD-SUBZONA-1977.csv' does not exist\", 'occurred at index 0')"
     ]
    }
   ],
   "source": [
    "#Getting from the csv file the \"CO_X\" code correspondent to the \"SUBZONA_TRAB1\" code\n",
    "od1977['CO_TRAB1_X'] = od1977.apply(lambda row: consulta_refext(row, 'COORD-SUBZONA-1977.csv', 'SUBZONA', 'SUBZONA_TRAB1', 'CO_X'), axis=1)"
   ]
  },
  {
   "cell_type": "markdown",
   "metadata": {},
   "source": [
    "-----\n",
    "##Passo 37: \"CO_TRAB1_Y\"\n",
    "\n",
    "Na coluna \"CO_TRAB1_Y\", linha i, ler o valor da linha i da coluna \"SUBZONA_TRAB1\", daí, buscar o mesmo valor na coluna \"SUBZONA\" do arquivo COORD-SUBZONA-1977.csv. Ao achar, retornar o valor da mesma linha, só que da coluna \"CO_Y\""
   ]
  },
  {
   "cell_type": "code",
   "execution_count": 101,
   "metadata": {
    "collapsed": false
   },
   "outputs": [
    {
     "ename": "OSError",
     "evalue": "(\"File b'COORD-SUBZONA-1977.csv' does not exist\", 'occurred at index 0')",
     "output_type": "error",
     "traceback": [
      "\u001b[1;31m---------------------------------------------------------------------------\u001b[0m",
      "\u001b[1;31mOSError\u001b[0m                                   Traceback (most recent call last)",
      "\u001b[1;32m<ipython-input-101-f84f58067178>\u001b[0m in \u001b[0;36m<module>\u001b[1;34m()\u001b[0m\n\u001b[0;32m      1\u001b[0m \u001b[1;31m#Getting from the csv file the \"CO_Y\" code correspondent to the \"SUBZONA_TRAB1\" code\u001b[0m\u001b[1;33m\u001b[0m\u001b[1;33m\u001b[0m\u001b[0m\n\u001b[1;32m----> 2\u001b[1;33m \u001b[0mod1977\u001b[0m\u001b[1;33m[\u001b[0m\u001b[1;34m'CO_TRAB1_Y'\u001b[0m\u001b[1;33m]\u001b[0m \u001b[1;33m=\u001b[0m \u001b[0mod1977\u001b[0m\u001b[1;33m.\u001b[0m\u001b[0mapply\u001b[0m\u001b[1;33m(\u001b[0m\u001b[1;32mlambda\u001b[0m \u001b[0mrow\u001b[0m\u001b[1;33m:\u001b[0m \u001b[0mconsulta_refext\u001b[0m\u001b[1;33m(\u001b[0m\u001b[0mrow\u001b[0m\u001b[1;33m,\u001b[0m \u001b[1;34m'COORD-SUBZONA-1977.csv'\u001b[0m\u001b[1;33m,\u001b[0m \u001b[1;34m'SUBZONA'\u001b[0m\u001b[1;33m,\u001b[0m \u001b[1;34m'SUBZONA_TRAB1'\u001b[0m\u001b[1;33m,\u001b[0m \u001b[1;34m'CO_Y'\u001b[0m\u001b[1;33m)\u001b[0m\u001b[1;33m,\u001b[0m \u001b[0maxis\u001b[0m\u001b[1;33m=\u001b[0m\u001b[1;36m1\u001b[0m\u001b[1;33m)\u001b[0m\u001b[1;33m\u001b[0m\u001b[0m\n\u001b[0m",
      "\u001b[1;32m/usr/local/lib/python3.4/dist-packages/pandas/core/frame.py\u001b[0m in \u001b[0;36mapply\u001b[1;34m(self, func, axis, broadcast, raw, reduce, args, **kwds)\u001b[0m\n\u001b[0;32m   3687\u001b[0m                     \u001b[1;32mif\u001b[0m \u001b[0mreduce\u001b[0m \u001b[1;32mis\u001b[0m \u001b[1;32mNone\u001b[0m\u001b[1;33m:\u001b[0m\u001b[1;33m\u001b[0m\u001b[0m\n\u001b[0;32m   3688\u001b[0m                         \u001b[0mreduce\u001b[0m \u001b[1;33m=\u001b[0m \u001b[1;32mTrue\u001b[0m\u001b[1;33m\u001b[0m\u001b[0m\n\u001b[1;32m-> 3689\u001b[1;33m                     \u001b[1;32mreturn\u001b[0m \u001b[0mself\u001b[0m\u001b[1;33m.\u001b[0m\u001b[0m_apply_standard\u001b[0m\u001b[1;33m(\u001b[0m\u001b[0mf\u001b[0m\u001b[1;33m,\u001b[0m \u001b[0maxis\u001b[0m\u001b[1;33m,\u001b[0m \u001b[0mreduce\u001b[0m\u001b[1;33m=\u001b[0m\u001b[0mreduce\u001b[0m\u001b[1;33m)\u001b[0m\u001b[1;33m\u001b[0m\u001b[0m\n\u001b[0m\u001b[0;32m   3690\u001b[0m             \u001b[1;32melse\u001b[0m\u001b[1;33m:\u001b[0m\u001b[1;33m\u001b[0m\u001b[0m\n\u001b[0;32m   3691\u001b[0m                 \u001b[1;32mreturn\u001b[0m \u001b[0mself\u001b[0m\u001b[1;33m.\u001b[0m\u001b[0m_apply_broadcast\u001b[0m\u001b[1;33m(\u001b[0m\u001b[0mf\u001b[0m\u001b[1;33m,\u001b[0m \u001b[0maxis\u001b[0m\u001b[1;33m)\u001b[0m\u001b[1;33m\u001b[0m\u001b[0m\n",
      "\u001b[1;32m/usr/local/lib/python3.4/dist-packages/pandas/core/frame.py\u001b[0m in \u001b[0;36m_apply_standard\u001b[1;34m(self, func, axis, ignore_failures, reduce)\u001b[0m\n\u001b[0;32m   3777\u001b[0m             \u001b[1;32mtry\u001b[0m\u001b[1;33m:\u001b[0m\u001b[1;33m\u001b[0m\u001b[0m\n\u001b[0;32m   3778\u001b[0m                 \u001b[1;32mfor\u001b[0m \u001b[0mi\u001b[0m\u001b[1;33m,\u001b[0m \u001b[0mv\u001b[0m \u001b[1;32min\u001b[0m \u001b[0menumerate\u001b[0m\u001b[1;33m(\u001b[0m\u001b[0mseries_gen\u001b[0m\u001b[1;33m)\u001b[0m\u001b[1;33m:\u001b[0m\u001b[1;33m\u001b[0m\u001b[0m\n\u001b[1;32m-> 3779\u001b[1;33m                     \u001b[0mresults\u001b[0m\u001b[1;33m[\u001b[0m\u001b[0mi\u001b[0m\u001b[1;33m]\u001b[0m \u001b[1;33m=\u001b[0m \u001b[0mfunc\u001b[0m\u001b[1;33m(\u001b[0m\u001b[0mv\u001b[0m\u001b[1;33m)\u001b[0m\u001b[1;33m\u001b[0m\u001b[0m\n\u001b[0m\u001b[0;32m   3780\u001b[0m                     \u001b[0mkeys\u001b[0m\u001b[1;33m.\u001b[0m\u001b[0mappend\u001b[0m\u001b[1;33m(\u001b[0m\u001b[0mv\u001b[0m\u001b[1;33m.\u001b[0m\u001b[0mname\u001b[0m\u001b[1;33m)\u001b[0m\u001b[1;33m\u001b[0m\u001b[0m\n\u001b[0;32m   3781\u001b[0m             \u001b[1;32mexcept\u001b[0m \u001b[0mException\u001b[0m \u001b[1;32mas\u001b[0m \u001b[0me\u001b[0m\u001b[1;33m:\u001b[0m\u001b[1;33m\u001b[0m\u001b[0m\n",
      "\u001b[1;32m<ipython-input-101-f84f58067178>\u001b[0m in \u001b[0;36m<lambda>\u001b[1;34m(row)\u001b[0m\n\u001b[0;32m      1\u001b[0m \u001b[1;31m#Getting from the csv file the \"CO_Y\" code correspondent to the \"SUBZONA_TRAB1\" code\u001b[0m\u001b[1;33m\u001b[0m\u001b[1;33m\u001b[0m\u001b[0m\n\u001b[1;32m----> 2\u001b[1;33m \u001b[0mod1977\u001b[0m\u001b[1;33m[\u001b[0m\u001b[1;34m'CO_TRAB1_Y'\u001b[0m\u001b[1;33m]\u001b[0m \u001b[1;33m=\u001b[0m \u001b[0mod1977\u001b[0m\u001b[1;33m.\u001b[0m\u001b[0mapply\u001b[0m\u001b[1;33m(\u001b[0m\u001b[1;32mlambda\u001b[0m \u001b[0mrow\u001b[0m\u001b[1;33m:\u001b[0m \u001b[0mconsulta_refext\u001b[0m\u001b[1;33m(\u001b[0m\u001b[0mrow\u001b[0m\u001b[1;33m,\u001b[0m \u001b[1;34m'COORD-SUBZONA-1977.csv'\u001b[0m\u001b[1;33m,\u001b[0m \u001b[1;34m'SUBZONA'\u001b[0m\u001b[1;33m,\u001b[0m \u001b[1;34m'SUBZONA_TRAB1'\u001b[0m\u001b[1;33m,\u001b[0m \u001b[1;34m'CO_Y'\u001b[0m\u001b[1;33m)\u001b[0m\u001b[1;33m,\u001b[0m \u001b[0maxis\u001b[0m\u001b[1;33m=\u001b[0m\u001b[1;36m1\u001b[0m\u001b[1;33m)\u001b[0m\u001b[1;33m\u001b[0m\u001b[0m\n\u001b[0m",
      "\u001b[1;32m<ipython-input-2-e86902145311>\u001b[0m in \u001b[0;36mconsulta_refext\u001b[1;34m(row, name_file, name_col_ref, name_col_filt, name_col_search)\u001b[0m\n\u001b[0;32m     12\u001b[0m     \u001b[1;32mif\u001b[0m \u001b[0mrow\u001b[0m \u001b[1;33m[\u001b[0m\u001b[0mname_col_filt\u001b[0m\u001b[1;33m]\u001b[0m\u001b[1;33m==\u001b[0m\u001b[1;36m0\u001b[0m\u001b[1;33m:\u001b[0m\u001b[1;33m\u001b[0m\u001b[0m\n\u001b[0;32m     13\u001b[0m         \u001b[1;32mreturn\u001b[0m \u001b[0mrow\u001b[0m\u001b[1;33m[\u001b[0m\u001b[0mname_col_filt\u001b[0m\u001b[1;33m]\u001b[0m\u001b[1;33m\u001b[0m\u001b[0m\n\u001b[1;32m---> 14\u001b[1;33m     \u001b[0mdata_frame\u001b[0m \u001b[1;33m=\u001b[0m \u001b[0mpd\u001b[0m\u001b[1;33m.\u001b[0m\u001b[0mread_csv\u001b[0m\u001b[1;33m(\u001b[0m\u001b[0mname_file\u001b[0m\u001b[1;33m,\u001b[0m\u001b[0msep\u001b[0m\u001b[1;33m=\u001b[0m\u001b[1;34m';'\u001b[0m\u001b[1;33m)\u001b[0m\u001b[1;33m\u001b[0m\u001b[0m\n\u001b[0m\u001b[0;32m     15\u001b[0m     \u001b[1;32mreturn\u001b[0m \u001b[0mint\u001b[0m\u001b[1;33m(\u001b[0m\u001b[0mdata_frame\u001b[0m\u001b[1;33m[\u001b[0m\u001b[0mdata_frame\u001b[0m\u001b[1;33m[\u001b[0m\u001b[0mname_col_ref\u001b[0m\u001b[1;33m]\u001b[0m\u001b[1;33m==\u001b[0m\u001b[0mrow\u001b[0m\u001b[1;33m[\u001b[0m\u001b[0mname_col_filt\u001b[0m\u001b[1;33m]\u001b[0m\u001b[1;33m]\u001b[0m\u001b[1;33m[\u001b[0m\u001b[0mname_col_search\u001b[0m\u001b[1;33m]\u001b[0m\u001b[1;33m)\u001b[0m\u001b[1;33m\u001b[0m\u001b[0m\n",
      "\u001b[1;32m/usr/local/lib/python3.4/dist-packages/pandas/io/parsers.py\u001b[0m in \u001b[0;36mparser_f\u001b[1;34m(filepath_or_buffer, sep, dialect, compression, doublequote, escapechar, quotechar, quoting, skipinitialspace, lineterminator, header, index_col, names, prefix, skiprows, skipfooter, skip_footer, na_values, na_fvalues, true_values, false_values, delimiter, converters, dtype, usecols, engine, delim_whitespace, as_recarray, na_filter, compact_ints, use_unsigned, low_memory, buffer_lines, warn_bad_lines, error_bad_lines, keep_default_na, thousands, comment, decimal, parse_dates, keep_date_col, dayfirst, date_parser, memory_map, float_precision, nrows, iterator, chunksize, verbose, encoding, squeeze, mangle_dupe_cols, tupleize_cols, infer_datetime_format, skip_blank_lines)\u001b[0m\n\u001b[0;32m    468\u001b[0m                     skip_blank_lines=skip_blank_lines)\n\u001b[0;32m    469\u001b[0m \u001b[1;33m\u001b[0m\u001b[0m\n\u001b[1;32m--> 470\u001b[1;33m         \u001b[1;32mreturn\u001b[0m \u001b[0m_read\u001b[0m\u001b[1;33m(\u001b[0m\u001b[0mfilepath_or_buffer\u001b[0m\u001b[1;33m,\u001b[0m \u001b[0mkwds\u001b[0m\u001b[1;33m)\u001b[0m\u001b[1;33m\u001b[0m\u001b[0m\n\u001b[0m\u001b[0;32m    471\u001b[0m \u001b[1;33m\u001b[0m\u001b[0m\n\u001b[0;32m    472\u001b[0m     \u001b[0mparser_f\u001b[0m\u001b[1;33m.\u001b[0m\u001b[0m__name__\u001b[0m \u001b[1;33m=\u001b[0m \u001b[0mname\u001b[0m\u001b[1;33m\u001b[0m\u001b[0m\n",
      "\u001b[1;32m/usr/local/lib/python3.4/dist-packages/pandas/io/parsers.py\u001b[0m in \u001b[0;36m_read\u001b[1;34m(filepath_or_buffer, kwds)\u001b[0m\n\u001b[0;32m    244\u001b[0m \u001b[1;33m\u001b[0m\u001b[0m\n\u001b[0;32m    245\u001b[0m     \u001b[1;31m# Create the parser.\u001b[0m\u001b[1;33m\u001b[0m\u001b[1;33m\u001b[0m\u001b[0m\n\u001b[1;32m--> 246\u001b[1;33m     \u001b[0mparser\u001b[0m \u001b[1;33m=\u001b[0m \u001b[0mTextFileReader\u001b[0m\u001b[1;33m(\u001b[0m\u001b[0mfilepath_or_buffer\u001b[0m\u001b[1;33m,\u001b[0m \u001b[1;33m**\u001b[0m\u001b[0mkwds\u001b[0m\u001b[1;33m)\u001b[0m\u001b[1;33m\u001b[0m\u001b[0m\n\u001b[0m\u001b[0;32m    247\u001b[0m \u001b[1;33m\u001b[0m\u001b[0m\n\u001b[0;32m    248\u001b[0m     \u001b[1;32mif\u001b[0m \u001b[1;33m(\u001b[0m\u001b[0mnrows\u001b[0m \u001b[1;32mis\u001b[0m \u001b[1;32mnot\u001b[0m \u001b[1;32mNone\u001b[0m\u001b[1;33m)\u001b[0m \u001b[1;32mand\u001b[0m \u001b[1;33m(\u001b[0m\u001b[0mchunksize\u001b[0m \u001b[1;32mis\u001b[0m \u001b[1;32mnot\u001b[0m \u001b[1;32mNone\u001b[0m\u001b[1;33m)\u001b[0m\u001b[1;33m:\u001b[0m\u001b[1;33m\u001b[0m\u001b[0m\n",
      "\u001b[1;32m/usr/local/lib/python3.4/dist-packages/pandas/io/parsers.py\u001b[0m in \u001b[0;36m__init__\u001b[1;34m(self, f, engine, **kwds)\u001b[0m\n\u001b[0;32m    560\u001b[0m             \u001b[0mself\u001b[0m\u001b[1;33m.\u001b[0m\u001b[0moptions\u001b[0m\u001b[1;33m[\u001b[0m\u001b[1;34m'has_index_names'\u001b[0m\u001b[1;33m]\u001b[0m \u001b[1;33m=\u001b[0m \u001b[0mkwds\u001b[0m\u001b[1;33m[\u001b[0m\u001b[1;34m'has_index_names'\u001b[0m\u001b[1;33m]\u001b[0m\u001b[1;33m\u001b[0m\u001b[0m\n\u001b[0;32m    561\u001b[0m \u001b[1;33m\u001b[0m\u001b[0m\n\u001b[1;32m--> 562\u001b[1;33m         \u001b[0mself\u001b[0m\u001b[1;33m.\u001b[0m\u001b[0m_make_engine\u001b[0m\u001b[1;33m(\u001b[0m\u001b[0mself\u001b[0m\u001b[1;33m.\u001b[0m\u001b[0mengine\u001b[0m\u001b[1;33m)\u001b[0m\u001b[1;33m\u001b[0m\u001b[0m\n\u001b[0m\u001b[0;32m    563\u001b[0m \u001b[1;33m\u001b[0m\u001b[0m\n\u001b[0;32m    564\u001b[0m     \u001b[1;32mdef\u001b[0m \u001b[0m_get_options_with_defaults\u001b[0m\u001b[1;33m(\u001b[0m\u001b[0mself\u001b[0m\u001b[1;33m,\u001b[0m \u001b[0mengine\u001b[0m\u001b[1;33m)\u001b[0m\u001b[1;33m:\u001b[0m\u001b[1;33m\u001b[0m\u001b[0m\n",
      "\u001b[1;32m/usr/local/lib/python3.4/dist-packages/pandas/io/parsers.py\u001b[0m in \u001b[0;36m_make_engine\u001b[1;34m(self, engine)\u001b[0m\n\u001b[0;32m    697\u001b[0m     \u001b[1;32mdef\u001b[0m \u001b[0m_make_engine\u001b[0m\u001b[1;33m(\u001b[0m\u001b[0mself\u001b[0m\u001b[1;33m,\u001b[0m \u001b[0mengine\u001b[0m\u001b[1;33m=\u001b[0m\u001b[1;34m'c'\u001b[0m\u001b[1;33m)\u001b[0m\u001b[1;33m:\u001b[0m\u001b[1;33m\u001b[0m\u001b[0m\n\u001b[0;32m    698\u001b[0m         \u001b[1;32mif\u001b[0m \u001b[0mengine\u001b[0m \u001b[1;33m==\u001b[0m \u001b[1;34m'c'\u001b[0m\u001b[1;33m:\u001b[0m\u001b[1;33m\u001b[0m\u001b[0m\n\u001b[1;32m--> 699\u001b[1;33m             \u001b[0mself\u001b[0m\u001b[1;33m.\u001b[0m\u001b[0m_engine\u001b[0m \u001b[1;33m=\u001b[0m \u001b[0mCParserWrapper\u001b[0m\u001b[1;33m(\u001b[0m\u001b[0mself\u001b[0m\u001b[1;33m.\u001b[0m\u001b[0mf\u001b[0m\u001b[1;33m,\u001b[0m \u001b[1;33m**\u001b[0m\u001b[0mself\u001b[0m\u001b[1;33m.\u001b[0m\u001b[0moptions\u001b[0m\u001b[1;33m)\u001b[0m\u001b[1;33m\u001b[0m\u001b[0m\n\u001b[0m\u001b[0;32m    700\u001b[0m         \u001b[1;32melse\u001b[0m\u001b[1;33m:\u001b[0m\u001b[1;33m\u001b[0m\u001b[0m\n\u001b[0;32m    701\u001b[0m             \u001b[1;32mif\u001b[0m \u001b[0mengine\u001b[0m \u001b[1;33m==\u001b[0m \u001b[1;34m'python'\u001b[0m\u001b[1;33m:\u001b[0m\u001b[1;33m\u001b[0m\u001b[0m\n",
      "\u001b[1;32m/usr/local/lib/python3.4/dist-packages/pandas/io/parsers.py\u001b[0m in \u001b[0;36m__init__\u001b[1;34m(self, src, **kwds)\u001b[0m\n\u001b[0;32m   1064\u001b[0m         \u001b[0mkwds\u001b[0m\u001b[1;33m[\u001b[0m\u001b[1;34m'allow_leading_cols'\u001b[0m\u001b[1;33m]\u001b[0m \u001b[1;33m=\u001b[0m \u001b[0mself\u001b[0m\u001b[1;33m.\u001b[0m\u001b[0mindex_col\u001b[0m \u001b[1;32mis\u001b[0m \u001b[1;32mnot\u001b[0m \u001b[1;32mFalse\u001b[0m\u001b[1;33m\u001b[0m\u001b[0m\n\u001b[0;32m   1065\u001b[0m \u001b[1;33m\u001b[0m\u001b[0m\n\u001b[1;32m-> 1066\u001b[1;33m         \u001b[0mself\u001b[0m\u001b[1;33m.\u001b[0m\u001b[0m_reader\u001b[0m \u001b[1;33m=\u001b[0m \u001b[0m_parser\u001b[0m\u001b[1;33m.\u001b[0m\u001b[0mTextReader\u001b[0m\u001b[1;33m(\u001b[0m\u001b[0msrc\u001b[0m\u001b[1;33m,\u001b[0m \u001b[1;33m**\u001b[0m\u001b[0mkwds\u001b[0m\u001b[1;33m)\u001b[0m\u001b[1;33m\u001b[0m\u001b[0m\n\u001b[0m\u001b[0;32m   1067\u001b[0m \u001b[1;33m\u001b[0m\u001b[0m\n\u001b[0;32m   1068\u001b[0m         \u001b[1;31m# XXX\u001b[0m\u001b[1;33m\u001b[0m\u001b[1;33m\u001b[0m\u001b[0m\n",
      "\u001b[1;32mpandas/parser.pyx\u001b[0m in \u001b[0;36mpandas.parser.TextReader.__cinit__ (pandas/parser.c:3163)\u001b[1;34m()\u001b[0m\n",
      "\u001b[1;32mpandas/parser.pyx\u001b[0m in \u001b[0;36mpandas.parser.TextReader._setup_parser_source (pandas/parser.c:5779)\u001b[1;34m()\u001b[0m\n",
      "\u001b[1;31mOSError\u001b[0m: (\"File b'COORD-SUBZONA-1977.csv' does not exist\", 'occurred at index 0')"
     ]
    }
   ],
   "source": [
    "#Getting from the csv file the \"CO_Y\" code correspondent to the \"SUBZONA_TRAB1\" code\n",
    "od1977['CO_TRAB1_Y'] = od1977.apply(lambda row: consulta_refext(row, 'COORD-SUBZONA-1977.csv', 'SUBZONA', 'SUBZONA_TRAB1', 'CO_Y'), axis=1)"
   ]
  },
  {
   "cell_type": "markdown",
   "metadata": {},
   "source": [
    "-----\n",
    "##Passo 38: \"UCOD_TRAB2\"\n",
    "Na coluna \"UCOD_TRAB2\", linha i, ler o valor da linha i da coluna \"ZONA_TRAB2\", daí, buscar o mesmo valor na coluna \"Zona 1977\" do arquivo UCOD-1977.csv. Ao achar, retornar o valor da mesma linha, só que da coluna \"UCOD_TRAB2\"\n",
    "\n",
    "[Teste: no banco completo, checar se o min == 1 e o max == 67]"
   ]
  },
  {
   "cell_type": "code",
   "execution_count": 102,
   "metadata": {
    "collapsed": false
   },
   "outputs": [
    {
     "ename": "TypeError",
     "evalue": "(\"cannot convert the series to <class 'int'>\", 'occurred at index 2281')",
     "output_type": "error",
     "traceback": [
      "\u001b[1;31m---------------------------------------------------------------------------\u001b[0m",
      "\u001b[1;31mTypeError\u001b[0m                                 Traceback (most recent call last)",
      "\u001b[1;32m<ipython-input-102-56eccb0cd35e>\u001b[0m in \u001b[0;36m<module>\u001b[1;34m()\u001b[0m\n\u001b[0;32m      1\u001b[0m \u001b[1;31m#Getting from the csv file the \"UCOD\" code correspondent to the \"ZONA_TRAB2\" code\u001b[0m\u001b[1;33m\u001b[0m\u001b[1;33m\u001b[0m\u001b[0m\n\u001b[1;32m----> 2\u001b[1;33m \u001b[0mod1977\u001b[0m\u001b[1;33m[\u001b[0m\u001b[1;34m'UCOD_TRAB2'\u001b[0m\u001b[1;33m]\u001b[0m \u001b[1;33m=\u001b[0m \u001b[0mod1977\u001b[0m\u001b[1;33m.\u001b[0m\u001b[0mapply\u001b[0m\u001b[1;33m(\u001b[0m\u001b[1;32mlambda\u001b[0m \u001b[0mrow\u001b[0m\u001b[1;33m:\u001b[0m \u001b[0mconsulta_refext\u001b[0m\u001b[1;33m(\u001b[0m\u001b[0mrow\u001b[0m\u001b[1;33m,\u001b[0m \u001b[1;34m'UCOD-1977.csv'\u001b[0m\u001b[1;33m,\u001b[0m \u001b[1;34m'Zona 1977'\u001b[0m\u001b[1;33m,\u001b[0m \u001b[1;34m'ZONA_TRAB2'\u001b[0m\u001b[1;33m,\u001b[0m \u001b[1;34m'UCOD'\u001b[0m\u001b[1;33m)\u001b[0m\u001b[1;33m,\u001b[0m \u001b[0maxis\u001b[0m\u001b[1;33m=\u001b[0m\u001b[1;36m1\u001b[0m\u001b[1;33m)\u001b[0m\u001b[1;33m\u001b[0m\u001b[0m\n\u001b[0m",
      "\u001b[1;32m/usr/local/lib/python3.4/dist-packages/pandas/core/frame.py\u001b[0m in \u001b[0;36mapply\u001b[1;34m(self, func, axis, broadcast, raw, reduce, args, **kwds)\u001b[0m\n\u001b[0;32m   3687\u001b[0m                     \u001b[1;32mif\u001b[0m \u001b[0mreduce\u001b[0m \u001b[1;32mis\u001b[0m \u001b[1;32mNone\u001b[0m\u001b[1;33m:\u001b[0m\u001b[1;33m\u001b[0m\u001b[0m\n\u001b[0;32m   3688\u001b[0m                         \u001b[0mreduce\u001b[0m \u001b[1;33m=\u001b[0m \u001b[1;32mTrue\u001b[0m\u001b[1;33m\u001b[0m\u001b[0m\n\u001b[1;32m-> 3689\u001b[1;33m                     \u001b[1;32mreturn\u001b[0m \u001b[0mself\u001b[0m\u001b[1;33m.\u001b[0m\u001b[0m_apply_standard\u001b[0m\u001b[1;33m(\u001b[0m\u001b[0mf\u001b[0m\u001b[1;33m,\u001b[0m \u001b[0maxis\u001b[0m\u001b[1;33m,\u001b[0m \u001b[0mreduce\u001b[0m\u001b[1;33m=\u001b[0m\u001b[0mreduce\u001b[0m\u001b[1;33m)\u001b[0m\u001b[1;33m\u001b[0m\u001b[0m\n\u001b[0m\u001b[0;32m   3690\u001b[0m             \u001b[1;32melse\u001b[0m\u001b[1;33m:\u001b[0m\u001b[1;33m\u001b[0m\u001b[0m\n\u001b[0;32m   3691\u001b[0m                 \u001b[1;32mreturn\u001b[0m \u001b[0mself\u001b[0m\u001b[1;33m.\u001b[0m\u001b[0m_apply_broadcast\u001b[0m\u001b[1;33m(\u001b[0m\u001b[0mf\u001b[0m\u001b[1;33m,\u001b[0m \u001b[0maxis\u001b[0m\u001b[1;33m)\u001b[0m\u001b[1;33m\u001b[0m\u001b[0m\n",
      "\u001b[1;32m/usr/local/lib/python3.4/dist-packages/pandas/core/frame.py\u001b[0m in \u001b[0;36m_apply_standard\u001b[1;34m(self, func, axis, ignore_failures, reduce)\u001b[0m\n\u001b[0;32m   3777\u001b[0m             \u001b[1;32mtry\u001b[0m\u001b[1;33m:\u001b[0m\u001b[1;33m\u001b[0m\u001b[0m\n\u001b[0;32m   3778\u001b[0m                 \u001b[1;32mfor\u001b[0m \u001b[0mi\u001b[0m\u001b[1;33m,\u001b[0m \u001b[0mv\u001b[0m \u001b[1;32min\u001b[0m \u001b[0menumerate\u001b[0m\u001b[1;33m(\u001b[0m\u001b[0mseries_gen\u001b[0m\u001b[1;33m)\u001b[0m\u001b[1;33m:\u001b[0m\u001b[1;33m\u001b[0m\u001b[0m\n\u001b[1;32m-> 3779\u001b[1;33m                     \u001b[0mresults\u001b[0m\u001b[1;33m[\u001b[0m\u001b[0mi\u001b[0m\u001b[1;33m]\u001b[0m \u001b[1;33m=\u001b[0m \u001b[0mfunc\u001b[0m\u001b[1;33m(\u001b[0m\u001b[0mv\u001b[0m\u001b[1;33m)\u001b[0m\u001b[1;33m\u001b[0m\u001b[0m\n\u001b[0m\u001b[0;32m   3780\u001b[0m                     \u001b[0mkeys\u001b[0m\u001b[1;33m.\u001b[0m\u001b[0mappend\u001b[0m\u001b[1;33m(\u001b[0m\u001b[0mv\u001b[0m\u001b[1;33m.\u001b[0m\u001b[0mname\u001b[0m\u001b[1;33m)\u001b[0m\u001b[1;33m\u001b[0m\u001b[0m\n\u001b[0;32m   3781\u001b[0m             \u001b[1;32mexcept\u001b[0m \u001b[0mException\u001b[0m \u001b[1;32mas\u001b[0m \u001b[0me\u001b[0m\u001b[1;33m:\u001b[0m\u001b[1;33m\u001b[0m\u001b[0m\n",
      "\u001b[1;32m<ipython-input-102-56eccb0cd35e>\u001b[0m in \u001b[0;36m<lambda>\u001b[1;34m(row)\u001b[0m\n\u001b[0;32m      1\u001b[0m \u001b[1;31m#Getting from the csv file the \"UCOD\" code correspondent to the \"ZONA_TRAB2\" code\u001b[0m\u001b[1;33m\u001b[0m\u001b[1;33m\u001b[0m\u001b[0m\n\u001b[1;32m----> 2\u001b[1;33m \u001b[0mod1977\u001b[0m\u001b[1;33m[\u001b[0m\u001b[1;34m'UCOD_TRAB2'\u001b[0m\u001b[1;33m]\u001b[0m \u001b[1;33m=\u001b[0m \u001b[0mod1977\u001b[0m\u001b[1;33m.\u001b[0m\u001b[0mapply\u001b[0m\u001b[1;33m(\u001b[0m\u001b[1;32mlambda\u001b[0m \u001b[0mrow\u001b[0m\u001b[1;33m:\u001b[0m \u001b[0mconsulta_refext\u001b[0m\u001b[1;33m(\u001b[0m\u001b[0mrow\u001b[0m\u001b[1;33m,\u001b[0m \u001b[1;34m'UCOD-1977.csv'\u001b[0m\u001b[1;33m,\u001b[0m \u001b[1;34m'Zona 1977'\u001b[0m\u001b[1;33m,\u001b[0m \u001b[1;34m'ZONA_TRAB2'\u001b[0m\u001b[1;33m,\u001b[0m \u001b[1;34m'UCOD'\u001b[0m\u001b[1;33m)\u001b[0m\u001b[1;33m,\u001b[0m \u001b[0maxis\u001b[0m\u001b[1;33m=\u001b[0m\u001b[1;36m1\u001b[0m\u001b[1;33m)\u001b[0m\u001b[1;33m\u001b[0m\u001b[0m\n\u001b[0m",
      "\u001b[1;32m<ipython-input-2-e86902145311>\u001b[0m in \u001b[0;36mconsulta_refext\u001b[1;34m(row, name_file, name_col_ref, name_col_filt, name_col_search)\u001b[0m\n\u001b[0;32m     13\u001b[0m         \u001b[1;32mreturn\u001b[0m \u001b[0mrow\u001b[0m\u001b[1;33m[\u001b[0m\u001b[0mname_col_filt\u001b[0m\u001b[1;33m]\u001b[0m\u001b[1;33m\u001b[0m\u001b[0m\n\u001b[0;32m     14\u001b[0m     \u001b[0mdata_frame\u001b[0m \u001b[1;33m=\u001b[0m \u001b[0mpd\u001b[0m\u001b[1;33m.\u001b[0m\u001b[0mread_csv\u001b[0m\u001b[1;33m(\u001b[0m\u001b[0mname_file\u001b[0m\u001b[1;33m,\u001b[0m\u001b[0msep\u001b[0m\u001b[1;33m=\u001b[0m\u001b[1;34m';'\u001b[0m\u001b[1;33m)\u001b[0m\u001b[1;33m\u001b[0m\u001b[0m\n\u001b[1;32m---> 15\u001b[1;33m     \u001b[1;32mreturn\u001b[0m \u001b[0mint\u001b[0m\u001b[1;33m(\u001b[0m\u001b[0mdata_frame\u001b[0m\u001b[1;33m[\u001b[0m\u001b[0mdata_frame\u001b[0m\u001b[1;33m[\u001b[0m\u001b[0mname_col_ref\u001b[0m\u001b[1;33m]\u001b[0m\u001b[1;33m==\u001b[0m\u001b[0mrow\u001b[0m\u001b[1;33m[\u001b[0m\u001b[0mname_col_filt\u001b[0m\u001b[1;33m]\u001b[0m\u001b[1;33m]\u001b[0m\u001b[1;33m[\u001b[0m\u001b[0mname_col_search\u001b[0m\u001b[1;33m]\u001b[0m\u001b[1;33m)\u001b[0m\u001b[1;33m\u001b[0m\u001b[0m\n\u001b[0m",
      "\u001b[1;32m/usr/local/lib/python3.4/dist-packages/pandas/core/series.py\u001b[0m in \u001b[0;36mwrapper\u001b[1;34m(self)\u001b[0m\n\u001b[0;32m     75\u001b[0m             \u001b[1;32mreturn\u001b[0m \u001b[0mconverter\u001b[0m\u001b[1;33m(\u001b[0m\u001b[0mself\u001b[0m\u001b[1;33m.\u001b[0m\u001b[0miloc\u001b[0m\u001b[1;33m[\u001b[0m\u001b[1;36m0\u001b[0m\u001b[1;33m]\u001b[0m\u001b[1;33m)\u001b[0m\u001b[1;33m\u001b[0m\u001b[0m\n\u001b[0;32m     76\u001b[0m         raise TypeError(\n\u001b[1;32m---> 77\u001b[1;33m             \"cannot convert the series to {0}\".format(str(converter)))\n\u001b[0m\u001b[0;32m     78\u001b[0m     \u001b[1;32mreturn\u001b[0m \u001b[0mwrapper\u001b[0m\u001b[1;33m\u001b[0m\u001b[0m\n\u001b[0;32m     79\u001b[0m \u001b[1;33m\u001b[0m\u001b[0m\n",
      "\u001b[1;31mTypeError\u001b[0m: (\"cannot convert the series to <class 'int'>\", 'occurred at index 2281')"
     ]
    }
   ],
   "source": [
    "#Getting from the csv file the \"UCOD\" code correspondent to the \"ZONA_TRAB2\" code\n",
    "od1977['UCOD_TRAB2'] = od1977.apply(lambda row: consulta_refext(row, 'UCOD-1977.csv', 'Zona 1977', 'ZONA_TRAB2', 'UCOD'), axis=1)"
   ]
  },
  {
   "cell_type": "code",
   "execution_count": null,
   "metadata": {
    "collapsed": true
   },
   "outputs": [],
   "source": [
    "if not impressao:\n",
    "    #Describing data (\"UCOD_TRAB2\" column) - count, mean, std, min and max\n",
    "    display(od1977['UCOD_TRAB2'].describe())"
   ]
  },
  {
   "cell_type": "code",
   "execution_count": 103,
   "metadata": {
    "collapsed": false
   },
   "outputs": [
    {
     "data": {
      "text/plain": [
       "Series([], dtype: int64)"
      ]
     },
     "metadata": {},
     "output_type": "display_data"
    }
   ],
   "source": [
    "if not impressao:\n",
    "    #Count for check \"UCOD_TRAB2\"\n",
    "    display(od1977['UCOD_TRAB2'].value_counts())"
   ]
  },
  {
   "cell_type": "code",
   "execution_count": 104,
   "metadata": {
    "collapsed": false
   },
   "outputs": [
    {
     "name": "stdout",
     "output_type": "stream",
     "text": [
      "Series([], dtype: int64)\n"
     ]
    }
   ],
   "source": [
    "#Verifying value interval for check - conditions: \"UCOD_TRAB2 < 1\" and \"UCOD_TRAB2 > 67\"\n",
    "#The 'error' returns must be related to \"UCOD_TRAB2\" == 0, that is, trips that are not work purposed\n",
    "#od1977[(od1977['UCOD_TRAB2']<1) | (od1977['UCOD_TRAB2']>67)]\n",
    "verifica_RANGE(od1977, 'UCOD_TRAB2', 1, 67)"
   ]
  },
  {
   "cell_type": "markdown",
   "metadata": {},
   "source": [
    "-----\n",
    "##Passo 39: \"ZONA_TRAB2\"\n",
    "Checar se existe algum erro\n",
    "\n",
    "####Categorias:\n",
    "> 1 a 243\n",
    "\n",
    "[Teste: Checar se existe algum número < 1 ou > 243. Se encontrar, retornar erro indicando em qual linha.]"
   ]
  },
  {
   "cell_type": "code",
   "execution_count": 105,
   "metadata": {
    "collapsed": false
   },
   "outputs": [
    {
     "name": "stdout",
     "output_type": "stream",
     "text": [
      "0      14678\n",
      "999        6\n",
      "dtype: int64\n"
     ]
    }
   ],
   "source": [
    "#Verifying value interval for check - conditions: \"ZONA_TRAB2 < 1\" and \"ZONA_TRAB2 > 243\n",
    "#The 'error' returns must be related to \"ZONA_TRAB2\"==0, that is, trips that are not work purposed\n",
    "#od1977[(od1977['ZONA_TRAB2']<1) | (od1977['ZONA_TRAB2']>243)]\n",
    "verifica_RANGE(od1977, 'ZONA_TRAB2', 1, 243)"
   ]
  },
  {
   "cell_type": "markdown",
   "metadata": {},
   "source": [
    "-----\n",
    "##Passo 40: \"SUBZONA_TRAB2\"\n",
    "Checar se existe algum erro\n",
    "\n",
    "####Categorias:\n",
    "> 1 a 633\n",
    "\n",
    "[Teste: Checar se existe algum número < 1 ou > 633. Se encontrar, retornar erro indicando em qual linha.]"
   ]
  },
  {
   "cell_type": "code",
   "execution_count": 106,
   "metadata": {
    "collapsed": false
   },
   "outputs": [
    {
     "name": "stdout",
     "output_type": "stream",
     "text": [
      "0      14678\n",
      "999        6\n",
      "dtype: int64\n"
     ]
    }
   ],
   "source": [
    "#Verifying value interval for check - conditions: \"SUBZONA_TRAB2 < 1\" and \"SUBZONA_TRAB2 > 633\"\n",
    "#od1977[(od1977['SUBZONA_TRAB2']<1) | (od1977['SUBZONA_TRAB2']>633)]\n",
    "verifica_RANGE(od1977, 'SUBZONA_TRAB2', 1, 633)"
   ]
  },
  {
   "cell_type": "markdown",
   "metadata": {},
   "source": [
    "-----\n",
    "##Passo 41: \"MUN_TRAB2\"\n",
    "Checar se existe algum erro\n",
    "\n",
    "####Categorias\n",
    "> 1 a 27\n",
    "\n",
    "[Teste: Checar se existe algum número < 1 ou > 27. Se encontrar, retornar erro indicando em qual linha.]"
   ]
  },
  {
   "cell_type": "code",
   "execution_count": 107,
   "metadata": {
    "collapsed": false
   },
   "outputs": [
    {
     "name": "stdout",
     "output_type": "stream",
     "text": [
      "0    14684\n",
      "dtype: int64\n"
     ]
    }
   ],
   "source": [
    "#Verifying value interval for check - conditions: \"MUN_TRAB2 < 1\" ou de \"MUN_TRAB2 > 27\"\n",
    "#The 'error' returns must be related to \"MUN_TRAB2\" == 0, that is, trips that are not work purposed\n",
    "#od1977[(od1977['MUN_TRAB2']<1) | (od1977['MUN_TRAB2']>27)]\n",
    "verifica_RANGE(od1977, 'MUN_TRAB2', 1, 27)"
   ]
  },
  {
   "cell_type": "markdown",
   "metadata": {},
   "source": [
    "-----\n",
    "##Passo 42: \"CO_TRAB2_X\"\n",
    "\n",
    "Na coluna \"CO_TRAB2_X\", linha i, ler o valor da linha i da coluna \"SUBZONA_TRAB2\", daí, buscar o mesmo valor na coluna \"SUBZONA\" do arquivo COORD-SUBZONA-1977.csv. Ao achar, retornar o valor da mesma linha, só que da coluna \"CO_X\"\n"
   ]
  },
  {
   "cell_type": "code",
   "execution_count": 108,
   "metadata": {
    "collapsed": false
   },
   "outputs": [
    {
     "ename": "OSError",
     "evalue": "(\"File b'COORD-SUBZONA-1977.csv' does not exist\", 'occurred at index 477')",
     "output_type": "error",
     "traceback": [
      "\u001b[1;31m---------------------------------------------------------------------------\u001b[0m",
      "\u001b[1;31mOSError\u001b[0m                                   Traceback (most recent call last)",
      "\u001b[1;32m<ipython-input-108-839efe0a6a0e>\u001b[0m in \u001b[0;36m<module>\u001b[1;34m()\u001b[0m\n\u001b[0;32m      1\u001b[0m \u001b[1;31m#Getting from the csv file the \"CO_X\" code correspondent to the \"SUBZONA_TRAB2\" code\u001b[0m\u001b[1;33m\u001b[0m\u001b[1;33m\u001b[0m\u001b[0m\n\u001b[1;32m----> 2\u001b[1;33m \u001b[0mod1977\u001b[0m\u001b[1;33m[\u001b[0m\u001b[1;34m'CO_TRAB2_X'\u001b[0m\u001b[1;33m]\u001b[0m \u001b[1;33m=\u001b[0m \u001b[0mod1977\u001b[0m\u001b[1;33m.\u001b[0m\u001b[0mapply\u001b[0m\u001b[1;33m(\u001b[0m\u001b[1;32mlambda\u001b[0m \u001b[0mrow\u001b[0m\u001b[1;33m:\u001b[0m \u001b[0mconsulta_refext\u001b[0m\u001b[1;33m(\u001b[0m\u001b[0mrow\u001b[0m\u001b[1;33m,\u001b[0m \u001b[1;34m'COORD-SUBZONA-1977.csv'\u001b[0m\u001b[1;33m,\u001b[0m \u001b[1;34m'SUBZONA'\u001b[0m\u001b[1;33m,\u001b[0m \u001b[1;34m'SUBZONA_TRAB2'\u001b[0m\u001b[1;33m,\u001b[0m \u001b[1;34m'CO_X'\u001b[0m\u001b[1;33m)\u001b[0m\u001b[1;33m,\u001b[0m \u001b[0maxis\u001b[0m\u001b[1;33m=\u001b[0m\u001b[1;36m1\u001b[0m\u001b[1;33m)\u001b[0m\u001b[1;33m\u001b[0m\u001b[0m\n\u001b[0m",
      "\u001b[1;32m/usr/local/lib/python3.4/dist-packages/pandas/core/frame.py\u001b[0m in \u001b[0;36mapply\u001b[1;34m(self, func, axis, broadcast, raw, reduce, args, **kwds)\u001b[0m\n\u001b[0;32m   3687\u001b[0m                     \u001b[1;32mif\u001b[0m \u001b[0mreduce\u001b[0m \u001b[1;32mis\u001b[0m \u001b[1;32mNone\u001b[0m\u001b[1;33m:\u001b[0m\u001b[1;33m\u001b[0m\u001b[0m\n\u001b[0;32m   3688\u001b[0m                         \u001b[0mreduce\u001b[0m \u001b[1;33m=\u001b[0m \u001b[1;32mTrue\u001b[0m\u001b[1;33m\u001b[0m\u001b[0m\n\u001b[1;32m-> 3689\u001b[1;33m                     \u001b[1;32mreturn\u001b[0m \u001b[0mself\u001b[0m\u001b[1;33m.\u001b[0m\u001b[0m_apply_standard\u001b[0m\u001b[1;33m(\u001b[0m\u001b[0mf\u001b[0m\u001b[1;33m,\u001b[0m \u001b[0maxis\u001b[0m\u001b[1;33m,\u001b[0m \u001b[0mreduce\u001b[0m\u001b[1;33m=\u001b[0m\u001b[0mreduce\u001b[0m\u001b[1;33m)\u001b[0m\u001b[1;33m\u001b[0m\u001b[0m\n\u001b[0m\u001b[0;32m   3690\u001b[0m             \u001b[1;32melse\u001b[0m\u001b[1;33m:\u001b[0m\u001b[1;33m\u001b[0m\u001b[0m\n\u001b[0;32m   3691\u001b[0m                 \u001b[1;32mreturn\u001b[0m \u001b[0mself\u001b[0m\u001b[1;33m.\u001b[0m\u001b[0m_apply_broadcast\u001b[0m\u001b[1;33m(\u001b[0m\u001b[0mf\u001b[0m\u001b[1;33m,\u001b[0m \u001b[0maxis\u001b[0m\u001b[1;33m)\u001b[0m\u001b[1;33m\u001b[0m\u001b[0m\n",
      "\u001b[1;32m/usr/local/lib/python3.4/dist-packages/pandas/core/frame.py\u001b[0m in \u001b[0;36m_apply_standard\u001b[1;34m(self, func, axis, ignore_failures, reduce)\u001b[0m\n\u001b[0;32m   3777\u001b[0m             \u001b[1;32mtry\u001b[0m\u001b[1;33m:\u001b[0m\u001b[1;33m\u001b[0m\u001b[0m\n\u001b[0;32m   3778\u001b[0m                 \u001b[1;32mfor\u001b[0m \u001b[0mi\u001b[0m\u001b[1;33m,\u001b[0m \u001b[0mv\u001b[0m \u001b[1;32min\u001b[0m \u001b[0menumerate\u001b[0m\u001b[1;33m(\u001b[0m\u001b[0mseries_gen\u001b[0m\u001b[1;33m)\u001b[0m\u001b[1;33m:\u001b[0m\u001b[1;33m\u001b[0m\u001b[0m\n\u001b[1;32m-> 3779\u001b[1;33m                     \u001b[0mresults\u001b[0m\u001b[1;33m[\u001b[0m\u001b[0mi\u001b[0m\u001b[1;33m]\u001b[0m \u001b[1;33m=\u001b[0m \u001b[0mfunc\u001b[0m\u001b[1;33m(\u001b[0m\u001b[0mv\u001b[0m\u001b[1;33m)\u001b[0m\u001b[1;33m\u001b[0m\u001b[0m\n\u001b[0m\u001b[0;32m   3780\u001b[0m                     \u001b[0mkeys\u001b[0m\u001b[1;33m.\u001b[0m\u001b[0mappend\u001b[0m\u001b[1;33m(\u001b[0m\u001b[0mv\u001b[0m\u001b[1;33m.\u001b[0m\u001b[0mname\u001b[0m\u001b[1;33m)\u001b[0m\u001b[1;33m\u001b[0m\u001b[0m\n\u001b[0;32m   3781\u001b[0m             \u001b[1;32mexcept\u001b[0m \u001b[0mException\u001b[0m \u001b[1;32mas\u001b[0m \u001b[0me\u001b[0m\u001b[1;33m:\u001b[0m\u001b[1;33m\u001b[0m\u001b[0m\n",
      "\u001b[1;32m<ipython-input-108-839efe0a6a0e>\u001b[0m in \u001b[0;36m<lambda>\u001b[1;34m(row)\u001b[0m\n\u001b[0;32m      1\u001b[0m \u001b[1;31m#Getting from the csv file the \"CO_X\" code correspondent to the \"SUBZONA_TRAB2\" code\u001b[0m\u001b[1;33m\u001b[0m\u001b[1;33m\u001b[0m\u001b[0m\n\u001b[1;32m----> 2\u001b[1;33m \u001b[0mod1977\u001b[0m\u001b[1;33m[\u001b[0m\u001b[1;34m'CO_TRAB2_X'\u001b[0m\u001b[1;33m]\u001b[0m \u001b[1;33m=\u001b[0m \u001b[0mod1977\u001b[0m\u001b[1;33m.\u001b[0m\u001b[0mapply\u001b[0m\u001b[1;33m(\u001b[0m\u001b[1;32mlambda\u001b[0m \u001b[0mrow\u001b[0m\u001b[1;33m:\u001b[0m \u001b[0mconsulta_refext\u001b[0m\u001b[1;33m(\u001b[0m\u001b[0mrow\u001b[0m\u001b[1;33m,\u001b[0m \u001b[1;34m'COORD-SUBZONA-1977.csv'\u001b[0m\u001b[1;33m,\u001b[0m \u001b[1;34m'SUBZONA'\u001b[0m\u001b[1;33m,\u001b[0m \u001b[1;34m'SUBZONA_TRAB2'\u001b[0m\u001b[1;33m,\u001b[0m \u001b[1;34m'CO_X'\u001b[0m\u001b[1;33m)\u001b[0m\u001b[1;33m,\u001b[0m \u001b[0maxis\u001b[0m\u001b[1;33m=\u001b[0m\u001b[1;36m1\u001b[0m\u001b[1;33m)\u001b[0m\u001b[1;33m\u001b[0m\u001b[0m\n\u001b[0m",
      "\u001b[1;32m<ipython-input-2-e86902145311>\u001b[0m in \u001b[0;36mconsulta_refext\u001b[1;34m(row, name_file, name_col_ref, name_col_filt, name_col_search)\u001b[0m\n\u001b[0;32m     12\u001b[0m     \u001b[1;32mif\u001b[0m \u001b[0mrow\u001b[0m \u001b[1;33m[\u001b[0m\u001b[0mname_col_filt\u001b[0m\u001b[1;33m]\u001b[0m\u001b[1;33m==\u001b[0m\u001b[1;36m0\u001b[0m\u001b[1;33m:\u001b[0m\u001b[1;33m\u001b[0m\u001b[0m\n\u001b[0;32m     13\u001b[0m         \u001b[1;32mreturn\u001b[0m \u001b[0mrow\u001b[0m\u001b[1;33m[\u001b[0m\u001b[0mname_col_filt\u001b[0m\u001b[1;33m]\u001b[0m\u001b[1;33m\u001b[0m\u001b[0m\n\u001b[1;32m---> 14\u001b[1;33m     \u001b[0mdata_frame\u001b[0m \u001b[1;33m=\u001b[0m \u001b[0mpd\u001b[0m\u001b[1;33m.\u001b[0m\u001b[0mread_csv\u001b[0m\u001b[1;33m(\u001b[0m\u001b[0mname_file\u001b[0m\u001b[1;33m,\u001b[0m\u001b[0msep\u001b[0m\u001b[1;33m=\u001b[0m\u001b[1;34m';'\u001b[0m\u001b[1;33m)\u001b[0m\u001b[1;33m\u001b[0m\u001b[0m\n\u001b[0m\u001b[0;32m     15\u001b[0m     \u001b[1;32mreturn\u001b[0m \u001b[0mint\u001b[0m\u001b[1;33m(\u001b[0m\u001b[0mdata_frame\u001b[0m\u001b[1;33m[\u001b[0m\u001b[0mdata_frame\u001b[0m\u001b[1;33m[\u001b[0m\u001b[0mname_col_ref\u001b[0m\u001b[1;33m]\u001b[0m\u001b[1;33m==\u001b[0m\u001b[0mrow\u001b[0m\u001b[1;33m[\u001b[0m\u001b[0mname_col_filt\u001b[0m\u001b[1;33m]\u001b[0m\u001b[1;33m]\u001b[0m\u001b[1;33m[\u001b[0m\u001b[0mname_col_search\u001b[0m\u001b[1;33m]\u001b[0m\u001b[1;33m)\u001b[0m\u001b[1;33m\u001b[0m\u001b[0m\n",
      "\u001b[1;32m/usr/local/lib/python3.4/dist-packages/pandas/io/parsers.py\u001b[0m in \u001b[0;36mparser_f\u001b[1;34m(filepath_or_buffer, sep, dialect, compression, doublequote, escapechar, quotechar, quoting, skipinitialspace, lineterminator, header, index_col, names, prefix, skiprows, skipfooter, skip_footer, na_values, na_fvalues, true_values, false_values, delimiter, converters, dtype, usecols, engine, delim_whitespace, as_recarray, na_filter, compact_ints, use_unsigned, low_memory, buffer_lines, warn_bad_lines, error_bad_lines, keep_default_na, thousands, comment, decimal, parse_dates, keep_date_col, dayfirst, date_parser, memory_map, float_precision, nrows, iterator, chunksize, verbose, encoding, squeeze, mangle_dupe_cols, tupleize_cols, infer_datetime_format, skip_blank_lines)\u001b[0m\n\u001b[0;32m    468\u001b[0m                     skip_blank_lines=skip_blank_lines)\n\u001b[0;32m    469\u001b[0m \u001b[1;33m\u001b[0m\u001b[0m\n\u001b[1;32m--> 470\u001b[1;33m         \u001b[1;32mreturn\u001b[0m \u001b[0m_read\u001b[0m\u001b[1;33m(\u001b[0m\u001b[0mfilepath_or_buffer\u001b[0m\u001b[1;33m,\u001b[0m \u001b[0mkwds\u001b[0m\u001b[1;33m)\u001b[0m\u001b[1;33m\u001b[0m\u001b[0m\n\u001b[0m\u001b[0;32m    471\u001b[0m \u001b[1;33m\u001b[0m\u001b[0m\n\u001b[0;32m    472\u001b[0m     \u001b[0mparser_f\u001b[0m\u001b[1;33m.\u001b[0m\u001b[0m__name__\u001b[0m \u001b[1;33m=\u001b[0m \u001b[0mname\u001b[0m\u001b[1;33m\u001b[0m\u001b[0m\n",
      "\u001b[1;32m/usr/local/lib/python3.4/dist-packages/pandas/io/parsers.py\u001b[0m in \u001b[0;36m_read\u001b[1;34m(filepath_or_buffer, kwds)\u001b[0m\n\u001b[0;32m    244\u001b[0m \u001b[1;33m\u001b[0m\u001b[0m\n\u001b[0;32m    245\u001b[0m     \u001b[1;31m# Create the parser.\u001b[0m\u001b[1;33m\u001b[0m\u001b[1;33m\u001b[0m\u001b[0m\n\u001b[1;32m--> 246\u001b[1;33m     \u001b[0mparser\u001b[0m \u001b[1;33m=\u001b[0m \u001b[0mTextFileReader\u001b[0m\u001b[1;33m(\u001b[0m\u001b[0mfilepath_or_buffer\u001b[0m\u001b[1;33m,\u001b[0m \u001b[1;33m**\u001b[0m\u001b[0mkwds\u001b[0m\u001b[1;33m)\u001b[0m\u001b[1;33m\u001b[0m\u001b[0m\n\u001b[0m\u001b[0;32m    247\u001b[0m \u001b[1;33m\u001b[0m\u001b[0m\n\u001b[0;32m    248\u001b[0m     \u001b[1;32mif\u001b[0m \u001b[1;33m(\u001b[0m\u001b[0mnrows\u001b[0m \u001b[1;32mis\u001b[0m \u001b[1;32mnot\u001b[0m \u001b[1;32mNone\u001b[0m\u001b[1;33m)\u001b[0m \u001b[1;32mand\u001b[0m \u001b[1;33m(\u001b[0m\u001b[0mchunksize\u001b[0m \u001b[1;32mis\u001b[0m \u001b[1;32mnot\u001b[0m \u001b[1;32mNone\u001b[0m\u001b[1;33m)\u001b[0m\u001b[1;33m:\u001b[0m\u001b[1;33m\u001b[0m\u001b[0m\n",
      "\u001b[1;32m/usr/local/lib/python3.4/dist-packages/pandas/io/parsers.py\u001b[0m in \u001b[0;36m__init__\u001b[1;34m(self, f, engine, **kwds)\u001b[0m\n\u001b[0;32m    560\u001b[0m             \u001b[0mself\u001b[0m\u001b[1;33m.\u001b[0m\u001b[0moptions\u001b[0m\u001b[1;33m[\u001b[0m\u001b[1;34m'has_index_names'\u001b[0m\u001b[1;33m]\u001b[0m \u001b[1;33m=\u001b[0m \u001b[0mkwds\u001b[0m\u001b[1;33m[\u001b[0m\u001b[1;34m'has_index_names'\u001b[0m\u001b[1;33m]\u001b[0m\u001b[1;33m\u001b[0m\u001b[0m\n\u001b[0;32m    561\u001b[0m \u001b[1;33m\u001b[0m\u001b[0m\n\u001b[1;32m--> 562\u001b[1;33m         \u001b[0mself\u001b[0m\u001b[1;33m.\u001b[0m\u001b[0m_make_engine\u001b[0m\u001b[1;33m(\u001b[0m\u001b[0mself\u001b[0m\u001b[1;33m.\u001b[0m\u001b[0mengine\u001b[0m\u001b[1;33m)\u001b[0m\u001b[1;33m\u001b[0m\u001b[0m\n\u001b[0m\u001b[0;32m    563\u001b[0m \u001b[1;33m\u001b[0m\u001b[0m\n\u001b[0;32m    564\u001b[0m     \u001b[1;32mdef\u001b[0m \u001b[0m_get_options_with_defaults\u001b[0m\u001b[1;33m(\u001b[0m\u001b[0mself\u001b[0m\u001b[1;33m,\u001b[0m \u001b[0mengine\u001b[0m\u001b[1;33m)\u001b[0m\u001b[1;33m:\u001b[0m\u001b[1;33m\u001b[0m\u001b[0m\n",
      "\u001b[1;32m/usr/local/lib/python3.4/dist-packages/pandas/io/parsers.py\u001b[0m in \u001b[0;36m_make_engine\u001b[1;34m(self, engine)\u001b[0m\n\u001b[0;32m    697\u001b[0m     \u001b[1;32mdef\u001b[0m \u001b[0m_make_engine\u001b[0m\u001b[1;33m(\u001b[0m\u001b[0mself\u001b[0m\u001b[1;33m,\u001b[0m \u001b[0mengine\u001b[0m\u001b[1;33m=\u001b[0m\u001b[1;34m'c'\u001b[0m\u001b[1;33m)\u001b[0m\u001b[1;33m:\u001b[0m\u001b[1;33m\u001b[0m\u001b[0m\n\u001b[0;32m    698\u001b[0m         \u001b[1;32mif\u001b[0m \u001b[0mengine\u001b[0m \u001b[1;33m==\u001b[0m \u001b[1;34m'c'\u001b[0m\u001b[1;33m:\u001b[0m\u001b[1;33m\u001b[0m\u001b[0m\n\u001b[1;32m--> 699\u001b[1;33m             \u001b[0mself\u001b[0m\u001b[1;33m.\u001b[0m\u001b[0m_engine\u001b[0m \u001b[1;33m=\u001b[0m \u001b[0mCParserWrapper\u001b[0m\u001b[1;33m(\u001b[0m\u001b[0mself\u001b[0m\u001b[1;33m.\u001b[0m\u001b[0mf\u001b[0m\u001b[1;33m,\u001b[0m \u001b[1;33m**\u001b[0m\u001b[0mself\u001b[0m\u001b[1;33m.\u001b[0m\u001b[0moptions\u001b[0m\u001b[1;33m)\u001b[0m\u001b[1;33m\u001b[0m\u001b[0m\n\u001b[0m\u001b[0;32m    700\u001b[0m         \u001b[1;32melse\u001b[0m\u001b[1;33m:\u001b[0m\u001b[1;33m\u001b[0m\u001b[0m\n\u001b[0;32m    701\u001b[0m             \u001b[1;32mif\u001b[0m \u001b[0mengine\u001b[0m \u001b[1;33m==\u001b[0m \u001b[1;34m'python'\u001b[0m\u001b[1;33m:\u001b[0m\u001b[1;33m\u001b[0m\u001b[0m\n",
      "\u001b[1;32m/usr/local/lib/python3.4/dist-packages/pandas/io/parsers.py\u001b[0m in \u001b[0;36m__init__\u001b[1;34m(self, src, **kwds)\u001b[0m\n\u001b[0;32m   1064\u001b[0m         \u001b[0mkwds\u001b[0m\u001b[1;33m[\u001b[0m\u001b[1;34m'allow_leading_cols'\u001b[0m\u001b[1;33m]\u001b[0m \u001b[1;33m=\u001b[0m \u001b[0mself\u001b[0m\u001b[1;33m.\u001b[0m\u001b[0mindex_col\u001b[0m \u001b[1;32mis\u001b[0m \u001b[1;32mnot\u001b[0m \u001b[1;32mFalse\u001b[0m\u001b[1;33m\u001b[0m\u001b[0m\n\u001b[0;32m   1065\u001b[0m \u001b[1;33m\u001b[0m\u001b[0m\n\u001b[1;32m-> 1066\u001b[1;33m         \u001b[0mself\u001b[0m\u001b[1;33m.\u001b[0m\u001b[0m_reader\u001b[0m \u001b[1;33m=\u001b[0m \u001b[0m_parser\u001b[0m\u001b[1;33m.\u001b[0m\u001b[0mTextReader\u001b[0m\u001b[1;33m(\u001b[0m\u001b[0msrc\u001b[0m\u001b[1;33m,\u001b[0m \u001b[1;33m**\u001b[0m\u001b[0mkwds\u001b[0m\u001b[1;33m)\u001b[0m\u001b[1;33m\u001b[0m\u001b[0m\n\u001b[0m\u001b[0;32m   1067\u001b[0m \u001b[1;33m\u001b[0m\u001b[0m\n\u001b[0;32m   1068\u001b[0m         \u001b[1;31m# XXX\u001b[0m\u001b[1;33m\u001b[0m\u001b[1;33m\u001b[0m\u001b[0m\n",
      "\u001b[1;32mpandas/parser.pyx\u001b[0m in \u001b[0;36mpandas.parser.TextReader.__cinit__ (pandas/parser.c:3163)\u001b[1;34m()\u001b[0m\n",
      "\u001b[1;32mpandas/parser.pyx\u001b[0m in \u001b[0;36mpandas.parser.TextReader._setup_parser_source (pandas/parser.c:5779)\u001b[1;34m()\u001b[0m\n",
      "\u001b[1;31mOSError\u001b[0m: (\"File b'COORD-SUBZONA-1977.csv' does not exist\", 'occurred at index 477')"
     ]
    }
   ],
   "source": [
    "#Getting from the csv file the \"CO_X\" code correspondent to the \"SUBZONA_TRAB2\" code\n",
    "od1977['CO_TRAB2_X'] = od1977.apply(lambda row: consulta_refext(row, 'COORD-SUBZONA-1977.csv', 'SUBZONA', 'SUBZONA_TRAB2', 'CO_X'), axis=1)"
   ]
  },
  {
   "cell_type": "markdown",
   "metadata": {},
   "source": [
    "-----\n",
    "##Passo 43: \"CO_TRAB2_Y\"\n",
    "\n",
    "Na coluna \"CO_TRAB2_Y\", linha i, ler o valor da linha i da coluna \"SUBZONA_TRAB2\", daí, buscar o mesmo valor na coluna \"SUBZONA\" do arquivo COORD-SUBZONA-1977.csv. Ao achar, retornar o valor da mesma linha, só que da coluna \"CO_Y\""
   ]
  },
  {
   "cell_type": "code",
   "execution_count": 109,
   "metadata": {
    "collapsed": false
   },
   "outputs": [
    {
     "ename": "OSError",
     "evalue": "(\"File b'COORD-SUBZONA-1977.csv' does not exist\", 'occurred at index 477')",
     "output_type": "error",
     "traceback": [
      "\u001b[1;31m---------------------------------------------------------------------------\u001b[0m",
      "\u001b[1;31mOSError\u001b[0m                                   Traceback (most recent call last)",
      "\u001b[1;32m<ipython-input-109-8248ca59deec>\u001b[0m in \u001b[0;36m<module>\u001b[1;34m()\u001b[0m\n\u001b[0;32m      1\u001b[0m \u001b[1;31m#Getting from the csv file the \"CO_Y\" code correspondent to the \"SUBZONA_TRAB2\" code\u001b[0m\u001b[1;33m\u001b[0m\u001b[1;33m\u001b[0m\u001b[0m\n\u001b[1;32m----> 2\u001b[1;33m \u001b[0mod1977\u001b[0m\u001b[1;33m[\u001b[0m\u001b[1;34m'CO_TRAB2_Y'\u001b[0m\u001b[1;33m]\u001b[0m \u001b[1;33m=\u001b[0m \u001b[0mod1977\u001b[0m\u001b[1;33m.\u001b[0m\u001b[0mapply\u001b[0m\u001b[1;33m(\u001b[0m\u001b[1;32mlambda\u001b[0m \u001b[0mrow\u001b[0m\u001b[1;33m:\u001b[0m \u001b[0mconsulta_refext\u001b[0m\u001b[1;33m(\u001b[0m\u001b[0mrow\u001b[0m\u001b[1;33m,\u001b[0m \u001b[1;34m'COORD-SUBZONA-1977.csv'\u001b[0m\u001b[1;33m,\u001b[0m \u001b[1;34m'SUBZONA'\u001b[0m\u001b[1;33m,\u001b[0m \u001b[1;34m'SUBZONA_TRAB2'\u001b[0m\u001b[1;33m,\u001b[0m \u001b[1;34m'CO_Y'\u001b[0m\u001b[1;33m)\u001b[0m\u001b[1;33m,\u001b[0m \u001b[0maxis\u001b[0m\u001b[1;33m=\u001b[0m\u001b[1;36m1\u001b[0m\u001b[1;33m)\u001b[0m\u001b[1;33m\u001b[0m\u001b[0m\n\u001b[0m",
      "\u001b[1;32m/usr/local/lib/python3.4/dist-packages/pandas/core/frame.py\u001b[0m in \u001b[0;36mapply\u001b[1;34m(self, func, axis, broadcast, raw, reduce, args, **kwds)\u001b[0m\n\u001b[0;32m   3687\u001b[0m                     \u001b[1;32mif\u001b[0m \u001b[0mreduce\u001b[0m \u001b[1;32mis\u001b[0m \u001b[1;32mNone\u001b[0m\u001b[1;33m:\u001b[0m\u001b[1;33m\u001b[0m\u001b[0m\n\u001b[0;32m   3688\u001b[0m                         \u001b[0mreduce\u001b[0m \u001b[1;33m=\u001b[0m \u001b[1;32mTrue\u001b[0m\u001b[1;33m\u001b[0m\u001b[0m\n\u001b[1;32m-> 3689\u001b[1;33m                     \u001b[1;32mreturn\u001b[0m \u001b[0mself\u001b[0m\u001b[1;33m.\u001b[0m\u001b[0m_apply_standard\u001b[0m\u001b[1;33m(\u001b[0m\u001b[0mf\u001b[0m\u001b[1;33m,\u001b[0m \u001b[0maxis\u001b[0m\u001b[1;33m,\u001b[0m \u001b[0mreduce\u001b[0m\u001b[1;33m=\u001b[0m\u001b[0mreduce\u001b[0m\u001b[1;33m)\u001b[0m\u001b[1;33m\u001b[0m\u001b[0m\n\u001b[0m\u001b[0;32m   3690\u001b[0m             \u001b[1;32melse\u001b[0m\u001b[1;33m:\u001b[0m\u001b[1;33m\u001b[0m\u001b[0m\n\u001b[0;32m   3691\u001b[0m                 \u001b[1;32mreturn\u001b[0m \u001b[0mself\u001b[0m\u001b[1;33m.\u001b[0m\u001b[0m_apply_broadcast\u001b[0m\u001b[1;33m(\u001b[0m\u001b[0mf\u001b[0m\u001b[1;33m,\u001b[0m \u001b[0maxis\u001b[0m\u001b[1;33m)\u001b[0m\u001b[1;33m\u001b[0m\u001b[0m\n",
      "\u001b[1;32m/usr/local/lib/python3.4/dist-packages/pandas/core/frame.py\u001b[0m in \u001b[0;36m_apply_standard\u001b[1;34m(self, func, axis, ignore_failures, reduce)\u001b[0m\n\u001b[0;32m   3777\u001b[0m             \u001b[1;32mtry\u001b[0m\u001b[1;33m:\u001b[0m\u001b[1;33m\u001b[0m\u001b[0m\n\u001b[0;32m   3778\u001b[0m                 \u001b[1;32mfor\u001b[0m \u001b[0mi\u001b[0m\u001b[1;33m,\u001b[0m \u001b[0mv\u001b[0m \u001b[1;32min\u001b[0m \u001b[0menumerate\u001b[0m\u001b[1;33m(\u001b[0m\u001b[0mseries_gen\u001b[0m\u001b[1;33m)\u001b[0m\u001b[1;33m:\u001b[0m\u001b[1;33m\u001b[0m\u001b[0m\n\u001b[1;32m-> 3779\u001b[1;33m                     \u001b[0mresults\u001b[0m\u001b[1;33m[\u001b[0m\u001b[0mi\u001b[0m\u001b[1;33m]\u001b[0m \u001b[1;33m=\u001b[0m \u001b[0mfunc\u001b[0m\u001b[1;33m(\u001b[0m\u001b[0mv\u001b[0m\u001b[1;33m)\u001b[0m\u001b[1;33m\u001b[0m\u001b[0m\n\u001b[0m\u001b[0;32m   3780\u001b[0m                     \u001b[0mkeys\u001b[0m\u001b[1;33m.\u001b[0m\u001b[0mappend\u001b[0m\u001b[1;33m(\u001b[0m\u001b[0mv\u001b[0m\u001b[1;33m.\u001b[0m\u001b[0mname\u001b[0m\u001b[1;33m)\u001b[0m\u001b[1;33m\u001b[0m\u001b[0m\n\u001b[0;32m   3781\u001b[0m             \u001b[1;32mexcept\u001b[0m \u001b[0mException\u001b[0m \u001b[1;32mas\u001b[0m \u001b[0me\u001b[0m\u001b[1;33m:\u001b[0m\u001b[1;33m\u001b[0m\u001b[0m\n",
      "\u001b[1;32m<ipython-input-109-8248ca59deec>\u001b[0m in \u001b[0;36m<lambda>\u001b[1;34m(row)\u001b[0m\n\u001b[0;32m      1\u001b[0m \u001b[1;31m#Getting from the csv file the \"CO_Y\" code correspondent to the \"SUBZONA_TRAB2\" code\u001b[0m\u001b[1;33m\u001b[0m\u001b[1;33m\u001b[0m\u001b[0m\n\u001b[1;32m----> 2\u001b[1;33m \u001b[0mod1977\u001b[0m\u001b[1;33m[\u001b[0m\u001b[1;34m'CO_TRAB2_Y'\u001b[0m\u001b[1;33m]\u001b[0m \u001b[1;33m=\u001b[0m \u001b[0mod1977\u001b[0m\u001b[1;33m.\u001b[0m\u001b[0mapply\u001b[0m\u001b[1;33m(\u001b[0m\u001b[1;32mlambda\u001b[0m \u001b[0mrow\u001b[0m\u001b[1;33m:\u001b[0m \u001b[0mconsulta_refext\u001b[0m\u001b[1;33m(\u001b[0m\u001b[0mrow\u001b[0m\u001b[1;33m,\u001b[0m \u001b[1;34m'COORD-SUBZONA-1977.csv'\u001b[0m\u001b[1;33m,\u001b[0m \u001b[1;34m'SUBZONA'\u001b[0m\u001b[1;33m,\u001b[0m \u001b[1;34m'SUBZONA_TRAB2'\u001b[0m\u001b[1;33m,\u001b[0m \u001b[1;34m'CO_Y'\u001b[0m\u001b[1;33m)\u001b[0m\u001b[1;33m,\u001b[0m \u001b[0maxis\u001b[0m\u001b[1;33m=\u001b[0m\u001b[1;36m1\u001b[0m\u001b[1;33m)\u001b[0m\u001b[1;33m\u001b[0m\u001b[0m\n\u001b[0m",
      "\u001b[1;32m<ipython-input-2-e86902145311>\u001b[0m in \u001b[0;36mconsulta_refext\u001b[1;34m(row, name_file, name_col_ref, name_col_filt, name_col_search)\u001b[0m\n\u001b[0;32m     12\u001b[0m     \u001b[1;32mif\u001b[0m \u001b[0mrow\u001b[0m \u001b[1;33m[\u001b[0m\u001b[0mname_col_filt\u001b[0m\u001b[1;33m]\u001b[0m\u001b[1;33m==\u001b[0m\u001b[1;36m0\u001b[0m\u001b[1;33m:\u001b[0m\u001b[1;33m\u001b[0m\u001b[0m\n\u001b[0;32m     13\u001b[0m         \u001b[1;32mreturn\u001b[0m \u001b[0mrow\u001b[0m\u001b[1;33m[\u001b[0m\u001b[0mname_col_filt\u001b[0m\u001b[1;33m]\u001b[0m\u001b[1;33m\u001b[0m\u001b[0m\n\u001b[1;32m---> 14\u001b[1;33m     \u001b[0mdata_frame\u001b[0m \u001b[1;33m=\u001b[0m \u001b[0mpd\u001b[0m\u001b[1;33m.\u001b[0m\u001b[0mread_csv\u001b[0m\u001b[1;33m(\u001b[0m\u001b[0mname_file\u001b[0m\u001b[1;33m,\u001b[0m\u001b[0msep\u001b[0m\u001b[1;33m=\u001b[0m\u001b[1;34m';'\u001b[0m\u001b[1;33m)\u001b[0m\u001b[1;33m\u001b[0m\u001b[0m\n\u001b[0m\u001b[0;32m     15\u001b[0m     \u001b[1;32mreturn\u001b[0m \u001b[0mint\u001b[0m\u001b[1;33m(\u001b[0m\u001b[0mdata_frame\u001b[0m\u001b[1;33m[\u001b[0m\u001b[0mdata_frame\u001b[0m\u001b[1;33m[\u001b[0m\u001b[0mname_col_ref\u001b[0m\u001b[1;33m]\u001b[0m\u001b[1;33m==\u001b[0m\u001b[0mrow\u001b[0m\u001b[1;33m[\u001b[0m\u001b[0mname_col_filt\u001b[0m\u001b[1;33m]\u001b[0m\u001b[1;33m]\u001b[0m\u001b[1;33m[\u001b[0m\u001b[0mname_col_search\u001b[0m\u001b[1;33m]\u001b[0m\u001b[1;33m)\u001b[0m\u001b[1;33m\u001b[0m\u001b[0m\n",
      "\u001b[1;32m/usr/local/lib/python3.4/dist-packages/pandas/io/parsers.py\u001b[0m in \u001b[0;36mparser_f\u001b[1;34m(filepath_or_buffer, sep, dialect, compression, doublequote, escapechar, quotechar, quoting, skipinitialspace, lineterminator, header, index_col, names, prefix, skiprows, skipfooter, skip_footer, na_values, na_fvalues, true_values, false_values, delimiter, converters, dtype, usecols, engine, delim_whitespace, as_recarray, na_filter, compact_ints, use_unsigned, low_memory, buffer_lines, warn_bad_lines, error_bad_lines, keep_default_na, thousands, comment, decimal, parse_dates, keep_date_col, dayfirst, date_parser, memory_map, float_precision, nrows, iterator, chunksize, verbose, encoding, squeeze, mangle_dupe_cols, tupleize_cols, infer_datetime_format, skip_blank_lines)\u001b[0m\n\u001b[0;32m    468\u001b[0m                     skip_blank_lines=skip_blank_lines)\n\u001b[0;32m    469\u001b[0m \u001b[1;33m\u001b[0m\u001b[0m\n\u001b[1;32m--> 470\u001b[1;33m         \u001b[1;32mreturn\u001b[0m \u001b[0m_read\u001b[0m\u001b[1;33m(\u001b[0m\u001b[0mfilepath_or_buffer\u001b[0m\u001b[1;33m,\u001b[0m \u001b[0mkwds\u001b[0m\u001b[1;33m)\u001b[0m\u001b[1;33m\u001b[0m\u001b[0m\n\u001b[0m\u001b[0;32m    471\u001b[0m \u001b[1;33m\u001b[0m\u001b[0m\n\u001b[0;32m    472\u001b[0m     \u001b[0mparser_f\u001b[0m\u001b[1;33m.\u001b[0m\u001b[0m__name__\u001b[0m \u001b[1;33m=\u001b[0m \u001b[0mname\u001b[0m\u001b[1;33m\u001b[0m\u001b[0m\n",
      "\u001b[1;32m/usr/local/lib/python3.4/dist-packages/pandas/io/parsers.py\u001b[0m in \u001b[0;36m_read\u001b[1;34m(filepath_or_buffer, kwds)\u001b[0m\n\u001b[0;32m    244\u001b[0m \u001b[1;33m\u001b[0m\u001b[0m\n\u001b[0;32m    245\u001b[0m     \u001b[1;31m# Create the parser.\u001b[0m\u001b[1;33m\u001b[0m\u001b[1;33m\u001b[0m\u001b[0m\n\u001b[1;32m--> 246\u001b[1;33m     \u001b[0mparser\u001b[0m \u001b[1;33m=\u001b[0m \u001b[0mTextFileReader\u001b[0m\u001b[1;33m(\u001b[0m\u001b[0mfilepath_or_buffer\u001b[0m\u001b[1;33m,\u001b[0m \u001b[1;33m**\u001b[0m\u001b[0mkwds\u001b[0m\u001b[1;33m)\u001b[0m\u001b[1;33m\u001b[0m\u001b[0m\n\u001b[0m\u001b[0;32m    247\u001b[0m \u001b[1;33m\u001b[0m\u001b[0m\n\u001b[0;32m    248\u001b[0m     \u001b[1;32mif\u001b[0m \u001b[1;33m(\u001b[0m\u001b[0mnrows\u001b[0m \u001b[1;32mis\u001b[0m \u001b[1;32mnot\u001b[0m \u001b[1;32mNone\u001b[0m\u001b[1;33m)\u001b[0m \u001b[1;32mand\u001b[0m \u001b[1;33m(\u001b[0m\u001b[0mchunksize\u001b[0m \u001b[1;32mis\u001b[0m \u001b[1;32mnot\u001b[0m \u001b[1;32mNone\u001b[0m\u001b[1;33m)\u001b[0m\u001b[1;33m:\u001b[0m\u001b[1;33m\u001b[0m\u001b[0m\n",
      "\u001b[1;32m/usr/local/lib/python3.4/dist-packages/pandas/io/parsers.py\u001b[0m in \u001b[0;36m__init__\u001b[1;34m(self, f, engine, **kwds)\u001b[0m\n\u001b[0;32m    560\u001b[0m             \u001b[0mself\u001b[0m\u001b[1;33m.\u001b[0m\u001b[0moptions\u001b[0m\u001b[1;33m[\u001b[0m\u001b[1;34m'has_index_names'\u001b[0m\u001b[1;33m]\u001b[0m \u001b[1;33m=\u001b[0m \u001b[0mkwds\u001b[0m\u001b[1;33m[\u001b[0m\u001b[1;34m'has_index_names'\u001b[0m\u001b[1;33m]\u001b[0m\u001b[1;33m\u001b[0m\u001b[0m\n\u001b[0;32m    561\u001b[0m \u001b[1;33m\u001b[0m\u001b[0m\n\u001b[1;32m--> 562\u001b[1;33m         \u001b[0mself\u001b[0m\u001b[1;33m.\u001b[0m\u001b[0m_make_engine\u001b[0m\u001b[1;33m(\u001b[0m\u001b[0mself\u001b[0m\u001b[1;33m.\u001b[0m\u001b[0mengine\u001b[0m\u001b[1;33m)\u001b[0m\u001b[1;33m\u001b[0m\u001b[0m\n\u001b[0m\u001b[0;32m    563\u001b[0m \u001b[1;33m\u001b[0m\u001b[0m\n\u001b[0;32m    564\u001b[0m     \u001b[1;32mdef\u001b[0m \u001b[0m_get_options_with_defaults\u001b[0m\u001b[1;33m(\u001b[0m\u001b[0mself\u001b[0m\u001b[1;33m,\u001b[0m \u001b[0mengine\u001b[0m\u001b[1;33m)\u001b[0m\u001b[1;33m:\u001b[0m\u001b[1;33m\u001b[0m\u001b[0m\n",
      "\u001b[1;32m/usr/local/lib/python3.4/dist-packages/pandas/io/parsers.py\u001b[0m in \u001b[0;36m_make_engine\u001b[1;34m(self, engine)\u001b[0m\n\u001b[0;32m    697\u001b[0m     \u001b[1;32mdef\u001b[0m \u001b[0m_make_engine\u001b[0m\u001b[1;33m(\u001b[0m\u001b[0mself\u001b[0m\u001b[1;33m,\u001b[0m \u001b[0mengine\u001b[0m\u001b[1;33m=\u001b[0m\u001b[1;34m'c'\u001b[0m\u001b[1;33m)\u001b[0m\u001b[1;33m:\u001b[0m\u001b[1;33m\u001b[0m\u001b[0m\n\u001b[0;32m    698\u001b[0m         \u001b[1;32mif\u001b[0m \u001b[0mengine\u001b[0m \u001b[1;33m==\u001b[0m \u001b[1;34m'c'\u001b[0m\u001b[1;33m:\u001b[0m\u001b[1;33m\u001b[0m\u001b[0m\n\u001b[1;32m--> 699\u001b[1;33m             \u001b[0mself\u001b[0m\u001b[1;33m.\u001b[0m\u001b[0m_engine\u001b[0m \u001b[1;33m=\u001b[0m \u001b[0mCParserWrapper\u001b[0m\u001b[1;33m(\u001b[0m\u001b[0mself\u001b[0m\u001b[1;33m.\u001b[0m\u001b[0mf\u001b[0m\u001b[1;33m,\u001b[0m \u001b[1;33m**\u001b[0m\u001b[0mself\u001b[0m\u001b[1;33m.\u001b[0m\u001b[0moptions\u001b[0m\u001b[1;33m)\u001b[0m\u001b[1;33m\u001b[0m\u001b[0m\n\u001b[0m\u001b[0;32m    700\u001b[0m         \u001b[1;32melse\u001b[0m\u001b[1;33m:\u001b[0m\u001b[1;33m\u001b[0m\u001b[0m\n\u001b[0;32m    701\u001b[0m             \u001b[1;32mif\u001b[0m \u001b[0mengine\u001b[0m \u001b[1;33m==\u001b[0m \u001b[1;34m'python'\u001b[0m\u001b[1;33m:\u001b[0m\u001b[1;33m\u001b[0m\u001b[0m\n",
      "\u001b[1;32m/usr/local/lib/python3.4/dist-packages/pandas/io/parsers.py\u001b[0m in \u001b[0;36m__init__\u001b[1;34m(self, src, **kwds)\u001b[0m\n\u001b[0;32m   1064\u001b[0m         \u001b[0mkwds\u001b[0m\u001b[1;33m[\u001b[0m\u001b[1;34m'allow_leading_cols'\u001b[0m\u001b[1;33m]\u001b[0m \u001b[1;33m=\u001b[0m \u001b[0mself\u001b[0m\u001b[1;33m.\u001b[0m\u001b[0mindex_col\u001b[0m \u001b[1;32mis\u001b[0m \u001b[1;32mnot\u001b[0m \u001b[1;32mFalse\u001b[0m\u001b[1;33m\u001b[0m\u001b[0m\n\u001b[0;32m   1065\u001b[0m \u001b[1;33m\u001b[0m\u001b[0m\n\u001b[1;32m-> 1066\u001b[1;33m         \u001b[0mself\u001b[0m\u001b[1;33m.\u001b[0m\u001b[0m_reader\u001b[0m \u001b[1;33m=\u001b[0m \u001b[0m_parser\u001b[0m\u001b[1;33m.\u001b[0m\u001b[0mTextReader\u001b[0m\u001b[1;33m(\u001b[0m\u001b[0msrc\u001b[0m\u001b[1;33m,\u001b[0m \u001b[1;33m**\u001b[0m\u001b[0mkwds\u001b[0m\u001b[1;33m)\u001b[0m\u001b[1;33m\u001b[0m\u001b[0m\n\u001b[0m\u001b[0;32m   1067\u001b[0m \u001b[1;33m\u001b[0m\u001b[0m\n\u001b[0;32m   1068\u001b[0m         \u001b[1;31m# XXX\u001b[0m\u001b[1;33m\u001b[0m\u001b[1;33m\u001b[0m\u001b[0m\n",
      "\u001b[1;32mpandas/parser.pyx\u001b[0m in \u001b[0;36mpandas.parser.TextReader.__cinit__ (pandas/parser.c:3163)\u001b[1;34m()\u001b[0m\n",
      "\u001b[1;32mpandas/parser.pyx\u001b[0m in \u001b[0;36mpandas.parser.TextReader._setup_parser_source (pandas/parser.c:5779)\u001b[1;34m()\u001b[0m\n",
      "\u001b[1;31mOSError\u001b[0m: (\"File b'COORD-SUBZONA-1977.csv' does not exist\", 'occurred at index 477')"
     ]
    }
   ],
   "source": [
    "#Getting from the csv file the \"CO_Y\" code correspondent to the \"SUBZONA_TRAB2\" code\n",
    "od1977['CO_TRAB2_Y'] = od1977.apply(lambda row: consulta_refext(row, 'COORD-SUBZONA-1977.csv', 'SUBZONA', 'SUBZONA_TRAB2', 'CO_Y'), axis=1)"
   ]
  },
  {
   "cell_type": "markdown",
   "metadata": {
    "collapsed": true
   },
   "source": [
    "----\n",
    "##Passo 44: \"ID_VIAG\"\n",
    "Construir o \"ID_VIAG\"\n",
    "\n",
    "Na coluna \"ID_VIAG\", linha i, ler o valor da linha i da coluna \"ID_PESS\", e concatenar esse valor (12 dígitos) com o número da pessoa, que é o valor da linha i da coluna \"NO_VIAG\" (com 2 dígitos).\n",
    "\n",
    "Resultado será um ID_VIAG, que pode se repetir nas linhas, 14 dígitos."
   ]
  },
  {
   "cell_type": "code",
   "execution_count": 110,
   "metadata": {
    "collapsed": true
   },
   "outputs": [],
   "source": [
    "#Generating \"ID_VIAG\" from the concatenation of \"ID_PESS\" and \"NO_VIAG\" variables\n",
    "od1977['ID_VIAG'] = od1977.apply(gera_ID_VIAG, axis=1)"
   ]
  },
  {
   "cell_type": "markdown",
   "metadata": {},
   "source": [
    "-----\n",
    "##Passo 45: \"F_VIAG\"\n",
    "Excluir a coluna \"F_VIAG\", porque as viagens são numeradas, então já se saber pelo NO_VIAG qual é a primeira do indivíduo."
   ]
  },
  {
   "cell_type": "code",
   "execution_count": 111,
   "metadata": {
    "collapsed": true
   },
   "outputs": [],
   "source": [
    "od1977 = od1977.drop('F_VIAG', 1)"
   ]
  },
  {
   "cell_type": "code",
   "execution_count": 112,
   "metadata": {
    "collapsed": false
   },
   "outputs": [
    {
     "data": {
      "text/plain": [
       "['ANO',\n",
       " 'CD_ENTRE',\n",
       " 'DIA_SEM',\n",
       " 'UCOD_DOM',\n",
       " 'ZONA_DOM',\n",
       " 'SUBZONA_DOM',\n",
       " 'MUN_DOM',\n",
       " 'CO_DOM_X',\n",
       " 'CO_DOM_Y',\n",
       " 'ID_DOM',\n",
       " 'F_DOM',\n",
       " 'FE_DOM',\n",
       " 'NO_DOM',\n",
       " 'TIPO_DOM',\n",
       " 'TOT_FAM',\n",
       " 'ID_FAM',\n",
       " 'F_FAM',\n",
       " 'FE_FAM',\n",
       " 'NO_FAM',\n",
       " 'COND_MORA',\n",
       " 'QT_AUTO',\n",
       " 'QT_BICI',\n",
       " 'QT_MOTO',\n",
       " 'CD_RENFAM',\n",
       " 'REN_FAM',\n",
       " 'ID_PESS',\n",
       " 'F_PESS',\n",
       " 'FE_PESS',\n",
       " 'NO_PESS',\n",
       " 'SIT_FAM',\n",
       " 'IDADE',\n",
       " 'SEXO',\n",
       " 'ESTUDA',\n",
       " 'GRAU_INSTR',\n",
       " 'OCUP',\n",
       " 'SETOR_ATIV',\n",
       " 'CD_RENIND',\n",
       " 'REN_IND',\n",
       " 'UCOD_ESC',\n",
       " 'ZONA_ESC',\n",
       " 'SUBZONA_ESC',\n",
       " 'MUN_ESC',\n",
       " 'CO_ESC_X',\n",
       " 'CO_ESC_Y',\n",
       " 'UCOD_TRAB1',\n",
       " 'ZONA_TRAB1',\n",
       " 'SUBZONA_TRAB1',\n",
       " 'MUN_TRAB1',\n",
       " 'CO_TRAB1_X',\n",
       " 'CO_TRAB1_Y',\n",
       " 'UCOD_TRAB2',\n",
       " 'ZONA_TRAB2',\n",
       " 'SUBZONA_TRAB2',\n",
       " 'MUN_TRAB2',\n",
       " 'CO_TRAB2_X',\n",
       " 'CO_TRAB2_Y',\n",
       " 'ID_VIAG',\n",
       " 'FE_VIAG',\n",
       " 'NO_VIAG',\n",
       " 'TOT_VIAG',\n",
       " 'UCOD_ORIG',\n",
       " 'ZONA_ORIG',\n",
       " 'SUBZONA_ORIG',\n",
       " 'MUN_ORIG',\n",
       " 'CO_ORIG_X',\n",
       " 'CO_ORIG_Y',\n",
       " 'UCOD_DEST',\n",
       " 'ZONA_DEST',\n",
       " 'SUBZONA_DEST',\n",
       " 'MUN_DEST',\n",
       " 'CO_DEST_X',\n",
       " 'CO_DEST_Y',\n",
       " 'DIST_VIAG',\n",
       " 'MOTIVO_ORIG',\n",
       " 'MOTIVO_DEST',\n",
       " 'MODO1',\n",
       " 'MODO2',\n",
       " 'MODO3',\n",
       " 'MODO4',\n",
       " 'MODO_PRIN',\n",
       " 'TIPO_VIAG',\n",
       " 'H_SAIDA',\n",
       " 'MIN_SAIDA',\n",
       " 'ANDA_ORIG',\n",
       " 'H_CHEG',\n",
       " 'MIN_CHEG',\n",
       " 'ANDA_DEST',\n",
       " 'DURACAO',\n",
       " 'TIPO_EST_AUTO',\n",
       " 'VALOR_EST_AUTO']"
      ]
     },
     "metadata": {},
     "output_type": "display_data"
    }
   ],
   "source": [
    "#Storing the variables list in the \"cols\" variable\n",
    "cols = od1977.columns.tolist()\n",
    "if not impressao:\n",
    "    #printing \"cols\" variable to check if the reorder operation was effective\n",
    "    display(cols)"
   ]
  },
  {
   "cell_type": "markdown",
   "metadata": {},
   "source": [
    "-----\n",
    "##\"FE_VIAG\" E \"NO_VIAG\"\n",
    "Nada há que se fazer em relação aos dados das colunas \"FE_VIAG\" e \"NO_VIAG\""
   ]
  },
  {
   "cell_type": "markdown",
   "metadata": {},
   "source": [
    "-----\n",
    "##\"TOT_VIAG\"\n",
    "\n",
    ">>> CALCULAR"
   ]
  },
  {
   "cell_type": "code",
   "execution_count": 113,
   "metadata": {
    "collapsed": false
   },
   "outputs": [
    {
     "data": {
      "text/plain": [
       "count     0\n",
       "mean    NaN\n",
       "std     NaN\n",
       "min     NaN\n",
       "25%     NaN\n",
       "50%     NaN\n",
       "75%     NaN\n",
       "max     NaN\n",
       "Name: TOT_VIAG, dtype: float64"
      ]
     },
     "metadata": {},
     "output_type": "display_data"
    },
    {
     "data": {
      "text/html": [
       "<div style=\"max-height:1000px;max-width:1500px;overflow:auto;\">\n",
       "<table border=\"1\" class=\"dataframe\">\n",
       "  <thead>\n",
       "    <tr style=\"text-align: right;\">\n",
       "      <th></th>\n",
       "      <th>ID_PESS</th>\n",
       "      <th>NO_VIAG</th>\n",
       "      <th>TOT_VIAG</th>\n",
       "    </tr>\n",
       "  </thead>\n",
       "  <tbody>\n",
       "    <tr>\n",
       "      <th>0</th>\n",
       "      <td>100100010101</td>\n",
       "      <td>1</td>\n",
       "      <td>NaN</td>\n",
       "    </tr>\n",
       "    <tr>\n",
       "      <th>1</th>\n",
       "      <td>100100010101</td>\n",
       "      <td>2</td>\n",
       "      <td>NaN</td>\n",
       "    </tr>\n",
       "    <tr>\n",
       "      <th>2</th>\n",
       "      <td>100100010101</td>\n",
       "      <td>3</td>\n",
       "      <td>NaN</td>\n",
       "    </tr>\n",
       "    <tr>\n",
       "      <th>3</th>\n",
       "      <td>100100010101</td>\n",
       "      <td>4</td>\n",
       "      <td>NaN</td>\n",
       "    </tr>\n",
       "    <tr>\n",
       "      <th>4</th>\n",
       "      <td>100100010102</td>\n",
       "      <td>0</td>\n",
       "      <td>NaN</td>\n",
       "    </tr>\n",
       "    <tr>\n",
       "      <th>5</th>\n",
       "      <td>100100020101</td>\n",
       "      <td>1</td>\n",
       "      <td>NaN</td>\n",
       "    </tr>\n",
       "    <tr>\n",
       "      <th>6</th>\n",
       "      <td>100100020101</td>\n",
       "      <td>2</td>\n",
       "      <td>NaN</td>\n",
       "    </tr>\n",
       "    <tr>\n",
       "      <th>7</th>\n",
       "      <td>100100020101</td>\n",
       "      <td>3</td>\n",
       "      <td>NaN</td>\n",
       "    </tr>\n",
       "    <tr>\n",
       "      <th>8</th>\n",
       "      <td>100100020101</td>\n",
       "      <td>4</td>\n",
       "      <td>NaN</td>\n",
       "    </tr>\n",
       "    <tr>\n",
       "      <th>9</th>\n",
       "      <td>100100020102</td>\n",
       "      <td>1</td>\n",
       "      <td>NaN</td>\n",
       "    </tr>\n",
       "    <tr>\n",
       "      <th>10</th>\n",
       "      <td>100100020102</td>\n",
       "      <td>2</td>\n",
       "      <td>NaN</td>\n",
       "    </tr>\n",
       "    <tr>\n",
       "      <th>11</th>\n",
       "      <td>100100020102</td>\n",
       "      <td>3</td>\n",
       "      <td>NaN</td>\n",
       "    </tr>\n",
       "    <tr>\n",
       "      <th>12</th>\n",
       "      <td>100100020102</td>\n",
       "      <td>4</td>\n",
       "      <td>NaN</td>\n",
       "    </tr>\n",
       "    <tr>\n",
       "      <th>13</th>\n",
       "      <td>100100030101</td>\n",
       "      <td>1</td>\n",
       "      <td>NaN</td>\n",
       "    </tr>\n",
       "    <tr>\n",
       "      <th>14</th>\n",
       "      <td>100100030101</td>\n",
       "      <td>2</td>\n",
       "      <td>NaN</td>\n",
       "    </tr>\n",
       "    <tr>\n",
       "      <th>15</th>\n",
       "      <td>100100030101</td>\n",
       "      <td>3</td>\n",
       "      <td>NaN</td>\n",
       "    </tr>\n",
       "    <tr>\n",
       "      <th>16</th>\n",
       "      <td>100100030101</td>\n",
       "      <td>4</td>\n",
       "      <td>NaN</td>\n",
       "    </tr>\n",
       "    <tr>\n",
       "      <th>17</th>\n",
       "      <td>100100030102</td>\n",
       "      <td>1</td>\n",
       "      <td>NaN</td>\n",
       "    </tr>\n",
       "    <tr>\n",
       "      <th>18</th>\n",
       "      <td>100100030102</td>\n",
       "      <td>2</td>\n",
       "      <td>NaN</td>\n",
       "    </tr>\n",
       "    <tr>\n",
       "      <th>19</th>\n",
       "      <td>100100030102</td>\n",
       "      <td>3</td>\n",
       "      <td>NaN</td>\n",
       "    </tr>\n",
       "    <tr>\n",
       "      <th>20</th>\n",
       "      <td>100100030102</td>\n",
       "      <td>4</td>\n",
       "      <td>NaN</td>\n",
       "    </tr>\n",
       "    <tr>\n",
       "      <th>21</th>\n",
       "      <td>100100040101</td>\n",
       "      <td>1</td>\n",
       "      <td>NaN</td>\n",
       "    </tr>\n",
       "    <tr>\n",
       "      <th>22</th>\n",
       "      <td>100100040101</td>\n",
       "      <td>2</td>\n",
       "      <td>NaN</td>\n",
       "    </tr>\n",
       "    <tr>\n",
       "      <th>23</th>\n",
       "      <td>100100040102</td>\n",
       "      <td>0</td>\n",
       "      <td>NaN</td>\n",
       "    </tr>\n",
       "    <tr>\n",
       "      <th>24</th>\n",
       "      <td>100100040103</td>\n",
       "      <td>1</td>\n",
       "      <td>NaN</td>\n",
       "    </tr>\n",
       "    <tr>\n",
       "      <th>25</th>\n",
       "      <td>100100040103</td>\n",
       "      <td>2</td>\n",
       "      <td>NaN</td>\n",
       "    </tr>\n",
       "    <tr>\n",
       "      <th>26</th>\n",
       "      <td>100100040103</td>\n",
       "      <td>3</td>\n",
       "      <td>NaN</td>\n",
       "    </tr>\n",
       "    <tr>\n",
       "      <th>27</th>\n",
       "      <td>100100040104</td>\n",
       "      <td>1</td>\n",
       "      <td>NaN</td>\n",
       "    </tr>\n",
       "    <tr>\n",
       "      <th>28</th>\n",
       "      <td>100100040104</td>\n",
       "      <td>2</td>\n",
       "      <td>NaN</td>\n",
       "    </tr>\n",
       "    <tr>\n",
       "      <th>29</th>\n",
       "      <td>100100050000</td>\n",
       "      <td>0</td>\n",
       "      <td>NaN</td>\n",
       "    </tr>\n",
       "  </tbody>\n",
       "</table>\n",
       "</div>"
      ],
      "text/plain": [
       "         ID_PESS  NO_VIAG  TOT_VIAG\n",
       "0   100100010101        1       NaN\n",
       "1   100100010101        2       NaN\n",
       "2   100100010101        3       NaN\n",
       "3   100100010101        4       NaN\n",
       "4   100100010102        0       NaN\n",
       "5   100100020101        1       NaN\n",
       "6   100100020101        2       NaN\n",
       "7   100100020101        3       NaN\n",
       "8   100100020101        4       NaN\n",
       "9   100100020102        1       NaN\n",
       "10  100100020102        2       NaN\n",
       "11  100100020102        3       NaN\n",
       "12  100100020102        4       NaN\n",
       "13  100100030101        1       NaN\n",
       "14  100100030101        2       NaN\n",
       "15  100100030101        3       NaN\n",
       "16  100100030101        4       NaN\n",
       "17  100100030102        1       NaN\n",
       "18  100100030102        2       NaN\n",
       "19  100100030102        3       NaN\n",
       "20  100100030102        4       NaN\n",
       "21  100100040101        1       NaN\n",
       "22  100100040101        2       NaN\n",
       "23  100100040102        0       NaN\n",
       "24  100100040103        1       NaN\n",
       "25  100100040103        2       NaN\n",
       "26  100100040103        3       NaN\n",
       "27  100100040104        1       NaN\n",
       "28  100100040104        2       NaN\n",
       "29  100100050000        0       NaN"
      ]
     },
     "metadata": {},
     "output_type": "display_data"
    }
   ],
   "source": [
    "if not impressao:\n",
    "    #Describing data (\"TOT_VIAG\" column) - count, mean, std, min and max\n",
    "    display(od1977['TOT_VIAG'].describe())\n",
    "display(od1977[:30][['ID_PESS','NO_VIAG','TOT_VIAG']])"
   ]
  },
  {
   "cell_type": "code",
   "execution_count": 114,
   "metadata": {
    "collapsed": false
   },
   "outputs": [
    {
     "data": {
      "text/plain": [
       "ID_PESS\n",
       "100100010101    None\n",
       "100100010102    None\n",
       "100100020101    None\n",
       "100100020102    None\n",
       "100100030101    None\n",
       "100100030102    None\n",
       "100100040101    None\n",
       "100100040102    None\n",
       "100100040103    None\n",
       "100100040104    None\n",
       "100100050000    None\n",
       "100100060101    None\n",
       "100100060102    None\n",
       "100100060201    None\n",
       "100100060301    None\n",
       "100100060302    None\n",
       "100100060401    None\n",
       "100100060402    None\n",
       "100100060501    None\n",
       "100100060601    None\n",
       "100100060602    None\n",
       "100100060603    None\n",
       "100100060604    None\n",
       "100100060701    None\n",
       "100100060702    None\n",
       "100100070101    None\n",
       "100100070102    None\n",
       "100100070201    None\n",
       "100100070202    None\n",
       "100100070301    None\n",
       "                ... \n",
       "101800340102    None\n",
       "101800340103    None\n",
       "101800340104    None\n",
       "101800340105    None\n",
       "101800350101    None\n",
       "101800350102    None\n",
       "101800350103    None\n",
       "101800350104    None\n",
       "101800350105    None\n",
       "101800350106    None\n",
       "101800360101    None\n",
       "101800360102    None\n",
       "101800360103    None\n",
       "101800370101    None\n",
       "101800370102    None\n",
       "101800380101    None\n",
       "101800380102    None\n",
       "101800380103    None\n",
       "101800380104    None\n",
       "101800380105    None\n",
       "101800390101    None\n",
       "101800390102    None\n",
       "101800390103    None\n",
       "101800390104    None\n",
       "101800400101    None\n",
       "101800400102    None\n",
       "101800410101    None\n",
       "101800410102    None\n",
       "101800410103    None\n",
       "101800410104    None\n",
       "dtype: object"
      ]
     },
     "execution_count": 114,
     "metadata": {},
     "output_type": "execute_result"
    }
   ],
   "source": [
    "def atrib_tot_viag(row):\n",
    "    od1977.loc[od1977['ID_PESS']==row['ID_PESS'],'TOT_VIAG'] = row['NO_VIAG']\n",
    "    #print('id_pessoa: ' + str(row['ID_PESS']) + ' | no_viag:' + str(row['NO_VIAG'])\n",
    "    #print(row)\n",
    "\n",
    "od1977.loc[:,['ID_PESS','NO_VIAG']].groupby(['ID_PESS'],sort=False).agg({'NO_VIAG':max,'ID_PESS':max}).apply(atrib_tot_viag, axis=1)\n",
    "#od1977[od1977['ID_PESS']==20002030404][['ID_PESS','NO_VIAG']]"
   ]
  },
  {
   "cell_type": "code",
   "execution_count": 115,
   "metadata": {
    "collapsed": false
   },
   "outputs": [
    {
     "data": {
      "text/html": [
       "<div style=\"max-height:1000px;max-width:1500px;overflow:auto;\">\n",
       "<table border=\"1\" class=\"dataframe\">\n",
       "  <thead>\n",
       "    <tr style=\"text-align: right;\">\n",
       "      <th></th>\n",
       "      <th>ID_PESS</th>\n",
       "      <th>NO_VIAG</th>\n",
       "      <th>TOT_VIAG</th>\n",
       "    </tr>\n",
       "  </thead>\n",
       "  <tbody>\n",
       "    <tr>\n",
       "      <th>0</th>\n",
       "      <td>100100010101</td>\n",
       "      <td>1</td>\n",
       "      <td>4</td>\n",
       "    </tr>\n",
       "    <tr>\n",
       "      <th>1</th>\n",
       "      <td>100100010101</td>\n",
       "      <td>2</td>\n",
       "      <td>4</td>\n",
       "    </tr>\n",
       "    <tr>\n",
       "      <th>2</th>\n",
       "      <td>100100010101</td>\n",
       "      <td>3</td>\n",
       "      <td>4</td>\n",
       "    </tr>\n",
       "    <tr>\n",
       "      <th>3</th>\n",
       "      <td>100100010101</td>\n",
       "      <td>4</td>\n",
       "      <td>4</td>\n",
       "    </tr>\n",
       "    <tr>\n",
       "      <th>4</th>\n",
       "      <td>100100010102</td>\n",
       "      <td>0</td>\n",
       "      <td>0</td>\n",
       "    </tr>\n",
       "    <tr>\n",
       "      <th>5</th>\n",
       "      <td>100100020101</td>\n",
       "      <td>1</td>\n",
       "      <td>4</td>\n",
       "    </tr>\n",
       "    <tr>\n",
       "      <th>6</th>\n",
       "      <td>100100020101</td>\n",
       "      <td>2</td>\n",
       "      <td>4</td>\n",
       "    </tr>\n",
       "    <tr>\n",
       "      <th>7</th>\n",
       "      <td>100100020101</td>\n",
       "      <td>3</td>\n",
       "      <td>4</td>\n",
       "    </tr>\n",
       "    <tr>\n",
       "      <th>8</th>\n",
       "      <td>100100020101</td>\n",
       "      <td>4</td>\n",
       "      <td>4</td>\n",
       "    </tr>\n",
       "    <tr>\n",
       "      <th>9</th>\n",
       "      <td>100100020102</td>\n",
       "      <td>1</td>\n",
       "      <td>4</td>\n",
       "    </tr>\n",
       "    <tr>\n",
       "      <th>10</th>\n",
       "      <td>100100020102</td>\n",
       "      <td>2</td>\n",
       "      <td>4</td>\n",
       "    </tr>\n",
       "    <tr>\n",
       "      <th>11</th>\n",
       "      <td>100100020102</td>\n",
       "      <td>3</td>\n",
       "      <td>4</td>\n",
       "    </tr>\n",
       "    <tr>\n",
       "      <th>12</th>\n",
       "      <td>100100020102</td>\n",
       "      <td>4</td>\n",
       "      <td>4</td>\n",
       "    </tr>\n",
       "    <tr>\n",
       "      <th>13</th>\n",
       "      <td>100100030101</td>\n",
       "      <td>1</td>\n",
       "      <td>4</td>\n",
       "    </tr>\n",
       "    <tr>\n",
       "      <th>14</th>\n",
       "      <td>100100030101</td>\n",
       "      <td>2</td>\n",
       "      <td>4</td>\n",
       "    </tr>\n",
       "    <tr>\n",
       "      <th>15</th>\n",
       "      <td>100100030101</td>\n",
       "      <td>3</td>\n",
       "      <td>4</td>\n",
       "    </tr>\n",
       "    <tr>\n",
       "      <th>16</th>\n",
       "      <td>100100030101</td>\n",
       "      <td>4</td>\n",
       "      <td>4</td>\n",
       "    </tr>\n",
       "    <tr>\n",
       "      <th>17</th>\n",
       "      <td>100100030102</td>\n",
       "      <td>1</td>\n",
       "      <td>4</td>\n",
       "    </tr>\n",
       "    <tr>\n",
       "      <th>18</th>\n",
       "      <td>100100030102</td>\n",
       "      <td>2</td>\n",
       "      <td>4</td>\n",
       "    </tr>\n",
       "    <tr>\n",
       "      <th>19</th>\n",
       "      <td>100100030102</td>\n",
       "      <td>3</td>\n",
       "      <td>4</td>\n",
       "    </tr>\n",
       "    <tr>\n",
       "      <th>20</th>\n",
       "      <td>100100030102</td>\n",
       "      <td>4</td>\n",
       "      <td>4</td>\n",
       "    </tr>\n",
       "    <tr>\n",
       "      <th>21</th>\n",
       "      <td>100100040101</td>\n",
       "      <td>1</td>\n",
       "      <td>2</td>\n",
       "    </tr>\n",
       "    <tr>\n",
       "      <th>22</th>\n",
       "      <td>100100040101</td>\n",
       "      <td>2</td>\n",
       "      <td>2</td>\n",
       "    </tr>\n",
       "    <tr>\n",
       "      <th>23</th>\n",
       "      <td>100100040102</td>\n",
       "      <td>0</td>\n",
       "      <td>0</td>\n",
       "    </tr>\n",
       "    <tr>\n",
       "      <th>24</th>\n",
       "      <td>100100040103</td>\n",
       "      <td>1</td>\n",
       "      <td>3</td>\n",
       "    </tr>\n",
       "    <tr>\n",
       "      <th>25</th>\n",
       "      <td>100100040103</td>\n",
       "      <td>2</td>\n",
       "      <td>3</td>\n",
       "    </tr>\n",
       "    <tr>\n",
       "      <th>26</th>\n",
       "      <td>100100040103</td>\n",
       "      <td>3</td>\n",
       "      <td>3</td>\n",
       "    </tr>\n",
       "    <tr>\n",
       "      <th>27</th>\n",
       "      <td>100100040104</td>\n",
       "      <td>1</td>\n",
       "      <td>2</td>\n",
       "    </tr>\n",
       "    <tr>\n",
       "      <th>28</th>\n",
       "      <td>100100040104</td>\n",
       "      <td>2</td>\n",
       "      <td>2</td>\n",
       "    </tr>\n",
       "    <tr>\n",
       "      <th>29</th>\n",
       "      <td>100100050000</td>\n",
       "      <td>0</td>\n",
       "      <td>0</td>\n",
       "    </tr>\n",
       "    <tr>\n",
       "      <th>...</th>\n",
       "      <td>...</td>\n",
       "      <td>...</td>\n",
       "      <td>...</td>\n",
       "    </tr>\n",
       "    <tr>\n",
       "      <th>61</th>\n",
       "      <td>100100070102</td>\n",
       "      <td>0</td>\n",
       "      <td>0</td>\n",
       "    </tr>\n",
       "    <tr>\n",
       "      <th>62</th>\n",
       "      <td>100100070201</td>\n",
       "      <td>1</td>\n",
       "      <td>2</td>\n",
       "    </tr>\n",
       "    <tr>\n",
       "      <th>63</th>\n",
       "      <td>100100070201</td>\n",
       "      <td>2</td>\n",
       "      <td>2</td>\n",
       "    </tr>\n",
       "    <tr>\n",
       "      <th>64</th>\n",
       "      <td>100100070202</td>\n",
       "      <td>1</td>\n",
       "      <td>2</td>\n",
       "    </tr>\n",
       "    <tr>\n",
       "      <th>65</th>\n",
       "      <td>100100070202</td>\n",
       "      <td>2</td>\n",
       "      <td>2</td>\n",
       "    </tr>\n",
       "    <tr>\n",
       "      <th>66</th>\n",
       "      <td>100100070301</td>\n",
       "      <td>1</td>\n",
       "      <td>2</td>\n",
       "    </tr>\n",
       "    <tr>\n",
       "      <th>67</th>\n",
       "      <td>100100070301</td>\n",
       "      <td>2</td>\n",
       "      <td>2</td>\n",
       "    </tr>\n",
       "    <tr>\n",
       "      <th>68</th>\n",
       "      <td>100100070302</td>\n",
       "      <td>1</td>\n",
       "      <td>2</td>\n",
       "    </tr>\n",
       "    <tr>\n",
       "      <th>69</th>\n",
       "      <td>100100070302</td>\n",
       "      <td>2</td>\n",
       "      <td>2</td>\n",
       "    </tr>\n",
       "    <tr>\n",
       "      <th>70</th>\n",
       "      <td>100100070401</td>\n",
       "      <td>1</td>\n",
       "      <td>2</td>\n",
       "    </tr>\n",
       "    <tr>\n",
       "      <th>71</th>\n",
       "      <td>100100070401</td>\n",
       "      <td>2</td>\n",
       "      <td>2</td>\n",
       "    </tr>\n",
       "    <tr>\n",
       "      <th>72</th>\n",
       "      <td>100100070402</td>\n",
       "      <td>1</td>\n",
       "      <td>2</td>\n",
       "    </tr>\n",
       "    <tr>\n",
       "      <th>73</th>\n",
       "      <td>100100070402</td>\n",
       "      <td>2</td>\n",
       "      <td>2</td>\n",
       "    </tr>\n",
       "    <tr>\n",
       "      <th>74</th>\n",
       "      <td>100100070403</td>\n",
       "      <td>1</td>\n",
       "      <td>3</td>\n",
       "    </tr>\n",
       "    <tr>\n",
       "      <th>75</th>\n",
       "      <td>100100070403</td>\n",
       "      <td>2</td>\n",
       "      <td>3</td>\n",
       "    </tr>\n",
       "    <tr>\n",
       "      <th>76</th>\n",
       "      <td>100100070403</td>\n",
       "      <td>3</td>\n",
       "      <td>3</td>\n",
       "    </tr>\n",
       "    <tr>\n",
       "      <th>77</th>\n",
       "      <td>100100070403</td>\n",
       "      <td>3</td>\n",
       "      <td>3</td>\n",
       "    </tr>\n",
       "    <tr>\n",
       "      <th>78</th>\n",
       "      <td>100100080101</td>\n",
       "      <td>1</td>\n",
       "      <td>2</td>\n",
       "    </tr>\n",
       "    <tr>\n",
       "      <th>79</th>\n",
       "      <td>100100080101</td>\n",
       "      <td>2</td>\n",
       "      <td>2</td>\n",
       "    </tr>\n",
       "    <tr>\n",
       "      <th>80</th>\n",
       "      <td>100100090101</td>\n",
       "      <td>0</td>\n",
       "      <td>0</td>\n",
       "    </tr>\n",
       "    <tr>\n",
       "      <th>81</th>\n",
       "      <td>100100090102</td>\n",
       "      <td>1</td>\n",
       "      <td>3</td>\n",
       "    </tr>\n",
       "    <tr>\n",
       "      <th>82</th>\n",
       "      <td>100100090102</td>\n",
       "      <td>2</td>\n",
       "      <td>3</td>\n",
       "    </tr>\n",
       "    <tr>\n",
       "      <th>83</th>\n",
       "      <td>100100090102</td>\n",
       "      <td>3</td>\n",
       "      <td>3</td>\n",
       "    </tr>\n",
       "    <tr>\n",
       "      <th>84</th>\n",
       "      <td>100100100000</td>\n",
       "      <td>0</td>\n",
       "      <td>0</td>\n",
       "    </tr>\n",
       "    <tr>\n",
       "      <th>85</th>\n",
       "      <td>100100110101</td>\n",
       "      <td>1</td>\n",
       "      <td>3</td>\n",
       "    </tr>\n",
       "    <tr>\n",
       "      <th>86</th>\n",
       "      <td>100100110101</td>\n",
       "      <td>2</td>\n",
       "      <td>3</td>\n",
       "    </tr>\n",
       "    <tr>\n",
       "      <th>87</th>\n",
       "      <td>100100110101</td>\n",
       "      <td>3</td>\n",
       "      <td>3</td>\n",
       "    </tr>\n",
       "    <tr>\n",
       "      <th>88</th>\n",
       "      <td>100100110102</td>\n",
       "      <td>1</td>\n",
       "      <td>2</td>\n",
       "    </tr>\n",
       "    <tr>\n",
       "      <th>89</th>\n",
       "      <td>100100110102</td>\n",
       "      <td>2</td>\n",
       "      <td>2</td>\n",
       "    </tr>\n",
       "    <tr>\n",
       "      <th>90</th>\n",
       "      <td>100100110103</td>\n",
       "      <td>1</td>\n",
       "      <td>4</td>\n",
       "    </tr>\n",
       "  </tbody>\n",
       "</table>\n",
       "<p>91 rows × 3 columns</p>\n",
       "</div>"
      ],
      "text/plain": [
       "         ID_PESS  NO_VIAG  TOT_VIAG\n",
       "0   100100010101        1         4\n",
       "1   100100010101        2         4\n",
       "2   100100010101        3         4\n",
       "3   100100010101        4         4\n",
       "4   100100010102        0         0\n",
       "5   100100020101        1         4\n",
       "6   100100020101        2         4\n",
       "7   100100020101        3         4\n",
       "8   100100020101        4         4\n",
       "9   100100020102        1         4\n",
       "10  100100020102        2         4\n",
       "11  100100020102        3         4\n",
       "12  100100020102        4         4\n",
       "13  100100030101        1         4\n",
       "14  100100030101        2         4\n",
       "15  100100030101        3         4\n",
       "16  100100030101        4         4\n",
       "17  100100030102        1         4\n",
       "18  100100030102        2         4\n",
       "19  100100030102        3         4\n",
       "20  100100030102        4         4\n",
       "21  100100040101        1         2\n",
       "22  100100040101        2         2\n",
       "23  100100040102        0         0\n",
       "24  100100040103        1         3\n",
       "25  100100040103        2         3\n",
       "26  100100040103        3         3\n",
       "27  100100040104        1         2\n",
       "28  100100040104        2         2\n",
       "29  100100050000        0         0\n",
       "..           ...      ...       ...\n",
       "61  100100070102        0         0\n",
       "62  100100070201        1         2\n",
       "63  100100070201        2         2\n",
       "64  100100070202        1         2\n",
       "65  100100070202        2         2\n",
       "66  100100070301        1         2\n",
       "67  100100070301        2         2\n",
       "68  100100070302        1         2\n",
       "69  100100070302        2         2\n",
       "70  100100070401        1         2\n",
       "71  100100070401        2         2\n",
       "72  100100070402        1         2\n",
       "73  100100070402        2         2\n",
       "74  100100070403        1         3\n",
       "75  100100070403        2         3\n",
       "76  100100070403        3         3\n",
       "77  100100070403        3         3\n",
       "78  100100080101        1         2\n",
       "79  100100080101        2         2\n",
       "80  100100090101        0         0\n",
       "81  100100090102        1         3\n",
       "82  100100090102        2         3\n",
       "83  100100090102        3         3\n",
       "84  100100100000        0         0\n",
       "85  100100110101        1         3\n",
       "86  100100110101        2         3\n",
       "87  100100110101        3         3\n",
       "88  100100110102        1         2\n",
       "89  100100110102        2         2\n",
       "90  100100110103        1         4\n",
       "\n",
       "[91 rows x 3 columns]"
      ]
     },
     "metadata": {},
     "output_type": "display_data"
    }
   ],
   "source": [
    "display(od1977.loc[:90,['ID_PESS','NO_VIAG','TOT_VIAG']])\n",
    "#Verificar as viagens do ID_PESS = 100100070403\n",
    "#display(od1977.loc[od1977['ID_PESS']==100100070403,['ID_PESS','NO_VIAG','TOT_VIAG','ID_DOM','NO_DOM','ID_VIAG']])"
   ]
  },
  {
   "cell_type": "code",
   "execution_count": 116,
   "metadata": {
    "collapsed": false
   },
   "outputs": [
    {
     "data": {
      "text/plain": [
       "2     4569\n",
       "4     2947\n",
       "0     2389\n",
       "3     1278\n",
       "6      952\n",
       "5      936\n",
       "1      706\n",
       "8      315\n",
       "7      310\n",
       "9      143\n",
       "10     138\n",
       "11     105\n",
       "12      81\n",
       "13      65\n",
       "14      28\n",
       "20      20\n",
       "16      15\n",
       "37       3\n",
       "dtype: int64"
      ]
     },
     "metadata": {},
     "output_type": "display_data"
    }
   ],
   "source": [
    "if not impressao:\n",
    "    #Count for check \"TOT_VIAG\"\n",
    "    display(od1977['TOT_VIAG'].value_counts())"
   ]
  },
  {
   "cell_type": "code",
   "execution_count": 117,
   "metadata": {
    "collapsed": false
   },
   "outputs": [
    {
     "data": {
      "text/plain": [
       "ID_PESS\n",
       "100100010101    None\n",
       "100100010102    None\n",
       "100100020101    None\n",
       "100100020102    None\n",
       "100100030101    None\n",
       "100100030102    None\n",
       "100100040101    None\n",
       "100100040102    None\n",
       "100100040103    None\n",
       "100100040104    None\n",
       "100100050000    None\n",
       "100100060101    None\n",
       "100100060102    None\n",
       "100100060201    None\n",
       "100100060301    None\n",
       "100100060302    None\n",
       "100100060401    None\n",
       "100100060402    None\n",
       "100100060501    None\n",
       "100100060601    None\n",
       "100100060602    None\n",
       "100100060603    None\n",
       "100100060604    None\n",
       "100100060701    None\n",
       "100100060702    None\n",
       "100100070101    None\n",
       "100100070102    None\n",
       "100100070201    None\n",
       "100100070202    None\n",
       "100100070301    None\n",
       "                ... \n",
       "101800340102    None\n",
       "101800340103    None\n",
       "101800340104    None\n",
       "101800340105    None\n",
       "101800350101    None\n",
       "101800350102    None\n",
       "101800350103    None\n",
       "101800350104    None\n",
       "101800350105    None\n",
       "101800350106    None\n",
       "101800360101    None\n",
       "101800360102    None\n",
       "101800360103    None\n",
       "101800370101    None\n",
       "101800370102    None\n",
       "101800380101    None\n",
       "101800380102    None\n",
       "101800380103    None\n",
       "101800380104    None\n",
       "101800380105    None\n",
       "101800390101    None\n",
       "101800390102    None\n",
       "101800390103    None\n",
       "101800390104    None\n",
       "101800400101    None\n",
       "101800400102    None\n",
       "101800410101    None\n",
       "101800410102    None\n",
       "101800410103    None\n",
       "101800410104    None\n",
       "dtype: object"
      ]
     },
     "execution_count": 117,
     "metadata": {},
     "output_type": "execute_result"
    }
   ],
   "source": [
    "#Agora uma função que irá verificar se para todo \"ID_PESS\" o \"TOT_VIAG\" é igual ao 'NO_VIAG' máximo.\n",
    "def verifica_no_viag_tot_viag(row):\n",
    "    if row['NO_VIAG'] != row['TOT_VIAG']:\n",
    "        print(row)\n",
    "od1977.loc[:,['ID_PESS','NO_VIAG','TOT_VIAG']].groupby('ID_PESS').agg({'NO_VIAG':'max','ID_PESS':'max','TOT_VIAG':'max'}).apply(verifica_no_viag_tot_viag, axis=1)"
   ]
  },
  {
   "cell_type": "code",
   "execution_count": 118,
   "metadata": {
    "collapsed": false
   },
   "outputs": [
    {
     "data": {
      "text/plain": [
       "count    15000.000000\n",
       "mean         3.155333\n",
       "std          2.626721\n",
       "min          0.000000\n",
       "25%          2.000000\n",
       "50%          2.000000\n",
       "75%          4.000000\n",
       "max         37.000000\n",
       "Name: TOT_VIAG, dtype: float64"
      ]
     },
     "metadata": {},
     "output_type": "display_data"
    }
   ],
   "source": [
    "if not impressao:\n",
    "    #Describing data (\"TOT_VIAG\" column) - count, mean, std, min and max\n",
    "    display(od1977['TOT_VIAG'].describe())"
   ]
  },
  {
   "cell_type": "markdown",
   "metadata": {},
   "source": [
    "-----\n",
    "##Passo 46: \"UCOD_ORIG\"\n",
    "Na coluna \"UCOD_ORIG\", linha i, ler o valor da linha i da coluna \"ZONA_ORIG\", daí, buscar o mesmo valor na coluna \"Zona 1977\" do arquivo UCOD-1977.csv. Ao achar, retornar o valor da mesma linha, só que da coluna \"UCOD_ORIG\"\n",
    "\n",
    "[Teste: no banco completo, checar se o min == 1 e o max == 67]"
   ]
  },
  {
   "cell_type": "code",
   "execution_count": 119,
   "metadata": {
    "collapsed": false
   },
   "outputs": [
    {
     "ename": "TypeError",
     "evalue": "(\"cannot convert the series to <class 'int'>\", 'occurred at index 13517')",
     "output_type": "error",
     "traceback": [
      "\u001b[1;31m---------------------------------------------------------------------------\u001b[0m",
      "\u001b[1;31mTypeError\u001b[0m                                 Traceback (most recent call last)",
      "\u001b[1;32m<ipython-input-119-5baee46cf6e3>\u001b[0m in \u001b[0;36m<module>\u001b[1;34m()\u001b[0m\n\u001b[0;32m      1\u001b[0m \u001b[1;31m#Getting from the csv file the \"UCOD\" code correspondent to the \"ZONA_ORIG\" code\u001b[0m\u001b[1;33m\u001b[0m\u001b[1;33m\u001b[0m\u001b[0m\n\u001b[1;32m----> 2\u001b[1;33m \u001b[0mod1977\u001b[0m\u001b[1;33m[\u001b[0m\u001b[1;34m'UCOD_ORIG'\u001b[0m\u001b[1;33m]\u001b[0m \u001b[1;33m=\u001b[0m \u001b[0mod1977\u001b[0m\u001b[1;33m.\u001b[0m\u001b[0mapply\u001b[0m\u001b[1;33m(\u001b[0m\u001b[1;32mlambda\u001b[0m \u001b[0mrow\u001b[0m\u001b[1;33m:\u001b[0m \u001b[0mconsulta_refext\u001b[0m\u001b[1;33m(\u001b[0m\u001b[0mrow\u001b[0m\u001b[1;33m,\u001b[0m \u001b[1;34m'UCOD-1977.csv'\u001b[0m\u001b[1;33m,\u001b[0m \u001b[1;34m'Zona 1977'\u001b[0m\u001b[1;33m,\u001b[0m \u001b[1;34m'ZONA_ORIG'\u001b[0m\u001b[1;33m,\u001b[0m \u001b[1;34m'UCOD'\u001b[0m\u001b[1;33m)\u001b[0m\u001b[1;33m,\u001b[0m \u001b[0maxis\u001b[0m\u001b[1;33m=\u001b[0m\u001b[1;36m1\u001b[0m\u001b[1;33m)\u001b[0m\u001b[1;33m\u001b[0m\u001b[0m\n\u001b[0m",
      "\u001b[1;32m/usr/local/lib/python3.4/dist-packages/pandas/core/frame.py\u001b[0m in \u001b[0;36mapply\u001b[1;34m(self, func, axis, broadcast, raw, reduce, args, **kwds)\u001b[0m\n\u001b[0;32m   3687\u001b[0m                     \u001b[1;32mif\u001b[0m \u001b[0mreduce\u001b[0m \u001b[1;32mis\u001b[0m \u001b[1;32mNone\u001b[0m\u001b[1;33m:\u001b[0m\u001b[1;33m\u001b[0m\u001b[0m\n\u001b[0;32m   3688\u001b[0m                         \u001b[0mreduce\u001b[0m \u001b[1;33m=\u001b[0m \u001b[1;32mTrue\u001b[0m\u001b[1;33m\u001b[0m\u001b[0m\n\u001b[1;32m-> 3689\u001b[1;33m                     \u001b[1;32mreturn\u001b[0m \u001b[0mself\u001b[0m\u001b[1;33m.\u001b[0m\u001b[0m_apply_standard\u001b[0m\u001b[1;33m(\u001b[0m\u001b[0mf\u001b[0m\u001b[1;33m,\u001b[0m \u001b[0maxis\u001b[0m\u001b[1;33m,\u001b[0m \u001b[0mreduce\u001b[0m\u001b[1;33m=\u001b[0m\u001b[0mreduce\u001b[0m\u001b[1;33m)\u001b[0m\u001b[1;33m\u001b[0m\u001b[0m\n\u001b[0m\u001b[0;32m   3690\u001b[0m             \u001b[1;32melse\u001b[0m\u001b[1;33m:\u001b[0m\u001b[1;33m\u001b[0m\u001b[0m\n\u001b[0;32m   3691\u001b[0m                 \u001b[1;32mreturn\u001b[0m \u001b[0mself\u001b[0m\u001b[1;33m.\u001b[0m\u001b[0m_apply_broadcast\u001b[0m\u001b[1;33m(\u001b[0m\u001b[0mf\u001b[0m\u001b[1;33m,\u001b[0m \u001b[0maxis\u001b[0m\u001b[1;33m)\u001b[0m\u001b[1;33m\u001b[0m\u001b[0m\n",
      "\u001b[1;32m/usr/local/lib/python3.4/dist-packages/pandas/core/frame.py\u001b[0m in \u001b[0;36m_apply_standard\u001b[1;34m(self, func, axis, ignore_failures, reduce)\u001b[0m\n\u001b[0;32m   3777\u001b[0m             \u001b[1;32mtry\u001b[0m\u001b[1;33m:\u001b[0m\u001b[1;33m\u001b[0m\u001b[0m\n\u001b[0;32m   3778\u001b[0m                 \u001b[1;32mfor\u001b[0m \u001b[0mi\u001b[0m\u001b[1;33m,\u001b[0m \u001b[0mv\u001b[0m \u001b[1;32min\u001b[0m \u001b[0menumerate\u001b[0m\u001b[1;33m(\u001b[0m\u001b[0mseries_gen\u001b[0m\u001b[1;33m)\u001b[0m\u001b[1;33m:\u001b[0m\u001b[1;33m\u001b[0m\u001b[0m\n\u001b[1;32m-> 3779\u001b[1;33m                     \u001b[0mresults\u001b[0m\u001b[1;33m[\u001b[0m\u001b[0mi\u001b[0m\u001b[1;33m]\u001b[0m \u001b[1;33m=\u001b[0m \u001b[0mfunc\u001b[0m\u001b[1;33m(\u001b[0m\u001b[0mv\u001b[0m\u001b[1;33m)\u001b[0m\u001b[1;33m\u001b[0m\u001b[0m\n\u001b[0m\u001b[0;32m   3780\u001b[0m                     \u001b[0mkeys\u001b[0m\u001b[1;33m.\u001b[0m\u001b[0mappend\u001b[0m\u001b[1;33m(\u001b[0m\u001b[0mv\u001b[0m\u001b[1;33m.\u001b[0m\u001b[0mname\u001b[0m\u001b[1;33m)\u001b[0m\u001b[1;33m\u001b[0m\u001b[0m\n\u001b[0;32m   3781\u001b[0m             \u001b[1;32mexcept\u001b[0m \u001b[0mException\u001b[0m \u001b[1;32mas\u001b[0m \u001b[0me\u001b[0m\u001b[1;33m:\u001b[0m\u001b[1;33m\u001b[0m\u001b[0m\n",
      "\u001b[1;32m<ipython-input-119-5baee46cf6e3>\u001b[0m in \u001b[0;36m<lambda>\u001b[1;34m(row)\u001b[0m\n\u001b[0;32m      1\u001b[0m \u001b[1;31m#Getting from the csv file the \"UCOD\" code correspondent to the \"ZONA_ORIG\" code\u001b[0m\u001b[1;33m\u001b[0m\u001b[1;33m\u001b[0m\u001b[0m\n\u001b[1;32m----> 2\u001b[1;33m \u001b[0mod1977\u001b[0m\u001b[1;33m[\u001b[0m\u001b[1;34m'UCOD_ORIG'\u001b[0m\u001b[1;33m]\u001b[0m \u001b[1;33m=\u001b[0m \u001b[0mod1977\u001b[0m\u001b[1;33m.\u001b[0m\u001b[0mapply\u001b[0m\u001b[1;33m(\u001b[0m\u001b[1;32mlambda\u001b[0m \u001b[0mrow\u001b[0m\u001b[1;33m:\u001b[0m \u001b[0mconsulta_refext\u001b[0m\u001b[1;33m(\u001b[0m\u001b[0mrow\u001b[0m\u001b[1;33m,\u001b[0m \u001b[1;34m'UCOD-1977.csv'\u001b[0m\u001b[1;33m,\u001b[0m \u001b[1;34m'Zona 1977'\u001b[0m\u001b[1;33m,\u001b[0m \u001b[1;34m'ZONA_ORIG'\u001b[0m\u001b[1;33m,\u001b[0m \u001b[1;34m'UCOD'\u001b[0m\u001b[1;33m)\u001b[0m\u001b[1;33m,\u001b[0m \u001b[0maxis\u001b[0m\u001b[1;33m=\u001b[0m\u001b[1;36m1\u001b[0m\u001b[1;33m)\u001b[0m\u001b[1;33m\u001b[0m\u001b[0m\n\u001b[0m",
      "\u001b[1;32m<ipython-input-2-e86902145311>\u001b[0m in \u001b[0;36mconsulta_refext\u001b[1;34m(row, name_file, name_col_ref, name_col_filt, name_col_search)\u001b[0m\n\u001b[0;32m     13\u001b[0m         \u001b[1;32mreturn\u001b[0m \u001b[0mrow\u001b[0m\u001b[1;33m[\u001b[0m\u001b[0mname_col_filt\u001b[0m\u001b[1;33m]\u001b[0m\u001b[1;33m\u001b[0m\u001b[0m\n\u001b[0;32m     14\u001b[0m     \u001b[0mdata_frame\u001b[0m \u001b[1;33m=\u001b[0m \u001b[0mpd\u001b[0m\u001b[1;33m.\u001b[0m\u001b[0mread_csv\u001b[0m\u001b[1;33m(\u001b[0m\u001b[0mname_file\u001b[0m\u001b[1;33m,\u001b[0m\u001b[0msep\u001b[0m\u001b[1;33m=\u001b[0m\u001b[1;34m';'\u001b[0m\u001b[1;33m)\u001b[0m\u001b[1;33m\u001b[0m\u001b[0m\n\u001b[1;32m---> 15\u001b[1;33m     \u001b[1;32mreturn\u001b[0m \u001b[0mint\u001b[0m\u001b[1;33m(\u001b[0m\u001b[0mdata_frame\u001b[0m\u001b[1;33m[\u001b[0m\u001b[0mdata_frame\u001b[0m\u001b[1;33m[\u001b[0m\u001b[0mname_col_ref\u001b[0m\u001b[1;33m]\u001b[0m\u001b[1;33m==\u001b[0m\u001b[0mrow\u001b[0m\u001b[1;33m[\u001b[0m\u001b[0mname_col_filt\u001b[0m\u001b[1;33m]\u001b[0m\u001b[1;33m]\u001b[0m\u001b[1;33m[\u001b[0m\u001b[0mname_col_search\u001b[0m\u001b[1;33m]\u001b[0m\u001b[1;33m)\u001b[0m\u001b[1;33m\u001b[0m\u001b[0m\n\u001b[0m",
      "\u001b[1;32m/usr/local/lib/python3.4/dist-packages/pandas/core/series.py\u001b[0m in \u001b[0;36mwrapper\u001b[1;34m(self)\u001b[0m\n\u001b[0;32m     75\u001b[0m             \u001b[1;32mreturn\u001b[0m \u001b[0mconverter\u001b[0m\u001b[1;33m(\u001b[0m\u001b[0mself\u001b[0m\u001b[1;33m.\u001b[0m\u001b[0miloc\u001b[0m\u001b[1;33m[\u001b[0m\u001b[1;36m0\u001b[0m\u001b[1;33m]\u001b[0m\u001b[1;33m)\u001b[0m\u001b[1;33m\u001b[0m\u001b[0m\n\u001b[0;32m     76\u001b[0m         raise TypeError(\n\u001b[1;32m---> 77\u001b[1;33m             \"cannot convert the series to {0}\".format(str(converter)))\n\u001b[0m\u001b[0;32m     78\u001b[0m     \u001b[1;32mreturn\u001b[0m \u001b[0mwrapper\u001b[0m\u001b[1;33m\u001b[0m\u001b[0m\n\u001b[0;32m     79\u001b[0m \u001b[1;33m\u001b[0m\u001b[0m\n",
      "\u001b[1;31mTypeError\u001b[0m: (\"cannot convert the series to <class 'int'>\", 'occurred at index 13517')"
     ]
    }
   ],
   "source": [
    "#Getting from the csv file the \"UCOD\" code correspondent to the \"ZONA_ORIG\" code\n",
    "od1977['UCOD_ORIG'] = od1977.apply(lambda row: consulta_refext(row, 'UCOD-1977.csv', 'Zona 1977', 'ZONA_ORIG', 'UCOD'), axis=1)"
   ]
  },
  {
   "cell_type": "code",
   "execution_count": null,
   "metadata": {
    "collapsed": true
   },
   "outputs": [],
   "source": [
    "if not impressao:\n",
    "    #Describing data (\"UCOD_ORIG\" column) - count, mean, std, min and max\n",
    "    display(od1977['UCOD_ORIG'].describe())"
   ]
  },
  {
   "cell_type": "code",
   "execution_count": null,
   "metadata": {
    "collapsed": true
   },
   "outputs": [],
   "source": [
    "if not impressao:\n",
    "    #Count for check \"UCOD_ORIG\"\n",
    "    display(od1977['UCOD_ORIG'].value_counts())"
   ]
  },
  {
   "cell_type": "code",
   "execution_count": null,
   "metadata": {
    "collapsed": true
   },
   "outputs": [],
   "source": [
    "#Verifying value interval for check - conditions: \"UCOD_ORIG < 1\" and \"UCOD_ORIG > 67\"\n",
    "#The 'error' returns must be related to \"UCOD_ORIG\" == 0, that is, trips that were not made\n",
    "#od1977[(od1977['UCOD_ORIG']<1) | (od1977['UCOD_ORIG']>67)]\n",
    "verifica_RANGE(od1977, 'UCOD_ORIG', 1, 67)"
   ]
  },
  {
   "cell_type": "markdown",
   "metadata": {},
   "source": [
    "-----\n",
    "##Passo 47: \"ZONA_ORIG\"\n",
    "Checar se existe algum erro\n",
    "\n",
    "####Categorias:\n",
    "> 1 a 243\n",
    "\n",
    "[Teste: Checar se existe algum número < 1 ou > 243. Se encontrar, retornar erro indicando em qual linha.]"
   ]
  },
  {
   "cell_type": "code",
   "execution_count": null,
   "metadata": {
    "collapsed": true
   },
   "outputs": [],
   "source": [
    "#Verifying value interval for check - conditions: \"ZONA_ORIG < 1\" and \"ZONA_ORIG > 243\"\n",
    "#The 'error' returns must be related to \"ZONA_ORIG\"==0, that is, trips that were not made\n",
    "#od1977[(od1977['ZONA_ORIG']<1) | (od1977['ZONA_ORIG']>243)]\n",
    "verifica_RANGE(od1977, 'ZONA_ORIG', 1, 243)"
   ]
  },
  {
   "cell_type": "markdown",
   "metadata": {},
   "source": [
    "-----\n",
    "##Passo 48: \"SUBZONA_ORIG\"\n",
    "Checar se existe algum erro\n",
    "\n",
    "####Categorias:\n",
    "> 1 a 633\n",
    "\n",
    "[Teste: Checar se existe algum número < 1 ou > 633. Se encontrar, retornar erro indicando em qual linha.]"
   ]
  },
  {
   "cell_type": "code",
   "execution_count": null,
   "metadata": {
    "collapsed": true
   },
   "outputs": [],
   "source": [
    "#Verifying value interval for check - conditions: \"SUBZONA_ORIG < 1\" and \"SUBZONA_ORIG > 633\"\n",
    "#od1977[(od1977['SUBZONA_ORIG']<1) | (od1977['SUBZONA_ORIG']>633)]\n",
    "verifica_RANGE(od1977, 'SUBZONA_ORIG', 1, 633)"
   ]
  },
  {
   "cell_type": "markdown",
   "metadata": {},
   "source": [
    "-----\n",
    "##Passo 49: \"MUN_ORIG\"\n",
    "Checar se existe algum erro\n",
    "\n",
    "####Categorias\n",
    "> 1 a 27\n",
    "\n",
    "[Teste: Checar se existe algum número < 1 ou > 27. Se encontrar, retornar erro indicando em qual linha.]"
   ]
  },
  {
   "cell_type": "code",
   "execution_count": null,
   "metadata": {
    "collapsed": true
   },
   "outputs": [],
   "source": [
    "#Verifying value interval for check - conditions: \"MUN_ORIG < 1\" ou de \"MUN_ORIG > 27\"\n",
    "#The 'error' returns must be related to \"MUN_ORIG\" == 0, that is, trips that were not made\n",
    "#od1977[(od1977['MUN_ORIG']<1) | (od1977['MUN_ORIG']>27)]\n",
    "verifica_RANGE(od1977, 'MUN_ORIG', 1, 27)"
   ]
  },
  {
   "cell_type": "markdown",
   "metadata": {},
   "source": [
    "-----\n",
    "##Passo 50: \"CO_ORIG_X\"\n",
    "\n",
    "Na coluna \"CO_ORIG_X\", linha i, ler o valor da linha i da coluna \"SUBZONA_ORIG\", daí, buscar o mesmo valor na coluna \"SUBZONA\" do arquivo COORD-SUBZONA-1977.csv. Ao achar, retornar o valor da mesma linha, só que da coluna \"CO_X\""
   ]
  },
  {
   "cell_type": "code",
   "execution_count": null,
   "metadata": {
    "collapsed": true
   },
   "outputs": [],
   "source": [
    "#Getting from the csv file the \"CO_X\" code correspondent to the \"SUBZONA_ORIG\" code\n",
    "od1977['CO_ORIG_X'] = od1977.apply(lambda row: consulta_refext(row, 'COORD-SUBZONA-1977.csv', 'SUBZONA', 'SUBZONA_ORIG', 'CO_X'), axis=1)"
   ]
  },
  {
   "cell_type": "markdown",
   "metadata": {},
   "source": [
    "-----\n",
    "##Passo 51: \"CO_ORIG_Y\"\n",
    "\n",
    "a coluna \"CO_ORIG_Y\", linha i, ler o valor da linha i da coluna \"SUBZONA_ORIG\", daí, buscar o mesmo valor na coluna \"SUBZONA\" do arquivo COORD-SUBZONA-1977.csv. Ao achar, retornar o valor da mesma linha, só que da coluna \"CO_Y\""
   ]
  },
  {
   "cell_type": "code",
   "execution_count": null,
   "metadata": {
    "collapsed": true
   },
   "outputs": [],
   "source": [
    "#Getting from the csv file the \"CO_Y\" code correspondent to the \"SUBZONA_ORIG\" code\n",
    "od1977['CO_ORIG_Y'] = od1977.apply(lambda row: consulta_refext(row, 'COORD-SUBZONA-1977.csv', 'SUBZONA', 'SUBZONA_ORIG', 'CO_Y'), axis=1)"
   ]
  },
  {
   "cell_type": "markdown",
   "metadata": {},
   "source": [
    "-----\n",
    "##Passo 52: \"UCOD_DEST\"\n",
    "Na coluna \"UCOD_DEST\", linha i, ler o valor da linha i da coluna \"ZONA_DEST\", daí, buscar o mesmo valor na coluna \"Zona 1977\" do arquivo UCOD-1977.csv. Ao achar, retornar o valor da mesma linha, só que da coluna \"UCOD_DEST\"\n",
    "\n",
    "[Teste: no banco completo, checar se o min == 1 e o max == 67]"
   ]
  },
  {
   "cell_type": "code",
   "execution_count": null,
   "metadata": {
    "collapsed": true
   },
   "outputs": [],
   "source": [
    "#Getting from the csv file the \"UCOD\" code correspondent to the \"ZONA_DEST\" code\n",
    "od1977['UCOD_DEST'] = od1977.apply(lambda row: consulta_refext(row, 'UCOD-1977.csv', 'Zona 1977', 'ZONA_DEST', 'UCOD'), axis=1)"
   ]
  },
  {
   "cell_type": "code",
   "execution_count": null,
   "metadata": {
    "collapsed": true
   },
   "outputs": [],
   "source": [
    "if not impressao:\n",
    "    #Describing data (\"UCOD_DEST\" column) - count, mean, std, min and max\n",
    "    display(od1977['UCOD_DEST'].describe())"
   ]
  },
  {
   "cell_type": "code",
   "execution_count": null,
   "metadata": {
    "collapsed": true
   },
   "outputs": [],
   "source": [
    "if not impressao:\n",
    "    #Count for check \"UCOD_DEST\"\n",
    "    display(od1977['UCOD_DEST'].value_counts())"
   ]
  },
  {
   "cell_type": "code",
   "execution_count": null,
   "metadata": {
    "collapsed": true
   },
   "outputs": [],
   "source": [
    "#Verifying value interval for check - conditions: \"UCOD_DEST < 1\" and \"UCOD_DEST > 67\"\n",
    "#The 'error' returns must be related to \"UCOD_DEST\" == 0, that is, trips that were not made\n",
    "#od1977[(od1977['UCOD_DEST']<1) | (od1977['UCOD_DEST']>67)]\n",
    "verifica_RANGE(od1977, 'UCOD_DEST', 1, 67)"
   ]
  },
  {
   "cell_type": "markdown",
   "metadata": {},
   "source": [
    "-----\n",
    "##Passo 53: \"ZONA_DEST\"\n",
    "Checar se existe algum erro\n",
    "\n",
    "####Categorias:\n",
    "> 1 a 243\n",
    "\n",
    "[Teste: Checar se existe algum número < 1 ou > 243. Se encontrar, retornar erro indicando em qual linha.]"
   ]
  },
  {
   "cell_type": "code",
   "execution_count": null,
   "metadata": {
    "collapsed": true
   },
   "outputs": [],
   "source": [
    "#Verifying value interval for check - conditions: \"ZONA_DEST < 1\" and \"ZONA_DEST > 243\"\n",
    "#The 'error' returns must be related to \"ZONA_DEST\"==0, that is, trips that are not school purposed\n",
    "#od1977[(od1977['ZONA_DEST']<1) | (od1977['ZONA_DEST']>243)]\n",
    "verifica_RANGE(od1977, 'ZONA_DEST', 1, 243)"
   ]
  },
  {
   "cell_type": "markdown",
   "metadata": {},
   "source": [
    "-----\n",
    "##Passo 54: \"SUBZONA_DEST\"\n",
    "Checar se existe algum erro\n",
    "\n",
    "####Categorias:\n",
    "> 1 a 633\n",
    "\n",
    "[Teste: Checar se existe algum número < 1 ou > 633. Se encontrar, retornar erro indicando em qual linha.]"
   ]
  },
  {
   "cell_type": "code",
   "execution_count": null,
   "metadata": {
    "collapsed": true
   },
   "outputs": [],
   "source": [
    "#Verifying value interval for check - conditions: \"SUBZONA_DEST < 1\" and \"SUBZONA_DEST > 633\"\n",
    "#od1977[(od1977['SUBZONA_DEST']<1) | (od1977['SUBZONA_DEST']>633)]\n",
    "verifica_RANGE(od1977, 'SUBZONA_DEST', 1, 633)"
   ]
  },
  {
   "cell_type": "markdown",
   "metadata": {},
   "source": [
    "-----\n",
    "##Passo 55: \"MUN_DEST\"\n",
    "Checar se existe algum erro\n",
    "\n",
    "####Categorias\n",
    "> 1 a 27\n",
    "\n",
    "[Teste: Checar se existe algum número < 1 ou > 27. Se encontrar, retornar erro indicando em qual linha.]"
   ]
  },
  {
   "cell_type": "code",
   "execution_count": null,
   "metadata": {
    "collapsed": true
   },
   "outputs": [],
   "source": [
    "#Verifying value interval for check - conditions: \"MUN_DEST < 1\" ou de \"MUN_DEST > 27\"\n",
    "#The 'error' returns must be related to \"MUN_DEST\" == 0, that is, trips that were not made\n",
    "#od1977[(od1977['MUN_DEST']<1) | (od1977['MUN_DEST']>27)]\n",
    "verifica_RANGE(od1977, 'MUN_DEST', 1, 27)"
   ]
  },
  {
   "cell_type": "markdown",
   "metadata": {},
   "source": [
    "-----\n",
    "##Passo 56: \"CO_DEST_X\"\n",
    "\n",
    "Na coluna \"CO_DEST_X\", linha i, ler o valor da linha i da coluna \"SUBZONA_DEST\", daí, buscar o mesmo valor na coluna \"SUBZONA\" do arquivo COORD-SUBZONA-1977.csv. Ao achar, retornar o valor da mesma linha, só que da coluna \"CO_X\""
   ]
  },
  {
   "cell_type": "code",
   "execution_count": null,
   "metadata": {
    "collapsed": true
   },
   "outputs": [],
   "source": [
    "#Getting from the csv file the \"CO_X\" code correspondent to the \"SUBZONA_DEST\" code\n",
    "od1977['CO_DEST_X'] = od1977.apply(lambda row: consulta_refext(row, 'COORD-SUBZONA-1977.csv', 'SUBZONA', 'SUBZONA_DEST', 'CO_X'), axis=1)"
   ]
  },
  {
   "cell_type": "markdown",
   "metadata": {
    "collapsed": false
   },
   "source": [
    "-----\n",
    "##Passo 57: \"CO_DEST_Y\"\n",
    "\n",
    "Na coluna \"CO_DEST_Y\", linha i, ler o valor da linha i da coluna \"SUBZONA_DEST\", daí, buscar o mesmo valor na coluna \"SUBZONA\" do arquivo COORD-SUBZONA-1977.csv. Ao achar, retornar o valor da mesma linha, só que da coluna \"CO_Y\""
   ]
  },
  {
   "cell_type": "code",
   "execution_count": null,
   "metadata": {
    "collapsed": true
   },
   "outputs": [],
   "source": [
    "#Getting from the csv file the \"CO_Y\" code correspondent to the \"SUBZONA_DEST\" code\n",
    "od1977['CO_DEST_Y'] = od1977.apply(lambda row: consulta_refext(row, 'COORD-SUBZONA-1977.csv', 'SUBZONA', 'SUBZONA_DEST', 'CO_Y'), axis=1)"
   ]
  },
  {
   "cell_type": "markdown",
   "metadata": {
    "collapsed": true
   },
   "source": [
    "-----\n",
    "##Passo 58: \"DIST_VIAG\"\n",
    "\n",
    "Calcula-se a distância euclidiana (a partir da CO_ORIG_X;CO_ORIG_Y e CO_DEST_X;CO_DEST_Y)\n",
    "\n",
    ">> Falta um teste de verificação!!!"
   ]
  },
  {
   "cell_type": "code",
   "execution_count": null,
   "metadata": {
    "collapsed": true
   },
   "outputs": [],
   "source": [
    "#Calculating \"DIST_VIAG\" (euclidian distance) from the origin cordinates (CO_ORIG_X;CO_ORIG_Y)and destinations cordinates (CO_DEST_X;CO_DEST_Y)\n",
    "od1977['DIST_VIAG'] = od1977.apply(lambda row: calcula_DIST_VIAG(row), axis=1)"
   ]
  },
  {
   "cell_type": "markdown",
   "metadata": {},
   "source": [
    "-----\n",
    "##Passo 59: \"MOTIVO_ORIG\"\n",
    "* Substituir todos valores **6** por **11**\n",
    "* Substituir todos valores **7** por **6**\n",
    "* Substituir todos valores **8** por **7**\n",
    "* Substituir todos valores **10** por **8**\n",
    "* Substituir todos valores **11** por **9**\n",
    "\n",
    "####Categorias anteriores\n",
    "Valor|Descrição\n",
    "----|----\n",
    "1|Trabalho/Indústria\n",
    "2|Trabalho/Comércio\n",
    "3|Trabalho/Serviços\n",
    "4|Escola/Educação\n",
    "5|Compras\n",
    "6|Negócios\n",
    "7|Médico/Dentista/Saúde\n",
    "8|Recreação/Visitas\n",
    "9|Servir Passageiro\n",
    "10|Residência\n",
    "\n",
    "####Categorias novas\n",
    "Valor|Descrição\n",
    "----|----\n",
    "0|Não respondeu/não fez viagem\n",
    "1|Trabalho/Indústria\n",
    "2|Trabalho/Comércio\n",
    "3|Trabalho/Serviços\n",
    "4|Educação\n",
    "5|Compras\n",
    "6|Saúde\n",
    "7|Lazer\n",
    "8|Residência\n",
    "9|Outros\n",
    "\n",
    "[Teste: Checar se existe algum número < 0 ou > 9. Se encontrar, retornar erro indicando em qual linha.]"
   ]
  },
  {
   "cell_type": "code",
   "execution_count": null,
   "metadata": {
    "collapsed": true
   },
   "outputs": [],
   "source": [
    "if not impressao:\n",
    "    #Counting \"MOTIVO_ORIG\" in order to compare the values before and after the replacement\n",
    "    display(od1977['MOTIVO_ORIG'].value_counts())"
   ]
  },
  {
   "cell_type": "code",
   "execution_count": null,
   "metadata": {
    "collapsed": false
   },
   "outputs": [],
   "source": [
    "#Replacing the values 6 for 11\n",
    "od1977.loc[od1977['MOTIVO_ORIG']==6,'MOTIVO_ORIG'] = 11\n",
    "#Replacing the values 7 for 6\n",
    "od1977.loc[od1977['MOTIVO_ORIG']==7,'MOTIVO_ORIG'] = 6\n",
    "#Replacing the values 8 for 7\n",
    "od1977.loc[od1977['MOTIVO_ORIG']==8,'MOTIVO_ORIG'] = 7\n",
    "#Replacing the values 10 for 8\n",
    "od1977.loc[od1977['MOTIVO_ORIG']==10,'MOTIVO_ORIG'] = 8\n",
    "#Replacing the values 11 for 9\n",
    "od1977.loc[od1977['MOTIVO_ORIG']==11,'MOTIVO_ORIG'] = 9"
   ]
  },
  {
   "cell_type": "code",
   "execution_count": null,
   "metadata": {
    "collapsed": true
   },
   "outputs": [],
   "source": [
    "if not impressao:\n",
    "    #Counting \"MOTIVO_ORIG\" in order to compare the values before and after the replacement\n",
    "    display(od1977['MOTIVO_ORIG'].value_counts())"
   ]
  },
  {
   "cell_type": "code",
   "execution_count": null,
   "metadata": {
    "collapsed": true
   },
   "outputs": [],
   "source": [
    "#Verifying value interval for check - conditions: \"MOTIVO_ORIG < 0\" and \"MOTIVO_ORIG > 9\"\n",
    "#od1977[(od1977['MOTIVO_ORIG']<0) | (od1977['MOTIVO_ORIG']>9)]\n",
    "verifica_RANGE(od1977, 'MOTIVO_ORIG', 0, 9)"
   ]
  },
  {
   "cell_type": "markdown",
   "metadata": {},
   "source": [
    "-----\n",
    "##Passo 60: \"MOTIVO_DEST\"\n",
    "* Substituir todos valores **6** por **11**\n",
    "* Substituir todos valores **7** por **6**\n",
    "* Substituir todos valores **8** por **7**\n",
    "* Substituir todos valores **10** por **8**\n",
    "* Substituir todos valores **11** por **9**\n",
    "\n",
    "####Categorias anteriores\n",
    "Valor|Descrição\n",
    "----|----\n",
    "1|Trabalho/Indústria\n",
    "2|Trabalho/Comércio\n",
    "3|Trabalho/Serviços\n",
    "4|Escola/Educação\n",
    "5|Compras\n",
    "6|Negócios\n",
    "7|Médico/Dentista/Saúde\n",
    "8|Recreação/Visitas\n",
    "9|Servir Passageiro\n",
    "10|Residência\n",
    "\n",
    "####Categorias novas\n",
    "Valor|Descrição\n",
    "----|----\n",
    "0|Não respondeu/não fez viagem\n",
    "1|Trabalho/Indústria\n",
    "2|Trabalho/Comércio\n",
    "3|Trabalho/Serviços\n",
    "4|Educação\n",
    "5|Compras\n",
    "6|Saúde\n",
    "7|Lazer\n",
    "8|Residência\n",
    "9|Outros\n",
    "\n",
    "[Teste: Checar se existe algum número < 0 ou > 9. Se encontrar, retornar erro indicando em qual linha.]"
   ]
  },
  {
   "cell_type": "code",
   "execution_count": null,
   "metadata": {
    "collapsed": true
   },
   "outputs": [],
   "source": [
    "if not impressao:\n",
    "    #Counting \"MOTIVO_DEST in order to compare the values before and after the replacement\n",
    "    display(od1977['MOTIVO_DEST'].value_counts())"
   ]
  },
  {
   "cell_type": "code",
   "execution_count": null,
   "metadata": {
    "collapsed": false
   },
   "outputs": [],
   "source": [
    "#Replacing the values 6 for 11\n",
    "od1977.loc[od1977['MOTIVO_DEST']==6,'MOTIVO_DEST'] = 11\n",
    "#Replacing the values 7 for 6\n",
    "od1977.loc[od1977['MOTIVO_DEST']==7,'MOTIVO_DEST'] = 6\n",
    "#Replacing the values 8 for 7\n",
    "od1977.loc[od1977['MOTIVO_DEST']==8,'MOTIVO_DEST'] = 7\n",
    "#Replacing the values 10 for 8\n",
    "od1977.loc[od1977['MOTIVO_DEST']==10,'MOTIVO_DEST'] = 8\n",
    "#Replacing the values 11 for 9\n",
    "od1977.loc[od1977['MOTIVO_DEST']==11,'MOTIVO_DEST'] = 9"
   ]
  },
  {
   "cell_type": "code",
   "execution_count": null,
   "metadata": {
    "collapsed": true
   },
   "outputs": [],
   "source": [
    "if not impressao:\n",
    "    #Counting \"MOTIVO_DEST\" in order to compare the values before and after the replacement\n",
    "    display(od1977['MOTIVO_DEST'].value_counts())"
   ]
  },
  {
   "cell_type": "code",
   "execution_count": null,
   "metadata": {
    "collapsed": true
   },
   "outputs": [],
   "source": [
    "#Verifying value interval for check - conditions: \"MOTIVO_DEST < 0\" and \"MOTIVO_DEST > 9\"\n",
    "#od1977[(od1977['MOTIVO_DEST']<0) | (od1977['MOTIVO_DEST']>9)]\n",
    "verifica_RANGE(od1977, 'MOTIVO_DEST', 0, 9)"
   ]
  },
  {
   "cell_type": "markdown",
   "metadata": {
    "collapsed": true
   },
   "source": [
    "-----\n",
    "##Passo 61: \"MODO1\"\n",
    "Não há o que fazer com os valores da coluna \"MODO1\"\n",
    "\n",
    "####Categorias anteriores\n",
    "Valor|Descrição\n",
    "----|----\n",
    "1|Ônibus trólebus\n",
    "2|Ônibus Escolar / Empresa\n",
    "3|Dirigindo Automóvel\n",
    "4|Passageiro de Automóvel\n",
    "5|Táxi\n",
    "6|Lotação / Perua\n",
    "7|Metrô\n",
    "8|Trem\n",
    "9|Motocicleta\n",
    "10|Bicicleta\n",
    "11|A Pé\n",
    "12|Outros\n",
    "\n",
    "####Categorias novas\n",
    "Valor|Descrição\n",
    "----|----\n",
    "0|Não respondeu/não fez viagem\n",
    "1|Ônibus\n",
    "2|Ônibus Escolar / Empresa\n",
    "3|Dirigindo Automóvel\n",
    "4|Passageiro de Automóvel\n",
    "5|Táxi\n",
    "6|Lotação / Perua / Van / Microônibus\n",
    "7|Metrô\n",
    "8|Trem\n",
    "9|Moto\n",
    "10|Bicicleta\n",
    "11|A Pé\n",
    "12|Outros\n",
    "\n",
    "[Teste: Checar se existe algum número < 0 ou > 12. Se encontrar, retornar erro indicando em qual linha.]"
   ]
  },
  {
   "cell_type": "code",
   "execution_count": null,
   "metadata": {
    "collapsed": true
   },
   "outputs": [],
   "source": [
    "if not impressao:\n",
    "    #Counting for check \"MODO1\"\n",
    "    display(od1977['MODO1'].value_counts())"
   ]
  },
  {
   "cell_type": "code",
   "execution_count": null,
   "metadata": {
    "collapsed": true
   },
   "outputs": [],
   "source": [
    "#Verifying value interval for check - conditions: \"MODO1 < 0\" and \"MODO1 > 12\"\n",
    "#od1977[(od1977['MODO1']<0) | (od21977['MODO1']>12)]\n",
    "verifica_RANGE(od1977, 'MODO1', 0, 12)"
   ]
  },
  {
   "cell_type": "markdown",
   "metadata": {},
   "source": [
    "##Passo 62: \"MODO2\"\n",
    "Não há o que fazer com os valores da coluna \"MODO2\"\n",
    "\n",
    "####Categorias anteriores\n",
    "Valor|Descrição\n",
    "----|----\n",
    "1|Ônibus trólebus\n",
    "2|Ônibus Escolar / Empresa\n",
    "3|Dirigindo Automóvel\n",
    "4|Passageiro de Automóvel\n",
    "5|Táxi\n",
    "6|Lotação / Perua\n",
    "7|Metrô\n",
    "8|Trem\n",
    "9|Motocicleta\n",
    "10|Bicicleta\n",
    "11|A Pé\n",
    "12|Outros\n",
    "\n",
    "####Categorias novas\n",
    "Valor|Descrição\n",
    "----|----\n",
    "0|Não respondeu/não fez viagem\n",
    "1|Ônibus\n",
    "2|Ônibus Escolar / Empresa\n",
    "3|Dirigindo Automóvel\n",
    "4|Passageiro de Automóvel\n",
    "5|Táxi\n",
    "6|Lotação / Perua / Van / Microônibus\n",
    "7|Metrô\n",
    "8|Trem\n",
    "9|Moto\n",
    "10|Bicicleta\n",
    "11|A Pé\n",
    "12|Outros\n",
    "\n",
    "[Teste: Checar se existe algum número < 0 ou > 12. Se encontrar, retornar erro indicando em qual linha.]"
   ]
  },
  {
   "cell_type": "code",
   "execution_count": null,
   "metadata": {
    "collapsed": true
   },
   "outputs": [],
   "source": [
    "if not impressao:\n",
    "    #Counting for check \"MODO2\"\n",
    "    display(od1977['MODO2'].value_counts())"
   ]
  },
  {
   "cell_type": "code",
   "execution_count": null,
   "metadata": {
    "collapsed": true
   },
   "outputs": [],
   "source": [
    "#Verifying value interval for check - conditions: \"MODO2 < 0\" and \"MODO2 > 12\"\n",
    "#od1977[(od1977['MODO2']<0) | (od1977['MODO2']>12)]\n",
    "verifica_RANGE(od1977, 'MODO2', 0, 12)"
   ]
  },
  {
   "cell_type": "markdown",
   "metadata": {},
   "source": [
    "##Passo 63: \"MODO3\"\n",
    "Não há o que fazer com os valores da coluna \"MODO3\"\n",
    "\n",
    "####Categorias anteriores\n",
    "Valor|Descrição\n",
    "----|----\n",
    "1|Ônibus trólebus\n",
    "2|Ônibus Escolar / Empresa\n",
    "3|Dirigindo Automóvel\n",
    "4|Passageiro de Automóvel\n",
    "5|Táxi\n",
    "6|Lotação / Perua\n",
    "7|Metrô\n",
    "8|Trem\n",
    "9|Motocicleta\n",
    "10|Bicicleta\n",
    "11|A Pé\n",
    "12|Outros\n",
    "\n",
    "####Categorias novas\n",
    "Valor|Descrição\n",
    "----|----\n",
    "0|Não respondeu/não fez viagem\n",
    "1|Ônibus\n",
    "2|Ônibus Escolar / Empresa\n",
    "3|Dirigindo Automóvel\n",
    "4|Passageiro de Automóvel\n",
    "5|Táxi\n",
    "6|Lotação / Perua / Van / Microônibus\n",
    "7|Metrô\n",
    "8|Trem\n",
    "9|Moto\n",
    "10|Bicicleta\n",
    "11|A Pé\n",
    "12|Outros\n",
    "\n",
    "[Teste: Checar se existe algum número < 0 ou > 12. Se encontrar, retornar erro indicando em qual linha.]"
   ]
  },
  {
   "cell_type": "code",
   "execution_count": null,
   "metadata": {
    "collapsed": true
   },
   "outputs": [],
   "source": [
    "if not impressao:\n",
    "    #Counting for check \"MODO3\"\n",
    "    display(od1977['MODO3'].value_counts())"
   ]
  },
  {
   "cell_type": "code",
   "execution_count": null,
   "metadata": {
    "collapsed": true
   },
   "outputs": [],
   "source": [
    "#Verifying value interval for check - conditions: \"MODO3 < 0\" and \"MODO3 > 12\"\n",
    "#od1977[(od1977['MODO3']<0) | (od1977['MODO3']>12)]\n",
    "verifica_RANGE(od1977, 'MODO3', 0, 12)"
   ]
  },
  {
   "cell_type": "markdown",
   "metadata": {},
   "source": [
    "##Passo 64: \"MODO4\"\n",
    "Nada há que se fazer em relação à coluna \"TIPO_EST_AUTO\" - não há dados de 1977, coluna permanecerá vazia"
   ]
  },
  {
   "cell_type": "code",
   "execution_count": null,
   "metadata": {
    "collapsed": true
   },
   "outputs": [],
   "source": [
    "if not impressao:\n",
    "    #Counting for check \"MODO4\"\n",
    "    display(od1977['MODO4'].value_counts())"
   ]
  },
  {
   "cell_type": "markdown",
   "metadata": {},
   "source": [
    "##Passo 65: \"MODO_PRIN\"\n",
    "Não há o que fazer com os valores da coluna \"MODO_PRIN\"\n",
    "\n",
    "####Categorias anteriores\n",
    "Valor|Descrição\n",
    "----|----\n",
    "1|Ônibus trólebus\n",
    "2|Ônibus Escolar / Empresa\n",
    "3|Dirigindo Automóvel\n",
    "4|Passageiro de Automóvel\n",
    "5|Táxi\n",
    "6|Lotação / Perua\n",
    "7|Metrô\n",
    "8|Trem\n",
    "9|Motocicleta\n",
    "10|Bicicleta\n",
    "11|A Pé\n",
    "12|Outros\n",
    "\n",
    "####Categorias novas\n",
    "Valor|Descrição\n",
    "----|----\n",
    "0|Não respondeu/não fez viagem\n",
    "1|Ônibus\n",
    "2|Ônibus Escolar / Empresa\n",
    "3|Dirigindo Automóvel\n",
    "4|Passageiro de Automóvel\n",
    "5|Táxi\n",
    "6|Lotação / Perua / Van / Microônibus\n",
    "7|Metrô\n",
    "8|Trem\n",
    "9|Moto\n",
    "10|Bicicleta\n",
    "11|A Pé\n",
    "12|Outros\n",
    "\n",
    "[Teste: Checar se existe algum número < 0 ou > 12. Se encontrar, retornar erro indicando em qual linha.]"
   ]
  },
  {
   "cell_type": "code",
   "execution_count": null,
   "metadata": {
    "collapsed": true
   },
   "outputs": [],
   "source": [
    "if not impressao:\n",
    "    #Counting for check \"MODO_PRIN\"\n",
    "    display(od1977['MODO_PRIN'].value_counts())"
   ]
  },
  {
   "cell_type": "code",
   "execution_count": null,
   "metadata": {
    "collapsed": true
   },
   "outputs": [],
   "source": [
    "#Verifying value interval for check - conditions: \"MODO_PRIN < 0\" and \"MODO_PRIN > 12\"\n",
    "#od1977[(od1977['MODO_PRIN']<0) | (od1977['MODO_PRIN']>12)]\n",
    "verifica_RANGE(od1977, 'MODO_PRIN', 0, 12)"
   ]
  },
  {
   "cell_type": "markdown",
   "metadata": {},
   "source": [
    "-----\n",
    "##\"TIPO_VIAG\"; \"H_SAIDA\"; \"MIN_SAIDA\"; \"ANDA_ORIG\"; \"H_CHEG\"; \"MIN_CHEG\"; \"ANDA_DEST\" e \"DURACAO\"\n",
    "Nada há que se fazer em relação aos dados das colunas \"TIPO_VIAG\"; \"H_SAIDA\"; \"MIN_SAIDA\"; \"ANDA_ORIG\"; \"H_CHEG\"; \"MIN_CHEG\"; \"ANDA_DEST\" e \"DURACAO\""
   ]
  },
  {
   "cell_type": "markdown",
   "metadata": {},
   "source": [
    "##\"TIPO_EST_AUTO\"\n",
    "Substituir valores da coluna \"TIPO_EST_AUTO\"\n",
    "\n",
    "* Substituir todos valores **1** por **5**\n",
    "* Substituir todos valores **2** por **2**\n",
    "* Substituir todos valores **3** por **2**\n",
    "* Substituir todos valores **4** por **3**\n",
    "* Substituir todos valores **5** por **5**\n",
    "* Substituir todos valores **6** por **4**\n",
    "* Substituir todos valores **7** por **1**\n",
    "\n",
    "####Categorias anteriores\n",
    "Valor|Descrição\n",
    "----|----\n",
    "1|Zona Azul / Parqímetro\n",
    "2|Estacionamento Avulso\n",
    "3|Estacionamento Mensal\n",
    "4|Estacionamento Próprio\n",
    "5|Meio-Fio / Logradouro\n",
    "6|Estacionamento Patrocinado\n",
    "7|Não estacionou\n",
    "\n",
    "####Categorias novas\n",
    "Valor|Descrição\n",
    "----|----\n",
    "0|Não Respondeu\n",
    "1|Não Estacionou\n",
    "2|Estacionamento Particular (Avulso / Mensal)\n",
    "3|Estacionamento Próprio\n",
    "4|Estacionamento Patrocinado\n",
    "5|Rua (meio fio / zona azul / zona marrom / parquímetro)\n",
    "\n",
    "[Teste: Checar se existe algum número < 0 ou > 5. Se encontrar, retornar erro indicando em qual linha.]"
   ]
  },
  {
   "cell_type": "code",
   "execution_count": null,
   "metadata": {
    "collapsed": true
   },
   "outputs": [],
   "source": [
    "if not impressao:\n",
    "    #Counting for check \"TIPO_EST_AUTO\"\n",
    "    display(od1977['TIPO_EST_AUTO'].value_counts())"
   ]
  },
  {
   "cell_type": "code",
   "execution_count": null,
   "metadata": {
    "collapsed": true
   },
   "outputs": [],
   "source": [
    "#Replacing the values 1 for 5\n",
    "od1977.loc[od1977['TIPO_EST_AUTO']==1,'TIPO_EST_AUTO'] = 5\n",
    "#Replacing the values 3 for 2\n",
    "od1977.loc[od1977['TIPO_EST_AUTO']==3,'TIPO_EST_AUTO'] = 2\n",
    "#Replacing the values 4 for 3\n",
    "od1977.loc[od1977['TIPO_EST_AUTO']==4,'TIPO_EST_AUTO'] = 3\n",
    "#Replacing the values 6 for 4\n",
    "od1977.loc[od1977['TIPO_EST_AUTO']==6,'TIPO_EST_AUTO'] = 4\n",
    "#Replacing the values 7 for 1\n",
    "od1977.loc[od1977['TIPO_EST_AUTO']==7,'TIPO_EST_AUTO'] = 1"
   ]
  },
  {
   "cell_type": "code",
   "execution_count": null,
   "metadata": {
    "collapsed": true
   },
   "outputs": [],
   "source": [
    "if not impressao:\n",
    "    #Counting \"TIPO_EST_AUTO in order to compare the values before and after the replacement\n",
    "    display(od1977['TIPO_EST_AUTO'].value_counts())"
   ]
  },
  {
   "cell_type": "code",
   "execution_count": null,
   "metadata": {
    "collapsed": true
   },
   "outputs": [],
   "source": [
    "#Verifying value interval for check - conditions: \"TIPO_EST_AUTO < 0\" and \"TIPO_EST_AUTO > 5\"\n",
    "#od1977[(od1977['TIPO_EST_AUTO']<0) | (od1977['TIPO_EST_AUTO']>5)]\n",
    "verifica_RANGE(od1977, 'TIPO_EST_AUTO', 0, 5)"
   ]
  },
  {
   "cell_type": "markdown",
   "metadata": {},
   "source": [
    "-----\n",
    "##\"VALOR_EST_AUTO\"\n",
    "Nada há que se fazer em relação à coluna \"VALOR_EST_AUTO\"."
   ]
  },
  {
   "cell_type": "code",
   "execution_count": null,
   "metadata": {
    "collapsed": false
   },
   "outputs": [],
   "source": []
  },
  {
   "cell_type": "code",
   "execution_count": null,
   "metadata": {
    "collapsed": true
   },
   "outputs": [],
   "source": []
  },
  {
   "cell_type": "code",
   "execution_count": null,
   "metadata": {
    "collapsed": true
   },
   "outputs": [],
   "source": []
  },
  {
   "cell_type": "code",
   "execution_count": null,
   "metadata": {
    "collapsed": true
   },
   "outputs": [],
   "source": []
  }
 ],
 "metadata": {
  "kernelspec": {
   "display_name": "Python 3",
   "language": "python",
   "name": "python3"
  },
  "language_info": {
   "codemirror_mode": {
    "name": "ipython",
    "version": 3
   },
   "file_extension": ".py",
   "mimetype": "text/x-python",
   "name": "python",
   "nbconvert_exporter": "python",
   "pygments_lexer": "ipython3",
   "version": "3.4.2"
  }
 },
 "nbformat": 4,
 "nbformat_minor": 0
}
